{
  "nbformat": 4,
  "nbformat_minor": 0,
  "metadata": {
    "colab": {
      "provenance": [],
      "gpuType": "T4",
      "authorship_tag": "ABX9TyPCXHRiPbl1oBwLppeWoKAw",
      "include_colab_link": true
    },
    "kernelspec": {
      "name": "python3",
      "display_name": "Python 3"
    },
    "language_info": {
      "name": "python"
    },
    "accelerator": "GPU",
    "widgets": {
      "application/vnd.jupyter.widget-state+json": {
        "b20d0b9ccc5f4440a1db39c9f16b154d": {
          "model_module": "@jupyter-widgets/controls",
          "model_name": "HBoxModel",
          "model_module_version": "1.5.0",
          "state": {
            "_dom_classes": [],
            "_model_module": "@jupyter-widgets/controls",
            "_model_module_version": "1.5.0",
            "_model_name": "HBoxModel",
            "_view_count": null,
            "_view_module": "@jupyter-widgets/controls",
            "_view_module_version": "1.5.0",
            "_view_name": "HBoxView",
            "box_style": "",
            "children": [
              "IPY_MODEL_b399ef2d4c30445b829e4c024d409ecf",
              "IPY_MODEL_6d40266147ad4b2abddd50835e9af889",
              "IPY_MODEL_4d1069edf31a411d9d396d6528e22558"
            ],
            "layout": "IPY_MODEL_bdc44d7dc5eb486fad54eec45ab2cd29"
          }
        },
        "b399ef2d4c30445b829e4c024d409ecf": {
          "model_module": "@jupyter-widgets/controls",
          "model_name": "HTMLModel",
          "model_module_version": "1.5.0",
          "state": {
            "_dom_classes": [],
            "_model_module": "@jupyter-widgets/controls",
            "_model_module_version": "1.5.0",
            "_model_name": "HTMLModel",
            "_view_count": null,
            "_view_module": "@jupyter-widgets/controls",
            "_view_module_version": "1.5.0",
            "_view_name": "HTMLView",
            "description": "",
            "description_tooltip": null,
            "layout": "IPY_MODEL_716fadfb47154badbb24e22f64528f3e",
            "placeholder": "​",
            "style": "IPY_MODEL_d627b369eea84ec298b9adb652cf2ce1",
            "value": "config.json: 100%"
          }
        },
        "6d40266147ad4b2abddd50835e9af889": {
          "model_module": "@jupyter-widgets/controls",
          "model_name": "FloatProgressModel",
          "model_module_version": "1.5.0",
          "state": {
            "_dom_classes": [],
            "_model_module": "@jupyter-widgets/controls",
            "_model_module_version": "1.5.0",
            "_model_name": "FloatProgressModel",
            "_view_count": null,
            "_view_module": "@jupyter-widgets/controls",
            "_view_module_version": "1.5.0",
            "_view_name": "ProgressView",
            "bar_style": "success",
            "description": "",
            "description_tooltip": null,
            "layout": "IPY_MODEL_285807441ab94081a93e6d7e24f5fad8",
            "max": 608,
            "min": 0,
            "orientation": "horizontal",
            "style": "IPY_MODEL_9e4f57fc715742e7ad92aaf3ea1b4b69",
            "value": 608
          }
        },
        "4d1069edf31a411d9d396d6528e22558": {
          "model_module": "@jupyter-widgets/controls",
          "model_name": "HTMLModel",
          "model_module_version": "1.5.0",
          "state": {
            "_dom_classes": [],
            "_model_module": "@jupyter-widgets/controls",
            "_model_module_version": "1.5.0",
            "_model_name": "HTMLModel",
            "_view_count": null,
            "_view_module": "@jupyter-widgets/controls",
            "_view_module_version": "1.5.0",
            "_view_name": "HTMLView",
            "description": "",
            "description_tooltip": null,
            "layout": "IPY_MODEL_87686523d1ae419b8cada32bc74a61d1",
            "placeholder": "​",
            "style": "IPY_MODEL_3a25cc52337f4af799e064693c685362",
            "value": " 608/608 [00:00&lt;00:00, 41.6kB/s]"
          }
        },
        "bdc44d7dc5eb486fad54eec45ab2cd29": {
          "model_module": "@jupyter-widgets/base",
          "model_name": "LayoutModel",
          "model_module_version": "1.2.0",
          "state": {
            "_model_module": "@jupyter-widgets/base",
            "_model_module_version": "1.2.0",
            "_model_name": "LayoutModel",
            "_view_count": null,
            "_view_module": "@jupyter-widgets/base",
            "_view_module_version": "1.2.0",
            "_view_name": "LayoutView",
            "align_content": null,
            "align_items": null,
            "align_self": null,
            "border": null,
            "bottom": null,
            "display": null,
            "flex": null,
            "flex_flow": null,
            "grid_area": null,
            "grid_auto_columns": null,
            "grid_auto_flow": null,
            "grid_auto_rows": null,
            "grid_column": null,
            "grid_gap": null,
            "grid_row": null,
            "grid_template_areas": null,
            "grid_template_columns": null,
            "grid_template_rows": null,
            "height": null,
            "justify_content": null,
            "justify_items": null,
            "left": null,
            "margin": null,
            "max_height": null,
            "max_width": null,
            "min_height": null,
            "min_width": null,
            "object_fit": null,
            "object_position": null,
            "order": null,
            "overflow": null,
            "overflow_x": null,
            "overflow_y": null,
            "padding": null,
            "right": null,
            "top": null,
            "visibility": null,
            "width": null
          }
        },
        "716fadfb47154badbb24e22f64528f3e": {
          "model_module": "@jupyter-widgets/base",
          "model_name": "LayoutModel",
          "model_module_version": "1.2.0",
          "state": {
            "_model_module": "@jupyter-widgets/base",
            "_model_module_version": "1.2.0",
            "_model_name": "LayoutModel",
            "_view_count": null,
            "_view_module": "@jupyter-widgets/base",
            "_view_module_version": "1.2.0",
            "_view_name": "LayoutView",
            "align_content": null,
            "align_items": null,
            "align_self": null,
            "border": null,
            "bottom": null,
            "display": null,
            "flex": null,
            "flex_flow": null,
            "grid_area": null,
            "grid_auto_columns": null,
            "grid_auto_flow": null,
            "grid_auto_rows": null,
            "grid_column": null,
            "grid_gap": null,
            "grid_row": null,
            "grid_template_areas": null,
            "grid_template_columns": null,
            "grid_template_rows": null,
            "height": null,
            "justify_content": null,
            "justify_items": null,
            "left": null,
            "margin": null,
            "max_height": null,
            "max_width": null,
            "min_height": null,
            "min_width": null,
            "object_fit": null,
            "object_position": null,
            "order": null,
            "overflow": null,
            "overflow_x": null,
            "overflow_y": null,
            "padding": null,
            "right": null,
            "top": null,
            "visibility": null,
            "width": null
          }
        },
        "d627b369eea84ec298b9adb652cf2ce1": {
          "model_module": "@jupyter-widgets/controls",
          "model_name": "DescriptionStyleModel",
          "model_module_version": "1.5.0",
          "state": {
            "_model_module": "@jupyter-widgets/controls",
            "_model_module_version": "1.5.0",
            "_model_name": "DescriptionStyleModel",
            "_view_count": null,
            "_view_module": "@jupyter-widgets/base",
            "_view_module_version": "1.2.0",
            "_view_name": "StyleView",
            "description_width": ""
          }
        },
        "285807441ab94081a93e6d7e24f5fad8": {
          "model_module": "@jupyter-widgets/base",
          "model_name": "LayoutModel",
          "model_module_version": "1.2.0",
          "state": {
            "_model_module": "@jupyter-widgets/base",
            "_model_module_version": "1.2.0",
            "_model_name": "LayoutModel",
            "_view_count": null,
            "_view_module": "@jupyter-widgets/base",
            "_view_module_version": "1.2.0",
            "_view_name": "LayoutView",
            "align_content": null,
            "align_items": null,
            "align_self": null,
            "border": null,
            "bottom": null,
            "display": null,
            "flex": null,
            "flex_flow": null,
            "grid_area": null,
            "grid_auto_columns": null,
            "grid_auto_flow": null,
            "grid_auto_rows": null,
            "grid_column": null,
            "grid_gap": null,
            "grid_row": null,
            "grid_template_areas": null,
            "grid_template_columns": null,
            "grid_template_rows": null,
            "height": null,
            "justify_content": null,
            "justify_items": null,
            "left": null,
            "margin": null,
            "max_height": null,
            "max_width": null,
            "min_height": null,
            "min_width": null,
            "object_fit": null,
            "object_position": null,
            "order": null,
            "overflow": null,
            "overflow_x": null,
            "overflow_y": null,
            "padding": null,
            "right": null,
            "top": null,
            "visibility": null,
            "width": null
          }
        },
        "9e4f57fc715742e7ad92aaf3ea1b4b69": {
          "model_module": "@jupyter-widgets/controls",
          "model_name": "ProgressStyleModel",
          "model_module_version": "1.5.0",
          "state": {
            "_model_module": "@jupyter-widgets/controls",
            "_model_module_version": "1.5.0",
            "_model_name": "ProgressStyleModel",
            "_view_count": null,
            "_view_module": "@jupyter-widgets/base",
            "_view_module_version": "1.2.0",
            "_view_name": "StyleView",
            "bar_color": null,
            "description_width": ""
          }
        },
        "87686523d1ae419b8cada32bc74a61d1": {
          "model_module": "@jupyter-widgets/base",
          "model_name": "LayoutModel",
          "model_module_version": "1.2.0",
          "state": {
            "_model_module": "@jupyter-widgets/base",
            "_model_module_version": "1.2.0",
            "_model_name": "LayoutModel",
            "_view_count": null,
            "_view_module": "@jupyter-widgets/base",
            "_view_module_version": "1.2.0",
            "_view_name": "LayoutView",
            "align_content": null,
            "align_items": null,
            "align_self": null,
            "border": null,
            "bottom": null,
            "display": null,
            "flex": null,
            "flex_flow": null,
            "grid_area": null,
            "grid_auto_columns": null,
            "grid_auto_flow": null,
            "grid_auto_rows": null,
            "grid_column": null,
            "grid_gap": null,
            "grid_row": null,
            "grid_template_areas": null,
            "grid_template_columns": null,
            "grid_template_rows": null,
            "height": null,
            "justify_content": null,
            "justify_items": null,
            "left": null,
            "margin": null,
            "max_height": null,
            "max_width": null,
            "min_height": null,
            "min_width": null,
            "object_fit": null,
            "object_position": null,
            "order": null,
            "overflow": null,
            "overflow_x": null,
            "overflow_y": null,
            "padding": null,
            "right": null,
            "top": null,
            "visibility": null,
            "width": null
          }
        },
        "3a25cc52337f4af799e064693c685362": {
          "model_module": "@jupyter-widgets/controls",
          "model_name": "DescriptionStyleModel",
          "model_module_version": "1.5.0",
          "state": {
            "_model_module": "@jupyter-widgets/controls",
            "_model_module_version": "1.5.0",
            "_model_name": "DescriptionStyleModel",
            "_view_count": null,
            "_view_module": "@jupyter-widgets/base",
            "_view_module_version": "1.2.0",
            "_view_name": "StyleView",
            "description_width": ""
          }
        },
        "abc8a856352c46998b8452a67e24f4dc": {
          "model_module": "@jupyter-widgets/controls",
          "model_name": "HBoxModel",
          "model_module_version": "1.5.0",
          "state": {
            "_dom_classes": [],
            "_model_module": "@jupyter-widgets/controls",
            "_model_module_version": "1.5.0",
            "_model_name": "HBoxModel",
            "_view_count": null,
            "_view_module": "@jupyter-widgets/controls",
            "_view_module_version": "1.5.0",
            "_view_name": "HBoxView",
            "box_style": "",
            "children": [
              "IPY_MODEL_324647bc9b454f3fa5d7b5268a1d42fc",
              "IPY_MODEL_1f626baef1524bd291be2a8525762f17",
              "IPY_MODEL_67030c408e60424abf67b52a3ce1e5d8"
            ],
            "layout": "IPY_MODEL_6603f73e069e42b5af22c5022fa5bc6d"
          }
        },
        "324647bc9b454f3fa5d7b5268a1d42fc": {
          "model_module": "@jupyter-widgets/controls",
          "model_name": "HTMLModel",
          "model_module_version": "1.5.0",
          "state": {
            "_dom_classes": [],
            "_model_module": "@jupyter-widgets/controls",
            "_model_module_version": "1.5.0",
            "_model_name": "HTMLModel",
            "_view_count": null,
            "_view_module": "@jupyter-widgets/controls",
            "_view_module_version": "1.5.0",
            "_view_name": "HTMLView",
            "description": "",
            "description_tooltip": null,
            "layout": "IPY_MODEL_706574a4f2104704b5ba115bf2cbac46",
            "placeholder": "​",
            "style": "IPY_MODEL_8a7a73b17c714445869e5d973fc38348",
            "value": "pytorch_model.bin: 100%"
          }
        },
        "1f626baef1524bd291be2a8525762f17": {
          "model_module": "@jupyter-widgets/controls",
          "model_name": "FloatProgressModel",
          "model_module_version": "1.5.0",
          "state": {
            "_dom_classes": [],
            "_model_module": "@jupyter-widgets/controls",
            "_model_module_version": "1.5.0",
            "_model_name": "FloatProgressModel",
            "_view_count": null,
            "_view_module": "@jupyter-widgets/controls",
            "_view_module_version": "1.5.0",
            "_view_name": "ProgressView",
            "bar_style": "success",
            "description": "",
            "description_tooltip": null,
            "layout": "IPY_MODEL_2637f98d41ed4d3aa3715aa5b47003f2",
            "max": 498676169,
            "min": 0,
            "orientation": "horizontal",
            "style": "IPY_MODEL_0eb4c687446f4ae1975d725e67ef42ea",
            "value": 498676169
          }
        },
        "67030c408e60424abf67b52a3ce1e5d8": {
          "model_module": "@jupyter-widgets/controls",
          "model_name": "HTMLModel",
          "model_module_version": "1.5.0",
          "state": {
            "_dom_classes": [],
            "_model_module": "@jupyter-widgets/controls",
            "_model_module_version": "1.5.0",
            "_model_name": "HTMLModel",
            "_view_count": null,
            "_view_module": "@jupyter-widgets/controls",
            "_view_module_version": "1.5.0",
            "_view_name": "HTMLView",
            "description": "",
            "description_tooltip": null,
            "layout": "IPY_MODEL_61e760fc393a4ff9a4c50edb3a0988cd",
            "placeholder": "​",
            "style": "IPY_MODEL_c27c45c0bae14ef48e1623791065ee2f",
            "value": " 499M/499M [00:02&lt;00:00, 222MB/s]"
          }
        },
        "6603f73e069e42b5af22c5022fa5bc6d": {
          "model_module": "@jupyter-widgets/base",
          "model_name": "LayoutModel",
          "model_module_version": "1.2.0",
          "state": {
            "_model_module": "@jupyter-widgets/base",
            "_model_module_version": "1.2.0",
            "_model_name": "LayoutModel",
            "_view_count": null,
            "_view_module": "@jupyter-widgets/base",
            "_view_module_version": "1.2.0",
            "_view_name": "LayoutView",
            "align_content": null,
            "align_items": null,
            "align_self": null,
            "border": null,
            "bottom": null,
            "display": null,
            "flex": null,
            "flex_flow": null,
            "grid_area": null,
            "grid_auto_columns": null,
            "grid_auto_flow": null,
            "grid_auto_rows": null,
            "grid_column": null,
            "grid_gap": null,
            "grid_row": null,
            "grid_template_areas": null,
            "grid_template_columns": null,
            "grid_template_rows": null,
            "height": null,
            "justify_content": null,
            "justify_items": null,
            "left": null,
            "margin": null,
            "max_height": null,
            "max_width": null,
            "min_height": null,
            "min_width": null,
            "object_fit": null,
            "object_position": null,
            "order": null,
            "overflow": null,
            "overflow_x": null,
            "overflow_y": null,
            "padding": null,
            "right": null,
            "top": null,
            "visibility": null,
            "width": null
          }
        },
        "706574a4f2104704b5ba115bf2cbac46": {
          "model_module": "@jupyter-widgets/base",
          "model_name": "LayoutModel",
          "model_module_version": "1.2.0",
          "state": {
            "_model_module": "@jupyter-widgets/base",
            "_model_module_version": "1.2.0",
            "_model_name": "LayoutModel",
            "_view_count": null,
            "_view_module": "@jupyter-widgets/base",
            "_view_module_version": "1.2.0",
            "_view_name": "LayoutView",
            "align_content": null,
            "align_items": null,
            "align_self": null,
            "border": null,
            "bottom": null,
            "display": null,
            "flex": null,
            "flex_flow": null,
            "grid_area": null,
            "grid_auto_columns": null,
            "grid_auto_flow": null,
            "grid_auto_rows": null,
            "grid_column": null,
            "grid_gap": null,
            "grid_row": null,
            "grid_template_areas": null,
            "grid_template_columns": null,
            "grid_template_rows": null,
            "height": null,
            "justify_content": null,
            "justify_items": null,
            "left": null,
            "margin": null,
            "max_height": null,
            "max_width": null,
            "min_height": null,
            "min_width": null,
            "object_fit": null,
            "object_position": null,
            "order": null,
            "overflow": null,
            "overflow_x": null,
            "overflow_y": null,
            "padding": null,
            "right": null,
            "top": null,
            "visibility": null,
            "width": null
          }
        },
        "8a7a73b17c714445869e5d973fc38348": {
          "model_module": "@jupyter-widgets/controls",
          "model_name": "DescriptionStyleModel",
          "model_module_version": "1.5.0",
          "state": {
            "_model_module": "@jupyter-widgets/controls",
            "_model_module_version": "1.5.0",
            "_model_name": "DescriptionStyleModel",
            "_view_count": null,
            "_view_module": "@jupyter-widgets/base",
            "_view_module_version": "1.2.0",
            "_view_name": "StyleView",
            "description_width": ""
          }
        },
        "2637f98d41ed4d3aa3715aa5b47003f2": {
          "model_module": "@jupyter-widgets/base",
          "model_name": "LayoutModel",
          "model_module_version": "1.2.0",
          "state": {
            "_model_module": "@jupyter-widgets/base",
            "_model_module_version": "1.2.0",
            "_model_name": "LayoutModel",
            "_view_count": null,
            "_view_module": "@jupyter-widgets/base",
            "_view_module_version": "1.2.0",
            "_view_name": "LayoutView",
            "align_content": null,
            "align_items": null,
            "align_self": null,
            "border": null,
            "bottom": null,
            "display": null,
            "flex": null,
            "flex_flow": null,
            "grid_area": null,
            "grid_auto_columns": null,
            "grid_auto_flow": null,
            "grid_auto_rows": null,
            "grid_column": null,
            "grid_gap": null,
            "grid_row": null,
            "grid_template_areas": null,
            "grid_template_columns": null,
            "grid_template_rows": null,
            "height": null,
            "justify_content": null,
            "justify_items": null,
            "left": null,
            "margin": null,
            "max_height": null,
            "max_width": null,
            "min_height": null,
            "min_width": null,
            "object_fit": null,
            "object_position": null,
            "order": null,
            "overflow": null,
            "overflow_x": null,
            "overflow_y": null,
            "padding": null,
            "right": null,
            "top": null,
            "visibility": null,
            "width": null
          }
        },
        "0eb4c687446f4ae1975d725e67ef42ea": {
          "model_module": "@jupyter-widgets/controls",
          "model_name": "ProgressStyleModel",
          "model_module_version": "1.5.0",
          "state": {
            "_model_module": "@jupyter-widgets/controls",
            "_model_module_version": "1.5.0",
            "_model_name": "ProgressStyleModel",
            "_view_count": null,
            "_view_module": "@jupyter-widgets/base",
            "_view_module_version": "1.2.0",
            "_view_name": "StyleView",
            "bar_color": null,
            "description_width": ""
          }
        },
        "61e760fc393a4ff9a4c50edb3a0988cd": {
          "model_module": "@jupyter-widgets/base",
          "model_name": "LayoutModel",
          "model_module_version": "1.2.0",
          "state": {
            "_model_module": "@jupyter-widgets/base",
            "_model_module_version": "1.2.0",
            "_model_name": "LayoutModel",
            "_view_count": null,
            "_view_module": "@jupyter-widgets/base",
            "_view_module_version": "1.2.0",
            "_view_name": "LayoutView",
            "align_content": null,
            "align_items": null,
            "align_self": null,
            "border": null,
            "bottom": null,
            "display": null,
            "flex": null,
            "flex_flow": null,
            "grid_area": null,
            "grid_auto_columns": null,
            "grid_auto_flow": null,
            "grid_auto_rows": null,
            "grid_column": null,
            "grid_gap": null,
            "grid_row": null,
            "grid_template_areas": null,
            "grid_template_columns": null,
            "grid_template_rows": null,
            "height": null,
            "justify_content": null,
            "justify_items": null,
            "left": null,
            "margin": null,
            "max_height": null,
            "max_width": null,
            "min_height": null,
            "min_width": null,
            "object_fit": null,
            "object_position": null,
            "order": null,
            "overflow": null,
            "overflow_x": null,
            "overflow_y": null,
            "padding": null,
            "right": null,
            "top": null,
            "visibility": null,
            "width": null
          }
        },
        "c27c45c0bae14ef48e1623791065ee2f": {
          "model_module": "@jupyter-widgets/controls",
          "model_name": "DescriptionStyleModel",
          "model_module_version": "1.5.0",
          "state": {
            "_model_module": "@jupyter-widgets/controls",
            "_model_module_version": "1.5.0",
            "_model_name": "DescriptionStyleModel",
            "_view_count": null,
            "_view_module": "@jupyter-widgets/base",
            "_view_module_version": "1.2.0",
            "_view_name": "StyleView",
            "description_width": ""
          }
        },
        "326c9eaf9d59400c92b47cd886de16df": {
          "model_module": "@jupyter-widgets/controls",
          "model_name": "HBoxModel",
          "model_module_version": "1.5.0",
          "state": {
            "_dom_classes": [],
            "_model_module": "@jupyter-widgets/controls",
            "_model_module_version": "1.5.0",
            "_model_name": "HBoxModel",
            "_view_count": null,
            "_view_module": "@jupyter-widgets/controls",
            "_view_module_version": "1.5.0",
            "_view_name": "HBoxView",
            "box_style": "",
            "children": [
              "IPY_MODEL_8af224c99fe2428d89d9268b1dcedaa7",
              "IPY_MODEL_0d9006469cf44c2c9839735d28fcc3d9",
              "IPY_MODEL_3020c92737794d068cbe34162ebc33de"
            ],
            "layout": "IPY_MODEL_a15c330cb98c4ac38a830d732ef544ee"
          }
        },
        "8af224c99fe2428d89d9268b1dcedaa7": {
          "model_module": "@jupyter-widgets/controls",
          "model_name": "HTMLModel",
          "model_module_version": "1.5.0",
          "state": {
            "_dom_classes": [],
            "_model_module": "@jupyter-widgets/controls",
            "_model_module_version": "1.5.0",
            "_model_name": "HTMLModel",
            "_view_count": null,
            "_view_module": "@jupyter-widgets/controls",
            "_view_module_version": "1.5.0",
            "_view_name": "HTMLView",
            "description": "",
            "description_tooltip": null,
            "layout": "IPY_MODEL_aa460f4e716e46afa25308ca7d90dc4d",
            "placeholder": "​",
            "style": "IPY_MODEL_f99da1f731b748a3b97cdd03df294aaa",
            "value": "tokenizer_config.json: 100%"
          }
        },
        "0d9006469cf44c2c9839735d28fcc3d9": {
          "model_module": "@jupyter-widgets/controls",
          "model_name": "FloatProgressModel",
          "model_module_version": "1.5.0",
          "state": {
            "_dom_classes": [],
            "_model_module": "@jupyter-widgets/controls",
            "_model_module_version": "1.5.0",
            "_model_name": "FloatProgressModel",
            "_view_count": null,
            "_view_module": "@jupyter-widgets/controls",
            "_view_module_version": "1.5.0",
            "_view_name": "ProgressView",
            "bar_style": "success",
            "description": "",
            "description_tooltip": null,
            "layout": "IPY_MODEL_68d0edbe365d48adab1e124f0986775a",
            "max": 142,
            "min": 0,
            "orientation": "horizontal",
            "style": "IPY_MODEL_be2be619da6a4528aa113bd662af8057",
            "value": 142
          }
        },
        "3020c92737794d068cbe34162ebc33de": {
          "model_module": "@jupyter-widgets/controls",
          "model_name": "HTMLModel",
          "model_module_version": "1.5.0",
          "state": {
            "_dom_classes": [],
            "_model_module": "@jupyter-widgets/controls",
            "_model_module_version": "1.5.0",
            "_model_name": "HTMLModel",
            "_view_count": null,
            "_view_module": "@jupyter-widgets/controls",
            "_view_module_version": "1.5.0",
            "_view_name": "HTMLView",
            "description": "",
            "description_tooltip": null,
            "layout": "IPY_MODEL_c0cbc05dbfb945acbbb45ee06c103a79",
            "placeholder": "​",
            "style": "IPY_MODEL_d4c1429e44d54ab8be3d57b598178ea8",
            "value": " 142/142 [00:00&lt;00:00, 7.58kB/s]"
          }
        },
        "a15c330cb98c4ac38a830d732ef544ee": {
          "model_module": "@jupyter-widgets/base",
          "model_name": "LayoutModel",
          "model_module_version": "1.2.0",
          "state": {
            "_model_module": "@jupyter-widgets/base",
            "_model_module_version": "1.2.0",
            "_model_name": "LayoutModel",
            "_view_count": null,
            "_view_module": "@jupyter-widgets/base",
            "_view_module_version": "1.2.0",
            "_view_name": "LayoutView",
            "align_content": null,
            "align_items": null,
            "align_self": null,
            "border": null,
            "bottom": null,
            "display": null,
            "flex": null,
            "flex_flow": null,
            "grid_area": null,
            "grid_auto_columns": null,
            "grid_auto_flow": null,
            "grid_auto_rows": null,
            "grid_column": null,
            "grid_gap": null,
            "grid_row": null,
            "grid_template_areas": null,
            "grid_template_columns": null,
            "grid_template_rows": null,
            "height": null,
            "justify_content": null,
            "justify_items": null,
            "left": null,
            "margin": null,
            "max_height": null,
            "max_width": null,
            "min_height": null,
            "min_width": null,
            "object_fit": null,
            "object_position": null,
            "order": null,
            "overflow": null,
            "overflow_x": null,
            "overflow_y": null,
            "padding": null,
            "right": null,
            "top": null,
            "visibility": null,
            "width": null
          }
        },
        "aa460f4e716e46afa25308ca7d90dc4d": {
          "model_module": "@jupyter-widgets/base",
          "model_name": "LayoutModel",
          "model_module_version": "1.2.0",
          "state": {
            "_model_module": "@jupyter-widgets/base",
            "_model_module_version": "1.2.0",
            "_model_name": "LayoutModel",
            "_view_count": null,
            "_view_module": "@jupyter-widgets/base",
            "_view_module_version": "1.2.0",
            "_view_name": "LayoutView",
            "align_content": null,
            "align_items": null,
            "align_self": null,
            "border": null,
            "bottom": null,
            "display": null,
            "flex": null,
            "flex_flow": null,
            "grid_area": null,
            "grid_auto_columns": null,
            "grid_auto_flow": null,
            "grid_auto_rows": null,
            "grid_column": null,
            "grid_gap": null,
            "grid_row": null,
            "grid_template_areas": null,
            "grid_template_columns": null,
            "grid_template_rows": null,
            "height": null,
            "justify_content": null,
            "justify_items": null,
            "left": null,
            "margin": null,
            "max_height": null,
            "max_width": null,
            "min_height": null,
            "min_width": null,
            "object_fit": null,
            "object_position": null,
            "order": null,
            "overflow": null,
            "overflow_x": null,
            "overflow_y": null,
            "padding": null,
            "right": null,
            "top": null,
            "visibility": null,
            "width": null
          }
        },
        "f99da1f731b748a3b97cdd03df294aaa": {
          "model_module": "@jupyter-widgets/controls",
          "model_name": "DescriptionStyleModel",
          "model_module_version": "1.5.0",
          "state": {
            "_model_module": "@jupyter-widgets/controls",
            "_model_module_version": "1.5.0",
            "_model_name": "DescriptionStyleModel",
            "_view_count": null,
            "_view_module": "@jupyter-widgets/base",
            "_view_module_version": "1.2.0",
            "_view_name": "StyleView",
            "description_width": ""
          }
        },
        "68d0edbe365d48adab1e124f0986775a": {
          "model_module": "@jupyter-widgets/base",
          "model_name": "LayoutModel",
          "model_module_version": "1.2.0",
          "state": {
            "_model_module": "@jupyter-widgets/base",
            "_model_module_version": "1.2.0",
            "_model_name": "LayoutModel",
            "_view_count": null,
            "_view_module": "@jupyter-widgets/base",
            "_view_module_version": "1.2.0",
            "_view_name": "LayoutView",
            "align_content": null,
            "align_items": null,
            "align_self": null,
            "border": null,
            "bottom": null,
            "display": null,
            "flex": null,
            "flex_flow": null,
            "grid_area": null,
            "grid_auto_columns": null,
            "grid_auto_flow": null,
            "grid_auto_rows": null,
            "grid_column": null,
            "grid_gap": null,
            "grid_row": null,
            "grid_template_areas": null,
            "grid_template_columns": null,
            "grid_template_rows": null,
            "height": null,
            "justify_content": null,
            "justify_items": null,
            "left": null,
            "margin": null,
            "max_height": null,
            "max_width": null,
            "min_height": null,
            "min_width": null,
            "object_fit": null,
            "object_position": null,
            "order": null,
            "overflow": null,
            "overflow_x": null,
            "overflow_y": null,
            "padding": null,
            "right": null,
            "top": null,
            "visibility": null,
            "width": null
          }
        },
        "be2be619da6a4528aa113bd662af8057": {
          "model_module": "@jupyter-widgets/controls",
          "model_name": "ProgressStyleModel",
          "model_module_version": "1.5.0",
          "state": {
            "_model_module": "@jupyter-widgets/controls",
            "_model_module_version": "1.5.0",
            "_model_name": "ProgressStyleModel",
            "_view_count": null,
            "_view_module": "@jupyter-widgets/base",
            "_view_module_version": "1.2.0",
            "_view_name": "StyleView",
            "bar_color": null,
            "description_width": ""
          }
        },
        "c0cbc05dbfb945acbbb45ee06c103a79": {
          "model_module": "@jupyter-widgets/base",
          "model_name": "LayoutModel",
          "model_module_version": "1.2.0",
          "state": {
            "_model_module": "@jupyter-widgets/base",
            "_model_module_version": "1.2.0",
            "_model_name": "LayoutModel",
            "_view_count": null,
            "_view_module": "@jupyter-widgets/base",
            "_view_module_version": "1.2.0",
            "_view_name": "LayoutView",
            "align_content": null,
            "align_items": null,
            "align_self": null,
            "border": null,
            "bottom": null,
            "display": null,
            "flex": null,
            "flex_flow": null,
            "grid_area": null,
            "grid_auto_columns": null,
            "grid_auto_flow": null,
            "grid_auto_rows": null,
            "grid_column": null,
            "grid_gap": null,
            "grid_row": null,
            "grid_template_areas": null,
            "grid_template_columns": null,
            "grid_template_rows": null,
            "height": null,
            "justify_content": null,
            "justify_items": null,
            "left": null,
            "margin": null,
            "max_height": null,
            "max_width": null,
            "min_height": null,
            "min_width": null,
            "object_fit": null,
            "object_position": null,
            "order": null,
            "overflow": null,
            "overflow_x": null,
            "overflow_y": null,
            "padding": null,
            "right": null,
            "top": null,
            "visibility": null,
            "width": null
          }
        },
        "d4c1429e44d54ab8be3d57b598178ea8": {
          "model_module": "@jupyter-widgets/controls",
          "model_name": "DescriptionStyleModel",
          "model_module_version": "1.5.0",
          "state": {
            "_model_module": "@jupyter-widgets/controls",
            "_model_module_version": "1.5.0",
            "_model_name": "DescriptionStyleModel",
            "_view_count": null,
            "_view_module": "@jupyter-widgets/base",
            "_view_module_version": "1.2.0",
            "_view_name": "StyleView",
            "description_width": ""
          }
        },
        "420be92250e745faa1bd4547f343d006": {
          "model_module": "@jupyter-widgets/controls",
          "model_name": "HBoxModel",
          "model_module_version": "1.5.0",
          "state": {
            "_dom_classes": [],
            "_model_module": "@jupyter-widgets/controls",
            "_model_module_version": "1.5.0",
            "_model_name": "HBoxModel",
            "_view_count": null,
            "_view_module": "@jupyter-widgets/controls",
            "_view_module_version": "1.5.0",
            "_view_name": "HBoxView",
            "box_style": "",
            "children": [
              "IPY_MODEL_ea7a13fa18624503b529c6556cbf44ac",
              "IPY_MODEL_c979ec98d3e44587a81c1026443c6c18",
              "IPY_MODEL_11ccd712bfdf4dcab8a25626bd83357b"
            ],
            "layout": "IPY_MODEL_1eb88885085b445fba91890e09a77089"
          }
        },
        "ea7a13fa18624503b529c6556cbf44ac": {
          "model_module": "@jupyter-widgets/controls",
          "model_name": "HTMLModel",
          "model_module_version": "1.5.0",
          "state": {
            "_dom_classes": [],
            "_model_module": "@jupyter-widgets/controls",
            "_model_module_version": "1.5.0",
            "_model_name": "HTMLModel",
            "_view_count": null,
            "_view_module": "@jupyter-widgets/controls",
            "_view_module_version": "1.5.0",
            "_view_name": "HTMLView",
            "description": "",
            "description_tooltip": null,
            "layout": "IPY_MODEL_37baab7e3fe74cf88fb25f1d1bf84d29",
            "placeholder": "​",
            "style": "IPY_MODEL_aee953b88cc94efbaca830d9677f1fca",
            "value": "vocab.json: 100%"
          }
        },
        "c979ec98d3e44587a81c1026443c6c18": {
          "model_module": "@jupyter-widgets/controls",
          "model_name": "FloatProgressModel",
          "model_module_version": "1.5.0",
          "state": {
            "_dom_classes": [],
            "_model_module": "@jupyter-widgets/controls",
            "_model_module_version": "1.5.0",
            "_model_name": "FloatProgressModel",
            "_view_count": null,
            "_view_module": "@jupyter-widgets/controls",
            "_view_module_version": "1.5.0",
            "_view_name": "ProgressView",
            "bar_style": "success",
            "description": "",
            "description_tooltip": null,
            "layout": "IPY_MODEL_a3408a483a564f0992cd20ed6fcfca57",
            "max": 898822,
            "min": 0,
            "orientation": "horizontal",
            "style": "IPY_MODEL_f763817b2b5e4de1bf63b01f64e35fc0",
            "value": 898822
          }
        },
        "11ccd712bfdf4dcab8a25626bd83357b": {
          "model_module": "@jupyter-widgets/controls",
          "model_name": "HTMLModel",
          "model_module_version": "1.5.0",
          "state": {
            "_dom_classes": [],
            "_model_module": "@jupyter-widgets/controls",
            "_model_module_version": "1.5.0",
            "_model_name": "HTMLModel",
            "_view_count": null,
            "_view_module": "@jupyter-widgets/controls",
            "_view_module_version": "1.5.0",
            "_view_name": "HTMLView",
            "description": "",
            "description_tooltip": null,
            "layout": "IPY_MODEL_23c100693b554b4caad52723a86c36d6",
            "placeholder": "​",
            "style": "IPY_MODEL_5103005b027646878f7a0eb24d1fe79d",
            "value": " 899k/899k [00:00&lt;00:00, 5.90MB/s]"
          }
        },
        "1eb88885085b445fba91890e09a77089": {
          "model_module": "@jupyter-widgets/base",
          "model_name": "LayoutModel",
          "model_module_version": "1.2.0",
          "state": {
            "_model_module": "@jupyter-widgets/base",
            "_model_module_version": "1.2.0",
            "_model_name": "LayoutModel",
            "_view_count": null,
            "_view_module": "@jupyter-widgets/base",
            "_view_module_version": "1.2.0",
            "_view_name": "LayoutView",
            "align_content": null,
            "align_items": null,
            "align_self": null,
            "border": null,
            "bottom": null,
            "display": null,
            "flex": null,
            "flex_flow": null,
            "grid_area": null,
            "grid_auto_columns": null,
            "grid_auto_flow": null,
            "grid_auto_rows": null,
            "grid_column": null,
            "grid_gap": null,
            "grid_row": null,
            "grid_template_areas": null,
            "grid_template_columns": null,
            "grid_template_rows": null,
            "height": null,
            "justify_content": null,
            "justify_items": null,
            "left": null,
            "margin": null,
            "max_height": null,
            "max_width": null,
            "min_height": null,
            "min_width": null,
            "object_fit": null,
            "object_position": null,
            "order": null,
            "overflow": null,
            "overflow_x": null,
            "overflow_y": null,
            "padding": null,
            "right": null,
            "top": null,
            "visibility": null,
            "width": null
          }
        },
        "37baab7e3fe74cf88fb25f1d1bf84d29": {
          "model_module": "@jupyter-widgets/base",
          "model_name": "LayoutModel",
          "model_module_version": "1.2.0",
          "state": {
            "_model_module": "@jupyter-widgets/base",
            "_model_module_version": "1.2.0",
            "_model_name": "LayoutModel",
            "_view_count": null,
            "_view_module": "@jupyter-widgets/base",
            "_view_module_version": "1.2.0",
            "_view_name": "LayoutView",
            "align_content": null,
            "align_items": null,
            "align_self": null,
            "border": null,
            "bottom": null,
            "display": null,
            "flex": null,
            "flex_flow": null,
            "grid_area": null,
            "grid_auto_columns": null,
            "grid_auto_flow": null,
            "grid_auto_rows": null,
            "grid_column": null,
            "grid_gap": null,
            "grid_row": null,
            "grid_template_areas": null,
            "grid_template_columns": null,
            "grid_template_rows": null,
            "height": null,
            "justify_content": null,
            "justify_items": null,
            "left": null,
            "margin": null,
            "max_height": null,
            "max_width": null,
            "min_height": null,
            "min_width": null,
            "object_fit": null,
            "object_position": null,
            "order": null,
            "overflow": null,
            "overflow_x": null,
            "overflow_y": null,
            "padding": null,
            "right": null,
            "top": null,
            "visibility": null,
            "width": null
          }
        },
        "aee953b88cc94efbaca830d9677f1fca": {
          "model_module": "@jupyter-widgets/controls",
          "model_name": "DescriptionStyleModel",
          "model_module_version": "1.5.0",
          "state": {
            "_model_module": "@jupyter-widgets/controls",
            "_model_module_version": "1.5.0",
            "_model_name": "DescriptionStyleModel",
            "_view_count": null,
            "_view_module": "@jupyter-widgets/base",
            "_view_module_version": "1.2.0",
            "_view_name": "StyleView",
            "description_width": ""
          }
        },
        "a3408a483a564f0992cd20ed6fcfca57": {
          "model_module": "@jupyter-widgets/base",
          "model_name": "LayoutModel",
          "model_module_version": "1.2.0",
          "state": {
            "_model_module": "@jupyter-widgets/base",
            "_model_module_version": "1.2.0",
            "_model_name": "LayoutModel",
            "_view_count": null,
            "_view_module": "@jupyter-widgets/base",
            "_view_module_version": "1.2.0",
            "_view_name": "LayoutView",
            "align_content": null,
            "align_items": null,
            "align_self": null,
            "border": null,
            "bottom": null,
            "display": null,
            "flex": null,
            "flex_flow": null,
            "grid_area": null,
            "grid_auto_columns": null,
            "grid_auto_flow": null,
            "grid_auto_rows": null,
            "grid_column": null,
            "grid_gap": null,
            "grid_row": null,
            "grid_template_areas": null,
            "grid_template_columns": null,
            "grid_template_rows": null,
            "height": null,
            "justify_content": null,
            "justify_items": null,
            "left": null,
            "margin": null,
            "max_height": null,
            "max_width": null,
            "min_height": null,
            "min_width": null,
            "object_fit": null,
            "object_position": null,
            "order": null,
            "overflow": null,
            "overflow_x": null,
            "overflow_y": null,
            "padding": null,
            "right": null,
            "top": null,
            "visibility": null,
            "width": null
          }
        },
        "f763817b2b5e4de1bf63b01f64e35fc0": {
          "model_module": "@jupyter-widgets/controls",
          "model_name": "ProgressStyleModel",
          "model_module_version": "1.5.0",
          "state": {
            "_model_module": "@jupyter-widgets/controls",
            "_model_module_version": "1.5.0",
            "_model_name": "ProgressStyleModel",
            "_view_count": null,
            "_view_module": "@jupyter-widgets/base",
            "_view_module_version": "1.2.0",
            "_view_name": "StyleView",
            "bar_color": null,
            "description_width": ""
          }
        },
        "23c100693b554b4caad52723a86c36d6": {
          "model_module": "@jupyter-widgets/base",
          "model_name": "LayoutModel",
          "model_module_version": "1.2.0",
          "state": {
            "_model_module": "@jupyter-widgets/base",
            "_model_module_version": "1.2.0",
            "_model_name": "LayoutModel",
            "_view_count": null,
            "_view_module": "@jupyter-widgets/base",
            "_view_module_version": "1.2.0",
            "_view_name": "LayoutView",
            "align_content": null,
            "align_items": null,
            "align_self": null,
            "border": null,
            "bottom": null,
            "display": null,
            "flex": null,
            "flex_flow": null,
            "grid_area": null,
            "grid_auto_columns": null,
            "grid_auto_flow": null,
            "grid_auto_rows": null,
            "grid_column": null,
            "grid_gap": null,
            "grid_row": null,
            "grid_template_areas": null,
            "grid_template_columns": null,
            "grid_template_rows": null,
            "height": null,
            "justify_content": null,
            "justify_items": null,
            "left": null,
            "margin": null,
            "max_height": null,
            "max_width": null,
            "min_height": null,
            "min_width": null,
            "object_fit": null,
            "object_position": null,
            "order": null,
            "overflow": null,
            "overflow_x": null,
            "overflow_y": null,
            "padding": null,
            "right": null,
            "top": null,
            "visibility": null,
            "width": null
          }
        },
        "5103005b027646878f7a0eb24d1fe79d": {
          "model_module": "@jupyter-widgets/controls",
          "model_name": "DescriptionStyleModel",
          "model_module_version": "1.5.0",
          "state": {
            "_model_module": "@jupyter-widgets/controls",
            "_model_module_version": "1.5.0",
            "_model_name": "DescriptionStyleModel",
            "_view_count": null,
            "_view_module": "@jupyter-widgets/base",
            "_view_module_version": "1.2.0",
            "_view_name": "StyleView",
            "description_width": ""
          }
        },
        "b8e3a571678648ab9d29325a1005d1e7": {
          "model_module": "@jupyter-widgets/controls",
          "model_name": "HBoxModel",
          "model_module_version": "1.5.0",
          "state": {
            "_dom_classes": [],
            "_model_module": "@jupyter-widgets/controls",
            "_model_module_version": "1.5.0",
            "_model_name": "HBoxModel",
            "_view_count": null,
            "_view_module": "@jupyter-widgets/controls",
            "_view_module_version": "1.5.0",
            "_view_name": "HBoxView",
            "box_style": "",
            "children": [
              "IPY_MODEL_5ad13caab3cd499b885c291251be799e",
              "IPY_MODEL_0ac3fe3f7d5142d3a18977f9c8ea76d8",
              "IPY_MODEL_c42b8b5622194d559873e0b212fd372e"
            ],
            "layout": "IPY_MODEL_5219fa40f8914cac94c2a7bbefe95f66"
          }
        },
        "5ad13caab3cd499b885c291251be799e": {
          "model_module": "@jupyter-widgets/controls",
          "model_name": "HTMLModel",
          "model_module_version": "1.5.0",
          "state": {
            "_dom_classes": [],
            "_model_module": "@jupyter-widgets/controls",
            "_model_module_version": "1.5.0",
            "_model_name": "HTMLModel",
            "_view_count": null,
            "_view_module": "@jupyter-widgets/controls",
            "_view_module_version": "1.5.0",
            "_view_name": "HTMLView",
            "description": "",
            "description_tooltip": null,
            "layout": "IPY_MODEL_85714b7098f04a5089ad33a78448726a",
            "placeholder": "​",
            "style": "IPY_MODEL_91acd23c7476471b8cd0a07932d8cc1d",
            "value": "merges.txt: 100%"
          }
        },
        "0ac3fe3f7d5142d3a18977f9c8ea76d8": {
          "model_module": "@jupyter-widgets/controls",
          "model_name": "FloatProgressModel",
          "model_module_version": "1.5.0",
          "state": {
            "_dom_classes": [],
            "_model_module": "@jupyter-widgets/controls",
            "_model_module_version": "1.5.0",
            "_model_name": "FloatProgressModel",
            "_view_count": null,
            "_view_module": "@jupyter-widgets/controls",
            "_view_module_version": "1.5.0",
            "_view_name": "ProgressView",
            "bar_style": "success",
            "description": "",
            "description_tooltip": null,
            "layout": "IPY_MODEL_b9139aa6937d403baa5697ab8cd39f7d",
            "max": 456318,
            "min": 0,
            "orientation": "horizontal",
            "style": "IPY_MODEL_497e692d870b4f0c98a4cb570dd674fd",
            "value": 456318
          }
        },
        "c42b8b5622194d559873e0b212fd372e": {
          "model_module": "@jupyter-widgets/controls",
          "model_name": "HTMLModel",
          "model_module_version": "1.5.0",
          "state": {
            "_dom_classes": [],
            "_model_module": "@jupyter-widgets/controls",
            "_model_module_version": "1.5.0",
            "_model_name": "HTMLModel",
            "_view_count": null,
            "_view_module": "@jupyter-widgets/controls",
            "_view_module_version": "1.5.0",
            "_view_name": "HTMLView",
            "description": "",
            "description_tooltip": null,
            "layout": "IPY_MODEL_b49b80032db44c4e8d9104415dfcd3c5",
            "placeholder": "​",
            "style": "IPY_MODEL_243be4bf334446e5a43a8d43e0696569",
            "value": " 456k/456k [00:00&lt;00:00, 17.7MB/s]"
          }
        },
        "5219fa40f8914cac94c2a7bbefe95f66": {
          "model_module": "@jupyter-widgets/base",
          "model_name": "LayoutModel",
          "model_module_version": "1.2.0",
          "state": {
            "_model_module": "@jupyter-widgets/base",
            "_model_module_version": "1.2.0",
            "_model_name": "LayoutModel",
            "_view_count": null,
            "_view_module": "@jupyter-widgets/base",
            "_view_module_version": "1.2.0",
            "_view_name": "LayoutView",
            "align_content": null,
            "align_items": null,
            "align_self": null,
            "border": null,
            "bottom": null,
            "display": null,
            "flex": null,
            "flex_flow": null,
            "grid_area": null,
            "grid_auto_columns": null,
            "grid_auto_flow": null,
            "grid_auto_rows": null,
            "grid_column": null,
            "grid_gap": null,
            "grid_row": null,
            "grid_template_areas": null,
            "grid_template_columns": null,
            "grid_template_rows": null,
            "height": null,
            "justify_content": null,
            "justify_items": null,
            "left": null,
            "margin": null,
            "max_height": null,
            "max_width": null,
            "min_height": null,
            "min_width": null,
            "object_fit": null,
            "object_position": null,
            "order": null,
            "overflow": null,
            "overflow_x": null,
            "overflow_y": null,
            "padding": null,
            "right": null,
            "top": null,
            "visibility": null,
            "width": null
          }
        },
        "85714b7098f04a5089ad33a78448726a": {
          "model_module": "@jupyter-widgets/base",
          "model_name": "LayoutModel",
          "model_module_version": "1.2.0",
          "state": {
            "_model_module": "@jupyter-widgets/base",
            "_model_module_version": "1.2.0",
            "_model_name": "LayoutModel",
            "_view_count": null,
            "_view_module": "@jupyter-widgets/base",
            "_view_module_version": "1.2.0",
            "_view_name": "LayoutView",
            "align_content": null,
            "align_items": null,
            "align_self": null,
            "border": null,
            "bottom": null,
            "display": null,
            "flex": null,
            "flex_flow": null,
            "grid_area": null,
            "grid_auto_columns": null,
            "grid_auto_flow": null,
            "grid_auto_rows": null,
            "grid_column": null,
            "grid_gap": null,
            "grid_row": null,
            "grid_template_areas": null,
            "grid_template_columns": null,
            "grid_template_rows": null,
            "height": null,
            "justify_content": null,
            "justify_items": null,
            "left": null,
            "margin": null,
            "max_height": null,
            "max_width": null,
            "min_height": null,
            "min_width": null,
            "object_fit": null,
            "object_position": null,
            "order": null,
            "overflow": null,
            "overflow_x": null,
            "overflow_y": null,
            "padding": null,
            "right": null,
            "top": null,
            "visibility": null,
            "width": null
          }
        },
        "91acd23c7476471b8cd0a07932d8cc1d": {
          "model_module": "@jupyter-widgets/controls",
          "model_name": "DescriptionStyleModel",
          "model_module_version": "1.5.0",
          "state": {
            "_model_module": "@jupyter-widgets/controls",
            "_model_module_version": "1.5.0",
            "_model_name": "DescriptionStyleModel",
            "_view_count": null,
            "_view_module": "@jupyter-widgets/base",
            "_view_module_version": "1.2.0",
            "_view_name": "StyleView",
            "description_width": ""
          }
        },
        "b9139aa6937d403baa5697ab8cd39f7d": {
          "model_module": "@jupyter-widgets/base",
          "model_name": "LayoutModel",
          "model_module_version": "1.2.0",
          "state": {
            "_model_module": "@jupyter-widgets/base",
            "_model_module_version": "1.2.0",
            "_model_name": "LayoutModel",
            "_view_count": null,
            "_view_module": "@jupyter-widgets/base",
            "_view_module_version": "1.2.0",
            "_view_name": "LayoutView",
            "align_content": null,
            "align_items": null,
            "align_self": null,
            "border": null,
            "bottom": null,
            "display": null,
            "flex": null,
            "flex_flow": null,
            "grid_area": null,
            "grid_auto_columns": null,
            "grid_auto_flow": null,
            "grid_auto_rows": null,
            "grid_column": null,
            "grid_gap": null,
            "grid_row": null,
            "grid_template_areas": null,
            "grid_template_columns": null,
            "grid_template_rows": null,
            "height": null,
            "justify_content": null,
            "justify_items": null,
            "left": null,
            "margin": null,
            "max_height": null,
            "max_width": null,
            "min_height": null,
            "min_width": null,
            "object_fit": null,
            "object_position": null,
            "order": null,
            "overflow": null,
            "overflow_x": null,
            "overflow_y": null,
            "padding": null,
            "right": null,
            "top": null,
            "visibility": null,
            "width": null
          }
        },
        "497e692d870b4f0c98a4cb570dd674fd": {
          "model_module": "@jupyter-widgets/controls",
          "model_name": "ProgressStyleModel",
          "model_module_version": "1.5.0",
          "state": {
            "_model_module": "@jupyter-widgets/controls",
            "_model_module_version": "1.5.0",
            "_model_name": "ProgressStyleModel",
            "_view_count": null,
            "_view_module": "@jupyter-widgets/base",
            "_view_module_version": "1.2.0",
            "_view_name": "StyleView",
            "bar_color": null,
            "description_width": ""
          }
        },
        "b49b80032db44c4e8d9104415dfcd3c5": {
          "model_module": "@jupyter-widgets/base",
          "model_name": "LayoutModel",
          "model_module_version": "1.2.0",
          "state": {
            "_model_module": "@jupyter-widgets/base",
            "_model_module_version": "1.2.0",
            "_model_name": "LayoutModel",
            "_view_count": null,
            "_view_module": "@jupyter-widgets/base",
            "_view_module_version": "1.2.0",
            "_view_name": "LayoutView",
            "align_content": null,
            "align_items": null,
            "align_self": null,
            "border": null,
            "bottom": null,
            "display": null,
            "flex": null,
            "flex_flow": null,
            "grid_area": null,
            "grid_auto_columns": null,
            "grid_auto_flow": null,
            "grid_auto_rows": null,
            "grid_column": null,
            "grid_gap": null,
            "grid_row": null,
            "grid_template_areas": null,
            "grid_template_columns": null,
            "grid_template_rows": null,
            "height": null,
            "justify_content": null,
            "justify_items": null,
            "left": null,
            "margin": null,
            "max_height": null,
            "max_width": null,
            "min_height": null,
            "min_width": null,
            "object_fit": null,
            "object_position": null,
            "order": null,
            "overflow": null,
            "overflow_x": null,
            "overflow_y": null,
            "padding": null,
            "right": null,
            "top": null,
            "visibility": null,
            "width": null
          }
        },
        "243be4bf334446e5a43a8d43e0696569": {
          "model_module": "@jupyter-widgets/controls",
          "model_name": "DescriptionStyleModel",
          "model_module_version": "1.5.0",
          "state": {
            "_model_module": "@jupyter-widgets/controls",
            "_model_module_version": "1.5.0",
            "_model_name": "DescriptionStyleModel",
            "_view_count": null,
            "_view_module": "@jupyter-widgets/base",
            "_view_module_version": "1.2.0",
            "_view_name": "StyleView",
            "description_width": ""
          }
        },
        "a3379f6b2fc64bd781f807f7fd903187": {
          "model_module": "@jupyter-widgets/controls",
          "model_name": "HBoxModel",
          "model_module_version": "1.5.0",
          "state": {
            "_dom_classes": [],
            "_model_module": "@jupyter-widgets/controls",
            "_model_module_version": "1.5.0",
            "_model_name": "HBoxModel",
            "_view_count": null,
            "_view_module": "@jupyter-widgets/controls",
            "_view_module_version": "1.5.0",
            "_view_name": "HBoxView",
            "box_style": "",
            "children": [
              "IPY_MODEL_fecc69c6ba96499883a421e946cb7d3a",
              "IPY_MODEL_4632e269504c4f1eb352ab9e42d55b09",
              "IPY_MODEL_a8b8183e0e324e158c18430f801f9d62"
            ],
            "layout": "IPY_MODEL_56564e1d1ae944c2aaf2c16ebcdb1fd3"
          }
        },
        "fecc69c6ba96499883a421e946cb7d3a": {
          "model_module": "@jupyter-widgets/controls",
          "model_name": "HTMLModel",
          "model_module_version": "1.5.0",
          "state": {
            "_dom_classes": [],
            "_model_module": "@jupyter-widgets/controls",
            "_model_module_version": "1.5.0",
            "_model_name": "HTMLModel",
            "_view_count": null,
            "_view_module": "@jupyter-widgets/controls",
            "_view_module_version": "1.5.0",
            "_view_name": "HTMLView",
            "description": "",
            "description_tooltip": null,
            "layout": "IPY_MODEL_9404160b78d84e0d992a078af656bc02",
            "placeholder": "​",
            "style": "IPY_MODEL_24ca612f1c024a20a52e9d5ca26a6d6a",
            "value": "special_tokens_map.json: 100%"
          }
        },
        "4632e269504c4f1eb352ab9e42d55b09": {
          "model_module": "@jupyter-widgets/controls",
          "model_name": "FloatProgressModel",
          "model_module_version": "1.5.0",
          "state": {
            "_dom_classes": [],
            "_model_module": "@jupyter-widgets/controls",
            "_model_module_version": "1.5.0",
            "_model_name": "FloatProgressModel",
            "_view_count": null,
            "_view_module": "@jupyter-widgets/controls",
            "_view_module_version": "1.5.0",
            "_view_name": "ProgressView",
            "bar_style": "success",
            "description": "",
            "description_tooltip": null,
            "layout": "IPY_MODEL_cef9c4891f6d4030929ac572d970e6c5",
            "max": 772,
            "min": 0,
            "orientation": "horizontal",
            "style": "IPY_MODEL_322066615ca0448385e57eb7f45b0740",
            "value": 772
          }
        },
        "a8b8183e0e324e158c18430f801f9d62": {
          "model_module": "@jupyter-widgets/controls",
          "model_name": "HTMLModel",
          "model_module_version": "1.5.0",
          "state": {
            "_dom_classes": [],
            "_model_module": "@jupyter-widgets/controls",
            "_model_module_version": "1.5.0",
            "_model_name": "HTMLModel",
            "_view_count": null,
            "_view_module": "@jupyter-widgets/controls",
            "_view_module_version": "1.5.0",
            "_view_name": "HTMLView",
            "description": "",
            "description_tooltip": null,
            "layout": "IPY_MODEL_3ec786b360504cfdb946636bc5f33d77",
            "placeholder": "​",
            "style": "IPY_MODEL_6f65cd71e0f84b5e93bfde3599ed3fc5",
            "value": " 772/772 [00:00&lt;00:00, 13.3kB/s]"
          }
        },
        "56564e1d1ae944c2aaf2c16ebcdb1fd3": {
          "model_module": "@jupyter-widgets/base",
          "model_name": "LayoutModel",
          "model_module_version": "1.2.0",
          "state": {
            "_model_module": "@jupyter-widgets/base",
            "_model_module_version": "1.2.0",
            "_model_name": "LayoutModel",
            "_view_count": null,
            "_view_module": "@jupyter-widgets/base",
            "_view_module_version": "1.2.0",
            "_view_name": "LayoutView",
            "align_content": null,
            "align_items": null,
            "align_self": null,
            "border": null,
            "bottom": null,
            "display": null,
            "flex": null,
            "flex_flow": null,
            "grid_area": null,
            "grid_auto_columns": null,
            "grid_auto_flow": null,
            "grid_auto_rows": null,
            "grid_column": null,
            "grid_gap": null,
            "grid_row": null,
            "grid_template_areas": null,
            "grid_template_columns": null,
            "grid_template_rows": null,
            "height": null,
            "justify_content": null,
            "justify_items": null,
            "left": null,
            "margin": null,
            "max_height": null,
            "max_width": null,
            "min_height": null,
            "min_width": null,
            "object_fit": null,
            "object_position": null,
            "order": null,
            "overflow": null,
            "overflow_x": null,
            "overflow_y": null,
            "padding": null,
            "right": null,
            "top": null,
            "visibility": null,
            "width": null
          }
        },
        "9404160b78d84e0d992a078af656bc02": {
          "model_module": "@jupyter-widgets/base",
          "model_name": "LayoutModel",
          "model_module_version": "1.2.0",
          "state": {
            "_model_module": "@jupyter-widgets/base",
            "_model_module_version": "1.2.0",
            "_model_name": "LayoutModel",
            "_view_count": null,
            "_view_module": "@jupyter-widgets/base",
            "_view_module_version": "1.2.0",
            "_view_name": "LayoutView",
            "align_content": null,
            "align_items": null,
            "align_self": null,
            "border": null,
            "bottom": null,
            "display": null,
            "flex": null,
            "flex_flow": null,
            "grid_area": null,
            "grid_auto_columns": null,
            "grid_auto_flow": null,
            "grid_auto_rows": null,
            "grid_column": null,
            "grid_gap": null,
            "grid_row": null,
            "grid_template_areas": null,
            "grid_template_columns": null,
            "grid_template_rows": null,
            "height": null,
            "justify_content": null,
            "justify_items": null,
            "left": null,
            "margin": null,
            "max_height": null,
            "max_width": null,
            "min_height": null,
            "min_width": null,
            "object_fit": null,
            "object_position": null,
            "order": null,
            "overflow": null,
            "overflow_x": null,
            "overflow_y": null,
            "padding": null,
            "right": null,
            "top": null,
            "visibility": null,
            "width": null
          }
        },
        "24ca612f1c024a20a52e9d5ca26a6d6a": {
          "model_module": "@jupyter-widgets/controls",
          "model_name": "DescriptionStyleModel",
          "model_module_version": "1.5.0",
          "state": {
            "_model_module": "@jupyter-widgets/controls",
            "_model_module_version": "1.5.0",
            "_model_name": "DescriptionStyleModel",
            "_view_count": null,
            "_view_module": "@jupyter-widgets/base",
            "_view_module_version": "1.2.0",
            "_view_name": "StyleView",
            "description_width": ""
          }
        },
        "cef9c4891f6d4030929ac572d970e6c5": {
          "model_module": "@jupyter-widgets/base",
          "model_name": "LayoutModel",
          "model_module_version": "1.2.0",
          "state": {
            "_model_module": "@jupyter-widgets/base",
            "_model_module_version": "1.2.0",
            "_model_name": "LayoutModel",
            "_view_count": null,
            "_view_module": "@jupyter-widgets/base",
            "_view_module_version": "1.2.0",
            "_view_name": "LayoutView",
            "align_content": null,
            "align_items": null,
            "align_self": null,
            "border": null,
            "bottom": null,
            "display": null,
            "flex": null,
            "flex_flow": null,
            "grid_area": null,
            "grid_auto_columns": null,
            "grid_auto_flow": null,
            "grid_auto_rows": null,
            "grid_column": null,
            "grid_gap": null,
            "grid_row": null,
            "grid_template_areas": null,
            "grid_template_columns": null,
            "grid_template_rows": null,
            "height": null,
            "justify_content": null,
            "justify_items": null,
            "left": null,
            "margin": null,
            "max_height": null,
            "max_width": null,
            "min_height": null,
            "min_width": null,
            "object_fit": null,
            "object_position": null,
            "order": null,
            "overflow": null,
            "overflow_x": null,
            "overflow_y": null,
            "padding": null,
            "right": null,
            "top": null,
            "visibility": null,
            "width": null
          }
        },
        "322066615ca0448385e57eb7f45b0740": {
          "model_module": "@jupyter-widgets/controls",
          "model_name": "ProgressStyleModel",
          "model_module_version": "1.5.0",
          "state": {
            "_model_module": "@jupyter-widgets/controls",
            "_model_module_version": "1.5.0",
            "_model_name": "ProgressStyleModel",
            "_view_count": null,
            "_view_module": "@jupyter-widgets/base",
            "_view_module_version": "1.2.0",
            "_view_name": "StyleView",
            "bar_color": null,
            "description_width": ""
          }
        },
        "3ec786b360504cfdb946636bc5f33d77": {
          "model_module": "@jupyter-widgets/base",
          "model_name": "LayoutModel",
          "model_module_version": "1.2.0",
          "state": {
            "_model_module": "@jupyter-widgets/base",
            "_model_module_version": "1.2.0",
            "_model_name": "LayoutModel",
            "_view_count": null,
            "_view_module": "@jupyter-widgets/base",
            "_view_module_version": "1.2.0",
            "_view_name": "LayoutView",
            "align_content": null,
            "align_items": null,
            "align_self": null,
            "border": null,
            "bottom": null,
            "display": null,
            "flex": null,
            "flex_flow": null,
            "grid_area": null,
            "grid_auto_columns": null,
            "grid_auto_flow": null,
            "grid_auto_rows": null,
            "grid_column": null,
            "grid_gap": null,
            "grid_row": null,
            "grid_template_areas": null,
            "grid_template_columns": null,
            "grid_template_rows": null,
            "height": null,
            "justify_content": null,
            "justify_items": null,
            "left": null,
            "margin": null,
            "max_height": null,
            "max_width": null,
            "min_height": null,
            "min_width": null,
            "object_fit": null,
            "object_position": null,
            "order": null,
            "overflow": null,
            "overflow_x": null,
            "overflow_y": null,
            "padding": null,
            "right": null,
            "top": null,
            "visibility": null,
            "width": null
          }
        },
        "6f65cd71e0f84b5e93bfde3599ed3fc5": {
          "model_module": "@jupyter-widgets/controls",
          "model_name": "DescriptionStyleModel",
          "model_module_version": "1.5.0",
          "state": {
            "_model_module": "@jupyter-widgets/controls",
            "_model_module_version": "1.5.0",
            "_model_name": "DescriptionStyleModel",
            "_view_count": null,
            "_view_module": "@jupyter-widgets/base",
            "_view_module_version": "1.2.0",
            "_view_name": "StyleView",
            "description_width": ""
          }
        }
      }
    }
  },
  "cells": [
    {
      "cell_type": "markdown",
      "metadata": {
        "id": "view-in-github",
        "colab_type": "text"
      },
      "source": [
        "<a href=\"https://colab.research.google.com/github/Dharshan4038/Invoice_Purchase_Order_Match/blob/main/final_inv_po.ipynb\" target=\"_parent\"><img src=\"https://colab.research.google.com/assets/colab-badge.svg\" alt=\"Open In Colab\"/></a>"
      ]
    },
    {
      "cell_type": "code",
      "execution_count": 2,
      "metadata": {
        "colab": {
          "base_uri": "https://localhost:8080/"
        },
        "id": "8TsWf0Naz06c",
        "outputId": "9b6117ee-3b1e-4070-8e67-75d6fe9e1dad"
      },
      "outputs": [
        {
          "output_type": "stream",
          "name": "stdout",
          "text": [
            "Collecting sentence_transformers\n",
            "  Downloading sentence_transformers-3.1.1-py3-none-any.whl.metadata (10 kB)\n",
            "Requirement already satisfied: transformers in /usr/local/lib/python3.10/dist-packages (4.44.2)\n",
            "Collecting datasets\n",
            "  Downloading datasets-3.0.1-py3-none-any.whl.metadata (20 kB)\n",
            "Requirement already satisfied: tqdm in /usr/local/lib/python3.10/dist-packages (from sentence_transformers) (4.66.5)\n",
            "Requirement already satisfied: torch>=1.11.0 in /usr/local/lib/python3.10/dist-packages (from sentence_transformers) (2.4.1+cu121)\n",
            "Requirement already satisfied: scikit-learn in /usr/local/lib/python3.10/dist-packages (from sentence_transformers) (1.5.2)\n",
            "Requirement already satisfied: scipy in /usr/local/lib/python3.10/dist-packages (from sentence_transformers) (1.13.1)\n",
            "Requirement already satisfied: huggingface-hub>=0.19.3 in /usr/local/lib/python3.10/dist-packages (from sentence_transformers) (0.24.7)\n",
            "Requirement already satisfied: Pillow in /usr/local/lib/python3.10/dist-packages (from sentence_transformers) (10.4.0)\n",
            "Requirement already satisfied: filelock in /usr/local/lib/python3.10/dist-packages (from transformers) (3.16.1)\n",
            "Requirement already satisfied: numpy>=1.17 in /usr/local/lib/python3.10/dist-packages (from transformers) (1.26.4)\n",
            "Requirement already satisfied: packaging>=20.0 in /usr/local/lib/python3.10/dist-packages (from transformers) (24.1)\n",
            "Requirement already satisfied: pyyaml>=5.1 in /usr/local/lib/python3.10/dist-packages (from transformers) (6.0.2)\n",
            "Requirement already satisfied: regex!=2019.12.17 in /usr/local/lib/python3.10/dist-packages (from transformers) (2024.9.11)\n",
            "Requirement already satisfied: requests in /usr/local/lib/python3.10/dist-packages (from transformers) (2.32.3)\n",
            "Requirement already satisfied: safetensors>=0.4.1 in /usr/local/lib/python3.10/dist-packages (from transformers) (0.4.5)\n",
            "Requirement already satisfied: tokenizers<0.20,>=0.19 in /usr/local/lib/python3.10/dist-packages (from transformers) (0.19.1)\n",
            "Requirement already satisfied: pyarrow>=15.0.0 in /usr/local/lib/python3.10/dist-packages (from datasets) (16.1.0)\n",
            "Collecting dill<0.3.9,>=0.3.0 (from datasets)\n",
            "  Downloading dill-0.3.8-py3-none-any.whl.metadata (10 kB)\n",
            "Requirement already satisfied: pandas in /usr/local/lib/python3.10/dist-packages (from datasets) (2.2.2)\n",
            "Collecting xxhash (from datasets)\n",
            "  Downloading xxhash-3.5.0-cp310-cp310-manylinux_2_17_x86_64.manylinux2014_x86_64.whl.metadata (12 kB)\n",
            "Collecting multiprocess (from datasets)\n",
            "  Downloading multiprocess-0.70.17-py310-none-any.whl.metadata (7.2 kB)\n",
            "Requirement already satisfied: fsspec<=2024.6.1,>=2023.1.0 in /usr/local/lib/python3.10/dist-packages (from fsspec[http]<=2024.6.1,>=2023.1.0->datasets) (2024.6.1)\n",
            "Requirement already satisfied: aiohttp in /usr/local/lib/python3.10/dist-packages (from datasets) (3.10.8)\n",
            "Requirement already satisfied: aiohappyeyeballs>=2.3.0 in /usr/local/lib/python3.10/dist-packages (from aiohttp->datasets) (2.4.3)\n",
            "Requirement already satisfied: aiosignal>=1.1.2 in /usr/local/lib/python3.10/dist-packages (from aiohttp->datasets) (1.3.1)\n",
            "Requirement already satisfied: attrs>=17.3.0 in /usr/local/lib/python3.10/dist-packages (from aiohttp->datasets) (24.2.0)\n",
            "Requirement already satisfied: frozenlist>=1.1.1 in /usr/local/lib/python3.10/dist-packages (from aiohttp->datasets) (1.4.1)\n",
            "Requirement already satisfied: multidict<7.0,>=4.5 in /usr/local/lib/python3.10/dist-packages (from aiohttp->datasets) (6.1.0)\n",
            "Requirement already satisfied: yarl<2.0,>=1.12.0 in /usr/local/lib/python3.10/dist-packages (from aiohttp->datasets) (1.13.1)\n",
            "Requirement already satisfied: async-timeout<5.0,>=4.0 in /usr/local/lib/python3.10/dist-packages (from aiohttp->datasets) (4.0.3)\n",
            "Requirement already satisfied: typing-extensions>=3.7.4.3 in /usr/local/lib/python3.10/dist-packages (from huggingface-hub>=0.19.3->sentence_transformers) (4.12.2)\n",
            "Requirement already satisfied: charset-normalizer<4,>=2 in /usr/local/lib/python3.10/dist-packages (from requests->transformers) (3.3.2)\n",
            "Requirement already satisfied: idna<4,>=2.5 in /usr/local/lib/python3.10/dist-packages (from requests->transformers) (3.10)\n",
            "Requirement already satisfied: urllib3<3,>=1.21.1 in /usr/local/lib/python3.10/dist-packages (from requests->transformers) (2.2.3)\n",
            "Requirement already satisfied: certifi>=2017.4.17 in /usr/local/lib/python3.10/dist-packages (from requests->transformers) (2024.8.30)\n",
            "Requirement already satisfied: sympy in /usr/local/lib/python3.10/dist-packages (from torch>=1.11.0->sentence_transformers) (1.13.3)\n",
            "Requirement already satisfied: networkx in /usr/local/lib/python3.10/dist-packages (from torch>=1.11.0->sentence_transformers) (3.3)\n",
            "Requirement already satisfied: jinja2 in /usr/local/lib/python3.10/dist-packages (from torch>=1.11.0->sentence_transformers) (3.1.4)\n",
            "INFO: pip is looking at multiple versions of multiprocess to determine which version is compatible with other requirements. This could take a while.\n",
            "  Downloading multiprocess-0.70.16-py310-none-any.whl.metadata (7.2 kB)\n",
            "Requirement already satisfied: python-dateutil>=2.8.2 in /usr/local/lib/python3.10/dist-packages (from pandas->datasets) (2.8.2)\n",
            "Requirement already satisfied: pytz>=2020.1 in /usr/local/lib/python3.10/dist-packages (from pandas->datasets) (2024.2)\n",
            "Requirement already satisfied: tzdata>=2022.7 in /usr/local/lib/python3.10/dist-packages (from pandas->datasets) (2024.2)\n",
            "Requirement already satisfied: joblib>=1.2.0 in /usr/local/lib/python3.10/dist-packages (from scikit-learn->sentence_transformers) (1.4.2)\n",
            "Requirement already satisfied: threadpoolctl>=3.1.0 in /usr/local/lib/python3.10/dist-packages (from scikit-learn->sentence_transformers) (3.5.0)\n",
            "Requirement already satisfied: six>=1.5 in /usr/local/lib/python3.10/dist-packages (from python-dateutil>=2.8.2->pandas->datasets) (1.16.0)\n",
            "Requirement already satisfied: MarkupSafe>=2.0 in /usr/local/lib/python3.10/dist-packages (from jinja2->torch>=1.11.0->sentence_transformers) (2.1.5)\n",
            "Requirement already satisfied: mpmath<1.4,>=1.1.0 in /usr/local/lib/python3.10/dist-packages (from sympy->torch>=1.11.0->sentence_transformers) (1.3.0)\n",
            "Downloading sentence_transformers-3.1.1-py3-none-any.whl (245 kB)\n",
            "\u001b[2K   \u001b[90m━━━━━━━━━━━━━━━━━━━━━━━━━━━━━━━━━━━━━━━━\u001b[0m \u001b[32m245.3/245.3 kB\u001b[0m \u001b[31m7.5 MB/s\u001b[0m eta \u001b[36m0:00:00\u001b[0m\n",
            "\u001b[?25hDownloading datasets-3.0.1-py3-none-any.whl (471 kB)\n",
            "\u001b[2K   \u001b[90m━━━━━━━━━━━━━━━━━━━━━━━━━━━━━━━━━━━━━━━━\u001b[0m \u001b[32m471.6/471.6 kB\u001b[0m \u001b[31m27.6 MB/s\u001b[0m eta \u001b[36m0:00:00\u001b[0m\n",
            "\u001b[?25hDownloading dill-0.3.8-py3-none-any.whl (116 kB)\n",
            "\u001b[2K   \u001b[90m━━━━━━━━━━━━━━━━━━━━━━━━━━━━━━━━━━━━━━━━\u001b[0m \u001b[32m116.3/116.3 kB\u001b[0m \u001b[31m9.0 MB/s\u001b[0m eta \u001b[36m0:00:00\u001b[0m\n",
            "\u001b[?25hDownloading multiprocess-0.70.16-py310-none-any.whl (134 kB)\n",
            "\u001b[2K   \u001b[90m━━━━━━━━━━━━━━━━━━━━━━━━━━━━━━━━━━━━━━━━\u001b[0m \u001b[32m134.8/134.8 kB\u001b[0m \u001b[31m11.3 MB/s\u001b[0m eta \u001b[36m0:00:00\u001b[0m\n",
            "\u001b[?25hDownloading xxhash-3.5.0-cp310-cp310-manylinux_2_17_x86_64.manylinux2014_x86_64.whl (194 kB)\n",
            "\u001b[2K   \u001b[90m━━━━━━━━━━━━━━━━━━━━━━━━━━━━━━━━━━━━━━━━\u001b[0m \u001b[32m194.1/194.1 kB\u001b[0m \u001b[31m15.0 MB/s\u001b[0m eta \u001b[36m0:00:00\u001b[0m\n",
            "\u001b[?25hInstalling collected packages: xxhash, dill, multiprocess, sentence_transformers, datasets\n",
            "Successfully installed datasets-3.0.1 dill-0.3.8 multiprocess-0.70.16 sentence_transformers-3.1.1 xxhash-3.5.0\n"
          ]
        }
      ],
      "source": [
        "!pip install sentence_transformers transformers datasets"
      ]
    },
    {
      "cell_type": "code",
      "source": [
        "import pandas as pd\n",
        "import torch\n",
        "import numpy as np\n",
        "from torch.utils.data import DataLoader\n",
        "from sklearn.metrics import accuracy_score, precision_score, recall_score, f1_score, roc_auc_score\n",
        "from sentence_transformers import CrossEncoder, InputExample\n",
        "from transformers import AutoTokenizer\n",
        "from sklearn.model_selection import train_test_split\n",
        "from torch.optim import AdamW\n",
        "from transformers import Trainer, TrainingArguments\n",
        "from torch import nn"
      ],
      "metadata": {
        "colab": {
          "base_uri": "https://localhost:8080/"
        },
        "id": "a13RZlCO1L5d",
        "outputId": "b6370090-de7b-44ed-ff9c-7dacf065da8b"
      },
      "execution_count": 3,
      "outputs": [
        {
          "output_type": "stream",
          "name": "stderr",
          "text": [
            "/usr/local/lib/python3.10/dist-packages/sentence_transformers/cross_encoder/CrossEncoder.py:13: TqdmExperimentalWarning: Using `tqdm.autonotebook.tqdm` in notebook mode. Use `tqdm.tqdm` instead to force console mode (e.g. in jupyter console)\n",
            "  from tqdm.autonotebook import tqdm, trange\n"
          ]
        }
      ]
    },
    {
      "cell_type": "code",
      "source": [
        "df = pd.read_csv('/content/drive/MyDrive/Invoice_PO_Match/validation_formatted 1.csv')\n",
        "df.head()"
      ],
      "metadata": {
        "colab": {
          "base_uri": "https://localhost:8080/",
          "height": 293
        },
        "id": "sKKbSDcP2apj",
        "outputId": "b89d6990-35b8-4a51-fa41-dc6a551c4f34"
      },
      "execution_count": 4,
      "outputs": [
        {
          "output_type": "execute_result",
          "data": {
            "text/plain": [
              "     invoice_id                                       invoice_desc  \\\n",
              "0  INV-49266647  ['25103 ICE CREAM MANGO SORBETTO TRAY', 'ICE C...   \n",
              "1  INV-49266660  ['ICE CREAM GELATO MACKINAC FDGE 3/5LT', 'ICE ...   \n",
              "2  INV-49266724  ['Scotch-Brite Quick Clean Griddle Liquid 700-...   \n",
              "3  INV-49267382  ['Jersey Mikes Mini Wheat Sub', 'Jersey Mikes'...   \n",
              "4  INV-49267510  ['CASES BEEF GRND CHUCK PATTY 4oz', '14 CASES ...   \n",
              "\n",
              "                                        PO_line_desc  \\\n",
              "0  ['ICE CREAM MANGO SORBETTO TRAY', 'ICE CREAM G...   \n",
              "1  ['ICE CREAM GELATO MACKINAC FDGE', 'ICE CREAM ...   \n",
              "2  ['CLEANER GRL QUICKCLEAN PCKT', 'PAD SCOUR COM...   \n",
              "3  ['ROLL MINI WHEAT SUB', 'ROLL MINI WHT SUB', '...   \n",
              "4  ['BEEF GRND CHUCK PATTY 4OZ', 'BEEF GRND THICK...   \n",
              "\n",
              "                                        true_mapping  \n",
              "0  [{'25103 ICE CREAM MANGO SORBETTO TRAY': 'ICE ...  \n",
              "1  [{'ICE CREAM GELATO MACKINAC FDGE 3/5LT': 'ICE...  \n",
              "2  [{'Scotch-Brite Quick Clean Griddle Liquid 700...  \n",
              "3  [{'Jersey Mikes Mini Wheat Sub': 'ROLL MINI WH...  \n",
              "4  [{'CASES BEEF GRND CHUCK PATTY 4oz': 'BEEF GRN...  "
            ],
            "text/html": [
              "\n",
              "  <div id=\"df-c3873fc7-1e2d-41ed-b477-da117174b9af\" class=\"colab-df-container\">\n",
              "    <div>\n",
              "<style scoped>\n",
              "    .dataframe tbody tr th:only-of-type {\n",
              "        vertical-align: middle;\n",
              "    }\n",
              "\n",
              "    .dataframe tbody tr th {\n",
              "        vertical-align: top;\n",
              "    }\n",
              "\n",
              "    .dataframe thead th {\n",
              "        text-align: right;\n",
              "    }\n",
              "</style>\n",
              "<table border=\"1\" class=\"dataframe\">\n",
              "  <thead>\n",
              "    <tr style=\"text-align: right;\">\n",
              "      <th></th>\n",
              "      <th>invoice_id</th>\n",
              "      <th>invoice_desc</th>\n",
              "      <th>PO_line_desc</th>\n",
              "      <th>true_mapping</th>\n",
              "    </tr>\n",
              "  </thead>\n",
              "  <tbody>\n",
              "    <tr>\n",
              "      <th>0</th>\n",
              "      <td>INV-49266647</td>\n",
              "      <td>['25103 ICE CREAM MANGO SORBETTO TRAY', 'ICE C...</td>\n",
              "      <td>['ICE CREAM MANGO SORBETTO TRAY', 'ICE CREAM G...</td>\n",
              "      <td>[{'25103 ICE CREAM MANGO SORBETTO TRAY': 'ICE ...</td>\n",
              "    </tr>\n",
              "    <tr>\n",
              "      <th>1</th>\n",
              "      <td>INV-49266660</td>\n",
              "      <td>['ICE CREAM GELATO MACKINAC FDGE 3/5LT', 'ICE ...</td>\n",
              "      <td>['ICE CREAM GELATO MACKINAC FDGE', 'ICE CREAM ...</td>\n",
              "      <td>[{'ICE CREAM GELATO MACKINAC FDGE 3/5LT': 'ICE...</td>\n",
              "    </tr>\n",
              "    <tr>\n",
              "      <th>2</th>\n",
              "      <td>INV-49266724</td>\n",
              "      <td>['Scotch-Brite Quick Clean Griddle Liquid 700-...</td>\n",
              "      <td>['CLEANER GRL QUICKCLEAN PCKT', 'PAD SCOUR COM...</td>\n",
              "      <td>[{'Scotch-Brite Quick Clean Griddle Liquid 700...</td>\n",
              "    </tr>\n",
              "    <tr>\n",
              "      <th>3</th>\n",
              "      <td>INV-49267382</td>\n",
              "      <td>['Jersey Mikes Mini Wheat Sub', 'Jersey Mikes'...</td>\n",
              "      <td>['ROLL MINI WHEAT SUB', 'ROLL MINI WHT SUB', '...</td>\n",
              "      <td>[{'Jersey Mikes Mini Wheat Sub': 'ROLL MINI WH...</td>\n",
              "    </tr>\n",
              "    <tr>\n",
              "      <th>4</th>\n",
              "      <td>INV-49267510</td>\n",
              "      <td>['CASES BEEF GRND CHUCK PATTY 4oz', '14 CASES ...</td>\n",
              "      <td>['BEEF GRND CHUCK PATTY 4OZ', 'BEEF GRND THICK...</td>\n",
              "      <td>[{'CASES BEEF GRND CHUCK PATTY 4oz': 'BEEF GRN...</td>\n",
              "    </tr>\n",
              "  </tbody>\n",
              "</table>\n",
              "</div>\n",
              "    <div class=\"colab-df-buttons\">\n",
              "\n",
              "  <div class=\"colab-df-container\">\n",
              "    <button class=\"colab-df-convert\" onclick=\"convertToInteractive('df-c3873fc7-1e2d-41ed-b477-da117174b9af')\"\n",
              "            title=\"Convert this dataframe to an interactive table.\"\n",
              "            style=\"display:none;\">\n",
              "\n",
              "  <svg xmlns=\"http://www.w3.org/2000/svg\" height=\"24px\" viewBox=\"0 -960 960 960\">\n",
              "    <path d=\"M120-120v-720h720v720H120Zm60-500h600v-160H180v160Zm220 220h160v-160H400v160Zm0 220h160v-160H400v160ZM180-400h160v-160H180v160Zm440 0h160v-160H620v160ZM180-180h160v-160H180v160Zm440 0h160v-160H620v160Z\"/>\n",
              "  </svg>\n",
              "    </button>\n",
              "\n",
              "  <style>\n",
              "    .colab-df-container {\n",
              "      display:flex;\n",
              "      gap: 12px;\n",
              "    }\n",
              "\n",
              "    .colab-df-convert {\n",
              "      background-color: #E8F0FE;\n",
              "      border: none;\n",
              "      border-radius: 50%;\n",
              "      cursor: pointer;\n",
              "      display: none;\n",
              "      fill: #1967D2;\n",
              "      height: 32px;\n",
              "      padding: 0 0 0 0;\n",
              "      width: 32px;\n",
              "    }\n",
              "\n",
              "    .colab-df-convert:hover {\n",
              "      background-color: #E2EBFA;\n",
              "      box-shadow: 0px 1px 2px rgba(60, 64, 67, 0.3), 0px 1px 3px 1px rgba(60, 64, 67, 0.15);\n",
              "      fill: #174EA6;\n",
              "    }\n",
              "\n",
              "    .colab-df-buttons div {\n",
              "      margin-bottom: 4px;\n",
              "    }\n",
              "\n",
              "    [theme=dark] .colab-df-convert {\n",
              "      background-color: #3B4455;\n",
              "      fill: #D2E3FC;\n",
              "    }\n",
              "\n",
              "    [theme=dark] .colab-df-convert:hover {\n",
              "      background-color: #434B5C;\n",
              "      box-shadow: 0px 1px 3px 1px rgba(0, 0, 0, 0.15);\n",
              "      filter: drop-shadow(0px 1px 2px rgba(0, 0, 0, 0.3));\n",
              "      fill: #FFFFFF;\n",
              "    }\n",
              "  </style>\n",
              "\n",
              "    <script>\n",
              "      const buttonEl =\n",
              "        document.querySelector('#df-c3873fc7-1e2d-41ed-b477-da117174b9af button.colab-df-convert');\n",
              "      buttonEl.style.display =\n",
              "        google.colab.kernel.accessAllowed ? 'block' : 'none';\n",
              "\n",
              "      async function convertToInteractive(key) {\n",
              "        const element = document.querySelector('#df-c3873fc7-1e2d-41ed-b477-da117174b9af');\n",
              "        const dataTable =\n",
              "          await google.colab.kernel.invokeFunction('convertToInteractive',\n",
              "                                                    [key], {});\n",
              "        if (!dataTable) return;\n",
              "\n",
              "        const docLinkHtml = 'Like what you see? Visit the ' +\n",
              "          '<a target=\"_blank\" href=https://colab.research.google.com/notebooks/data_table.ipynb>data table notebook</a>'\n",
              "          + ' to learn more about interactive tables.';\n",
              "        element.innerHTML = '';\n",
              "        dataTable['output_type'] = 'display_data';\n",
              "        await google.colab.output.renderOutput(dataTable, element);\n",
              "        const docLink = document.createElement('div');\n",
              "        docLink.innerHTML = docLinkHtml;\n",
              "        element.appendChild(docLink);\n",
              "      }\n",
              "    </script>\n",
              "  </div>\n",
              "\n",
              "\n",
              "<div id=\"df-9d210b43-71b6-4614-a35f-a7bb2011ecf7\">\n",
              "  <button class=\"colab-df-quickchart\" onclick=\"quickchart('df-9d210b43-71b6-4614-a35f-a7bb2011ecf7')\"\n",
              "            title=\"Suggest charts\"\n",
              "            style=\"display:none;\">\n",
              "\n",
              "<svg xmlns=\"http://www.w3.org/2000/svg\" height=\"24px\"viewBox=\"0 0 24 24\"\n",
              "     width=\"24px\">\n",
              "    <g>\n",
              "        <path d=\"M19 3H5c-1.1 0-2 .9-2 2v14c0 1.1.9 2 2 2h14c1.1 0 2-.9 2-2V5c0-1.1-.9-2-2-2zM9 17H7v-7h2v7zm4 0h-2V7h2v10zm4 0h-2v-4h2v4z\"/>\n",
              "    </g>\n",
              "</svg>\n",
              "  </button>\n",
              "\n",
              "<style>\n",
              "  .colab-df-quickchart {\n",
              "      --bg-color: #E8F0FE;\n",
              "      --fill-color: #1967D2;\n",
              "      --hover-bg-color: #E2EBFA;\n",
              "      --hover-fill-color: #174EA6;\n",
              "      --disabled-fill-color: #AAA;\n",
              "      --disabled-bg-color: #DDD;\n",
              "  }\n",
              "\n",
              "  [theme=dark] .colab-df-quickchart {\n",
              "      --bg-color: #3B4455;\n",
              "      --fill-color: #D2E3FC;\n",
              "      --hover-bg-color: #434B5C;\n",
              "      --hover-fill-color: #FFFFFF;\n",
              "      --disabled-bg-color: #3B4455;\n",
              "      --disabled-fill-color: #666;\n",
              "  }\n",
              "\n",
              "  .colab-df-quickchart {\n",
              "    background-color: var(--bg-color);\n",
              "    border: none;\n",
              "    border-radius: 50%;\n",
              "    cursor: pointer;\n",
              "    display: none;\n",
              "    fill: var(--fill-color);\n",
              "    height: 32px;\n",
              "    padding: 0;\n",
              "    width: 32px;\n",
              "  }\n",
              "\n",
              "  .colab-df-quickchart:hover {\n",
              "    background-color: var(--hover-bg-color);\n",
              "    box-shadow: 0 1px 2px rgba(60, 64, 67, 0.3), 0 1px 3px 1px rgba(60, 64, 67, 0.15);\n",
              "    fill: var(--button-hover-fill-color);\n",
              "  }\n",
              "\n",
              "  .colab-df-quickchart-complete:disabled,\n",
              "  .colab-df-quickchart-complete:disabled:hover {\n",
              "    background-color: var(--disabled-bg-color);\n",
              "    fill: var(--disabled-fill-color);\n",
              "    box-shadow: none;\n",
              "  }\n",
              "\n",
              "  .colab-df-spinner {\n",
              "    border: 2px solid var(--fill-color);\n",
              "    border-color: transparent;\n",
              "    border-bottom-color: var(--fill-color);\n",
              "    animation:\n",
              "      spin 1s steps(1) infinite;\n",
              "  }\n",
              "\n",
              "  @keyframes spin {\n",
              "    0% {\n",
              "      border-color: transparent;\n",
              "      border-bottom-color: var(--fill-color);\n",
              "      border-left-color: var(--fill-color);\n",
              "    }\n",
              "    20% {\n",
              "      border-color: transparent;\n",
              "      border-left-color: var(--fill-color);\n",
              "      border-top-color: var(--fill-color);\n",
              "    }\n",
              "    30% {\n",
              "      border-color: transparent;\n",
              "      border-left-color: var(--fill-color);\n",
              "      border-top-color: var(--fill-color);\n",
              "      border-right-color: var(--fill-color);\n",
              "    }\n",
              "    40% {\n",
              "      border-color: transparent;\n",
              "      border-right-color: var(--fill-color);\n",
              "      border-top-color: var(--fill-color);\n",
              "    }\n",
              "    60% {\n",
              "      border-color: transparent;\n",
              "      border-right-color: var(--fill-color);\n",
              "    }\n",
              "    80% {\n",
              "      border-color: transparent;\n",
              "      border-right-color: var(--fill-color);\n",
              "      border-bottom-color: var(--fill-color);\n",
              "    }\n",
              "    90% {\n",
              "      border-color: transparent;\n",
              "      border-bottom-color: var(--fill-color);\n",
              "    }\n",
              "  }\n",
              "</style>\n",
              "\n",
              "  <script>\n",
              "    async function quickchart(key) {\n",
              "      const quickchartButtonEl =\n",
              "        document.querySelector('#' + key + ' button');\n",
              "      quickchartButtonEl.disabled = true;  // To prevent multiple clicks.\n",
              "      quickchartButtonEl.classList.add('colab-df-spinner');\n",
              "      try {\n",
              "        const charts = await google.colab.kernel.invokeFunction(\n",
              "            'suggestCharts', [key], {});\n",
              "      } catch (error) {\n",
              "        console.error('Error during call to suggestCharts:', error);\n",
              "      }\n",
              "      quickchartButtonEl.classList.remove('colab-df-spinner');\n",
              "      quickchartButtonEl.classList.add('colab-df-quickchart-complete');\n",
              "    }\n",
              "    (() => {\n",
              "      let quickchartButtonEl =\n",
              "        document.querySelector('#df-9d210b43-71b6-4614-a35f-a7bb2011ecf7 button');\n",
              "      quickchartButtonEl.style.display =\n",
              "        google.colab.kernel.accessAllowed ? 'block' : 'none';\n",
              "    })();\n",
              "  </script>\n",
              "</div>\n",
              "\n",
              "    </div>\n",
              "  </div>\n"
            ],
            "application/vnd.google.colaboratory.intrinsic+json": {
              "type": "dataframe",
              "variable_name": "df",
              "summary": "{\n  \"name\": \"df\",\n  \"rows\": 946,\n  \"fields\": [\n    {\n      \"column\": \"invoice_id\",\n      \"properties\": {\n        \"dtype\": \"string\",\n        \"num_unique_values\": 946,\n        \"samples\": [\n          \"INV-49789628\",\n          \"INV-49281661\",\n          \"INV-50227628\"\n        ],\n        \"semantic_type\": \"\",\n        \"description\": \"\"\n      }\n    },\n    {\n      \"column\": \"invoice_desc\",\n      \"properties\": {\n        \"dtype\": \"string\",\n        \"num_unique_values\": 830,\n        \"samples\": [\n          \"['HALIBUT FLETCH SKIN-ON MEIERS FRESH -', 'SALMON FIL SKON 4-5 TIGHT TRIM - Canada']\",\n          \"['Dough Pizza 10in Hnd Tssed Lg', 'Dough Pizza Indiv Famous Thin', 'Dough Pizza Small Famous Thin', 'Dough Pizza Thick 14in New', 'Meatball Beef & Pork Preck Rnd', 'Pizza Crust Cauliflower 10', '-Sausage Ital Family Recipe Top']\",\n          \"['BRANZINO BFLY 8-10 OZ', 'HALIBUT H&G 10-20#', 'HAMACHI FIL S/ON', 'OYSTER IN SHELL BBQ', 'OYSTER EASTERN INSHELL', 'SALMON ATL FLT 3-4#S/ON', 'SALMON ATL FLT 3-4#S/L', 'SALMON ATL PRTN 5OZ', 'SALMON FIL SKON D-TRIM', 'TUNA AHI #1 C/C LOIN']\"\n        ],\n        \"semantic_type\": \"\",\n        \"description\": \"\"\n      }\n    },\n    {\n      \"column\": \"PO_line_desc\",\n      \"properties\": {\n        \"dtype\": \"string\",\n        \"num_unique_values\": 777,\n        \"samples\": [\n          \"['HALIBUT FILET FRSH', 'HALIBUT FLETCH SKON MEIERS', 'MIX SOUP HONDASHI', 'SALMON ATL WHL FRSH 14-16#', 'SALMON FIL SCOTTISH SCALED', 'SALMON WHL KNG ORA', 'SAUCE MIRIN WINE', 'SEASONING RICE FURIKAKE', 'SPICE WASABI PWDR W/WASABITS', 'VINEGAR RICE SHIRAGIKU']\",\n          \"['SALMON ATLANTIC D TRIM PBO', 'SALMON ATL FIL SKLS 3-4# PREM', 'SALMON ATL FIL 2-3 E TRIM']\",\n          \"['CHEESE MARIACHI SPICE MIX', 'CHEESE PROVOLONE SHRD', 'CHEESE ROMANO OREGANO BLEND', 'HAM SLI CKD', 'PEPPERONI SLICED', 'SALAMI HARD SLI']\"\n        ],\n        \"semantic_type\": \"\",\n        \"description\": \"\"\n      }\n    },\n    {\n      \"column\": \"true_mapping\",\n      \"properties\": {\n        \"dtype\": \"string\",\n        \"num_unique_values\": 830,\n        \"samples\": [\n          \"[{'HALIBUT FLETCH SKIN-ON MEIERS FRESH -': 'HALIBUT FLETCH SKON MEIERS'}, {'SALMON FIL SKON 4-5 TIGHT TRIM - Canada': 'SALMON FIL SKON 4-5 TIGHT TRIM'}]\",\n          \"[{'Dough Pizza 10in Hnd Tssed Lg': 'DOUGH PIZZA 10IN HND TSSED LG'}, {'Dough Pizza Indiv Famous Thin': 'DOUGH PIZZA INDIV FAMOUS THIN'}, {'Dough Pizza Small Famous Thin': 'DOUGH PIZZA SMALL FAMOUS THIN'}, {'Dough Pizza Thick 14in New': 'DOUGH PIZZA THICK 14IN NEW'}, {'Meatball Beef & Pork Preck Rnd': 'MEATBALL BEEF & PORK PRECK RND'}, {'Pizza Crust Cauliflower 10': 'PIZZA CRUST CAULIFLOWER 10'}, {'-Sausage Ital Family Recipe Top': 'SAUSAGE ITAL FAMILY RECIPE TOP'}]\",\n          \"[{'BRANZINO BFLY 8-10 OZ': 'BASS SEA BFLY BRANZINO 8-10 OZ'}, {'HALIBUT H&G 10-20#': 'HALIBUT WHL FRSH 10-20#'}, {'HAMACHI FIL S/ON': 'HAMACHI FILET S/ON YELLOWTAIL'}, {'OYSTER IN SHELL BBQ': 'OYSTER INSHELL BBQ SHELL XLG'}, {'OYSTER EASTERN INSHELL': 'OYSTER INSHELL BLUEPOINT'}, {'SALMON ATL FLT 3-4#S/ON': 'SALMON ATL FIL D-TRIM 3-4# CHL'}, {'SALMON ATL FLT 3-4#S/L': 'SALMON ATL FIL E-TRIM 3-4# CHL'}, {'SALMON ATL PRTN 5OZ': 'SALMON ATL PRTN 5OZ FRESH'}, {'SALMON FIL SKON D-TRIM': 'SALMON FIL SKON D-TRIM'}, {'TUNA AHI #1 C/C LOIN': 'TUNA LOIN #1 C/C SKLS BLO'}]\"\n        ],\n        \"semantic_type\": \"\",\n        \"description\": \"\"\n      }\n    }\n  ]\n}"
            }
          },
          "metadata": {},
          "execution_count": 4
        }
      ]
    },
    {
      "cell_type": "code",
      "source": [
        "invoice = df[\"invoice_desc\"]\n",
        "purchase_order = df[\"PO_line_desc\"]\n",
        "true_mapping = df[\"true_mapping\"]"
      ],
      "metadata": {
        "id": "d_RhBM7S2k-p"
      },
      "execution_count": 5,
      "outputs": []
    },
    {
      "cell_type": "code",
      "source": [
        "import ast\n",
        "for i in range(len(invoice)):\n",
        "    invoice[i] = ast.literal_eval(invoice[i])\n",
        "    purchase_order[i] = ast.literal_eval(purchase_order[i])\n",
        "    true_mapping[i] = eval(true_mapping[i])"
      ],
      "metadata": {
        "id": "B8uq6Q8O2pyp"
      },
      "execution_count": 6,
      "outputs": []
    },
    {
      "cell_type": "code",
      "source": [
        "# Create a DataFrame with all possible invoice/purchase order pairs\n",
        "final_data = []\n",
        "for invoice_list, po_list, mapping in zip(invoice, purchase_order, true_mapping):\n",
        "    mapping_dict = {list(d.keys())[0]: list(d.values())[0] for d in mapping}\n",
        "    for invoice in invoice_list:\n",
        "        for po in po_list:\n",
        "            label = 1 if mapping_dict.get(invoice) == po else 0\n",
        "            final_data.append([invoice, po, label])"
      ],
      "metadata": {
        "id": "5LBG27e52r2a"
      },
      "execution_count": 7,
      "outputs": []
    },
    {
      "cell_type": "code",
      "source": [
        "df = pd.DataFrame(final_data, columns=['Invoice', 'Purchase Order', 'Label'])"
      ],
      "metadata": {
        "id": "gTNP0vRZ2tQb"
      },
      "execution_count": 8,
      "outputs": []
    },
    {
      "cell_type": "code",
      "source": [
        "train_df, val_df = train_test_split(df, test_size=0.2, random_state=42)"
      ],
      "metadata": {
        "id": "eYneLBCE2vO5"
      },
      "execution_count": 9,
      "outputs": []
    },
    {
      "cell_type": "code",
      "source": [
        "model_name = \"cross-encoder/stsb-roberta-base\"\n",
        "cross_encoder = CrossEncoder(model_name, num_labels=1)"
      ],
      "metadata": {
        "colab": {
          "base_uri": "https://localhost:8080/",
          "height": 368,
          "referenced_widgets": [
            "b20d0b9ccc5f4440a1db39c9f16b154d",
            "b399ef2d4c30445b829e4c024d409ecf",
            "6d40266147ad4b2abddd50835e9af889",
            "4d1069edf31a411d9d396d6528e22558",
            "bdc44d7dc5eb486fad54eec45ab2cd29",
            "716fadfb47154badbb24e22f64528f3e",
            "d627b369eea84ec298b9adb652cf2ce1",
            "285807441ab94081a93e6d7e24f5fad8",
            "9e4f57fc715742e7ad92aaf3ea1b4b69",
            "87686523d1ae419b8cada32bc74a61d1",
            "3a25cc52337f4af799e064693c685362",
            "abc8a856352c46998b8452a67e24f4dc",
            "324647bc9b454f3fa5d7b5268a1d42fc",
            "1f626baef1524bd291be2a8525762f17",
            "67030c408e60424abf67b52a3ce1e5d8",
            "6603f73e069e42b5af22c5022fa5bc6d",
            "706574a4f2104704b5ba115bf2cbac46",
            "8a7a73b17c714445869e5d973fc38348",
            "2637f98d41ed4d3aa3715aa5b47003f2",
            "0eb4c687446f4ae1975d725e67ef42ea",
            "61e760fc393a4ff9a4c50edb3a0988cd",
            "c27c45c0bae14ef48e1623791065ee2f",
            "326c9eaf9d59400c92b47cd886de16df",
            "8af224c99fe2428d89d9268b1dcedaa7",
            "0d9006469cf44c2c9839735d28fcc3d9",
            "3020c92737794d068cbe34162ebc33de",
            "a15c330cb98c4ac38a830d732ef544ee",
            "aa460f4e716e46afa25308ca7d90dc4d",
            "f99da1f731b748a3b97cdd03df294aaa",
            "68d0edbe365d48adab1e124f0986775a",
            "be2be619da6a4528aa113bd662af8057",
            "c0cbc05dbfb945acbbb45ee06c103a79",
            "d4c1429e44d54ab8be3d57b598178ea8",
            "420be92250e745faa1bd4547f343d006",
            "ea7a13fa18624503b529c6556cbf44ac",
            "c979ec98d3e44587a81c1026443c6c18",
            "11ccd712bfdf4dcab8a25626bd83357b",
            "1eb88885085b445fba91890e09a77089",
            "37baab7e3fe74cf88fb25f1d1bf84d29",
            "aee953b88cc94efbaca830d9677f1fca",
            "a3408a483a564f0992cd20ed6fcfca57",
            "f763817b2b5e4de1bf63b01f64e35fc0",
            "23c100693b554b4caad52723a86c36d6",
            "5103005b027646878f7a0eb24d1fe79d",
            "b8e3a571678648ab9d29325a1005d1e7",
            "5ad13caab3cd499b885c291251be799e",
            "0ac3fe3f7d5142d3a18977f9c8ea76d8",
            "c42b8b5622194d559873e0b212fd372e",
            "5219fa40f8914cac94c2a7bbefe95f66",
            "85714b7098f04a5089ad33a78448726a",
            "91acd23c7476471b8cd0a07932d8cc1d",
            "b9139aa6937d403baa5697ab8cd39f7d",
            "497e692d870b4f0c98a4cb570dd674fd",
            "b49b80032db44c4e8d9104415dfcd3c5",
            "243be4bf334446e5a43a8d43e0696569",
            "a3379f6b2fc64bd781f807f7fd903187",
            "fecc69c6ba96499883a421e946cb7d3a",
            "4632e269504c4f1eb352ab9e42d55b09",
            "a8b8183e0e324e158c18430f801f9d62",
            "56564e1d1ae944c2aaf2c16ebcdb1fd3",
            "9404160b78d84e0d992a078af656bc02",
            "24ca612f1c024a20a52e9d5ca26a6d6a",
            "cef9c4891f6d4030929ac572d970e6c5",
            "322066615ca0448385e57eb7f45b0740",
            "3ec786b360504cfdb946636bc5f33d77",
            "6f65cd71e0f84b5e93bfde3599ed3fc5"
          ]
        },
        "id": "HbDV1Xwt2wwa",
        "outputId": "10142474-fd2b-41d2-eb79-ce74dce4688f"
      },
      "execution_count": 10,
      "outputs": [
        {
          "output_type": "stream",
          "name": "stderr",
          "text": [
            "/usr/local/lib/python3.10/dist-packages/huggingface_hub/utils/_token.py:89: UserWarning: \n",
            "The secret `HF_TOKEN` does not exist in your Colab secrets.\n",
            "To authenticate with the Hugging Face Hub, create a token in your settings tab (https://huggingface.co/settings/tokens), set it as secret in your Google Colab and restart your session.\n",
            "You will be able to reuse this secret in all of your notebooks.\n",
            "Please note that authentication is recommended but still optional to access public models or datasets.\n",
            "  warnings.warn(\n"
          ]
        },
        {
          "output_type": "display_data",
          "data": {
            "text/plain": [
              "config.json:   0%|          | 0.00/608 [00:00<?, ?B/s]"
            ],
            "application/vnd.jupyter.widget-view+json": {
              "version_major": 2,
              "version_minor": 0,
              "model_id": "b20d0b9ccc5f4440a1db39c9f16b154d"
            }
          },
          "metadata": {}
        },
        {
          "output_type": "display_data",
          "data": {
            "text/plain": [
              "pytorch_model.bin:   0%|          | 0.00/499M [00:00<?, ?B/s]"
            ],
            "application/vnd.jupyter.widget-view+json": {
              "version_major": 2,
              "version_minor": 0,
              "model_id": "abc8a856352c46998b8452a67e24f4dc"
            }
          },
          "metadata": {}
        },
        {
          "output_type": "display_data",
          "data": {
            "text/plain": [
              "tokenizer_config.json:   0%|          | 0.00/142 [00:00<?, ?B/s]"
            ],
            "application/vnd.jupyter.widget-view+json": {
              "version_major": 2,
              "version_minor": 0,
              "model_id": "326c9eaf9d59400c92b47cd886de16df"
            }
          },
          "metadata": {}
        },
        {
          "output_type": "display_data",
          "data": {
            "text/plain": [
              "vocab.json:   0%|          | 0.00/899k [00:00<?, ?B/s]"
            ],
            "application/vnd.jupyter.widget-view+json": {
              "version_major": 2,
              "version_minor": 0,
              "model_id": "420be92250e745faa1bd4547f343d006"
            }
          },
          "metadata": {}
        },
        {
          "output_type": "display_data",
          "data": {
            "text/plain": [
              "merges.txt:   0%|          | 0.00/456k [00:00<?, ?B/s]"
            ],
            "application/vnd.jupyter.widget-view+json": {
              "version_major": 2,
              "version_minor": 0,
              "model_id": "b8e3a571678648ab9d29325a1005d1e7"
            }
          },
          "metadata": {}
        },
        {
          "output_type": "display_data",
          "data": {
            "text/plain": [
              "special_tokens_map.json:   0%|          | 0.00/772 [00:00<?, ?B/s]"
            ],
            "application/vnd.jupyter.widget-view+json": {
              "version_major": 2,
              "version_minor": 0,
              "model_id": "a3379f6b2fc64bd781f807f7fd903187"
            }
          },
          "metadata": {}
        },
        {
          "output_type": "stream",
          "name": "stderr",
          "text": [
            "/usr/local/lib/python3.10/dist-packages/transformers/tokenization_utils_base.py:1601: FutureWarning: `clean_up_tokenization_spaces` was not set. It will be set to `True` by default. This behavior will be depracted in transformers v4.45, and will be then set to `False` by default. For more details check this issue: https://github.com/huggingface/transformers/issues/31884\n",
            "  warnings.warn(\n"
          ]
        }
      ]
    },
    {
      "cell_type": "code",
      "source": [
        "# Tokenizer for the CrossEncoder model\n",
        "tokenizer = AutoTokenizer.from_pretrained(model_name)\n",
        "\n",
        "# Prepare the data for InputExample format\n",
        "train_examples = [InputExample(texts=[row['Invoice'], row['Purchase Order']], label=row['Label']) for _, row in train_df.iterrows()]\n",
        "val_examples = [InputExample(texts=[row['Invoice'], row['Purchase Order']], label=row['Label']) for _, row in val_df.iterrows()]"
      ],
      "metadata": {
        "id": "d4uJnseU27Uk"
      },
      "execution_count": 11,
      "outputs": []
    },
    {
      "cell_type": "code",
      "source": [
        "# Define a custom data collator\n",
        "from torch.nn.utils.rnn import pad_sequence\n",
        "\n",
        "# Custom collate function to handle padding in the DataLoader\n",
        "def custom_collate_fn(batch):\n",
        "    input_ids = [item['input_ids'] for item in batch]\n",
        "    attention_mask = [item['attention_mask'] for item in batch]\n",
        "\n",
        "    # Pad the input_ids and attention_mask sequences to the longest sequence in the batch\n",
        "    padded_input_ids = pad_sequence(input_ids, batch_first=True, padding_value=tokenizer.pad_token_id)\n",
        "    padded_attention_mask = pad_sequence(attention_mask, batch_first=True, padding_value=0)\n",
        "\n",
        "    invoice_idxs = torch.tensor([item['invoice_idx'] for item in batch])\n",
        "    po_idxs = torch.tensor([item['po_idx'] for item in batch])\n",
        "\n",
        "    return {\n",
        "        \"input_ids\": padded_input_ids,\n",
        "        \"attention_mask\": padded_attention_mask,\n",
        "        \"invoice_idx\": invoice_idxs,\n",
        "        \"po_idx\": po_idxs\n",
        "    }"
      ],
      "metadata": {
        "id": "luqBH6GE2-Sz"
      },
      "execution_count": 60,
      "outputs": []
    },
    {
      "cell_type": "code",
      "source": [
        "# Define class weights (adjust for class imbalance)\n",
        "class_counts = df['Label'].value_counts()\n",
        "total_samples = len(df)\n",
        "class_weights = [total_samples / class_counts[0], total_samples / class_counts[1]]\n",
        "class_weights = torch.tensor(class_weights).to(cross_encoder.model.device)"
      ],
      "metadata": {
        "id": "wC49JIyd3ARv"
      },
      "execution_count": 13,
      "outputs": []
    },
    {
      "cell_type": "code",
      "source": [
        "class_weights"
      ],
      "metadata": {
        "colab": {
          "base_uri": "https://localhost:8080/"
        },
        "id": "QCSwYzi23COe",
        "outputId": "4b1bd5e2-ef63-4ac5-d0d2-2d334b505e8c"
      },
      "execution_count": 14,
      "outputs": [
        {
          "output_type": "execute_result",
          "data": {
            "text/plain": [
              "tensor([ 1.0845, 12.8367], dtype=torch.float64)"
            ]
          },
          "metadata": {},
          "execution_count": 14
        }
      ]
    },
    {
      "cell_type": "code",
      "source": [
        "class WeightedLossCrossEncoder(CrossEncoder):\n",
        "    def __init__(self, *args, **kwargs):\n",
        "        super(WeightedLossCrossEncoder, self).__init__(*args, **kwargs)\n",
        "        self.loss_fn = nn.BCEWithLogitsLoss(pos_weight=class_weights[1])\n",
        "\n",
        "    def forward(self, input_ids, attention_mask, labels):\n",
        "        outputs = self.model(input_ids=input_ids, attention_mask=attention_mask)\n",
        "        logits = outputs.logits.squeeze()\n",
        "        loss = self.loss_fn(logits, labels)\n",
        "        return loss, logits"
      ],
      "metadata": {
        "id": "5dwF3wrr3D8L"
      },
      "execution_count": 15,
      "outputs": []
    },
    {
      "cell_type": "code",
      "source": [
        "cross_encoder = WeightedLossCrossEncoder(model_name, num_labels=1)"
      ],
      "metadata": {
        "id": "vsQ9dsw03FQV"
      },
      "execution_count": 16,
      "outputs": []
    },
    {
      "cell_type": "code",
      "source": [
        "training_args = TrainingArguments(\n",
        "    output_dir='./results',\n",
        "    evaluation_strategy=\"epoch\",\n",
        "    learning_rate=2e-5,\n",
        "    per_device_train_batch_size=16,\n",
        "    per_device_eval_batch_size=16,\n",
        "    num_train_epochs=4,\n",
        "    weight_decay=0.01\n",
        ")\n",
        "\n",
        "# Create a Trainer instance\n",
        "trainer = Trainer(\n",
        "    model=cross_encoder.model,\n",
        "    args=training_args,\n",
        "    train_dataset=train_examples,\n",
        "    eval_dataset=val_examples,\n",
        "    data_collator=custom_collate_fn\n",
        ")"
      ],
      "metadata": {
        "colab": {
          "base_uri": "https://localhost:8080/"
        },
        "id": "7YK7MepF3HK6",
        "outputId": "b50d5eb4-899b-4d0f-9072-af673ab009ee"
      },
      "execution_count": 17,
      "outputs": [
        {
          "output_type": "stream",
          "name": "stderr",
          "text": [
            "/usr/local/lib/python3.10/dist-packages/transformers/training_args.py:1525: FutureWarning: `evaluation_strategy` is deprecated and will be removed in version 4.46 of 🤗 Transformers. Use `eval_strategy` instead\n",
            "  warnings.warn(\n"
          ]
        }
      ]
    },
    {
      "cell_type": "code",
      "source": [
        "# trainer.train()"
      ],
      "metadata": {
        "id": "tExfm1xl3JAT"
      },
      "execution_count": 18,
      "outputs": []
    },
    {
      "cell_type": "code",
      "source": [
        "# output_dir = \"/content/drive/MyDrive/Invoice_PO_Match/saved_model\"\n",
        "# cross_encoder.model.save_pretrained(output_dir)\n",
        "# tokenizer.save_pretrained(output_dir)\n",
        "\n",
        "# print(f\"Model saved to {output_dir}\")"
      ],
      "metadata": {
        "id": "RjfAOOiq3K3f"
      },
      "execution_count": 19,
      "outputs": []
    },
    {
      "cell_type": "code",
      "source": [
        "model_name = \"/content/drive/MyDrive/Invoice_PO_Match/saved_model\"\n",
        "cross_encoder = CrossEncoder(model_name, num_labels=1)\n",
        "tokenizer = AutoTokenizer.from_pretrained(model_name)"
      ],
      "metadata": {
        "id": "0EL_ymRp3NWZ"
      },
      "execution_count": 20,
      "outputs": []
    },
    {
      "cell_type": "code",
      "source": [
        "val_dataloader = DataLoader(val_examples, batch_size=8, shuffle=False, collate_fn=custom_collate_fn)"
      ],
      "metadata": {
        "id": "MlHyjtnP3Psb"
      },
      "execution_count": 21,
      "outputs": []
    },
    {
      "cell_type": "code",
      "source": [
        "# Set the model to evaluation mode\n",
        "cross_encoder.model.eval()"
      ],
      "metadata": {
        "colab": {
          "base_uri": "https://localhost:8080/"
        },
        "id": "r3323aaw3R1v",
        "outputId": "e5006e7f-eeb3-4f46-c1cd-5f5629ab3154"
      },
      "execution_count": 22,
      "outputs": [
        {
          "output_type": "execute_result",
          "data": {
            "text/plain": [
              "RobertaForSequenceClassification(\n",
              "  (roberta): RobertaModel(\n",
              "    (embeddings): RobertaEmbeddings(\n",
              "      (word_embeddings): Embedding(50265, 768, padding_idx=1)\n",
              "      (position_embeddings): Embedding(514, 768, padding_idx=1)\n",
              "      (token_type_embeddings): Embedding(1, 768)\n",
              "      (LayerNorm): LayerNorm((768,), eps=1e-05, elementwise_affine=True)\n",
              "      (dropout): Dropout(p=0.1, inplace=False)\n",
              "    )\n",
              "    (encoder): RobertaEncoder(\n",
              "      (layer): ModuleList(\n",
              "        (0-11): 12 x RobertaLayer(\n",
              "          (attention): RobertaAttention(\n",
              "            (self): RobertaSelfAttention(\n",
              "              (query): Linear(in_features=768, out_features=768, bias=True)\n",
              "              (key): Linear(in_features=768, out_features=768, bias=True)\n",
              "              (value): Linear(in_features=768, out_features=768, bias=True)\n",
              "              (dropout): Dropout(p=0.1, inplace=False)\n",
              "            )\n",
              "            (output): RobertaSelfOutput(\n",
              "              (dense): Linear(in_features=768, out_features=768, bias=True)\n",
              "              (LayerNorm): LayerNorm((768,), eps=1e-05, elementwise_affine=True)\n",
              "              (dropout): Dropout(p=0.1, inplace=False)\n",
              "            )\n",
              "          )\n",
              "          (intermediate): RobertaIntermediate(\n",
              "            (dense): Linear(in_features=768, out_features=3072, bias=True)\n",
              "            (intermediate_act_fn): GELUActivation()\n",
              "          )\n",
              "          (output): RobertaOutput(\n",
              "            (dense): Linear(in_features=3072, out_features=768, bias=True)\n",
              "            (LayerNorm): LayerNorm((768,), eps=1e-05, elementwise_affine=True)\n",
              "            (dropout): Dropout(p=0.1, inplace=False)\n",
              "          )\n",
              "        )\n",
              "      )\n",
              "    )\n",
              "  )\n",
              "  (classifier): RobertaClassificationHead(\n",
              "    (dense): Linear(in_features=768, out_features=768, bias=True)\n",
              "    (dropout): Dropout(p=0.1, inplace=False)\n",
              "    (out_proj): Linear(in_features=768, out_features=1, bias=True)\n",
              "  )\n",
              ")"
            ]
          },
          "metadata": {},
          "execution_count": 22
        }
      ]
    },
    {
      "cell_type": "code",
      "source": [
        "# # Make predictions on the validation set\n",
        "# val_predictions = []\n",
        "# val_labels = []\n",
        "# val_logits = []  # Store logits for ROC-AUC calculation\n",
        "\n",
        "# # Use a threshold to classify predictions\n",
        "# threshold = 0.5\n",
        "\n",
        "# # Evaluate predictions\n",
        "# with torch.no_grad():\n",
        "#     for batch in val_dataloader:\n",
        "#         input_ids = batch[\"input_ids\"].to(cross_encoder.model.device)\n",
        "#         attention_mask = batch[\"attention_mask\"].to(cross_encoder.model.device)\n",
        "#         labels = batch[\"labels\"].to(cross_encoder.model.device)\n",
        "\n",
        "#         # Forward pass\n",
        "#         outputs = cross_encoder.model(input_ids=input_ids, attention_mask=attention_mask)\n",
        "#         logits = outputs.logits.squeeze().cpu().numpy()\n",
        "\n",
        "#         # Save logits for ROC-AUC\n",
        "#         val_logits.extend(logits)  # Ensure logits are appended correctly\n",
        "\n",
        "#         # Apply threshold to logits for binary classification\n",
        "#         predictions = (logits >= threshold).astype(int)\n",
        "#         val_predictions.extend(predictions)\n",
        "#         val_labels.extend(labels.cpu().numpy())\n",
        "\n",
        "# # Check the lengths of val_labels and val_logits\n",
        "# print(f\"Number of labels: {len(val_labels)}, Number of logits: {len(val_logits)}\")"
      ],
      "metadata": {
        "id": "X1gaxwi83T02"
      },
      "execution_count": null,
      "outputs": []
    },
    {
      "cell_type": "code",
      "source": [
        "# # Calculate metrics\n",
        "# accuracy = accuracy_score(val_labels, val_predictions)\n",
        "# precision = precision_score(val_labels, val_predictions)\n",
        "# recall = recall_score(val_labels, val_predictions)\n",
        "# f1 = f1_score(val_labels, val_predictions)\n",
        "# roc_auc = roc_auc_score(val_labels, val_logits)"
      ],
      "metadata": {
        "id": "u9DNgCyl3X__"
      },
      "execution_count": null,
      "outputs": []
    },
    {
      "cell_type": "code",
      "source": [
        "# print(f\"Validation Accuracy: {accuracy:.4f}\")\n",
        "# print(f\"Validation Precision: {precision:.4f}\")\n",
        "# print(f\"Validation Recall: {recall:.4f}\")\n",
        "# print(f\"Validation F1 Score: {f1:.4f}\")\n",
        "# print(f\"Validation ROC-AUC: {roc_auc:.4f}\")"
      ],
      "metadata": {
        "id": "bYAUsBPM3X8E"
      },
      "execution_count": 24,
      "outputs": []
    },
    {
      "cell_type": "code",
      "source": [
        "# from sklearn.metrics import confusion_matrix\n",
        "# import seaborn as sns\n",
        "# import matplotlib.pyplot as plt\n",
        "\n",
        "# # Confusion Matrix\n",
        "# conf_matrix = confusion_matrix(val_labels, val_predictions)\n",
        "# print(\"Confusion Matrix:\")\n",
        "# print(conf_matrix)\n",
        "\n",
        "# # Optionally, plot the confusion matrix\n",
        "# sns.heatmap(conf_matrix, annot=True, fmt='d', cmap='Blues')\n",
        "# plt.ylabel('Actual')\n",
        "# plt.xlabel('Predicted')\n",
        "# plt.title('Confusion Matrix')\n",
        "# plt.show()"
      ],
      "metadata": {
        "id": "YsOK_mI63X6X"
      },
      "execution_count": 23,
      "outputs": []
    },
    {
      "cell_type": "code",
      "source": [
        "import numpy as np\n",
        "import pandas as pd\n",
        "import torch\n",
        "from torch.utils.data import DataLoader, Dataset\n",
        "from tqdm import tqdm\n",
        "from scipy.optimize import linear_sum_assignment\n",
        "import concurrent.futures\n",
        "\n",
        "# Create a custom dataset to handle pairs of invoices and purchase orders\n",
        "class InvoicePurchaseOrderDataset(Dataset):\n",
        "    def __init__(self, invoices, purchase_orders, tokenizer):\n",
        "        self.invoices = invoices\n",
        "        self.purchase_orders = purchase_orders\n",
        "        self.tokenizer = tokenizer\n",
        "\n",
        "    def __len__(self):\n",
        "        return len(self.invoices) * len(self.purchase_orders)\n",
        "\n",
        "    def __getitem__(self, idx):\n",
        "        # Calculate the correct invoice and purchase order index\n",
        "        invoice_idx = idx // len(self.purchase_orders)\n",
        "        po_idx = idx % len(self.purchase_orders)\n",
        "\n",
        "        invoice = self.invoices[invoice_idx]\n",
        "        purchase_order = self.purchase_orders[po_idx]\n",
        "\n",
        "        # Tokenize the input pair\n",
        "        tokenized_pair = self.tokenizer(invoice, purchase_order, padding=True, truncation=True, return_tensors=\"pt\")\n",
        "\n",
        "        return {\n",
        "            \"invoice\": invoice,\n",
        "            \"purchase_order\": purchase_order,\n",
        "            \"input_ids\": tokenized_pair['input_ids'].squeeze(0),\n",
        "            \"attention_mask\": tokenized_pair['attention_mask'].squeeze(0),\n",
        "            \"invoice_idx\": invoice_idx,\n",
        "            \"po_idx\": po_idx\n",
        "        }"
      ],
      "metadata": {
        "id": "dKXJYCNK99X6"
      },
      "execution_count": 65,
      "outputs": []
    },
    {
      "cell_type": "code",
      "source": [
        "def map_invoices_to_purchase_orders(invoices, purchase_orders, cross_encoder, tokenizer, batch_size=64):\n",
        "    # Initialize the dataset and DataLoader\n",
        "    dataset = InvoicePurchaseOrderDataset(invoices, purchase_orders, tokenizer)\n",
        "    dataloader = DataLoader(dataset, batch_size=batch_size, shuffle=False, collate_fn=custom_collate_fn)\n",
        "\n",
        "    num_invoices = len(invoices)\n",
        "    num_pos = len(purchase_orders)\n",
        "\n",
        "    # Pre-allocate space for similarity matrix\n",
        "    similarity_matrix = np.zeros((num_invoices, num_pos))\n",
        "\n",
        "    # Process the dataset in parallel batches\n",
        "    def process_batch(batch):\n",
        "        with torch.no_grad():\n",
        "            input_ids = batch['input_ids'].to(cross_encoder.model.device)\n",
        "            attention_mask = batch['attention_mask'].to(cross_encoder.model.device)\n",
        "            invoice_idxs = batch['invoice_idx'].numpy()\n",
        "            po_idxs = batch['po_idx'].numpy()\n",
        "\n",
        "            # Forward pass through the model\n",
        "            logits = cross_encoder.model(input_ids=input_ids, attention_mask=attention_mask)\n",
        "\n",
        "            # Ensure that logits are squeezed to handle potential extra dimensions\n",
        "            scores = logits.logits.squeeze().cpu().numpy()\n",
        "\n",
        "            # Handle case where scores might be scalar or single values for each batch item\n",
        "            if scores.ndim == 0:  # If it's a scalar, convert to array\n",
        "                scores = np.array([scores])\n",
        "\n",
        "            # Fill in the similarity matrix\n",
        "            for i, (invoice_idx, po_idx) in enumerate(zip(invoice_idxs, po_idxs)):\n",
        "                similarity_matrix[invoice_idx, po_idx] = scores[i]\n",
        "\n",
        "    # Process all batches in parallel using ThreadPoolExecutor\n",
        "    with concurrent.futures.ThreadPoolExecutor() as executor:\n",
        "        list(tqdm(executor.map(process_batch, dataloader), total=len(dataloader), desc=\"Processing Batches\"))\n",
        "\n",
        "    # Use the Hungarian algorithm (linear sum assignment) for optimal one-to-one matching\n",
        "    cost_matrix = -similarity_matrix  # Convert to cost matrix for minimization\n",
        "    row_idx, col_idx = linear_sum_assignment(cost_matrix)\n",
        "\n",
        "    # Create the final result with one-to-one mappings\n",
        "    results = [{invoices[i]: purchase_orders[j]} for i, j in zip(row_idx, col_idx)]\n",
        "\n",
        "    return results"
      ],
      "metadata": {
        "id": "c-CxOldK3fHs"
      },
      "execution_count": 86,
      "outputs": []
    },
    {
      "cell_type": "code",
      "source": [
        "invoices = df[\"invoice_desc\"][21]\n",
        "purchase_orders = df[\"PO_line_desc\"][21]"
      ],
      "metadata": {
        "id": "udnWnYQM3pYQ"
      },
      "execution_count": 93,
      "outputs": []
    },
    {
      "cell_type": "code",
      "source": [
        "print(len(invoices))\n",
        "print(len(purchase_orders))"
      ],
      "metadata": {
        "colab": {
          "base_uri": "https://localhost:8080/"
        },
        "id": "k4HjBnnM9FIz",
        "outputId": "a76ed915-4ad5-43f5-d4a7-fb186419789a"
      },
      "execution_count": 94,
      "outputs": [
        {
          "output_type": "stream",
          "name": "stdout",
          "text": [
            "3\n",
            "3\n"
          ]
        }
      ]
    },
    {
      "cell_type": "code",
      "source": [
        "mapped_results = map_invoices_to_purchase_orders(invoices, purchase_orders, cross_encoder, tokenizer)\n",
        "\n",
        "# Output the results\n",
        "print(\"Mapped Invoices to Purchase Orders:\")\n",
        "for mapping in mapped_results:\n",
        "    print(mapping)"
      ],
      "metadata": {
        "colab": {
          "base_uri": "https://localhost:8080/"
        },
        "id": "M2B5LsWg3rXu",
        "outputId": "a3ce73d3-f297-4a33-daab-8b2ed14799d7"
      },
      "execution_count": 95,
      "outputs": [
        {
          "output_type": "stream",
          "name": "stderr",
          "text": [
            "Processing Batches: 100%|██████████| 1/1 [00:00<00:00,  1.68it/s]"
          ]
        },
        {
          "output_type": "stream",
          "name": "stdout",
          "text": [
            "Mapped Invoices to Purchase Orders:\n",
            "{'Fritter Bread - Blueberry': 'BREAD BLUEBERRY FRTTR'}\n",
            "{'Fritter Bread - Apple': 'BREAD APPLE FRTTR'}\n",
            "{'Fritter Bread - Raspberry': 'BREAD RASPBERRY FRTTR'}\n"
          ]
        },
        {
          "output_type": "stream",
          "name": "stderr",
          "text": [
            "\n"
          ]
        }
      ]
    },
    {
      "cell_type": "code",
      "source": [
        "import pandas as pd\n",
        "import ast\n",
        "import torch\n",
        "\n",
        "# Load the original CSV containing the invoice and purchase order data\n",
        "df = pd.read_csv('/content/drive/MyDrive/Invoice_PO_Match/validation_formatted 1.csv')\n",
        "\n",
        "# Extract the necessary columns: 'invoice_id', 'invoice_desc', 'PO_line_desc', 'true_mapping'\n",
        "df = df[['invoice_id', 'invoice_desc', 'PO_line_desc', 'true_mapping']]\n",
        "\n",
        "# Parse the 'invoice_desc', 'PO_line_desc', and 'true_mapping' columns from strings to lists/dictionaries\n",
        "for i in range(len(df)):\n",
        "    df.at[i, 'invoice_desc'] = ast.literal_eval(df.at[i, 'invoice_desc'])\n",
        "    df.at[i, 'PO_line_desc'] = ast.literal_eval(df.at[i, 'PO_line_desc'])\n",
        "    df.at[i, 'true_mapping'] = ast.literal_eval(df.at[i, 'true_mapping'])"
      ],
      "metadata": {
        "id": "U2HHfCVl3tkE"
      },
      "execution_count": 96,
      "outputs": []
    },
    {
      "cell_type": "code",
      "source": [
        "# Function to compute and add the 'model_output' for each row\n",
        "def compute_model_output(df, cross_encoder, tokenizer):\n",
        "    model_output = []\n",
        "\n",
        "    for i, row in df.iterrows():\n",
        "        invoices = row['invoice_desc']\n",
        "        purchase_orders = row['PO_line_desc']\n",
        "        print(i)\n",
        "        # Use the map_invoices_to_purchase_orders function to get the mapping\n",
        "        mapping_result = map_invoices_to_purchase_orders(invoices, purchase_orders, cross_encoder, tokenizer)\n",
        "        print(mapping_result)\n",
        "        # Append the mapping result to the list\n",
        "        model_output.append(mapping_result)\n",
        "\n",
        "    # Add the 'model_output' column to the dataframe\n",
        "    df['model_output'] = model_output\n",
        "\n",
        "    return df"
      ],
      "metadata": {
        "id": "2Ay85PdR3v4O"
      },
      "execution_count": 97,
      "outputs": []
    },
    {
      "cell_type": "code",
      "source": [
        "c = 0\n",
        "for i in range(946):\n",
        "  if len(df[\"invoice_desc\"][i]) == len(df[\"PO_line_desc\"][i]):\n",
        "    c += 1\n",
        "print(c)"
      ],
      "metadata": {
        "colab": {
          "base_uri": "https://localhost:8080/"
        },
        "id": "8iot34Xi4J2-",
        "outputId": "84d6eddb-c547-4908-c7fa-470e64b20ca7"
      },
      "execution_count": 98,
      "outputs": [
        {
          "output_type": "stream",
          "name": "stdout",
          "text": [
            "946\n"
          ]
        }
      ]
    },
    {
      "cell_type": "code",
      "source": [
        "# Compute the model output for the dataframe\n",
        "df_with_model_output = compute_model_output(df, cross_encoder, tokenizer)\n",
        "\n",
        "# Save the dataframe to a CSV file\n",
        "output_csv_path = '/content/drive/MyDrive/Invoice_PO_Match/mapped_invoices_po_output.csv'\n",
        "df_with_model_output.to_csv(output_csv_path, index=False)\n",
        "\n",
        "print(f\"Model output saved to: {output_csv_path}\")"
      ],
      "metadata": {
        "colab": {
          "base_uri": "https://localhost:8080/"
        },
        "id": "s4bdBqYH37Kg",
        "outputId": "a9eb127c-9c17-4252-b9dd-9b41757e82b3"
      },
      "execution_count": 99,
      "outputs": [
        {
          "output_type": "stream",
          "name": "stdout",
          "text": [
            "0\n"
          ]
        },
        {
          "output_type": "stream",
          "name": "stderr",
          "text": [
            "Processing Batches: 100%|██████████| 1/1 [00:02<00:00,  2.17s/it]\n"
          ]
        },
        {
          "output_type": "stream",
          "name": "stdout",
          "text": [
            "[{'25103 ICE CREAM MANGO SORBETTO TRAY': 'ICE CREAM MANGO SORBETTO TRAY'}, {'ICE CREAM GELATO MACKINAC FDGE 3/5LT': 'ICE CREAM GELATO MACKINAC FDGE'}, {'ICE CREAM COOKIE%CRM DUTCH FUD 3/5LT': 'ICE CREAM COOKIE%CRM DUTCH FUD'}, {'ICE CREAM GELATO BUTR PECAN 3 / 5LT': 'ICE CREAM GELATO BUTR PECAN'}, {'ICE CREAM SORBET LEMONCELLO 3/5 LT': 'ICE CREAM SORBET LEMONCELLO'}, {'ICE CREAM GELATO CHOC ND VEGAN 3/5LT': 'ICE CREAM GELATO CHOC ND VEGAN'}]\n",
            "1\n"
          ]
        },
        {
          "output_type": "stream",
          "name": "stderr",
          "text": [
            "Processing Batches: 100%|██████████| 1/1 [00:02<00:00,  2.87s/it]\n"
          ]
        },
        {
          "output_type": "stream",
          "name": "stdout",
          "text": [
            "[{'ICE CREAM GELATO MACKINAC FDGE 3/5LT': 'ICE CREAM GELATO MACKINAC FDGE'}, {'ICE CREAM CREME DE MINTHE CHIP 3/5LT': 'ICE CREAM CREME DE MENTHE CHIP'}, {'ICE CREAM GELATO VAN BEAN 3/ 5LT': 'ICE CREAM GELATO VAN BEAN'}, {'ICE CREAM GELATO RD VELVET 3/5LT': 'ICE CREAM GELATO RD VELVET'}, {'ICE CREAM GELATO PEANUT BTR 3/5LT': 'ICE CREAM GELATO PEANUT BTR'}, {'ICE CREAM GELATO SWISS CHOC 3/ 5LT': 'ICE CREAM GELATO SWISS CHOC'}, {'ICE CREAM GELATO STRAW FRSH 3/5LT': 'ICE CREAM GELATO STRAW FRSH'}]\n",
            "2\n"
          ]
        },
        {
          "output_type": "stream",
          "name": "stderr",
          "text": [
            "Processing Batches: 100%|██████████| 1/1 [00:01<00:00,  1.00s/it]\n"
          ]
        },
        {
          "output_type": "stream",
          "name": "stdout",
          "text": [
            "[{'Scotch-Brite Quick Clean Griddle Liquid 700-40 32 Oz Pack40/Case': 'CLEANER GRL QUICKCLEAN PCKT'}, {'Scotch-Brite General Purpose Scour Pad 96 6 in x 9 in 20/': 'PAD SCOUR COMM GEN PURP 6X9'}, {'Scotch-Brite Dual Purpose Scour Pad 96HEX Hexagon 5 in x': 'PAD SCOUR DUAL PURP 96HEX'}, {'Scotch-Brite Stainless Steel Scrubbe': 'PAD SCRUB STNLS 1.75OZ'}]\n",
            "3\n"
          ]
        },
        {
          "output_type": "stream",
          "name": "stderr",
          "text": [
            "Processing Batches: 100%|██████████| 1/1 [00:00<00:00,  1.61it/s]\n"
          ]
        },
        {
          "output_type": "stream",
          "name": "stdout",
          "text": [
            "[{'Jersey Mikes Mini Wheat Sub': 'ROLL MINI WHEAT SUB'}, {'Jersey Mikes': 'ROLL MINI WHT SUB'}, {'Jersey Mikes Wheat Sub': 'ROLL WHEAT SUB'}, {'Jersey Mikes White Sub': 'ROLL WHITE SUB'}]\n",
            "4\n"
          ]
        },
        {
          "output_type": "stream",
          "name": "stderr",
          "text": [
            "Processing Batches: 100%|██████████| 1/1 [00:03<00:00,  3.11s/it]\n"
          ]
        },
        {
          "output_type": "stream",
          "name": "stdout",
          "text": [
            "[{'CASES BEEF GRND CHUCK PATTY 4oz': 'BEEF GRND CHUCK PATTY 4OZ'}, {'14 CASES BEEF GRND THICK PATTY 80/20': 'BEEF GRND THICK PATTY 80/20'}, {'40 CASES BEEF GRND PATTY HMSTYL 80/20': 'BEEF GRND PATTY HMSTYL 80/20'}, {'6 CASES beef diced inside rnd 1/4': 'BEEF DICED INSIDE RND 1/4'}, {'15 CASES BEEF CHUCK GRND PTY 3-1533 oz': 'BEEF CHUCK GRND PTY 3-1 5.33OZ'}, {'CASES BEEF GRND PTY 2OZ SLIDER 80/20': 'BEEF GRND PTY 2OZ SLIDER 80/20'}, {'2 CASES PORK LOIN JACCARDED': 'PORK LOIN JACCARDED'}]\n",
            "5\n"
          ]
        },
        {
          "output_type": "stream",
          "name": "stderr",
          "text": [
            "Processing Batches: 100%|██████████| 1/1 [00:00<00:00,  1.38it/s]\n"
          ]
        },
        {
          "output_type": "stream",
          "name": "stdout",
          "text": [
            "[{'HC Plus Apple Juice Cups 96/4oz': 'JUICE APPLE SHELF STABLE'}, {'HC Plus 15% Cranberry Juice Cups 96/4oz': 'JUICE CRANBERRY 15% SS CUP'}, {'HC Plus Prune Juice Cups 96/4oz': 'JUICE PRUNE 100% SHELF STABLE'}]\n",
            "6\n"
          ]
        },
        {
          "output_type": "stream",
          "name": "stderr",
          "text": [
            "Processing Batches: 100%|██████████| 1/1 [00:01<00:00,  1.79s/it]\n"
          ]
        },
        {
          "output_type": "stream",
          "name": "stdout",
          "text": [
            "[{'HC Plus Orange Juice Cups 96/4oz': 'JUICE ORANGE STABLE'}, {'HC Plus Grape Juice Cups 96/4oz': 'JUICE GRAPE SHELF STABLE'}, {'HC Plus Apple Juice Cups 96/4oz': 'JUICE APPLE SHELF STABLE'}, {'HC Plus 15% Cranberry Juice Cups 96/4oz': 'JUICE CRANBERRY 15% SS CUP'}, {'HC Plus Prune Juice Cups 96/4oz': 'JUICE PRUNE 100% SHELF STABLE'}]\n",
            "7\n"
          ]
        },
        {
          "output_type": "stream",
          "name": "stderr",
          "text": [
            "Processing Batches: 100%|██████████| 1/1 [00:00<00:00,  1.33it/s]\n"
          ]
        },
        {
          "output_type": "stream",
          "name": "stdout",
          "text": [
            "[{'HC Plus Orange Juice Cups 96/4oz': 'JUICE ORANGE STABLE'}, {'HC Plus Apple Juice Cups 96/4oz': 'JUICE APPLE SHELF STABLE'}, {'HC Plus 15% Cranberry Juice Cups 96/4oz': 'JUICE CRANBERRY 15% SS CUP'}]\n",
            "8\n"
          ]
        },
        {
          "output_type": "stream",
          "name": "stderr",
          "text": [
            "Processing Batches: 100%|██████████| 1/1 [00:02<00:00,  2.53s/it]\n"
          ]
        },
        {
          "output_type": "stream",
          "name": "stdout",
          "text": [
            "[{'AB Apple Juice Aseptic Liters 12/32': 'JUICE APPLE ASEPTIC'}, {'HC Plus Apple Juice Cups 96/4oz': 'JUICE APPLE SHELF STABLE'}, {'AB Cranberry Juice Aseptic Liters': 'JUICE CRANBERRY ASEPTIC'}, {'HC Plus 15% Cranberry Juice Cups': 'JUICE CRANBERRY 15% SS CUP'}, {'AB Orange Juice Aseptic Liters 12/32': 'JUICE ORANGE ASEPTIC'}, {'AB Prune Juice Aseptic Liters 12/32': 'JUICE PRUNE SHELF STABLE'}]\n",
            "9\n"
          ]
        },
        {
          "output_type": "stream",
          "name": "stderr",
          "text": [
            "Processing Batches: 100%|██████████| 1/1 [00:03<00:00,  3.57s/it]\n"
          ]
        },
        {
          "output_type": "stream",
          "name": "stdout",
          "text": [
            "[{'BEEF SIRLN BALLTIP V4 GRNDRND': 'BEEF SIRL BALLTIP FAJMN GRR'}, {'BEEF TENDERLOIN PSMO PRIME': 'BEEF TENDERLOIN PSMO 189A PRIM'}, {'LAMB LEG BRT AUSTRALIAN FRZN TY': 'LAMB LEG BRT AUSTRALIAN FRZN'}, {'STK TENDER FILET BARREL CH': 'STEAK FILET BRL CH'}, {'STK PORTERHOUSE 1/4TL CH': 'STEAK PORTER 1\\\\2TL CH'}, {'CAB STK PORTERHOUSE 1/4TL NV': 'STEAK PORTER 1\\\\2TL N\\\\V'}, {'CAB STK BALL TIP NO-FAT 8OZ': 'STEAK SIRL BALLTIP SKND'}, {'CAB STK BALL TIP 1/4TRM 8OZ': 'STEAK SIRL BALLTIP 1\\\\4'}]\n",
            "10\n"
          ]
        },
        {
          "output_type": "stream",
          "name": "stderr",
          "text": [
            "Processing Batches: 100%|██████████| 1/1 [00:00<00:00,  3.94it/s]\n"
          ]
        },
        {
          "output_type": "stream",
          "name": "stdout",
          "text": [
            "[{'CLAM LITTLENECK FRESH 100CT': 'CLAM LITTLENECK FRSH'}, {'SALMN FIL 3-5 D FRM CHILE': 'SALMON ATL D-TRIM 4-5# CHL'}]\n",
            "11\n"
          ]
        },
        {
          "output_type": "stream",
          "name": "stderr",
          "text": [
            "Processing Batches: 100%|██████████| 1/1 [00:00<00:00,  2.05it/s]\n"
          ]
        },
        {
          "output_type": "stream",
          "name": "stdout",
          "text": [
            "[{'BASS STRIPED FIL FARM SKON FRS - USA -': 'BASS STRIPED FIL FARM SKON FRS'}, {'HALIBUT FILET SKIN-ON FRESH - USA -': 'HALIBUT FILET FRSH'}, {'SALMON FIL SCOTTISH SCALED - Scotland -': 'SALMON FIL SCOTTISH SCALED'}]\n",
            "12\n"
          ]
        },
        {
          "output_type": "stream",
          "name": "stderr",
          "text": [
            "Processing Batches: 100%|██████████| 3/3 [00:11<00:00,  3.75s/it]\n"
          ]
        },
        {
          "output_type": "stream",
          "name": "stdout",
          "text": [
            "[{'CRAB CLUSTER SNOW OPILIO 5-8 OZ': 'CRAB CLUSTER SNOW OPILIO 5-8Z'}, {'HALIBUT FILET SKIN-ON FRESH - USA': 'HALIBUT FILET FRSH'}, {'OIL SESAME CHILI LAYU 6/323 OZ': 'OIL SESAME CHILI LAYU'}, {'ONION RED FRY 5 PACKS - Asia -': 'ONION RED FRIED'}, {'SALMON ATL WHL FRSH 14-16# -': 'SALMON ATL WHL FRSH 14-16#'}, {'SALMON KING FIL WILD SKON SCALED': 'SALMON KING FIL WILD SCALED'}, {'SALMON KING NAT FRMD SCALED FIL': 'SALMON KNG FIL SCALED PBO FARM'}, {'SAUCE SOY WHT 2405 OZ - USA -': 'SAUCE SOY WHT'}, {'SCALLOP SEA FRSH U/10 DRY - USA -': 'SCALLOP SEA FRSH U/10 DRY'}, {'SHRIMP BLK TIGER HLSO 8/12 CT -': 'SHRIMP BLK TIGER HLSO 8/12 CT'}, {'SNAPPER RED FIL 6-8oz FRZN - New': 'SNAPPER RED FIL 6-8OZ FRZN'}, {'TROUT STEELHEAD FIL FRSH - USA -': 'TROUT STEELHEAD FIL FRSH'}, {'VINEGAR RICE SHIRAGIKU 1X5 GAL -': 'VINEGAR RICE SHIRAGIKU'}]\n",
            "13\n"
          ]
        },
        {
          "output_type": "stream",
          "name": "stderr",
          "text": [
            "Processing Batches: 100%|██████████| 1/1 [00:01<00:00,  1.67s/it]\n"
          ]
        },
        {
          "output_type": "stream",
          "name": "stdout",
          "text": [
            "[{'ANCHOVY BULK WHT BOQUERONES 22 - Spain - W': 'ANCHOVY BULK WHT BOQUERONES'}, {'SALMON ATL FIL SKIN OFF 3-4 - Canada - F': 'SALMON ATL FIL SKIN OFF 3-4'}, {'SALMON FIL ATL SK/ON 2-3#D TR - Canada - F': 'SALMON FIL ATL SK/ON 2-3#D TR'}, {'SALMON FIL ATL SK/ON 3/4LB FRS - Canada - F': 'SALMON FIL ATL SK/ON 3/4LB FRS'}, {'SALMON FIL SKON 4-5 SUSHI SCALED - Canada - F': 'SALMON FIL SKON 4-5 SUSHI'}]\n",
            "14\n"
          ]
        },
        {
          "output_type": "stream",
          "name": "stderr",
          "text": [
            "Processing Batches: 100%|██████████| 1/1 [00:00<00:00,  1.07it/s]\n"
          ]
        },
        {
          "output_type": "stream",
          "name": "stdout",
          "text": [
            "[{'ANCHOVY BULK WHT BOQUERONES 22': 'ANCHOVY BULK WHT BOQUERONES'}, {'MAHI MAHI PCS 1-3 OZ - Indonesia - W': 'MAHI MAHI PCS 1-3 OZ'}, {'SALAD SEAWEED FRZN WAKAMI JAPAN': 'SALAD SEAWEED FRZN WAKAMI'}, {'SALMON FIL ATL SK/ON 3/4LB FRS -': 'SALMON FIL ATL SK/ON 3/4LB FRS'}]\n",
            "15\n"
          ]
        },
        {
          "output_type": "stream",
          "name": "stderr",
          "text": [
            "Processing Batches: 100%|██████████| 2/2 [00:05<00:00,  2.82s/it]\n"
          ]
        },
        {
          "output_type": "stream",
          "name": "stdout",
          "text": [
            "[{'BASS SEA BRANZINO SKON BL BUTTERFLY - Greece': 'BASS SEA BRANZINO SKON BL 7-8Z'}, {'BASS STRIPED FIL FARM SKON FRS - USA - F': 'BASS STRIPED FIL FARM SKON FRS'}, {'HALIBUT FILET SKIN-ON FRESH - USA - W': 'HALIBUT FILET FRSH'}, {'R FILLET 1-2 SKIN-OFF FROZEN - Mexico - W': 'HALIBUT PIECES IQF 1-2 OZ'}, {'OCTOPUS BABY RAW WHOLE 12/2 - Asia - W': 'OCTOPUS BABY RAW WHOLE'}, {'SALMON ATL PRTN 6oz DEEP SKND - Chile - F': 'SALMON ATL FIL PRTN SKOFF BBRG'}, {'SALMON ATL WHL 8-10# 2 PCS - Canada - F': 'SALMON ATL WHL 8-10#'}, {'SALMON KING FIL WILD SKON SCALED - USA -': 'SALMON KING FIL WILD SCALED'}, {'SAUCE MIRIN WINE 5 GAL - Asia - W': 'SAUCE MIRIN WINE'}, {'TROUT STEELHEAD FIL FRSH - USA - F': 'TROUT STEELHEAD FIL FRSH'}]\n",
            "16\n"
          ]
        },
        {
          "output_type": "stream",
          "name": "stderr",
          "text": [
            "Processing Batches: 100%|██████████| 2/2 [00:08<00:00,  4.04s/it]\n"
          ]
        },
        {
          "output_type": "stream",
          "name": "stdout",
          "text": [
            "[{'HALIBUT FILET SKIN-ON FRESH - USA - W': 'HALIBUT FILET FRSH'}, {'HALIBUT FLETCH SKIN-ON MEIERS FRESH - USA - W': 'HALIBUT FLETCH SKON MEIERS'}, {'LOBSTER BODIES FRZN - USA - W': 'LOBSTER BODIES FRZN'}, {'455 NL  Wet Store Date6/18/2024': 'MUSSEL FRESH PEI'}, {'SALMON ATL WHL FRSH 14-16# - Canada - F': 'SALMON ATL WHL FRSH 14-16#'}, {'SALMON FIL SCOTTISH SCALED - Scotland - F': 'SALMON FIL SCOTTISH SCALED'}, {'SALMON WHL KING ORA - New Zealand - F': 'SALMON WHL KNG ORA'}, {'TEA GREEN MATCHA PWDR BULK 22 - Asia - W': 'TEA GREEN MATCHA PWDR BULK'}, {'TROUT RAINBOW IDAHO 5-7OZ FROZEN - USA - F': 'TROUT RAINBOW IDAHO 7-9OZ'}, {'TROUT STEELHEAD FIL FRSH - USA - F': 'TROUT STEELHEAD FIL FRSH'}]\n",
            "17\n"
          ]
        },
        {
          "output_type": "stream",
          "name": "stderr",
          "text": [
            "Processing Batches: 100%|██████████| 1/1 [00:01<00:00,  1.54s/it]\n"
          ]
        },
        {
          "output_type": "stream",
          "name": "stdout",
          "text": [
            "[{'CATFISH FILET 5-7 OZ - USA -': 'CATFISH FILET 5-7 OZ'}, {'SALMON ATL FIL SKIN OFF 3-4': 'SALMON ATL FIL SKIN OFF 3-4'}, {'SALMON FIL ATL SK/ON 2-3#D': 'SALMON FIL ATL SK/ON 2-3#D TR'}, {'SALMON FIL ATL SK/ON 3/4LB': 'SALMON FIL ATL SK/ON 3/4LB FRS'}, {'SALMON FIL SKON 4-5 SUSHI': 'SALMON FIL SKON 4-5 SUSHI'}]\n",
            "18\n"
          ]
        },
        {
          "output_type": "stream",
          "name": "stderr",
          "text": [
            "Processing Batches: 100%|██████████| 1/1 [00:00<00:00,  1.85it/s]\n"
          ]
        },
        {
          "output_type": "stream",
          "name": "stdout",
          "text": [
            "[{'SALMON FIL SCOTTISH SCALED - Scotland - F': 'SALMON FIL SCOTTISH SCALED'}, {'SALMON FIL SKON 4-5 TIGHT TRIM - Canada - F': 'SALMON FIL SKON 4-5 TIGHT TRIM'}, {'TUNA LOIN AHI SK/ON #1 - USA - W': 'TUNA LOIN AHI SK/ON #1'}]\n",
            "19\n"
          ]
        },
        {
          "output_type": "stream",
          "name": "stderr",
          "text": [
            "Processing Batches: 100%|██████████| 1/1 [00:00<00:00,  1.11it/s]\n"
          ]
        },
        {
          "output_type": "stream",
          "name": "stdout",
          "text": [
            "[{'SALMON ATLANTIC D TRIM PBO - Canada - F': 'SALMON ATLANTIC D TRIM PBO'}, {'SALMON ATL FILLET 3-4 E TRIM - Canada - F': 'SALMON ATL FILLET 3-4 E TRIM'}, {'SALMON FIL SKLS 3-4# PREM - Canada - F': 'SALMON ATL FIL SKLS 3-4# PREM'}, {'SALMON ATL FIL 2-3 E TRIM - Canada - F': 'SALMON ATL FIL 2-3 E TRIM'}]\n",
            "20\n"
          ]
        },
        {
          "output_type": "stream",
          "name": "stderr",
          "text": [
            "Processing Batches: 100%|██████████| 1/1 [00:00<00:00,  2.86it/s]\n"
          ]
        },
        {
          "output_type": "stream",
          "name": "stdout",
          "text": [
            "[{'Fritter Bread - Blueberry': 'BREAD BLUEBERRY FRTTR'}, {'Fritter Bread - Apple': 'BREAD APPLE FRTTR'}, {'Fritter Bread - Cinnamon': 'BREAD CINN FRTTR'}]\n",
            "21\n"
          ]
        },
        {
          "output_type": "stream",
          "name": "stderr",
          "text": [
            "Processing Batches: 100%|██████████| 1/1 [00:00<00:00,  2.79it/s]\n"
          ]
        },
        {
          "output_type": "stream",
          "name": "stdout",
          "text": [
            "[{'Fritter Bread - Blueberry': 'BREAD BLUEBERRY FRTTR'}, {'Fritter Bread - Apple': 'BREAD APPLE FRTTR'}, {'Fritter Bread - Raspberry': 'BREAD RASPBERRY FRTTR'}]\n",
            "22\n"
          ]
        },
        {
          "output_type": "stream",
          "name": "stderr",
          "text": [
            "Processing Batches: 100%|██████████| 4/4 [00:14<00:00,  3.72s/it]\n"
          ]
        },
        {
          "output_type": "stream",
          "name": "stdout",
          "text": [
            "[{'OYSTER SHUCKED STD 1/2 GALLON - USA - F': 'OYSTER SHUCKED STD'}, {'OYSTER LIVE FANNY BAY 120 CT/ MEDIUM - Canada - F': 'OYSTER LIVE FANNY BAY'}, {'OYSTER LIVE MISTY POINT 100 CT - USA - W': 'OYSTER LIVE MISTY POINT'}, {'MAHI MAHI FIL SKIN-ON FRESH - USA - W': 'MAHI MAHI FIL SKIN ON'}, {'CRAB SOFT SHELL PRIME 14 COUNT - Vietnam - F': 'CRAB SOFT SHELL PR'}, {'SALMON ATL PBO SKOFF 5# SIDES - Canada - F': 'SALMON ATL PBO SKOF 5# SIDES'}, {'SALMON ATL ETRIM 3-4 LB (DEEP SKIN PKW) - Chile - F': 'SALMON ATL FIL ETRIM 3-4 LB'}, {'BASS STRIPED HYBRID USA FIL SKON PBO FRS - USA - F': 'BASS STRIPED FIL SKON 8-10 OZ'}, {'OYSTER LIVE EAST COAST FRSH - USA - W': 'OYSTER LIVE FRSH EAST COAST'}, {'OYSTER LIVE FRSH WEST COAST - USA - F': 'OYSTER LIVE FRSH WEST COAST'}, {'OYSTER LIVE KUMAMOTO 60 CT - USA - F': 'OYSTER LIVE KUMAMOTO'}, {'SALMON ATL PRTN 6oz DEEP SKND - Chile - F': 'SALMON ATL FIL PRTN SKOFF BBRG'}, {'SALMON ATL FIL SKON 3-4# PREM - Canada - F': 'SALMON ATL FIL SKON 3-4# PREM'}, {'HALIBUT FIL LOCAL FRSH 4+ SKINOFF - USA - W': 'HALIBUT FIL LOCAL FRSH SKINOF'}, {'CRAB MEAT SNOW - Russia - W': 'CRAB MEAT SNOW'}]\n",
            "23\n"
          ]
        },
        {
          "output_type": "stream",
          "name": "stderr",
          "text": [
            "Processing Batches: 100%|██████████| 2/2 [00:06<00:00,  3.00s/it]\n"
          ]
        },
        {
          "output_type": "stream",
          "name": "stdout",
          "text": [
            "[{'SALMON ATL PRTN 7OZ SKIN OFF/24 CTN - Canada - F': 'SALMON ATL PRTN 7OZ SKIN OFF'}, {'BASS STRIPED HYBRID USA FIL SKON PBO FRS - USA - F': 'BASS STRIPED FIL SKON 8-10 OZ'}, {'SALMON SMOKED GRAVALOX SLICED - USA - F': 'SALMON SMKD GRAVALOX SLI'}, {'SALMON PRTN 6OZ SKIN ON ATL/28 CTN - Canada - F': 'SALMON PRTN 6OZ SKIN ON ATL'}, {'SALMON ATL ETRIM 3-4 LB (DEEP SKIN PKW) - Chile - F': 'SALMON ATL FIL ETRIM 3-4 LB'}, {'SALMON SMK HOT UNSLICED - USA - F': 'SALMON SMK HOT UNSLICED FRSH'}, {'SALMON SMOKED NORWGN UNSLICED FRESH - USA - F': 'SALMON SMK NORWGN UNSLICED'}, {'CRAB CLAW STONE MEDIUM FRS - USA - W': 'CRAB CLAW STONE MEDIUM FRS'}, {'HALIBUT FIL SKIN ON NOR - Norway - W': 'HALIBUT FIL SKIN ON NOR'}, {'SALMON ATL PCS SKIN OFF - Canada - F': 'SALMON ATL PCS SKIN OFF'}]\n",
            "24\n"
          ]
        },
        {
          "output_type": "stream",
          "name": "stderr",
          "text": [
            "Processing Batches: 100%|██████████| 1/1 [00:00<00:00,  4.81it/s]\n"
          ]
        },
        {
          "output_type": "stream",
          "name": "stdout",
          "text": [
            "[{'Fritter Bread - Apple': 'BREAD APPLE FRTTR'}, {'Fritter Bread - Raspberry': 'BREAD RASPBERRY FRTTR'}]\n",
            "25\n"
          ]
        },
        {
          "output_type": "stream",
          "name": "stderr",
          "text": [
            "Processing Batches: 100%|██████████| 1/1 [00:00<00:00,  2.52it/s]\n"
          ]
        },
        {
          "output_type": "stream",
          "name": "stdout",
          "text": [
            "[{'MVM 4x1 Hot Links': 'SAUSAGE HOT LINK 4X1'}, {'MVM 1 lb Red Hot Links': 'SAUSAGE HOT LINK 5X1 FC'}, {'MVM 1 lb Mild Smoked Sausage': 'SAUSAGE LINK MILD 5X1 FC'}]\n",
            "26\n"
          ]
        },
        {
          "output_type": "stream",
          "name": "stderr",
          "text": [
            "Processing Batches: 100%|██████████| 1/1 [00:00<00:00,  3.89it/s]\n"
          ]
        },
        {
          "output_type": "stream",
          "name": "stdout",
          "text": [
            "[{'SALMON ATL FLT 3-4#S/L': 'SALMON ATL FIL SKLS 3-4 LB CAN'}, {'SALMON ATL FLT 2-3# S/L': 'SALMON ATL FLT SKLS 2-3 LB CDN'}]\n",
            "27\n"
          ]
        },
        {
          "output_type": "stream",
          "name": "stderr",
          "text": [
            "Processing Batches: 100%|██████████| 6/6 [00:15<00:00,  2.59s/it]\n"
          ]
        },
        {
          "output_type": "stream",
          "name": "stdout",
          "text": [
            "[{'SCONE CINNAMON': 'SCONE CINNAMON ARTISAN 3.5 OZ'}, {'BROWNIE BLONDIE': 'BROWNIE BLONDIE TOFFEE CRUN'}, {'BROWNIE CHOC': 'BROWNIE CHOC PERUVIAN'}, {'BROWNIE CHOC': 'BROWNIE CHOC CHUNK FABULOUS'}, {'CAKE LOAF PULLMAN': 'CAKE LOAF PULLMAN LEMON IW'}, {'CAKE LYR CHOC LOVIN': 'CAKE LYR CHOC LOVIN SPOON 14CT'}, {'CAKE LYR CHOC 12 SLI': 'CAKE LYR CHOC 12 SLI'}, {'CHEESECAKE RASP': 'CHEESECAKE RASP WHT CHOC'}, {'COOKIE CARAMEL': 'COOKIE CARAMEL SLTD IW MANIF'}, {'COOKIE CHOC CHUNK': 'COOKIE CHOC CHUNK IW SANDY S'}, {'DESSERT BAR': 'DESSERT BAR MSHMLW CHWY MANIFS'}, {'SCONE BLUEBERRY': 'SCONE BLUEBERRY 3.5 OZ'}, {'QUICHE': 'QUICHE MEDITERRANEAN BKD'}, {'QUICHE SPINACH': 'QUICHE SPINACH ARTICHOKE'}, {'BROWNIE OREO': 'BROWNIE OREO TOTALLY'}, {'DOUGH COOKIE LMN': 'DOUGH COOKIE LMN BLBRY MANIFST'}, {'PRETZEL SOFT PZZ': 'PRETZEL SOFT PZZ BKD'}, {'CROISSANT ALL BUTR': 'CROISSANT ALL BUTR PREPRF'}]\n",
            "28\n"
          ]
        },
        {
          "output_type": "stream",
          "name": "stderr",
          "text": [
            "Processing Batches: 100%|██████████| 1/1 [00:00<00:00,  3.83it/s]\n"
          ]
        },
        {
          "output_type": "stream",
          "name": "stdout",
          "text": [
            "[{'SALMON FIL 3/4# DTRIM CAN PORT': 'SALMON ATL FIL D SKON 3-4# CAN'}, {'SALMON FIL 2/3 CHLE DTRIM': 'SALMON ATL FIL D-TRIM 2-3# CHL'}]\n",
            "29\n"
          ]
        },
        {
          "output_type": "stream",
          "name": "stderr",
          "text": [
            "Processing Batches: 100%|██████████| 3/3 [00:09<00:00,  3.13s/it]\n"
          ]
        },
        {
          "output_type": "stream",
          "name": "stdout",
          "text": [
            "[{'SALMON STL FIL PRTN SKOFF 6OZ': 'SALMON ATL FIL PRTN SKOFF BBRG'}, {'SALMON PORTION REG 7OZ': 'SALMON PORTION STR CUT 7OZ'}, {'SALMN FILET PRTN CENTER CUT 5Z': 'SALMON PRTN C\\\\C'}, {'SALMON FILET PRTN CENTR CUT 8Z': 'SALMON PRTN C\\\\C'}, {'TUNA LOIN #1 BREADLOAF PERRYS': 'TUNA LOIN #1 BREADLOAF PERRYS'}, {'MAHI MAHI FIL SK-ON': 'MAHI MAHI FIL SKON'}, {'CALAMARI RING TENT DUST GF IQF': 'CALAMARI RING TENT DUST GF IQF'}, {'SCALLOP SEA 10/20 WILD PORTCOV': 'SCALLOP SEA 10/20 USA WILD'}, {'TUNA DIN 2+ SKON 1-5# AVG': 'TUNA LOIN 2+ SKIN ON'}, {'CONCH MEAT CLEANED 100%': 'CONCH MEAT 5LB PK FRZ'}, {'SALMON PORTION REG 7OZ': 'SALMON PORTION STR CUT 7OZ'}, {'SALMON FIL U3 CHLE DTRIM': 'SALMON ATL FIL D-TRIM 2-3# CHL'}]\n",
            "30\n"
          ]
        },
        {
          "output_type": "stream",
          "name": "stderr",
          "text": [
            "Processing Batches: 100%|██████████| 59/59 [04:04<00:00,  4.14s/it]\n"
          ]
        },
        {
          "output_type": "stream",
          "name": "stdout",
          "text": [
            "[{'BEEF FAT TALLOW KOBE-SHI': 'BEEF FAT TALLOW KOBE-SHI'}, {'EF SHORT RIB 3BN 12 GWSA': 'BEEF SHORT RIB 3BN 1\\\\2 GWSA CH'}, {'EF FLANK STEAK 15# CH 1 BAG': 'BEEF STEAK FLANK CH'}, {'MB LEG BRTAUSTRALIAN FRZN TY': 'LAMB LEG BRT AUSTRALIAN FRZN'}, {'K CHUCK FLAT IRON CH 8OZ': 'STEAK CHUCK FLAT IRON CH'}, {'AB STEAK FILET BRL FOXFIRE 8OZ': 'STEAK FILET BRL FOXFIRE'}, {'AB STK TENDER FILET CC 4OZ': 'STEAK FILET C\\\\C'}, {'CAB STK TENDER FILET CC 6OZ': 'STEAK FILET C\\\\C'}, {'STK TENDER MEDALLION BCH PRF': 'STEAK FILET MEDLLN BCH PRF'}, {'BEEF HANGING TENDER NR 8OZ': 'STEAK HANGER TENDER'}, {'CAB STK RIBEYE BNLS 1TL CE': 'STEAK RIBEYE BNLS 1TL C\\\\E'}, {'CAB STK RIBEYE 1TL BIN 16OZZ': 'STEAK RIBEYE B\\\\I 1TL'}, {'STEAK RIBEYE SLICED 3/16 FRZN': 'STEAK RIBEYE SLI 3\\\\16 FRZN'}, {'CAB PRM STRIP CC 12TL FXFIRE Z THK': 'STEAK STRIP C\\\\C 1\\\\2TL BSO PR'}, {'RIBEYE 0TL BNLS 8OZ BCH PRF': 'STEAK RIBEYE BNLS 0 TL BCH PRF'}, {'STK TENDER FILET CC BCH PRF': 'STEAK FILET C/C BCH PRF'}, {'CAB STK BALL TIP HOGI STYLE 6OZ': 'STEAK BALL TIP HOGI STYL CAB'}, {'CAB STEAK RI BEYE BNLS 1 TL Z': 'STEAK RIBEYE BNLS 1TL'}, {'PORK CHOP CC RIB 7OZ': 'PORK CHOP B\\\\I C\\\\C RIB'}, {'CAB STK CULOTTE CAP FAT-OFF 8OZ': 'STEAK SIRL CAP STRIP'}, {'RIBEYE BNLS 1TL BCH PRF INE': 'STEAK RIBEYE BNLS 1TL BCH PRF'}, {'CAB BEEF SHORT RIB ZBN XX-LEAN': 'BEEF SHORT RIB 2BN XX-LEAN'}, {'BEEF SHORT RIB 3BN 38 GWSA': 'BEEF SHORT RIB 3BN 3\\\\8 GWSA CH'}, {'STK TENDER FILET CC CH 6 PC': 'STEAK FILET C\\\\C CH'}, {'CAB STK STRIP CC 1TL ST-OFF 13OZ': 'STEAK STRIP C\\\\C 1 TL 1 BSO'}, {'CAB STEAK STRIP CC 12TL IAP AB 8Z': 'STEAK STRIP C\\\\C 1\\\\2TL IAP CALO'}, {'STK RIBEYE BNLS 0TAIL CH 6OZ Z': 'STEAK RIBEYE BNLS 0TL CH'}, {'CAB DRY AGE RIBYE B[N 1TLZ': 'STEAK RIBEYE B\\\\I 1TL D\\\\A'}, {'CAB STK TOP BUTT BASEBALL 9OZ Z': 'STEAK SIRL TOP BSBALL SKND'}, {'CAB PRM STRIP FIL MANHTN 12Z CAB': 'STEAK STRIP FIL MANHTN PR'}, {'CAB CHUCK ROLL NECK OFF 1-20#': 'BEEF CHUCK ROLL NECK OFF CH'}, {'PORK CHOP CC LOIN 16OZ': 'PORK CHOP B\\\\I C\\\\C LOIN'}, {'STK TENDER FILET CC CH 6OZ': 'STEAK FILET C\\\\C CH'}, {'CAB TENDER MEDLLN 2OZ V3': 'STEAK FILET MEDLLN VAC3'}, {'CAB IAP STK SKIRT OUTSD SMOQUE': 'STEAK SKIRT OUTSIDE IAP SMOQUE'}, {'CAB STEAK STRIP CC 1TL ST-ON 12OZ': 'STEAK STRIP C\\\\C 1TL'}, {'CAB STK STRIP VEIN DENUDED 6OZ OZ': 'STEAK STRIP VEIN DENUDED'}, {'BEEF SHORT RIB WHL 20# AVG': 'BEEF SHORT RIB B\\\\I WHL CH'}, {'CAB TOP BUTT XT IAP 1 PC/CS': 'BEEF SIRLOIN TOPBUTT XT IAP'}, {'STK CULOTT CAP FAT-OFF CH BOZ OZ': 'STEAK SIRL CAP STRIP CH'}, {'STK PORTERHOUSE BCH PRF': 'STEAK TBONE PORTER VALUE'}, {'CHUCK SHOULDER CLOD HEART CH': 'BEEF CHUCK SHLDR CLOD HEART CH'}, {'PRIME EXPORT RIB 15#DN 1PC/CS': 'BEEF RIBEYE EXPORT PR'}, {'CAB STK TENDER FILET BARREL 8OZ': 'STEAK FILET BRL'}, {'CAB TENDER MEDLLN 2OZ V3': 'STEAK FILET MEDLLN VAC3'}, {'RIBEYE BNLS 1TL BCH PRF 10OZ INE': 'STEAK RIBEYE BNLS 1TL BCH PRF'}, {'STK RIBEYE BNLS 1TL CH 8OZ': 'STEAK RIBEYE BNLS 1TL CH'}, {'BEEF STRIPLOIN 0X1 GOLD': 'BEEF STRIPLOIN 0X1 AMWAGYU GLD'}, {'BEEF TOP ROUND CH DENUDED CAP OFF': 'BEEF TOP RND DND CAP-OFF CH'}, {'STK CHUCK BISTRO MED VAC 4 4OZ OZ': 'STEAK CHUCK BISTRO MEDLLN VAC4'}, {'RIBEYE 0TL BNLS 6OZ BCH PRF': 'STEAK RIBEYE BNLS 0TL BCH PRF'}, {'CAB SKIRT OUTSDE IAP 6OZ': 'STEAK SKIRT OUTSDE IAP'}, {'CAB STK STRIP CC 1TL ST-OFF 12OZ': 'STEAK STRIP C\\\\C 1 TL'}, {'STK TENDER FILET CC BCH PRF': 'STEAK FILET C\\\\C BCH PRF'}, {'CAB STK COWBOY RIB B-IN FRNCH B 18Z': 'STEAK RIBEYE B\\\\I 1-4BN L\\\\E ELL'}, {'CAB TENDER FILET CC 8OZ ELL': 'STEAK FILET C\\\\C ELLIOTTS'}, {'STK SKIRT OUTSIDE PLD PRTN 7OZ OZ': 'STEAK SKIRT OUTSIDE'}, {'CAB STK TENDER FILET CC 12OZ': 'STEAK FILET C\\\\C'}, {'CAB STK TOP BUTT BASEBALL 8OZ Z': 'STEAK SIRL TOP BSBALL SKND'}, {'RIBEYE 0TL BNLS 8OZ BCH PRF': 'STEAK RIBEYE BNLS 0TL BCH PRF'}, {'BEEF STEAK TACO MEAT ELBURRITO H': 'BEEF STEAK TACO MEAT'}]\n",
            "31\n"
          ]
        },
        {
          "output_type": "stream",
          "name": "stderr",
          "text": [
            "Processing Batches: 100%|██████████| 1/1 [00:00<00:00,  1.04it/s]\n"
          ]
        },
        {
          "output_type": "stream",
          "name": "stdout",
          "text": [
            "[{'SYSCO BF CK MB 7673700 1OZ 5# 10#': 'MEATBALL BF/CHKN ALL PURP 1OZ'}, {'ARREZZIO BF ITAL STYL MB PREM 2OZ 5': 'MEATBALL ITAL BEEF PREM 2OZ'}, {'SYC ITAL STYL BF PK MB 8939401 2Z 5': 'MEATBALL ITAL BF/PK PREM 2 OZ'}, {'SYC ITA STY BF PK MB 2368793 05Z 5': 'MEATBALL PK/BF ITAL STYL .5 OZ'}]\n",
            "32\n"
          ]
        },
        {
          "output_type": "stream",
          "name": "stderr",
          "text": [
            "Processing Batches: 100%|██████████| 1/1 [00:00<00:00,  3.97it/s]\n"
          ]
        },
        {
          "output_type": "stream",
          "name": "stdout",
          "text": [
            "[{'SNACK BAR CHOC': 'SNACK BAR CHOC DARK CHRY CASHW'}, {'CANDY M&M PEANUT': 'CANDY M&M PEANUT BULK'}]\n",
            "33\n"
          ]
        },
        {
          "output_type": "stream",
          "name": "stderr",
          "text": [
            "Processing Batches: 100%|██████████| 1/1 [00:00<00:00,  1.95it/s]\n"
          ]
        },
        {
          "output_type": "stream",
          "name": "stdout",
          "text": [
            "[{'Napkin Band': 'BAND NAPKIN PAPR 1.5X4.25 WHT'}, {'Napkin Band': 'BAND NAPKIN PAPR 1.5X4.25 BURG'}, {'Napkin Band': 'BAND NAPKIN 1.5X4.25 HTR GREEN'}]\n",
            "34\n"
          ]
        },
        {
          "output_type": "stream",
          "name": "stderr",
          "text": [
            "Processing Batches: 100%|██████████| 1/1 [00:00<00:00,  1.46it/s]\n"
          ]
        },
        {
          "output_type": "stream",
          "name": "stdout",
          "text": [
            "[{'PAN SAUCE WCVRINDC 45QT': 'PAN SAUCE WCVR INDC 4.5QT'}, {'PAN SAUCE WCVRINDC 15QT': 'PAN SAUCE WCVR INDC 1.5QT'}, {'PAN SAUTE INDCTNSTNLS 2 QT': 'PAN SAUTE INDCTN STNLS 2 QT'}]\n",
            "35\n"
          ]
        },
        {
          "output_type": "stream",
          "name": "stderr",
          "text": [
            "Processing Batches: 100%|██████████| 1/1 [00:00<00:00,  1.18it/s]\n"
          ]
        },
        {
          "output_type": "stream",
          "name": "stdout",
          "text": [
            "[{'SALMON FILLET 3-4# D-TRIM': 'SALMON ATL FIL DTRIM CAN 3-4#'}, {'SALMON SKUNAGOLD RIVER FILLET': 'SALMON FIL FRSH 3/4 SKUNA BAY'}, {'PEI MUSSELS 10# BAG': 'MUSSEL FRESH BLK PEI'}]\n",
            "36\n"
          ]
        },
        {
          "output_type": "stream",
          "name": "stderr",
          "text": [
            "Processing Batches: 100%|██████████| 1/1 [00:02<00:00,  2.53s/it]\n"
          ]
        },
        {
          "output_type": "stream",
          "name": "stdout",
          "text": [
            "[{'CLAM W/C MANILA': 'CLAM MANILA FRSH'}, {'TROUT 7-9OZ PBO HDLS': 'TROUT FILET PBO 8 OZ'}, {'BASS 15-2# COLORADO': 'BASS STRIPED WHL SCALED & GUTD'}, {'SEA BASS CHILEAN PORT': 'SEABASS FIL CHILEAN SKLS 8 OZ'}, {'SALMON ORA KING 4-5 KG': 'SALMON WHL KNG ORA'}, {'SABLEFISH 6OZ PORT': 'COD FIL BLACK PRTN 6 OZ SKON'}]\n",
            "37\n"
          ]
        },
        {
          "output_type": "stream",
          "name": "stderr",
          "text": [
            "Processing Batches: 100%|██████████| 1/1 [00:00<00:00,  3.19it/s]\n"
          ]
        },
        {
          "output_type": "stream",
          "name": "stdout",
          "text": [
            "[{'OYSTER KUSSHI WEST COAST': 'OYSTER LIVE KUSSHI'}, {'WAHOO FILLET (HAW ONO)': 'WAHOO FIL SKON'}]\n",
            "38\n"
          ]
        },
        {
          "output_type": "stream",
          "name": "stderr",
          "text": [
            "Processing Batches: 100%|██████████| 1/1 [00:00<00:00,  2.81it/s]\n"
          ]
        },
        {
          "output_type": "stream",
          "name": "stdout",
          "text": [
            "[{'SALMON LRG ATLANTIC': 'SALMON ATL FIL DTRIM CAN 3-4#'}, {'SALMONSCOTTISHFILLETPBO': 'SALMON FIL PBO 4-5# SCOTTISH'}]\n",
            "39\n"
          ]
        },
        {
          "output_type": "stream",
          "name": "stderr",
          "text": [
            "Processing Batches: 100%|██████████| 1/1 [00:01<00:00,  1.61s/it]\n"
          ]
        },
        {
          "output_type": "stream",
          "name": "stdout",
          "text": [
            "[{'OYSTER MID ATLANTIIC': 'OYSTER LIVE MID-ATLANTIC 100CT'}, {'SCALLOP U-10 SEA': 'SCALLOP SEA FRSH U/10 DRY'}, {'SEA BASS CHILEAN PORT': 'SEABASS FIL CHILEAN SKLS 8 OZ'}, {'BASS SEA CHILEAN FILLET': 'SEABASS FILET CHILEAN'}, {'SOLE SHALLOW DOVER': 'SOLE FILET FRESH'}]\n",
            "40\n"
          ]
        },
        {
          "output_type": "stream",
          "name": "stderr",
          "text": [
            "Processing Batches: 100%|██████████| 3/3 [00:07<00:00,  2.45s/it]\n"
          ]
        },
        {
          "output_type": "stream",
          "name": "stdout",
          "text": [
            "[{'CRACKER OYSTERNEW ENGLAND': 'CRACKER OYSTER NEW ENGLAND'}, {'CRACKER GRAHAMHNY W/CALCIUM': 'CRACKER GRAHAM HNY W/CALCIUM'}, {'CRACKER CHEEZITSORIG SNACK': 'CRACKER CHEEZITS ORIG SNACK'}, {'CRACKER GRAHAMHONEY-RITE': 'CRACKER GRAHAM HONEY-RITE'}, {'CRACKER CRUMBGRAHAM': 'CRACKER CRUMB GRAHAM'}, {'SNACK BAR RICEKRISPIES TREAT': 'SNACK BAR RICE KRISPIES TREAT'}, {'POP TART STWBRYFRSTD POUCH': 'POP TART STWBRY FRSTD POUCH'}, {'POP TART FR BLUBRYWHL GRN 1C': 'POP TART FR BLUBRY WHL GRN 1C'}, {'CRACKERASSORTMENT FOR': 'CRACKER ASSORTMENT FOR CHEESE'}, {'91-TECULCRACKER SALTINE': 'CRACKER SALTINE'}, {'CRACKER SALTINEZESTA': 'CRACKER SALTINE ZESTA'}, {'CRACKER CLUBORIGINAL': 'CRACKER CLUB ORIGINAL'}]\n",
            "41\n"
          ]
        },
        {
          "output_type": "stream",
          "name": "stderr",
          "text": [
            "Processing Batches: 100%|██████████| 1/1 [00:00<00:00,  2.81it/s]\n"
          ]
        },
        {
          "output_type": "stream",
          "name": "stdout",
          "text": [
            "[{'Horchata Mix 25 LB': 'DRINK MIX HORCHATA'}, {'Chicken Base 20 LB': 'SOUP BASE CHICKEN CLEAN'}, {'Vegetable Base 20': 'SOUP BASE VEG'}]\n",
            "42\n"
          ]
        },
        {
          "output_type": "stream",
          "name": "stderr",
          "text": [
            "Processing Batches: 100%|██████████| 1/1 [00:00<00:00,  1.84it/s]\n"
          ]
        },
        {
          "output_type": "stream",
          "name": "stdout",
          "text": [
            "[{'Ground Beef 3 Muscle Blend': 'BEEF GRND 3 MUSCLE BLEND'}, {'Nemacolin beef patty 5 oz': 'BEEF PATTY 5.33OZ NEMACOLIN'}, {'Beef tender tips/Rolands 10/1 lb': 'BEEF TENDER TIPS 1 1/2 X 2'}]\n",
            "43\n"
          ]
        },
        {
          "output_type": "stream",
          "name": "stderr",
          "text": [
            "Processing Batches: 100%|██████████| 1/1 [00:00<00:00,  1.15it/s]\n"
          ]
        },
        {
          "output_type": "stream",
          "name": "stdout",
          "text": [
            "[{'Bacon Applewood Smoked Grill Ready Sliced': 'BACON LAYOUT 14-18CY APPLEWOOD'}, {'Beef Brisket Sliced': 'BEEF BRISKET COOKED SLI'}, {'Pork Rd Roast Tndr/Perf Cooked': 'PORK ROAST BNLS PRCK'}, {'Bacon Applewood Smoked Shingle Sliced': 'BACON SLI APPLWD SLAB 10-12 CT'}]\n",
            "44\n"
          ]
        },
        {
          "output_type": "stream",
          "name": "stderr",
          "text": [
            "Processing Batches: 100%|██████████| 4/4 [00:11<00:00,  2.92s/it]\n"
          ]
        },
        {
          "output_type": "stream",
          "name": "stdout",
          "text": [
            "[{'Beef Cooked Topping F/ Pzz': 'BEEF COOKED TOPPING F/ PZZ'}, {'Chicken Bnls Chunk Frttr': 'CHICKEN BNLS CHUNK FRTTR'}, {'Chicken Brst Strip Ckd Grl': 'CHICKEN BRST STRIP CKD GRL'}, {'Chicken Wingette Ckd': 'CHICKEN WINGETTE CKD'}, {'Cookie Chip Trpl Choc Bkd 25z': 'COOKIE CHIP TRPL CHOC BKD 2.5Z'}, {'Cookie White Iced Rnd 15 Oz': 'COOKIE WHITE ICED RND 1.5 OZ'}, {'Dough Pizza Brwn Rice Glt Fre': 'DOUGH PIZZA BRWN RICE GLT FRE'}, {'Dough Pizza Indiv Famous Thin1': 'DOUGH PIZZA INDIV FAMOUS THIN'}, {'Dough Pizza Lrg Thn On Papr': 'DOUGH PIZZA LRG THN ON PAPR'}, {'Dough Pizza Med Thin On Papr': 'DOUGH PIZZA MED THIN ON PAPR'}, {'Dough Pizza Thick 14in New': 'DOUGH PIZZA THICK 14IN NEW'}, {'Dough Pizza 10in Hnd Tssed Lg': 'DOUGH PIZZA 10IN HND TSSED LG'}, {'Roll Sub White Rustic': 'ROLL SUB WHITE RUSTIC'}, {'Sausage Ital Family Recipe Top': 'SAUSAGE ITAL FAMILY RECIPE TOP'}]\n",
            "45\n"
          ]
        },
        {
          "output_type": "stream",
          "name": "stderr",
          "text": [
            "Processing Batches: 100%|██████████| 1/1 [00:00<00:00,  1.63it/s]\n"
          ]
        },
        {
          "output_type": "stream",
          "name": "stdout",
          "text": [
            "[{'Jersey Mikes Mini Wheat Sub': 'ROLL MINI WHEAT SUB'}, {'Jersey Mikes White Sub': 'ROLL WHITE SUB'}, {'Jersey Mikes Wheat Sub': 'ROLL WHEAT SUB'}, {'Jersey Mikes White Sub': 'ROLL MINI WHT SUB'}]\n",
            "46\n"
          ]
        },
        {
          "output_type": "stream",
          "name": "stderr",
          "text": [
            "Processing Batches: 100%|██████████| 1/1 [00:00<00:00,  1.81it/s]\n"
          ]
        },
        {
          "output_type": "stream",
          "name": "stdout",
          "text": [
            "[{'Jersey Mikes Mini Wheat Sub': 'ROLL MINI WHEAT SUB'}, {'Jersey Mikes Mini White Sub': 'ROLL MINI WHT SUB'}, {'Jersey Mikes Wheat Sub': 'ROLL WHEAT SUB'}, {'Jersey Mikes White Sub': 'ROLL WHITE SUB'}]\n",
            "47\n"
          ]
        },
        {
          "output_type": "stream",
          "name": "stderr",
          "text": [
            "Processing Batches: 100%|██████████| 2/2 [00:07<00:00,  3.67s/it]\n"
          ]
        },
        {
          "output_type": "stream",
          "name": "stdout",
          "text": [
            "[{'HAM BNLS OLD TYMECOB SMKD': 'HAM BNLS OLD TYME COB SMKD'}, {'HAM BUFFET BNLS H/W32% MENUMA': 'HAM BUFFET BNLS H/W 32% MENUMA'}, {'TURKEY BREAST SLISMK 67 OZ': 'TURKEY BREAST SLI SMK .67 OZ'}, {'BACON PRECOOKEDC/C 13/17 BCN1': 'BACON PRECOOKED C/C 13/17 BCN1'}, {'BEEF ROAST SLI EYERND 67OZ': 'BEEF ROAST SLI EYE RND .67OZ'}, {'PEPPERONI SLI 16/OZALLNATURAL': 'PEPPERONI SLI 16/OZ ALLNATURAL'}, {'CHICKEN BRSTBATTRED SOUS VIDE': 'CHICKEN BRST BATTRED SOUS VIDE'}, {'BACON LAYFLAT C/C13/17 APL GF': 'BACON LAYFLAT C/C 13/17 APL GF'}, {'HAM SLICED SMK': 'HAM SLICED SMK CHERRY NAT FRSH'}, {'BACON CANADN STYHALF STICK NJ': 'BACON CANADN STY HALF STICK NJ'}, {'BACON PRECOOKEDSLI SANDWICH': 'BACON PRECOOKED SLI  SANDWICH'}]\n",
            "48\n"
          ]
        },
        {
          "output_type": "stream",
          "name": "stderr",
          "text": [
            "Processing Batches: 100%|██████████| 1/1 [00:00<00:00,  2.15it/s]\n"
          ]
        },
        {
          "output_type": "stream",
          "name": "stdout",
          "text": [
            "[{'Jersey Mikes Mini White Sub': 'ROLL MINI WHT SUB'}, {'Jersey Mikes Wheat Sub': 'ROLL WHEAT SUB'}, {'Jersey Mikes White Sub': 'ROLL WHITE SUB'}]\n",
            "49\n"
          ]
        },
        {
          "output_type": "stream",
          "name": "stderr",
          "text": [
            "Processing Batches: 100%|██████████| 14/14 [00:44<00:00,  3.21s/it]\n"
          ]
        },
        {
          "output_type": "stream",
          "name": "stdout",
          "text": [
            "[{'Bag Paper Bakery Core': 'BAG PAPER BAKERY CORE 22'}, {'Bag Plas Chili Frzr Upd': 'BAG PLAS CHILI FRZR UPD 20'}, {'Bag Plas Tortilla Holdin': 'BAG PLAS TORTILLA HOLDING'}, {'Container Bev Coff Onthemove': 'CONTAINER BEV COFF ONTHEMOVE'}, {'Container Chili Family Red': 'CONTAINER CHILI FAMILY RED 2'}, {'Container Food Plas': 'CONTAINER FOOD PLAS 6.6X5.1'}, {'Cup Paper 12 Oz Hot EBB': 'CUP PAPER 12 OZ HOT EBB'}, {'Cup Plas 16 Oz Cold Pp EBB': 'CUP PLAS 16 OZ COLD PP EBB'}, {'Cutlery Kit Frk & Knf': 'CUTLERY KIT FRK & KNF BLK'}, {'Glove Vinyl Pf Lg': 'GLOVE VINYL PF LG'}, {'Glove Vinyl Pf Med': 'GLOVE VINYL PF MED'}, {'Glove Vinyl Pf X-Larg': 'GLOVE VINYL PF X-LARGE'}, {'Glove Vinyl Pwdr Med': 'GLOVE VINYL PWDR MED'}, {'Knife Plas Wrpd Blac': 'KNIFE PLAS WRPD BLACK'}, {'Label Salad Cobb': 'LABEL SALAD COBB'}, {'Lid Plas Side Item': 'LID PLAS SIDE ITEM RED'}, {'Liner Can Roll Clr': 'LINER CAN ROLL CLR 37X46'}, {'Onion Crisp Ghost Pepper': 'ONION CRISP GHOST PEPPER RANCH'}, {'Pan Coating Arsl Food Releas': 'PAN COATING ARSL FOOD RELEASE'}, {'Salt Sea Flat Packe': 'SALT SEA FLAT PACKET'}, {'Salt Table Iodized': 'SALT TABLE IODIZED 36LB'}, {'Spoon Plas Wrpd Blac': 'SPOON PLAS WRPD BLACK'}, {'CT Straw Wrapped Red': 'STRAW WRAPPED RED'}, {'Tea Iced Fltr Pouc': 'TEA ICED FLTR POUCH'}, {'CTTowel Roll Brown': 'TOWEL ROLL BROWN 6/800'}, {'Towel Wiper Grl Red': 'TOWEL WIPER GRL RED 11.5X13.25'}, {'CT Towel Wiper Wht': 'TOWEL WIPER WHT'}, {'Wrap Foil Brkfst Cstm': 'WRAP FOIL BRKFST CSTM'}, {'Wrap Wax Value': 'WRAP WAX VALUE 10X13.5 2022'}]\n",
            "50\n"
          ]
        },
        {
          "output_type": "stream",
          "name": "stderr",
          "text": [
            "Processing Batches: 100%|██████████| 1/1 [00:01<00:00,  1.06s/it]\n"
          ]
        },
        {
          "output_type": "stream",
          "name": "stdout",
          "text": [
            "[{'AZ FRESH PORK CHORIZO BULK (2-5LB BAGS': 'SAUSAGE CHORIZO PORK'}, {'AZ FRESH C/S BREAKFAST BULK - (FROZEN)': 'SAUSAGE BKFST CNTRY STYLE BULK'}, {'THIN SLICED CHICKEN BULK - 3LB BAGS': 'CHICKEN BRST SLICED'}, {'1 X 1 DICED CHICKEN BULK - 3LB BAGS': 'CHICKEN BRST DICED 1X1'}]\n",
            "51\n"
          ]
        },
        {
          "output_type": "stream",
          "name": "stderr",
          "text": [
            "Processing Batches: 100%|██████████| 1/1 [00:01<00:00,  1.78s/it]\n"
          ]
        },
        {
          "output_type": "stream",
          "name": "stdout",
          "text": [
            "[{'SF Heavy Cream 9/5 Gal': 'CREAM HEAVY'}, {'8041100029 SF Mi k Homogenized 2/1 Gal': 'MILK HOMOGENIZED'}, {'8041100030 SF Mi k 2% REDUCE FAT 2/1 Gal': 'MILK 2% RDUC FAT'}, {'8041100032 SF Mi k Low Fat Skim 2/1 Gal': 'MILK LOW FAT SKIM'}, {'8041100050 SF Half & Half Quarts': 'CREAMER HALF & HALF'}, {'Empty Gallon Jug 48/128oz': 'JUG PLAS GALLON'}]\n",
            "52\n"
          ]
        },
        {
          "output_type": "stream",
          "name": "stderr",
          "text": [
            "Processing Batches: 100%|██████████| 1/1 [00:04<00:00,  4.75s/it]\n"
          ]
        },
        {
          "output_type": "stream",
          "name": "stdout",
          "text": [
            "[{'BEEF FOR STEW 98LN 1/4X1/4 FRS': 'BEEF STEW 1\\\\4 FRSH'}, {'BEEF STRIPLOIN 0X1 180 SILVER': 'BEEF STRIP 0X1 AMWAGYU SILVER'}, {'BEEF STRIPLOIN 0X1 SELECT 2PC': 'BEEF STRIPLOIN 0X1 SEL'}, {'STK CHUCK FLAT IRON CH 4OZ': 'STEAK CHUCK FLAT IRON CH'}, {'STK CHUCK FLAT IRON CH 6OZ 2 PC': 'STEAK CHUCK FLAT IRON CH'}, {'CAB STK TOP BUTT 2/3 FAT-OFF 12OZ': 'STEAK SIRL TOP 2\\\\3CUT SKND'}, {'VEAL EYE RND MEDALLION': 'VEAL EYE RND MEDALLION BBRG'}, {'CAB STEAK PORTERHOUSE 1/4 TL 4OZ': 'STEAK PORTER 1\\\\2TL'}]\n",
            "53\n"
          ]
        },
        {
          "output_type": "stream",
          "name": "stderr",
          "text": [
            "Processing Batches: 100%|██████████| 1/1 [00:00<00:00,  1.32it/s]\n"
          ]
        },
        {
          "output_type": "stream",
          "name": "stdout",
          "text": [
            "[{'COD - FILLET 12/24 oz ICELANDIC Wild': 'COD FIL MKT FRESH'}, {'25 LB PLASTIC BASE + LID': 'CONTAINER FOOD FISH TUBS'}, {'SALMON - FILLET 3-4 FAROE ISLAND': 'SALMON FIL FAROE ISLD 3-4'}]\n",
            "54\n"
          ]
        },
        {
          "output_type": "stream",
          "name": "stderr",
          "text": [
            "Processing Batches: 100%|██████████| 1/1 [00:00<00:00,  2.03it/s]\n"
          ]
        },
        {
          "output_type": "stream",
          "name": "stdout",
          "text": [
            "[{'8 Kraft Folded Take-Out Box - 6 x 4-3/4 x': 'BOX PAPER TAKE OUT #8KRAFT'}, {'#5 Kraft Take-Out Box 8-1/2 x 8-1/2 x 2-5/8': 'BOX PAPER TAKE OUT KRFT #5'}]\n",
            "55\n"
          ]
        },
        {
          "output_type": "stream",
          "name": "stderr",
          "text": [
            "Processing Batches: 100%|██████████| 1/1 [00:00<00:00,  3.70it/s]\n"
          ]
        },
        {
          "output_type": "stream",
          "name": "stdout",
          "text": [
            "[{'Curls dark 5 lbs': 'CHOCOLATE CURL DARK'}, {'Curls white 5 lbs': 'CHOCOLATE CURL WHT'}]\n",
            "56\n"
          ]
        },
        {
          "output_type": "stream",
          "name": "stderr",
          "text": [
            "Processing Batches: 100%|██████████| 1/1 [00:02<00:00,  2.58s/it]\n"
          ]
        },
        {
          "output_type": "stream",
          "name": "stdout",
          "text": [
            "[{'STK SIRLOIN FLAP PLD 4/5LB C/V': 'BEEF SIRLOIN FLAP PLD C\\\\V'}, {'BF SIRLOIN FLAP RPKG C/V': 'BEEF SIRLOIN FLAP PLD C\\\\V'}, {'BF SIRLOIN FLAP RPKG C/V': 'BEEF SIRLOIN FLAP PLD C\\\\V'}, {'STK SIRLOIN FLAP PLD 4/5LB C/V': 'BEEF SIRLOIN FLAP PLD C\\\\V'}, {'BF SIRLOIN FLAP RPKG C/V': 'BEEF SIRLOIN FLAP PLD C\\\\V'}, {'BF SIRLOIN FLAP RPKG C/V': 'BEEF SIRLOIN FLAP PLD C\\\\V'}]\n",
            "57\n"
          ]
        },
        {
          "output_type": "stream",
          "name": "stderr",
          "text": [
            "Processing Batches: 100%|██████████| 1/1 [00:02<00:00,  2.97s/it]\n"
          ]
        },
        {
          "output_type": "stream",
          "name": "stdout",
          "text": [
            "[{'Pork Ground Raw': 'PORK GROUND RAW'}, {'Pork Shank Osso Bucco': 'PORK SHANK OSSO BUCCO 3IN GAP'}, {'Pork Belly Skin Off': 'PORK BELLY S/O'}, {'Pork Loin Rack 11 Rib Chine-Off': 'PORK LOIN RACK  11RIB CHN-OFF'}, {'Pork Loin Boneless Center Cut': 'PORK LOIN BNLS CC'}, {'Pork Butt Bone In Boxed 1x4 Inch': 'PORK BUTT BI BXD 1X4'}, {'Pork Butt Boneless 1x4': 'PORK BUTT BNLS 1X4 GAP'}, {'Pork Rib St Louis Competition': 'PORK RIB ST LOUIS COMPETITION'}]\n",
            "58\n"
          ]
        },
        {
          "output_type": "stream",
          "name": "stderr",
          "text": [
            "Processing Batches: 100%|██████████| 1/1 [00:00<00:00,  3.81it/s]\n"
          ]
        },
        {
          "output_type": "stream",
          "name": "stdout",
          "text": [
            "[{'SALMON ATL FLT 3-4#S/L E': 'SALMON ATL FIL SKLS 3-4 LB CAN'}, {'SALMON ATL FLT 2-3# S/L E': 'SALMON ATL FLT SKLS 2-3 LB CDN'}]\n",
            "59\n"
          ]
        },
        {
          "output_type": "stream",
          "name": "stderr",
          "text": [
            "Processing Batches: 100%|██████████| 1/1 [00:00<00:00,  2.10it/s]\n"
          ]
        },
        {
          "output_type": "stream",
          "name": "stdout",
          "text": [
            "[{'LOBSTR MT SLIPPER 1-3OZ': 'LOBSTER MEAT SLIPPER 1-3 OZ'}, {'LOBSTER TAIL NATL PREM': 'LOBSTER TAIL NATL PREM 12-14OZ'}, {'SCALLOP SEA U/12 DRY PORTICO': 'SCALLOP SEA DRY U/12 CT USA'}]\n",
            "60\n"
          ]
        },
        {
          "output_type": "stream",
          "name": "stderr",
          "text": [
            "Processing Batches: 100%|██████████| 57/57 [03:45<00:00,  3.96s/it]\n"
          ]
        },
        {
          "output_type": "stream",
          "name": "stdout",
          "text": [
            "[{'CAB BEEF BR[SKET 2PC/CS 10# UP': 'BEEF BRISKET DCKL-OFF 120'}, {'BEEF SHORT RIB BNLS SQ CUT M/A': 'BEEF CHUCK SHORT RIB BNLS M\\\\A'}, {'BEEF FAT TALLOW KOBE-SH[': 'BEEF FAT TALLOW KOBE-SHI'}, {'CAB UPON RIBEYE D/A 13-15#': 'BEEF RIBEYE LIPON D\\\\A'}, {'BEEF SHORT RIB 3-BONE X-LN CH': 'BEEF SHORT RIB 3BN XLNCH'}, {'BEEF SHORT RIB 3BN 38 GWSA': 'BEEF SHORT RIB 3BN 3\\\\8 GWSA CH'}, {'BEEF TOP BUTT HEART MMR JIC CH': 'BEEF SIRL TOP HEART MMR JIC CH'}, {'BEEF STRIPLOIN 0X1 CH RASUSHI': 'BEEF STRIPLOIN CH BN\\\\RA'}, {'BEEF TENDERLOIN PISMO 6UP CH': 'BEEF TENDER PSMO CH'}, {'GLACE DEMI VEAL CLASSIC 2536': 'GLACE DEMI VEAL CLS'}, {'PORK ROAST CROWN': 'PORK ROAST CROWN'}, {'STK CHUCK FLAT IRON CH BOZ': 'STEAK CHUCK FLAT IRON CH'}, {'CAB STK TENDER FILET CC 40Z': 'STEAK FILET C\\\\C'}, {'CAB STK TENDER FILET CC 6OZ': 'STEAK FILET C\\\\C'}, {'STK TENDER FILET CC CH 6OZ': 'STEAK FILET C\\\\C CH'}, {'STK TENDER FILET CC CH 5OZ': 'STEAK FILET C\\\\C CH BULK'}, {'STK TENDER FILET CC CH 8OZ BV': 'STEAK FILET C\\\\C CH BULK'}, {'STK TENDER FILET CC CH 5OZ': 'STEAK FILET C\\\\C CH BULK'}, {'CHSTKTENDER FILET CCBVV': 'STEAK FILET C\\\\C CH BULK C\\\\B'}, {'STEAK FILET CC VAC 1 V': 'STEAK FILET C\\\\C CH V1 C\\\\B'}, {'STK TENDER FILET CC COM 6OZ': 'STEAK FILET C\\\\C COM'}, {'BEEF HANGING TENDER PLO CH 6Z': 'STEAK HANGER TENDER'}, {'CAB IAP DRY AGE PORTER 1/2TL 2OZ': 'STEAK PORTER 1\\\\2TL D\\\\A IAP'}, {'CAB STK RIBEYE BNLS 0 TL CARL': 'STEAK RIBEYE BNLS 0TL CARSL'}, {'CAB STEAK RIBEYE BNLS 1TL Z': 'STEAK RIBEYE BNLS 1TL'}, {'STK RIBEYE BNLS 1TL CH 6OZ': 'STEAK RIBEYE BNLS 1TL CH'}, {'CAB STK BALL TIP NO-FAT 8OZ': 'STEAK SIRL BALLTIP SKND'}, {'STK BALL TIP NO-FAT RSV 8OZ TK': 'STEAK SIRL BALLTIP SKND RSVT\\\\K'}, {'STK CULOTTE CAP FAT-OFF CH': 'STEAK SIRL CAP STRIP CH'}, {'CAB SKIRT OUTSDE IAP 6OZ': 'STEAK SKIRT OUTSDE IAP'}, {'CAB STEAK SKIRT OUTSIDE NORD': 'STEAK SKIRT OUTSDE NDSTM'}, {'CAB PRM STRIP CC 12TL FXFIRE Z THK': 'STEAK STRIP C\\\\C 1\\\\2TL BSO PR'}, {'CAB STK STRIP CC 1/2TL 1/8TR B 8Z': 'STEAK STRIP C\\\\C 1\\\\8 1\\\\2TLBSO'}, {'CAB STK BALL TIP HOGI STYLE 6OZ': 'STEAK BALL TIP HOGI STYL CAB'}, {'PORK CHOP FRNCH SING-BN 1 TL': 'PORK CHOP B\\\\I C\\\\C FRCHD'}, {'CAB STEAK RIBEYE BI 1TL Z': 'STEAK RIBEYE B\\\\I 1TL'}, {'CAB STK CULOTTE CAP FAT-OFF 8OZ': 'STEAK SIRL CAP STRIP'}, {'CAB SRLN CAP SKND TAV ON': 'STEAK SIRL CAP STRIP SKND TOC'}, {'CAB STK CHUCK FLAT IRON 7OZ': 'STEAK CHUCK FLAT IRON'}, {'STK TENDER FILET CC CH 10OZ': 'STEAK FILET C\\\\C CH'}, {'CAB STK BALL TIP NO-FAT BFLY': 'STEAK SIRL BALLTIP BFLY SKND'}, {'STK STRIP CC 1/2TL CH NVKONH': 'STEAK STRIP C\\\\C 1\\\\2TLK\\\\ON\\\\VCH'}, {'CH SKIRT INSIDE DCD 1/2 X 1/2': 'BEEF SKIRT INS DCD 1\\\\2X1\\\\2 CH'}, {'PORK CHOP CC LOIN 8OZ': 'PORK CHOP B\\\\I C\\\\C LOIN'}, {'CAB STK TENDER FILET E-E 6OZ': 'STEAK FILET E\\\\E'}, {'CAB STK TENDER FILET E-E 8OZ': 'STEAK FILET E\\\\E'}, {'CAB STK STEP CC 1TL B-IN 16Z 6OZ': 'STEAK STRIP C\\\\C B\\\\I 1TL'}, {'STEAK FILET CC COMM 8PC': 'STEAK FILET C\\\\C COMM'}, {'CAB STK CULOTTE CAP FAT-OFF 6OZ': 'STEAK SIRL CAP STRIP'}, {'BEEF CHUCK SHORT RIB BNLS 5QR': 'BEEF SHORT RIB BNLS SQUARE CUT'}, {'PORK HIND SHANK BIN SAKURA': 'PORK SHANK HIND BONE IN'}, {'STK RIBEYE BNLS 1TI CH SOZ': 'STEAK RIBEYE BNLS 1TL CH'}, {'CAB DRY AGE RIBEYE BIN 1TL Z': 'STEAK RIBEYE B\\\\I 1TL D\\\\A'}, {'BEEF SHRTLN CH CTO CRUSIN H': 'STEAK SHORTLOIN CH S\\\\A CRUSIN'}, {'CAB STK BALL TIP NO-FAT 10OZ': 'STEAK SIRL BALLTIP SKND'}, {'STK STRIP CC 1TL ST-OFF 14Z PR': 'STEAK STRIP C\\\\C 1TL BSO PR'}, {'CAB PRM STRIP FIL MANHTN': 'STEAK STRIP FIL MANHTN PR'}, {'CAB STRIP CC 1TL ST-ON TOC': 'STEAK STRIP C\\\\C1TL BSO 1.5TK'}, {'PORK CHOP Bl NAT DA FRZ 83767': 'PORK CHOP B\\\\I RIB NAT D\\\\A FRZ'}, {'PORK CHOP FRNCH SINGLE-BN WMF': 'PORK CHOP FRCHD'}]\n",
            "61\n"
          ]
        },
        {
          "output_type": "stream",
          "name": "stderr",
          "text": [
            "Processing Batches: 100%|██████████| 1/1 [00:01<00:00,  1.04s/it]\n"
          ]
        },
        {
          "output_type": "stream",
          "name": "stdout",
          "text": [
            "[{'FRUIT CUP PEAR DICED': 'FRUIT CUP PEAR DICED'}, {'PEACH SLICED IN EXT LGHT SYRUP': 'PEACH SLICED IN EXT LGHT SYRUP'}, {'PEAR DICED IN JUICE': 'PEAR DICED IN JUICE'}, {'PINEAPPLE CHUNK JCE': 'PINEAPPLE CHUNK JCE'}]\n",
            "62\n"
          ]
        },
        {
          "output_type": "stream",
          "name": "stderr",
          "text": [
            "Processing Batches: 100%|██████████| 1/1 [00:01<00:00,  1.51s/it]\n"
          ]
        },
        {
          "output_type": "stream",
          "name": "stdout",
          "text": [
            "[{'APPLE SLICE IN WATER': 'APPLE SLICE IN WATER'}, {'FRUIT CUP PEACHES DICED== BSCC OC VALUE IS ==': 'FRUIT CUP PEACHES DICED'}, {'PEAR DICED IN JUICE': 'PEAR DICED IN JUICE'}, {'PINEAPPLE CHUNK JCE': 'PINEAPPLE CHUNK JCE'}, {'PINEAPPLE TIDBIT BID': 'PINEAPPLE TIDBIT BID'}]\n",
            "63\n"
          ]
        },
        {
          "output_type": "stream",
          "name": "stderr",
          "text": [
            "Processing Batches: 100%|██████████| 1/1 [00:01<00:00,  1.16s/it]\n"
          ]
        },
        {
          "output_type": "stream",
          "name": "stdout",
          "text": [
            "[{'FRUIT CUP PEAR DICED': 'FRUIT CUP PEAR DICED'}, {'PEACH SLICED IN EXT LGHT SYRUP': 'PEACH SLICED IN EXT LGHT SYRUP'}, {'PEAR DICED IN JUICE': 'PEAR DICED IN JUICE'}, {'PEAR SLICED IN JUICE': 'PEAR SLICED IN JUICE'}, {'PINEAPPLE TIDBIT BID': 'PINEAPPLE TIDBIT BID'}]\n",
            "64\n"
          ]
        },
        {
          "output_type": "stream",
          "name": "stderr",
          "text": [
            "Processing Batches: 100%|██████████| 1/1 [00:02<00:00,  2.21s/it]\n"
          ]
        },
        {
          "output_type": "stream",
          "name": "stdout",
          "text": [
            "[{'APPLE SLICE IN WATER': 'APPLE SLICE IN WATER'}, {'APPLESAUCE': 'APPLESAUCE'}, {'BEAN GREEN CUT FCY': 'BEAN GREEN CUT FCY'}, {'BEAN GREEN CUT LOW SODIUM': 'BEAN GREEN CUT LOW SODIUM'}, {'FRUIT COCKTAIL CH IN JCE': 'FRUIT COCKTAIL CH IN JCE'}, {'PEACH DICED W/PEAR JUICE': 'PEACH DICED W/PEAR JUICE'}, {'PINEAPPLE TIDBIT BID': 'PINEAPPLE TIDBIT BID'}]\n",
            "65\n"
          ]
        },
        {
          "output_type": "stream",
          "name": "stderr",
          "text": [
            "Processing Batches: 100%|██████████| 2/2 [00:06<00:00,  3.46s/it]\n"
          ]
        },
        {
          "output_type": "stream",
          "name": "stdout",
          "text": [
            "[{'APPLE SLICE IN WATER': 'APPLE SLICE IN WATER'}, {'APPLESAUCE UNSWTD': 'APPLESAUCE UNSWTD'}, {'FRUIT COCKTAIL ELS #10== BSCC OC VALUE IS ==': 'FRUIT COCKTAIL ELS #10'}, {'FRUIT MIXED ELS#10== BSCC OC VALUE IS ==': 'FRUIT MIXED ELS#10'}, {'PEACH DICED YELLOW CLING ELS': 'PEACH DICED YELLOW CLING ELS'}, {'PEACH SLI JUICE PK': 'PEACH SLI JUICE PK'}, {'PEACH SLICED IN EXT LGHT SYRUP': 'PEACH SLICED IN EXT LGHT SYRUP'}, {'PEAR DICED IN SYRUP ELS': 'PEAR DICED IN SYRUP ELS'}, {'PEAR SLICED IN JUICE': 'PEAR SLICED IN JUICE'}, {'PINEAPPLE CHUNK JCE': 'PINEAPPLE CHUNK JCE'}, {'PINEAPPLE TIDBIT BID': 'PINEAPPLE TIDBIT BID'}]\n",
            "66\n"
          ]
        },
        {
          "output_type": "stream",
          "name": "stderr",
          "text": [
            "Processing Batches: 100%|██████████| 1/1 [00:00<00:00,  2.84it/s]\n"
          ]
        },
        {
          "output_type": "stream",
          "name": "stdout",
          "text": [
            "[{'CRAWFISH 16-22 CKD IQF': 'CRAWFISH WHL CKD'}, {'SEASALAD SESAME 44#': 'SALAD SEAWEED HIYASHI WAKAME'}]\n",
            "67\n"
          ]
        },
        {
          "output_type": "stream",
          "name": "stderr",
          "text": [
            "Processing Batches: 100%|██████████| 1/1 [00:00<00:00,  3.46it/s]\n"
          ]
        },
        {
          "output_type": "stream",
          "name": "stdout",
          "text": [
            "[{'CANOLA CLEAR FRY': 'OIL CANOLA LIQ FRYING'}, {'ADMIRATION SOYBEAN': 'OIL SOYBEAN SALAD'}]\n",
            "68\n"
          ]
        },
        {
          "output_type": "stream",
          "name": "stderr",
          "text": [
            "Processing Batches: 100%|██████████| 1/1 [00:03<00:00,  3.61s/it]\n"
          ]
        },
        {
          "output_type": "stream",
          "name": "stdout",
          "text": [
            "[{'CHEESE AMER 16SL IW': 'CHEESE AMER 16SL IW SNGL'}, {'CHEESE AMER 120': 'CHEESE AMER 120 DELI SLI YEL'}, {'CHEESE AMER 120 SLI': 'CHEESE AMER 120 SLI YEL'}, {'CHEESE AMER QUESO': 'CHEESE AMER QUESO SGRO LF WHT'}, {'CHEESE ASIAGO SLI': 'CHEESE ASIAGO SLI'}, {'CHEESE QUESO': 'CHEESE QUESO FRESCO CRUMBLE'}, {'CHEESE CHEDDAR': 'CHEESE CHEDDAR SHARP W LOAF'}, {'CHEESE CHEDDAR': 'CHEESE CHEDDAR MILD LOAF YEL'}]\n",
            "69\n"
          ]
        },
        {
          "output_type": "stream",
          "name": "stderr",
          "text": [
            "Processing Batches: 100%|██████████| 1/1 [00:02<00:00,  2.56s/it]\n"
          ]
        },
        {
          "output_type": "stream",
          "name": "stdout",
          "text": [
            "[{'CHEESE AMER 16SL IW': 'CHEESE AMER 16SL IW SNGL'}, {'CHEESE AMER 120': 'CHEESE AMER 120 DELI SLI YEL'}, {'CHEESE AMER 120 SLI': 'CHEESE AMER 120 SLI YEL'}, {'CHEESE AMER QUESO': 'CHEESE AMER QUESO SGRO LF WHT'}, {'CHEESE ASIAGO SLI': 'CHEESE ASIAGO SLI'}, {'CHEESE QUESO': 'CHEESE QUESO FRESCO CRUMBLE'}, {'CHEESE CHEDDAR': 'CHEESE CHEDDAR SHARP W LOAF'}, {'CHEESE CHEDDAR': 'CHEESE CHEDDAR MILD LOAF YEL'}]\n",
            "70\n"
          ]
        },
        {
          "output_type": "stream",
          "name": "stderr",
          "text": [
            "Processing Batches: 100%|██████████| 1/1 [00:00<00:00,  3.02it/s]\n"
          ]
        },
        {
          "output_type": "stream",
          "name": "stdout",
          "text": [
            "[{'Jersey Mikes Mini White Sub': 'ROLL MINI WHT SUB'}, {'Jersey Mikes Wheat Sub': 'ROLL WHEAT SUB'}, {'Jersey Mikes White Sub': 'ROLL WHITE SUB'}]\n",
            "71\n"
          ]
        },
        {
          "output_type": "stream",
          "name": "stderr",
          "text": [
            "Processing Batches: 100%|██████████| 1/1 [00:00<00:00,  2.92it/s]\n"
          ]
        },
        {
          "output_type": "stream",
          "name": "stdout",
          "text": [
            "[{'Jersey Mikes Mini White Sub': 'ROLL MINI WHT SUB'}, {'Jersey Mikes Wheat Su': 'ROLL WHEAT SUB'}, {'Jersey Mikes White Sub': 'ROLL WHITE SUB'}]\n",
            "72\n"
          ]
        },
        {
          "output_type": "stream",
          "name": "stderr",
          "text": [
            "Processing Batches: 100%|██████████| 1/1 [00:00<00:00,  2.92it/s]\n"
          ]
        },
        {
          "output_type": "stream",
          "name": "stdout",
          "text": [
            "[{'Jersey Mikes Mini White Sub': 'ROLL MINI WHT SUB'}, {'Jersey Mikes Wheat Sub': 'ROLL WHEAT SUB'}, {'Jersey Mikes White Sub1': 'ROLL WHITE SUB'}]\n",
            "73\n"
          ]
        },
        {
          "output_type": "stream",
          "name": "stderr",
          "text": [
            "Processing Batches: 100%|██████████| 1/1 [00:00<00:00,  2.42it/s]\n"
          ]
        },
        {
          "output_type": "stream",
          "name": "stdout",
          "text": [
            "[{'12Z CN 24P COKE': 'SODA COCA COLA CLS'}, {'20Z PT 24LS COKE': 'SODA COKE CLS CONTOUR TRAY PK'}, {'12Z CN 24P DT COKE': 'SODA COKE DIET'}]\n",
            "74\n"
          ]
        },
        {
          "output_type": "stream",
          "name": "stderr",
          "text": [
            "Processing Batches: 100%|██████████| 2/2 [00:04<00:00,  2.01s/it]\n"
          ]
        },
        {
          "output_type": "stream",
          "name": "stdout",
          "text": [
            "[{'BEEF': 'BEEF TACO FLLNG RED PPR'}, {'BEEF': 'BEEF PATTY 3-1 BEST EVER'}, {'PATTIE': 'BEEF PIZZA PATTIES 3.5OZ'}, {'BRD': 'BEEF BURGER TNDRBT 81/19 3-1'}, {'BEEF': 'BEEF GRND PTY 81\\\\19 SILVER IQF'}, {'BEEF': 'BEEF PATTY SEASONED BIG BITE'}, {'MEATBALL': 'MEATBALL BEEF PRCKD 1 OZ'}, {'BEEF': 'BEEF ROAST POT CKD FRZ'}, {'STEAK': 'STEAK SIRL RESD FRZN'}, {'BEEF': 'CHICKEN TENDER BRD FRITT DIXIE'}, {'BRD': 'CHICKEN BNLS BRD WINGS'}]\n",
            "75\n"
          ]
        },
        {
          "output_type": "stream",
          "name": "stderr",
          "text": [
            "Processing Batches: 100%|██████████| 3/3 [00:10<00:00,  3.58s/it]\n"
          ]
        },
        {
          "output_type": "stream",
          "name": "stdout",
          "text": [
            "[{'1881 TENDERLOIN C/C 10 OZ -': 'STEAK FILET C\\\\C HERF1881'}, {'BEEF STK FSH TENDERLOIN CC': 'STEAK SIRL C\\\\C 1.25 SKND HERF'}, {'RESERVE RIBYE BNLS 1TL 12': 'STEAK RIBEYE BNLS 1TL RSV'}, {'HERF 1881 RIBEYE C\\\\C 16 OZ': 'STEAK RIBEYE HF1881 OTL 1.50TK'}, {'CLASSIC BALL TIP 6 OZ S -': 'STEAK SIRL BALLTIP HERF'}, {'RESERVE BALL TIP SKND 6': 'STEAK SIRL BALLTIP SKND RSV'}, {'CLASSIC SIRLOIN STCC 10 OZ': 'STEAK SIRL C\\\\C SKND HERF'}, {'CLASSIC SIRLOIN STCC 8': 'STEAK SIRL C\\\\C SKND HERF'}, {'CLASSIC SIRLOIN STCC 10 OZ-': 'STEAK FILET C\\\\C UTIL'}, {'CLASSIC SIRLOIN STCC 6 OZ -': 'STEAK SIRL C\\\\C SKND HERF'}, {'RESERVE SIRLOIN TOP BB SKND': 'STEAK SIRL TOP BSBALL SKND RSV'}, {'CLASSIC TOP SIRLOIN 6 OZ': 'STEAK SIRL TOP HERF'}, {'CLASSIC TOP SIRLOIN 10 OZ': 'STEAK SIRLOIN TOP HERF'}]\n",
            "76\n"
          ]
        },
        {
          "output_type": "stream",
          "name": "stderr",
          "text": [
            "Processing Batches: 100%|██████████| 1/1 [00:02<00:00,  2.36s/it]\n"
          ]
        },
        {
          "output_type": "stream",
          "name": "stdout",
          "text": [
            "[{'BEEF PATTIE FRZ BEST EVER': 'BEEF BURGER BEST EVER 4-1'}, {'BEEF PATTIE FRZ GOLD TB': 'BEEF BURGER TNDRBT 81/19 3-1'}, {'BEEF PATTIE FRZ HERF CHUCK': 'BEEF GRND PTY CHUCK HERF IQF'}, {'BEEF PATTIE FRZ HERF CHUCK': 'BEEF GRND PTY CHUCK HERF IQF'}, {'PORK P/C SHREDDED PLAIN': 'PORK PULLED CKD'}, {'TACO FILLING 2-5#': 'BEEF TACO FILLING'}, {'BRD CHICKEN WING BONELESS': 'CHICKEN BNLS BRD WINGS'}]\n",
            "77\n"
          ]
        },
        {
          "output_type": "stream",
          "name": "stderr",
          "text": [
            "Processing Batches: 100%|██████████| 1/1 [00:00<00:00,  2.19it/s]\n"
          ]
        },
        {
          "output_type": "stream",
          "name": "stdout",
          "text": [
            "[{'Plus Orange Juice Cups 96/4oz': 'JUICE ORANGE STABLE'}, {'Plus Apple Juice Cups 96/4oz': 'JUICE APPLE SHELF STABLE'}, {'Plus 15% Cranberry Juice Cups 96/4oz': 'JUICE CRANBERRY 15% SS CUP'}]\n",
            "78\n"
          ]
        },
        {
          "output_type": "stream",
          "name": "stderr",
          "text": [
            "Processing Batches: 100%|██████████| 1/1 [00:00<00:00,  1.59it/s]\n"
          ]
        },
        {
          "output_type": "stream",
          "name": "stdout",
          "text": [
            "[{'HC Plus Diet Cranberry': 'JUICE CRANBERRY DIET'}, {'HC Plus Orange Juice': 'JUICE ORANGE STABLE'}, {'HC Plus Grape Juice': 'JUICE GRAPE SHELF STABLE'}, {'HC Plus 15% Cranberry': 'JUICE CRANBERRY 15% SS CUP'}]\n",
            "79\n"
          ]
        },
        {
          "output_type": "stream",
          "name": "stderr",
          "text": [
            "Processing Batches: 100%|██████████| 1/1 [00:00<00:00,  3.48it/s]\n"
          ]
        },
        {
          "output_type": "stream",
          "name": "stdout",
          "text": [
            "[{'5032000716 SF Homogenized Milk 1/5 Gal': 'MILK HOMOGENIZED'}, {'5032000717 SF 2% Reduced Fat Milk 1/5 Gal': 'MILK 2% RDUC FAT'}]\n",
            "80\n"
          ]
        },
        {
          "output_type": "stream",
          "name": "stderr",
          "text": [
            "Processing Batches: 100%|██████████| 1/1 [00:01<00:00,  1.21s/it]\n"
          ]
        },
        {
          "output_type": "stream",
          "name": "stdout",
          "text": [
            "[{'SF Heavy Cream 9/5 Gal': 'CREAM HEAVY'}, {'8041100029 SF Milk Homogenized Ul Gal': 'MILK HOMOGENIZED'}, {'8041100030 SF Milk 2% REDUCE FAT 2/1 Gal': 'MILK 2% RDUC FAT'}, {'8041100050 SF Half & Half Quarts': 'CREAMER HALF & HALF'}, {'Empty Gallon Jug 48/128oz': 'JUG PLAS GALLON'}]\n",
            "81\n"
          ]
        },
        {
          "output_type": "stream",
          "name": "stderr",
          "text": [
            "Processing Batches: 100%|██████████| 1/1 [00:00<00:00,  1.20it/s]\n"
          ]
        },
        {
          "output_type": "stream",
          "name": "stdout",
          "text": [
            "[{'Buc-ees 6 fl oz Chocolate w/': 'ICE CREAM SNDW DB CHOC VAN'}, {'Buc-ees 6 fl oz Sugar w/ Salted': 'ICE CREAM SNDW CRML SUG CKIE'}, {'Buc-ees 6 fl oz Chocolate w/': 'ICE CREAM SNDW DB CHOC VAN'}, {'Buc-ees 6 fl oz Sugar w/': 'ICE CREAM SNDW SUG CKI STRWBRY'}]\n",
            "82\n"
          ]
        },
        {
          "output_type": "stream",
          "name": "stderr",
          "text": [
            "Processing Batches: 100%|██████████| 1/1 [00:00<00:00,  4.02it/s]\n"
          ]
        },
        {
          "output_type": "stream",
          "name": "stdout",
          "text": [
            "[{'Chicken Steak Philly Gosh-30 lbs': 'CHICKEN PHILLY STEAK 3 OZ'}, {'Beef Steak Philly Gosh-30 lbs': 'BEEF STEAK PHILLY SLI THIN 3OZ'}]\n",
            "83\n"
          ]
        },
        {
          "output_type": "stream",
          "name": "stderr",
          "text": [
            "Processing Batches: 100%|██████████| 1/1 [00:00<00:00,  3.41it/s]\n"
          ]
        },
        {
          "output_type": "stream",
          "name": "stdout",
          "text": [
            "[{'LA SPAGNOLA BLENDED VEGETABLE': 'OIL VEG /PURE OLIVE 90/10 BLND'}, {'SICILIA 90/10 CANOLA/EXTRA VIRGIN OLIVE': 'OIL CANOLA/OLIVE BLEND 90/10'}]\n",
            "84\n"
          ]
        },
        {
          "output_type": "stream",
          "name": "stderr",
          "text": [
            "Processing Batches: 100%|██████████| 1/1 [00:00<00:00,  3.38it/s]\n"
          ]
        },
        {
          "output_type": "stream",
          "name": "stdout",
          "text": [
            "[{'Beef Steak Philly Gosh-30 lbs': 'BEEF STEAK PHILLY SLI THIN 3OZ'}, {'Chicken Steak Philly Gosh-30 lbs': 'CHICKEN PHILLY STEAK 3 OZ'}]\n",
            "85\n"
          ]
        },
        {
          "output_type": "stream",
          "name": "stderr",
          "text": [
            "Processing Batches: 100%|██████████| 1/1 [00:00<00:00,  3.70it/s]\n"
          ]
        },
        {
          "output_type": "stream",
          "name": "stdout",
          "text": [
            "[{'LA SPAGNOLA BLENDED VEGETABLE AND': 'OIL VEG /PURE OLIVE 90/10 BLND'}, {'JERSEY MIKES RED WINE VINEGAR': 'VINEGAR RED WINE'}]\n",
            "86\n"
          ]
        },
        {
          "output_type": "stream",
          "name": "stderr",
          "text": [
            "Processing Batches: 100%|██████████| 1/1 [00:03<00:00,  3.31s/it]\n"
          ]
        },
        {
          "output_type": "stream",
          "name": "stdout",
          "text": [
            "[{'Huy Fong Sambel Oelek (Ground Chili Sauce) 3xl Gallon': 'PASTE CHILI GRND SAMBAL OELEK'}, {'FROZEN / REF Longevity Brand Lo Mein Noodles 6x5#': 'NOODLE EGG FRSH LO MEIN'}, {'House To Fu Organic Firm 12x12oz': 'TOFU FIRM ORGANIC'}, {'FROZEN TYJ 85 Spring Roll Wrapper 800Ct': 'SPRING ROLL WRAPPER'}, {'FROZEN Lucky Brand Eggroll Skins 6x5#': 'EGGROLL SKIN WRAPPER'}, {'FROZEN Lucky Brand Wonton Skin 12x2lb': 'WONTON SKIN FOR SOUP'}]\n",
            "87\n"
          ]
        },
        {
          "output_type": "stream",
          "name": "stderr",
          "text": [
            "Processing Batches: 100%|██████████| 1/1 [00:02<00:00,  2.24s/it]\n"
          ]
        },
        {
          "output_type": "stream",
          "name": "stdout",
          "text": [
            "[{'6 cass BEEF GRND CHUCK PATTY 4oz': 'BEEF GRND CHUCK PATTY 4OZ'}, {'18 cases BEEF GRND THICK PATTY 80/20': 'BEEF GRND THICK PATTY 80/20'}, {'110 cases BEEF GRND PATTY HMSTYL 80/20': 'BEEF GRND PATTY HMSTYL 80/20'}, {'18 cases beef diced inside rnd 1/4': 'BEEF DICED INSIDE RND 1/4'}, {'1 cases BEEF CHUCK GRND PTY 4-1 4oz': 'BEEF CHUCK GRND PTY 4-1 4OZ'}]\n",
            "88\n"
          ]
        },
        {
          "output_type": "stream",
          "name": "stderr",
          "text": [
            "Processing Batches: 100%|██████████| 1/1 [00:00<00:00,  3.71it/s]\n"
          ]
        },
        {
          "output_type": "stream",
          "name": "stdout",
          "text": [
            "[{'Curls white 5 lbs': 'CHOCOLATE CURL WHT'}, {'Curls dark 5 lbs': 'CHOCOLATE CURL DARK'}]\n",
            "89\n"
          ]
        },
        {
          "output_type": "stream",
          "name": "stderr",
          "text": [
            "Processing Batches: 100%|██████████| 1/1 [00:00<00:00,  2.52it/s]\n"
          ]
        },
        {
          "output_type": "stream",
          "name": "stdout",
          "text": [
            "[{'TEQUENO CHEESE (RAW) X 50 UN SYSC': 'PASTRY CHEESE TEQUENOS JMBO'}, {'TEQUENO CHEESE (RAW) X 100 UN': 'PASTRY CHEESE TEQUENO RAW MINI'}]\n",
            "90\n"
          ]
        },
        {
          "output_type": "stream",
          "name": "stderr",
          "text": [
            "Processing Batches: 100%|██████████| 1/1 [00:00<00:00,  1.06it/s]\n"
          ]
        },
        {
          "output_type": "stream",
          "name": "stdout",
          "text": [
            "[{'1400-GRAVY BASESCHNITZEL': 'GRAVY BASE SCHNITZEL'}, {'1100-SAUCE CHEESE BEERBIERGARTEN': 'SAUCE CHEESE BEER BIERGARTEN'}, {'1000- SAUCE CHEESEBIERGARTEN': 'SAUCE CHEESE BIERGARTEN'}, {'Lolos HAWAIIAN BBQSAUCE TERIYAKI': 'SAUCE BBQ TERIYAKI'}]\n",
            "91\n"
          ]
        },
        {
          "output_type": "stream",
          "name": "stderr",
          "text": [
            "Processing Batches: 100%|██████████| 1/1 [00:00<00:00,  4.21it/s]\n"
          ]
        },
        {
          "output_type": "stream",
          "name": "stdout",
          "text": [
            "[{'BCN TRK SLCS 52 Godshalls': 'BACON TURKEY SLI SMK BULK'}, {'BCN BF SLCD DRC 52 DEEN': 'BEEF BACON SLI HALAL'}]\n",
            "92\n"
          ]
        },
        {
          "output_type": "stream",
          "name": "stderr",
          "text": [
            "Processing Batches: 100%|██████████| 1/1 [00:00<00:00,  4.04it/s]\n"
          ]
        },
        {
          "output_type": "stream",
          "name": "stdout",
          "text": [
            "[{'Slim Chickens Jar-12': 'JAR GLASS EMBOSD SLIM CHICKEN'}, {'Massilly Lid-Silver/Buff': 'LID ALMN WHT LINE F/SLCK JAR'}]\n",
            "93\n"
          ]
        },
        {
          "output_type": "stream",
          "name": "stderr",
          "text": [
            "Processing Batches: 100%|██████████| 1/1 [00:00<00:00,  1.91it/s]\n"
          ]
        },
        {
          "output_type": "stream",
          "name": "stdout",
          "text": [
            "[{'SYSCO 10X6X3 WK LEE FOR': 'BOX FOOD 10X6X3 W/K LEE FORD'}, {'SYSCO 14 WK LEE FOR': 'PIZZA BOX 14IN W/K LEE FORD'}, {'SYSCO 16 KK DEERSI': 'PIZZA BOX 16IN K/K DEERSIDE'}]\n",
            "94\n"
          ]
        },
        {
          "output_type": "stream",
          "name": "stderr",
          "text": [
            "Processing Batches: 100%|██████████| 1/1 [00:02<00:00,  2.68s/it]\n"
          ]
        },
        {
          "output_type": "stream",
          "name": "stdout",
          "text": [
            "[{'Tart Shell 3': 'TART SHELL SWEET UNBAKED'}, {'Tart Shell 4': 'TART SHELL SWT'}, {'Tart Shell 2': 'TART SHELL'}, {'Puff Pastry Sheet': 'DOUGH PUFF PASTRY SHEET 15X22'}, {'Apple Petit Strudel': 'STRUDEL APPLE PETITE'}, {'Raspberry Petit': 'STRUDEL RASPBERRY PETITE'}, {'PB Sandwich Croissan': 'CROISSANT BUTR PRE-BAKED'}, {'Pain au Lait': 'BUN SANDWICH PAIN AU LAIT'}]\n",
            "95\n"
          ]
        },
        {
          "output_type": "stream",
          "name": "stderr",
          "text": [
            "Processing Batches: 100%|██████████| 1/1 [00:00<00:00,  2.28it/s]\n"
          ]
        },
        {
          "output_type": "stream",
          "name": "stdout",
          "text": [
            "[{'EEF STRIPLOIN 1X1 BNLS DA': 'BEEF STRIPLOIN 1X1 BNLS D\\\\A'}, {'BEEF RIBEYE BNLS DA': 'BEEF RIBEYE BNLS D\\\\A'}]\n",
            "96\n"
          ]
        },
        {
          "output_type": "stream",
          "name": "stderr",
          "text": [
            "Processing Batches: 100%|██████████| 1/1 [00:00<00:00,  2.67it/s]\n"
          ]
        },
        {
          "output_type": "stream",
          "name": "stdout",
          "text": [
            "[{'NUT MIX CASHEW POM': 'NUT MIX CASHEW POM'}, {'NUT MIX ALM MANGO': 'NUT MIX ALM MANGO TANGO 1.5OZ'}]\n",
            "97\n"
          ]
        },
        {
          "output_type": "stream",
          "name": "stderr",
          "text": [
            "Processing Batches: 100%|██████████| 1/1 [00:01<00:00,  1.27s/it]\n"
          ]
        },
        {
          "output_type": "stream",
          "name": "stdout",
          "text": [
            "[{'BASS SEA CHILEAN SKIN ON BNLS': 'BASS SEA CHILEAN SKIN ON BNLS'}, {'LOBSTER MT SLIPPER 1-3OZ 30#CS': 'LOBSTER MEAT SLIPPER 1-3 OZ'}, {'COD SEA DRY SLTD BACCALA': 'COD SEA DRY SLTD BACCALA'}, {'SALMON SIDE ORIG SMOKED': 'SALMON SIDE ORIG SMK'}]\n",
            "98\n"
          ]
        },
        {
          "output_type": "stream",
          "name": "stderr",
          "text": [
            "Processing Batches: 100%|██████████| 1/1 [00:01<00:00,  1.23s/it]\n"
          ]
        },
        {
          "output_type": "stream",
          "name": "stdout",
          "text": [
            "[{'SAUCE HOT DISPTEXAS PETE': 'SAUCE HOT DISP TEXAS PETE'}, {'BEEF JERKY ORIG': 'BEEF JERKY ORIG'}, {'ORANGE MANDARINSECT JUICE CUP': 'ORANGE MANDARIN SECT JUICE CUP'}, {'BEAN GREAT NRTHRNFCY': 'BEAN GREAT NRTHRN FCY'}]\n",
            "99\n"
          ]
        },
        {
          "output_type": "stream",
          "name": "stderr",
          "text": [
            "Processing Batches: 100%|██████████| 1/1 [00:00<00:00,  3.05it/s]\n"
          ]
        },
        {
          "output_type": "stream",
          "name": "stdout",
          "text": [
            "[{'CORN FLAKE CRUMB': 'CORN FLAKE CRUMB'}, {'COOKIE MINI CHIPS': 'COOKIE MINI CHIPS AHOY'}]\n",
            "100\n"
          ]
        },
        {
          "output_type": "stream",
          "name": "stderr",
          "text": [
            "Processing Batches: 100%|██████████| 1/1 [00:03<00:00,  3.71s/it]\n"
          ]
        },
        {
          "output_type": "stream",
          "name": "stdout",
          "text": [
            "[{'Buttermilk Ranch Dressing': 'DRESSING RANCH BUTTERMILK LOGO'}, {'7153910 Fresh Herb VinaigretteDressing': 'DRESSING HERB VINAIGRETTE LOGO'}, {'Ginger Lime Dressing': 'DRESSING GINGER LIME LOGO'}, {'Lemon Vinaigrette Dressing': 'DRESSING LEMON VINAIGRETTE'}, {'Jalapeno Avocado Dressing': 'DRESSING AVOCADO JALAPENO LOGO'}, {'Fat Free Mango Dressing': 'DRESSING MANGO FAT FREE LOGO'}, {'Sundried Tomato Dressing': 'DRESSING TOMATO SUNDRIED LOGO'}]\n",
            "101\n"
          ]
        },
        {
          "output_type": "stream",
          "name": "stderr",
          "text": [
            "Processing Batches: 100%|██████████| 1/1 [00:00<00:00,  2.61it/s]\n"
          ]
        },
        {
          "output_type": "stream",
          "name": "stdout",
          "text": [
            "[{'Bacon Egg Gouda 24/cs': 'SANDWICH BRKFST BACON GOUDA'}, {'Chorizo Egg Red Pep Sandwich': 'SANDWICH BRKFST CHORIZO BISTRO'}]\n",
            "102\n"
          ]
        },
        {
          "output_type": "stream",
          "name": "stderr",
          "text": [
            "Processing Batches: 100%|██████████| 1/1 [00:00<00:00,  2.65it/s]\n"
          ]
        },
        {
          "output_type": "stream",
          "name": "stdout",
          "text": [
            "[{'SALMON FIL CHILE 3/4LB DTRIM': 'SALMON ATL FIL D-TRIM 3-4# CHL'}, {'SALMON FIL CHILE 3/4LB DTRIM': 'SALMON ATL FIL D-TRIM 3-4# CHL'}]\n",
            "103\n"
          ]
        },
        {
          "output_type": "stream",
          "name": "stderr",
          "text": [
            "Processing Batches: 100%|██████████| 1/1 [00:00<00:00,  1.26it/s]\n"
          ]
        },
        {
          "output_type": "stream",
          "name": "stdout",
          "text": [
            "[{'Napkin Band Burgundy 15 x 425- SYSCO': 'BAND NAPKIN PAPR 1.5X4.25 BURG'}, {'Napkin Band Hunter Green 15 x 425- SYSCO': 'BAND NAPKIN 1.5X4.25 HTR GREEN'}, {'Napkin Band White 15 x 425- SYSCO': 'BAND NAPKIN PAPR 1.5X4.25 WHT'}]\n",
            "104\n"
          ]
        },
        {
          "output_type": "stream",
          "name": "stderr",
          "text": [
            "Processing Batches: 100%|██████████| 2/2 [00:07<00:00,  3.98s/it]\n"
          ]
        },
        {
          "output_type": "stream",
          "name": "stdout",
          "text": [
            "[{'SHRIMP U8-12 TIGER': 'SHRIMP TGR P&D 8/12CT TAIL/ON'}, {'TROUT 7-9OZ PBO HDLS RAINBOWIDAHO': 'TROUT FILET PBO 8 OZ'}, {'SALMONSCOTTISH5-6 KG SCALEDHAVE AT LEAST SIX DAYS OF SHELF LIFE': 'SALMON SCOTTISH WHL SCLD & GTD'}, {'TUNA AHI GROUND AAA 2/11#CS': 'TUNA AHI GRND FRZ'}, {'TOBIKO RED 24/11#': 'ROE FLYINGFISH TOBIKO RED'}, {'FROGLEG 4-6 PR/# 5# BOX': 'FROG LEG 4-6 IQF CM'}, {'CAVIAR 4 OZ BLKAMERICAN': 'CAVIAR AMERICAN STURGEON'}, {'80544011561 01SCOTTISH SALMON': 'SALMON SCOTTISH WHL FRZ'}, {'IMITATION CRAB MEAT 35': 'CRAB IMIT SURIMI STK'}, {'OYSTER XSM PACIFIC SHUCKED': 'OYSTER SHUCKED WEST COAST'}]\n",
            "105\n"
          ]
        },
        {
          "output_type": "stream",
          "name": "stderr",
          "text": [
            "Processing Batches: 100%|██████████| 1/1 [00:00<00:00,  1.92it/s]\n"
          ]
        },
        {
          "output_type": "stream",
          "name": "stdout",
          "text": [
            "[{'COFFEE GRNDESPRESSO KCUP': 'COFFEE GRND ESPRESSO KCUP'}, {'COFFEE GRNDFOLGERS ORIGN KCUP': 'COFFEE GRND FOLGERS ORIGN KCUP'}, {'TEA HOT KCUP CHAILATTE': 'TEA HOT KCUP CHAI LATTE'}]\n",
            "106\n"
          ]
        },
        {
          "output_type": "stream",
          "name": "stderr",
          "text": [
            "Processing Batches: 100%|██████████| 1/1 [00:02<00:00,  2.35s/it]\n"
          ]
        },
        {
          "output_type": "stream",
          "name": "stdout",
          "text": [
            "[{'(CSO) 12x12x1625 Pizza Boxe White/Kraft - INFERNO - 1 c': 'BOX PIZZA INFRNO CUSTOM'}, {'(CSO) 12x12x1625 Pizza Boxe White/Kraft - PINKY G - 2 co': 'BOX PIZZA CORR 12 CSTM'}, {'(CSO) 16x16x1625 Pizza Box Be Kraft/Kraft - RED LODGE - 4 c': 'BOX PIZZA CORR 16 CSTM'}, {'(CSO) 14x14x1625 Pizza Box Be Kraft/Kraft - RED LODGE - 4 c': 'BOX PIZZA CORR 14 CSTM'}, {'e Kraft/Kraft - RED LODGE - 4 c': 'BOX PIZZA CORR 3 COL CUSTOM 12'}, {'(CSO) 10x10x1625 Pizza Box Be Kraft/Kraft - RED LODGE - 4 c': 'BOX PIZZA CORR 10 CSTM'}]\n",
            "107\n"
          ]
        },
        {
          "output_type": "stream",
          "name": "stderr",
          "text": [
            "Processing Batches: 100%|██████████| 1/1 [00:00<00:00,  2.88it/s]\n"
          ]
        },
        {
          "output_type": "stream",
          "name": "stdout",
          "text": [
            "[{'MIX BROWNIE': 'MIX BROWNIE DBL DARK CHOC'}, {'MIX WAFFLE': 'MIX WAFFLE CONE COMPLT'}, {'BREADING': 'BREADING MIX CRACKERMEAL'}]\n",
            "108\n"
          ]
        },
        {
          "output_type": "stream",
          "name": "stderr",
          "text": [
            "Processing Batches: 100%|██████████| 1/1 [00:00<00:00,  3.61it/s]\n"
          ]
        },
        {
          "output_type": "stream",
          "name": "stdout",
          "text": [
            "[{'SHORTENING SOY BLEND 35 LB JIB': 'SHORTENING SOY BLEND 35 LB JIB'}, {'SHORTENING FRY 35 LB JIB': 'SHORTENING FRY 35 LB JIB'}]\n",
            "109\n"
          ]
        },
        {
          "output_type": "stream",
          "name": "stderr",
          "text": [
            "Processing Batches: 100%|██████████| 2/2 [00:04<00:00,  2.50s/it]\n"
          ]
        },
        {
          "output_type": "stream",
          "name": "stdout",
          "text": [
            "[{'PEPPER GREEN BELLCHOICE FRESH': 'PEPPER GREEN BELL CHOICE FRESH'}, {'SPROUT BEAN FRESH': 'SPROUT BEAN FRESH'}, {'SPROUT ALFALFAFRSH': 'SPROUT ALFALFA FRSH'}, {'PEPPER JALAPENOFRESH': 'PEPPER JALAPENO FRESH'}, {'MELON WATERMELONSDLESS BIN': 'MELON WATERMELON SDLESS BIN'}, {'GREEN COLLARDFRESH': 'GREEN COLLARD FRESH'}, {'PEPPER JALAPENOJMBO': 'PEPPER JALAPENO JMBO'}, {'CABBAGE GREENFRSH LARGE': 'CABBAGE GREEN FRSH LARGE'}, {'CORN SWEET YELLOWFRESH': 'CORN SWEET YELLOW FRESH'}]\n",
            "110\n"
          ]
        },
        {
          "output_type": "stream",
          "name": "stderr",
          "text": [
            "Processing Batches: 100%|██████████| 1/1 [00:00<00:00,  2.71it/s]\n"
          ]
        },
        {
          "output_type": "stream",
          "name": "stdout",
          "text": [
            "[{'MIX CAKE RED VELVET': 'MIX CAKE RED VELVET'}, {'MIX CAKE CARROT': 'MIX CAKE CARROT W/ICING'}]\n",
            "111\n"
          ]
        },
        {
          "output_type": "stream",
          "name": "stderr",
          "text": [
            "Processing Batches: 100%|██████████| 1/1 [00:00<00:00,  3.21it/s]\n"
          ]
        },
        {
          "output_type": "stream",
          "name": "stdout",
          "text": [
            "[{'POPCORN ORIGINAL': 'POPCORN ORIGINAL'}, {'CHIP POTATO TERRA': 'CHIP POTATO TERRA BLU'}]\n",
            "112\n"
          ]
        },
        {
          "output_type": "stream",
          "name": "stderr",
          "text": [
            "Processing Batches: 100%|██████████| 1/1 [00:00<00:00,  2.05it/s]\n"
          ]
        },
        {
          "output_type": "stream",
          "name": "stdout",
          "text": [
            "[{'1/5LB SLICED KIRBY CUKE 3/16 90952/5# SAMPLE': 'CUCUMBER KIRBY SLICED'}, {'2/5# SAMPLE': 'SAMPLE PRODUCE #4'}]\n",
            "113\n"
          ]
        },
        {
          "output_type": "stream",
          "name": "stderr",
          "text": [
            "Processing Batches: 100%|██████████| 1/1 [00:00<00:00,  2.18it/s]\n"
          ]
        },
        {
          "output_type": "stream",
          "name": "stdout",
          "text": [
            "[{'Beef Hamburger XL-5oz-10lbs-Vac': 'BEEF GRND PATTY FRSH 5 OZ 5/8'}, {'Beef Hamburger XL-8oz-10lbs-Vac': 'BEEF GRND PATTY FRSH 8 OZ 7/8'}]\n",
            "114\n"
          ]
        },
        {
          "output_type": "stream",
          "name": "stderr",
          "text": [
            "Processing Batches: 100%|██████████| 1/1 [00:00<00:00,  2.86it/s]\n"
          ]
        },
        {
          "output_type": "stream",
          "name": "stdout",
          "text": [
            "[{'PO3 PIE COCONUT CHESS': 'PIE COCONUT CHESS'}, {'PO2 PIE PECAN CRM CHS': 'PIE PECAN CRM CHS'}]\n",
            "115\n"
          ]
        },
        {
          "output_type": "stream",
          "name": "stderr",
          "text": [
            "Processing Batches: 100%|██████████| 1/1 [00:00<00:00,  1.07it/s]\n"
          ]
        },
        {
          "output_type": "stream",
          "name": "stdout",
          "text": [
            "[{'BF FLT SIRLOIN WHISKEY 16/10oz': 'STEAK BALL TIP WHISKEY MARN'}, {'BF CHO CHISLIC STK BITES 20/8oz': 'BEEF CUBED CHISLIC'}, {'BF TREPAS SMALL INTESTINE 15LB': 'BEEF TRIPAS'}, {'PK WHL BBQ HOG 70/80LB 1 CARCASS': 'PIG WHOLE 61/80 HEAD-ON'}]\n",
            "116\n"
          ]
        },
        {
          "output_type": "stream",
          "name": "stderr",
          "text": [
            "Processing Batches: 100%|██████████| 1/1 [00:00<00:00,  1.81it/s]\n"
          ]
        },
        {
          "output_type": "stream",
          "name": "stdout",
          "text": [
            "[{'Jersey Mikes Mini Wheat Sub': 'ROLL MINI WHEAT SUB'}, {'Jersey Mikes Mini White Sub': 'ROLL MINI WHT SUB'}, {'Jersey Mikes Wheat Sub': 'ROLL WHEAT SUB'}, {'Jersey Mikes White Sub': 'ROLL WHITE SUB'}]\n",
            "117\n"
          ]
        },
        {
          "output_type": "stream",
          "name": "stderr",
          "text": [
            "Processing Batches: 100%|██████████| 1/1 [00:00<00:00,  5.39it/s]"
          ]
        },
        {
          "output_type": "stream",
          "name": "stdout",
          "text": [
            "[{'All Natural Plain Bagel': 'DOUGH BAGEL PLAIN'}, {'Jersey Mikes White Sub': 'ROLL WHITE SUB'}]\n",
            "118\n"
          ]
        },
        {
          "output_type": "stream",
          "name": "stderr",
          "text": [
            "\n",
            "Processing Batches: 100%|██████████| 1/1 [00:02<00:00,  2.20s/it]\n"
          ]
        },
        {
          "output_type": "stream",
          "name": "stdout",
          "text": [
            "[{'All Natural French Toast Bagel': 'DOUGH BAGEL FRCH TOAST'}, {'All Natural Jumbo Pump Bagel': 'DOUGH BAGEL JMBO PUMPERNICKL'}, {'All Natural Sundried Tomato Bagel': 'DOUGH BAGEL SUNDRIED TOMATO'}, {'All Natural Jumbo Honey Cracked Wheat Bagel': 'DOUGH BAGEL WHEAT HNY'}, {'Jersey Mikes Mini White Sub': 'ROLL MINI WHT SUB'}, {'Jersey Mikes Wheat Sub': 'ROLL WHEAT SUB'}, {'Jersey Mikes White Sub': 'ROLL WHITE SUB'}]\n",
            "119\n"
          ]
        },
        {
          "output_type": "stream",
          "name": "stderr",
          "text": [
            "Processing Batches: 100%|██████████| 1/1 [00:00<00:00,  3.01it/s]\n"
          ]
        },
        {
          "output_type": "stream",
          "name": "stdout",
          "text": [
            "[{'Jersey Mikes Mini White': 'ROLL MINI WHT SUB'}, {'Jersey Mikes Wheat Sub': 'ROLL WHEAT SUB'}, {'Jersey Mikes White Sub': 'ROLL WHITE SUB'}]\n",
            "120\n"
          ]
        },
        {
          "output_type": "stream",
          "name": "stderr",
          "text": [
            "Processing Batches: 100%|██████████| 1/1 [00:00<00:00,  3.11it/s]\n"
          ]
        },
        {
          "output_type": "stream",
          "name": "stdout",
          "text": [
            "[{'Jersey Mikes Mini White Sub': 'ROLL MINI WHT SUB'}, {'Jersey Mikes Wheat Sub': 'ROLL WHEAT SUB'}, {'Jersey Mikes White Sub': 'ROLL WHITE SUB'}]\n",
            "121\n"
          ]
        },
        {
          "output_type": "stream",
          "name": "stderr",
          "text": [
            "Processing Batches: 100%|██████████| 1/1 [00:00<00:00,  3.49it/s]\n"
          ]
        },
        {
          "output_type": "stream",
          "name": "stdout",
          "text": [
            "[{'CHICKEN THIGH FOR AL PASTOR': 'CHICKEN THIGH B\\\\S ALPSTSEAS'}, {'BEEF BONE FEMUR WHOLE CANOE': 'BEEF BONE FEMUR CUT LENGTHWISE'}]\n",
            "122\n"
          ]
        },
        {
          "output_type": "stream",
          "name": "stderr",
          "text": [
            "Processing Batches: 100%|██████████| 1/1 [00:00<00:00,  2.24it/s]\n"
          ]
        },
        {
          "output_type": "stream",
          "name": "stdout",
          "text": [
            "[{'CATFISH IQF': 'CATFISH FILET 6-7 OZ'}, {'CATFISH IQF': 'CATFISH FILET IQF 7-9 OZ CHINA'}, {'SWAI IQF': 'PANGASIUS FILET IQF 5-7 OZ'}]\n",
            "123\n"
          ]
        },
        {
          "output_type": "stream",
          "name": "stderr",
          "text": [
            "Processing Batches: 100%|██████████| 1/1 [00:00<00:00,  3.73it/s]\n"
          ]
        },
        {
          "output_type": "stream",
          "name": "stdout",
          "text": [
            "[{'DDD DIY DIRTY SIX BOX 1-5116 LB': 'BOX COOKIE 6CT BLUE CSTM'}, {'DDD DIY DIRTY SINGLE BOX 1-375 LB': 'BOX COOKIE SINGLE BLUE CSTM'}]\n",
            "124\n"
          ]
        },
        {
          "output_type": "stream",
          "name": "stderr",
          "text": [
            "Processing Batches: 100%|██████████| 1/1 [00:00<00:00,  3.70it/s]\n"
          ]
        },
        {
          "output_type": "stream",
          "name": "stdout",
          "text": [
            "[{'BEEF GRND PTY 7525': 'BEEF GRND PTY 75\\\\25 FRSH L\\\\RG'}, {'BEEF GRND 7525 PATTY': 'BEEF GRND 75\\\\25 PTY L\\\\RG'}]\n",
            "125\n"
          ]
        },
        {
          "output_type": "stream",
          "name": "stderr",
          "text": [
            "Processing Batches: 100%|██████████| 2/2 [00:05<00:00,  2.72s/it]\n"
          ]
        },
        {
          "output_type": "stream",
          "name": "stdout",
          "text": [
            "[{'DAWN EXC R&H RCHCRM VAN CKMBC 50#': 'MIX CAKE CRM BASE ADD EGG OIL'}, {'DUCKD VAN CK DNT MX MBC 50#': 'MIX DONUT CAKE VAN'}, {'BKYES SWTND COCNT FLK 25#': 'COCONUT FLAKE SWTND'}, {'DAWN EXC CUBED FRUIT APPLE FILL35#': 'FILLING APPLE CUBED'}, {'DAWN EXC FRM TRPLCHOC FDG ICGMBC 24#': 'ICING RTU TRIPLE CHOC'}, {'DAWN STRWBRY FRT BIT 10# 7': 'ICING STRAWBERRY FRUIT'}, {'DAWN STRWBRY FRT BIT 10#': 'ICING STRAWBERRY FRUIT'}, {'DUCKD ICG FON DIP VAN 24# ******** TEMPERED ********': 'ICING VANILLA FONDANT DIP'}, {'DAWN EXC BTRCRM ICG CRM CHS': 'ICING CREAM CHS BUTTRCREME'}]\n",
            "126\n"
          ]
        },
        {
          "output_type": "stream",
          "name": "stderr",
          "text": [
            "Processing Batches: 100%|██████████| 1/1 [00:00<00:00,  2.47it/s]\n"
          ]
        },
        {
          "output_type": "stream",
          "name": "stdout",
          "text": [
            "[{'Aptzr Dumpling Philly Cheesesteak': 'APTZR DUMPLING PHLLY CHSTK 1OZ'}, {'HT88805 CHICKEN DARK MEAT': 'CHICKEN CUBE DARK MEAT BTTRD'}]\n",
            "127\n"
          ]
        },
        {
          "output_type": "stream",
          "name": "stderr",
          "text": [
            "Processing Batches: 100%|██████████| 1/1 [00:00<00:00,  2.76it/s]\n"
          ]
        },
        {
          "output_type": "stream",
          "name": "stdout",
          "text": [
            "[{'BEEF SIRLOIN STRIP STEAK': 'STEAK STRIPLOIN CC CH 1180 A'}, {'VEAL CUTLET 8oz P/P MILK': 'VEAL CUTLET P&P FRESH 8OZ'}]\n",
            "128\n"
          ]
        },
        {
          "output_type": "stream",
          "name": "stderr",
          "text": [
            "Processing Batches: 100%|██████████| 1/1 [00:00<00:00,  2.73it/s]\n"
          ]
        },
        {
          "output_type": "stream",
          "name": "stdout",
          "text": [
            "[{'PF MARKET COD FILLET - WILD CAUGHT': 'COD FIL REFRESHED 12OZ-UP'}, {'HADDOCK - FILLET SCROD SKINLESS Wild': 'HADDOCK FILET SKINLESS FRESH'}]\n",
            "129\n"
          ]
        },
        {
          "output_type": "stream",
          "name": "stderr",
          "text": [
            "Processing Batches: 100%|██████████| 1/1 [00:00<00:00,  2.84it/s]\n"
          ]
        },
        {
          "output_type": "stream",
          "name": "stdout",
          "text": [
            "[{'Frozen Floured Calamari': 'CALAMARI RING & TENT FLR DSTD'}, {'Frozen Fire Dusted Calamari': 'CALAMARI RING &TNT FIRE DSTD'}]\n",
            "130\n"
          ]
        },
        {
          "output_type": "stream",
          "name": "stderr",
          "text": [
            "Processing Batches: 100%|██████████| 2/2 [00:04<00:00,  2.39s/it]\n"
          ]
        },
        {
          "output_type": "stream",
          "name": "stdout",
          "text": [
            "[{'NATLSGR': 'SUGAR GRANULATED XFINE BEET'}, {'CRUMBL': 'LABEL ROLL USE FRST 2 DISOLVA'}, {'PACKER SUGAR': 'SUGAR BEET CONFECTIONER 10X'}, {'KEYSTON': 'TICKET PAPER 36Q REGAL'}, {'SUPPCLS': 'LABEL ROLL SHLF LFE DISS 2X3'}, {'PSI': 'THERMOMETER PKT TEST 0-220DEG'}, {'SYSCO': 'THERMOMETER FRZR REFRG -20-80F'}, {'SYSCO': 'MIX COOKIE CHOC CHIP CRUMBL'}, {'ECOLAB': 'PAIL SANITIZING RED 6QT'}]\n",
            "131\n"
          ]
        },
        {
          "output_type": "stream",
          "name": "stderr",
          "text": [
            "Processing Batches: 100%|██████████| 1/1 [00:00<00:00,  2.21it/s]\n"
          ]
        },
        {
          "output_type": "stream",
          "name": "stdout",
          "text": [
            "[{'QP BLUE CHIPS USA 6CT 11oz': 'CHIP TORTILLA BLUE'}, {'QP WHITE CHIPS USA 6CT 11oz': 'CHIP TORTILLA WHITE'}, {'QP YELLOW CHIPS USA 6CT 11oz': 'CHIP TORTILLA YELLOW'}]\n",
            "132\n"
          ]
        },
        {
          "output_type": "stream",
          "name": "stderr",
          "text": [
            "Processing Batches: 100%|██████████| 6/6 [00:25<00:00,  4.31s/it]\n"
          ]
        },
        {
          "output_type": "stream",
          "name": "stdout",
          "text": [
            "[{'SALMON ATL PCS SKIN OFF - Canada': 'SALMON ATL PCS SKIN OFF'}, {'SALMON ATL PRTN 7OZ SKIN OFF/24': 'SALMON ATL PRTN 7OZ SKIN OFF'}, {'BASS STRIPED HYBRID USA FIL SKON': 'BASS STRIPED FIL SKON 8-10 OZ'}, {'OYSTER SHUCKED STD 1/2 GALLON -4172020 BEST BY 7/15/24 I Wet Store': 'OYSTER SHUCKED STD'}, {'OYSTER LIVE FANNY BAY 120 CT/Location 14-15 I Wet Store Date6/23/2024': 'OYSTER LIVE FANNY BAY'}, {'OYSTER LIVE MISTY POINT 100 CT -Location LOWER CHESAPEAKE BAY VA 23356': 'OYSTER LIVE MISTY POINT'}, {'CRAWFISH TAIL MEAT 150-200 CT -': 'CRAWFISH TAIL MEAT 150-200CT'}, {'CRAB SOFT SHELL PRIME 14 COUNT -': 'CRAB SOFT SHELL PR'}, {'SALMON ATL FIL SKON 3-4# PREM -': 'SALMON ATL FIL SKON 3-4# PREM'}, {'CRAB KING LEG 16/20 SPLIT - USA -': 'CRAB LEG KNG 16/20 SPLIT'}, {'FISH FILET YELLOWTAIL SKINOFF -': 'TUNA FIL YELLOWTAIL SKNLS BLO'}, {'SALMON ATL PRTN 5 OZ SKINON -': 'SALMON ATL PRTN 5OZ SKINON'}, {'SALMON ATL ETRIM 3-4 LB (DEEP SKIN': 'SALMON ATL FIL ETRIM 3-4 LB'}, {'OYSTER LIVE EAST COAST FRSH - USALocation PE 3I w-24June2024 I Wet Store': 'OYSTER LIVE FRSH EAST COAST'}, {'OYSTER LIVE FRSH WEST COAST - USALocation WS9172766 I Wet Store Date6/24/2024': 'OYSTER LIVE FRSH WEST COAST'}, {'OYSTER LIVE KUMAMOTO 60 CT - USALocation WS6173226 I Wet Store Date6/22/2024': 'OYSTER LIVE KUMAMOTO'}, {'SALMON ATL PRTN 2-3OZ BIAS SKON': 'SALMON ATL PRTN 2-3 BIAS SKON'}, {'BASS SEA BRANZINO FIL 4-6 SKON': 'BASS SEA BRANZINO FIL SKON PBO'}, {'CATFISH WHL FRZN - USA - F': 'CATFISH WHL FRZN'}]\n",
            "133\n"
          ]
        },
        {
          "output_type": "stream",
          "name": "stderr",
          "text": [
            "Processing Batches: 100%|██████████| 1/1 [00:00<00:00,  1.28it/s]\n"
          ]
        },
        {
          "output_type": "stream",
          "name": "stdout",
          "text": [
            "[{'SALMON ATLANTIC D TRIM PBO - Canada - F': 'SALMON ATLANTIC D TRIM PBO'}, {'SALMON ATL FILLET 3-4 E TRIM - Canada - F': 'SALMON ATL FILLET 3-4 E TRIM'}, {'SALMON FIL SKLS 3-4# PREM - Canada - F': 'SALMON ATL FIL SKLS 3-4# PREM'}]\n",
            "134\n"
          ]
        },
        {
          "output_type": "stream",
          "name": "stderr",
          "text": [
            "Processing Batches: 100%|██████████| 1/1 [00:01<00:00,  1.96s/it]\n"
          ]
        },
        {
          "output_type": "stream",
          "name": "stdout",
          "text": [
            "[{'SALMON ATLANTIC D TRIM PBO - Canada - F': 'SALMON ATLANTIC D TRIM PBO'}, {'SALMON ATL FILLET 3-4 E TRIM - Canada - F': 'SALMON ATL FILLET 3-4 E TRIM'}, {'SALMON FIL SKLS 3-4# PREM - Canada - F': 'SALMON ATL FIL SKLS 3-4# PREM'}, {'SALMON ATL FIL 2-3 E TRIM - Canada - F': 'SALMON ATL FIL 2-3 E TRIM'}, {'LOBSTER WHOLE CKD 14-16 OZ - Canada - W': 'LOBSTER WHL CKD 14-16 OZ'}]\n",
            "135\n"
          ]
        },
        {
          "output_type": "stream",
          "name": "stderr",
          "text": [
            "Processing Batches: 100%|██████████| 1/1 [00:02<00:00,  2.26s/it]\n"
          ]
        },
        {
          "output_type": "stream",
          "name": "stdout",
          "text": [
            "[{'BASS STRIPED HYBRID USA FIL SKON PBO FRS - USA - F': 'BASS STRIPED FIL SKON 8-10 OZ'}, {'CAVIAR MASAGO ORG - Iceland - W': 'CAVIAR MASAGO ORG'}, {'OYSTER LIVE FRSH BAJA CAL Mexico F': 'OYSTER LIVE FRSH BAJA CAL'}, {'SALMON ATL PRTN 6oz DEEP SKND - Chile - F': 'SALMON ATL FIL PRTN SKOFF BBRG'}, {'SALMON ATL PRTN 6 OZ SKIN OFF/28 CTN - Canada - F': 'SALMON ATL PRTN 6 OZ SKIN OFF'}]\n",
            "136\n"
          ]
        },
        {
          "output_type": "stream",
          "name": "stderr",
          "text": [
            "Processing Batches: 100%|██████████| 1/1 [00:00<00:00,  1.08it/s]\n"
          ]
        },
        {
          "output_type": "stream",
          "name": "stdout",
          "text": [
            "[{'SALMON ATLANTIC D TRIM PBO - Canada - F': 'SALMON ATLANTIC D TRIM PBO'}, {'SALMON ATL FILLET 3-4 E TRIM - Canada - F': 'SALMON ATL FILLET 3-4 E TRIM'}, {'SALMON FIL SKLS 3-4# PREM - Canada - F': 'SALMON ATL FIL SKLS 3-4# PREM'}, {'SALMON ATL FIL 2-3 E TRIM - Canada - F': 'SALMON ATL FIL 2-3 E TRIM'}]\n",
            "137\n"
          ]
        },
        {
          "output_type": "stream",
          "name": "stderr",
          "text": [
            "Processing Batches: 100%|██████████| 9/9 [00:43<00:00,  4.83s/it]\n"
          ]
        },
        {
          "output_type": "stream",
          "name": "stdout",
          "text": [
            "[{'BASS SEA BRANZINO 400-600 BFLY HOFF PBO - Greece': 'BASS SEA BRANZINO BFLY HOFF'}, {'HALIBUT FILLET SKIN OFF NOR - Norway - W': 'HALIBUT FILLET SKIN OFF NOR'}, {'BASS STRIPED HYBRID USA FIL SKON PBO FRS - USA -': 'BASS STRIPED FIL SKON 8-10 OZ'}, {'HALIBUT FIL LOCAL FRSH 4+ SKINOFF - USA - W': 'HALIBUT FIL LOCAL FRSH SKINOF'}, {'SALMON SMOKED NORWGN UNSLICED FRESH - USA -': 'SALMON SMK NORWGN UNSLICED'}, {'HALIBUT WHL HDON GUTTED LOCAL - USA - W': 'HALIBUT WHL HDON GUTTED LOCAL'}, {'SALMON ATL PBO SKOFF 5# SIDES - Canada - F': 'SALMON ATL PBO SKOF 5# SIDES'}, {'SALMON PRTN 6OZ SKIN ON ATL/28 CTN - Canada -': 'SALMON PRTN 6OZ SKIN ON ATL'}, {'SALMON SMOKED NOR STYLE SLICED FROZEN - USA -': 'SALMON SMOKED NOR STYLE SLICED'}, {'SALMON ATL PRTN 2-3OZ BIAS SKON - Canada - F': 'SALMON ATL PRTN 2-3 BIAS SKON'}, {'SALMON SMK HOT UNSLICED - USA - F': 'SALMON SMK HOT UNSLICED FRSH'}, {'ROCKFISH FIL SNAP PBO - USA - W': 'ROCKFISH FIL SNAP PBO'}, {'SALMON ATL ETRIM 3-4 LB (DEEP SKIN PKW) - Chile -': 'SALMON ATL FIL ETRIM 3-4 LB'}, {'OYSTER SHUCKED STD 1/2 GALLON - USA - F4176011 BEST BY 7/17/24 I Wet Store Date6/26/2024': 'OYSTER SHUCKED STD'}, {'OYSTER LIVE FANNY BAY 120 CT/ MEDIUM - Canada - FLocation 14-15 I Wet Store Date6/23/2024 I Final Ha': 'OYSTER LIVE FANNY BAY'}, {'OYSTER LIVE MISTY POINT 100 CT - USA - WLocation LOWER CHESAPEAKE BAY VA 23356  Wet': 'OYSTER LIVE MISTY POINT'}, {'OYSTER LIVE EAST COAST FRSH - USA - WLocation PE 3I I Wet Store Date6/21/2024 I Final': 'OYSTER LIVE FRSH EAST COAST'}, {'OYSTER LIVE FRSH WEST COAST - USA - FLocation WS9173381 I Wet Store Date6/20/2024': 'OYSTER LIVE FRSH WEST COAST'}, {'OYSTER LIVE KUMAMOTO 60 CT - USA - FLocation WS6173226 I Wet Store Date6/22/2024': 'OYSTER LIVE KUMAMOTO'}, {'SALMON ATL PRTN 8OZ SKIN OFF/20 CTN - Canada - F': 'SALMON FIL PRTN 8 OZ FRSH'}, {'CRAB SOFT SHELL PRIME 14 COUNT - Vietnam - F': 'CRAB SOFT SHELL PR'}, {'SALMON ATL PRTN 7OZ SKIN OFF/24 CTN - Canada -': 'SALMON ATL PRTN 7OZ SKIN OFF'}, {'CRAWFISH TAIL MEAT 150-200 CT - China - W': 'CRAWFISH TAIL MEAT 150-200CT'}, {'POLLOCK BATTERED BEER 2 OZ - USA - W': 'POLLOCK FIL BEER BTR 2OZ'}]\n",
            "138\n"
          ]
        },
        {
          "output_type": "stream",
          "name": "stderr",
          "text": [
            "Processing Batches: 100%|██████████| 1/1 [00:00<00:00,  2.46it/s]\n"
          ]
        },
        {
          "output_type": "stream",
          "name": "stdout",
          "text": [
            "[{'SALMON ATL FLT 3-4#S/L E': 'SALMON ATL FIL SKLS 3-4 LB CAN'}, {'SALMON ATL FLT 2-3# S/L E': 'SALMON ATL FLT SKLS 2-3 LB CDN'}]\n",
            "139\n"
          ]
        },
        {
          "output_type": "stream",
          "name": "stderr",
          "text": [
            "Processing Batches: 100%|██████████| 1/1 [00:00<00:00,  2.60it/s]\n"
          ]
        },
        {
          "output_type": "stream",
          "name": "stdout",
          "text": [
            "[{'20/8oz Fresh Beef for Palomilla 10# plain boxVida Latina': 'STEAK PALOMILLA FRSH'}, {'30/533oz Fresh Beef for Palomilla 10# plainbox Vida Latina': 'STEAK PALOMILLA FRSH'}]\n",
            "140\n"
          ]
        },
        {
          "output_type": "stream",
          "name": "stderr",
          "text": [
            "Processing Batches: 100%|██████████| 6/6 [00:18<00:00,  3.06s/it]\n"
          ]
        },
        {
          "output_type": "stream",
          "name": "stdout",
          "text": [
            "[{'FLOUR 12IN GRANDE TORTILLA': 'TORTILLA FLOUR PRSSD 12IN'}, {'FLOUR 10IN BURRITO TORTILLA': 'TORTILLA FLOUR PRSSD 10IN'}, {'CORN 6IN WHITE THICK TORTILLA': 'TORTILLA CORN WHT 6IN'}, {'FLOUR 14IN GIGANTE TORTILLA': 'TORTILLA FLOUR PRSSD 14IN'}, {'FLOUR 6IN TORTILLA': 'TORTILLA FLOUR PRESS 6IN'}, {'CORN 6-CUT YLW THIN PRE-CUT': 'CHIP TORTILLA CORN YEL 6 CUT'}, {'CORN 6IN YLW THICK TORTILLA': 'TORTILLA CORN YEL THICK 6IN'}, {'CORN 45IN WHITE TAQUITO TORTILLA': 'TORTILLA CORN WHT 4.5IN'}, {'CORN 4-CUT WHITE THIN PRE-CUT': 'CHIP TORTILLA REG THIN 4'}, {'CORN 4-CUT YLW THIN PRE-CUT': 'CHIP TORTILLA 4 CUT YEL THI'}, {'CORN 6-CUT TRI COLOR PRE-CUT': 'TORTILLA CORN TRI COLR RAW 6C'}, {'CORN 6IN WHITE MESA TORTILLA': 'TORTILLA CORN WHT 6 MESA'}, {'CORN 5IN WHITE TAQUERIA TORTILLA': 'TORTILLA CORN 5IN'}, {'CORN 6IN WHITE GRUESA TORTILLA': 'TORTILLA CORN 6IN THICK GRUESA'}, {'FLOUR 12IN CHILE TOMATO TORTILLA': 'TORTILLA FLOUR CHILE TOMAT12IN'}, {'FLOUR 8IN TORTILLA': 'TORTILLA FLOUR PRESS 8IN'}, {'FLOUR 12IN SPINACH TORTILLA': 'TORTILLA FLOUR SPINACH 12'}, {'FLOUR 14IN SPINACH TORTILLA': 'TORTILLA FLOUR SPINACH 14'}]\n",
            "141\n"
          ]
        },
        {
          "output_type": "stream",
          "name": "stderr",
          "text": [
            "Processing Batches: 100%|██████████| 1/1 [00:00<00:00,  2.38it/s]\n"
          ]
        },
        {
          "output_type": "stream",
          "name": "stdout",
          "text": [
            "[{'Napkin Band Hunter Green 15 x 425- SYSCO': 'BAND NAPKIN 1.5X4.25 HTR GREEN'}, {'Napkin_Band White 15 x 425- SYSCO': 'BAND NAPKIN PAPR 1.5X4.25 WHT'}]\n",
            "142\n"
          ]
        },
        {
          "output_type": "stream",
          "name": "stderr",
          "text": [
            "Processing Batches: 100%|██████████| 1/1 [00:00<00:00,  1.17it/s]\n"
          ]
        },
        {
          "output_type": "stream",
          "name": "stdout",
          "text": [
            "[{'Napkin Band Hunter Green 15 x 425- SYSCO': 'BAND NAPKIN 1.5X4.25 HTR GREEN'}, {'Napkin Band White 15 x 425- SYSCO': 'BAND NAPKIN PAPR 1.5X4.25 WHT'}, {'Napkin Band Burgundy 15 x 425- SYSCO': 'BAND NAPKIN PAPR 1.5X4.25 BURG'}]\n",
            "143\n"
          ]
        },
        {
          "output_type": "stream",
          "name": "stderr",
          "text": [
            "Processing Batches: 100%|██████████| 1/1 [00:01<00:00,  1.95s/it]\n"
          ]
        },
        {
          "output_type": "stream",
          "name": "stdout",
          "text": [
            "[{'COD FILLET REFRESHED': 'COD FIL SKLS RFRSH 6-8 OZ'}, {'HAMACHI FILLET 7/21': 'HAMACHI FILET YELLOWTAIL JACK'}, {'CRAB LEG KING RED 9-12': 'CRAB LEG KNG RED SPLIT 9-12CT'}, {'ONO LRG WAHOO': 'ONO LOIN SK/ON FRSH'}, {'SALMON PBO': 'SALMON FILET 2-3 LB SKIN OFF'}, {'OYSTER XSM PACIFIC SHUCKED': 'OYSTER SHUCKED WEST COAST'}]\n",
            "144\n"
          ]
        },
        {
          "output_type": "stream",
          "name": "stderr",
          "text": [
            "Processing Batches: 100%|██████████| 1/1 [00:00<00:00,  1.24it/s]\n"
          ]
        },
        {
          "output_type": "stream",
          "name": "stdout",
          "text": [
            "[{'SMKD TROUT DT 8OZ': 'TROUT SMOKED FRESH'}, {'SALMON FILLET 3-4#': 'SALMON ATL FIL DTRIM CAN 3-4#'}, {'PEI MUSSELS 10# BAG': 'MUSSEL FRESH BLK PEI'}, {'SALMON FILLET 2-4#': 'SALMON ATL CHILEAN DTRIM 3-4LB'}]\n",
            "145\n"
          ]
        },
        {
          "output_type": "stream",
          "name": "stderr",
          "text": [
            "Processing Batches: 100%|██████████| 1/1 [00:00<00:00,  3.96it/s]\n"
          ]
        },
        {
          "output_type": "stream",
          "name": "stdout",
          "text": [
            "[{'SALMON LRG ATLANTIC': 'SALMON ATL FIL DTRIM CAN 3-4#'}, {'SALMON FILLET 2-4#': 'SALMON ATL FIL SKLS PBO 2-4 LB'}]\n",
            "146\n"
          ]
        },
        {
          "output_type": "stream",
          "name": "stderr",
          "text": [
            "Processing Batches: 100%|██████████| 2/2 [00:06<00:00,  3.12s/it]\n"
          ]
        },
        {
          "output_type": "stream",
          "name": "stdout",
          "text": [
            "[{'25103 ICE CREAM MANGO SORBETTO TRAY': 'ICE CREAM MANGO SORBETTO TRAY'}, {'15237 ICE CREAM GELATO LEMONCELLO': 'ICE CREAM GELATO LEMONCELLO'}, {'ICE CREAM COOKIE%CRM DUTCH FUD 3/5LT': 'ICE CREAM COOKIE%CRM DUTCH FUD'}, {'ICE CREAM GELATO TIRAMISU 3/5LT': 'ICE CREAM GELATO TIRAMISU'}, {'ICE CREAM GELATO WHT CHOC RASP 3/ 5LT': 'ICE CREAM GELATO WHT CHOC RASP'}, {'ICE CREAM GELATO TRIPL DK CHOC 3/5LT': 'ICE CREAM GELATO TRIPL DK CHOC'}, {'ICE CREAM GELATO VAN BEAN 3/ 5LT': 'ICE CREAM GELATO VAN BEAN'}, {'ICE CREAM GELATO RD VELVET 3/5LT': 'ICE CREAM GELATO RD VELVET'}, {'ICE CREAM GELATO PEANUT BTR 3/5LT': 'ICE CREAM GELATO PEANUT BTR'}, {'ICE CREAM GELATO MALO/CHOC CHK 3/5LT': 'ICE CREAM GELATO MALO/CHOC CHK'}]\n",
            "147\n"
          ]
        },
        {
          "output_type": "stream",
          "name": "stderr",
          "text": [
            "Processing Batches: 100%|██████████| 4/4 [00:13<00:00,  3.27s/it]\n"
          ]
        },
        {
          "output_type": "stream",
          "name": "stdout",
          "text": [
            "[{'25103 ICE CREAM MANGO SORBETTO TRA': 'ICE CREAM MANGO SORBETTO TRAY'}, {'ICE CREAM SORBETO RED RASP 3/5LT': 'ICE CREAM SORBETO RED RASP'}, {'ICE CREAM CREME DE MINTHE CHIP 3/5LT': 'ICE CREAM CREME DE MENTHE CHIP'}, {'ICE CREAM COOKIE%CRM DUTCH FUD 3/5LT': 'ICE CREAM COOKIE%CRM DUTCH FUD'}, {'ICE CREAM GELATO TIRAMISU 3/5LT': 'ICE CREAM GELATO TIRAMISU'}, {'ICE CREAM GELATO WHT CHOC RASP 3/ 5LT': 'ICE CREAM GELATO WHT CHOC RASP'}, {'15100 ICE CREAM GELATO BAN CRM PRAL': 'ICE CREAM GELATO BAN CRM PRAL'}, {'ICE CREAM GELATO VAN BTRSCOTCH 3/ 5LT': 'ICE CREAM GELATO VAN BTRSCOTCH'}, {'ICE CREAM GELATO STRACIATELLA 3/ 5LT': 'ICE CREAM GELATO STRACIATELLA'}, {'ICE CREAM GELATO SWISS CHOC 3/ 5LT': 'ICE CREAM GELATO SWISS CHOC'}, {'ICE CREAM GELATO TURKSH COFF 3/5LT': 'ICE CREAM GELATO TURKSH COFF'}, {'15291 ICE CREAM GELATO CHERRY PIE FILLING': 'ICE CREAM CHERRY PIE FILLING'}, {'ICE CREAM GELATO STRAW FRSH 3/5LT': 'ICE CREAM GELATO STRAW FRSH'}, {'ICE CREAM GELATO SPUMONI 3 5/LT': 'ICE CREAM GELATO SPUMONI'}]\n",
            "148\n"
          ]
        },
        {
          "output_type": "stream",
          "name": "stderr",
          "text": [
            "Processing Batches: 100%|██████████| 1/1 [00:00<00:00,  3.70it/s]\n"
          ]
        },
        {
          "output_type": "stream",
          "name": "stdout",
          "text": [
            "[{'1/5LB SLICED KIRBY CUKE 3/16 9': 'CUCUMBER KIRBY SLICED'}, {'5# WONTON WRAPPER': 'WONTON WRAPPER'}]\n",
            "149\n"
          ]
        },
        {
          "output_type": "stream",
          "name": "stderr",
          "text": [
            "Processing Batches: 100%|██████████| 1/1 [00:00<00:00,  3.94it/s]\n"
          ]
        },
        {
          "output_type": "stream",
          "name": "stdout",
          "text": [
            "[{'MANDA 10#ANDOUILLE': 'SAUSAGE ANDOUILLE BULK'}, {'SOUTHERN STYLE 10#': 'SAUSAGE SMOKED SOUTHERN STYLE'}]\n",
            "150\n"
          ]
        },
        {
          "output_type": "stream",
          "name": "stderr",
          "text": [
            "Processing Batches: 100%|██████████| 1/1 [00:00<00:00,  4.54it/s]\n"
          ]
        },
        {
          "output_type": "stream",
          "name": "stdout",
          "text": [
            "[{'MANDA 10#ANDOUILLE': 'SAUSAGE ANDOUILLE BULK'}, {'MANDA 12# MILD SAUSAGE': 'SAUSAGE PORK ROPE SMKD'}]\n",
            "151\n"
          ]
        },
        {
          "output_type": "stream",
          "name": "stderr",
          "text": [
            "Processing Batches: 100%|██████████| 1/1 [00:00<00:00,  3.56it/s]\n"
          ]
        },
        {
          "output_type": "stream",
          "name": "stdout",
          "text": [
            "[{'SICILIA 75/25 CANOLA/EXTRA VIRGIN OLIVE': 'OIL OLIVE CANOLA EVO 75/25'}, {'SUBWAY 10% EXTRA VIRGIN OLIVE OIL (6/3': 'OIL OLIVE BLEND 10% S000151'}]\n",
            "152\n"
          ]
        },
        {
          "output_type": "stream",
          "name": "stderr",
          "text": [
            "Processing Batches: 100%|██████████| 1/1 [00:00<00:00,  1.40it/s]\n"
          ]
        },
        {
          "output_type": "stream",
          "name": "stdout",
          "text": [
            "[{'HC Plus Apple Juice Cups 96/4oz': 'JUICE APPLE SHELF STABLE'}, {'HC Plus 15% Cranberry Juice Cups': 'JUICE CRANBERRY 15% SS CUP'}, {'HC Plus Grape Juice Cups 96/4oz': 'JUICE GRAPE SHELF STABLE'}, {'HC Plus Orange Juice Cups 96/4oz': 'JUICE ORANGE STABLE'}]\n",
            "153\n"
          ]
        },
        {
          "output_type": "stream",
          "name": "stderr",
          "text": [
            "Processing Batches: 100%|██████████| 1/1 [00:01<00:00,  1.84s/it]\n"
          ]
        },
        {
          "output_type": "stream",
          "name": "stdout",
          "text": [
            "[{'WENDYS BBQ 250/0875': 'SAUCE BBQ INDIV'}, {'Wendys Honey Mustard250/83oz': 'SAUCE MUSTARD HNY DIP INDIV'}, {'WENDYS GHOSTPEPPER RANCH 250/80OZ': 'SAUCE PEPPER GHOST RANCH IND'}, {'WENDYS RANCH250/075 oz': 'SAUCE RANCH BTRMLK INDIV'}, {'WENDYS SNS 250/088': 'SAUCE SWEET & SOUR INDIV'}, {'WENDYS SYRUP 200/15': 'SYRUP BREAKFAST INDIV'}]\n",
            "154\n"
          ]
        },
        {
          "output_type": "stream",
          "name": "stderr",
          "text": [
            "Processing Batches: 100%|██████████| 1/1 [00:00<00:00,  5.06it/s]\n"
          ]
        },
        {
          "output_type": "stream",
          "name": "stdout",
          "text": [
            "[{'Capital One Custom Spring': 'WATER SPRING BOX CAPITAL ONE'}, {'1 Sofitel Custom Spring': 'WATER SPRING BOX LOGO SOFITEL'}]\n",
            "155\n"
          ]
        },
        {
          "output_type": "stream",
          "name": "stderr",
          "text": [
            "Processing Batches: 100%|██████████| 1/1 [00:00<00:00,  4.52it/s]\n"
          ]
        },
        {
          "output_type": "stream",
          "name": "stdout",
          "text": [
            "[{'20Z PT 24LS SMTWTR': 'WATER BTLD SMARTWATER'}, {'20Z PT 24LS DAS': 'WATER BOTTLED PET LOOSE DASANI'}]\n",
            "156\n"
          ]
        },
        {
          "output_type": "stream",
          "name": "stderr",
          "text": [
            "Processing Batches: 100%|██████████| 4/4 [00:10<00:00,  2.74s/it]\n"
          ]
        },
        {
          "output_type": "stream",
          "name": "stdout",
          "text": [
            "[{'20Z PT 24LS SW PA FRT PNCH': 'DRINK PUNCH FRUIT PET'}, {'16Z PT 12LS BA SDRNK STBRY BAN': 'DRINK STRAWBERRY BANA SPORTS'}, {'12Z CN 24P COKE_ARTM': 'SODA COCA COLA CLS'}, {'20Z PT 24LS COKE': 'SODA COKE CLS CONTOUR TRAY PK'}, {'12Z CN 24P PB DT COKE_ARTM': 'SODA COKE DIET'}, {'20Z PT 24LS DT COKE': 'SODA COKE DIET CLS CONT TRAY P'}, {'8Z GL 6P PC DT COKE': 'SODA COKE DIET GLASS NON RETRN'}, {'20Z PT 24LS COKE ZS': 'SODA COKE ZERO CONTOUR PET'}, {'355M GL 24P TS COKE MEX': 'SODA MEX COKE GLS NON RET'}, {'12Z CN 24P PB SPRTE_ARTM': 'SODA SPRITE CANS'}, {'20Z PT 24LS TS SPRITE': 'SODA SPRITE PET PROPR DIMPLE'}, {'185Z PT 12LS GLD PK SWT BLK TEA': 'WATER PURIFIED'}, {'20Z PT 24LS SMTWTR': 'WATER BTLD SMARTWATER'}, {'169Z PT 32P TS DAS': 'TEA SWEET'}]\n",
            "157\n"
          ]
        },
        {
          "output_type": "stream",
          "name": "stderr",
          "text": [
            "Processing Batches: 100%|██████████| 1/1 [00:00<00:00,  4.28it/s]\n"
          ]
        },
        {
          "output_type": "stream",
          "name": "stdout",
          "text": [
            "[{'SEASONING PIZZA SAUCE': 'SEASONING PIZZA SAUCE MIX'}, {'SEASONING CHILI CHICKEN': 'SEASONING CHILI CHICKEN MIX'}]\n",
            "158\n"
          ]
        },
        {
          "output_type": "stream",
          "name": "stderr",
          "text": [
            "Processing Batches: 100%|██████████| 2/2 [00:05<00:00,  2.66s/it]\n"
          ]
        },
        {
          "output_type": "stream",
          "name": "stdout",
          "text": [
            "[{'BEEF PATTIE HEREFORD NAT 8': 'BEEF GRND CHUCK PTY HERF'}, {'BEEF PATTIE HEREFORD NAT 4': 'BEEF GRND CHUCK PTY HERF'}, {'BEEF PATTIE CHB1881 NAT 533': 'BEEF GRND CHUCK PTY HERF1881'}, {'BEEF PATTIE HEREFORD RND': 'BEEF GRND CHUCK PTY HERF'}, {'BEEF PATTIE CHB NAT 7 OZ': 'BEEF GRND CHUCK PTY HERF'}, {'BEEF CHK/BRSKT/SHRTRB NAT': 'BEEF GRND PTY C\\\\B\\\\SR HERF'}, {'BEEF CHK/BRSKT/SHRTRB 6 OZ': 'BEEF GRND PTY C\\\\B\\\\SR HERF'}, {'BEEF PATTIE CHUCK BRISKET': 'BEEF GRND PTY C\\\\B HERF'}, {'BEEF CHUCK/NAVEL PATTY 7': 'BEEF GRND PATTY CHUCK NAVEL'}, {'BEEF CHUCK/NAVEL PATTY 53': 'BEEF GRND PATTY CHUCK NAVEL'}]\n",
            "159\n"
          ]
        },
        {
          "output_type": "stream",
          "name": "stderr",
          "text": [
            "Processing Batches: 100%|██████████| 1/1 [00:01<00:00,  1.69s/it]\n"
          ]
        },
        {
          "output_type": "stream",
          "name": "stdout",
          "text": [
            "[{'BEEF PATTIE FRZ GOLD TB': 'BEEF PATTY TNDR BITE 2-1'}, {'BEEF PATTIE FRZ BIG BITE': 'BEEF PATTY BIG BITE TNDR 3-1'}, {'PATTIE FRZ PIZZA': 'BEEF PIZZA PATTIES 3.5OZ'}, {'BEEF PATTIE FRZ BEST EVER': 'BEEF BURGER BEST EVER 4-1'}, {'BEEF PATTIE FRZ GOLD TB': 'BEEF BURGER TNDRBT 81/19 3-1'}, {'BEEF PATTIE FRZ SILVER': 'BEEF GRND PTY 81\\\\19 SILVER IQF'}]\n",
            "160\n"
          ]
        },
        {
          "output_type": "stream",
          "name": "stderr",
          "text": [
            "Processing Batches: 100%|██████████| 1/1 [00:00<00:00,  1.41it/s]\n"
          ]
        },
        {
          "output_type": "stream",
          "name": "stdout",
          "text": [
            "[{'SALMON WHL 16-18LB': 'SALMON WHL 16-18 LB'}, {'SALMON FIL CHILE 3/4LB DTRIM': 'SALMON ATL FIL D-TRIM 3-4# CHL'}, {'SALMON FIL 3/4# DTRIM CAN PORT': 'SALMON ATL FIL D SKON 3-4# CAN'}]\n",
            "161\n"
          ]
        },
        {
          "output_type": "stream",
          "name": "stderr",
          "text": [
            "Processing Batches: 100%|██████████| 1/1 [00:00<00:00,  2.87it/s]\n"
          ]
        },
        {
          "output_type": "stream",
          "name": "stdout",
          "text": [
            "[{'COD - FILLET 12/24 oz ICELANDIC Wild': 'COD FIL MKT FRESH'}, {'FLATHEAD - PF LARGE MIX SOLE FILLET': 'SOLE LEMON REFRESH'}]\n",
            "162\n"
          ]
        },
        {
          "output_type": "stream",
          "name": "stderr",
          "text": [
            "Processing Batches: 100%|██████████| 1/1 [00:00<00:00,  2.58it/s]\n"
          ]
        },
        {
          "output_type": "stream",
          "name": "stdout",
          "text": [
            "[{'HADDOCK - FILLET 10/12 oz SKIN ON Wild': 'HADDOCK FIL SK-ON 10-12Z FRESH'}, {'HADDOCK - PF FILLET 8/10 oz SKIN ON': 'HADDOCK FIL SK-ON 8-10OZ PF'}]\n",
            "163\n"
          ]
        },
        {
          "output_type": "stream",
          "name": "stderr",
          "text": [
            "Processing Batches: 100%|██████████| 1/1 [00:03<00:00,  3.31s/it]\n"
          ]
        },
        {
          "output_type": "stream",
          "name": "stdout",
          "text": [
            "[{'Dulce de Leche Topping': 'TOPPING DULCE DE LECHE'}, {'Chocolate 24 Topping Churromania (Industrial unit of 24': 'TOPPING CHOCOLATE'}, {'Guayaba - Guava 24Topping Churromania Industrial Size': 'FRUIT GUAVA SPREAD TOPPING'}, {'22DCPCHURRO CUP PAPER 22OZ LOGO (1000ct)': 'CUP PAPER DBL HOT 22OZ LOGO'}, {'D8PC CHURRO CUP PAPER DBL HOT 8OZ LOGO x 20': 'CUP PAPER DBL HOT LOGO'}, {'D12PC CHURRO CUP PAPER DBL HOT 12OZ LOGO x 20': 'CUP PAPER DBL HOT 12OZ LOGO'}]\n",
            "164\n"
          ]
        },
        {
          "output_type": "stream",
          "name": "stderr",
          "text": [
            "Processing Batches: 100%|██████████| 1/1 [00:02<00:00,  2.06s/it]\n"
          ]
        },
        {
          "output_type": "stream",
          "name": "stdout",
          "text": [
            "[{'CHBSLV GROUND': 'BEEF GRND PUCK CHUCK NAVL VC16'}, {'BEEF CHUCK': 'BEEF GRND PUCK C\\\\B HERF'}, {'BEEF PATTIE CHUCK': 'BEEF GRND PUCK C\\\\B HERF'}, {'BEEF CHUCK/NAVEL': 'BEEF GRND PUCK CHUCK NAVEL'}, {'BEEF CHUCK/NAVEL': 'BEEF GRND 80\\\\20 BULK HERF'}, {'BEEF 75/25 PUCK': 'BEEF GROUND PUCK 75\\\\25 FRESH'}]\n",
            "165\n"
          ]
        },
        {
          "output_type": "stream",
          "name": "stderr",
          "text": [
            "Processing Batches: 100%|██████████| 1/1 [00:00<00:00,  1.66it/s]\n"
          ]
        },
        {
          "output_type": "stream",
          "name": "stdout",
          "text": [
            "[{'17040 / S496 6X3 Dough Cutter/Scraper': 'CUTTER DOUGH S-S W/ROSEWD HNDL'}, {'13313 / S162-8Sc Pcp 8 Scalloped Bread Knife': 'KNIFE BRD SCAL S-S'}, {'10473 / S121 Pcp 2 3/4 Oyster Knife New': 'KNIFE OYSTER NEW HAVEN S-S'}]\n",
            "166\n"
          ]
        },
        {
          "output_type": "stream",
          "name": "stderr",
          "text": [
            "Processing Batches: 100%|██████████| 1/1 [00:01<00:00,  1.34s/it]\n"
          ]
        },
        {
          "output_type": "stream",
          "name": "stdout",
          "text": [
            "[{'SALMON ATLANTIC D TRIM PBO - Canada - F': 'SALMON ATLANTIC D TRIM PBO'}, {'SALMON ATL FILLET 3-4 E TRIM - Canada - F': 'SALMON ATL FILLET 3-4 E TRIM'}, {'SALMON FIL SKLS 3-4# PREM - Canada - F': 'SALMON ATL FIL SKLS 3-4# PREM'}, {'SALMON ATL FIL 2-3 E TRIM - Canada - F': 'SALMON ATL FIL 2-3 E TRIM'}, {'LOBSTER WHOLE CKD 14-16 OZ - Canada - W': 'LOBSTER WHL CKD 14-16 OZ'}]\n",
            "167\n"
          ]
        },
        {
          "output_type": "stream",
          "name": "stderr",
          "text": [
            "Processing Batches: 100%|██████████| 1/1 [00:00<00:00,  3.36it/s]\n"
          ]
        },
        {
          "output_type": "stream",
          "name": "stdout",
          "text": [
            "[{'SALMON FIL ATL SK/ON 2-3#D TR - Canada - F': 'SALMON FIL ATL SK/ON 2-3#D TR'}, {'SALMON FIL SKON 4-5 SUSHI SCALED - Canada -': 'SALMON FIL SKON 4-5 SUSHI'}]\n",
            "168\n"
          ]
        },
        {
          "output_type": "stream",
          "name": "stderr",
          "text": [
            "Processing Batches: 100%|██████████| 4/4 [00:20<00:00,  5.08s/it]\n"
          ]
        },
        {
          "output_type": "stream",
          "name": "stdout",
          "text": [
            "[{'BASS STRIPED HYBRID USA FIL SKON PBO FRS - USA': 'BASS STRIPED FIL SKON 8-10 OZ'}, {'OYSTER SHUCKED STD 1/2 GALLON - USA - F4176011 BEST BY 7/17/24  Wet Store Date6/26/2024': 'OYSTER SHUCKED STD'}, {'OYSTER LIVE FANNY BAY 120 CT/ MEDIUM - Canada - FLocation 14-15  Wet Store Date6/23/2024  Final Harv': 'OYSTER LIVE FANNY BAY'}, {'OYSTER LIVE MISTY POINT 100 CT - USA - WLocation LOWER CHESAPEAKE BAY VA 23356 1 Wet': 'OYSTER LIVE MISTY POINT'}, {'CRAB SOFT SHELL PRIME 14 COUNT - Vietnam - F': 'CRAB SOFT SHELL PR'}, {'COD FIL BLK LOCAL SKON FRSH - USA - W': 'COD FIL BLK LOCAL SKON 5UP'}, {'SALMON ATL FIL SKON 3-4# PREM - Canada - F': 'SALMON ATL FIL SKON 3-4# PREM'}, {'SALMON ATL PRTN 5 OZ SKINON - Canada - F': 'SALMON ATL PRTN 5OZ SKINON'}, {'OYSTER LIVE EAST COAST FRSH - USA - WLocation PE 2C I Wet Store Date6/21/2024 I Final': 'OYSTER LIVE FRSH EAST COAST'}, {'OYSTER LIVE FRSH WEST COAST - USA - FLocation WS9173381 1 Wet Store Date6/20/2024': 'OYSTER LIVE FRSH WEST COAST'}, {'OYSTER LIVE KUMAMOTO 60 CT - USA - FLocation WS7173369  Wet Store Date6/24/2024': 'OYSTER LIVE KUMAMOTO'}, {'SALMON ATL PRTN 6oz DEEP SKND - Chile - F': 'SALMON ATL FIL PRTN SKOFF BBRG'}, {'SALMON TROUT STEELHEAD FIL SKIN ON - USA -': 'SALMON FIL TROUT STEALHEAD SON'}, {'SALMON SMOKED NORWGN UNSLICED FRESH - USA -': 'SALMON SMK NORWGN UNSLICED'}, {'SALMON PIECES TRIM - Canada - F': 'SALMON PIECES TRIM'}, {'SALMON ATL ETRIM 3-4 LB (DEEP SKIN PKW) - Chile -': 'SALMON ATL FIL ETRIM 3-4 LB'}]\n",
            "169\n"
          ]
        },
        {
          "output_type": "stream",
          "name": "stderr",
          "text": [
            "Processing Batches: 100%|██████████| 1/1 [00:07<00:00,  7.31s/it]\n"
          ]
        },
        {
          "output_type": "stream",
          "name": "stdout",
          "text": [
            "[{'CRAB CLUSTER SNOW OPILIO 5-8 OZ - Canada - W': 'CRAB CLUSTER SNOW OPILIO 5-8Z'}, {'LOBSTER TAIL 9 OZ WW 10LB - Honduras - W': 'LOBSTER TAIL WRM WTR 9 OZ'}, {'MUSSEL FRESH PEI - USA - FLocation AQ 455 NL 1 Wet Store Date6/18/2024 1 Final Harvest Date6/21/2024': 'MUSSEL FRESH PEI'}, {'SALMON ATL PRTN 6oz DEEP SKND - Chile - F': 'SALMON ATL FIL PRTN SKOFF BBRG'}, {'SALMON FIL SCOTTISH SCALED - Scotland - F': 'SALMON FIL SCOTTISH SCALED'}, {'SEABASS FILET CHILEAN SKIN OFF - Korea - W': 'SEABASS FILET CHILEAN'}, {'SHRIMP WHT 31/40 HDON RAW - Asia - F': 'SHRIMP WHT 31/40 HDON RAW'}, {'AR 1 SPICE WASABI PWDR W/WASABITS 10/22 - Asia - F': 'SPICE WASABI PWDR W/WASABITS'}]\n",
            "170\n"
          ]
        },
        {
          "output_type": "stream",
          "name": "stderr",
          "text": [
            "Processing Batches: 100%|██████████| 1/1 [00:00<00:00,  1.19it/s]\n"
          ]
        },
        {
          "output_type": "stream",
          "name": "stdout",
          "text": [
            "[{'CRAB LUMP JUMBO FRSH - Indonesia - W': 'CRAB LUMP JMBO FRSH'}, {'HALIBUT FLETCH SKIN-ON MEIERS FRESH': 'HALIBUT FLETCH SKON MEIERS'}, {'SALMON FIL SKON 4-5 TIGHT TRIM - Canada': 'SALMON FIL SKON 4-5 TIGHT TRIM'}]\n",
            "171\n"
          ]
        },
        {
          "output_type": "stream",
          "name": "stderr",
          "text": [
            "Processing Batches: 100%|██████████| 1/1 [00:00<00:00,  1.16it/s]\n"
          ]
        },
        {
          "output_type": "stream",
          "name": "stdout",
          "text": [
            "[{'ANCHOVY BULK WHT BOQUERONES 22 - Spain -': 'ANCHOVY BULK WHT BOQUERONES'}, {'TROUT FIL SMK FRSH - USA - F': 'TROUT FIL RNBOW SMK FRSH'}, {'SALMON ATL FIL SKIN OFF 3-4 - Canada - F': 'SALMON ATL FIL SKIN OFF 3-4'}]\n",
            "172\n"
          ]
        },
        {
          "output_type": "stream",
          "name": "stderr",
          "text": [
            "Processing Batches: 100%|██████████| 1/1 [00:01<00:00,  1.61s/it]\n"
          ]
        },
        {
          "output_type": "stream",
          "name": "stdout",
          "text": [
            "[{'CRAB LUMP JUMBO FRSH - Indonesia': 'CRAB LUMP JMBO FRSH'}, {'SALMON FIL SCOTTISH SCALED -': 'SALMON FIL SCOTTISH SCALED'}, {'SALMON KING FIL WILD SKON SCALED': 'SALMON KING FIL WILD SCALED'}, {'SEAWEED GOMA FURIKAKE 1/22 LB -': 'SEASONING RICE FURIKAKE'}, {'SEAWEED DRIED KELP DASHI KOMBU': 'SEAWEED DRIED KELP DASHI KOMBU'}]\n",
            "173\n"
          ]
        },
        {
          "output_type": "stream",
          "name": "stderr",
          "text": [
            "Processing Batches: 100%|██████████| 1/1 [00:00<00:00,  1.02it/s]\n"
          ]
        },
        {
          "output_type": "stream",
          "name": "stdout",
          "text": [
            "[{'ANCHOVY BULK WHT BOQUERONES 22 - Spain - W': 'ANCHOVY BULK WHT BOQUERONES'}, {'SALMON ATL FIL SKIN OFF 3-4 - Canada - F': 'SALMON ATL FIL SKIN OFF 3-4'}, {'SALMON FIL ATL SK/ON 3/4LB FRS - Canada - F': 'SALMON FIL ATL SK/ON 3/4LB FRS'}, {'SALMON FIL SKON 4-5 SUSHI SCALED - Canada - F': 'SALMON FIL SKON 4-5 SUSHI'}]\n",
            "174\n"
          ]
        },
        {
          "output_type": "stream",
          "name": "stderr",
          "text": [
            "Processing Batches: 100%|██████████| 1/1 [00:00<00:00,  1.68it/s]\n"
          ]
        },
        {
          "output_type": "stream",
          "name": "stdout",
          "text": [
            "[{'SALMON ATL WHL 12-14# 1 PCS - Canada - F': 'SALMON ATL WHL 12-14# HDON GTD'}, {'SALMON FIL SCOTTISH SCALED - Scotland - F': 'SALMON FIL SCOTTISH SCALED'}, {'SWORDFISH LOIN SKIN-ON FRESH - USA - W': 'SWORDFISH LOIN FRSH'}]\n",
            "175\n"
          ]
        },
        {
          "output_type": "stream",
          "name": "stderr",
          "text": [
            "Processing Batches: 100%|██████████| 2/2 [00:06<00:00,  3.27s/it]\n"
          ]
        },
        {
          "output_type": "stream",
          "name": "stdout",
          "text": [
            "[{'BASS SEA BRANZINO SKON BL BUTTERFLY - Greece -': 'BASS SEA BRANZINO SKON BL 7-8Z'}, {'BASS WHOLE BRANZINO 400-600 FRSH GILLED &Greece - F': 'BASS WHOLE BRANZINO FRSH'}, {'CRAB CLUSTER SNOW OPILIO 5-8 OZ - Canada -': 'CRAB CLUSTER SNOW OPILIO 5-8Z'}, {'MUSSEL FRESH PEI - USA - FLocation AQ 330 NL I Wet Store': 'MUSSEL FRESH PEI'}, {'SALMON ATL WHL FRSH 14-16# - Canada - F': 'SALMON ATL WHL FRSH 14-16#'}, {'HALIBUT FILET SKIN-ON FRESH - USA - W': 'HALIBUT FILET FRSH'}, {'SALMON ATLANTIC HEADS - Canada - F': 'SALMON ATLANTIC HEADS'}, {'SALMON KING NAT FRMD SCALED FIL - New Zealand -': 'SALMON KNG FIL SCALED PBO FARM'}, {'SCALLOP SEA FRSH U/10 DRY - USA - W': 'SCALLOP SEA FRSH U/10 DRY'}, {'SNAPPER RED FIL 6-8oz FRZN - New Zealand - W': 'SNAPPER RED FIL 6-8OZ FRZN'}]\n",
            "176\n"
          ]
        },
        {
          "output_type": "stream",
          "name": "stderr",
          "text": [
            "Processing Batches: 100%|██████████| 1/1 [00:00<00:00,  3.45it/s]\n"
          ]
        },
        {
          "output_type": "stream",
          "name": "stdout",
          "text": [
            "[{'SALMON ATL PRTN 6oz DEEP SKND - Chile - F': 'SALMON ATL FIL PRTN SKOFF BBRG'}, {'TROUT STEELHEAD FIL FRSH - USA - F': 'TROUT STEELHEAD FIL FRSH'}]\n",
            "177\n"
          ]
        },
        {
          "output_type": "stream",
          "name": "stderr",
          "text": [
            "Processing Batches: 100%|██████████| 1/1 [00:00<00:00,  4.15it/s]\n"
          ]
        },
        {
          "output_type": "stream",
          "name": "stdout",
          "text": [
            "[{'HALIBUT FILET SKIN-ON FRESH - USA - W': 'HALIBUT FILET FRSH'}, {'SWORDFISH LOIN SKIN-ON FRESH - USA - W': 'SWORDFISH LOIN FRSH'}]\n",
            "178\n"
          ]
        },
        {
          "output_type": "stream",
          "name": "stderr",
          "text": [
            "Processing Batches: 100%|██████████| 2/2 [00:07<00:00,  3.97s/it]\n"
          ]
        },
        {
          "output_type": "stream",
          "name": "stdout",
          "text": [
            "[{'HALIBUT FILET SKIN-ON FRESH - USA - W': 'HALIBUT FILET FRSH'}, {'HALIBUT FLETCH SKIN-ON MEIERS FRESH - USA - W': 'HALIBUT FLETCH SKON MEIERS'}, {'R FILLET 1-2 SKIN-OFF FROZEN - Mexico - W': 'HALIBUT PIECES IQF 1-2 OZ'}, {'OCTOPUS WHL SPANISH 2-4 FRZ - Spain - W': 'OCTOPUS WHOLE SPAN 2-4# FZN'}, {'ONION RED FRY 5 PACKS - Asia - F': 'ONION RED FRIED'}, {'SALMON ATL WHL FRSH 14-16# - Canada - F': 'SALMON ATL WHL FRSH 14-16#'}, {'SALMON WHL KING ORA - New Zealand - F': 'SALMON WHL KNG ORA'}, {'SEAWEED GOMA FURIKAKE 1/22 LB - Asia - W': 'SEASONING RICE FURIKAKE'}, {'AR 1 SPICE WASABI PWDR W/WASABITS 10/22 - Asia - F': 'SPICE WASABI PWDR W/WASABITS'}, {'TROUT STEELHEAD FIL FRSH - USA - F': 'TROUT STEELHEAD FIL FRSH'}]\n",
            "179\n"
          ]
        },
        {
          "output_type": "stream",
          "name": "stderr",
          "text": [
            "Processing Batches: 100%|██████████| 1/1 [00:02<00:00,  2.09s/it]\n"
          ]
        },
        {
          "output_type": "stream",
          "name": "stdout",
          "text": [
            "[{'ANCHOVY BULK WHT BOQUERONES 22 - Spain - W': 'ANCHOVY BULK WHT BOQUERONES'}, {'MAHI MAHI PCS 1-3 OZ - Indonesia - W': 'MAHI MAHI PCS 1-3 OZ'}, {'SALMON ATL FIL SKIN OFF 3-4 - Canada - F': 'SALMON ATL FIL SKIN OFF 3-4'}, {'SALMON FIL ATL SK/ON 2-3#D TR - Canada - F': 'SALMON FIL ATL SK/ON 2-3#D TR'}, {'SALMON FIL ATL SK/ON 3/4LB FRS - Canada - F': 'SALMON FIL ATL SK/ON 3/4LB FRS'}, {'SALMON FIL SKON 4-5 SUSHI SCALED - Canada - F': 'SALMON FIL SKON 4-5 SUSHI'}]\n",
            "180\n"
          ]
        },
        {
          "output_type": "stream",
          "name": "stderr",
          "text": [
            "Processing Batches: 100%|██████████| 1/1 [00:00<00:00,  1.93it/s]\n"
          ]
        },
        {
          "output_type": "stream",
          "name": "stdout",
          "text": [
            "[{'ONO LOIN SK/ON FRSH - USA - W': 'ONO LOIN SK/ON FRSH'}, {'SALMON TRIMMING FRSH - Canada': 'SALMON TRIMMING FRSH'}, {'SHRIMP BLUE 10/12 NEW CALEDON': 'SHRIMP BLUE 10/12 NEW CALEDON'}]\n",
            "181\n"
          ]
        },
        {
          "output_type": "stream",
          "name": "stderr",
          "text": [
            "Processing Batches: 100%|██████████| 1/1 [00:00<00:00,  3.79it/s]\n"
          ]
        },
        {
          "output_type": "stream",
          "name": "stdout",
          "text": [
            "[{'BAR NUTRITIONALCKIE CASHEW': 'BAR NUTRITIONAL CKIE CASHEW'}, {'BAR ENERGY CHOCBROWNIE': 'BAR ENERGY CHOC BROWNIE'}]\n",
            "182\n"
          ]
        },
        {
          "output_type": "stream",
          "name": "stderr",
          "text": [
            "Processing Batches: 100%|██████████| 1/1 [00:00<00:00,  3.41it/s]\n"
          ]
        },
        {
          "output_type": "stream",
          "name": "stdout",
          "text": [
            "[{'SALMON ATL FLT 3-4#S/L E': 'SALMON ATL FIL SKLS 3-4 LB CAN'}, {'SALMON ATL FLT 2-3# S/L E': 'SALMON ATL FLT SKLS 2-3 LB CDN'}]\n",
            "183\n"
          ]
        },
        {
          "output_type": "stream",
          "name": "stderr",
          "text": [
            "Processing Batches: 100%|██████████| 1/1 [00:00<00:00,  3.00it/s]\n"
          ]
        },
        {
          "output_type": "stream",
          "name": "stdout",
          "text": [
            "[{'SUGAR IN THE RAWBULK': 'SUGAR IN THE RAW BULK'}, {'SYRUP SODA BERRYPATCH ORG': 'SYRUP SODA BERRY PATCH ORG'}]\n",
            "184\n"
          ]
        },
        {
          "output_type": "stream",
          "name": "stderr",
          "text": [
            "Processing Batches: 100%|██████████| 1/1 [00:02<00:00,  2.05s/it]\n"
          ]
        },
        {
          "output_type": "stream",
          "name": "stdout",
          "text": [
            "[{'SEA BRANZINO': 'BASS SEA BRANZINO SPLIT FILLET'}, {'F[LET S/ON': 'HAMACHI FILET S/ON YELLOWTAIL'}, {'STL FIL PRTN1060': 'SALMON ATL FIL PRTN SKOFF BBRG'}, {'SALMON PORTION1065': 'SALMON PORTION STR CUT 7OZ'}, {'LOIN #1 BREADLOAF': 'TUNA LOIN #1 BREADLOAF PERRYS'}, {'FILETSKIN': 'MONKFISH FIL SKIN OFF'}, {'LON 2+ SKON': 'TUNA LOIN 2+ SKIN ON'}]\n",
            "185\n"
          ]
        },
        {
          "output_type": "stream",
          "name": "stderr",
          "text": [
            "Processing Batches: 100%|██████████| 1/1 [00:00<00:00,  4.15it/s]\n"
          ]
        },
        {
          "output_type": "stream",
          "name": "stdout",
          "text": [
            "[{'2/4lb slabs': 'CORNBREAD BKD HONEY SHEET'}, {'G&B SWT Roll Dough 480/15oz': 'DOUGH ROLL YEAST'}]\n",
            "186\n"
          ]
        },
        {
          "output_type": "stream",
          "name": "stderr",
          "text": [
            "Processing Batches: 100%|██████████| 4/4 [00:12<00:00,  3.18s/it]\n"
          ]
        },
        {
          "output_type": "stream",
          "name": "stdout",
          "text": [
            "[{'CORN 4IN WHITE CHIQUITA TORTILLA': 'TORTILLA CORN MINI 4 FRSH'}, {'FLOUR 12IN GRANDE TORTILLA': 'TORTILLA FLOUR PRSSD 12IN'}, {'FLOUR 12IN WHEAT TORTILLA': 'TORTILLA FLOUR WHEAT 12IN'}, {'FLOUR 14IN GIGANTE TORTILLA': 'TORTILLA FLOUR PRSSD 14IN'}, {'CORN 6IN WHITE THICK TORTILLA': 'TORTILLA CORN WHT 6IN'}, {'FLOUR 6IN TORTILLA': 'TORTILLA FLOUR PRESS 6IN'}, {'CORN 6-CUT YLW THIN PRE-CUT': 'CHIP TORTILLA CORN YEL 6 CUT'}, {'CORN 6IN YLW THICK TORTILLA': 'TORTILLA CORN YEL THICK 6IN'}, {'FLOUR 10IN BURRITO TORTILLA': 'TORTILLA FLOUR PRSSD 10IN'}, {'CORN 45IN WHITE TAQUITO TORTILLA': 'TORTILLA CORN WHT 4.5IN'}, {'FLOUR 12IN SPINACH TORTILLA': 'TORTILLA FLOUR SPINACH 12'}, {'FLOUR 12IN CHIPOTLE TORTILLA': 'TORTILLA FLOUR CHIPOTLE 12IN'}, {'CORN 6-CUT TRI COLOR PRE-CUT': 'TORTILLA CORN TRI COLR RAW 6C'}, {'FLOUR 8IN TORTILLA': 'TORTILLA FLOUR PRESS 8IN'}, {'FLOUR 14IN SPINACH TORTILLA': 'TORTILLA FLOUR SPINACH 14'}]\n",
            "187\n"
          ]
        },
        {
          "output_type": "stream",
          "name": "stderr",
          "text": [
            "Processing Batches: 100%|██████████| 1/1 [00:01<00:00,  1.46s/it]\n"
          ]
        },
        {
          "output_type": "stream",
          "name": "stdout",
          "text": [
            "[{'SHRIMP P&D RAW ROCK': 'SHRIMP P&D RAW ROCK 70/90 CT'}, {'SHRIMP U8-12 TIGER': 'SHRIMP TGR P&D 8/12CT TAIL/ON'}, {'CLAM W/C MANILAFARM RAISED FAO67': 'CLAM MANILA FRSH'}, {'TROUT 7-9OZ PBO HDLSIDAHO': 'TROUT FILET PBO 8 OZ'}, {'HAMACHI FILLET 7/21': 'HAMACHI FILET YELLOWTAIL JACK'}]\n",
            "188\n"
          ]
        },
        {
          "output_type": "stream",
          "name": "stderr",
          "text": [
            "Processing Batches: 100%|██████████| 1/1 [00:00<00:00,  3.81it/s]\n"
          ]
        },
        {
          "output_type": "stream",
          "name": "stdout",
          "text": [
            "[{'SALMON LRG ATLANTIC FILLET PBO': 'SALMON ATL FIL DTRIM CAN 3-4#'}, {'SALMONSCOTTISHFILLETPBO': 'SALMON FIL PBO 4-5# SCOTTISH'}]\n",
            "189\n"
          ]
        },
        {
          "output_type": "stream",
          "name": "stderr",
          "text": [
            "Processing Batches: 100%|██████████| 2/2 [00:04<00:00,  2.21s/it]\n"
          ]
        },
        {
          "output_type": "stream",
          "name": "stdout",
          "text": [
            "[{'COD FILLET REFRESHED': 'COD FIL SKLS RFRSH 6-8 OZ'}, {'OYSTER MID ATLANTIIC 100 CT': 'OYSTER LIVE MID-ATLANTIC 100CT'}, {'TOBIKO WASABI 12/11#': 'ROE FLYINGFISH TOBIKO GREEN'}, {'TOBIKO RED 24/11#': 'ROE FLYINGFISH TOBIKO RED'}, {'STEELHEAD TROUT FILLET PBO 10#': 'SALMON STEELHEAD SKNON BNLS'}, {'SCALLOP U-10 SEA NATURAL DRY': 'SCALLOP SEA FRSH U/10 DRY'}, {'SEA BASS CHILEAN PORT 8 OZ': 'SEABASS FIL CHILEAN SKLS 8 OZ'}, {'BASS SEA CHILEAN FILLET SK/ON': 'SEABASS FILET CHILEAN'}, {'SWORDFISH LARGE EYE LOIN': 'SWORDFISH LOIN'}, {'TROUT 6-8 OZ RED FILLET': 'TROUT FILET RED MEATED FRSH'}]\n",
            "190\n"
          ]
        },
        {
          "output_type": "stream",
          "name": "stderr",
          "text": [
            "Processing Batches: 100%|██████████| 1/1 [00:00<00:00,  5.70it/s]\n"
          ]
        },
        {
          "output_type": "stream",
          "name": "stdout",
          "text": [
            "[{'BERRY PERFECT': 'BERRY PERFECT IQF'}, {'BERRY PERFECT': 'BERRY PERFECT IQF'}]\n",
            "191\n"
          ]
        },
        {
          "output_type": "stream",
          "name": "stderr",
          "text": [
            "Processing Batches: 100%|██████████| 1/1 [00:00<00:00,  2.60it/s]\n"
          ]
        },
        {
          "output_type": "stream",
          "name": "stdout",
          "text": [
            "[{'LA SPAGNOLA BLENDED VEGETABLE AND': 'OIL VEG /PURE OLIVE 90/10 BLND'}, {'SICILIA 90/10 CANOLA/EXTRA VIRGIN OLIVE': 'OIL CANOLA/OLIVE BLEND 90/10'}]\n",
            "192\n"
          ]
        },
        {
          "output_type": "stream",
          "name": "stderr",
          "text": [
            "Processing Batches: 100%|██████████| 1/1 [00:02<00:00,  2.01s/it]\n"
          ]
        },
        {
          "output_type": "stream",
          "name": "stdout",
          "text": [
            "[{'DDF DIY THE REVERSE 1-52 OZ': 'DOUGH COOKIE REESES REVERSE'}, {'DDF DIY CHOCOLATE CHIP COO 1-52 OZ': 'DOUGH COOKIE CHOC CHIP'}, {'DDF DIY BROOKIE COOKIE 1-52 OZ': 'DOUGH COOKIE BROOKIE'}, {'DDF DIY SUGAR COOKIE BASE 1-52 OZ': 'COOKIE SUGAR'}, {'IVN JDM PRK TEMP BATD 6-2 LB': 'ENTREE PORK NUGG TEMPURA CKD'}]\n",
            "193\n"
          ]
        },
        {
          "output_type": "stream",
          "name": "stderr",
          "text": [
            "Processing Batches: 100%|██████████| 1/1 [00:00<00:00,  1.71it/s]\n"
          ]
        },
        {
          "output_type": "stream",
          "name": "stdout",
          "text": [
            "[{'Butter Blend Savory V2': 'BUTTER BLEND SAVORY V2'}, {'ICup Paper 16 Oz Hot EBB': 'CUP PAPER 16 OZ HOT EBB'}, {'Muffin English V3': 'MUFFIN ENGLISH V3'}]\n",
            "194\n"
          ]
        },
        {
          "output_type": "stream",
          "name": "stderr",
          "text": [
            "Processing Batches: 100%|██████████| 2/2 [00:06<00:00,  3.40s/it]\n"
          ]
        },
        {
          "output_type": "stream",
          "name": "stdout",
          "text": [
            "[{'Butter Maple Honey': 'BUTTER MAPLE HONEY'}, {'Cream Sour Light Pkt': 'CREAM SOUR LIGHT PKT'}, {'Creamer Half & Half Indiv': 'CREAMER HALF & HALF INDIV'}, {'Creamer Half & Half Pint': 'CREAMER HALF & HALF PINT'}, {'Dressing Ranch 2 Oz': 'DRESSING RANCH 2 OZ'}, {'Dressing Vingrt Pomegrnt 175z': 'DRESSING VINGRT POMEGRNT 1.75Z'}, {'Garlic Chopped': 'GARLIC CHOPPED'}, {'Sauce Buffalo Nugget Toss': 'SAUCE BUFFALO NUGGET TOSS'}, {'Sauce Garlic Parm Nug Toss V2': 'SAUCE GARLIC PARM NUG TOSS V2'}, {'Sauce Honey BBQ Nugget Toss': 'SAUCE HONEY BBQ NUGGET TOSS'}, {'Spread Pepper Ghost': 'SPREAD PEPPER GHOST'}]\n",
            "195\n"
          ]
        },
        {
          "output_type": "stream",
          "name": "stderr",
          "text": [
            "Processing Batches: 100%|██████████| 1/1 [00:02<00:00,  2.47s/it]\n"
          ]
        },
        {
          "output_type": "stream",
          "name": "stdout",
          "text": [
            "[{'Bagel Blueberry Par-Bkd': 'BAGEL BLUEBERRY PAR-BKD'}, {'Bagel Whl Wheat Parbkd': 'BAGEL WHL WHEAT PARBKD'}, {'Cup Plas 24 Oz Cold Pp EBB': 'CUP PLAS 24 OZ COLD PP EBB'}, {'Dough Bread Potato Ball': 'DOUGH BREAD POTATO BALL'}, {'Dough Cookie Choc Chunk -': 'DOUGH COOKIE CHOC CHUNK'}, {'Roll Cinnamon Bkd': 'ROLL CINNAMON BKD NO GLAZE FZ'}, {'Topping Streusel Cin Crunch': 'TOPPING STREUSEL CIN CRUNCH'}]\n",
            "196\n"
          ]
        },
        {
          "output_type": "stream",
          "name": "stderr",
          "text": [
            "Processing Batches: 100%|██████████| 3/3 [00:09<00:00,  3.00s/it]\n"
          ]
        },
        {
          "output_type": "stream",
          "name": "stdout",
          "text": [
            "[{'Cream Sour Light Pkt': 'CREAM SOUR LIGHT PKT'}, {'Creamer Half & Half Indiv': 'CREAMER HALF & HALF INDIV'}, {'Dressing Caesar 2 Oz': 'DRESSING CAESAR 2 OZ'}, {'Dressing Ranch 2 Oz': 'DRESSING RANCH 2 OZ'}, {'Dressing Vingrt Pomegrnt 175z': 'DRESSING VINGRT POMEGRNT 1.75Z'}, {'Garlic Chopped': 'GARLIC CHOPPED'}, {'Salsa Regular Sign Cup 275 Oz': 'SALSA REGULAR SIGN CUP 2.75 OZ'}, {'Sauce Buffalo Nugget Toss': 'SAUCE BUFFALO NUGGET TOSS'}, {'Sauce Garlic Parm Nug Toss V2': 'SAUCE GARLIC PARM NUG TOSS V2'}, {'Sauce Honey BBQ Nugget Toss': 'SAUCE HONEY BBQ NUGGET TOSS'}, {'Sauce Pepper Ghost V2': 'SAUCE PEPPER GHOST V2'}, {'Sauce Ranch Buttermilk': 'SAUCE RANCH BUTTERMILK'}, {'Sauce Strawberry Puree 4': 'SAUCE STRAWBERRY PUREE 4'}]\n",
            "197\n"
          ]
        },
        {
          "output_type": "stream",
          "name": "stderr",
          "text": [
            "Processing Batches: 100%|██████████| 1/1 [00:01<00:00,  1.40s/it]\n"
          ]
        },
        {
          "output_type": "stream",
          "name": "stdout",
          "text": [
            "[{'Cup Plas 24 Oz Cold Pp': 'CUP PLAS 24 OZ COLD PP EBB'}, {'Dough Ball French Toast': 'DOUGH BALL FRENCH TOAST'}, {'Muffin Blubry Pdm 96/45 Oz': 'MUFFIN BLUBRY PDM 96/4.5 OZ'}, {'Roll Cinnamon Bkd No': 'ROLL CINNAMON BKD NO GLAZE FZ'}]\n",
            "198\n"
          ]
        },
        {
          "output_type": "stream",
          "name": "stderr",
          "text": [
            "Processing Batches: 100%|██████████| 1/1 [00:01<00:00,  1.41s/it]\n"
          ]
        },
        {
          "output_type": "stream",
          "name": "stdout",
          "text": [
            "[{'Bag Paper 12lb EBB 2016': 'BAG PAPER 12LB EBB 2016'}, {'Box Paper Nosh W/Lid EBB 2016': 'BOX PAPER NOSH W/LID EBB 2016'}, {'Butter Blend Savory V2': 'BUTTER BLEND SAVORY V2'}, {'Muffin Chocolate Chip Pdm': 'MUFFIN CHOCOLATE CHIP PDM'}, {'Muffin English V3': 'MUFFIN ENGLISH V3'}]\n",
            "199\n"
          ]
        },
        {
          "output_type": "stream",
          "name": "stderr",
          "text": [
            "Processing Batches: 100%|██████████| 1/1 [00:02<00:00,  2.23s/it]\n"
          ]
        },
        {
          "output_type": "stream",
          "name": "stdout",
          "text": [
            "[{'Raw beef short rib bnls': 'BEEF BRAISING MIX RAW'}, {'Ground Beef 3 Muscle Blend': 'BEEF GRND 3 MUSCLE BLEND'}, {'**78/22 2/10 lbs': 'BEEF GROUND 78/22'}, {'Nemacolin beef patty 5 oz': 'BEEF PATTY 5.33OZ NEMACOLIN'}, {'Baebae beef sliced': 'BEEF SLICED STEAK'}, {'Medures kabob 2 x 2': 'BEEF STEAK FIL KABOB 2X2'}, {'Beef tender tips/Rolands': 'BEEF TENDER TIPS 1 1/2 X 2'}]\n",
            "200\n"
          ]
        },
        {
          "output_type": "stream",
          "name": "stderr",
          "text": [
            "Processing Batches: 100%|██████████| 1/1 [00:00<00:00,  1.23it/s]\n"
          ]
        },
        {
          "output_type": "stream",
          "name": "stdout",
          "text": [
            "[{'**Ribeye steak chipped 10lb packs': 'BEEF RIBEYE CHIPPED'}, {'Inside/Outside': 'BEEF SKIRT STEAK INSIDE/OUTSID'}, {'whole boneless': 'BEEF STRIPLOIN WHL BNLS 0X1'}, {'fresh (was the old pork osso #)': 'PORK HAM B/I HALF'}]\n",
            "201\n"
          ]
        },
        {
          "output_type": "stream",
          "name": "stderr",
          "text": [
            "Processing Batches: 100%|██████████| 1/1 [00:00<00:00,  3.97it/s]\n"
          ]
        },
        {
          "output_type": "stream",
          "name": "stdout",
          "text": [
            "[{'Baebae beef sliced steak 40/4 oz': 'BEEF SLICED STEAK'}, {'Medures kabob 2 x': 'BEEF STEAK FIL KABOB 2X2'}]\n",
            "202\n"
          ]
        },
        {
          "output_type": "stream",
          "name": "stderr",
          "text": [
            "Processing Batches: 100%|██████████| 1/1 [00:00<00:00,  3.60it/s]\n"
          ]
        },
        {
          "output_type": "stream",
          "name": "stdout",
          "text": [
            "[{'CASA MIA ROSA 80% CANOLA 20% OLIVE': 'OIL OLIVE 80%CANOLA 20%POMACE'}, {'JERSEY MIKES RED WINE VINEGAR (4/1': 'VINEGAR RED WINE'}]\n",
            "203\n"
          ]
        },
        {
          "output_type": "stream",
          "name": "stderr",
          "text": [
            "Processing Batches: 100%|██████████| 1/1 [00:00<00:00,  4.07it/s]\n"
          ]
        },
        {
          "output_type": "stream",
          "name": "stdout",
          "text": [
            "[{'Slim Chickens Jar-12 oz': 'JAR GLASS EMBOSD SLIM CHICKEN'}, {'Massilly Lid-Silver/Buff': 'LID ALMN WHT LINE F/SLCK JAR'}]\n",
            "204\n"
          ]
        },
        {
          "output_type": "stream",
          "name": "stderr",
          "text": [
            "Processing Batches: 100%|██████████| 1/1 [00:00<00:00,  1.42it/s]\n"
          ]
        },
        {
          "output_type": "stream",
          "name": "stdout",
          "text": [
            "[{'3 lb Spring Mix': 'LETTUCE SPRING MIX'}, {'3 lb Romaine Crunch': 'LETTUCE ROMAINE LEAF CRUNCH'}, {'/ 3 lb Romaine Crunch': 'LETTUCE ROMAINE LEAF CRUN REV'}, {'12 ct Butterhead': 'LETTUCE BIBB HYDRO BULK REVOL'}]\n",
            "205\n"
          ]
        },
        {
          "output_type": "stream",
          "name": "stderr",
          "text": [
            "Processing Batches: 100%|██████████| 1/1 [00:00<00:00,  3.73it/s]\n"
          ]
        },
        {
          "output_type": "stream",
          "name": "stdout",
          "text": [
            "[{'OIL (6/1 GALLON)': 'OIL CANOLA/OLIVE BLEND 90/10'}, {'OLIVE OIL (6/1 GALLON)': 'OIL VEG /PURE OLIVE 90/10 BLND'}]\n",
            "206\n"
          ]
        },
        {
          "output_type": "stream",
          "name": "stderr",
          "text": [
            "Processing Batches: 100%|██████████| 1/1 [00:00<00:00,  1.01it/s]\n"
          ]
        },
        {
          "output_type": "stream",
          "name": "stdout",
          "text": [
            "[{'BEEF PATTIE CHB1881 RND 6 OZ-SYSCO M': 'BEEF GRND CHUCK PTY HERF1881'}, {'BEEF PATTIE CHB1881 NAT 7 OZ-SYSCO M': 'BEEF GRND CHUCK PTY HERF1881'}, {'BEEF PATTIE CHB NAT 533 OZ': 'BEEF GRND CHUCK PTY HERF'}, {'BEEF PATTIE CHB1881 RND 2 OZ': 'BEEF GRND CHUCK PTY HERF1881'}]\n",
            "207\n"
          ]
        },
        {
          "output_type": "stream",
          "name": "stderr",
          "text": [
            "Processing Batches: 100%|██████████| 1/1 [00:01<00:00,  1.14s/it]\n"
          ]
        },
        {
          "output_type": "stream",
          "name": "stdout",
          "text": [
            "[{'HC Plus Orange Juice Cups 96/4oz': 'JUICE ORANGE STABLE'}, {'HC Plus Grape Juice Cups 96/4oz': 'JUICE GRAPE SHELF STABLE'}, {'HC Plus Apple Juice Cups 96/4oz': 'JUICE APPLE SHELF STABLE'}, {'HC Plus 15% Cranberry Juice Cups 96/4oz': 'JUICE CRANBERRY 15% SS CUP'}, {'HC Plus Prune Juice Cups 96/4oz': 'JUICE PRUNE 100% SHELF STABLE'}]\n",
            "208\n"
          ]
        },
        {
          "output_type": "stream",
          "name": "stderr",
          "text": [
            "Processing Batches: 100%|██████████| 1/1 [00:02<00:00,  2.30s/it]\n"
          ]
        },
        {
          "output_type": "stream",
          "name": "stdout",
          "text": [
            "[{'HC Plus Diet Cranberry Juice Cups 96/4oz': 'JUICE CRANBERRY DIET'}, {'HC Plus Orange Juice Cups 96/4oz': 'JUICE ORANGE STABLE'}, {'AB Prune Juice Aseptic Liters 12/32 oz': 'JUICE PRUNE SHELF STABLE'}, {'AB Cranberry Juice Aseptic Liters 12/32 oz': 'JUICE CRANBERRY ASEPTIC'}, {'HC Plus Apple Juice Cups 96/4oz': 'JUICE APPLE SHELF STABLE'}, {'HC Plus 15% Cranberry Juice Cups 96/4oz': 'JUICE CRANBERRY 15% SS CUP'}, {'HC Plus Prune Juice Cups 96/4oz': 'JUICE PRUNE 100% SHELF STABLE'}]\n",
            "209\n"
          ]
        },
        {
          "output_type": "stream",
          "name": "stderr",
          "text": [
            "Processing Batches: 100%|██████████| 1/1 [00:01<00:00,  1.06s/it]\n"
          ]
        },
        {
          "output_type": "stream",
          "name": "stdout",
          "text": [
            "[{'HC Plus Apple Juice Cups 96/4oz': 'JUICE APPLE SHELF STABLE'}, {'HC Plus 15% Cranberry Juice Cups': 'JUICE CRANBERRY 15% SS CUP'}, {'HC Plus Orange Juice Cups 96/4oz': 'JUICE ORANGE STABLE'}, {'HC Plus Prune Juice Cups 96/4oz': 'JUICE PRUNE 100% SHELF STABLE'}]\n",
            "210\n"
          ]
        },
        {
          "output_type": "stream",
          "name": "stderr",
          "text": [
            "Processing Batches: 100%|██████████| 2/2 [00:06<00:00,  3.29s/it]\n"
          ]
        },
        {
          "output_type": "stream",
          "name": "stdout",
          "text": [
            "[{'HEREFORD 1881 TENDERLOIN C/C 6 OZ': 'STEAK FILET C\\\\C HERF1881'}, {'1881 P-HOUSE 32 OZ': 'STEAK PORTER 1TL HERE1881'}, {'HERF 1881 RIBEYE C\\\\C 16 OZ 0TL 150T': 'STEAK RIBEYE HF1881 OTL 1.50TK'}, {'RESERVE BALL TIP SKND 8 OZ-12#': 'STEAK SIRL BALLTIP SKND RSV'}, {'HEREFORD 1881 SIRLOIN STCC BB 10 OZ': 'STEAK SIRL BSBALL HERF 1881'}, {'CLASSIC SIRLOIN STCC 10 OZ - Custom': 'STEAK SIRL C\\\\C SKND HERF'}, {'CLASSIC TOP SIRLOIN 6 OZ': 'STEAK SIRL TOP HERF'}, {'1881 HERF NY STRIP CC 14 0Z 0TL 12': 'STEAK STRIP C\\\\C 0TL H81 1.25TK'}, {'CLASSIC NY STRIP CC 12 OZ': 'STEAK STRIP C\\\\C 1TL HERF'}]\n",
            "211\n"
          ]
        },
        {
          "output_type": "stream",
          "name": "stderr",
          "text": [
            "Processing Batches: 100%|██████████| 1/1 [00:00<00:00,  5.11it/s]\n"
          ]
        },
        {
          "output_type": "stream",
          "name": "stdout",
          "text": [
            "[{'STEAK FILET': 'STEAK FILET TAILS'}, {'TURKEY BURGER': 'TURKEY BURGER FRSH 8OZ'}]\n",
            "212\n"
          ]
        },
        {
          "output_type": "stream",
          "name": "stderr",
          "text": [
            "Processing Batches: 100%|██████████| 1/1 [00:00<00:00,  2.02it/s]\n"
          ]
        },
        {
          "output_type": "stream",
          "name": "stdout",
          "text": [
            "[{'CHICKEN BREAST AIRLINE': 'CHICKEN BRST AIRLINE SPLT 12OZ'}, {'CHICKEN THIGH B/S': 'CHICKEN THIGH BNLS SKNLS'}, {'Beef Tenderloin Stk SPLIT TALL': 'STEAK FILET C/C CHAIN OFF BULK'}]\n",
            "213\n"
          ]
        },
        {
          "output_type": "stream",
          "name": "stderr",
          "text": [
            "Processing Batches: 100%|██████████| 2/2 [00:05<00:00,  2.58s/it]\n"
          ]
        },
        {
          "output_type": "stream",
          "name": "stdout",
          "text": [
            "[{'Breadstick Garlic 6-7 In': 'BREADSTICK GARLIC 6-7 IN'}, {'Chicken Bnls Chunk Frttr': 'CHICKEN BNLS CHUNK FRTTR'}, {'Cookie Chip Trpl Choc Bkd 25z': 'COOKIE CHIP TRPL CHOC BKD 2.5Z'}, {'Dough Pizza Lrg Thn On Papr': 'DOUGH PIZZA LRG THN ON PAPR'}, {'Dough Pizza Small Famous Thin': 'DOUGH PIZZA SMALL FAMOUS THIN'}, {'Dough Pizza 10in Hnd Tssed Lg': 'DOUGH PIZZA 10IN HND TSSED LG'}, {'Meatball Beef & Pork Preck Rnd': 'MEATBALL BEEF & PORK PRECK RND'}, {'Roll Sub White Rustic': 'ROLL SUB WHITE RUSTIC'}, {'Sausage Ital Family Recipe Top': 'SAUSAGE ITAL FAMILY RECIPE TOP'}]\n",
            "214\n"
          ]
        },
        {
          "output_type": "stream",
          "name": "stderr",
          "text": [
            "Processing Batches: 100%|██████████| 4/4 [00:14<00:00,  3.71s/it]\n"
          ]
        },
        {
          "output_type": "stream",
          "name": "stdout",
          "text": [
            "[{'Bowl Paper Compost 24z Sgrcne': 'BOWL PAPER COMPOST 24Z SGRCNE'}, {'Box Carryout Catr Small': 'BOX CARRYOUT CATR SMALL'}, {'Box Pizza 10 In Global': 'BOX PIZZA 10 IN GLOBAL'}, {'Box Pizza 12 In Global': 'BOX PIZZA 12 IN GLOBAL'}, {'Box Pizza 14 In Global': 'BOX PIZZA 14 IN GLOBAL'}, {'Box Pizza 7 In Global': 'BOX PIZZA 7 IN GLOBAL'}, {'Dressing Italian House Packet': 'DRESSING ITALIAN HOUSE PACKET'}, {'Lid Plas F/16-46oz SC Bowl': 'LID PLAS F/16-46OZ SC BOWL'}, {'Lid Plas Flat Trans 12-24 Oz': 'LID PLAS FLAT TRANS 12-24 OZ'}, {'Liner Paper Pzbx14x14 Pfasfree': 'LINER PAPER PZBX14X14 PFASFREE'}, {'Liner Paper White Quilon 12x12': 'LINER PAPER WHITE QUILON 12X12'}, {'Plate Paper Pizza Sub 85 Inch': 'PLATE PAPER PIZZA SUB 8.5 INCH'}, {'Sauce Pizza RTU Thick': 'SAUCE PIZZA RTU THICK'}, {'Sauce Pizza RTU Thin': 'SAUCE PIZZA RTU THIN'}, {'Seasoning Hot Chkn': 'SEASONING HOT CHKN'}, {'Spice Basil Freeze Dried': 'SPICE BASIL FREEZE DRIED'}]\n",
            "215\n"
          ]
        },
        {
          "output_type": "stream",
          "name": "stderr",
          "text": [
            "Processing Batches: 100%|██████████| 1/1 [00:00<00:00,  2.92it/s]\n"
          ]
        },
        {
          "output_type": "stream",
          "name": "stdout",
          "text": [
            "[{'Cheese Provolone Shrd': 'CHEESE PROVOLONE SHRD'}, {'Ham Sli Ckd': 'HAM SLI CKD'}, {'Salami Hard Sli': 'SALAMI HARD SLI'}]\n",
            "216\n"
          ]
        },
        {
          "output_type": "stream",
          "name": "stderr",
          "text": [
            "Processing Batches: 100%|██████████| 1/1 [00:00<00:00,  1.48it/s]\n"
          ]
        },
        {
          "output_type": "stream",
          "name": "stdout",
          "text": [
            "[{'Cheese Provolone Shrd': 'CHEESE PROVOLONE SHRD'}, {'Cheese Romano Oregano Blend': 'CHEESE ROMANO OREGANO BLEND'}, {'Ham Sli Ckd': 'HAM SLI CKD'}, {'-Pepperoni Sliced': 'PEPPERONI SLICED'}]\n",
            "217\n"
          ]
        },
        {
          "output_type": "stream",
          "name": "stderr",
          "text": [
            "Processing Batches: 100%|██████████| 1/1 [00:02<00:00,  2.29s/it]\n"
          ]
        },
        {
          "output_type": "stream",
          "name": "stdout",
          "text": [
            "[{'Breadstick Garlic 6-7 In': 'BREADSTICK GARLIC 6-7 IN'}, {'Dough Pizza 10in Hnd Tssed Lg': 'DOUGH PIZZA 10IN HND TSSED LG'}, {'Dough Pizza Lrg Thn On Papr': 'DOUGH PIZZA LRG THN ON PAPR'}, {'Dough Pizza Med Thin On Papr': 'DOUGH PIZZA MED THIN ON PAPR'}, {'Pizza Crust Cauliflower 10': 'PIZZA CRUST CAULIFLOWER 10'}, {'Roll Sub White Rustic': 'ROLL SUB WHITE RUSTIC'}, {'Sausage Ital Family Recipe Top': 'SAUSAGE ITAL FAMILY RECIPE TOP'}]\n",
            "218\n"
          ]
        },
        {
          "output_type": "stream",
          "name": "stderr",
          "text": [
            "Processing Batches: 100%|██████████| 1/1 [00:01<00:00,  1.11s/it]\n"
          ]
        },
        {
          "output_type": "stream",
          "name": "stdout",
          "text": [
            "[{'Box Paper Calzato': 'BOX PAPER CALZATO'}, {'Box Pizza 10 In Global': 'BOX PIZZA 10 IN GLOBAL'}, {'Box Pizza 14 In Global': 'BOX PIZZA 14 IN GLOBAL'}, {'Lid Plas Flat Trans 12-24 Oz': 'LID PLAS FLAT TRANS 12-24 OZ'}, {'Sauce Pizza RTU Thin': 'SAUCE PIZZA RTU THIN'}]\n",
            "219\n"
          ]
        },
        {
          "output_type": "stream",
          "name": "stderr",
          "text": [
            "Processing Batches: 100%|██████████| 1/1 [00:00<00:00,  3.80it/s]\n"
          ]
        },
        {
          "output_type": "stream",
          "name": "stdout",
          "text": [
            "[{'COD - FILLET 12/24 oz ICELANDIC Wild': 'COD FIL MKT FRESH'}, {'SALMON - FILLET 3-4 FAROE ISLAND': 'SALMON FIL FAROE ISLD 3-4'}]\n",
            "220\n"
          ]
        },
        {
          "output_type": "stream",
          "name": "stderr",
          "text": [
            "Processing Batches: 100%|██████████| 1/1 [00:00<00:00,  1.25it/s]\n"
          ]
        },
        {
          "output_type": "stream",
          "name": "stdout",
          "text": [
            "[{'AZ FRESH 4/1 BRATWURST': 'BRATWURST 4X1'}, {'AZ FRESH C/S BREAKFAST BULK - (FROZEN)': 'SAUSAGE BKFST CNTRY STYLE BULK'}, {'3/1 PORK JALAPENO & CHEDDAR': 'BRATWURST 3X1 PORK JAL CHED'}]\n",
            "221\n"
          ]
        },
        {
          "output_type": "stream",
          "name": "stderr",
          "text": [
            "Processing Batches: 100%|██████████| 21/21 [01:17<00:00,  3.67s/it]\n"
          ]
        },
        {
          "output_type": "stream",
          "name": "stdout",
          "text": [
            "[{'BEEF CHUCK SHORT RIB 8NLS SQR': 'BEEF CHUCK SHORT RIB BNLS SQR'}, {'STK TENDER FILET CC BCH': 'STEAK FILET C/C BCH PRF'}, {'STK TENDER FILET CC BCH': 'STEAK FILET C/C BCH PRF'}, {'STEAK FILET MEDLN SEL V': 'STEAK FILET MEDLN SEL VAC4 MAG'}, {'CAB BEEF EYE OF ROUND 2PC/C': 'BEEF EYE OF RND'}, {'BEEF S[RLOIN TIPS 1X1 FRE': 'BEEF SIRLOIN TIPS 1X1 FRSH'}, {'STK STRIP END-CUT 1TL 8OZ FSH RSH': 'STEAK STRIP VEIN CH'}, {'CAB STRIP CC 1TL ST-ON TOC': 'STEAK STRIP C\\\\C1TL BSO 1.5TK'}, {'CAB BEEF STRIPLOIN 0X1 STK RDY': 'BEEF STRIP LOIN BNLS 0X1 CAB'}, {'CAB STK BALL TIP HOGI STYLE': 'STEAK BALL TIP HOGI STYL CAB'}, {'BEEF STEW LEAN 2X2': 'BEEF CHUCK STEW 2X2'}, {'PORK CHOP FRNCH SING-BN': 'PORK CHOP B\\\\I C\\\\C FRCHD'}, {'PORK SHANK BRAISED CKD': 'PORK SHANK OSSO BCCO CKD 20-24'}, {'BUFFALO GROUND PATTY FRZ': 'BUFFALO GROUND PTY FRZN'}, {'CAB STEAK RIBEYE BI': 'STEAK RIBEYE B\\\\I 1TL'}, {'CAB STK TOP BUTT FLAT CUT CC': 'STEAK SIRL TOP C\\\\C SKND'}, {'CAB STK STRIP E-CUT 1 TL': 'STEAK STRIP VEIN 1TL FRZN'}, {'STK CHUCK BISTRO MED CHATEAU STY': 'STEAK CHUCK BSTRO CHATEAU'}, {'CAB STK CHUCK FLAT IRON': 'STEAK CHUCK FLAT IRON'}, {'PORK CHOP CC LOIN': 'PORK CHOP B\\\\I C\\\\C CHOP 6OZ'}, {'CAB STK TENDER FILET CC': 'STEAK FILET C\\\\C'}, {'GIACE DEMI DE VEAL': 'GLACE DEMI DE VEAL CLASSIC'}, {'GLACE DEMI DPOULET (CHIKN)': 'GLACE DEMI DE POULET(CHICKEN)'}, {'RIBEYE BNLS 1TL BCH PRF INE': 'STEAK RIBEYE BNLS 1TL BCH PRF'}, {'BEEF STEW 1/4-Xl': 'BEEF STEW 85% 1\\\\4X1\\\\4'}, {'BEEF TENDER TAIL FRSH CLEAN ANE': 'STEAK FILET TAILS'}, {'SAUSAGE CHDR JAI-APENO': 'SAUSAGE PORK CHDR JALAPENO SMK'}, {'BEAST GROUND PATTY FRZ': 'BEEF GRND EXOTIC BEAST PTY FRZ'}, {'BEEF FOR TACO MEAT DICED': 'BEEF FOR TACO MEAT DICED 1/4IN'}, {'BEEF FOR TACO MEAT DICED': 'BEEF FOR TACO MEAT DICED 1/2IN'}, {'BEEF TENDER KABOB 2 CUB': 'BEEF TENDER KABOB 2IN CUBE'}, {'BEEF SHORT RIB 3-BONE CH V': 'BEEF SHORT RIB 3BN CH VAC6'}, {'CAB STK BEEF FLAT IRON JICCARD RD': 'STEAK CHUCK FLAT IRON'}, {'PORK CHOP FRNCH SINGLE-BN WMF': 'PORK CHOP FRCHD'}, {'CAB RIBEYE BIN FRNCH LNGB': 'STEAK RIBEYE B\\\\I FRNCH LNGBN'}, {'CAB BEEF HANGING TNDR PLD FRS': 'STEAK HANGER TENDER PLD'}]\n",
            "222\n"
          ]
        },
        {
          "output_type": "stream",
          "name": "stderr",
          "text": [
            "Processing Batches: 100%|██████████| 1/1 [00:00<00:00,  1.77it/s]\n"
          ]
        },
        {
          "output_type": "stream",
          "name": "stdout",
          "text": [
            "[{'Jersey Mikes Mini Wheat Sub': 'ROLL MINI WHEAT SUB'}, {'Jersey Mikes Mini White Sub': 'ROLL MINI WHT SUB'}, {'Jersey Mikes Wheat Sub': 'ROLL WHEAT SUB'}, {'Jersey Mikes White Sub': 'ROLL WHITE SUB'}]\n",
            "223\n"
          ]
        },
        {
          "output_type": "stream",
          "name": "stderr",
          "text": [
            "Processing Batches: 100%|██████████| 1/1 [00:00<00:00,  1.12it/s]\n"
          ]
        },
        {
          "output_type": "stream",
          "name": "stdout",
          "text": [
            "[{'Large Kaiser Roll': 'DOUGH ROLL KAISER HARD'}, {'Jersey Mikes Mini Wheat Sub': 'ROLL MINI WHEAT SUB'}, {'Jersey Mikes Mini White Sub': 'ROLL MINI WHT SUB'}, {'Jersey Mikes Wheat Sub': 'ROLL WHEAT SUB'}, {'Jersey Mikes White Sub': 'ROLL WHITE SUB'}]\n",
            "224\n"
          ]
        },
        {
          "output_type": "stream",
          "name": "stderr",
          "text": [
            "Processing Batches: 100%|██████████| 1/1 [00:00<00:00,  1.83it/s]\n"
          ]
        },
        {
          "output_type": "stream",
          "name": "stdout",
          "text": [
            "[{'Jersey Mikes Mini Wheat Sub': 'ROLL MINI WHEAT SUB'}, {'Jersey Mikes Mini White Sub': 'ROLL MINI WHT SUB'}, {'Jersey Mikes Wheat Sub': 'ROLL WHEAT SUB'}, {'Jersey Mikes White Sub': 'ROLL WHITE SUB'}]\n",
            "225\n"
          ]
        },
        {
          "output_type": "stream",
          "name": "stderr",
          "text": [
            "Processing Batches: 100%|██████████| 1/1 [00:00<00:00,  5.60it/s]\n"
          ]
        },
        {
          "output_type": "stream",
          "name": "stdout",
          "text": [
            "[{'Large Italian Bread - CL': 'DOUGH BREAD ITALIAN'}, {'Jersey Mikes White Sub': 'ROLL WHITE SUB'}]\n",
            "226\n"
          ]
        },
        {
          "output_type": "stream",
          "name": "stderr",
          "text": [
            "Processing Batches: 100%|██████████| 1/1 [00:00<00:00,  2.96it/s]\n"
          ]
        },
        {
          "output_type": "stream",
          "name": "stdout",
          "text": [
            "[{'Jersey Mikes Mini White Sub': 'ROLL MINI WHT SUB'}, {'Jersey Mikes Wheat Sub': 'ROLL WHEAT SUB'}, {'Jersey Mikes White Sub': 'ROLL WHITE SUB'}]\n",
            "227\n"
          ]
        },
        {
          "output_type": "stream",
          "name": "stderr",
          "text": [
            "Processing Batches: 100%|██████████| 1/1 [00:00<00:00,  1.81it/s]\n"
          ]
        },
        {
          "output_type": "stream",
          "name": "stdout",
          "text": [
            "[{'PORK SHANK BRAISED CKD 563 4OZ': 'PORK SHANK OSSO BCCO CKD 20-24'}, {'BEEF TENDER TIPS NO SILVER FRZ R': 'STEAK FILET TIPS PREM FRZN'}, {'PORK GRND 80/20 FRZ 1/8 FINE': 'PORK GROUND 80\\\\20 1\\\\8 FINE'}]\n",
            "228\n"
          ]
        },
        {
          "output_type": "stream",
          "name": "stderr",
          "text": [
            "Processing Batches: 100%|██████████| 5/5 [00:18<00:00,  3.62s/it]\n"
          ]
        },
        {
          "output_type": "stream",
          "name": "stdout",
          "text": [
            "[{'BEEF RIBEYE LIPON CH 112A': 'BEEF RIBEYE LIPON CHOICE 112A'}, {'BEEF FOR STEW 98LN 1/4X1/4': 'BEEF STEW 1\\\\4 FRSH'}, {'BEEF STRIPLOIN 0X1 BLACK': 'BEEF STRIPLOIN 0X1 AMWAGYU BLK'}, {'BEEF TENDER PTR BCH': 'BEEF TENDER PSMO BCH PRF'}, {'BEEF TENDERLOIN 190 SILVER': 'BEEF TENDERLOIN KOBE SLV 190'}, {'PORK CHOP CC LOIN WMF 14OZ': 'PORK CHOP B/I CC LOIN'}, {'STK CHUCK FLAT IRON CH 4OZ': 'STEAK CHUCK FLAT IRON CH'}, {'STK CHUCK FLAT IRON CH': 'STEAK CHUCK FLAT IRON CH'}, {'STK TENDER FILET CC CH': 'STEAK FILET C\\\\C CH BULK'}, {'CH STEAK FILET EE NORD': 'STEAK FILET E\\\\E CH NDSTM'}, {'STK RIBEYE 1TL B-IN CH 14OZ': 'STEAK RIBEYE B\\\\I 1TL CH'}, {'STEAK CULOTTE CAP PRIME 10OZ': 'STEAK SIRL CAP PR'}, {'STK STRIP CC 1TL ST-OFF CH': 'STEAK STRIP C\\\\C 1TL BSO CH'}, {'VEAL EYE RND MEDALLION': 'VEAL EYE RND MEDALLION BBRG'}, {'STK TENDER FILET CC BCH PRF': 'STEAK FILET C\\\\C BCH PRF'}, {'PRM CHUCK SHLDR PUBRANCH': 'STEAK CHUCK SHLDR PUB\\\\RANCH PR'}, {'BEEF FRANK WAGYU 5-1 RETAIL': 'FRANK BEEF AMKOBE 5X1 RETAIL'}]\n",
            "229\n"
          ]
        },
        {
          "output_type": "stream",
          "name": "stderr",
          "text": [
            "Processing Batches: 100%|██████████| 1/1 [00:01<00:00,  1.72s/it]\n"
          ]
        },
        {
          "output_type": "stream",
          "name": "stdout",
          "text": [
            "[{'HC Plus Orange Juice Cups 96/4oz': 'JUICE ORANGE STABLE'}, {'HC Plus Grape Juice Cups 96/4oz': 'JUICE GRAPE SHELF STABLE'}, {'HC Plus Apple Juice Cups 96/4oz': 'JUICE APPLE SHELF STABLE'}, {'HC Plus 15% Cranberry Juice Cups 96/4oz': 'JUICE CRANBERRY 15% SS CUP'}, {'HC Plus Prune Juice Cups 96/4oz': 'JUICE PRUNE 100% SHELF STABLE'}]\n",
            "230\n"
          ]
        },
        {
          "output_type": "stream",
          "name": "stderr",
          "text": [
            "Processing Batches: 100%|██████████| 1/1 [00:00<00:00,  1.39it/s]\n"
          ]
        },
        {
          "output_type": "stream",
          "name": "stdout",
          "text": [
            "[{'HC Plus Orange Juice Cups 96/4oz': 'JUICE ORANGE STABLE'}, {'HC Plus Apple Juice Cups 96/4oz': 'JUICE APPLE SHELF STABLE'}, {'HC Plus 15% Cranberry Juice Cups 96/4oz': 'JUICE CRANBERRY 15% SS CUP'}]\n",
            "231\n"
          ]
        },
        {
          "output_type": "stream",
          "name": "stderr",
          "text": [
            "Processing Batches: 100%|██████████| 1/1 [00:04<00:00,  4.22s/it]\n"
          ]
        },
        {
          "output_type": "stream",
          "name": "stdout",
          "text": [
            "[{'HC Plus Diet Cranberry Juice Cups 96/4oz': 'JUICE CRANBERRY DIET'}, {'HC Plus Orange Juice Cups 96/4oz': 'JUICE ORANGE STABLE'}, {'AB Prune Juice Aseptic Liters 12/32 oz': 'JUICE PRUNE SHELF STABLE'}, {'AB Orange Juice Aseptic Liters 12/32 oz': 'JUICE ORANGE ASEPTIC'}, {'HC Plus Apple Juice Cups 96/4oz': 'JUICE APPLE SHELF STABLE'}, {'AB Apple Juice Aseptic Liters 12/32 oz': 'JUICE APPLE ASEPTIC'}, {'HC Plus 15% Cranberry Juice Cups 96/4oz': 'JUICE CRANBERRY 15% SS CUP'}, {'HC Plus Prune Juice Cups 96/4oz': 'JUICE PRUNE 100% SHELF STABLE'}]\n",
            "232\n"
          ]
        },
        {
          "output_type": "stream",
          "name": "stderr",
          "text": [
            "Processing Batches: 100%|██████████| 1/1 [00:01<00:00,  1.18s/it]\n"
          ]
        },
        {
          "output_type": "stream",
          "name": "stdout",
          "text": [
            "[{'HC Plus Orange Juice Cups 96/4oz': 'JUICE ORANGE STABLE'}, {'HC Plus Grape Juice Cups 96/4oz': 'JUICE GRAPE SHELF STABLE'}, {'HC Plus Apple Juice Cups 96/4oz': 'JUICE APPLE SHELF STABLE'}, {'HC Plus 15% Cranberry Juice Cups 96/4oz': 'JUICE CRANBERRY 15% SS CUP'}, {'HC Plus Prune Juice Cups 96/4oz': 'JUICE PRUNE 100% SHELF STABLE'}]\n",
            "233\n"
          ]
        },
        {
          "output_type": "stream",
          "name": "stderr",
          "text": [
            "Processing Batches: 100%|██████████| 1/1 [00:01<00:00,  1.40s/it]\n"
          ]
        },
        {
          "output_type": "stream",
          "name": "stdout",
          "text": [
            "[{'HAM CKD WHL W/A11-13 FRSH': 'HAM CKD WHL W/A 11-13 FRSH'}, {'HAM BNLS BLKFOREST D WA': 'HAM BNLS BLK FOREST D WA 95%'}, {'HAM PROSCUITTINIWHL W/A FRSH': 'HAM PROSCUITTINI WHL W/A FRSH'}, {'SAUSAGE PORK PATTYCKD MILD CN': 'SAUSAGE PORK PATTY CKD MILD CN'}, {'HAM PIT BNLS CKD': 'HAM PIT BNLS CKD'}]\n",
            "234\n"
          ]
        },
        {
          "output_type": "stream",
          "name": "stderr",
          "text": [
            "Processing Batches: 100%|██████████| 1/1 [00:03<00:00,  3.39s/it]\n"
          ]
        },
        {
          "output_type": "stream",
          "name": "stdout",
          "text": [
            "[{'Pork Ground Raw': 'PORK GROUND RAW'}, {'Pork Shank Osso Bucco': 'PORK SHANK OSSO BUCCO 3IN GAP'}, {'Pork Belly Skin Off': 'PORK BELLY S/O'}, {'Pork Loin Rack 11 Rib Chine-Off': 'PORK LOIN RACK  11RIB CHN-OFF'}, {'Pork Loin Boneless Center Cut': 'PORK LOIN BNLS CC'}, {'Pork Butt Bone In Boxed 1x4 Inch': 'PORK BUTT BI BXD 1X4'}, {'Pork Butt Boneless 1x4': 'PORK BUTT BNLS 1X4 GAP'}, {'Pork Jowl Guanciale': 'PORK JOWL SKLS'}]\n",
            "235\n"
          ]
        },
        {
          "output_type": "stream",
          "name": "stderr",
          "text": [
            "Processing Batches: 100%|██████████| 1/1 [00:02<00:00,  2.99s/it]\n"
          ]
        },
        {
          "output_type": "stream",
          "name": "stdout",
          "text": [
            "[{'Pork Ground Raw': 'PORK GROUND RAW'}, {'Pork Shank Osso Bucco': 'PORK SHANK OSSO BUCCO 3IN GAP'}, {'Pork Belly Skin Off': 'PORK BELLY S/O'}, {'Pork Loin Rack 11 Rib Chine-Off': 'PORK LOIN RACK  11RIB CHN-OFF'}, {'Pork Loin Boneless Center Cut': 'PORK LOIN BNLS CC'}, {'Pork Butt Bone In Boxed 1x4 Inch': 'PORK BUTT BI BXD 1X4'}, {'Pork Butt Boneless 1x4': 'PORK BUTT BNLS 1X4 GAP'}, {'Pork Rib St Louis Competition': 'PORK RIB ST LOUIS COMPETITION'}]\n",
            "236\n"
          ]
        },
        {
          "output_type": "stream",
          "name": "stderr",
          "text": [
            "Processing Batches: 100%|██████████| 2/2 [00:05<00:00,  2.70s/it]\n"
          ]
        },
        {
          "output_type": "stream",
          "name": "stdout",
          "text": [
            "[{'Pork Ground Raw': 'PORK GROUND RAW'}, {'Pork Shank Osso Bucco': 'PORK SHANK OSSO BUCCO 3IN GAP'}, {'Pork Belly Skin Off': 'PORK BELLY S/O'}, {'Pork Loin Rack 11 Rib Chine-Off': 'PORK LOIN RACK  11RIB CHN-OFF'}, {'Pork Loin Boneless Center Cut': 'PORK LOIN BNLS CC'}, {'Pork Butt Bone In Boxed 1x4 Inch': 'PORK BUTT BI BXD 1X4'}, {'Pork Butt Boneless 1x4': 'PORK BUTT BNLS 1X4 GAP'}, {'Pork Rib St Louis Competition': 'PORK RIB ST LOUIS COMPETITION'}, {'Pork Jowl Guanciale': 'PORK JOWL SKLS'}]\n",
            "237\n"
          ]
        },
        {
          "output_type": "stream",
          "name": "stderr",
          "text": [
            "Processing Batches: 100%|██████████| 1/1 [00:01<00:00,  1.91s/it]\n"
          ]
        },
        {
          "output_type": "stream",
          "name": "stdout",
          "text": [
            "[{'BRANZINO BFLY 8-10': 'BASS SEA BFLY BRANZINO 8-10 OZ'}, {'SALMON ATL FLT 3-4#S/ON': 'SALMON ATL FIL D-TRIM 3-4# CHL'}, {'SALMON ATL FLT 3-4#S/L': 'SALMON ATL FIL E-TRIM 3-4# CHL'}, {'SALMON ATL PRTN 8OZ': 'SALMON ATL PRTN 8 OZ FRESH'}, {'SALMON ATL FIL SK-ON': 'SALMON FIL FAROE ISLD 3-4'}]\n",
            "238\n"
          ]
        },
        {
          "output_type": "stream",
          "name": "stderr",
          "text": [
            "Processing Batches: 100%|██████████| 1/1 [00:00<00:00,  2.33it/s]\n"
          ]
        },
        {
          "output_type": "stream",
          "name": "stdout",
          "text": [
            "[{'CANDY SOUR PUNCH': 'CANDY SOUR PUNCH STRAWBERRY'}, {'BEEF JERKY ORIG': 'BEEF JERKY ORIG'}, {'DRINK CHERRY WILD': 'DRINK CHERRY WILD'}]\n",
            "239\n"
          ]
        },
        {
          "output_type": "stream",
          "name": "stderr",
          "text": [
            "Processing Batches: 100%|██████████| 11/11 [00:38<00:00,  3.48s/it]\n"
          ]
        },
        {
          "output_type": "stream",
          "name": "stdout",
          "text": [
            "[{'SARALEECHEESECAKE FRCH CRM WHL 10': 'CHEESECAKE FRCH CRM WHL 10 IN'}, {'CHFPIERDANISH ASST ELITE': 'DANISH ASST ELITE'}, {'24325OZCHFPIERDANISH ASST IW': 'DANISH ASST IW'}, {'CHFPIERDANISH ASST MINI 125 OZ': 'DANISH ASST MINI 1.25 OZ'}, {'CHFPIERDANISH CHEESE BFLY 475OZ': 'DANISH CHEESE BFLY 4.75OZ'}, {'CHFPIERPIE APPLE DUTCH PRE-SLICED': 'PIE APPLE DUTCH PRE-SLICED'}, {'SYS CLSPIE APPLE DUTCH RTB 10': 'PIE APPLE DUTCH RTB 10'}, {'CHFPIERPIE APPLE HI-PIE RTB 10 IN': 'PIE APPLE HI-PIE RTB 10 IN'}, {'SYS CLSPIE APPLE LATTC T&S 10': 'PIE APPLE LATTC T&S 10'}, {'CHFPIERPIE APPLE LATTC PBKD 38 OZ': 'PIE APPLE LATTC PBKD 38 OZ'}, {'SYS IMPPIE APPLE OLD FSHN RTB 10': 'PIE APPLE OLD FSHN RTB 10'}, {'SYS CLSPIE BANANA CRM T&S 10': 'PIE BANANA CRM T&S 10'}, {'CHFPIERPIE CHOC CRM NSA 10': 'PIE CHOC CRM NSA 10'}, {'SYS CLSPIE CHOC CRM T&S 10': 'PIE CHOC CRM T&S 10'}, {'CHFPIERPIE COCONUT CREAM 10': 'PIE COCONUT CREAM 10'}, {'SYS CLSPIE COCONUT CRM T&S 10 IN': 'PIE COCONUT CRM T&S 10 IN'}, {'CHFPIERPIE COOKIE & CRM': 'PIE COOKIE & CRM'}, {'SYS IMPPIE COOKIE & CRM T&S 10 IN': 'PIE COOKIE & CRM T&S 10 IN'}, {'OZBISTROCPIE KEY LIME INDIV BSTRO': 'PIE KEY LIME INDIV BSTRO'}, {'SYS CLSPIE KEY WEST LIME COND': 'PIE KEY WEST LIME COND UNTOPPE'}, {'CHFPIERPIE LEMON MERNGE PRESLI 10': 'PIE LEMON MERNGE PRESLI 10'}, {'SYS CLSPIE PEACH RTB 10': 'PIE PEACH RTB 10'}, {'SYS CLSPIE SHELL RTB 10IN VEG': 'PIE SHELL RTB 10IN VEG'}, {'SYS CLSPIE SWEET POTATO T&S 10': 'PIE SWEET POTATO T&S 10'}, {'CHFPIERPIE SHELL RTB 10IN VEG': 'PIE SHELL RTB 10IN VEG'}, {'SYS IMPPIE FRENCH SILK T&S 10': 'PIE FRENCH SILK T&S 10'}]\n",
            "240\n"
          ]
        },
        {
          "output_type": "stream",
          "name": "stderr",
          "text": [
            "Processing Batches: 100%|██████████| 2/2 [00:03<00:00,  1.72s/it]\n"
          ]
        },
        {
          "output_type": "stream",
          "name": "stdout",
          "text": [
            "[{'SALMN FILET PRTN CENTER CUT': 'SALMON PRTN C\\\\C'}, {'SALMON FILET PRTN CENTR CUT': 'SALMON PRTN C\\\\C'}, {'SALMON HEADS WHOLE': 'SALMON WHL HEADS'}, {'HALIBUT FILET SKIN ON': 'HALIBUT FILET SKIN ON'}, {'SALMON PRTN DTRM SUPERIOR': 'SALMON ATL FIL DTRIM WISC'}, {'SALMON SIDE ORIG SMOKED': 'SALMON SIDE ORIG SMK'}, {'BASS SEA BRANZINO SPLT FIL FRZ': 'BASS SEA BRANZINO SPLIT FILLET'}, {'SALMON PORTION REG 7OZ': 'SALMON PORTION STR CUT 7OZ'}, {'SALMON FILET PRTN SK-OFF': 'SALMON PRTN SKIN OFF'}]\n",
            "241\n"
          ]
        },
        {
          "output_type": "stream",
          "name": "stderr",
          "text": [
            "Processing Batches: 100%|██████████| 1/1 [00:00<00:00,  3.86it/s]\n"
          ]
        },
        {
          "output_type": "stream",
          "name": "stdout",
          "text": [
            "[{'OATMEAL INSTANTBLUBERRY HZL': 'OATMEAL INSTANT BLUBERRY HZL'}, {'CRACKER WHEAT THIN': 'CRACKER WHEAT THIN'}]\n",
            "242\n"
          ]
        },
        {
          "output_type": "stream",
          "name": "stderr",
          "text": [
            "Processing Batches: 100%|██████████| 28/28 [01:48<00:00,  3.88s/it]\n"
          ]
        },
        {
          "output_type": "stream",
          "name": "stdout",
          "text": [
            "[{'BEEF RIBEYE SLICE 14MM FRZ': 'BEEF RIBEYE SLI 1.4MM FRZN'}, {'CAB BEEF SHORT RIB PLATE 123A': 'BEEF SHORT RIB PLATE 123A'}, {'BEEFSHORT RIB 3-BONE X-LN CH 16OZ': 'BEEF SHORT RIB 3BN XLNCH'}, {'BEEF TENDERLOIN PISMO 6UP CH': 'BEEF TENDER PSMO CH'}, {'STK TENDERLOIN CH-OFF PTR HVY Y CH': 'BEEF TENDER WHL SKND HVY CH'}, {'HOG CASINGS MEDIUM 1 HANK': 'CASING SAUSAGE HOG MED'}, {'PORK CHOP FRNCH SNG-BN 1TL 0OZ': 'PORK CHOP B\\\\I C\\\\C FRCHD'}, {'PORK CHOP CC LOIN 4OZ': 'PORK CHOP B\\\\I C\\\\C LOIN'}, {'PORK CHOP CC RIB FTE NO TAIL 2Z': 'PORK CHOP B\\\\I C\\\\C LOLLIPOP'}, {'PORK HIND SHANK B[N SAKURA': 'PORK SHANK HIND BONE IN'}, {'CAB STK CHUCK FLAT IRON 7OZ': 'STEAK CHUCK FLAT IRON'}, {'CAB STK CHUCK PUB FAT-OFF 6Z': 'STEAK CHUCK SHLDR PUB SKND TMG'}, {'CAB STEAK FILET CC IAP V': 'STEAK FILET C\\\\C IAP'}, {'CAB STEAK F]LET EE NDSTRM': 'STEAK FILET E\\\\E NDSTM'}, {'BEEF HANGING TENDER PLD CH 6Z': 'STEAK HANGER TENDER'}, {'CAB STEAK RIBEYE BNLS 1TL Z': 'STEAK RIBEYE BNLS 1TL'}, {'STK RIBEYE BNLS 1TL CH 12OZ': 'STEAK RIBEYE BNLS 1TL CH'}, {'CAB SKIRT OUTSDE IAP 6OZ': 'STEAK SKIRT OUTSDE IAP'}, {'CAB STEAK SKIRT OUTSIDE NORD': 'STEAK SKIRT OUTSDE NDSTM'}, {'STK STRIP CC 1TL ST-OFF CH 10OZ': 'STEAK STRIP C\\\\C 1TL BSO CH'}, {'STRIP E-E 1TL ST-ON BCH PRF 10OZ': 'STEAK STRIP E\\\\E 1TL BCH PRF'}, {'CAB STK COWBOY SPLIT BONE 16 Z': 'STEAK RIBEYE SPLTBN FRNCH'}, {'STK STRIP CC 1TL ST-ON CH 6OZ OZ': 'STEAK STRIP C\\\\C 1TL CH'}, {'BEEF SHORT RIB 3BN 38 GWSA': 'BEEF SHORT RIB 3BN 3\\\\8 GWSA CH'}, {'PORK R[B CHOP FRNCH FRZ 4OZ': 'PORK RIB CHOP FRNCH'}, {'CAB BEEF RIBEYE CAP WHOLE': 'STEAK RIBEYE CAP WHL'}, {'CAB STK BALL TIP NO-FAT BFLY 6OZ': 'STEAK SIRL BALLTIP BFLY SKND'}, {'BEEF TENDER PTR BCH PRF 2PC G': 'BEEF TENDER PSMO BCH PRF'}, {'PORK CHOP CC LOIN 14OZ': 'PORK CHOP B\\\\I C\\\\C LOIN'}, {'CABDRYAGERIBEYEBIN 1TLZ': 'STEAK RIBEYE B\\\\I 1TL D\\\\A'}, {'STK TENDER FILET CC BCH PRF BV': 'STEAK FILET C\\\\C BCH PRF BULK'}, {'CAB STK TOPBUTTBSBALL 5ZV16Z': 'STEAK SIRL BSBALL SKND BULK'}, {'STK STRIP CC 1/2TL ST-OFF CH 12Z': 'STEAK STRIP C\\\\C 1\\\\2TL BSO CH'}, {'BEEF CHUCK SHORT RIB BNLS SQR': 'BEEF SHORT RIB BNLS SQUARE CUT'}, {'PORK CHOP B/IN LNGBN FRNCHED': 'PORK CHOP B\\\\I LONGBN FRCHD'}, {'RIBEYE 0TL BNLS 6OZ BCH PRF': 'STEAK RIBEYE BNLS 0 TL BCH PRF'}, {'CAB STK BALL TIP NO-FAT 10OZ': 'STEAK SIRL BALLTIP SKND'}, {'CAB STK TOP BUTT U3 FAT-OFF 8OZ': 'STEAK SIRL TOP 2\\\\3CUT SKND'}, {'PORK CHOP B/IN LNGBN FRN DUROC': 'PORK CHOP LNGBN FRCHD DUROC'}, {'RIBEYE BNLS 1TL BCH PRF INE': 'STEAK RIBEYE BNLS 1TL BCH PRF'}, {'BEEF FOR TACO MEAT DICED 1/4 H': 'BEEF FOR TACO MEAT DICED 1/4IN'}, {'PORK HIND SHANK BIN SAKURA': 'PORK SHANK HIND BONE IN'}]\n",
            "243\n"
          ]
        },
        {
          "output_type": "stream",
          "name": "stderr",
          "text": [
            "Processing Batches: 100%|██████████| 4/4 [00:14<00:00,  3.56s/it]\n"
          ]
        },
        {
          "output_type": "stream",
          "name": "stdout",
          "text": [
            "[{'CORN 4-CUT WHITE THIN PRE-CUT': 'CHIP TORTILLA REG THIN 4'}, {'CORN 4-CUT YLW THIN PRE-CUT': 'CHIP TORTILLA 4 CUT YEL THI'}, {'CORN 6-CUT TRI COLOR PRE-CUT': 'TORTILLA CORN TRI COLR RAW 6C'}, {'CORN 45IN WHITE TAQUITO TORTILLA': 'TORTILLA CORN WHT 4.5IN'}, {'CORN 6IN WHITE MESA TORTILLA': 'TORTILLA CORN WHT 6 MESA'}, {'CORN 6IN YLW THICK TORTILLA': 'TORTILLA CORN YEL THICK 6IN'}, {'CORN 6IN YLW THIN TORTILLA': 'TORTILLA CORN YEL THIN 6IN'}, {'CORN 5IN WHITE TAQUERIA TORTILLA': 'TORTILLA CORN 5IN'}, {'CORN 6IN WHITE GRUESA TORTILLA': 'TORTILLA CORN 6IN THICK GRUESA'}, {'FLOUR 12IN CHILE TOMATO TORTILLA': 'TORTILLA FLOUR CHILE TOMAT12IN'}, {'FLOUR 12IN CHIPOTLE TORTILLA': 'TORTILLA FLOUR CHIPOTLE 12IN'}, {'FLOUR 6IN TORTILLA': 'TORTILLA FLOUR PRESS 6IN'}, {'FLOUR 8IN TORTILLA': 'TORTILLA FLOUR PRESS 8IN'}, {'FLOUR 12IN SPINACH TORTILLA': 'TORTILLA FLOUR SPINACH 12'}, {'FLOUR 14IN SPINACH TORTILLA': 'TORTILLA FLOUR SPINACH 14'}]\n",
            "244\n"
          ]
        },
        {
          "output_type": "stream",
          "name": "stderr",
          "text": [
            "Processing Batches: 100%|██████████| 1/1 [00:01<00:00,  1.10s/it]\n"
          ]
        },
        {
          "output_type": "stream",
          "name": "stdout",
          "text": [
            "[{'PAPA MURPHY 12 PIZZA TRAY (250/CS - 6750/PAL)': 'TRAY PAPER OVNBLE BRD LG'}, {'PAPA MURPHY 14 PIZZA TRAY (250/CS - 6750/PAL)': 'TRAY PAPER OVENABLE BRD FAM SZ'}, {'PAPA MURPHY 1625 PIZZA TRAY (250/CS - 4500/PAL)': 'TRAY PAPER OVENABLE MED'}]\n",
            "245\n"
          ]
        },
        {
          "output_type": "stream",
          "name": "stderr",
          "text": [
            "Processing Batches: 100%|██████████| 1/1 [00:00<00:00,  2.04it/s]\n"
          ]
        },
        {
          "output_type": "stream",
          "name": "stdout",
          "text": [
            "[{'Red Corned Beef Brisket W/P': 'BEEF CORNED BRSKT RAW RED WP'}, {'CKD IN BAG TURKEY BREAST*SINGLE LOBE*SKINLESS': 'TURKEY BRST CKD SOUS VIDE'}]\n",
            "246\n"
          ]
        },
        {
          "output_type": "stream",
          "name": "stderr",
          "text": [
            "Processing Batches: 100%|██████████| 1/1 [00:00<00:00,  2.18it/s]\n"
          ]
        },
        {
          "output_type": "stream",
          "name": "stdout",
          "text": [
            "[{'SALMON SKUNAGOLD RIVER FILLET': 'SALMON FIL FRSH 3/4 SKUNA BAY'}, {'PEI MUSSELS 10# BAG': 'MUSSEL FRESH BLK PEI'}]\n",
            "247\n"
          ]
        },
        {
          "output_type": "stream",
          "name": "stderr",
          "text": [
            "Processing Batches: 100%|██████████| 1/1 [00:00<00:00,  1.09it/s]\n"
          ]
        },
        {
          "output_type": "stream",
          "name": "stdout",
          "text": [
            "[{'DDF DIY BROOKIE COOKIE 1-52': 'DOUGH COOKIE BROOKIE'}, {'DDF DIY COOKIES N CREME 1-52': 'COOKIE COOKIE N CREAM'}, {'DDF DIY SUGAR COOKIE BASE 1-52': 'COOKIE SUGAR'}, {'IVN JDM TEMPURA BATTERED C 6-2': 'ENTREE CHKN BRST TEMPURA CKD'}]\n",
            "248\n"
          ]
        },
        {
          "output_type": "stream",
          "name": "stderr",
          "text": [
            "Processing Batches: 100%|██████████| 1/1 [00:00<00:00,  4.86it/s]\n"
          ]
        },
        {
          "output_type": "stream",
          "name": "stdout",
          "text": [
            "[{'DWP9180': 'PLATE PLASTIC CLR 9 DESGNWARE'}, {'DWP6180': 'PLATE PLAS CLR 6 RDG DESIGN'}]\n",
            "249\n"
          ]
        },
        {
          "output_type": "stream",
          "name": "stderr",
          "text": [
            "Processing Batches: 100%|██████████| 1/1 [00:00<00:00,  1.62it/s]\n"
          ]
        },
        {
          "output_type": "stream",
          "name": "stdout",
          "text": [
            "[{'Jersey Mikes Mini Wheat Sub': 'ROLL MINI WHEAT SUB'}, {'Jersey Mikes Sub': 'ROLL MINI WHT SUB'}, {'Jersey Mikes Wheat Sub': 'ROLL WHEAT SUB'}, {'Jersey Mikes White Sub': 'ROLL WHITE SUB'}]\n",
            "250\n"
          ]
        },
        {
          "output_type": "stream",
          "name": "stderr",
          "text": [
            "Processing Batches: 100%|██████████| 1/1 [00:00<00:00,  1.21it/s]\n"
          ]
        },
        {
          "output_type": "stream",
          "name": "stdout",
          "text": [
            "[{'Large Italian Bread - CL': 'DOUGH BREAD ITALIAN'}, {'Jersey Mikes Mini Wheat Sub': 'ROLL MINI WHEAT SUB'}, {'Jersey Mikes Mini White Sub': 'ROLL MINI WHT SUB'}, {'Jersey Mikes Wheat Sub': 'ROLL WHEAT SUB'}, {'Jersey Mikes White Sub': 'ROLL WHITE SUB'}]\n",
            "251\n"
          ]
        },
        {
          "output_type": "stream",
          "name": "stderr",
          "text": [
            "Processing Batches: 100%|██████████| 1/1 [00:00<00:00,  4.53it/s]\n"
          ]
        },
        {
          "output_type": "stream",
          "name": "stdout",
          "text": [
            "[{'VENISON CHILI SEASONING': 'SEASONING CHILI VENISON'}, {'RANCH DRESSING MIX': 'SEASONING RANCH DRSSNG'}]\n",
            "252\n"
          ]
        },
        {
          "output_type": "stream",
          "name": "stderr",
          "text": [
            "Processing Batches: 100%|██████████| 1/1 [00:00<00:00,  3.77it/s]\n"
          ]
        },
        {
          "output_type": "stream",
          "name": "stdout",
          "text": [
            "[{'COD - FILLET 12/24 oz ICELANDIC Wild': 'COD FIL MKT FRESH'}, {'SALMON - FILLET 3-4 FAROE ISLAND': 'SALMON FIL FAROE ISLD 3-4'}]\n",
            "253\n"
          ]
        },
        {
          "output_type": "stream",
          "name": "stderr",
          "text": [
            "Processing Batches: 100%|██████████| 1/1 [00:02<00:00,  2.86s/it]\n"
          ]
        },
        {
          "output_type": "stream",
          "name": "stdout",
          "text": [
            "[{'HC Plus Diet Cranberry Juice Cups 96/4oz': 'JUICE CRANBERRY DIET'}, {'HC Plus Orange Juice Cups 96/4oz': 'JUICE ORANGE STABLE'}, {'AB Prune Juice Aseptic Liters 12/32 oz': 'JUICE PRUNE SHELF STABLE'}, {'AB Orange Juice Aseptic Liters 12/32 oz': 'JUICE ORANGE ASEPTIC'}, {'AB Cranberry Juice Aseptic Liters 12/32 oz': 'JUICE CRANBERRY ASEPTIC'}, {'AB Apple Juice Aseptic Liters 12/32 oz': 'JUICE APPLE ASEPTIC'}, {'HC Plus 15% Cranberry Juice Cups 96/4oz': 'JUICE CRANBERRY 15% SS CUP'}, {'HC Plus Prune Juice Cups 96/4oz': 'JUICE PRUNE 100% SHELF STABLE'}]\n",
            "254\n"
          ]
        },
        {
          "output_type": "stream",
          "name": "stderr",
          "text": [
            "Processing Batches: 100%|██████████| 1/1 [00:00<00:00,  2.22it/s]\n"
          ]
        },
        {
          "output_type": "stream",
          "name": "stdout",
          "text": [
            "[{'HC Plus Orange Juice Cups 96/4oz': 'JUICE ORANGE STABLE'}, {'HC Plus Apple Juice Cups 96/4oz': 'JUICE APPLE SHELF STABLE'}, {'HC Plus 15% Cranberry Juice Cups 96/4oz': 'JUICE CRANBERRY 15% SS CUP'}]\n",
            "255\n"
          ]
        },
        {
          "output_type": "stream",
          "name": "stderr",
          "text": [
            "Processing Batches: 100%|██████████| 1/1 [00:00<00:00,  1.22it/s]\n"
          ]
        },
        {
          "output_type": "stream",
          "name": "stdout",
          "text": [
            "[{'HC Plus Orange Juice Cups 96/4oz': 'JUICE ORANGE STABLE'}, {'HC Plus Grape Juice Cups 96/4oz': 'JUICE GRAPE SHELF STABLE'}, {'HC Plus Apple Juice Cups 96/4oz': 'JUICE APPLE SHELF STABLE'}, {'HC Plus 15% Cranberry Juice Cups 96/4oz': 'JUICE CRANBERRY 15% SS CUP'}]\n",
            "256\n"
          ]
        },
        {
          "output_type": "stream",
          "name": "stderr",
          "text": [
            "Processing Batches: 100%|██████████| 1/1 [00:01<00:00,  1.24s/it]\n"
          ]
        },
        {
          "output_type": "stream",
          "name": "stdout",
          "text": [
            "[{'PF MARKET COD FILLET - WILD CAUGHT': 'COD FIL REFRESHED 12OZ-UP'}, {'COD - FILLET SCROD ICELANDIC Wild': 'COD SCROD FILET SKINLESS FRESH'}, {'25 LB PLASTIC BASE + LIDS': 'CONTAINER FOOD FISH TUBS'}, {'HADDOCK - FILLET SCROD SKINLESS Wild': 'HADDOCK FILET SKINLESS FRESH'}, {'HADDOCK - FILLET SCROD SKIN ON Wild': 'HADDOCK FILET SKIN-ON FRESH'}]\n",
            "257\n"
          ]
        },
        {
          "output_type": "stream",
          "name": "stderr",
          "text": [
            "Processing Batches: 100%|██████████| 1/1 [00:00<00:00,  1.87it/s]\n"
          ]
        },
        {
          "output_type": "stream",
          "name": "stdout",
          "text": [
            "[{'HADDOCK - FILLET 10/12 oz SKIN ON Wild': 'HADDOCK FIL SK-ON 10-12Z FRESH'}, {'HADDOCK - FILLET 10/12 oz SKIN ON Wild': 'HADDOCK FIL SK-ON 10-12Z FRESH'}, {'HADDOCK - PF FILLET 8/10 oz SKIN ON': 'HADDOCK FIL SK-ON 8-10OZ PF'}]\n",
            "258\n"
          ]
        },
        {
          "output_type": "stream",
          "name": "stderr",
          "text": [
            "Processing Batches: 100%|██████████| 1/1 [00:00<00:00,  1.20it/s]\n"
          ]
        },
        {
          "output_type": "stream",
          "name": "stdout",
          "text": [
            "[{'NOODLE CHICKEN TOPRAMEN': 'NOODLE CHICKEN TOP RAMEN'}, {'SUGAR SUB PKT': 'SUGAR SUB PKT'}, {'CANDY SKITTLEMASHUPS 9 OZ': 'CANDY SKITTLE MASHUPS 9 OZ'}, {'CANDY SOUR PUNCHSTRAWBERRY': 'CANDY SOUR PUNCH STRAWBERRY'}]\n",
            "259\n"
          ]
        },
        {
          "output_type": "stream",
          "name": "stderr",
          "text": [
            "Processing Batches: 100%|██████████| 1/1 [00:00<00:00,  2.80it/s]\n"
          ]
        },
        {
          "output_type": "stream",
          "name": "stdout",
          "text": [
            "[{'COOKED CORNED BRISKET (25#)': 'BEEF CORNED BRSKT CKD'}, {'PASTRAMI NAVELS (#25)': 'BEEF PASTRAMI NAVEL BLK 10'}]\n",
            "260\n"
          ]
        },
        {
          "output_type": "stream",
          "name": "stderr",
          "text": [
            "Processing Batches: 100%|██████████| 1/1 [00:00<00:00,  1.02it/s]\n"
          ]
        },
        {
          "output_type": "stream",
          "name": "stdout",
          "text": [
            "[{'SYSCO #1 CAN OPENER NO BASE 3916418': 'OPENER CAN #1 WITHOUT BASE'}, {'#4409 HD TONG BULK (72)': 'TONG HINGED S-S HVY DTY#4409HD'}, {'KIT #1 REPLACEMENT PARTS (PACK OF 6)': 'KIT FOR #1 RPLCMT PARTS'}]\n",
            "261\n"
          ]
        },
        {
          "output_type": "stream",
          "name": "stderr",
          "text": [
            "Processing Batches: 100%|██████████| 1/1 [00:00<00:00,  3.07it/s]\n"
          ]
        },
        {
          "output_type": "stream",
          "name": "stdout",
          "text": [
            "[{'11 CPK PIZZA BOX TILE': 'BOX PIZZA 11IN DP CPK TILE'}, {'8 CPK PIZZA BOX TILE': 'BOX PIZZA 8IN CPK TILE'}]\n",
            "262\n"
          ]
        },
        {
          "output_type": "stream",
          "name": "stderr",
          "text": [
            "Processing Batches: 100%|██████████| 1/1 [00:00<00:00,  1.24it/s]\n"
          ]
        },
        {
          "output_type": "stream",
          "name": "stdout",
          "text": [
            "[{'13 CPK PIZZA BOX TILE TAKE AND BAKE': 'BOX PIZZA 13IN DP CPK TAKE/BKE'}, {'13 CPK PIZZA BOX TILE': 'BOX PIZZA 13IN DP CPK TILE'}, {'8 CPK PIZZA BOX TILE': 'BOX PIZZA 8IN CPK TILE'}]\n",
            "263\n"
          ]
        },
        {
          "output_type": "stream",
          "name": "stderr",
          "text": [
            "Processing Batches: 100%|██████████| 1/1 [00:00<00:00,  1.36it/s]\n"
          ]
        },
        {
          "output_type": "stream",
          "name": "stdout",
          "text": [
            "[{'HC Plus Orange Juice Cups 96/4oz': 'JUICE ORANGE STABLE'}, {'HC Plus Apple Juice Cups 96/4oz': 'JUICE APPLE SHELF STABLE'}, {'HC Plus 15% Cranberry Juice Cups 96/4oz': 'JUICE CRANBERRY 15% SS CUP'}]\n",
            "264\n"
          ]
        },
        {
          "output_type": "stream",
          "name": "stderr",
          "text": [
            "Processing Batches: 100%|██████████| 1/1 [00:03<00:00,  3.27s/it]\n"
          ]
        },
        {
          "output_type": "stream",
          "name": "stdout",
          "text": [
            "[{'AB Apple Juice Aseptic Liters 12/32 oz': 'JUICE APPLE ASEPTIC'}, {'HC Plus Apple Juice Cups 96/4oz': 'JUICE APPLE SHELF STABLE'}, {'AB Cranberry Juice Aseptic Liters 12/32 oz': 'JUICE CRANBERRY ASEPTIC'}, {'HC Plus 15% Cranberry Juice Cups 96/4oz': 'JUICE CRANBERRY 15% SS CUP'}, {'HC Plus Grape Juice Cups 96/4oz': 'JUICE GRAPE SHELF STABLE'}, {'AB Orange Juice Aseptic Liters 12/32 oz': 'JUICE ORANGE ASEPTIC'}, {'HC Plus Orange Juice Cups 96/4oz': 'JUICE ORANGE STABLE'}]\n",
            "265\n"
          ]
        },
        {
          "output_type": "stream",
          "name": "stderr",
          "text": [
            "Processing Batches: 100%|██████████| 1/1 [00:00<00:00,  1.66it/s]\n"
          ]
        },
        {
          "output_type": "stream",
          "name": "stdout",
          "text": [
            "[{'Pork Butt Steak-3/4': 'PORK BUTT STK 3/4 THICK'}, {'Pork Chop-CC B/I Frenched 2 Bone': 'PORK CHOP BI CC 2BN FRCHD FH'}, {'Pork Chops-Butterfly Boneless': 'PORK CHOP BNLS C/C B/FLY FRSH'}]\n",
            "266\n"
          ]
        },
        {
          "output_type": "stream",
          "name": "stderr",
          "text": [
            "Processing Batches: 100%|██████████| 5/5 [00:12<00:00,  2.44s/it]\n"
          ]
        },
        {
          "output_type": "stream",
          "name": "stdout",
          "text": [
            "[{'Three Cheese': 'SAUSAGE BF/PK 3CHEESE'}, {'Pork & Beef': 'SAUSAGE BF/PK 8 IN'}, {'Jalapeno &': 'SAUSAGE JALAPENO CHEDR WHL'}, {'Peppered Turkey': 'TURKEY JERKY PPRD'}, {'Bohemian Garlic': 'BEEF JERKY BOHMN GRLC'}, {'Bohemian Garlic': 'BEEF JERKY BOHMN GRLC'}, {'Hot & Spicy Beef': 'BEEF JERKY HOT & SPCY'}, {'Teriyaki Beef': 'BEEF JERKY TERIYAKI'}, {'Teriyaki Beef': 'BEEF JERKY TERIYAKI'}, {'Teriyaki Beef': 'BEEF JERKY TERIYAKI FRZ'}, {'Cherry Maple Beef': 'BEEF JERKY CHERRY MAPLE 4OZ'}, {'Cherry Maple Beef': 'BEEF JERKY CHERRY MAPLE'}, {'Steakhouse Beef': 'BEEF JERKY STEAKHOUSE'}, {'Steakhouse Beef': 'BEEF JERKY STEAKHOUSE'}, {'Lemon Pepper': 'BEEF JERKY LEMON PEPPER'}, {'Lemon Pepper': 'BEEF JERKY LEMON PEPPER'}, {'Jalapeno Honey': 'BEEF JERKY JALAPENO HONEY 4OZ'}]\n",
            "267\n"
          ]
        },
        {
          "output_type": "stream",
          "name": "stderr",
          "text": [
            "Processing Batches: 100%|██████████| 1/1 [00:02<00:00,  2.00s/it]\n"
          ]
        },
        {
          "output_type": "stream",
          "name": "stdout",
          "text": [
            "[{'SALMON FIL CHILE 3/4LB DTRIM': 'SALMON ATL FIL D-TRIM 3-4# CHL'}, {'SALMON SMOKED SU SCOTTISH': 'SALMON SMOKED SLI SCOTTISH'}, {'SCALLOP SEA U-8 WILD PORTCOV': 'SCALLOP SEA U-8 USA WILD'}, {'SCALLOP SEA U10 WILD PORTCOV': 'SCALLOP SEA U10 USA WILD'}, {'SALM FIL 2/3 D CHILE 35#': 'SALMON ATL FIL D-TRIM 2-3# CHL'}]\n",
            "268\n"
          ]
        },
        {
          "output_type": "stream",
          "name": "stderr",
          "text": [
            "Processing Batches: 100%|██████████| 31/31 [02:15<00:00,  4.37s/it]\n"
          ]
        },
        {
          "output_type": "stream",
          "name": "stdout",
          "text": [
            "[{'BFCHKSHORTRIBBNLSSQUAR 12': 'BEEF SHORT RIB SQUARE CUT'}, {'CAB BEEF BRISKET 2PC/CS 10# UP': 'BEEF BRISKET'}, {'CS  STEAK FLANK CH 6OZ': 'STEAK FLANK CH'}, {'STK TENDER FILET CC BCH PRF': 'STEAK FILET C\\\\C BCH PRF'}, {'CAB STRIP CC 1/2TI BSO IAP AB BZ': 'STEAK STRIP C\\\\C 1\\\\2TL BSO IAP'}, {'CAB STK FILET CC IAP 8OZ V': 'STEAK FILET C\\\\C IAP'}, {'BEEF RIBEYE EXPORT CH 16UP': 'BEEF RIBEYE EXPORT CH'}, {'PORK CHOP FRNCH SNG-BN 1TL 0OZ': 'PORK CHOP B\\\\I C\\\\C FRCHD'}, {'CAB STK CHUCK BISTRO CHATEAU': 'STEAK CHUCK BSTRO CHATEAU'}, {'STK TENDERLO1N PTR COMM PACK ERLAN': 'BEEF TENDER STK READY COM'}, {'CAB STK BALL TIP 1/4TRM BFLY B 4OZ': 'STEAK SIRL BALLTIP BFLY 1\\\\4'}, {'STK CHUCK BISTRO MED CHATEAU STYL': 'STEAK CHUCK BSTRO CHATEAU'}, {'STK CHUCK BISTRO MED VAC 4 4OZOZ': 'STEAK CHUCK BISTRO MEDLLN VAC4'}, {'PORK RIB COUNTRY STYLE B-IN 6Z Z FRZ': 'PORK RIB CNTRY STY B\\\\I FRZN'}, {'STK TENDER FILET CC COM 8OZ': 'STEAK FILET C\\\\C COM'}, {'STK STRP CC 1TL STR-ON CH 16OZ': 'STEAK STRIP C\\\\C 1TL CH'}, {'CAB STK TOP BUTT BASBAL 1/4TR AB 8Z': 'STEAK SIRL TOP BSBALL 1\\\\4'}, {'STEAK FILET EE BFLYD COMM': 'STEAK FILET E\\\\E BFLYD COMM'}, {'RIBEYE 0TL BNLS 6OZ BCH PRF': 'STEAK RIBEYE BNLS 0 TL BCH PRF'}, {'CAB STK COWBOY RIB B-IN 16OZ SPLIT': 'STEAK RIBEYE SPLITBN FRCHD'}, {'PORK CHOP BI NAT DA FRZ 83767': 'PORK CHOP B\\\\I RIB NAT D\\\\A FRZ'}, {'CHICKEN THIGH FOR AL PASTOR': 'CHICKEN THIGH B\\\\S ALPSTSEAS'}, {'BEEF SIRLOIN TIPS 1/2X1/2 FRES H': 'BEEF SIRLOIN TIPS 1/2X1/2 FRSH'}, {'PORK SHOULDER BUTT BONE IN': 'PORK SHOULDER BUTT B\\\\I'}, {'CAB STK TENDER FILET CC 12OZ': 'STEAK FILET C\\\\C'}, {'CAB STK FILET CC IAP 6OZ V': 'STEAK FILET C\\\\C IAP'}, {'PORK CHOP CC LOIN 12OZ': 'PORK CHOP B\\\\I C\\\\C LOIN'}, {'STK PORTERHOUSE 1/4TL NV CH 20OZ': 'STEAK PORTER 1\\\\2TL N\\\\V CH'}, {'CAB STK CULOTTE CAP FAT-OFF 12OZ': 'STEAK SIRL CAP STRIP'}, {'CAB STK CULOTTE CAP FAT-OFF 8OZ': 'STEAK SIRL CAP STRIP'}, {'STK T-BONE laTL CH 18OZ': 'STEAK TBONE 1\\\\2TL CH'}, {'CAB STEAK RIBEYE BNLS 1TL Z': 'STEAK RIBEYE BNLS 1TL'}, {'CAB STK STRIP CC 0TL BIN SKD KND': 'STEAK STRIP B\\\\I C\\\\C SKND'}, {'BEEF FOR TACO MEAT DICED 1/2 H': 'BEEF FOR TACO MEAT DICED 1/2IN'}, {'CAB 5TK TENDER FILET CC 10OZ': 'STEAK FILET C\\\\C'}, {'CAB STK PORTERHOUSE 1/4TL NV 28OZ': 'STEAK PORTER 1\\\\2TL N\\\\V'}, {'BEEF SIRLOIN TIPS 1X FRESH': 'BEEF SIRLOIN TIPS 1X1 FRSH'}, {'STK FILET CC IAP CH VAC 10': 'STEAK FILET C\\\\C IAP CH BULK'}, {'CAB STK STRIP CC 1TL ST-OFF 10OZ': 'STEAK STRIP C\\\\C 1TL BSO'}, {'STK CHUCK BISTRO MEDALLION 3OZ OZ': 'STEAK CHUCK BISTRO MEDLLN VAC4'}, {'PORK CHOP Bl NAT DA FRZ 83767': 'PORK CHOP B\\\\I RIB NAT D\\\\A FRZ'}, {'BEEF SLI RST ITAL CH WGRAVY': 'BEEF SLI RST ITAL CH W\\\\GRAVY'}, {'STK PORTERHOUSE 1/4TL CH 32OZ OZ': 'STEAK PRTRHS 1\\\\4TL CH'}, {'STK FILET CC IAP CH VAC 10': 'STEAK FILET C\\\\C IAP CH BULK'}]\n",
            "269\n"
          ]
        },
        {
          "output_type": "stream",
          "name": "stderr",
          "text": [
            "Processing Batches: 100%|██████████| 1/1 [00:01<00:00,  1.17s/it]\n"
          ]
        },
        {
          "output_type": "stream",
          "name": "stdout",
          "text": [
            "[{'SYSCO 10 WK ANTHONYS': 'BOX PIZZA B-FLT W/K LOGO'}, {'SYSCO 14 WK ANTHONYS': 'BOX PIZZA B-FLT W/K LOGO'}, {'SYSCO 14 KK LOJAX': 'BOX PIZZA B-FLT K/K LOJAX'}, {'SYSCO 16 WK THE CORNER': 'BOX PIZZA B-FLT W/K LOGO'}, {'SYSCO 14 WK THE CORNER': 'BOX PIZZA B-FLT W/K LOGO'}]\n",
            "270\n"
          ]
        },
        {
          "output_type": "stream",
          "name": "stderr",
          "text": [
            "Processing Batches: 100%|██████████| 1/1 [00:00<00:00,  1.46it/s]\n"
          ]
        },
        {
          "output_type": "stream",
          "name": "stdout",
          "text": [
            "[{'#4 Kraft Folded Take-Out Box - 7-3/4 x 5-1/2 x': 'BOX CARRYOUT FOLDED KRAFT 4#'}, {'#3 Kraft Folded Take-Out Box - 7-3/4 x 5-1/2 x': 'BOX PAPER TAKE OUT #3 KRAFT'}, {'#5 Kraft Take-Out Box 8-1/2 x 8-1/2 x 2-5/8': 'BOX PAPER TAKE OUT KRFT #5'}]\n",
            "271\n"
          ]
        },
        {
          "output_type": "stream",
          "name": "stderr",
          "text": [
            "Processing Batches: 100%|██████████| 1/1 [00:00<00:00,  3.50it/s]\n"
          ]
        },
        {
          "output_type": "stream",
          "name": "stdout",
          "text": [
            "[{'CHIPSTortillaYellowRoundCasaSolana12lb': 'CHIP TORTILLA RND YEL SLTD'}, {'TACOShellsRegular200ctCasaSol': 'SHELL TACO REG 5 1/8'}]\n",
            "272\n"
          ]
        },
        {
          "output_type": "stream",
          "name": "stderr",
          "text": [
            "Processing Batches: 100%|██████████| 1/1 [00:00<00:00,  3.42it/s]\n"
          ]
        },
        {
          "output_type": "stream",
          "name": "stdout",
          "text": [
            "[{'HAUBUT FILET SKIN ON': 'HALIBUT FILET SKIN ON'}, {'SALMON FIL 2/3 CHLE DTRIM': 'SALMON ATL FIL D-TRIM 2-3# CHL'}]\n",
            "273\n"
          ]
        },
        {
          "output_type": "stream",
          "name": "stderr",
          "text": [
            "Processing Batches: 100%|██████████| 1/1 [00:00<00:00,  3.71it/s]\n"
          ]
        },
        {
          "output_type": "stream",
          "name": "stdout",
          "text": [
            "[{'PETITE TOP SIRLOIN 5OZ BY PROD FRZ': 'STEAK SIRL TOP PETITE'}, {'LAMB GROUND DOM 296 FINE FRZ': 'LAMB GROUND DOM 296 FINE FRZ'}]\n",
            "274\n"
          ]
        },
        {
          "output_type": "stream",
          "name": "stderr",
          "text": [
            "Processing Batches: 100%|██████████| 1/1 [00:00<00:00,  1.13it/s]\n"
          ]
        },
        {
          "output_type": "stream",
          "name": "stdout",
          "text": [
            "[{'SALMON ATL FIL PRTN LAZY DOG': 'SALMON ATL FIL PRTN L\\\\D'}, {'SNAPPER GULF RED FILET SK-ON': 'SNAPPER RED FIL SK ON'}, {'BASS STRIPED FIL FARM RAISED': 'BASS STRIPED FIL FARM 12OZ'}, {'TUNA LOIN #1 BREADLOAF PERRYS': 'TUNA LOIN #1 BREADLOAF PERRYS'}]\n",
            "275\n"
          ]
        },
        {
          "output_type": "stream",
          "name": "stderr",
          "text": [
            "Processing Batches: 100%|██████████| 1/1 [00:00<00:00,  1.33it/s]\n"
          ]
        },
        {
          "output_type": "stream",
          "name": "stdout",
          "text": [
            "[{'3 lb Spring Mix': 'LETTUCE SPRING MIX'}, {'3 lb Romaine Crunch': 'LETTUCE ROMAINE LEAF CRUNCH'}, {'4 / 3 lb Romaine Crunch': 'LETTUCE ROMAINE LEAF CRUN REV'}, {'12 ct Butterhead Lettuce': 'LETTUCE BIBB HYDRO BULK REVOL'}]\n",
            "276\n"
          ]
        },
        {
          "output_type": "stream",
          "name": "stderr",
          "text": [
            "Processing Batches: 100%|██████████| 1/1 [00:01<00:00,  1.26s/it]\n"
          ]
        },
        {
          "output_type": "stream",
          "name": "stdout",
          "text": [
            "[{'Bag - 110 GSM - Kraft Paper Twist Handle - 12 x 9x 1575 - Black Bear Diner 200/cs': 'BAG PAPR KRFT 12X9X15.75 HNDLE'}, {'9 Chopsticks - Jinya 1500 ct': 'CHOPSTICK BAMBOO IND WRPD 9.4'}, {'PE Lined Hot 28 oz Food Container 142 OD Jinya': 'CONTAINER PAPER RND 28 OZ'}, {'PP Lid 26oz 28oz 32oz Food Container 142mmOD 600/cs': 'LID POLY VENTED CONTAINER 28OZ'}]\n",
            "277\n"
          ]
        },
        {
          "output_type": "stream",
          "name": "stderr",
          "text": [
            "Processing Batches: 100%|██████████| 1/1 [00:00<00:00,  3.93it/s]\n"
          ]
        },
        {
          "output_type": "stream",
          "name": "stdout",
          "text": [
            "[{'Legoland Hotel Bags': 'BAG PAPER LG GFT 12X9X15.5'}, {'Legoland Apple Fries (per case)': 'CONTAINER PAPER APPLE FRIES'}]\n",
            "278\n"
          ]
        },
        {
          "output_type": "stream",
          "name": "stderr",
          "text": [
            "Processing Batches: 100%|██████████| 2/2 [00:06<00:00,  3.47s/it]\n"
          ]
        },
        {
          "output_type": "stream",
          "name": "stdout",
          "text": [
            "[{'CORN 5IN WHITE TAQUERIA TORTILLA': 'TORTILLA CORN 5IN'}, {'FLOUR 12IN GRANDE TORTILLA': 'TORTILLA FLOUR PRSSD 12IN'}, {'CORN 6IN WHITE THICK TORTILLA': 'TORTILLA CORN WHT 6IN'}, {'CORN 45IN WHITE TAQUITO TORTILLA': 'TORTILLA CORN WHT 4.5IN'}, {'FLOUR 125IN ESPECIAL TORTILLA - BF': 'TORTILLA FLOUR 12.5 IN'}, {'FLOUR 6IN ESPECIAL TORTILLA': 'TORTILLA FLOUR ESPL 6IN'}, {'CORN 6IN YLW THICK TORTILLA': 'TORTILLA CORN YEL THICK 6IN'}, {'CORN 4-CUT WHITE THIN PRE-CUT': 'CHIP TORTILLA REG THIN 4'}, {'FLOUR 10IN BURRITO TORTILLA': 'TORTILLA FLOUR PRSSD 10IN'}, {'CORN 6-CUT WHITE THIN PRE-CUT - BF': 'TORTILLA CORN WHITE 6 CUT'}, {'FLOUR 14IN GIGANTE TORTILLA': 'TORTILLA FLOUR PRSSD 14IN'}]\n",
            "279\n"
          ]
        },
        {
          "output_type": "stream",
          "name": "stderr",
          "text": [
            "Processing Batches: 100%|██████████| 1/1 [00:00<00:00,  2.93it/s]\n"
          ]
        },
        {
          "output_type": "stream",
          "name": "stdout",
          "text": [
            "[{'WA FUEGO SALSA (8 - 4 LBS)': 'SALSA FUEGO'}, {'WA MARIAS GREEN SAUCE (16': 'SAUCE GREEN MARIAS REFR'}]\n",
            "280\n"
          ]
        },
        {
          "output_type": "stream",
          "name": "stderr",
          "text": [
            "Processing Batches: 100%|██████████| 1/1 [00:00<00:00,  1.19it/s]\n"
          ]
        },
        {
          "output_type": "stream",
          "name": "stdout",
          "text": [
            "[{'BS LEMON PEPPER SAUCE (4 - 4 LBS)': 'SAUCE LEMON PPR'}, {'BS RANCH STYLE DRSG BASE (166 LBS)': 'DRESSING BASE RANCH BUFFALOSPO'}, {'BS SPECIAL SAUCE (1 - 185 LBS)': 'SAUCE BASE SPECIAL BUFFALOSPOT'}]\n",
            "281\n"
          ]
        },
        {
          "output_type": "stream",
          "name": "stderr",
          "text": [
            "Processing Batches: 100%|██████████| 1/1 [00:00<00:00,  1.54it/s]\n"
          ]
        },
        {
          "output_type": "stream",
          "name": "stdout",
          "text": [
            "[{'Napkin Band White 15 x 425- SYSCO': 'BAND NAPKIN PAPR 1.5X4.25 WHT'}, {'Napkin Band Hunter Green 15 x 425- SYSCO': 'BAND NAPKIN 1.5X4.25 HTR GREEN'}, {'Napkin Band Burgundy 15 x 425- SYSCO': 'BAND NAPKIN PAPR 1.5X4.25 BURG'}]\n",
            "282\n"
          ]
        },
        {
          "output_type": "stream",
          "name": "stderr",
          "text": [
            "Processing Batches: 100%|██████████| 1/1 [00:01<00:00,  1.23s/it]\n"
          ]
        },
        {
          "output_type": "stream",
          "name": "stdout",
          "text": [
            "[{'TROUT 7-9OZ PBO HDLS RAINBOW': 'TROUT FILET PBO 8 OZ'}, {'HALIBUT FILLET CHALKY': 'HALIBUT FIL ALSKN CHALKY'}, {'HAMACHI FILLET 7/21 KILO': 'HAMACHI FILET YELLOWTAIL JACK'}, {'TOBIKO RED 24/11#': 'ROE FLYINGFISH TOBIKO RED'}, {'IMITATION CRAB MEAT 35': 'CRAB IMIT SURIMI STK'}]\n",
            "283\n"
          ]
        },
        {
          "output_type": "stream",
          "name": "stderr",
          "text": [
            "Processing Batches: 100%|██████████| 1/1 [00:01<00:00,  1.18s/it]\n"
          ]
        },
        {
          "output_type": "stream",
          "name": "stdout",
          "text": [
            "[{'SMKD TROUT DT 8OZFARM RAISED NA': 'TROUT SMOKED FRESH'}, {'SALMON FILLET 3-4# D-TRIMHAVE AT LEAST SIX DAYS OF SHELF LIFE': 'SALMON ATL FIL DTRIM CAN 3-4#'}, {'SALMON SKUNAGOLD RIVER FILLETHAVE AT LEAST SIX DAYS OF SHELF LIFE': 'SALMON FIL FRSH 3/4 SKUNA BAY'}, {'SALMON FILLET 2-4# D-TRIM': 'SALMON ATL CHILEAN DTRIM 3-4LB'}]\n",
            "284\n"
          ]
        },
        {
          "output_type": "stream",
          "name": "stderr",
          "text": [
            "Processing Batches: 100%|██████████| 1/1 [00:00<00:00,  1.85it/s]\n"
          ]
        },
        {
          "output_type": "stream",
          "name": "stdout",
          "text": [
            "[{'SALMON LRG ATLANTIC FILLET PBO': 'SALMON ATL FIL DTRIM CAN 3-4#'}, {'SALMON FILLET 2-4# D-TRIM': 'SALMON ATL FIL SKLS PBO 2-4 LB'}, {'SALMONSCOTTISHFILLETPBO': 'SALMON FIL PBO 4-5# SCOTTISH'}]\n",
            "285\n"
          ]
        },
        {
          "output_type": "stream",
          "name": "stderr",
          "text": [
            "Processing Batches: 100%|██████████| 1/1 [00:00<00:00,  5.29it/s]\n"
          ]
        },
        {
          "output_type": "stream",
          "name": "stdout",
          "text": [
            "[{'TOFU EXTRA FIRM': 'TOFU EXTRA FIRM CHINESE'}, {'WATER CHESTNUT': 'CHESTNUT WATER SLI'}]\n",
            "286\n"
          ]
        },
        {
          "output_type": "stream",
          "name": "stderr",
          "text": [
            "Processing Batches: 100%|██████████| 1/1 [00:01<00:00,  1.14s/it]\n"
          ]
        },
        {
          "output_type": "stream",
          "name": "stdout",
          "text": [
            "[{'CORNER BAKERY 18x16x 9 HI-DS/W': 'BAG PLAS C/O SUPRWAVE 18X16X9'}, {'CHEESECAKE REV CAKES 15x14x 5HI-D S/W': 'BAG CARRYOUT WAVE 15X14X5 LOGO'}, {'CHEESECAKE REV CAKES21x13x10 AMERITOTE': 'BAG CRRYOT 21X13X10 SFT LP CCF'}, {'RED ROBIN 27x20x11 HI-D S/WBB - Basic Film': 'BAG CARRYOUT LARGE'}]\n",
            "287\n"
          ]
        },
        {
          "output_type": "stream",
          "name": "stderr",
          "text": [
            "Processing Batches: 100%|██████████| 1/1 [00:00<00:00,  3.22it/s]\n"
          ]
        },
        {
          "output_type": "stream",
          "name": "stdout",
          "text": [
            "[{'WINGS N MORE 24x20x11 HI-D S/W': 'BAG PLAS WAVE 24X20X11 LOGO'}, {'WINGS N MORE 12x 9x23 REST T-S': 'BAG PLAS TSHIRT 12X9X23 LOGO'}]\n",
            "288\n"
          ]
        },
        {
          "output_type": "stream",
          "name": "stderr",
          "text": [
            "Processing Batches: 100%|██████████| 1/1 [00:01<00:00,  1.06s/it]\n"
          ]
        },
        {
          "output_type": "stream",
          "name": "stdout",
          "text": [
            "[{'PIZZA CHEESE': 'PIZZA CHEESE 51%WGRAN FRCH'}, {'PIZZA CHEESE CLSC': 'PIZZA CHEESE CLSC CRUST'}, {'PIZZA CHEESE DEEP': 'PIZZA CHEESE DEEP DISH 5IN IW'}, {'PIZZA CHEESE': 'PIZZA CHEESE WHL GRN'}, {'PIZZA CHEESE WHL': 'PIZZA CHEESE WHLGRN'}]\n",
            "289\n"
          ]
        },
        {
          "output_type": "stream",
          "name": "stderr",
          "text": [
            "Processing Batches: 100%|██████████| 1/1 [00:00<00:00,  3.39it/s]\n"
          ]
        },
        {
          "output_type": "stream",
          "name": "stdout",
          "text": [
            "[{'1 X 1 DICED CHICKEN BULK - 3LB BA': 'CHICKEN BRST DICED 1X1'}, {'THIN SLICED CHICKEN BULK - 3LB BA': 'CHICKEN BRST SLICED'}]\n",
            "290\n"
          ]
        },
        {
          "output_type": "stream",
          "name": "stderr",
          "text": [
            "Processing Batches: 100%|██████████| 1/1 [00:00<00:00,  2.66it/s]\n"
          ]
        },
        {
          "output_type": "stream",
          "name": "stdout",
          "text": [
            "[{'Raw beef short rib bnls': 'BEEF BRAISING MIX RAW'}, {'Ground Beef 3 Muscle Blend': 'BEEF GRND 3 MUSCLE BLEND'}, {'**78/22 2/10 lbs': 'BEEF GROUND 78/22'}]\n",
            "291\n"
          ]
        },
        {
          "output_type": "stream",
          "name": "stderr",
          "text": [
            "Processing Batches: 100%|██████████| 1/1 [00:00<00:00,  2.33it/s]\n"
          ]
        },
        {
          "output_type": "stream",
          "name": "stdout",
          "text": [
            "[{'3 lb Romaine Crunch': 'LETTUCE ROMAINE LEAF CRUNCH'}, {'/ 3 lb Romaine Crunch': 'LETTUCE ROMAINE CRUNCH REVOL'}, {'12 ct Butterhead': 'LETTUCE BIBB HYDRO BULK REVOL'}]\n",
            "292\n"
          ]
        },
        {
          "output_type": "stream",
          "name": "stderr",
          "text": [
            "Processing Batches: 100%|██████████| 1/1 [00:00<00:00,  4.28it/s]\n"
          ]
        },
        {
          "output_type": "stream",
          "name": "stdout",
          "text": [
            "[{'Retail ground beef': 'BEEF GROUND REGULAR'}, {'Beef sirloin top butt xclean': 'BEEF SIRLOIN TOP BUTT XCLEAN'}]\n",
            "293\n"
          ]
        },
        {
          "output_type": "stream",
          "name": "stderr",
          "text": [
            "Processing Batches: 100%|██████████| 1/1 [00:00<00:00,  2.30it/s]\n"
          ]
        },
        {
          "output_type": "stream",
          "name": "stdout",
          "text": [
            "[{'Buttermilk Ranch Dressing': 'DRESSING RANCH BUTTERMILK LOGO'}, {'Fresh Herb Vinaigrette': 'DRESSING HERB VINAIGRETTE LOGO'}, {'Lemon Vinaigrette Dressing': 'DRESSING LEMON VINAIGRETTE'}]\n",
            "294\n"
          ]
        },
        {
          "output_type": "stream",
          "name": "stderr",
          "text": [
            "Processing Batches: 100%|██████████| 1/1 [00:01<00:00,  1.87s/it]\n"
          ]
        },
        {
          "output_type": "stream",
          "name": "stdout",
          "text": [
            "[{'REGAL CHS BLND 6/3LB': 'CHEESE BLEND REGAL'}, {'ARTISAN CHEDDAR SHR 6/5': 'CHEESE BLEND THREE CHDR SHRED'}, {'BLUE CHS CRUM 4/5LB': 'CHEESE BLUE CRUMBLES'}, {'MOZZ CHS SHRD 6/5LB': 'CHEESE MOZZ SHRD P/S-W/M BLEND'}, {'PARM CHS GTD 6/5LB': 'CHEESE PARMESAN GRATED'}, {'SARV CHS QTR 4/5LB': 'CHEESE PARMESAN SARVECCHIO WHL'}]\n",
            "295\n"
          ]
        },
        {
          "output_type": "stream",
          "name": "stderr",
          "text": [
            "Processing Batches: 100%|██████████| 1/1 [00:02<00:00,  2.44s/it]\n"
          ]
        },
        {
          "output_type": "stream",
          "name": "stdout",
          "text": [
            "[{'20Z PT 24LS COKE CHRY ZRO': 'SODA COKE CHERRY ZERO CONTOUR'}, {'20Z PT 24LS DT COKE': 'SODA COKE DIET CLS CONT TRAY P'}, {'20Z PT 24LS FANTA ORG': 'SODA ORANGE'}, {'12Z CN 24P PB SPRITE': 'SODA SPRITE CANS'}, {'20Z PT 24LS DAS': 'WATER BOTTLED PET LOOSE DASANI'}, {'20Z PT 24LS SMTWTR': 'WATER BTLD SMARTWATER'}]\n",
            "296\n"
          ]
        },
        {
          "output_type": "stream",
          "name": "stderr",
          "text": [
            "Processing Batches: 100%|██████████| 1/1 [00:01<00:00,  1.52s/it]\n"
          ]
        },
        {
          "output_type": "stream",
          "name": "stdout",
          "text": [
            "[{'12Z CN 24P COKE': 'SODA COCA COLA CLS'}, {'20Z PT 24LS COKE': 'SODA COKE CLS CONTOUR TRAY PK'}, {'12Z CN 24P DT COKE': 'SODA COKE DIET'}, {'20Z PT 24LS DT COKE': 'SODA COKE DIET CLS CONT TRAY P'}, {'20Z PT 24LS SMTWTR': 'WATER BTLD SMARTWATER'}]\n",
            "297\n"
          ]
        },
        {
          "output_type": "stream",
          "name": "stderr",
          "text": [
            "Processing Batches: 100%|██████████| 1/1 [00:02<00:00,  2.37s/it]\n"
          ]
        },
        {
          "output_type": "stream",
          "name": "stdout",
          "text": [
            "[{'12Z CN 24P COKE': 'SODA COCA COLA CLS'}, {'12Z CN 24P DT COKE': 'SODA COKE DIET'}, {'12Z CN 24P PB SPRITE': 'SODA SPRITE CANS'}, {'20Z PT 24LS BARQS RTBR': 'SODA ROOT BEER  PET LOOSE'}, {'20Z PT 24LS COKE': 'SODA COKE CLS CONTOUR TRAY PK'}, {'20Z PT 24LS DT COKE': 'SODA COKE DIET CLS CONT TRAY P'}]\n",
            "298\n"
          ]
        },
        {
          "output_type": "stream",
          "name": "stderr",
          "text": [
            "Processing Batches: 100%|██████████| 1/1 [00:00<00:00,  2.94it/s]\n"
          ]
        },
        {
          "output_type": "stream",
          "name": "stdout",
          "text": [
            "[{'Jersey Mikes Mini White Sub': 'ROLL MINI WHT SUB'}, {'Jersey Wheat Sub': 'ROLL WHEAT SUB'}, {'Jersey Mikes White Sub': 'ROLL WHITE SUB'}]\n",
            "299\n"
          ]
        },
        {
          "output_type": "stream",
          "name": "stderr",
          "text": [
            "Processing Batches: 100%|██████████| 1/1 [00:00<00:00,  1.84it/s]\n"
          ]
        },
        {
          "output_type": "stream",
          "name": "stdout",
          "text": [
            "[{'Jersey Mikes Mini Wheat Sub': 'ROLL MINI WHEAT SUB'}, {'Jersey Mikes Mini White Sub': 'ROLL MINI WHT SUB'}, {'Jersey Mikes Wheat Sub': 'ROLL WHEAT SUB'}, {'Jersey Mikes White Sub': 'ROLL WHITE SUB'}]\n",
            "300\n"
          ]
        },
        {
          "output_type": "stream",
          "name": "stderr",
          "text": [
            "Processing Batches: 100%|██████████| 1/1 [00:00<00:00,  5.36it/s]\n"
          ]
        },
        {
          "output_type": "stream",
          "name": "stdout",
          "text": [
            "[{'Pgh Style Chips-5gal': 'PICKLE CHIP'}, {'Pgh Style Spears-5gal': 'PICKLE SPEAR'}]\n",
            "301\n"
          ]
        },
        {
          "output_type": "stream",
          "name": "stderr",
          "text": [
            "Processing Batches: 100%|██████████| 1/1 [00:00<00:00,  1.54it/s]\n"
          ]
        },
        {
          "output_type": "stream",
          "name": "stdout",
          "text": [
            "[{'Plus Apple Juice Cups 96/4oz': 'JUICE APPLE SHELF STABLE'}, {'Plus 15% Cranberry Juice Cups': 'JUICE CRANBERRY 15% SS CUP'}, {'Plus Grape Juice Cups 96/4oz': 'JUICE GRAPE SHELF STABLE'}, {'Plus Orange Juice Cups 96/4oz': 'JUICE ORANGE STABLE'}]\n",
            "302\n"
          ]
        },
        {
          "output_type": "stream",
          "name": "stderr",
          "text": [
            "Processing Batches: 100%|██████████| 1/1 [00:00<00:00,  1.09it/s]\n"
          ]
        },
        {
          "output_type": "stream",
          "name": "stdout",
          "text": [
            "[{'UNCOOKED BREADED CHICKEN BREAST TENDERLOINS': 'CHICKEN TENDER BRD RTC'}, {'CHEESE TORTELLINI': 'PASTA TORTELLINI CHS'}, {'TRICOLOR TORTELLINI': 'PASTA TORTELLINI TRICOLOR'}, {'CHEESE RAVIOLI': 'RAVIOLI CHEESE'}]\n",
            "303\n"
          ]
        },
        {
          "output_type": "stream",
          "name": "stderr",
          "text": [
            "Processing Batches: 100%|██████████| 1/1 [00:01<00:00,  1.07s/it]\n"
          ]
        },
        {
          "output_type": "stream",
          "name": "stdout",
          "text": [
            "[{'CLOVER SPROUTS': 'SPROUT ALFALFA FRSH'}, {'BEAN SPROUTS (1 X 5#)': 'SPROUT BEAN FRESH'}, {'FIRM TOFU': 'TOFU FIRM FRSWTR PKD'}, {'ORGANIC FIRM TOFU': 'TOFU ORGANIC FIRM'}, {'SOFT TOFU': 'TOFU SOFT FRSH'}]\n",
            "304\n"
          ]
        },
        {
          "output_type": "stream",
          "name": "stderr",
          "text": [
            "Processing Batches: 100%|██████████| 1/1 [00:00<00:00,  1.42it/s]\n"
          ]
        },
        {
          "output_type": "stream",
          "name": "stdout",
          "text": [
            "[{'CLOVER SPROUTS': 'SPROUT ALFALFA FRSH'}, {'BEAN SPROUTS (1 X 5#)': 'SPROUT BEAN FRESH'}, {'ORGANIC FIRM TOFU': 'TOFU ORGANIC FIRM'}, {'SOFT TOFU': 'TOFU SOFT FRSH'}]\n",
            "305\n"
          ]
        },
        {
          "output_type": "stream",
          "name": "stderr",
          "text": [
            "Processing Batches: 100%|██████████| 1/1 [00:01<00:00,  1.34s/it]\n"
          ]
        },
        {
          "output_type": "stream",
          "name": "stdout",
          "text": [
            "[{'NOODLE CHOW MEIN 1/10#': 'NOODLE CHOW MEIN'}, {'CLOVER SPROUTS1/1 # LOT#4716': 'SPROUT ALFALFA FRSH'}, {'BEAN SPROUTS (1 X 5#)': 'SPROUT BEAN FRESH'}, {'ORGANIC FIRM TOFU12/14OZ #2786W1574': 'TOFU ORGANIC FIRM'}, {'12/16 OZ PKG #2786F1734': 'TOFU SOFT FRSH'}]\n",
            "306\n"
          ]
        },
        {
          "output_type": "stream",
          "name": "stderr",
          "text": [
            "Processing Batches: 100%|██████████| 1/1 [00:01<00:00,  1.15s/it]\n"
          ]
        },
        {
          "output_type": "stream",
          "name": "stdout",
          "text": [
            "[{'NOODLE CHOW MEIN 1/10#': 'NOODLE CHOW MEIN'}, {'CLOVER SPROUTS1/1 # LOT#4721': 'SPROUT ALFALFA FRSH'}, {'BEAN SPROUTS (1 X 5#)': 'SPROUT BEAN FRESH'}, {'12/16 OZ CTNS LOT #2786F1804': 'TOFU FIRM FRSWTR PKD'}, {'ORGANIC FIRM TOFU': 'TOFU ORGANIC FIRM'}]\n",
            "307\n"
          ]
        },
        {
          "output_type": "stream",
          "name": "stderr",
          "text": [
            "Processing Batches: 100%|██████████| 1/1 [00:00<00:00,  3.69it/s]\n"
          ]
        },
        {
          "output_type": "stream",
          "name": "stdout",
          "text": [
            "[{'HADDOCK - FILLET 10/12 oz SKIN ON Wild': 'HADDOCK FIL SK-ON 10-12Z FRESH'}, {'HADDOCK - PF FILLET 8/10 oz SKIN ON': 'HADDOCK FIL SK-ON 8-10OZ PF'}]\n",
            "308\n"
          ]
        },
        {
          "output_type": "stream",
          "name": "stderr",
          "text": [
            "Processing Batches: 100%|██████████| 1/1 [00:00<00:00,  3.84it/s]\n"
          ]
        },
        {
          "output_type": "stream",
          "name": "stdout",
          "text": [
            "[{'MO BETTAHS US801 8X8 1C 200/CS': 'CONTAINER FOOD 8X8 CLAMSHELL'}, {'MO BETTAHS US771 6X6 1C 250/CS': 'CONTAINER FOOD 7X7 KEIKI'}]\n",
            "309\n"
          ]
        },
        {
          "output_type": "stream",
          "name": "stderr",
          "text": [
            "Processing Batches: 100%|██████████| 1/1 [00:02<00:00,  2.79s/it]\n"
          ]
        },
        {
          "output_type": "stream",
          "name": "stdout",
          "text": [
            "[{'SYSCO 12 KK BOHO PIZZA BREW': 'BOX PIZZA LOGO BOHOPIZBRW 12'}, {'SYSCO 10 KK CHEESY PINT': 'BOX PIZZA LOGO CHEESYPINT 10'}, {'SYSCO 16 KK DALS PIZZA': 'BOX PIZZA LOGO D ALLAS 16 KK'}, {'SYSCO 12 KK DALS PIZZA': 'BOX PIZZA LOGO DALLAS 12 KK'}, {'SYSCO 10 WK SOUTHERN PIZZA COMPANY I': 'BOX PIZZA LOGO SOUTHRNPIZZA 10'}, {'SYSCO 14 WK SOUTHERN PIZZA COMPANY': 'BOX PIZZA LOGO SOUTHRNPIZZA 14'}, {'SYS 11X15 WK TONIS PIZZA': 'BOX PIZZA LOGO TONI 11X15 W/K'}]\n",
            "310\n"
          ]
        },
        {
          "output_type": "stream",
          "name": "stderr",
          "text": [
            "Processing Batches: 100%|██████████| 1/1 [00:00<00:00,  2.44it/s]\n"
          ]
        },
        {
          "output_type": "stream",
          "name": "stdout",
          "text": [
            "[{'HFS IMIT STFD CR 6-225 LB': 'CRAB STUFFED IMIT SHELL 2Z USA'}, {'DDF DIY BROWN SUGAR BASE 1-52 OZ': 'COOKIE SUGAR BROWN'}]\n",
            "311\n"
          ]
        },
        {
          "output_type": "stream",
          "name": "stderr",
          "text": [
            "Processing Batches: 100%|██████████| 1/1 [00:00<00:00,  2.63it/s]\n"
          ]
        },
        {
          "output_type": "stream",
          "name": "stdout",
          "text": [
            "[{'SALMON ATL FLT 3-4#S/L E': 'SALMON ATL FIL SKLS 3-4 LB CAN'}, {'SALMON ATL FLT 2-3# S/L E': 'SALMON ATL FLT SKLS 2-3 LB CDN'}]\n",
            "312\n"
          ]
        },
        {
          "output_type": "stream",
          "name": "stderr",
          "text": [
            "Processing Batches: 100%|██████████| 2/2 [00:06<00:00,  3.40s/it]\n"
          ]
        },
        {
          "output_type": "stream",
          "name": "stdout",
          "text": [
            "[{'BRANZINO BFLY 8-10 OZ': 'BASS SEA BFLY BRANZINO 8-10 OZ'}, {'HALIBUT H&G 10-20#': 'HALIBUT WHL FRSH 10-20#'}, {'HAMACHI FIL S/ON': 'HAMACHI FILET S/ON YELLOWTAIL'}, {'OYSTER IN SHELL BBQ': 'OYSTER INSHELL BBQ SHELL XLG'}, {'OYSTER EASTERN INSHELL': 'OYSTER INSHELL BLUEPOINT'}, {'SALMON ATL FLT 3-4#S/ON': 'SALMON ATL FIL D-TRIM 3-4# CHL'}, {'SALMON ATL FLT 3-4#S/L': 'SALMON ATL FIL E-TRIM 3-4# CHL'}, {'SALMON ATL PRTN 5OZ': 'SALMON ATL PRTN 5OZ FRESH'}, {'SALMON FIL SKON D-TRIM': 'SALMON FIL SKON D-TRIM'}, {'TUNA AHI #1 C/C LOIN': 'TUNA LOIN #1 C/C SKLS BLO'}]\n",
            "313\n"
          ]
        },
        {
          "output_type": "stream",
          "name": "stderr",
          "text": [
            "Processing Batches: 100%|██████████| 1/1 [00:00<00:00,  1.94it/s]\n"
          ]
        },
        {
          "output_type": "stream",
          "name": "stdout",
          "text": [
            "[{'BREAD CRUMB PANKORICE GLTN FR': 'BREAD CRUMB PANKO RICE GLTN FR'}, {'BEAN BLACK': 'BEAN BLACK'}, {'BEAN BAKED': 'BEAN BAKED'}]\n",
            "314\n"
          ]
        },
        {
          "output_type": "stream",
          "name": "stderr",
          "text": [
            "Processing Batches: 100%|██████████| 1/1 [00:00<00:00,  3.39it/s]\n"
          ]
        },
        {
          "output_type": "stream",
          "name": "stdout",
          "text": [
            "[{'Spicy Saus Egg Cheese Biscuit24/cs': 'SANDWICH BISC SAUS EGG CHS'}, {'Chorizo Egg Red Pep Sandwich24/cs': 'SANDWICH BRKFST CHORIZO BISTRO'}]\n",
            "315\n"
          ]
        },
        {
          "output_type": "stream",
          "name": "stderr",
          "text": [
            "Processing Batches: 100%|██████████| 1/1 [00:00<00:00,  1.85it/s]\n"
          ]
        },
        {
          "output_type": "stream",
          "name": "stdout",
          "text": [
            "[{'Spicy Saus Egg Cheese Biscuit24/cs': 'SANDWICH BISC SAUS EGG CHS'}, {'Bacon Egg Gouda 24/cs': 'SANDWICH BRKFST BACON GOUDA'}, {'Chorizo Egg Red Pep Sandwich24/cs': 'SANDWICH BRKFST CHORIZO BISTRO'}]\n",
            "316\n"
          ]
        },
        {
          "output_type": "stream",
          "name": "stderr",
          "text": [
            "Processing Batches: 100%|██████████| 2/2 [00:05<00:00,  2.65s/it]\n"
          ]
        },
        {
          "output_type": "stream",
          "name": "stdout",
          "text": [
            "[{'COD SEA DRY SLTD BACCALA': 'COD SEA DRY SLTD BACCALA'}, {'MAHI MAHI PRTN SKNLS': 'MAHI MAHI PRTN SKIN OFF'}, {'SALMON STL FIL PRTN SKOFF 6OZ': 'SALMON ATL FIL PRTN SKOFF BBRG'}, {'SALMON FILET PRTN CENTR': 'SALMON PRTN C\\\\C'}, {'HALIBUT FILET SKIN ON': 'HALIBUT FILET SKIN ON'}, {'SALMON PRTN DTRM SUPERIOR': 'SALMON ATL FIL DTRIM WISC'}, {'SALMON FILET PRTN SK-OFF 6OZ': 'SALMON PRTN SKIN OFF'}, {'SALMON PORTION REG 7OZ': 'SALMON PORTION STR CUT 7OZ'}, {'WHITEFISH MEDALLIONS (SCRAP)': 'WHITEFISH PRTN MEDALLIONS'}, {'SALMON PRTN SK/OFF EE 8Z': 'SALMON ATL E\\\\E PRTN SK\\\\OFF'}, {'SALMON PORTION REG 7OZ': 'SALMON PORTION STR CUT 7OZ'}]\n",
            "317\n"
          ]
        },
        {
          "output_type": "stream",
          "name": "stderr",
          "text": [
            "Processing Batches: 100%|██████████| 61/61 [04:10<00:00,  4.10s/it]\n"
          ]
        },
        {
          "output_type": "stream",
          "name": "stdout",
          "text": [
            "[{'CAB PRIME BEEF RIBEYE UPON': 'BEEF RIBEYE LIPON PR'}, {'PEELED OUTSIDE SKIRT JACCARD 2 XS': 'BEEF SKIRT OUTSDE PLD JACC'}, {'STK TENDERLOIN CH-OFF PTR HVY Y CH': 'BEEF TENDER WHL SKND HVY CH'}, {'GLACE DEMI VEAL CLASSIC 2536': 'GLACE DEMI VEAL CLS'}, {'PORK CHOP FRNCH SIN-BN WMF 6Z': 'PORK CHOP B\\\\I C\\\\C FRCHD'}, {'RACK CHINE OFF 8 BN BERKS': 'PORK RACK 8BN C\\\\OFF BERKSHIRE'}, {'CAB STK TENDER FILET CC 6OZ': 'STEAK FILET C\\\\C'}, {'CAB STEAK FILET CC IAP V': 'STEAK FILET C\\\\C IAP'}, {'STK TENDER MEDALLION BCH PRF': 'STEAK FILET MEDLLN BCH PRF'}, {'STEAK PORTERHOUSE BCH PRF 20OZ 0OZ': 'STEAK PORTER BCH PRF'}, {'CAB IAP DRYAGE PORTER 1/2TL 2OZ': 'STEAK PORTER 1\\\\2TL D\\\\A IAP'}, {'CAB DRY AGE COWBOY B/1 FRN 2OZ': 'STEAK RIBEYE B\\\\I 1-4BN L\\\\E ELL'}, {'CAB STK CULOTTE FAT-OFF 10OZ': 'STEAK SIRL CAP STRIP'}, {'STK CULOTTE CAP FAT-OFF CH 8OZ OZ': 'STEAK SIRL CAP STRIP CH'}, {'STK TOP BUTT 2/3 FAT-OFF 8OZ': 'STEAK SIRL TOP 2\\\\3CUT SKND'}, {'SKIRT OUTSIDE PLD PRTN 8OZ OZ': 'STEAK SKIRT OUTSIDE'}, {'STK STRIP CC 1/2TL ST-OFF AB 14': 'STEAK STRIP C\\\\C 1\\\\2TL BSO'}, {'CAB PRM STRIP CC 1TL BSO 14Z': 'STEAK STRIP C\\\\C 1TL BSO PR'}, {'STK STRIP 1TL E-E ST-ON 8OZ': 'STEAK STRIP E\\\\E 1TL'}, {'STK FILET CC SEL 75Z MAGGIAN': 'STEAK FILET C\\\\C SEL MAGG'}, {'STK TOP BUTT 1 SPLT CC 1 /4 AB 6Z': 'STEAK SIRL TOP C\\\\C 1\\\\4'}, {'PORK CHOP CC RIB 70Z': 'PORK CHOP B\\\\I C\\\\C RIB'}, {'PORK CHOP FRNCH SING-BN 1TL 1 ZOZ': 'PORK CHOP C\\\\C FRCHD'}, {'STK CULOTTE CAP FAT-OFF 8OZ': 'STEAK SIRL CAP STRIP'}, {'PORK CHOP LOIN PORTERHOUSE 16Z': 'PORK CHOP LOIN PORTER'}, {'CAB STEAK FLANK SQR CUT': 'STEAK FLANK SQR CUT'}, {'CAB STK R]BYE FILET 6OZ': 'STEAK RIBEYE FIL'}, {'PORK CHOP CC LOIN 8OZ': 'PORK CHOP B\\\\I C\\\\C LOIN'}, {'CAB STK TENDER FILET E-E 6OZ': 'STEAK FILET E\\\\E'}, {'STK STRIP CC 1TL B-IN 16Z 6OZ': 'STEAK STRIP C\\\\C B\\\\I 1TL'}, {'STK STRIP CC 1TL ST-OFF 13OZ': 'STEAK STRIP C\\\\C 1 TL 1 BSO'}, {'CAB TENDER MEDLLN 2OZ V3': 'STEAK FILET MEDLLN VAC3'}, {'STK STRIP CC 1TLST-OFF RSV 12OZ': 'STEAK STRIP C\\\\C 1TL BSO RSV'}, {'CAB EXPORT RIB 2X MN [AP': 'BEEF RIBEYE EXPORT IAP'}, {'CAB CULOTTE MUSCLE - JIC V-1 AC 1': 'BEEF SIRL COULOT JAC VAC1'}, {'EEF TENDER PTR BCH PRF 2PC G': 'BEEF TENDER PSMO BCH PRF'}, {'CHUCK BISTRO MED VAC 4 4OZ OZ': 'STEAK CHUCK BISTRO MEDLLN VAC4'}, {'STK TENDER FILET CC CH 6 PC': 'STEAK FILET C\\\\C CH'}, {'STK RBEYE BNLS 1TL IAP SHAN-r Z': 'STEAK RIBEYE BNLS 1TL IAP T\\\\S'}, {'CAB STK RIBEYE SPLTBN FR IAP Z': 'STEAK RIBEYE SPLTBN FR IAP CAL'}, {'CAB STK TOP BUTT BRL 6OZ': 'STEAK SIRL TOP BSBALL PREM'}, {'CAB STEAK STRIP CC 12TL IAP AB 8Z': 'STEAK STRIP C\\\\C 1\\\\2TL IAP CALO'}, {'LAMB CHOP LOIN DOMSTC 1/4TL OZ': 'LAMB CHOP LOIN 1\\\\4TL'}, {'LAMB RACK FRNCHD AUSSIE 26-28': 'LAMB RACK FRCHD AUSSIE'}, {'CAB STK TENDER FILET CC 12OZ': 'STEAK FILET C\\\\C'}, {'CAB TENDER FILET CC 8OZ ELL': 'STEAK FILET C\\\\C ELLIOTTS'}, {'CAB PORTERHSE 0TL NV IAP ELL': 'STEAK PORTER 0TL N\\\\V IAP ELLI'}, {'STK COWBOY RIB B-IN FRNCH B 18Z': 'STEAK RIBEYE B\\\\I FRNCH D\\\\A'}, {'IAP STK SKIRT OUTSD SMOQUE': 'STEAK SKIRT OUTSIDE IAP SMOQUE'}, {'PRM STRIP CC 1TL BSO 16Z': 'STEAK STRIP C\\\\C 1TL BSO PR'}, {'BEEF FLANK STEAK 15# CH 1 BAG': 'BEEF STEAK FLANK CH'}, {'LAMB CHOP LOLLIPOP 225Z FRZN NZ': 'LAMB CHOP LOLLIPOP 2.25Z FRZN'}, {'LEG BRT AUSTRALIAN FRZN TY': 'LAMB LEG BRT AUSTRALIAN FRZN'}, {'STEAK FILET C/C BCH PRF FRAN': 'STEAK FILET C\\\\C BCH PRF FRAN'}, {'STK BALL TIP NO-FAT BFLY 6OZ': 'STEAK SIRL BALLTIP BFLY SKND'}, {'STK TOP BUTT BASEBBALL PRIME 10OZ': 'STEAK SIRL TOP BSBALL SKND PR'}, {'CAB STEAK STRIP CC 1TL ST-ON 12OZ': 'STEAK STRIP C\\\\C 1TL'}, {'STK STRIP CC 1TL ST-OFF 14Z PR PRIM': 'STEAK STRIP C\\\\C 1TL BSO PR'}, {'CAB STEAK SIRL FLAP BAVETTE': 'STEAK SIRL FLAP BAVETTE'}, {'STK TOP BUTT 1 SPLT CC 1/4 AB 6Z': 'STEAK SIRL TOP C\\\\C 1\\\\4'}, {'FOR TACO MEAT DICED 1/4 H': 'BEEF FOR TACO MEAT DICED 1/4IN'}, {'BEEF SHORT RIB 3-BONE CH V64OZ': 'BEEF SHORT RIB 3BN CH VAC6'}]\n",
            "318\n"
          ]
        },
        {
          "output_type": "stream",
          "name": "stderr",
          "text": [
            "Processing Batches: 100%|██████████| 1/1 [00:00<00:00,  4.46it/s]\n"
          ]
        },
        {
          "output_type": "stream",
          "name": "stdout",
          "text": [
            "[{'CANDY M&M PEANUT': 'CANDY M&M PEANUT BULK'}, {'CANDY M&M PLAIN': 'CANDY M&M PLAIN BULK'}]\n",
            "319\n"
          ]
        },
        {
          "output_type": "stream",
          "name": "stderr",
          "text": [
            "Processing Batches: 100%|██████████| 3/3 [00:10<00:00,  3.41s/it]\n"
          ]
        },
        {
          "output_type": "stream",
          "name": "stdout",
          "text": [
            "[{'CORN 6-CUT YLW THIN PRE-CUT': 'CHIP TORTILLA CORN YEL 6 CUT'}, {'CORN 6-CUT TRI COLOR PRE-CUT': 'TORTILLA CORN TRI COLR RAW 6C'}, {'CORN 45IN WHITE TAQUITO TORTILLA': 'TORTILLA CORN WHT 4.5IN'}, {'CORN 6IN WHITE MESA TORTILLA': 'TORTILLA CORN WHT 6 MESA'}, {'CORN 6IN WHITE THICK TORTILLA': 'TORTILLA CORN WHT 6IN'}, {'CORN 6IN YLW THICK TORTILLA': 'TORTILLA CORN YEL THICK 6IN'}, {'FLOUR 12IN CHILE TOMATO TORTILLA': 'TORTILLA FLOUR CHILE TOMAT12IN'}, {'FLOUR 12IN CHIPOTLE TORTILLA': 'TORTILLA FLOUR CHIPOTLE 12IN'}, {'FLOUR 10IN BURRITO TORTILLA': 'TORTILLA FLOUR PRSSD 10IN'}, {'FLOUR 12IN GRANDE TORTILLA': 'TORTILLA FLOUR PRSSD 12IN'}, {'FLOUR 14IN GIGANTE TORTILLA': 'TORTILLA FLOUR PRSSD 14IN'}, {'FLOUR 12IN SPINACH TORTILLA': 'TORTILLA FLOUR SPINACH 12'}, {'FLOUR 10IN WHEAT TORTILLA': 'TORTILLA FLOUR WHEAT 10IN'}]\n",
            "320\n"
          ]
        },
        {
          "output_type": "stream",
          "name": "stderr",
          "text": [
            "Processing Batches: 100%|██████████| 1/1 [00:00<00:00,  3.18it/s]\n"
          ]
        },
        {
          "output_type": "stream",
          "name": "stdout",
          "text": [
            "[{'MIX SAUCE MAC & CH': 'MIX SAUCE MAC & CHS BASE'}, {'MIX SAUCE ALFREDO': 'MIX SAUCE ALFREDO BASE'}]\n",
            "321\n"
          ]
        },
        {
          "output_type": "stream",
          "name": "stderr",
          "text": [
            "Processing Batches: 100%|██████████| 1/1 [00:02<00:00,  2.46s/it]\n"
          ]
        },
        {
          "output_type": "stream",
          "name": "stdout",
          "text": [
            "[{'GTSToilet SeatCover Recycle Paper125x165case pack 4/250 (1000pcs)': 'COVER TOILET SEAT'}, {'Fork HvyPP Black 54g 10/100 Ti': 'FORK PLAS PP X-HVY BLK'}, {'ForkMedPPWhite25g10/100  Ti x Hi': 'FORK PLAS WHT MED WT'}, {'MediumWT PP 4 Piece White Kit=FKS': 'KIT CUTLERY MED PP KFS NAP WHT'}, {'KnifeHvyPPBlack54g10/100 Hi': 'KNIFE PLAS PP X-HVY BLK'}, {'SporkMedPPWhite25g10/100 Ti': 'SPORK POLY MED WT WHT'}]\n",
            "322\n"
          ]
        },
        {
          "output_type": "stream",
          "name": "stderr",
          "text": [
            "Processing Batches: 100%|██████████| 1/1 [00:00<00:00,  2.20it/s]\n"
          ]
        },
        {
          "output_type": "stream",
          "name": "stdout",
          "text": [
            "[{'GTSToilet SeatCover Recycle Pa': 'COVER TOILET SEAT'}, {'V-MPPSPKIT': 'KIT CUTLERY SCHL SPORK NAP STW'}, {'PET-LID-F107': 'LID PLAS FLAT F/32OZ PET CUP'}]\n",
            "323\n"
          ]
        },
        {
          "output_type": "stream",
          "name": "stderr",
          "text": [
            "Processing Batches: 100%|██████████| 1/1 [00:00<00:00,  2.98it/s]\n"
          ]
        },
        {
          "output_type": "stream",
          "name": "stdout",
          "text": [
            "[{'SALMON FILLET 3-4# D-TRIM': 'SALMON ATL FIL DTRIM CAN 3-4#'}, {'SALMON FILLET LARGE': 'SALMON FIL BNLS TRMD 3-4# FRSH'}]\n",
            "324\n"
          ]
        },
        {
          "output_type": "stream",
          "name": "stderr",
          "text": [
            "Processing Batches: 100%|██████████| 1/1 [00:00<00:00,  4.81it/s]\n"
          ]
        },
        {
          "output_type": "stream",
          "name": "stdout",
          "text": [
            "[{'Jersey Mikes Mini White Sub': 'ROLL MINI WHT SUB'}, {'Jersey Mikes White Sub': 'ROLL WHITE SUB'}]\n",
            "325\n"
          ]
        },
        {
          "output_type": "stream",
          "name": "stderr",
          "text": [
            "Processing Batches: 100%|██████████| 1/1 [00:00<00:00,  2.63it/s]\n"
          ]
        },
        {
          "output_type": "stream",
          "name": "stdout",
          "text": [
            "[{'Scotch-Brite Extra Heavy Duty Pot N Pan Scour Pad 88 35 inx 5 in': 'PAD POT N PAN HNDLR XHV 3.5X5'}, {'Scotch-Brite General Purpose Scour Pad 96 6 in x 9 in 20/Box 3': 'PAD SCOUR COMM GEN PURP 6X9'}]\n",
            "326\n"
          ]
        },
        {
          "output_type": "stream",
          "name": "stderr",
          "text": [
            "Processing Batches: 100%|██████████| 1/1 [00:00<00:00,  3.23it/s]\n"
          ]
        },
        {
          "output_type": "stream",
          "name": "stdout",
          "text": [
            "[{'FRI LITE (35 LB DP)': 'SHORTENING FRY LIQ CLR CANOLA'}, {'LA SPAGNOLA CANOLA OIL (6/1 GALLON)': 'OIL CANOLA SALAD 100%'}]\n",
            "327\n"
          ]
        },
        {
          "output_type": "stream",
          "name": "stderr",
          "text": [
            "Processing Batches: 100%|██████████| 1/1 [00:00<00:00,  4.14it/s]\n"
          ]
        },
        {
          "output_type": "stream",
          "name": "stdout",
          "text": [
            "[{'OLIVE OIL (6/1': 'OIL VEG /PURE OLIVE 90/10 BLND'}, {'SICILIA 75/25': 'OIL OLIVE CANOLA EVO 75/25'}]\n",
            "328\n"
          ]
        },
        {
          "output_type": "stream",
          "name": "stderr",
          "text": [
            "Processing Batches: 100%|██████████| 1/1 [00:00<00:00,  4.75it/s]\n"
          ]
        },
        {
          "output_type": "stream",
          "name": "stdout",
          "text": [
            "[{'PIE PEACH FRIED': 'PIE PEACH FRIED'}, {'PIE CHERRY': 'PIE CHERRY FRIED'}]\n",
            "329\n"
          ]
        },
        {
          "output_type": "stream",
          "name": "stderr",
          "text": [
            "Processing Batches: 100%|██████████| 1/1 [00:00<00:00,  3.72it/s]\n"
          ]
        },
        {
          "output_type": "stream",
          "name": "stdout",
          "text": [
            "[{'TACOShellsRegular200ctCasa': 'SHELL TACO REG 5 1/8'}, {'CHIPSTortillaYellowRoundCas': 'CHIP TORTILLA RND YEL SLTD'}]\n",
            "330\n"
          ]
        },
        {
          "output_type": "stream",
          "name": "stderr",
          "text": [
            "Processing Batches: 100%|██████████| 2/2 [00:05<00:00,  2.83s/it]\n"
          ]
        },
        {
          "output_type": "stream",
          "name": "stdout",
          "text": [
            "[{'Potato Hashbrown': 'POTATO HASHBROWN'}, {'Bagel Everything': 'BAGEL EVERYTHING'}, {'Bagel Cinnamon Rsn': 'BAGEL CINNAMON RSN'}, {'Candy Reese Pnt Btr Cup Mini': 'CANDY REESE PNT BTR CUP MINI'}, {'Muffin Blueberry Wild Cl': 'MUFFIN BLUEBERRY WILD CL'}, {'Biscuit Southern Style Prebkd': 'BISCUIT SOUTHERN STYLE PREBKD'}, {'Sausage Pork Patty CkdI': 'SAUSAGE PORK PATTY CKD'}, {'Croissant PlainPastry Veg Onion Parm Chs Pnwh': 'CROISSANT PLAIN'}, {'Pastry Veg Onion Parm Chs Pnwh': 'PASTRY VEG ONION PARM CHS PNWH'}, {'Pastry Veg Rst Red Pep SWS Pwh': 'PASTRY VEG RST RED PEP SWS PWH'}, {'Omelet Egg Bites Bacn & Chs': 'OMELET EGG BITES BACN & CHS'}]\n",
            "331\n"
          ]
        },
        {
          "output_type": "stream",
          "name": "stderr",
          "text": [
            "Processing Batches: 100%|██████████| 3/3 [00:10<00:00,  3.34s/it]\n"
          ]
        },
        {
          "output_type": "stream",
          "name": "stdout",
          "text": [
            "[{'Potato Hashbrown': 'POTATO HASHBROWN'}, {'Bagel Plain': 'BAGEL PLAIN'}, {'Bagel Everything': 'BAGEL EVERYTHING'}, {'Bagel Cinnamon RsnMuffin Blueberry Wild Cl': 'BAGEL CINNAMON RSN'}, {'Donut Cake Timbit Choc ClDonut Plain Timbit Yeast Cl': 'DONUT CAKE TIMBIT CHOC CL'}, {'Donut Ring Yeast Raised ClDonut Ring Choc Cake Cl': 'DONUT RING YEAST RAISED CL'}, {'Donut Yeast Fill Cl 120/CsDonut Ring Wht Cake Cl 130cs': 'DONUT YEAST FILL CL 120/CS'}, {'Biscuit Southern Style PrebkdDonut French Cruller': 'BISCUIT SOUTHERN STYLE PREBKD'}, {'Croissant PlainDonut Hole Timbit Cake Bday Cl I': 'CROISSANT PLAIN'}, {'Donut Fritter Apple ClMuffin English Cl': 'DONUT FRITTER APPLE CL'}, {'Bread Panini Sordgh Sli': 'BREAD PANINI SORDGH SLI'}, {'Omelet Egg Bites Bacn & Chs': 'OMELET EGG BITES BACN & CHS'}]\n",
            "332\n"
          ]
        },
        {
          "output_type": "stream",
          "name": "stderr",
          "text": [
            "Processing Batches: 100%|██████████| 1/1 [00:01<00:00,  1.21s/it]\n"
          ]
        },
        {
          "output_type": "stream",
          "name": "stdout",
          "text": [
            "[{'SF Heavy Cream 9/5 Gal': 'CREAM HEAVY'}, {'8041100029 SF Milk Homogenized 2/1 Gal': 'MILK HOMOGENIZED'}, {'8041100030 SF Milk 2% REDUCE FAT 2/1 Gal': 'MILK 2% RDUC FAT'}, {'8041100050 SF Half & Half Quarts': 'CREAMER HALF & HALF'}, {'Empty Gallon Jug 48/128oz': 'JUG PLAS GALLON'}]\n",
            "333\n"
          ]
        },
        {
          "output_type": "stream",
          "name": "stderr",
          "text": [
            "Processing Batches: 100%|██████████| 1/1 [00:00<00:00,  4.56it/s]\n"
          ]
        },
        {
          "output_type": "stream",
          "name": "stdout",
          "text": [
            "[{'5032000716 SF Homogenized': 'MILK HOMOGENIZED'}, {'5032000717 SF 2% Reduced': 'MILK 2% RDUC FAT'}]\n",
            "334\n"
          ]
        },
        {
          "output_type": "stream",
          "name": "stderr",
          "text": [
            "Processing Batches: 100%|██████████| 1/1 [00:01<00:00,  1.72s/it]\n"
          ]
        },
        {
          "output_type": "stream",
          "name": "stdout",
          "text": [
            "[{'SF Heavy Cream 9/5 Gal': 'CREAM HEAVY'}, {'8041100029 SF Milk Homogenized 2/1 Gal': 'MILK HOMOGENIZED'}, {'8041100030 SF Milk 2% REDUCE FAT 2/1 Gal': 'MILK 2% RDUC FAT'}, {'8041100050 SF Half & Half Quarts': 'CREAMER HALF & HALF'}, {'Empty Gallon Jug 48/128oz': 'JUG PLAS GALLON'}, {'Cap for Container 1/2500ct': 'CAP FOR CONTAINER 38 ISF'}]\n",
            "335\n"
          ]
        },
        {
          "output_type": "stream",
          "name": "stderr",
          "text": [
            "Processing Batches: 100%|██████████| 1/1 [00:01<00:00,  1.34s/it]\n"
          ]
        },
        {
          "output_type": "stream",
          "name": "stdout",
          "text": [
            "[{'8041100029 SF Mi k Homogenized 2/1 Gal': 'MILK HOMOGENIZED'}, {'8041100030 SF Mi k 2% REDUCE FAT 2/1 Gal': 'MILK 2% RDUC FAT'}, {'8041100032 SF Mik Low Fat Skim 2/1 Gal': 'MILK LOW FAT SKIM'}, {'8041100050 SF Half & Half Quarts': 'CREAMER HALF & HALF'}, {'Empty Gallon Jug 48/128oz': 'JUG PLAS GALLON'}]\n",
            "336\n"
          ]
        },
        {
          "output_type": "stream",
          "name": "stderr",
          "text": [
            "Processing Batches: 100%|██████████| 1/1 [00:00<00:00,  3.10it/s]\n"
          ]
        },
        {
          "output_type": "stream",
          "name": "stdout",
          "text": [
            "[{'8041100029 SF Milk Homogenized 2/1 Gal': 'MILK HOMOGENIZED'}, {'8041100030 SF Milk 2% REDUCE FAT 2/1 Gal': 'MILK 2% RDUC FAT'}]\n",
            "337\n"
          ]
        },
        {
          "output_type": "stream",
          "name": "stderr",
          "text": [
            "Processing Batches: 100%|██████████| 1/1 [00:00<00:00,  2.38it/s]\n"
          ]
        },
        {
          "output_type": "stream",
          "name": "stdout",
          "text": [
            "[{'TENDERLOIN': 'STEAK FILET MEDLLN VAC8 FRZN'}, {'BEEF STK FRZ': 'BEEF STRIP DICED HERF FRZN'}, {'BEEF CARNE': 'BEEF CARNE ASADA DICED FRZ'}]\n",
            "338\n"
          ]
        },
        {
          "output_type": "stream",
          "name": "stderr",
          "text": [
            "Processing Batches: 100%|██████████| 1/1 [00:02<00:00,  2.14s/it]\n"
          ]
        },
        {
          "output_type": "stream",
          "name": "stdout",
          "text": [
            "[{'CHBSLV GROUND 80/20 BULK': 'BEEF GRND 80\\\\20 BULK HERF'}, {'BEEF CHUCK BRISKET 4OZ': 'BEEF GRND PUCK C\\\\B HERF'}, {'BEEF PATTIE CHUCK BRISKET': 'BEEF GRND PUCK C\\\\B HERF'}, {'BEEF CHUCK/NAVEL PUCK': 'BEEF GRND PUCK CHUCK NAVEL'}, {'BEEF CHUCK/NAVEL PUCK': 'BEEF GRND PUCK CHUCK NAVL VC16'}, {'BEEF 75/25 PUCK 60/3 OZ': 'BEEF GROUND PUCK 75\\\\25 FRESH'}]\n",
            "339\n"
          ]
        },
        {
          "output_type": "stream",
          "name": "stderr",
          "text": [
            "Processing Batches: 100%|██████████| 13/13 [00:38<00:00,  2.92s/it]\n"
          ]
        },
        {
          "output_type": "stream",
          "name": "stdout",
          "text": [
            "[{'Bagel Cinnamon Rsn': 'BAGEL CINNAMON RSN'}, {'Biscuit Southern Style Prebkd': 'BISCUIT SOUTHERN STYLE PREBKD'}, {'Croissant Garlic Herb Stuffed': 'CROISSANT GARLIC HERB STUFFED'}, {'Croissant Plain': 'CROISSANT PLAIN'}, {'Dip Avocado W/Lime': 'DIP AVOCADO W/LIME'}, {'Donut Cake Timbit Choc Cl': 'DONUT CAKE TIMBIT CHOC CL'}, {'Donut French Cruller': 'DONUT FRENCH CRULLER'}, {'Donut Fritter Apple Cl': 'DONUT FRITTER APPLE CL'}, {'Donut Hole Timbit Cake Bday Cl': 'DONUT HOLE TIMBIT CAKE BDAY CL'}, {'Donut Plain Timbit Yeast Cl': 'DONUT PLAIN TIMBIT YEAST CL'}, {'Donut Ring Yeast Raised Cl': 'DONUT RING YEAST RAISED CL'}, {'Donut Yeast Fill Cl 120/Cs': 'DONUT YEAST FILL CL 120/CS'}, {'Dough Cookie Oreo Creme': 'DOUGH COOKIE OREO CREME'}, {'Muffin Strawberry Cheese Cake': 'MUFFIN STRAWBERRY CHEESE CAKE'}, {'Omelet Egg Bite Chz Chorizo': 'OMELET EGG BITE CHZ CHORIZO'}, {'Pastry Veg Jalapeno Savoury': 'PASTRY VEG JALAPENO SAVOURY'}, {'Pastry Veg Onion Parm Chs Pnwh': 'PASTRY VEG ONION PARM CHS PNWH'}, {'Pastry Veg Ppr Onion Egg Bskt': 'PASTRY VEG PPR ONION EGG BSKT'}, {'Pastry Veg Spinach Egg Feta': 'PASTRY VEG SPINACH EGG FETA'}, {'Potato Hashbrown': 'POTATO HASHBROWN'}, {'Sausage Pork Patty Ckd': 'SAUSAGE PORK PATTY CKD'}, {'Topping Caramel Cocoa Bark': 'TOPPING CARAMEL COCOA BARK'}, {'Topping Whpd Sweet Cream On Tp': 'TOPPING WHPD SWEET CREAM ON TP'}, {'Sausage Beef Patty': 'SAUSAGE BEEF PATTY'}, {'Cookie Frz Celebration With MM': 'COOKIE FRZ CELEBRATION WITH MM'}, {'Cookie Rocky Dream Rd': 'COOKIE ROCKY DREAM RD'}, {'Cookie Sweet Salty Dream': 'COOKIE SWEET SALTY DREAM'}, {'Candy Reese Pnt Btr Cup Mini': 'CANDY REESE PNT BTR CUP MINI'}]\n",
            "340\n"
          ]
        },
        {
          "output_type": "stream",
          "name": "stderr",
          "text": [
            "Processing Batches: 100%|██████████| 1/1 [00:00<00:00,  3.97it/s]\n"
          ]
        },
        {
          "output_type": "stream",
          "name": "stdout",
          "text": [
            "[{'Icing Vanilla RTU Fluff Ts': 'ICING VANILLA RTU FLUFF TS'}, {'Pastry Veg Rst Red Pep SWS': 'PASTRY VEG RST RED PEP SWS PWH'}]\n",
            "341\n"
          ]
        },
        {
          "output_type": "stream",
          "name": "stderr",
          "text": [
            "Processing Batches: 100%|██████████| 1/1 [00:00<00:00,  1.55it/s]\n"
          ]
        },
        {
          "output_type": "stream",
          "name": "stdout",
          "text": [
            "[{'MVM 5x1 Hot Links': 'SAUSAGE HOT LINK 5X1'}, {'MVM 4x1 Hot Links': 'SAUSAGE HOT LINK 4X1'}, {'MVM 1 lb Red Hot Links': 'SAUSAGE HOT LINK 5X1 FC'}, {'MVM 1 lb Mild': 'SAUSAGE LINK MILD 5X1 FC'}]\n",
            "342\n"
          ]
        },
        {
          "output_type": "stream",
          "name": "stderr",
          "text": [
            "Processing Batches: 100%|██████████| 1/1 [00:00<00:00,  1.25it/s]\n"
          ]
        },
        {
          "output_type": "stream",
          "name": "stdout",
          "text": [
            "[{'HC Plus Diet Cranberry Juice Cups 96/4o': 'JUICE CRANBERRY DIET'}, {'HC Plus Orange Juice Cups 96/4oz': 'JUICE ORANGE STABLE'}, {'HC Plus Apple Juice Cups 96/4oz': 'JUICE APPLE SHELF STABLE'}, {'HC Plus 15% Cranberry Juice Cups 96/4oz': 'JUICE CRANBERRY 15% SS CUP'}]\n",
            "343\n"
          ]
        },
        {
          "output_type": "stream",
          "name": "stderr",
          "text": [
            "Processing Batches: 100%|██████████| 4/4 [00:11<00:00,  2.93s/it]\n"
          ]
        },
        {
          "output_type": "stream",
          "name": "stdout",
          "text": [
            "[{'PRIME SHORTLOIN 0X1 3PC/CS': 'BEEF SHORTLOIN 0X1 PR'}, {'BEEF TENDER PTR BCH PRF 2PC G': 'BEEF TENDER PSMO BCH PRF'}, {'LAMB CHOP LOLLIPOP NZV10 225': 'LAMB CHOP LOLLIPOP VAC10'}, {'CABSTKCOWBOY RIB B-IN 16-18Z BOZ': 'STEAK RIBEYE B\\\\I FRNCH'}, {'CAB STK STRIP CC 1 TL ST-OFF 10OZ': 'STEAK STRIP C\\\\C 1TL BSO'}, {'CAB STEAK SKIRT OUTSIDE NORD': 'STEAK SKIRT OUTSDE NDSTM'}, {'PORK RIB COUNTRY STYLE BNLS 4 OZ': 'PORK SPARE RIB BNLS CTRY STY'}, {'LAMB RACK FRNCHD NZ 12-14OZ': 'LAMB RACK FRCHD NZ 12/14OZ'}, {'CAB STK RIBEYE BNLS 0TL 6OZ': 'STEAK RIBEYE BNLS 0TL'}, {'STK TOP BUTT BASEBALL PRIME 6OZ': 'STEAK SIRL TOP BSBALL SKND PR'}, {'CAB STK BALL TIP 1/4TRM 10OZ Z': 'STEAK SIRL BALLTIP 1\\\\4'}, {'BEEF SHORT RIB 3-BONE REG CH 1 0OZ': 'BEEF SHORT RIB PRTN 3BN'}, {'BACON IRISH BRAND': 'BACON IRISH BRAND'}, {'PORK SHOULDER BUTT BONE IN': 'PORK SHOULDER BUTT B\\\\I'}]\n",
            "344\n"
          ]
        },
        {
          "output_type": "stream",
          "name": "stderr",
          "text": [
            "Processing Batches: 100%|██████████| 1/1 [00:00<00:00,  1.35it/s]\n"
          ]
        },
        {
          "output_type": "stream",
          "name": "stdout",
          "text": [
            "[{'HC Plus Orange Juice Cups 96/4oz': 'JUICE ORANGE STABLE'}, {'HC Plus Apple Juice Cups 96/4oz': 'JUICE APPLE SHELF STABLE'}, {'HC Plus 15% Cranberry Juice Cups 96/4oz': 'JUICE CRANBERRY 15% SS CUP'}]\n",
            "345\n"
          ]
        },
        {
          "output_type": "stream",
          "name": "stderr",
          "text": [
            "Processing Batches: 100%|██████████| 1/1 [00:02<00:00,  2.91s/it]\n"
          ]
        },
        {
          "output_type": "stream",
          "name": "stdout",
          "text": [
            "[{'WATER SPRKLG IMPRTD MNERAL PET': 'WATER SPRKLG IMPRTD MNERAL PET'}, {'SHORTENING FRY NON GMO ZTF SUN': 'SHORTENING FRY NON GMO ZTF SUN'}, {'OIL SALAD SUNFLOWER NONGMO ZTF': 'OIL SALAD SUNFLOWER NONGMO ZTF'}, {'PAN COATING SUNFL ARSL NONGMO': 'PAN COATING SUNFL ARSL NONGMO'}, {'JUICE TOMATO BIB RTU': 'JUICE TOMATO BIB RTU'}, {'IMP JUICE APPLE 100% CAN': 'JUICE APPLE 100% CAN'}, {'SAUCE HOT CHILI SRIRACHA': 'SAUCE HOT CHILI SRIRACHA'}]\n",
            "346\n"
          ]
        },
        {
          "output_type": "stream",
          "name": "stderr",
          "text": [
            "Processing Batches: 100%|██████████| 1/1 [00:00<00:00,  1.73it/s]\n"
          ]
        },
        {
          "output_type": "stream",
          "name": "stdout",
          "text": [
            "[{'Breaded Chicken Bulk for Kings (2x5lbs)': 'CHICKEN BRD CUTLET CRISPY F/C'}, {'Grilled Chicken w/ Sauce (1x45lbs)': 'CHICKEN BRST GRILLED W SAUCE'}, {'Grilled Chicken 4-5 oz avg (2x18pc)': 'CHICKEN GRLD 4-5 OZ EACH'}]\n",
            "347\n"
          ]
        },
        {
          "output_type": "stream",
          "name": "stderr",
          "text": [
            "Processing Batches: 100%|██████████| 1/1 [00:03<00:00,  3.35s/it]\n"
          ]
        },
        {
          "output_type": "stream",
          "name": "stdout",
          "text": [
            "[{'SYSCO 14 Boscoes KK': 'BOX PIZZA BOSCOE S 14 INCH K/K'}, {'SYSCO 8 Boscoes KK': 'BOX PIZZA BOSCOES K/K'}, {'SYSCO 10 KK KILLER QUEENS': 'BOX PIZZA 10IN K/K KILLER QN'}, {'SYSCO 14 Pizza Stop KK': 'PIZZA BOX K/K 14IN PIZZA STOP'}, {'SYSCO 30 WK PLAIN': 'BOX PIZZA 30X30X2 WKB'}, {'SYSCO 10 KK SILVER SPRING': 'BOX PIZZA 10IN K/K SILVER SPNG'}, {'SYSCO 10 KK STRONGS PIZZERIA': 'BOX PIZZA K/K 10 STRONGS'}, {'SYSCO 16 KK STRONGS PIZZERIA': 'BOX PIZZA K/K 16 STRONGS'}]\n",
            "348\n"
          ]
        },
        {
          "output_type": "stream",
          "name": "stderr",
          "text": [
            "Processing Batches: 100%|██████████| 1/1 [00:01<00:00,  1.37s/it]\n"
          ]
        },
        {
          "output_type": "stream",
          "name": "stdout",
          "text": [
            "[{'SYSCO 12 KK COLONIAL PIZZA': 'BOX PIZZA 12IN K/K COLONIAL PZ'}, {'SYSCO 10X7X3 WK EMPANADAS': 'BOX PIZZA 10X7 W/K EMPNDA BOX'}, {'SYSCO 10 KK PADRINO ITALIAN': 'BOX PIZZA K/K 10 PADRINO'}, {'SYSCO 10 KK STRONGS PIZZERIA': 'BOX PIZZA K/K 10 STRONGS'}, {'SYSCO 16 KK STRONGS PIZZERIA1': 'BOX PIZZA K/K 16 STRONGS'}]\n",
            "349\n"
          ]
        },
        {
          "output_type": "stream",
          "name": "stderr",
          "text": [
            "Processing Batches: 100%|██████████| 1/1 [00:03<00:00,  3.68s/it]\n"
          ]
        },
        {
          "output_type": "stream",
          "name": "stdout",
          "text": [
            "[{'SYSCO 10 KK COLONIAL PIZZ': 'BOX PIZZA 10IN K/K COLONIAL'}, {'SYSCO 16 KK COLONIAL PIZZA': 'BOX PIZZA 16IN K/K COLONIAL PZ'}, {'SYSCO 16 KK PADRINO ITALI': 'BOX PIZZA K/K 16 PADRINO'}, {'SYSCO 18 Pizza Stop KK': 'BOX PIZZA K/K 18IN PIZZA STOP'}, {'SYSCO 10 Pizza Stop KK': 'PIZZA BOX K/K 10IN PIZZA STOP'}, {'SYSCO 14 Pizza Stop KK': 'PIZZA BOX K/K 14IN PIZZA STOP'}, {'SYSCO 16 Pizza Stop KK': 'PIZZA BOX K/K 16IN PIZZA STOP'}, {'SYSCO 10 KK STRONGS PIZZERI': 'BOX PIZZA K/K 10 STRONGS'}]\n",
            "350\n"
          ]
        },
        {
          "output_type": "stream",
          "name": "stderr",
          "text": [
            "Processing Batches: 100%|██████████| 1/1 [00:03<00:00,  3.88s/it]\n"
          ]
        },
        {
          "output_type": "stream",
          "name": "stdout",
          "text": [
            "[{'SYSCO 14X6X3 LG SUB A Roma WK': 'BOX SUB W/K 14X6IN A ROMA PZA'}, {'SYSCO 14 DEBS PIZZA KK': 'BOX PIZZA 14INCH K/K DEB PIZZA'}, {'SYSCO 10 KING DOUGH WK1': 'BOX PIZZA 10INCH W/K KNGDOUGH'}, {'SYSCO 12 KK MAGOOS BAR': 'BOX PIZZA K/K 12 MAGOOS'}, {'SYSCO 16 KK MAGOOS BAR': 'BOX PIZZA K/K 16 MAGOOS'}, {'SYSCO 14 KK UNCOMMON': 'BOX PIZZA K/K 14 UNCOMMON'}, {'SYSCO 24 PLAIN WK (25CT)': 'BOX PIZZA 24IN W/K PLAIN'}]\n",
            "351\n"
          ]
        },
        {
          "output_type": "stream",
          "name": "stderr",
          "text": [
            "Processing Batches: 100%|██████████| 1/1 [00:04<00:00,  4.01s/it]\n"
          ]
        },
        {
          "output_type": "stream",
          "name": "stdout",
          "text": [
            "[{'SYSCO 14X6X3 LG SUB A Roma WK': 'BOX SUB W/K 14X6IN A ROMA PZA'}, {'SYSCO 14 A Roma KK': 'PIZZA BOX 14IN W/K A ROMA PZA'}, {'SYSCO 10 Bigwoods KK': 'BOX PIZZA BIG WOODS K/K'}, {'SYSCO 16 Bigwoods KK': 'BOX PIZZA BIG WOODS K/K'}, {'SYSCO 14 WK ITALIAN GRILLE': 'BOX PIZZA 14IN W/K ITAL GRILL'}, {'SYSCO 8 WK ITALIAN GRILLE': 'BOX PIZZA 8IN W/K ITAL GRILLE'}, {'SYSCO 12 KK KNUCKLE SANDWICH': 'BOX PIZZA 12IN KK KNUCKLE SAND'}, {'SYSCO 12 KK SAXONY PIZZERIA': 'BOX PIZZA SAXONY 12 K/K'}]\n",
            "352\n"
          ]
        },
        {
          "output_type": "stream",
          "name": "stderr",
          "text": [
            "Processing Batches: 100%|██████████| 1/1 [00:00<00:00,  3.93it/s]\n"
          ]
        },
        {
          "output_type": "stream",
          "name": "stdout",
          "text": [
            "[{'Beef Steak Philly Gosh-30 lbs': 'BEEF STEAK PHILLY SLI THIN 3OZ'}, {'Chicken Steak Philly Gosh-30 lbs': 'CHICKEN PHILLY STEAK 3 OZ'}]\n",
            "353\n"
          ]
        },
        {
          "output_type": "stream",
          "name": "stderr",
          "text": [
            "Processing Batches: 100%|██████████| 1/1 [00:00<00:00,  1.73it/s]\n"
          ]
        },
        {
          "output_type": "stream",
          "name": "stdout",
          "text": [
            "[{'12/2# SV PRM/RMN/AS TZN WIPRM': 'CHEESE BLEND CAESAR AS/PRM/ROM'}, {'6/5# FR MOZZ/PROV/CHEDNL WIPRM': 'CHEESE MOZZ/PROV/CHDR SHRED'}, {'12/15/48SS CHD MD TWPNL WIPRM': 'CHEESE CHEDDAR SLI .5 OZ'}]\n",
            "354\n"
          ]
        },
        {
          "output_type": "stream",
          "name": "stderr",
          "text": [
            "Processing Batches: 100%|██████████| 1/1 [00:00<00:00,  3.50it/s]\n"
          ]
        },
        {
          "output_type": "stream",
          "name": "stdout",
          "text": [
            "[{'Beef Steak Philly Gosh-30 lbs': 'BEEF STEAK PHILLY SLI THIN 3OZ'}, {'Chicken Steak Philly Gosh-30 lbs': 'CHICKEN PHILLY STEAK 3 OZ'}]\n",
            "355\n"
          ]
        },
        {
          "output_type": "stream",
          "name": "stderr",
          "text": [
            "Processing Batches: 100%|██████████| 1/1 [00:00<00:00,  2.62it/s]\n"
          ]
        },
        {
          "output_type": "stream",
          "name": "stdout",
          "text": [
            "[{'Slim Chickens Jar-12Embossed (12pk) 17t /A0012-050C1CSC-136': 'JAR GLASS EMBOSD SLIM CHICKEN'}, {'Massilly Lid-Silver/BuffMetal - (675 ct) 8T/ 5H': 'LID ALMN WHT LINE F/SLCK JAR'}]\n",
            "356\n"
          ]
        },
        {
          "output_type": "stream",
          "name": "stderr",
          "text": [
            "Processing Batches: 100%|██████████| 2/2 [00:03<00:00,  1.72s/it]\n"
          ]
        },
        {
          "output_type": "stream",
          "name": "stdout",
          "text": [
            "[{'MUSTARD DIJON PLS': 'MUSTARD DIJON PLS'}, {'SPICE PEPPERCORNBLK GRINDER': 'SPICE PEPPERCORN BLK GRINDER'}, {'SPICE BASIL LEAVES': 'SPICE BASIL LEAVES'}, {'SPICE CELERY SALT': 'SPICE CELERY SALT'}, {'SPICE CELERY SEEDWH': 'SPICE CELERY SEED WH'}, {'SPICE GARLICGRANULATED': 'SPICE GARLIC GRANULATED'}, {'SPICE GINGER GRND': 'SPICE GINGER GRND'}, {'SEASONING SALTFREE 17': 'SEASONING SALT FREE 17'}, {'SAUCE HOT': 'SAUCE HOT'}]\n",
            "357\n"
          ]
        },
        {
          "output_type": "stream",
          "name": "stderr",
          "text": [
            "Processing Batches: 100%|██████████| 1/1 [00:00<00:00,  3.42it/s]\n"
          ]
        },
        {
          "output_type": "stream",
          "name": "stdout",
          "text": [
            "[{'SALMON ATL FLT 3-4#S/L E': 'SALMON ATL FIL SKLS 3-4 LB CAN'}, {'SALMON ATL FLT 2-3# S/L E': 'SALMON ATL FLT SKLS 2-3 LB CDN'}]\n",
            "358\n"
          ]
        },
        {
          "output_type": "stream",
          "name": "stderr",
          "text": [
            "Processing Batches: 100%|██████████| 19/19 [01:05<00:00,  3.43s/it]\n"
          ]
        },
        {
          "output_type": "stream",
          "name": "stdout",
          "text": [
            "[{'BACON CANADIAN STY WHOLE': 'BACON CANADIAN STY WHOLE'}, {'BACON END & PCS 8/2#': 'BACON END & PCS'}, {'BACON SHINGLE SLI 12/14 PEPPRD': 'BACON SHINGLE SLI 12/14 PEPPRD'}, {'BACON SLICED CNTRY X THICK': 'BACON SLICED CNTRY X THICK'}, {'CAB BEEF BOTTOM ROUND FLAT CORNED': 'BEEF BOTTOM RD FLT CORNED'}, {'CAB BEEF BOTTOM ROUND POT ROAST': 'BEEF BOTTOM ROUND POT ROAST'}, {'CAB BEEF BRISKET COOKED CORNED': 'BEEF BRISKET CORNED CKD'}, {'BEEF BRISKET CORNED RAW': 'BEEF BRISKET CORNED RAW'}, {'CAB BEEF BRISKET PASTRAMI COOKED': 'BEEF BRISKET PASTRAMI CKD'}, {'CAB BEEF BRISKET SMK WH': 'BEEF BRISKET SMK WH'}, {'BEEF CHUCK SHORT RIB BNLS CKD': 'BEEF CHUCK SHORT RIB BNLS CKD'}, {'CAB BEEF CORNED BRSKT RAW': 'BEEF CORNED BRSKT RAW'}, {'BEEF ROAST TOP ROUND ENDLESS RARE': 'BEEF ROAST TOP RND RAR ENDLS'}, {'BEEF TACO MEAT COOKED': 'BEEF TACO MEAT COOKED'}, {'CAB BEEF TOP ROUND ENDLESS MED': 'BEEF TOP ROUND ENDLESS MED'}, {'CAB BEEF TOP RND ENDLESS RARE': 'BEEF TOP ROUND ENDLESS RARE'}, {'CAB BEEF TOP ROUND ENDLESS W DONE': 'BEEF TOP ROUND ENDLESS W DONE'}, {'CAB BEEF TOP ROUND SPLIT EL MED': 'BEEF TOP ROUND SPLIT EL MED'}, {'CAB BEEF TOP ROUND SPLIT EL RARE': 'BEEF TOP ROUND SPLIT EL RARE'}, {'CHICKEN MEAT BURRITO GT': 'CHICKEN MEAT BURRITO GT'}, {'CHICKEN WING SMKD 1 PK': 'CHICKEN WING SMKD 1 PK'}, {'FRANK ALL BEEF SKNLS 6-1 7 IN': 'FRANK ALL BEEF SKNLS 6-1 7 IN'}, {'HAM NAT JUICE WH MUSCLE LEGEND': 'HAM NAT JUICE WH MUSCLE LEGEND'}, {'HAM OLD FASHIONED BONELESS': 'HAM OLD FASH BNLS'}, {'PORK BELLY COOKED': 'PORK BELLY COOKED'}, {'PORK BELLY NAT FC SRIRCHA': 'PORK BELLY NAT FC SRIRCHA'}, {'PORK BUTT BONE IN SMOKED': 'PORK BUTT BONE IN SMKD'}, {'PORK RIB COUNTRY STYLE FC': 'PORK RIB COUNTRY STYLE FC'}, {'SAUSAGE BBQ SMKD ROPE': 'SAUSAGE BBQ SMKD ROPE'}, {'SAU SAGE CHORIZO BULK': 'SAUSAGE CHORIZO BULK'}, {'SAUSAGE LINK SMOKEY W/CHEESE': 'SAUSAGE LINK SMOKEY W/CHEESE'}, {'SAUSAGE POLISH LNK SMKD 5X1': 'SAUSAGE POLISH LNK SMKD 5X1'}, {'SAUSAGE ROPE ANDOUILLE CKD': 'SAUSAGE ROPE ANDOUILLE CKD'}, {'TACO BEEF MEAT GT': 'TACO BEEF MEAT GT'}]\n",
            "359\n"
          ]
        },
        {
          "output_type": "stream",
          "name": "stderr",
          "text": [
            "Processing Batches: 100%|██████████| 1/1 [00:00<00:00,  2.45it/s]\n"
          ]
        },
        {
          "output_type": "stream",
          "name": "stdout",
          "text": [
            "[{'Bag - 110 GSM - Kraft Paper Twist Handle - 12 x 9x 1575 - Black Bear Diner 200/cs': 'BAG PAPR KRFT 12X9X15.75 HNDLE'}, {'Flat Straw Slot 12-24 oz Clear PET Lid - 98mm -BG 1000/cs': 'LID PLAS STRAW SLOT 12OZ 24OZ'}]\n",
            "360\n"
          ]
        },
        {
          "output_type": "stream",
          "name": "stderr",
          "text": [
            "Processing Batches: 100%|██████████| 1/1 [00:00<00:00,  3.26it/s]\n"
          ]
        },
        {
          "output_type": "stream",
          "name": "stdout",
          "text": [
            "[{'Napkin Band Hunter Green 15 x 425- SYSCO': 'BAND NAPKIN 1.5X4.25 HTR GREEN'}, {'Napkin_Band White 15 x 425- SYSCO': 'BAND NAPKIN PAPR 1.5X4.25 WHT'}]\n",
            "361\n"
          ]
        },
        {
          "output_type": "stream",
          "name": "stderr",
          "text": [
            "Processing Batches: 100%|██████████| 1/1 [00:00<00:00,  1.87it/s]\n"
          ]
        },
        {
          "output_type": "stream",
          "name": "stdout",
          "text": [
            "[{'Napkin Band Hunter Green 15 x 425- SYSCO': 'BAND NAPKIN 1.5X4.25 HTR GREEN'}, {'Napkin Band White 15 x 425- SYSCO': 'BAND NAPKIN PAPR 1.5X4.25 WHT'}, {'Napkin Band Burgundy 15 x 425- SYSCO': 'BAND NAPKIN PAPR 1.5X4.25 BURG'}]\n",
            "362\n"
          ]
        },
        {
          "output_type": "stream",
          "name": "stderr",
          "text": [
            "Processing Batches: 100%|██████████| 1/1 [00:00<00:00,  1.67it/s]\n"
          ]
        },
        {
          "output_type": "stream",
          "name": "stdout",
          "text": [
            "[{'Napkin Band White 15 x 425- SYSCO': 'BAND NAPKIN PAPR 1.5X4.25 WHT'}, {'Napkin Band Burgundy 15 x 425- SYSCO': 'BAND NAPKIN PAPR 1.5X4.25 BURG'}, {'Napkin Band Hunter Green 15 x 425- SYSCO': 'BAND NAPKIN 1.5X4.25 HTR GREEN'}]\n",
            "363\n"
          ]
        },
        {
          "output_type": "stream",
          "name": "stderr",
          "text": [
            "Processing Batches: 100%|██████████| 1/1 [00:00<00:00,  2.10it/s]\n"
          ]
        },
        {
          "output_type": "stream",
          "name": "stdout",
          "text": [
            "[{'OYSTER MID ATLANTIIC 100': 'OYSTER LIVE MID-ATLANTIC 100CT'}, {'TOBIKO RED 24/11#': 'ROE FLYINGFISH TOBIKO RED'}, {'SALMON ORA KING 4-5 KG': 'SALMON WHL KNG ORA'}]\n",
            "364\n"
          ]
        },
        {
          "output_type": "stream",
          "name": "stderr",
          "text": [
            "Processing Batches: 100%|██████████| 1/1 [00:00<00:00,  1.11it/s]\n"
          ]
        },
        {
          "output_type": "stream",
          "name": "stdout",
          "text": [
            "[{'SARALEE CHEESECAKE NEW YORK 16 CT': 'CHEESECAKE NEW YORK 16 CT'}, {'LBA  DOUGH CROISSANT SHEET ALL/BT': 'DOUGH CROISSANT SHEET ALL/BTR'}, {'RICHS DOUGH PIZZA SELF RISE 14IN FTO': 'DOUGH PIZZA SELF RISE 14IN FTO'}, {'SYS CLS PIE APPLE RTB 1007201': 'PIE APPLE RTB 10'}]\n",
            "365\n"
          ]
        },
        {
          "output_type": "stream",
          "name": "stderr",
          "text": [
            "Processing Batches: 100%|██████████| 1/1 [00:00<00:00,  1.63it/s]\n"
          ]
        },
        {
          "output_type": "stream",
          "name": "stdout",
          "text": [
            "[{'THPLS TOWEL SFOLD 94X92 NAT 1P': 'TOWEL SFOLD 9.4X9.2 NAT 1P'}, {'LID PLAS SLOT F/12-24 OZ C': 'LID PLAS SLOT F/12-24 OZ CUP'}, {'HTMKI PLATE ROUND 1 CMPNT FIBER 9': 'PLATE ROUND 1 CMPNT FIBER 9'}]\n",
            "366\n"
          ]
        },
        {
          "output_type": "stream",
          "name": "stderr",
          "text": [
            "Processing Batches: 100%|██████████| 1/1 [00:00<00:00,  1.91it/s]\n"
          ]
        },
        {
          "output_type": "stream",
          "name": "stdout",
          "text": [
            "[{'BACON LAYFLAT C/C': 'BACON LAYFLAT C/C 18/22 SMK GF'}, {'BACON LAYFLAT 14/18': 'BACON LAYFLAT 14/18 APPL GF'}, {'TOPPING PIZZA HAM': 'TOPPING PIZZA HAM QTR WA 12/OZ'}]\n",
            "367\n"
          ]
        },
        {
          "output_type": "stream",
          "name": "stderr",
          "text": [
            "Processing Batches: 100%|██████████| 1/1 [00:00<00:00,  1.63it/s]\n"
          ]
        },
        {
          "output_type": "stream",
          "name": "stdout",
          "text": [
            "[{'OLIVE OIL (6/1 GALLON)': 'OIL VEG /PURE OLIVE 90/10 BLND'}, {'JERSEY MIKES 25% BLEND (6/1 GALLON)': 'OIL OLIVE BLEND'}, {'JERSEY MIKES RED WINE VINEGAR (4/1': 'VINEGAR RED WINE'}]\n",
            "368\n"
          ]
        },
        {
          "output_type": "stream",
          "name": "stderr",
          "text": [
            "Processing Batches: 100%|██████████| 1/1 [00:00<00:00,  3.97it/s]\n"
          ]
        },
        {
          "output_type": "stream",
          "name": "stdout",
          "text": [
            "[{'2/5# Sharp White Cheddar': 'CHEESE CHEDDAR SHARP WHT'}, {'2/5# Marble Pepper Jack': 'CHEESE MARBLE PPR JACK'}]\n",
            "369\n"
          ]
        },
        {
          "output_type": "stream",
          "name": "stderr",
          "text": [
            "Processing Batches: 100%|██████████| 1/1 [00:00<00:00,  1.86it/s]\n"
          ]
        },
        {
          "output_type": "stream",
          "name": "stdout",
          "text": [
            "[{'WAY SCL CKN FC HOLD BNLS C 2-5 LB': 'CHICKEN WING BNLS CRISPY PCK'}, {'DDF DIY THE REVERSE 1-52 OZ': 'DOUGH COOKIE REESES REVERSE'}, {'DDF DIY BROWN SUGAR BASE 1-52 OZ': 'COOKIE SUGAR BROWN'}]\n",
            "370\n"
          ]
        },
        {
          "output_type": "stream",
          "name": "stderr",
          "text": [
            "Processing Batches: 100%|██████████| 1/1 [00:03<00:00,  3.25s/it]\n"
          ]
        },
        {
          "output_type": "stream",
          "name": "stdout",
          "text": [
            "[{'20Z PT 24LS FANTA ORG': 'SODA ORANGE'}, {'12Z CN 24P COKE': 'SODA COCA COLA CLS'}, {'12Z CN 24P DR PEP NKO': 'SODA DR PEPPER SUITCASE'}, {'12Z CN 24P DT COKE': 'SODA COKE DIET'}, {'12Z CN 24P PB SPRITE': 'SODA SPRITE CANS'}, {'20Z PT 24LS SMTWTR': 'WATER BTLD SMARTWATER'}, {'20Z PT 24LS COKE': 'SODA COKE CLS CONTOUR TRAY PK'}, {'20Z PT 24LS DT COKE': 'SODA COKE DIET CLS CONT TRAY P'}]\n",
            "371\n"
          ]
        },
        {
          "output_type": "stream",
          "name": "stderr",
          "text": [
            "Processing Batches: 100%|██████████| 1/1 [00:00<00:00,  2.63it/s]\n"
          ]
        },
        {
          "output_type": "stream",
          "name": "stdout",
          "text": [
            "[{'FRI LITE (35 LB DP)': 'SHORTENING FRY LIQ CLR CANOLA'}, {'OLIVE OIL (6/1 GALLON)': 'OIL VEG /PURE OLIVE 90/10 BLND'}]\n",
            "372\n"
          ]
        },
        {
          "output_type": "stream",
          "name": "stderr",
          "text": [
            "Processing Batches: 100%|██████████| 1/1 [00:01<00:00,  1.06s/it]\n"
          ]
        },
        {
          "output_type": "stream",
          "name": "stdout",
          "text": [
            "[{'HC Plus Apple Juice Cups 96/4oz': 'JUICE APPLE SHELF STABLE'}, {'HC Plus 15% Cranberry Juice Cups': 'JUICE CRANBERRY 15% SS CUP'}, {'HC Plus Grape Juice Cups 96/4oz': 'JUICE GRAPE SHELF STABLE'}, {'HC Plus Orange Juice Cups 96/4oz': 'JUICE ORANGE STABLE'}]\n",
            "373\n"
          ]
        },
        {
          "output_type": "stream",
          "name": "stderr",
          "text": [
            "Processing Batches: 100%|██████████| 1/1 [00:00<00:00,  2.48it/s]\n"
          ]
        },
        {
          "output_type": "stream",
          "name": "stdout",
          "text": [
            "[{'CAKE CREPE CHOCHZLNT 11LYR SL': 'CAKE CREPE CHOC HZLNT 11LYR SL'}, {'CAKE CREPE VANILLA11 LYR SL': 'CAKE CREPE VANILLA 11 LYR SL'}]\n",
            "374\n"
          ]
        },
        {
          "output_type": "stream",
          "name": "stderr",
          "text": [
            "Processing Batches: 100%|██████████| 1/1 [00:00<00:00,  2.81it/s]\n"
          ]
        },
        {
          "output_type": "stream",
          "name": "stdout",
          "text": [
            "[{'BOMBAY BRAND VINDALOO': 'SAUCE CURRY VINDALOO'}, {'BIRYANI PASTE 6X8 OZ': 'SPICE BIRYANI PASTE'}]\n",
            "375\n"
          ]
        },
        {
          "output_type": "stream",
          "name": "stderr",
          "text": [
            "Processing Batches: 100%|██████████| 1/1 [00:00<00:00,  3.03it/s]\n"
          ]
        },
        {
          "output_type": "stream",
          "name": "stdout",
          "text": [
            "[{'11 CPK PIZZA BOX TILE': 'BOX PIZZA 11IN DP CPK TILE'}, {'8 CPK PIZZA BOX TILE': 'BOX PIZZA 8IN CPK TILE'}]\n",
            "376\n"
          ]
        },
        {
          "output_type": "stream",
          "name": "stderr",
          "text": [
            "Processing Batches: 100%|██████████| 1/1 [00:00<00:00,  2.27it/s]\n"
          ]
        },
        {
          "output_type": "stream",
          "name": "stdout",
          "text": [
            "[{'10 ORIGIN PIZZA KK B 1 7/8 BK90 R74': 'BOX PIZZA B-FLT K/K LOGO'}, {'12 ORIGIN PIZZA KK B 1 7/8 BK90 R74': 'BOX PIZZA B-FLT K/K LOGO'}]\n",
            "377\n"
          ]
        },
        {
          "output_type": "stream",
          "name": "stderr",
          "text": [
            "Processing Batches: 100%|██████████| 1/1 [00:00<00:00,  2.70it/s]\n"
          ]
        },
        {
          "output_type": "stream",
          "name": "stdout",
          "text": [
            "[{'COD - FILLET 12/24 oz ICELANDIC': 'COD FIL MKT FRESH'}, {'SALMON - FILLET 3-4 FAROE': 'SALMON FIL FAROE ISLD 3-4'}]\n",
            "378\n"
          ]
        },
        {
          "output_type": "stream",
          "name": "stderr",
          "text": [
            "Processing Batches: 100%|██████████| 1/1 [00:00<00:00,  2.67it/s]\n"
          ]
        },
        {
          "output_type": "stream",
          "name": "stdout",
          "text": [
            "[{'COD - LOINS ICELANDIC Wild Caught': 'COD LOIN FRSH ICELAND'}, {'HADDOCK - PF FILLET LARGE SKINLESS': 'HADDOCK FIL 14-UP REFRESH'}]\n",
            "379\n"
          ]
        },
        {
          "output_type": "stream",
          "name": "stderr",
          "text": [
            "Processing Batches: 100%|██████████| 1/1 [00:00<00:00,  2.67it/s]\n"
          ]
        },
        {
          "output_type": "stream",
          "name": "stdout",
          "text": [
            "[{'COD - FILLET 12/24 oz ICELANDIC Wild': 'COD FIL MKT FRESH'}, {'25 LB PLASTIC BASE + LID': 'CONTAINER FOOD FISH TUBS'}]\n",
            "380\n"
          ]
        },
        {
          "output_type": "stream",
          "name": "stderr",
          "text": [
            "Processing Batches: 100%|██████████| 1/1 [00:00<00:00,  2.68it/s]\n"
          ]
        },
        {
          "output_type": "stream",
          "name": "stdout",
          "text": [
            "[{'BOMBAY BRAND CURRY SAUCE 2': 'SAUCE CURRY'}, {'BOMBAY BRAND VINDALOO CURRY': 'SAUCE CURRY VINDALOO'}]\n",
            "381\n"
          ]
        },
        {
          "output_type": "stream",
          "name": "stderr",
          "text": [
            "Processing Batches: 100%|██████████| 1/1 [00:00<00:00,  2.38it/s]\n"
          ]
        },
        {
          "output_type": "stream",
          "name": "stdout",
          "text": [
            "[{'HADDOCK - PF FILLET LARGE SKINLESS': 'HADDOCK FIL NOR 8-12 SKLS/BNLS'}, {'FLATHEAD - PF LARGE MIX SOLE FILLET': 'FLOUNDER FILET 4-6 OZ FRESH'}]\n",
            "382\n"
          ]
        },
        {
          "output_type": "stream",
          "name": "stderr",
          "text": [
            "Processing Batches: 100%|██████████| 4/4 [00:14<00:00,  3.66s/it]\n"
          ]
        },
        {
          "output_type": "stream",
          "name": "stdout",
          "text": [
            "[{'BEEF SIRLN BALLTIP V4 GRNDRND': 'BEEF SIRL BALLTIP FAJMN GRR'}, {'BEEF SIRLN TIPS 15 X 15 FR': 'BEEF SIRLOIN TIPS GR\\\\RN'}, {'LAMB RIB CHOP LOLLIPOP BV N/Z': 'LAMB CHOP LOLLIPOP BULK'}, {'PORK CHOP FRNCH SING-BN WMF 10 OZ': 'PORK CHOP RIB FRNCH CC FRSH'}, {'PORK DICED 1/4X1/4 85 FRSH': 'PORK DICED 1\\\\4X1\\\\4 85% FRSH'}, {'PORK RIB COUNTRY STYLE BNLS 4 OZ': 'PORK SPARE RIB BNLS CTRY STY'}, {'STK TENDER FILET BARREL CH 8OZ OZ': 'STEAK FILET BRL CH'}, {'STK TENDER BIN CH 14OZ': 'STEAK FILET B\\\\I CH'}, {'CAB STK PORTERHOUSE 1/4TL NV B 22Z': 'STEAK PORTER 1\\\\2TL N\\\\V'}, {'RIBEYE BNLS 1TL BCH PRF 8OZ INE': 'STEAK RIBEYE BNLS 1 TL BCH PRF'}, {'STK RIBEYE BNLS 1TL PRM 16OZ Z': 'STEAK RIBEYE BNLS 1TL PR'}, {'CAB STK RIBEYE BIN FRCH LNGBN': 'STEAK RIBEYE B\\\\I FRNCH LNGBN'}, {'TOP BUTT BBC FAT-OFF BCH PRF 8OZ': 'STEAK SIRL TOP BSBALL BCH PRF'}, {'STEAK RIBEYE BNLS 1TL CH 6PC': 'STEAK RIBEYE BNLS 1TL CH'}, {'CAB CHUCK FLAP MEAT REBOX 10#': 'BEEF CHUCK FLAP MEAT'}]\n",
            "383\n"
          ]
        },
        {
          "output_type": "stream",
          "name": "stderr",
          "text": [
            "Processing Batches: 100%|██████████| 1/1 [00:01<00:00,  1.81s/it]\n"
          ]
        },
        {
          "output_type": "stream",
          "name": "stdout",
          "text": [
            "[{'HC Plus Diet Cranberry Juice Cups 96/4oz': 'JUICE CRANBERRY DIET'}, {'HC Plus Orange Juice Cups 96/4oz': 'JUICE ORANGE STABLE'}, {'HC Plus Grape Juice Cups 96/4oz': 'JUICE GRAPE SHELF STABLE'}, {'HC Plus 15% Cranberry Juice Cups 96/4oz': 'JUICE CRANBERRY 15% SS CUP'}, {'HC Plus Prune Juice Cups 96/4oz': 'JUICE PRUNE 100% SHELF STABLE'}]\n",
            "384\n"
          ]
        },
        {
          "output_type": "stream",
          "name": "stderr",
          "text": [
            "Processing Batches: 100%|██████████| 1/1 [00:00<00:00,  1.31it/s]\n"
          ]
        },
        {
          "output_type": "stream",
          "name": "stdout",
          "text": [
            "[{'Fresh Crabmeat': 'CRAB ROCK FRSH'}, {'Haddock Fillet': 'HADDOCK FIL FRSH 4-8OZ'}, {'125 Lobsters': 'LOBSTER LIVE 1.25 LB (QTR)'}, {'Scallops U-10': 'SCALLOP SEA U-10 FRSH'}]\n",
            "385\n"
          ]
        },
        {
          "output_type": "stream",
          "name": "stderr",
          "text": [
            "Processing Batches: 100%|██████████| 1/1 [00:01<00:00,  1.15s/it]\n"
          ]
        },
        {
          "output_type": "stream",
          "name": "stdout",
          "text": [
            "[{'HC Plus Apple Juice Cups 96/4oz': 'JUICE APPLE SHELF STABLE'}, {'HC Plus 15% Cranberry Juice Cups': 'JUICE CRANBERRY 15% SS CUP'}, {'HC Plus Grape Juice Cups 96/4oz': 'JUICE GRAPE SHELF STABLE'}, {'HC Plus Orange Juice Cups 96/4oz': 'JUICE ORANGE STABLE'}, {'HC Plus Prune Juice Cups 96/4oz': 'JUICE PRUNE 100% SHELF STABLE'}]\n",
            "386\n"
          ]
        },
        {
          "output_type": "stream",
          "name": "stderr",
          "text": [
            "Processing Batches: 100%|██████████| 1/1 [00:00<00:00,  1.25it/s]\n"
          ]
        },
        {
          "output_type": "stream",
          "name": "stdout",
          "text": [
            "[{'HC Plus Diet Cranberry Juice Cups 96/4oz': 'JUICE CRANBERRY DIET'}, {'HC Plus Orange Juice Cups 96/4oz': 'JUICE ORANGE STABLE'}, {'HC Plus Apple Juice Cups 96/4oz': 'JUICE APPLE SHELF STABLE'}, {'HC Plus 15% Cranberry Juice Cups 96/4oz': 'JUICE CRANBERRY 15% SS CUP'}]\n",
            "387\n"
          ]
        },
        {
          "output_type": "stream",
          "name": "stderr",
          "text": [
            "Processing Batches: 100%|██████████| 1/1 [00:01<00:00,  1.04s/it]\n"
          ]
        },
        {
          "output_type": "stream",
          "name": "stdout",
          "text": [
            "[{'AB Apple Juice Aseptic Liters 12/32 oz': 'JUICE APPLE ASEPTIC'}, {'HC Plus Apple Juice Cups 96/4oz': 'JUICE APPLE SHELF STABLE'}, {'HC Plus Grape Juice Cups 96/4oz': 'JUICE GRAPE SHELF STABLE'}, {'AB Orange Juice Aseptic Liters 12/32 oz': 'JUICE ORANGE ASEPTIC'}, {'HC Plus Orange Juice Cups 96/4oz': 'JUICE ORANGE STABLE'}]\n",
            "388\n"
          ]
        },
        {
          "output_type": "stream",
          "name": "stderr",
          "text": [
            "Processing Batches: 100%|██████████| 1/1 [00:00<00:00,  2.00it/s]\n"
          ]
        },
        {
          "output_type": "stream",
          "name": "stdout",
          "text": [
            "[{'HC Plus Orange Juice Cups 96/4oz': 'JUICE ORANGE STABLE'}, {'HC Plus Apple Juice Cups 96/4oz': 'JUICE APPLE SHELF STABLE'}, {'HC Plus 15% Cranberry Juice Cups 96/4oz': 'JUICE CRANBERRY 15% SS CUP'}]\n",
            "389\n"
          ]
        },
        {
          "output_type": "stream",
          "name": "stderr",
          "text": [
            "Processing Batches: 100%|██████████| 1/1 [00:00<00:00,  1.28it/s]\n"
          ]
        },
        {
          "output_type": "stream",
          "name": "stdout",
          "text": [
            "[{'HC Plus Orange Juice Cups 96/4oz': 'JUICE ORANGE STABLE'}, {'HC Plus Apple Juice Cups 96/4oz': 'JUICE APPLE SHELF STABLE'}, {'HC Plus 15% Cranberry Juice Cups 96/4oz': 'JUICE CRANBERRY 15% SS CUP'}, {'HC Plus Prune Juice Cups 96/4oz': 'JUICE PRUNE 100% SHELF STABLE'}]\n",
            "390\n"
          ]
        },
        {
          "output_type": "stream",
          "name": "stderr",
          "text": [
            "Processing Batches: 100%|██████████| 1/1 [00:00<00:00,  4.08it/s]\n"
          ]
        },
        {
          "output_type": "stream",
          "name": "stdout",
          "text": [
            "[{'COOKIE SNDW OREO': 'COOKIE SNDW OREO MINI'}, {'COOKIE MINI CHIPS': 'COOKIE MINI CHIPS AHOY'}]\n",
            "391\n"
          ]
        },
        {
          "output_type": "stream",
          "name": "stderr",
          "text": [
            "Processing Batches: 100%|██████████| 2/2 [00:06<00:00,  3.41s/it]\n"
          ]
        },
        {
          "output_type": "stream",
          "name": "stdout",
          "text": [
            "[{'BRANZINO BFLY 8-10 OZ': 'BASS SEA BFLY BRANZINO 8-10 OZ'}, {'HALIBUT FIL 3/8# S/LESS': 'HALIBUT FIL SKLS 3-8LB'}, {'HALIBUT H&G 10-20#': 'HALIBUT WHL FRSH 10-20#'}, {'HAMACHI FIL S/ON': 'HAMACHI FILET S/ON YELLOWTAIL'}, {'LOBSTER LIVE 125-15#': 'LOBSTER LIVE 1.25-1.5LB (QTRS)'}, {'OYSTER IN SHELL BBQ': 'OYSTER INSHELL BBQ SHELL XLG'}, {'OYSTER EASTERN INSHELL': 'OYSTER INSHELL BLUEPOINT'}, {'SALMON ATL PRTN SKNLS': 'SALMON ATL PRTN CC SKNLS 8OZ'}, {'SEABASS FLT CHILEAN S/L': 'SEABASS FIL CHILEAN SKLS PHF'}, {'SOLE DOVER FIL 2-4OZ': 'SOLE FIL DOVER 2/4 OZ SKLS FRS'}, {'TUNA AHI #1 C/C LOIN': 'TUNA LOIN #1 C/C SKLS BLO'}]\n",
            "392\n"
          ]
        },
        {
          "output_type": "stream",
          "name": "stderr",
          "text": [
            "Processing Batches: 100%|██████████| 1/1 [00:00<00:00,  2.83it/s]\n"
          ]
        },
        {
          "output_type": "stream",
          "name": "stdout",
          "text": [
            "[{'4 / 3 lb Romaine': 'LETTUCE ROMAINE CRUNCH REVOL'}, {'12 ct Butterhead': 'LETTUCE BIBB HYDRO BULK REVOL'}]\n",
            "393\n"
          ]
        },
        {
          "output_type": "stream",
          "name": "stderr",
          "text": [
            "Processing Batches: 100%|██████████| 1/1 [00:01<00:00,  1.28s/it]\n"
          ]
        },
        {
          "output_type": "stream",
          "name": "stdout",
          "text": [
            "[{'CANDY SOUR PUNCHSTRAWBERRY': 'CANDY SOUR PUNCH STRAWBERRY'}, {'CRACKER CHEEZITSORIG SNACK': 'CRACKER CHEEZITS ORIG SNACK'}, {'COOKIE SANDWICHOREO 24 OZ': 'COOKIE SANDWICH OREO 2.4 OZ'}, {'BEAN CHILI STYLE': 'BEAN CHILI STYLE'}]\n",
            "394\n"
          ]
        },
        {
          "output_type": "stream",
          "name": "stderr",
          "text": [
            "Processing Batches: 100%|██████████| 1/1 [00:00<00:00,  3.23it/s]\n"
          ]
        },
        {
          "output_type": "stream",
          "name": "stdout",
          "text": [
            "[{'CHOCOLATE CHIPWHITE': 'CHOCOLATE CHIP WHITE'}, {'BUTTERSCOTCH CHIP': 'BUTTERSCOTCH CHIP'}]\n",
            "395\n"
          ]
        },
        {
          "output_type": "stream",
          "name": "stderr",
          "text": [
            "Processing Batches: 100%|██████████| 1/1 [00:00<00:00,  1.47it/s]\n"
          ]
        },
        {
          "output_type": "stream",
          "name": "stdout",
          "text": [
            "[{'SALMON FIL 3/4#': 'SALMON ATL FIL D SKON 3-4# CAN'}, {'SALMON PRTN': 'SALMON ATL FIL DTRIM WISC'}, {'SALMON FIL U3': 'SALMON ATL FIL D-TRIM 2-3# CHL'}]\n",
            "396\n"
          ]
        },
        {
          "output_type": "stream",
          "name": "stderr",
          "text": [
            "Processing Batches: 100%|██████████| 1/1 [00:01<00:00,  1.23s/it]\n"
          ]
        },
        {
          "output_type": "stream",
          "name": "stdout",
          "text": [
            "[{'3 lb Spring Mix': 'LETTUCE SPRING MIX'}, {'3 lb Romaine Crunch': 'LETTUCE ROMAINE LEAF CRUNCH'}, {'4 / 3 lb Romaine Crunch': 'LETTUCE ROMAINE LEAF CRUN REV'}, {'12 ct Butterhead Lettuce': 'LETTUCE BIBB HYDRO BULK REVOL'}]\n",
            "397\n"
          ]
        },
        {
          "output_type": "stream",
          "name": "stderr",
          "text": [
            "Processing Batches: 100%|██████████| 1/1 [00:04<00:00,  4.44s/it]\n"
          ]
        },
        {
          "output_type": "stream",
          "name": "stdout",
          "text": [
            "[{'AREZIMP CHEESE MOZZ FRSHWHLFIMP EGG HARDCOOKED': 'CHEESE MOZZ FRSH LOG CRYO'}, {'CHEESE CHDR YEL MILD': 'CHEESE CHDR YEL MILD FEA SHRD'}, {'LaALP&DEL CHEESE CHEDDARGROUPFROZEN': 'CHEESE CHEDDAR SHARP SLICE WHT'}, {'LB DONPNCH CHIP TORTILLAGROUPCANNED & DRY': 'CHIP TORTILLA CORN YEL PRCT'}, {'SYS CLS MUSTARD YELLOW': 'MUSTARD YELLOW PRPD'}, {'BBRLCLS PICKLE DILL CHIP': 'PICKLE DILL CHIP KK 2235/2545'}, {'BBRLCLS PICKLE DILL SLI KOGROUPPAPER & DISP': 'PICKLE DILL SLI KO 1/4 KK 1650'}, {'KRISPY aAG FOIL BLUE CHKN': 'BAG FOIL BLUE CHKN SNDW KRISPY'}]\n",
            "398\n"
          ]
        },
        {
          "output_type": "stream",
          "name": "stderr",
          "text": [
            "Processing Batches: 100%|██████████| 1/1 [00:00<00:00,  4.24it/s]\n"
          ]
        },
        {
          "output_type": "stream",
          "name": "stdout",
          "text": [
            "[{'BEAN CANNELLINI': 'BEAN CANNELLINI'}, {'TOPPING NUT MIX': 'TOPPING NUT MIX W/PEANUT'}]\n",
            "399\n"
          ]
        },
        {
          "output_type": "stream",
          "name": "stderr",
          "text": [
            "Processing Batches: 100%|██████████| 1/1 [00:00<00:00,  3.79it/s]\n"
          ]
        },
        {
          "output_type": "stream",
          "name": "stdout",
          "text": [
            "[{'SYSCO 12 WK CORE 450': 'BOX PIZZA LOGO W/K CORE450 12'}, {'SYSCO 18 WK CORE 450': 'BOX PIZZA LOGO W/K CORE450 18'}]\n",
            "400\n"
          ]
        },
        {
          "output_type": "stream",
          "name": "stderr",
          "text": [
            "Processing Batches: 100%|██████████| 1/1 [00:00<00:00,  3.70it/s]\n"
          ]
        },
        {
          "output_type": "stream",
          "name": "stdout",
          "text": [
            "[{'HALIBUT FILLET CHALKY': 'HALIBUT FIL ALSKN CHALKY'}, {'MUSSELS BANGS ISLAND MAINE': 'MUSSEL FRESH BANG ISLD 217'}]\n",
            "401\n"
          ]
        },
        {
          "output_type": "stream",
          "name": "stderr",
          "text": [
            "Processing Batches: 100%|██████████| 1/1 [00:00<00:00,  1.08it/s]\n"
          ]
        },
        {
          "output_type": "stream",
          "name": "stdout",
          "text": [
            "[{'SOLE 6OZ FILLET HOLLAND IQF': 'SOLE DOVER HOLLAND IQF 6 OZ'}, {'TROUT 7-9OZ PBO HDLS RAINBOWIDAHO': 'TROUT FILET PBO 8 OZ'}, {'HYBRID STRIPED BASS': 'BASS STRIPED HYBRID FIL SK-ON'}, {'SABLEFISH 6OZ PORT': 'COD FIL BLACK PRTN 6 OZ SKON'}]\n",
            "402\n"
          ]
        },
        {
          "output_type": "stream",
          "name": "stderr",
          "text": [
            "Processing Batches: 100%|██████████| 1/1 [00:00<00:00,  1.94it/s]\n"
          ]
        },
        {
          "output_type": "stream",
          "name": "stdout",
          "text": [
            "[{'SALMON FILLET 3-4# D-TRIM': 'SALMON ATL FIL DTRIM CAN 3-4#'}, {'PEI MUSSELS 10# BAG': 'MUSSEL FRESH BLK PEI'}, {'SALMON FILLET 2-4# D-TRIM': 'SALMON ATL CHILEAN DTRIM 3-4LB'}]\n",
            "403\n"
          ]
        },
        {
          "output_type": "stream",
          "name": "stderr",
          "text": [
            "Processing Batches: 100%|██████████| 1/1 [00:00<00:00,  3.23it/s]\n"
          ]
        },
        {
          "output_type": "stream",
          "name": "stdout",
          "text": [
            "[{'LOBSTER RAW MAINE BODIES': 'LOBSTER BODIES FROZEN'}, {'SALMON PORT 6OZ BNLS SKLS': 'SALMON ATL FIL PRTN SKOFF BBRG'}]\n",
            "404\n"
          ]
        },
        {
          "output_type": "stream",
          "name": "stderr",
          "text": [
            "Processing Batches: 100%|██████████| 2/2 [00:03<00:00,  1.97s/it]\n"
          ]
        },
        {
          "output_type": "stream",
          "name": "stdout",
          "text": [
            "[{'NR RIBEYE LIPON-1PC': 'BEEF RIBEYE LIPON N\\\\R IMP'}, {'CLASSIC BALL TIP 6 OZ': 'STEAK SIRL BALLTIP HERF'}, {'CLASSIC NY STRIP CC': 'STEAK STRIP C\\\\C 1TL BSO HERF'}, {'CLASSIC SIRLOIN 8': 'STEAK SIRL TOP C\\\\C 1\\\\4 HERF'}, {'CLASSIC SIRLOIN 6': 'STEAK SIRL TOP C\\\\C 1\\\\4 HERF'}, {'RESERVE SIRLOIN TOP': 'STEAK SIRL TOP BSBALL SKND RSV'}, {'RESERVE SIRLOIN TOP': 'STEAK SIRL TOP 2\\\\3CUT SKND RSV'}, {'RESERVE RIBYE BNLS': 'STEAK RIBEYE BNLS 1TL RSV'}, {'RESERVE RIBEYE BNLS': 'STEAK RIBEYE BNLS 1TL RSV'}]\n",
            "405\n"
          ]
        },
        {
          "output_type": "stream",
          "name": "stderr",
          "text": [
            "Processing Batches: 100%|██████████| 1/1 [00:00<00:00,  1.40it/s]\n"
          ]
        },
        {
          "output_type": "stream",
          "name": "stdout",
          "text": [
            "[{'MANDA 10# ANDOUILLE': 'SAUSAGE ANDOUILLE BULK'}, {'MANDA 10# BULK SLICED': 'SAUSAGE SMOKED SLICED COIN CUT'}, {'SOUTHERN STYLE 10#': 'SAUSAGE SMOKED SOUTHERN STYLE'}]\n",
            "406\n"
          ]
        },
        {
          "output_type": "stream",
          "name": "stderr",
          "text": [
            "Processing Batches: 100%|██████████| 1/1 [00:00<00:00,  3.05it/s]\n"
          ]
        },
        {
          "output_type": "stream",
          "name": "stdout",
          "text": [
            "[{'MR T 10# MILD SAUSAGE': 'SAUSAGE ROPE MILD'}, {'MANDA 10# HRI MILD SAUSAGE': 'SAUSAGE SMOKED'}]\n",
            "407\n"
          ]
        },
        {
          "output_type": "stream",
          "name": "stderr",
          "text": [
            "Processing Batches: 100%|██████████| 1/1 [00:00<00:00,  1.81it/s]\n"
          ]
        },
        {
          "output_type": "stream",
          "name": "stdout",
          "text": [
            "[{'Jersey Mikes Mini White Sub60': 'ROLL MINI WHT SUB'}, {'Jersey Mikes Wheat Sub': 'ROLL WHEAT SUB'}, {'Jersey Mikes White Sub1': 'ROLL WHITE SUB'}]\n",
            "408\n"
          ]
        },
        {
          "output_type": "stream",
          "name": "stderr",
          "text": [
            "Processing Batches: 100%|██████████| 1/1 [00:00<00:00,  2.09it/s]\n"
          ]
        },
        {
          "output_type": "stream",
          "name": "stdout",
          "text": [
            "[{'Jersey Mikes Mini White Sub': 'ROLL MINI WHT SUB'}, {'Jersey Mikes Wheat Sub': 'ROLL WHEAT SUB'}, {'Jersey Mikes White Sub': 'ROLL WHITE SUB'}]\n",
            "409\n"
          ]
        },
        {
          "output_type": "stream",
          "name": "stderr",
          "text": [
            "Processing Batches: 100%|██████████| 1/1 [00:00<00:00,  2.19it/s]\n"
          ]
        },
        {
          "output_type": "stream",
          "name": "stdout",
          "text": [
            "[{'Jersey Mikes Mini': 'ROLL MINI WHT SUB'}, {'Jersey Mikes Wheat': 'ROLL WHEAT SUB'}, {'Jersey Mikes White': 'ROLL WHITE SUB'}]\n",
            "410\n"
          ]
        },
        {
          "output_type": "stream",
          "name": "stderr",
          "text": [
            "Processing Batches: 100%|██████████| 1/1 [00:00<00:00,  1.94it/s]\n"
          ]
        },
        {
          "output_type": "stream",
          "name": "stdout",
          "text": [
            "[{'Jersey Mikes Mini White Sub60': 'ROLL MINI WHT SUB'}, {'Jersey Mikes Wheat Sub': 'ROLL WHEAT SUB'}, {'Jersey Mikes White Sub1': 'ROLL WHITE SUB'}]\n",
            "411\n"
          ]
        },
        {
          "output_type": "stream",
          "name": "stderr",
          "text": [
            "Processing Batches: 100%|██████████| 1/1 [00:00<00:00,  1.20it/s]\n"
          ]
        },
        {
          "output_type": "stream",
          "name": "stdout",
          "text": [
            "[{'Jersey Mikes Mini Wheat Sub': 'ROLL MINI WHEAT SUB'}, {'Mikes Mini White Sub': 'ROLL MINI WHT SUB'}, {'Jersey Mikes Wheat Sub': 'ROLL WHEAT SUB'}, {'Jersey Mikes White Sub': 'ROLL WHITE SUB'}]\n",
            "412\n"
          ]
        },
        {
          "output_type": "stream",
          "name": "stderr",
          "text": [
            "Processing Batches: 100%|██████████| 1/1 [00:00<00:00,  1.13it/s]\n"
          ]
        },
        {
          "output_type": "stream",
          "name": "stdout",
          "text": [
            "[{'Jersey Mikes Mini Wheat Sub': 'ROLL MINI WHEAT SUB'}, {'Jersey Mikes Mini White Sub': 'ROLL MINI WHT SUB'}, {'Jersey Mikes Wheat Sub': 'ROLL WHEAT SUB'}, {'Jersey Mikes White Sub': 'ROLL WHITE SUB'}]\n",
            "413\n"
          ]
        },
        {
          "output_type": "stream",
          "name": "stderr",
          "text": [
            "Processing Batches: 100%|██████████| 1/1 [00:00<00:00,  2.89it/s]\n"
          ]
        },
        {
          "output_type": "stream",
          "name": "stdout",
          "text": [
            "[{'Frozen Coconut': 'CALAMARI T&T COCONUT DUSTED'}, {'Frozen Floured': 'CALAMARI RING & TENT FLR DSTD'}]\n",
            "414\n"
          ]
        },
        {
          "output_type": "stream",
          "name": "stderr",
          "text": [
            "Processing Batches: 100%|██████████| 1/1 [00:01<00:00,  1.34s/it]\n"
          ]
        },
        {
          "output_type": "stream",
          "name": "stdout",
          "text": [
            "[{'Raw beef short rib bnls': 'BEEF BRAISING MIX RAW'}, {'**20 each 8 oz per case': 'BEEF GROUND PTY'}, {'**78/22 2/10 lbs': 'BEEF GROUND 78/22'}, {'Medures kabob 2 x 2': 'BEEF STEAK FIL KABOB 2X2'}, {'Beef tender tips/Rolands 10/1 lb': 'BEEF TENDER TIPS 1 1/2 X 2'}]\n",
            "415\n"
          ]
        },
        {
          "output_type": "stream",
          "name": "stderr",
          "text": [
            "Processing Batches: 100%|██████████| 1/1 [00:00<00:00,  1.05it/s]\n"
          ]
        },
        {
          "output_type": "stream",
          "name": "stdout",
          "text": [
            "[{'Yamamotoyama Nori Sheets 50Ct': 'SEAWEED NORI GREEN'}, {'FROZEN / REF Longevity Brand Lo Mein Noodles 6x5#': 'NOODLE EGG FRSH LO MEIN'}, {'House To Fu Organic Firm 12x12oz': 'TOFU FIRM ORGANIC'}, {'FROZEN TYI Springroll Skin 40x25 Pcs 12oz': 'SPRING ROLL WRPR'}]\n",
            "416\n"
          ]
        },
        {
          "output_type": "stream",
          "name": "stderr",
          "text": [
            "Processing Batches: 100%|██████████| 6/6 [00:18<00:00,  3.07s/it]\n"
          ]
        },
        {
          "output_type": "stream",
          "name": "stdout",
          "text": [
            "[{'STK TOP BUTT CAB CC': 'STEAK SIRLOIN C\\\\C L\\\\RG'}, {'STK TOP BUTT CAB CC': 'STEAK SIRLOIN C\\\\C L\\\\RG'}, {'RPK TENDER PSMO CH': 'BEEF TENDER PSMO ANGUS'}, {'i STK TOP BUTT CAB CC': 'STEAK SIRLOIN C\\\\C L\\\\RG'}, {'STK TOP BUTT CAB CC': 'STEAK SIRLOIN C\\\\C L\\\\RG'}, {'RPK TENDER PSMO CH': 'BEEF TENDER PSMO ANGUS'}, {'BF SHORT RIB 1/4959 949': 'BEEF SHORT RIB 1\\\\4 KOREAN STY'}, {'PK CHOP TOMAHAWK FRNCH': 'PORK CHOP B\\\\I FRCHD LNGBN'}, {'STK SKIRT OUTSIDE CAB': 'STEAK SKIRT OUTSDE NDSTM'}, {'STK TENDER EE SEL 9Z': 'STEAK FILET E\\\\E SEL LRG\\\\CH'}, {'STK TOP BUTT CAB CC1965 1970': 'STEAK SIRLOIN C\\\\C L\\\\RG'}, {'STK TENDER BW SEL 6Z488 483': 'STEAK FILET BCNWR SEL L\\\\RG'}, {'RPK TOP ROUND CAB NORD2720 2360': 'BEEF TOP INSIDE ROUND NDSTM'}, {'STK BALL TIP CH 1THK': 'BEEF BALL TIP STEAK 1 THK CH'}, {'STK RIB TOMHWK RSV': 'STEAK RIBEYE B\\\\I LNGBN FR RSV'}, {'STK RIBEYE BI 1TL PR1108 1113 1108': 'STEAK RIBEYE B\\\\I 1 TL PR'}, {'RPK TENDER PSMO CH593 603': 'BEEF TENDER PSMO ANGUS'}, {'BF RIB WHL CH DN CHRT': 'BEEF RIBEYE LIPON CH L\\\\RG'}]\n",
            "417\n"
          ]
        },
        {
          "output_type": "stream",
          "name": "stderr",
          "text": [
            "Processing Batches: 100%|██████████| 1/1 [00:00<00:00,  1.80it/s]\n"
          ]
        },
        {
          "output_type": "stream",
          "name": "stdout",
          "text": [
            "[{'Napkin Band Burgundy 15 x 425- SYSCO': 'BAND NAPKIN PAPR 1.5X4.25 BURG'}, {'Napkin Band White 15 x 425- SYSCO': 'BAND NAPKIN PAPR 1.5X4.25 WHT'}, {'Napkin Band Hunter Green 15 x 425- SYSCO': 'BAND NAPKIN 1.5X4.25 HTR GREEN'}]\n",
            "418\n"
          ]
        },
        {
          "output_type": "stream",
          "name": "stderr",
          "text": [
            "Processing Batches: 100%|██████████| 7/7 [00:23<00:00,  3.38s/it]\n"
          ]
        },
        {
          "output_type": "stream",
          "name": "stdout",
          "text": [
            "[{'BEEF CHUCK ZABUTON GOLD': 'BEEF CHUCK ZABUTON AMWAGYU GLD'}, {'BEEF FAT TALLOW WAGYU': 'BEEF FAT TALLOW KOBE-SHI'}, {'CAB PECTORAL STIR FRY LTD': 'BEEF PECTORAL STIR FRY FZN LTD'}, {'BEEF SHORT RIB 3-BONE REG CH': 'BEEF SHORT RIB PRTN'}, {'CAB BF SIRLOIN CULOTTE': 'BEEF SIRLOIN CULOTTE MUSCL CAB'}, {'BEEF FOR STEW 98LN 1/4X1/4': 'BEEF STEW 1\\\\4 FRSH'}, {'BEEF TENDER PTR BCH PRF 2PC': 'BEEF TENDER PSMO BCH PRF'}, {'CAB BEEF TOP SIRL BUTT scle': 'BEEF TOP SIRL BUTT CC NO COUL'}, {'PORK CHOP CC LOIN ONLY WMF': 'PORK CHOP B/I CC LOIN'}, {'CAB STK TENDER FILET CC': 'STEAK FILET C\\\\C'}, {'STK PETITE TNDR FILET CC CH': 'STEAK FILET C\\\\C CH BBRG'}, {'STK FLANK CH 8OZ': 'STEAK FLANK PRTN CUT CH'}, {'STK STRIP CC 0TL ST-OFF CH': 'STEAK STRIP C\\\\C 0TL BSOCH BBRG'}, {'BEEF TENDER PTR BCH PRF 2PC': 'BEEF TENDER PSMO BCH PRF'}, {'BEEF TENDER BCH PRF 4PC': 'BEEF TENDER PSMO BCH PRF'}, {'STEAK CHUCK FLAT IRON CH FRZ': 'STEAK CHUCK FLAT IRON FRZN'}, {'STK CHUCK FLAT IRON CH': 'STEAK CHUCK FLAT IRON FRZN'}, {'CH STEAK STRIP CC 1TL BR 10OZ': 'STEAK STRIP C\\\\C 1TL CH B\\\\R'}, {'BEEF SHORT RIB 3-BONE': 'BEEF SHORT RIB PRTN'}, {'CAB STEAK RIBEYE BNLS 1TL': 'STEAK RIBEYE BNLS 1TL'}]\n",
            "419\n"
          ]
        },
        {
          "output_type": "stream",
          "name": "stderr",
          "text": [
            "Processing Batches: 100%|██████████| 1/1 [00:03<00:00,  3.78s/it]\n"
          ]
        },
        {
          "output_type": "stream",
          "name": "stdout",
          "text": [
            "[{'AZ FRESH PORK CHORIZO': 'SAUSAGE CHORIZO PORK'}, {'AZ FRESH MILD ITALIAN': 'SAUSAGE PORK MLD ITAL BULK'}, {'AZ FRESH C/S BREAKFAST': 'SAUSAGE BKFST CNTRY STYLE BULK'}, {'AZ FRESH 8/1 C/S BREAKFAST': 'SAUSAGE LINK BREAKFAST PORK'}, {'AZ FRESH 8/1 CHKN JALAPENO': 'CHICKEN SAUS JALAP & CHEDDAR'}, {'THIN SLICED CHICKEN BULK': 'CHICKEN BRST SLICED'}, {'3/1 PORK JALAPENO &': 'BRATWURST 3X1 PORK JAL CHED'}]\n",
            "420\n"
          ]
        },
        {
          "output_type": "stream",
          "name": "stderr",
          "text": [
            "Processing Batches: 100%|██████████| 1/1 [00:00<00:00,  1.36it/s]\n"
          ]
        },
        {
          "output_type": "stream",
          "name": "stdout",
          "text": [
            "[{'HC Plus Orange Juice Cups 96/4oz': 'JUICE ORANGE STABLE'}, {'HC Plus Apple Juice Cups 96/4oz': 'JUICE APPLE SHELF STABLE'}, {'HC Plus 15% Cranberry Juice Cups 96/4oz': 'JUICE CRANBERRY 15% SS CUP'}]\n",
            "421\n"
          ]
        },
        {
          "output_type": "stream",
          "name": "stderr",
          "text": [
            "Processing Batches: 100%|██████████| 1/1 [00:00<00:00,  1.40it/s]\n"
          ]
        },
        {
          "output_type": "stream",
          "name": "stdout",
          "text": [
            "[{'HC Plus Orange Juice Cups 96/4oz': 'JUICE ORANGE STABLE'}, {'HC Plus Apple Juice Cups 96/4oz': 'JUICE APPLE SHELF STABLE'}, {'HC Plus 15% Cranberry Juice Cups 96/4oz': 'JUICE CRANBERRY 15% SS CUP'}]\n",
            "422\n"
          ]
        },
        {
          "output_type": "stream",
          "name": "stderr",
          "text": [
            "Processing Batches: 100%|██████████| 2/2 [00:03<00:00,  1.78s/it]\n"
          ]
        },
        {
          "output_type": "stream",
          "name": "stdout",
          "text": [
            "[{'HC Plus Orange Juice Cups 96/4oz': 'JUICE ORANGE STABLE'}, {'HC Plus Grape Juice Cups 96/4oz': 'JUICE GRAPE 100% SHELF STABLE'}, {'AB Orange Juice Aseptic Liters': 'JUICE ORANGE ASEPTIC'}, {'AB Cranberry Juice Aseptic': 'JUICE CRANBERRY ASEPTIC'}, {'HC Plus Apple Juice Cups 96/4oz': 'JUICE APPLE SHELF STABLE'}, {'AB Apple Juice Aseptic Liters 12/32 oz': 'JUICE APPLE ASEPTIC'}, {'HC Plus 15% Cranberry Juice Cups 96/4oz': 'JUICE CRANBERRY 15% SS CUP'}, {'HC Plus Prune Juice Cups 96/4oz': 'JUICE PRUNE 100% SHELF STABLE'}, {'AB Grape Juice Aseptic Liters 12/32 oz': 'JUICE GRAPE SHELF STABLE'}]\n",
            "423\n"
          ]
        },
        {
          "output_type": "stream",
          "name": "stderr",
          "text": [
            "Processing Batches: 100%|██████████| 1/1 [00:01<00:00,  1.21s/it]\n"
          ]
        },
        {
          "output_type": "stream",
          "name": "stdout",
          "text": [
            "[{'AB Orange Juice': 'JUICE ORANGE ASEPTIC'}, {'AB Cranberry Juice': 'JUICE CRANBERRY ASEPTIC'}, {'HC Plus Apple': 'JUICE APPLE SHELF STABLE'}, {'AB Apple Juice': 'JUICE APPLE ASEPTIC'}, {'HC Plus 15%': 'JUICE CRANBERRY 15% SS CUP'}, {'HC Plus Prune': 'JUICE PRUNE 100% SHELF STABLE'}]\n",
            "424\n"
          ]
        },
        {
          "output_type": "stream",
          "name": "stderr",
          "text": [
            "Processing Batches: 100%|██████████| 1/1 [00:02<00:00,  2.14s/it]\n"
          ]
        },
        {
          "output_type": "stream",
          "name": "stdout",
          "text": [
            "[{'SOLE 6OZ FILLET HOLLAND IQF': 'SOLE DOVER HOLLAND IQF 6 OZ'}, {'SHRIMP U8-12 TIGER': 'SHRIMP TGR P&D 8/12CT TAIL/ON'}, {'TUNA AHI POKE CUBE 2CM': 'TUNA AHI POKE CUBE 2CM'}, {'SALMON 10-12# HD/ON ATLANTIC': 'SALMON ATL WHL 10-12'}, {'SCALLOP U-10 SEA NATURAL DRY': 'SCALLOP SEA FRSH U/10 DRY'}, {'CLAM 100 CT LITTLENECK': 'CLAM LITTLENECK'}]\n",
            "425\n"
          ]
        },
        {
          "output_type": "stream",
          "name": "stderr",
          "text": [
            "Processing Batches: 100%|██████████| 1/1 [00:01<00:00,  1.27s/it]\n"
          ]
        },
        {
          "output_type": "stream",
          "name": "stdout",
          "text": [
            "[{'SMKD TROUT DT 8OZ': 'TROUT SMOKED FRESH'}, {'FILLET 3-4# D-TRIM': 'SALMON ATL FIL DTRIM CAN 3-4#'}, {'SALMON SKUNAGOLD RIVER': 'SALMON FIL FRSH 3/4 SKUNA BAY'}, {'MUSSELS 10# BAG': 'MUSSEL FRESH BLK PEI'}, {'SALMON FILLET 2-4# D-TRIM': 'SALMON ATL CHILEAN DTRIM 3-4LB'}]\n",
            "426\n"
          ]
        },
        {
          "output_type": "stream",
          "name": "stderr",
          "text": [
            "Processing Batches: 100%|██████████| 1/1 [00:01<00:00,  1.42s/it]\n"
          ]
        },
        {
          "output_type": "stream",
          "name": "stdout",
          "text": [
            "[{'BRANZINO BFLY 8-10 OZ': 'BASS SEA BFLY BRANZINO 8-10 OZ'}, {'HALIBUT FIL 3/8# S/LESS': 'HALIBUT FIL SKLS 3-8LB'}, {'SALMON ATL FLT 2-3#S/ON D': 'SALMON ATL FIL D-TRIM 2-3# CHL'}, {'SALMON ATL FLT 3-4#S/L E': 'SALMON ATL FIL E-TRIM 3-4# CHL'}, {'SALMON ATLANTIC PIECES/TRIM': 'SALMON PIECES TRIM'}]\n",
            "427\n"
          ]
        },
        {
          "output_type": "stream",
          "name": "stderr",
          "text": [
            "Processing Batches: 100%|██████████| 3/3 [00:09<00:00,  3.06s/it]\n"
          ]
        },
        {
          "output_type": "stream",
          "name": "stdout",
          "text": [
            "[{'GROUPER FILET RED SKIN ON': 'GROUPER RED FIL SK/ON SCALED'}, {'MAHI MAHI PRTN SKNLS PRTN': 'MAHI MAHI PRTN SKIN OFF'}, {'SALMON FIL E TRIM 2-3#': 'SALMON FIL E TRIM 2-3#TMG'}, {'SALMON FILET PRTN CENTR': 'SALMON PRTN C\\\\C'}, {'SALMON FIL 3/4# DTRIM CAN': 'SALMON ATL FIL D SKON 3-4# CAN'}, {'SALMON FIL CHILE 3/4LB': 'SALMON ATL FIL D-TRIM 3-4# CHL'}, {'HALIBUT FILET SKIN ON': 'HALIBUT FILET SKIN ON'}, {'SALMON FILET PRTN SK-OFF': 'SALMON PRTN SKIN OFF'}, {'SALMN FLET CANADIAN 1/3-zt#': 'SALMON FILET CANADN'}, {'SALMON PORTION REG': 'SALMON PORTION STR CUT 7OZ'}, {'SALMON SIDE ORIG SMOKED': 'SALMON SIDE ORIG SMK'}, {'SALMN FLET CANADIAN 1/3-4#': 'SALMON FILET CANADN'}]\n",
            "428\n"
          ]
        },
        {
          "output_type": "stream",
          "name": "stderr",
          "text": [
            "Processing Batches: 100%|██████████| 1/1 [00:00<00:00,  3.18it/s]\n"
          ]
        },
        {
          "output_type": "stream",
          "name": "stdout",
          "text": [
            "[{'LOBSTR MT SLIPPER 1-3OZ (5#)': 'LOBSTER MEAT SLIPPER 1-3 OZ'}, {'SALMON FIL 2/3 CHLE DTRIM': 'SALMON ATL FIL D-TRIM 2-3# CHL'}]\n",
            "429\n"
          ]
        },
        {
          "output_type": "stream",
          "name": "stderr",
          "text": [
            "Processing Batches: 100%|██████████| 1/1 [00:00<00:00,  1.77it/s]\n"
          ]
        },
        {
          "output_type": "stream",
          "name": "stdout",
          "text": [
            "[{'Non Produce MCA Box Ind Catering 100 CT 100 ct': 'BOX PAPER CATERING INDIVIDUAL'}, {'Non Produce MCAL LRGE C-Out 19 x 375 500 ct': 'BAG PLAS LARGE C OUT 19X3.75'}, {'Non Produce Straw 1025in Giant Red New MCA 4/500 ct': 'STRAW PLAS RED GNT 10.25 WRAPD'}]\n",
            "430\n"
          ]
        },
        {
          "output_type": "stream",
          "name": "stderr",
          "text": [
            "Processing Batches: 100%|██████████| 1/1 [00:03<00:00,  3.09s/it]\n"
          ]
        },
        {
          "output_type": "stream",
          "name": "stdout",
          "text": [
            "[{'Pork Ground Raw': 'PORK GROUND RAW'}, {'Pork Shank Osso Bucco': 'PORK SHANK OSSO BUCCO 3IN GAP'}, {'Pork Belly Skin Off': 'PORK BELLY S/O'}, {'Pork Loin Rack 11 Rib Chine-Off': 'PORK LOIN RACK  11RIB CHN-OFF'}, {'Pork Loin Boneless Center Cut': 'PORK LOIN BNLS CC'}, {'Pork Butt Bone In Boxed 1x4 Inch': 'PORK BUTT BI BXD 1X4'}, {'Pork Butt Boneless 1x4': 'PORK BUTT BNLS 1X4 GAP'}, {'Pork Jowl Guanciale': 'PORK JOWL SKLS'}]\n",
            "431\n"
          ]
        },
        {
          "output_type": "stream",
          "name": "stderr",
          "text": [
            "Processing Batches: 100%|██████████| 1/1 [00:02<00:00,  2.41s/it]\n"
          ]
        },
        {
          "output_type": "stream",
          "name": "stdout",
          "text": [
            "[{'CORN 5IN WHITE TAQUERIA TORTILLA': 'TORTILLA CORN 5IN'}, {'CORN 6IN WHITE THICK TORTILLA': 'TORTILLA CORN WHT 6IN'}, {'FLOUR 125IN ESPECIAL TORTILLA - BF': 'TORTILLA FLOUR 12.5 IN'}, {'FLOUR 6IN ESPECIAL TORTILLA': 'TORTILLA FLOUR ESPL 6IN'}, {'FLOUR 14IN GIGANTE TORTILLA': 'TORTILLA FLOUR PRSSD 14IN'}, {'FLOUR 10IN BURRITO TORTILLA': 'TORTILLA FLOUR PRSSD 10IN'}, {'CORN 6-CUT WHITE THIN PRE-CUT - BF': 'TORTILLA CORN WHITE 6 CUT'}]\n",
            "432\n"
          ]
        },
        {
          "output_type": "stream",
          "name": "stderr",
          "text": [
            "Processing Batches: 100%|██████████| 1/1 [00:00<00:00,  2.08it/s]\n"
          ]
        },
        {
          "output_type": "stream",
          "name": "stdout",
          "text": [
            "[{'Tea Iced Osprey 32/4': 'TEA ICED OSPREY'}, {'Coffee Bean Euro Hi Rst 4/2': 'COFFEE BEAN EURO HI RST'}, {'Coffee Bean Espresso': 'COFFEE BEAN ESPRESO VITTORIA'}]\n",
            "433\n"
          ]
        },
        {
          "output_type": "stream",
          "name": "stderr",
          "text": [
            "Processing Batches: 100%|██████████| 1/1 [00:00<00:00,  3.26it/s]\n"
          ]
        },
        {
          "output_type": "stream",
          "name": "stdout",
          "text": [
            "[{'GARI SUSHI WHITE 20#': 'GINGER PICKLED WHT SLI TOKUSEN'}, {'SHRIMP RAW STRETCH 20CT TRAY': 'SHRIMP RAW STRETCH 20CT/TRAY'}]\n",
            "434\n"
          ]
        },
        {
          "output_type": "stream",
          "name": "stderr",
          "text": [
            "Processing Batches: 100%|██████████| 2/2 [00:06<00:00,  3.38s/it]\n"
          ]
        },
        {
          "output_type": "stream",
          "name": "stdout",
          "text": [
            "[{'EGGROLL SKIN 7X7': 'EGGROLL SKIN 7X7'}, {'NOODLE LO MEIN RAW': 'NOODLE EGG LO MEIN'}, {'SHRIMP WHT HOSO 30/40 LAT': 'SHRIMP WHT HOSO 30/40 LAT'}, {'RICE BASMATI INDIA': 'RICE BASMATI'}, {'STARCH POTATO': 'STARCH POTATO'}, {'FORTUNE COOKIES SINGLE WRAP': 'COOKIE FORTUNE WRPD'}, {'GINGER PKLD SUSHI WHT PREMIUM': 'GINGER PICKLED WHT SUSHI'}, {'SPICE WASABI POWDER': 'SPICE WASABI PWDR'}, {'RICE LONG GRAIN 4%': 'RICE LONG GRAIN 4% LUCKY COIN'}, {'WATER CHESTNUT SLICED': 'CHESTNUT WATER SLI'}]\n",
            "435\n"
          ]
        },
        {
          "output_type": "stream",
          "name": "stderr",
          "text": [
            "Processing Batches: 100%|██████████| 3/3 [00:07<00:00,  2.65s/it]\n"
          ]
        },
        {
          "output_type": "stream",
          "name": "stdout",
          "text": [
            "[{'JOFFREY TEA ICED PREM BLND W/FILTER': 'TEA ICED PREM BLND W/FILTER'}, {'MLSAN PEL WATER SPRKLG IMP MINERAL GLS': 'WATER SPRKLG IMP MINERAL GLS'}, {'ALMINORSAUCE TERIYAKI': 'SAUCE TERIYAKI'}, {'OZPDQCWATER BOTTLED LOGO': 'WATER BOTTLED LOGO'}, {'BLSMO': 'SPICE ONION GRANULATED IMPORT'}, {'ERTHPLS CONTAINER PAPER #2 TK O': 'CONTAINER PAPER #2 TK OUT KRFT'}, {'STRBUCK CUP PAPER HOT': 'CUP PAPER HOT 16OZ'}, {'WORLD  SPOON TEA DOMINION HVY WT': 'SPOON TEA DOMINION HVY WT'}, {'RICHCHK CHICKEN BNLS WING BRD': 'CHICKEN BNLS WING BRD WG'}, {'CHSECAK CHEESECAKE STWBRY WILD & CRM': 'CHEESECAKE STWBRY WILD & CRM'}, {'TAMP MD APTZR PICKLE FRIES DIPT': 'APTZR PICKLE FRIES DIPT N DUST'}, {'SYS IMP APTZR FRANK PUFF PASTRY': 'APTZR FRANK PUFF PASTRY'}]\n",
            "436\n"
          ]
        },
        {
          "output_type": "stream",
          "name": "stderr",
          "text": [
            "Processing Batches: 100%|██████████| 2/2 [00:09<00:00,  4.57s/it]\n"
          ]
        },
        {
          "output_type": "stream",
          "name": "stdout",
          "text": [
            "[{'JOFFREY TEA ICED PREM BLND W/FILTER': 'TEA ICED PREM BLND W/FILTER'}, {'MLSAN PEL WATER SPRKLG IMP MINERAL GLS': 'WATER SPRKLG IMP MINERAL GLS'}, {'GALMINOR SAUCE TERIYAKI': 'SAUCE TERIYAKI'}, {'OZPDQC 1 WATER BOTTLED LOGO': 'WATER BOTTLED LOGO'}, {'BLSMO V SPICE ONION GRANULATED IMPORT': 'SPICE ONION GRANULATED IMPORT'}, {'STRBUCK CUP PAPER HOT': 'CUP PAPER HOT 16OZ'}, {'WORLD SPOON TEA DOMINION HVY WT': 'SPOON TEA DOMINION HVY WT'}, {'STRBUCK COFFEE GRND DECAF PKS PLAC': 'COFFEE GRND DECAF PKS PLACE US'}, {'CHSECAK CHEESECAKE STWBRY WILD & CRM': 'CHEESECAKE STWBRY WILD & CRM'}, {'TAMP MD APTZR PICKLE FRIES DIPT': 'APTZR PICKLE FRIES DIPT N DUST'}, {'SYS-IMP-APTZR-FRANK-PUFF--PASTRY': 'APTZR FRANK PUFF PASTRY'}]\n",
            "437\n"
          ]
        },
        {
          "output_type": "stream",
          "name": "stderr",
          "text": [
            "Processing Batches: 100%|██████████| 1/1 [00:01<00:00,  1.53s/it]\n"
          ]
        },
        {
          "output_type": "stream",
          "name": "stdout",
          "text": [
            "[{'SPREAD CHOCOLATE HZLNT': 'SPREAD CHOCOLATE HZLNT PC'}, {'ASST DESSERT DESNR': 'SAUCE ASST DESSERT DESNR TOPPG'}, {'SPICE CINNAMON GRND': 'SPICE CINNAMON GRND'}, {'JUICE ORANGE 100% ASEPT': 'JUICE ORANGE 100% ASEPTIC'}, {'TEA GREEN JASMINE ORGAN': 'TEA GREEN JASMINE ORGANIC'}, {'SPICE ONION POWDER IMPORT': 'SPICE ONION POWDER IMPORTED'}]\n",
            "438\n"
          ]
        },
        {
          "output_type": "stream",
          "name": "stderr",
          "text": [
            "Processing Batches: 100%|██████████| 1/1 [00:04<00:00,  4.05s/it]\n"
          ]
        },
        {
          "output_type": "stream",
          "name": "stdout",
          "text": [
            "[{'SYS CLS CHICKEN WING BNLS BRD GLDN': 'CHICKEN WING BNLS BRD GLDN PCK'}, {'ZEGGOWAFFLE MINI MAPLE': 'WAFFLE MINI MAPLE'}, {'FURLANI BREAD GARLIC TEXAS TOAS': 'BREAD GARLIC TEXAS TOAST'}, {'SYS CLS CUP PLAS CLR TALL 8OZ RIGI': 'CUP PLAS CLR TALL 8OZ RIGID'}, {'JERSMIK CONTAINER FIBER SUB IN TUB32C-NPFAJ': 'CONTAINER FIBER SUB IN TUB CMB'}, {'CTREGAL C CUP COLD': 'CUP COLD 44 OZ'}, {'ECOLAB CLEANER EQUIP BEV TABS': 'CLEANER EQUIP BEV TABS'}, {'EACH SYSCO': 'THERMOMETER FRZR REFR -40-80F'}]\n",
            "439\n"
          ]
        },
        {
          "output_type": "stream",
          "name": "stderr",
          "text": [
            "Processing Batches: 100%|██████████| 2/2 [00:03<00:00,  1.52s/it]\n"
          ]
        },
        {
          "output_type": "stream",
          "name": "stdout",
          "text": [
            "[{'DOUGH COOKIE CHOC': 'DOUGH COOKIE CHOC CHUNK'}, {'DOUGH COOKIE M&MS': 'DOUGH COOKIE M&MS CHOC CHIP'}, {'DOUGH COOKIE': 'DOUGH COOKIE SNICKERDOODLE'}, {'BROWNIE CHOC CHIP': 'BROWNIE CHOC CHIP GLUTEN FREE'}, {'BROWNIE CHOC CHIP': 'BROWNIE CHOC CHIP GLUTEN FREE'}, {'BROWNIE CHOC CHIP': 'BROWNIE CHOC CHIP GLUTEN FREE'}, {'BROWNIE CHOC CHIP': 'BROWNIE CHOC CHIP GLUTEN FREE'}, {'BROWNIE CHOC CHIP': 'BROWNIE CHOC CHIP GLUTEN FREE'}, {'BROWNIE': 'BROWNIE CHEESECAKE PRE-CUT'}]\n",
            "440\n"
          ]
        },
        {
          "output_type": "stream",
          "name": "stderr",
          "text": [
            "Processing Batches: 100%|██████████| 1/1 [00:00<00:00,  4.58it/s]\n"
          ]
        },
        {
          "output_type": "stream",
          "name": "stdout",
          "text": [
            "[{'DDD DIY DIRTY': 'BOX COOKIE 4CT BLUE CSTM'}, {'DDD DIY DIRTY': 'BOX COOKIE SINGLE BLUE CSTM'}]\n",
            "441\n"
          ]
        },
        {
          "output_type": "stream",
          "name": "stderr",
          "text": [
            "Processing Batches: 100%|██████████| 1/1 [00:00<00:00,  3.62it/s]\n"
          ]
        },
        {
          "output_type": "stream",
          "name": "stdout",
          "text": [
            "[{'SUBWAY RED WINE VINEGAR (1/200': 'VINEGAR RED WINE PKT'}, {'SUBWAY 10% OLIVE OIL BLEND (1/200': 'OIL OLIVE EX VIRG BLEND PAC'}]\n",
            "442\n"
          ]
        },
        {
          "output_type": "stream",
          "name": "stderr",
          "text": [
            "Processing Batches: 100%|██████████| 1/1 [00:02<00:00,  2.64s/it]\n"
          ]
        },
        {
          "output_type": "stream",
          "name": "stdout",
          "text": [
            "[{'12Z CN 24P COKE': 'SODA COCA COLA CLS'}, {'20Z PT 24LS COKE': 'SODA COKE CLS CONTOUR TRAY PK'}, {'20Z PT 24LS DT COKE': 'SODA COKE DIET CLS CONT TRAY P'}, {'20Z PT 24LS BARQS RTBR': 'SODA ROOT BEER  PET LOOSE'}, {'12Z CN 24P PB SPRITE': 'SODA SPRITE CANS'}, {'20Z PT 24LS DAS': 'WATER BOTTLED PET LOOSE DASANI'}, {'20Z PT 24LS SMTWTR': 'WATER BTLD SMARTWATER'}]\n",
            "443\n"
          ]
        },
        {
          "output_type": "stream",
          "name": "stderr",
          "text": [
            "Processing Batches: 100%|██████████| 1/1 [00:01<00:00,  1.08s/it]\n"
          ]
        },
        {
          "output_type": "stream",
          "name": "stdout",
          "text": [
            "[{'20Z PT 24LS COKE_CLUB': 'SODA COKE CLS CONTOUR TRAY PK'}, {'20Z PT 24LS DT COKE_CLUB': 'SODA COKE DIET CLS CONT TRAY P'}, {'12Z CN 24P PB SPRITE': 'SODA SPRITE CANS'}, {'20Z PT 24LS SMTWTR': 'WATER BTLD SMARTWATER'}]\n",
            "444\n"
          ]
        },
        {
          "output_type": "stream",
          "name": "stderr",
          "text": [
            "Processing Batches: 100%|██████████| 1/1 [00:02<00:00,  2.15s/it]\n"
          ]
        },
        {
          "output_type": "stream",
          "name": "stdout",
          "text": [
            "[{'12Z CN 24P COKE': 'SODA COCA COLA CLS'}, {'20Z PT 24LS COKE': 'SODA COKE CLS CONTOUR TRAY PK'}, {'12Z CN 24P DT COKE': 'SODA COKE DIET'}, {'12Z CN 24P PB SPRITE': 'SODA SPRITE CANS'}, {'20Z PT 24LS DAS': 'WATER BOTTLED PET LOOSE DASANI'}, {'20Z PT 24LS SMTWTR': 'WATER BTLD SMARTWATER'}]\n",
            "445\n"
          ]
        },
        {
          "output_type": "stream",
          "name": "stderr",
          "text": [
            "Processing Batches: 100%|██████████| 1/1 [00:00<00:00,  2.57it/s]\n"
          ]
        },
        {
          "output_type": "stream",
          "name": "stdout",
          "text": [
            "[{'COD - FILLET 12/24 oz ICELANDIC Wild': 'COD FIL MKT FRESH'}, {'SALMON - FILLET 3-4 FAROE ISLAND': 'SALMON FIL FAROE ISLD 3-4'}]\n",
            "446\n"
          ]
        },
        {
          "output_type": "stream",
          "name": "stderr",
          "text": [
            "Processing Batches: 100%|██████████| 1/1 [00:00<00:00,  2.53it/s]\n"
          ]
        },
        {
          "output_type": "stream",
          "name": "stdout",
          "text": [
            "[{'HADDOCK - FILLET 10/12 oz SKIN ON Wild': 'HADDOCK FIL SK-ON 10-12Z FRESH'}, {'HADDOCK - PF FILLET 8/10 oz SKIN ON': 'HADDOCK FIL SK-ON 8-10OZ PF'}]\n",
            "447\n"
          ]
        },
        {
          "output_type": "stream",
          "name": "stderr",
          "text": [
            "Processing Batches: 100%|██████████| 1/1 [00:00<00:00,  2.86it/s]\n"
          ]
        },
        {
          "output_type": "stream",
          "name": "stdout",
          "text": [
            "[{'DMS-12 SCHLOTZSKYS 12 OZ PAPER COLD CUP': 'CUP PAPER 12OZ'}, {'Non Produce Hot Sauce Packet Schlotz 500 ct': 'SAUCE HOT PACKET'}]\n",
            "448\n"
          ]
        },
        {
          "output_type": "stream",
          "name": "stderr",
          "text": [
            "Processing Batches: 100%|██████████| 1/1 [00:00<00:00,  3.64it/s]\n"
          ]
        },
        {
          "output_type": "stream",
          "name": "stdout",
          "text": [
            "[{'MCA Box Ind Catering 2024 100 CT 100 ct': 'BOX PAPER CATERING INDIVIDUAL'}, {'Non Produce MCAL LRGE C-Out 19 x 375 500 ct': 'BAG PLAS LARGE C OUT 19X3.75'}]\n",
            "449\n"
          ]
        },
        {
          "output_type": "stream",
          "name": "stderr",
          "text": [
            "Processing Batches: 100%|██████████| 1/1 [00:00<00:00,  1.80it/s]\n"
          ]
        },
        {
          "output_type": "stream",
          "name": "stdout",
          "text": [
            "[{'Container Paper Logo 16oz 20/25 ct': 'CONTAINER PAPER FOOD 16Z LOGO'}, {'MCA Box Ind Catering 2024 100 CT 100 ct': 'BOX PAPER CATERING INDIVIDUAL'}, {'Non Produce MCAL LRGE C-Out 19 x 375 500 ct': 'BAG PLAS LARGE C OUT 19X3.75'}]\n",
            "450\n"
          ]
        },
        {
          "output_type": "stream",
          "name": "stderr",
          "text": [
            "Processing Batches: 100%|██████████| 1/1 [00:01<00:00,  1.67s/it]\n"
          ]
        },
        {
          "output_type": "stream",
          "name": "stdout",
          "text": [
            "[{'AB Apple Juice Aseptic Liters 12/32 oz': 'JUICE APPLE ASEPTIC'}, {'HC Plus Apple Juice Cups 96/4oz': 'JUICE APPLE SHELF STABLE'}, {'HC Plus 15% Cranberry Juice Cups 96/4oz': 'JUICE CRANBERRY 15% SS CUP'}, {'AB Orange Juice Aseptic Liters 12/32 oz': 'JUICE ORANGE ASEPTIC'}, {'HC Plus Orange Juice Cups 96/4oz': 'JUICE ORANGE STABLE'}, {'HC Plus Prune Juice Cups 96/4oz': 'JUICE PRUNE 100% SHELF STABLE'}]\n",
            "451\n"
          ]
        },
        {
          "output_type": "stream",
          "name": "stderr",
          "text": [
            "Processing Batches: 100%|██████████| 1/1 [00:01<00:00,  1.68s/it]\n"
          ]
        },
        {
          "output_type": "stream",
          "name": "stdout",
          "text": [
            "[{'AB Apple Juice Aseptic Liters 12/32 oz': 'JUICE APPLE ASEPTIC'}, {'HC Plus Apple Juice Cups 96/4oz': 'JUICE APPLE SHELF STABLE'}, {'AB Cranberry Juice Aseptic Liters 12/32 oz': 'JUICE CRANBERRY ASEPTIC'}, {'HC Plus 15% Cranberry Juice Cups 96/4oz': 'JUICE CRANBERRY 15% SS CUP'}, {'AB Orange Juice Aseptic Liters 12/32 oz': 'JUICE ORANGE ASEPTIC'}, {'AB Prune Juice Aseptic Liters 12/32 oz': 'JUICE PRUNE SHELF STABLE'}]\n",
            "452\n"
          ]
        },
        {
          "output_type": "stream",
          "name": "stderr",
          "text": [
            "Processing Batches: 100%|██████████| 1/1 [00:00<00:00,  1.75it/s]\n"
          ]
        },
        {
          "output_type": "stream",
          "name": "stdout",
          "text": [
            "[{'Jersey Mikes Mini Wheat Sub': 'ROLL MINI WHEAT SUB'}, {'Jersey': 'ROLL MINI WHT SUB'}, {'Jersey Mikes Wheat Sub': 'ROLL WHEAT SUB'}, {'Jersey Mikes White Sub': 'ROLL WHITE SUB'}]\n",
            "453\n"
          ]
        },
        {
          "output_type": "stream",
          "name": "stderr",
          "text": [
            "Processing Batches: 100%|██████████| 1/1 [00:00<00:00,  2.94it/s]\n"
          ]
        },
        {
          "output_type": "stream",
          "name": "stdout",
          "text": [
            "[{'Jersey Mikes Mini White Sub': 'ROLL MINI WHT SUB'}, {'Jersey Mikes Wheat Sub': 'ROLL WHEAT SUB'}, {'Jersey Mikes White Sub': 'ROLL WHITE SUB'}]\n",
            "454\n"
          ]
        },
        {
          "output_type": "stream",
          "name": "stderr",
          "text": [
            "Processing Batches: 100%|██████████| 1/1 [00:00<00:00,  1.70it/s]\n"
          ]
        },
        {
          "output_type": "stream",
          "name": "stdout",
          "text": [
            "[{'Jersey Mikes Mini Wheat Sub': 'ROLL MINI WHEAT SUB'}, {'Jersey Mikes Mini White Sub': 'ROLL MINI WHT SUB'}, {'Jersey Mikes Wheat Sub': 'ROLL WHEAT SUB'}, {'Jersey Mikes White Sub': 'ROLL WHITE SUB'}]\n",
            "455\n"
          ]
        },
        {
          "output_type": "stream",
          "name": "stderr",
          "text": [
            "Processing Batches: 100%|██████████| 2/2 [00:04<00:00,  2.36s/it]\n"
          ]
        },
        {
          "output_type": "stream",
          "name": "stdout",
          "text": [
            "[{'4 oz Bison Patties (Natural) (12# Case)': 'BUFFALO GRND PTY 80/20 HMSTYLE'}, {'8 oz Bison Patties (Natural) (12# Case)': 'BUFFALO GRND PATTY 80/20 2X1'}, {'Bison Breakfast Sausage 4 oz Patty': 'BUFFALO RIB SHORT'}, {'53 oz Bison/Elk Patties (12# Case)': 'BUFFALO GRND ELK PTY 55/45'}, {'8 oz Bison/Elk Patties (12# Case)': 'BUFFALO GRND PTY W/ELK COMBO'}, {'Bison Whole Striploin': 'BISON STRIP NY CC'}, {'Bison Ground Burger 5# (2 Pack) (80/20)': 'BUFFALO GROUND BULK'}, {'53 oz Bison Patties (Natural) (12# Case) 1': 'BUFFALO GRND PTY HOMESTYLE'}, {'Bison Sirloin Cap 100%': 'BUFFALO WHL SIRLOIN CAP PLD'}]\n",
            "456\n"
          ]
        },
        {
          "output_type": "stream",
          "name": "stderr",
          "text": [
            "Processing Batches: 100%|██████████| 1/1 [00:01<00:00,  1.35s/it]\n"
          ]
        },
        {
          "output_type": "stream",
          "name": "stdout",
          "text": [
            "[{'Costa Rica Blend Ground Coffee 42/2oz Packs 525 lbs per': 'COFFEE GRND COSTA RICA BLEND'}, {'Argentine Organic Black Iced Tea Filter Packs / 30 per case /': 'TEA ICED BLACK FILTER POUCH'}, {'Passion Fruit Black Iced Tea 30/4oz Filter Bag 75 lb per': 'TEA BLK PASSIONFRUIT ICE 3OZ'}, {'Mexican Natural Whole Bean Coffee 2lbs Bags Net Wt 12': 'COFFEE BEAN WHOLE MEX ALT'}]\n",
            "457\n"
          ]
        },
        {
          "output_type": "stream",
          "name": "stderr",
          "text": [
            "Processing Batches: 100%|██████████| 3/3 [00:08<00:00,  2.98s/it]\n"
          ]
        },
        {
          "output_type": "stream",
          "name": "stdout",
          "text": [
            "[{'snapper 6-8 oz 10#': 'SNAPPER FIL 6-8 OZ IVP SURNAME'}, {'Tilapia Fillets 5-7 oz 10#': 'TILAPIA FILET BNLS 5-7 OZ'}, {'Chilean Seabass 7-9 oz 10#': 'SEABASS PRTN CHILEAN 7-9Z IQF'}, {'Pollock fillet 2-4 25#': 'POLLOCK FIL SKLS IQF 2-4 OZ AK'}, {'Cod loins 16/32 oz ATL 44 #': 'COD LOIN ATL BL/SL 16-32 OZ'}, {'Squid 5/8 Domestic R&T 50#': 'SQUID RING & TENT'}, {'POKE TUNA 10#': 'TUNA AHI POKE CUBED IVP'}, {'26/30 Shrimp 24#': 'SHRIMP GH 26/30 CT YE'}, {'Scallops 10/20 Mitch 50#BG Mussels 18/30 10# in shell': 'SCALLOP BLOCK DOMESTIC 10/20'}, {'ckd': 'MUSSEL WHL BLK CKD 18/30'}, {'King Crab 700- 900g 3968 lb': 'CRAB KING CLSTR 700-900G'}, {'Tilapia Fillets 3-5 oz 10#': 'TILAPIA FILET SKNLS 3-5OZ'}]\n",
            "458\n"
          ]
        },
        {
          "output_type": "stream",
          "name": "stderr",
          "text": [
            "Processing Batches: 100%|██████████| 3/3 [00:07<00:00,  2.44s/it]\n"
          ]
        },
        {
          "output_type": "stream",
          "name": "stdout",
          "text": [
            "[{'Salmon 7 oz 10#': 'SALMON FIL PRTN 7-8 OZ RAW IVP'}, {'Chilean Seabass 7-9 oz 10#': 'SEABASS PRTN CHILEAN 7-9Z IQF'}, {'Lobster Tails 4-5oz 10#': 'LOBSTER TAIL CANADN 4-5 OZ'}, {'21/25 White Shrimp 40#': 'SHRIMP WHT HDLS S/ON 21/25 RAW'}, {'Lobster Tails 5-6 oz 10#Canada': 'LOBSTER TAIL CANADN 5-6OZ RAW'}, {'21/25 Shrimp 24#': 'SHRIMP GH SHELL ON 21/25 CT'}, {'U-12 Shrimp DFDE mex 50#': 'SHRIMP WHT HDLS S/ON RAW U-12'}, {'ckl 12#': 'LOBSTER MEAT 12#'}, {'Squid tube 10 #': 'SQUID TUBE BLOCK'}, {'sablefish 10 lb 8 oz': 'COD FIL SABLEFISH PRTN 8 OZ'}, {'Squid 5/8 Domestic R&T 50#': 'SQUID RING & TENT'}, {'JCS coconut shri b/f 12#': 'SHRIMP BRD COCO BFLY 16/20'}]\n",
            "459\n"
          ]
        },
        {
          "output_type": "stream",
          "name": "stderr",
          "text": [
            "Processing Batches: 100%|██████████| 1/1 [00:04<00:00,  4.67s/it]\n"
          ]
        },
        {
          "output_type": "stream",
          "name": "stdout",
          "text": [
            "[{'Lobster Tails 4-5oz 10#': 'LOBSTER TAIL CANADN 4-5 OZ'}, {'Fried Mama bl': 'SHRIMP BRD FRIED MAMA BLUES'}, {'Salmon 7 oz 10# SG': 'SALMON PRTN 7 OZ 60 SOUTH SG'}, {'temp 160 ct': 'SHRIMP TEMPURA BTRD 160 CT'}, {'26/30 Shrimp 24#': 'SHRIMP GH 26/30 CT YE'}, {'JCS coconut shri b/f 12#': 'SHRIMP BRD COCO BFLY 16/20'}, {'fillet 2-4': 'POLLOCK FIL SKLS IQF 2-4 OZ AK'}, {'Squid 5/8 Domestic R&T 50#': 'SQUID RING & TENT'}]\n",
            "460\n"
          ]
        },
        {
          "output_type": "stream",
          "name": "stderr",
          "text": [
            "Processing Batches: 100%|██████████| 4/4 [00:11<00:00,  2.88s/it]\n"
          ]
        },
        {
          "output_type": "stream",
          "name": "stdout",
          "text": [
            "[{'Redfish 8-10 oz 10#': 'REDFISH FIL T/ON 8-10 OZ FRZN'}, {'Crawfish Tail Meat 150/200 24#': 'CRAWFISH MEAT TAIL 150/200 CHI'}, {'Lobster Tails 4 oz 10#': 'LOBSTER TAIL N ATL 4 OZ'}, {'U-12 Shrimp 24#King Crab UNDER 700 gram 28': 'SHRIMP WHT HDLS S/ON U-12 RAW'}, {'Tilapia Fillets 3-5 oz 10#': 'TILAPIA FILET SKNLS 3-5OZ'}, {'King Crab 700- 900g 3968 lb': 'CRAB KING CLSTR 700-900G'}, {'JCS coconut shri b/f 12#': 'SHRIMP BRD COCO BFLY 16/20'}, {'Snow Crab 5-8 oz 30#': 'CRAB SNOW CLSTR 5-8 OZ JCS'}, {'Clams Wh ckd 17/22 ct 20#': 'CLAM WHL CKD IN SHELL 17-22'}, {'Snapper fillets 8-10 oz 20#BG Mussels 18/30 10# in shell': 'SNAPPER FIL BNLS/SKLS 8-10 OZ'}, {'ckd': 'MUSSEL WHL BLK CKD 18/30'}, {'Dungeness Crab 25#': 'CRAB DUNGENES CLSTR CKD JCS'}, {'ckl 12#': 'LOBSTER MEAT 12#'}, {'26/30 Pink Shrimp 50#': 'SHRIMP GH USA DOM 26/30'}]\n",
            "461\n"
          ]
        },
        {
          "output_type": "stream",
          "name": "stderr",
          "text": [
            "Processing Batches: 100%|██████████| 2/2 [00:08<00:00,  4.09s/it]\n"
          ]
        },
        {
          "output_type": "stream",
          "name": "stdout",
          "text": [
            "[{'Redfish 6-8 oz 10#': 'REDFISH FIL RAW 6-8 OZ IVP'}, {'cod fillets 45# pacific': 'COD FILLET SKLS'}, {'Lobster Tails 4-5oz 10#': 'LOBSTER TAIL CANADN 4-5 OZ'}, {'16/20 gh 24#BG Mussels 18/30 10# in shell': 'SHRIMP WHT HDLS S/ON 16/20'}, {'ckd': 'MUSSEL WHL BLK CKD 18/30'}, {'21/25 Shrimp 30#': 'SHRIMP WHT GH BLOCK 21/25 MEX'}, {'26/30 Shrimp 24#': 'SHRIMP GH 26/30 CT YE'}, {'Crab Shells 3 oz': 'CRAB SHELL 800 CT 3 OZ'}, {'Pollock fillet 2-4 25#': 'POLLOCK FIL SKLS IQF 2-4 OZ AK'}, {'Salmon 7 oz 10# SG': 'SALMON PRTN 7 OZ 60 SOUTH SG'}, {'U-10 Shrimp catch 24#': 'SHRIMP BLK TGR T/ON S/ON U/10'}]\n",
            "462\n"
          ]
        },
        {
          "output_type": "stream",
          "name": "stderr",
          "text": [
            "Processing Batches: 100%|██████████| 1/1 [00:01<00:00,  1.83s/it]\n"
          ]
        },
        {
          "output_type": "stream",
          "name": "stdout",
          "text": [
            "[{'Pollock fillet 2-4 25#': 'POLLOCK FIL SKLS IQF 2-4 OZ AK'}, {'Fried Mama bl': 'SHRIMP BRD FRIED MAMA BLUES'}, {'Tilapia Fillets 3-5 oz 10#': 'TILAPIA FILET SKNLS 3-5OZ'}, {'Snow Crab 5-8 oz 30#': 'CRAB SNOW CLSTR 5-8 OZ JCS'}, {'16/20 Coconut Shrimp round': 'SHRIMP BRD COCO RND 16/20 CT'}, {'26/30 Shrimp 24#': 'SHRIMP GH 26/30 CT YE'}]\n",
            "463\n"
          ]
        },
        {
          "output_type": "stream",
          "name": "stderr",
          "text": [
            "Processing Batches: 100%|██████████| 1/1 [00:02<00:00,  2.51s/it]\n"
          ]
        },
        {
          "output_type": "stream",
          "name": "stdout",
          "text": [
            "[{'Flounder (small) 3-5 oz 10#': 'FLOUNDER FILET BL/SL 3-4 OZ'}, {'Mussels 18/30 10# in shell': 'MUSSEL WHL BLK CKD 18/30'}, {'BG Breaded Shrimp 9/45#': 'SHRIMP BRD FRIED MAMA BLUES'}, {'26/30 Pink Shrimp 50#': 'SHRIMP GH USA DOM 26/30'}, {'21/25 Shrimp 40#': 'SHRIMP WHT HDLS S/ON 21/25 RAW'}, {'Salmon 7 oz 10#': 'SALMON FIL PRTN 7-8 OZ RAW IVP'}, {'Tilapia Fillets 3-5 oz 10#': 'TILAPIA FILET SKNLS 3-5OZ'}]\n",
            "464\n"
          ]
        },
        {
          "output_type": "stream",
          "name": "stderr",
          "text": [
            "Processing Batches: 100%|██████████| 3/3 [00:13<00:00,  4.53s/it]\n"
          ]
        },
        {
          "output_type": "stream",
          "name": "stdout",
          "text": [
            "[{'Redfish 6-8 oz 10#': 'REDFISH FIL RAW 6-8 OZ IVP'}, {'cod fillets 45# pacific': 'COD FILLET SKLS'}, {'Chilean Seabass 7-9 oz 10#': 'SEABASS PRTN CHILEAN 7-9Z IQF'}, {'Snow queen 10 up rus 30 #BG Mussels 18/30 10# in shell': 'CRAB SNOW CLSTR 10/UP JCS'}, {'ckd': 'MUSSEL WHL BLK CKD 18/30'}, {'Scallops 10/20 LDY 10#': 'SCALLOP WHL 10/20'}, {'Squid 5/8 Domestic R&T 50#': 'SQUID RING & TENT'}, {'Mahi-Mahi filets 50 #': 'MAHI FIL FLETCH BL/SL'}, {'Lobster Tails 8 oz (w/w) 10#': 'LOBSTER TAIL WARM WTR 8-9OZ EA'}, {'Crawfish Tail Meat 150/200 24#': 'CRAWFISH MEAT TAIL 150/200 CHI'}, {'U-12 Shrimp 24#': 'SHRIMP WHT HDLS S/ON U-12 RAW'}, {'Salmon 7 oz 10# SG': 'SALMON PRTN 7 OZ 60 SOUTH SG'}, {'Tilapia Fillets 3-5 oz 10#': 'TILAPIA FILET SKNLS 3-5OZ'}]\n",
            "465\n"
          ]
        },
        {
          "output_type": "stream",
          "name": "stderr",
          "text": [
            "Processing Batches: 100%|██████████| 6/6 [00:20<00:00,  3.44s/it]\n"
          ]
        },
        {
          "output_type": "stream",
          "name": "stdout",
          "text": [
            "[{'Chilean Seabass 7-9 oz 10#': 'SEABASS PRTN CHILEAN 7-9Z IQF'}, {'21/25 Shrimp 24#': 'SHRIMP GH SHELL ON 21/25 CT'}, {'Mahi-Mahi filets 50 #': 'MAHI FIL FLETCH BL/SL'}, {'Lobster Tails 8 oz (w/w) 10#': 'LOBSTER TAIL WARM WTR 8-9OZ EA'}, {'Redfish 8-10 oz 10#': 'REDFISH FIL T/ON 8-10 OZ FRZN'}, {'U-12 Shrimp 24#': 'SHRIMP WHT HDLS S/ON U-12 RAW'}, {'Snow queen 10 up rus 30 #': 'CRAB SNOW CLSTR 10/UP JCS'}, {'Snow Crab 5-8 oz 30#': 'CRAB SNOW CLSTR 5-8 OZ JCS'}, {'Snapper fillets 8-10 oz 20#': 'SNAPPER FIL BNLS/SKLS 8-10 OZ'}, {'Salmon 7 oz 10# SG': 'SALMON PRTN 7 OZ 60 SOUTH SG'}, {'Tilapia Fillets 3-5 oz 10#': 'TILAPIA FILET SKNLS 3-5OZ'}, {'Dungeness Crab 25#': 'CRAB DUNGENES CLSTR CKD JCS'}, {'JCS coconut shri b/f 12#': 'SHRIMP BRD COCO BFLY 16/20'}, {'Lobster Tails 4 oz 10#': 'LOBSTER TAIL N ATL 4 OZ'}, {'Mahi-Mahi 7-8 oz 10#BG Mussels 18/30 10# in shell': 'MAHI MAHI PRTN BLSL 7-8 OZ'}, {'ckd': 'MUSSEL WHL BLK CKD 18/30'}, {'Scallops M u-10 30#': 'SCALLOP IQF DOMSTC U-10'}, {'Squid 5/8 Domestic R&T 50#': 'SQUID RING & TENT'}]\n",
            "466\n"
          ]
        },
        {
          "output_type": "stream",
          "name": "stderr",
          "text": [
            "Processing Batches: 100%|██████████| 4/4 [00:14<00:00,  3.74s/it]\n"
          ]
        },
        {
          "output_type": "stream",
          "name": "stdout",
          "text": [
            "[{'Redfish 8-10 oz 10#': 'REDFISH FIL T/ON 8-10 OZ FRZN'}, {'Tilapia Fillets 5-7 oz 10#': 'TILAPIA FILET BNLS 5-7 OZ'}, {'King Salmon IVP 19 x 8 oz': 'SALMON FIL ORA KNG IVP'}, {'26/30 Shrimp 24#': 'SHRIMP GH 26/30 CT YE'}, {'21/25 White Shrimp 40#CHEESECAKE PLAIN 10IN SLI': 'SHRIMP WHT HDLS S/ON 21/25 RAW'}, {'Tilapia Fillets 3-5 oz 10#Lobster Meat Claw & Knuckle': 'TILAPIA FILET SKNLS 3-5OZ'}, {'ckl 12#': 'LOBSTER MEAT 12#'}, {'Lobster Tails 4-5oz 10#': 'LOBSTER TAIL CANADN 4-5 OZ'}, {'Lobster Tails 12/14 oz E1 10#': 'LOBSTER TAIL AUST 12-14Z SAE 1'}, {'Mahi-Mahi 7-8 oz 10#': 'MAHI MAHI PRTN BLSL 7-8 OZ'}, {'U-12 Shrimp 24#': 'SHRIMP WHT HDLS S/ON U-12 RAW'}, {'Cod loins 16/32 oz ATL 44 #': 'COD LOIN ATL BL/SL 16-32 OZ'}, {'U-10 Shrimp catch 24#': 'SHRIMP BLK TGR T/ON S/ON U/10'}, {'Squid 5/8 Domestic R&T 50#': 'SQUID RING & TENT'}, {'snow russian 10/12 oz 20#': 'CRAB SNOW CLUSTER 10/UP CKD'}]\n",
            "467\n"
          ]
        },
        {
          "output_type": "stream",
          "name": "stderr",
          "text": [
            "Processing Batches: 100%|██████████| 1/1 [00:03<00:00,  3.26s/it]\n"
          ]
        },
        {
          "output_type": "stream",
          "name": "stdout",
          "text": [
            "[{'Tilapia Fillets 5-7 oz 10#': 'TILAPIA FILET BNLS 5-7 OZ'}, {'26/30 Shrimp 24#': 'SHRIMP GH 26/30 CT YE'}, {'26/30 Pink Shrimp 50#': 'SHRIMP GH USA DOM 26/30'}, {'Snow Crab 5-8 oz 30#': 'CRAB SNOW CLSTR 5-8 OZ JCS'}, {'Clams Wh ckd 17/22 ct 20#': 'CLAM WHL CKD IN SHELL 17-22'}, {'snow russian 10/12 oz 20#': 'CRAB SNOW CLUSTER 10/UP CKD'}, {'Dungeness Crab 25#': 'CRAB DUNGENES CLSTR CKD JCS'}, {'Cod loins 16/32 oz ATL 44 #': 'COD LOIN ATL BL/SL 16-32 OZ'}]\n",
            "468\n"
          ]
        },
        {
          "output_type": "stream",
          "name": "stderr",
          "text": [
            "Processing Batches: 100%|██████████| 1/1 [00:00<00:00,  4.08it/s]\n"
          ]
        },
        {
          "output_type": "stream",
          "name": "stdout",
          "text": [
            "[{'Salmon 7 oz 10#': 'SALMON FIL PRTN 7-8 OZ RAW IVP'}, {'U-12 Shrimp 24#': 'SHRIMP WHT HDLS S/ON U-12 RAW'}]\n",
            "469\n"
          ]
        },
        {
          "output_type": "stream",
          "name": "stderr",
          "text": [
            "Processing Batches: 100%|██████████| 1/1 [00:02<00:00,  2.93s/it]\n"
          ]
        },
        {
          "output_type": "stream",
          "name": "stdout",
          "text": [
            "[{'Salmon 7 oz 10#': 'SALMON FIL PRTN 7-8 OZ RAW IVP'}, {'ckl 12#': 'LOBSTER MEAT 12#'}, {'snow russian 10/12 oz 20#': 'CRAB SNOW CLUSTER 10/UP CKD'}, {'Snow Crab 5-8 oz 30#': 'CRAB SNOW CLSTR 5-8 OZ JCS'}, {'ckd': 'MUSSEL WHL BLK CKD 18/30'}, {'king cr under 700 28 #': 'CRAB KING CLSTR U/700 GM CKD'}, {'Pollock fillet 2-4 25#': 'POLLOCK FIL SKLS IQF 2-4 OZ AK'}, {'26/30 Shrimp PDTO 10#': 'SHRIMP WHT P&D RAW T/ON 26/30'}]\n",
            "470\n"
          ]
        },
        {
          "output_type": "stream",
          "name": "stderr",
          "text": [
            "Processing Batches: 100%|██████████| 2/2 [00:07<00:00,  3.96s/it]\n"
          ]
        },
        {
          "output_type": "stream",
          "name": "stdout",
          "text": [
            "[{'cod fillets 45# pacific': 'COD FILLET SKLS'}, {'Snow Crab 5-8 oz 30#': 'CRAB SNOW CLSTR 5-8 OZ JCS'}, {'temp 160 ct': 'SHRIMP TEMPURA BTRD 160 CT'}, {'Salmon 7 oz 10#': 'SALMON FIL PRTN 7-8 OZ RAW IVP'}, {'Pollock fillet 2-4 25#': 'POLLOCK FIL SKLS IQF 2-4 OZ AK'}, {'Chilean Seabass 7-9 oz 10#': 'SEABASS PRTN CHILEAN 7-9Z IQF'}, {'26/30 Shrimp 24#': 'SHRIMP GH 26/30 CT YE'}, {'U-12 Shrimp 24#': 'SHRIMP WHT HDLS S/ON U-12 RAW'}, {'Squid 5/8 Domestic R&T 50#': 'SQUID RING & TENT'}, {'Tilapia Fillets 3-5 oz 10#': 'TILAPIA FILET SKNLS 3-5OZ'}, {'POKE TUNA 10#': 'TUNA AHI POKE CUBED IVP'}]\n",
            "471\n"
          ]
        },
        {
          "output_type": "stream",
          "name": "stderr",
          "text": [
            "Processing Batches: 100%|██████████| 1/1 [00:02<00:00,  2.51s/it]\n"
          ]
        },
        {
          "output_type": "stream",
          "name": "stdout",
          "text": [
            "[{'Redfish 6-8 oz 10#': 'REDFISH FIL RAW 6-8 OZ IVP'}, {'BG Mussels 18/30 10# in shellckd': 'MUSSEL WHL BLK CKD 18/30'}, {'21/25 Shrimp 30#': 'SHRIMP WHT GH BLOCK 21/25 MEX'}, {'Squid 5/8 Domestic R&T 50#': 'SQUID RING & TENT'}, {'Lobster Tails 4-5oz 10#': 'LOBSTER TAIL CANADN 4-5 OZ'}, {'Salmon 7 oz 10# SG': 'SALMON PRTN 7 OZ 60 SOUTH SG'}, {'Tilapia Fillets 3-5 oz 10#': 'TILAPIA FILET SKNLS 3-5OZ'}]\n",
            "472\n"
          ]
        },
        {
          "output_type": "stream",
          "name": "stderr",
          "text": [
            "Processing Batches: 100%|██████████| 1/1 [00:02<00:00,  2.36s/it]\n"
          ]
        },
        {
          "output_type": "stream",
          "name": "stdout",
          "text": [
            "[{'sablefish 10 lb 8 oz': 'COD FIL SABLEFISH PRTN 8 OZ'}, {'Snow Crab 5-8 oz 30#': 'CRAB SNOW CLSTR 5-8 OZ JCS'}, {'Canada': 'LOBSTER TAIL CANADN 5-6OZ RAW'}, {'Charthouse': 'LOBSTER TAIL 6-7Z SRB 23-26 CT'}, {'Salmon 7 oz 10#': 'SALMON FIL PRTN 7-8 OZ RAW IVP'}, {'Squid 5/8 Domestic R&T 50#': 'SQUID RING & TENT'}, {'26/30 Pink Shrimp 50#': 'SHRIMP GH USA DOM 26/30'}]\n",
            "473\n"
          ]
        },
        {
          "output_type": "stream",
          "name": "stderr",
          "text": [
            "Processing Batches: 100%|██████████| 11/11 [00:36<00:00,  3.29s/it]\n"
          ]
        },
        {
          "output_type": "stream",
          "name": "stdout",
          "text": [
            "[{'Salmon 7 oz 10#': 'SALMON FIL PRTN 7-8 OZ RAW IVP'}, {'POKE TUNA 10#': 'TUNA AHI POKE CUBED IVP'}, {'cod fillets 45# pacific': 'COD FILLET SKLS'}, {'21/25 Shrimp 24#': 'SHRIMP GH SHELL ON 21/25 CT'}, {'Lobster Tails 12/14 oz E1 10#': 'LOBSTER TAIL AUST 12-14Z SAE 1'}, {'26/30 Shrimp 24#': 'SHRIMP GH 26/30 CT YE'}, {'26/30 Pink Shrimp 50#': 'SHRIMP GH USA DOM 26/30'}, {'mahi fletches 40#': 'MAHI MAHI FLETCH BL/SL'}, {'King Salmon IVP 19 x 8 oz': 'SALMON FIL ORA KNG IVP'}, {'JCS coconut shri b/f 12#': 'SHRIMP BRD COCO BFLY 16/20'}, {'King Crab Gold 20-24ct 20#': 'CRAB KING GOLD LEG 20-24CT'}, {'Snow Crab 5-8 oz 30#': 'CRAB SNOW CLSTR 5-8 OZ JCS'}, {'Fried Mama bl': 'SHRIMP BRD FRIED MAMA BLUES'}, {'Mahi-Mahi 7-8 oz 10#': 'MAHI MAHI PRTN BLSL 7-8 OZ'}, {'Pollock fillet 2-4 25#': 'POLLOCK FIL SKLS IQF 2-4 OZ AK'}, {'Clams Wh ckd 17/22 ct 20#': 'CLAM WHL CKD IN SHELL 17-22'}, {'ckd': 'MUSSEL WHL BLK CKD 18/30'}, {'Flounder (small) 3-5 oz 10#16/20 Coconut Shrimp round': 'FLOUNDER FILET BL/SL 3-4 OZ'}, {'16/20 Shrimp 40 lbCHEESECAKE PLAIN 10IN SLI': 'SHRIMP WHT GH 16/20'}, {'temp 160 ct': 'SHRIMP TEMPURA BTRD 160 CT'}, {'sablefish 10 lb 8 oz': 'COD FIL SABLEFISH PRTN 8 OZ'}, {'King Crab Red 12/14ct 10 lb': 'CRAB KING RED LEG&CLAW 12/14'}, {'Scallops u-10 30#': 'SCALLOP IQF DOMSTC U-10'}, {'Tilapia Fillets 3-5 oz 10#': 'TILAPIA FILET SKNLS 3-5OZ'}, {'Squid 5/8 Domestic R&T 50#': 'SQUID RING & TENT'}, {'Chilean Seabass 7-9 oz 10#': 'SEABASS PRTN CHILEAN 7-9Z IQF'}]\n",
            "474\n"
          ]
        },
        {
          "output_type": "stream",
          "name": "stderr",
          "text": [
            "Processing Batches: 100%|██████████| 1/1 [00:00<00:00,  1.00it/s]\n"
          ]
        },
        {
          "output_type": "stream",
          "name": "stdout",
          "text": [
            "[{'Chilean Seabass 7-9 oz 10#': 'SEABASS PRTN CHILEAN 7-9Z IQF'}, {'Squid 5/8 Domestic R&T 50#Lobster Meat Claw & Knuckle': 'SQUID RING & TENT'}, {'ckl 12#': 'LOBSTER MEAT 12#'}, {'21/25 Shrimp 24#': 'SHRIMP GH SHELL ON 21/25 CT'}]\n",
            "475\n"
          ]
        },
        {
          "output_type": "stream",
          "name": "stderr",
          "text": [
            "Processing Batches: 100%|██████████| 1/1 [00:00<00:00,  2.19it/s]\n"
          ]
        },
        {
          "output_type": "stream",
          "name": "stdout",
          "text": [
            "[{'King Crab UNDER 700 gram 28': 'CRAB KING CLSTR U/700 GM CKD'}, {'king cr under 700 28 #': 'CRAB KING CLSTR U/700 GM CKD'}, {'BG Mussels 18/30 10# in shell': 'MUSSEL WHL BLK CKD 18/30'}]\n",
            "476\n"
          ]
        },
        {
          "output_type": "stream",
          "name": "stderr",
          "text": [
            "Processing Batches: 100%|██████████| 2/2 [00:07<00:00,  3.54s/it]\n"
          ]
        },
        {
          "output_type": "stream",
          "name": "stdout",
          "text": [
            "[{'26/30 Shrimp 24#': 'SHRIMP GH 26/30 CT YE'}, {'Snow Crab 5-8 oz 30#': 'CRAB SNOW CLSTR 5-8 OZ JCS'}, {'Pollock fillet 2-4 25#': 'POLLOCK FIL SKLS IQF 2-4 OZ AK'}, {'Scallop Shells 5-55 15dz': 'SCALLOP SHELL HALF EMPTY CHINA'}, {'Tilapia Fillets 3-5 oz 10#': 'TILAPIA FILET SKNLS 3-5OZ'}, {'sablefish 10 lb 8 oz': 'COD FIL SABLEFISH PRTN 8 OZ'}, {'Salmon 7 oz 10#16/20 Coconut Shrimp round': 'SALMON FIL PRTN 7-8 OZ RAW IVP'}, {'ckl 12#': 'LOBSTER MEAT 12#'}, {'temp 160 ct': 'SHRIMP TEMPURA BTRD 160 CT'}, {'Squid 5/8 Domestic R&T 50#': 'SQUID RING & TENT'}]\n",
            "477\n"
          ]
        },
        {
          "output_type": "stream",
          "name": "stderr",
          "text": [
            "Processing Batches: 100%|██████████| 18/18 [00:59<00:00,  3.30s/it]\n"
          ]
        },
        {
          "output_type": "stream",
          "name": "stdout",
          "text": [
            "[{'Salmon 7 oz 10#': 'SALMON FIL PRTN 7-8 OZ RAW IVP'}, {'cod fillets 45# pacific': 'COD FILLET SKLS'}, {'POKE TUNA 10#': 'TUNA AHI POKE CUBED IVP'}, {'ckl 12#': 'LOBSTER MEAT 12#'}, {'Chilean Seabass 7-9 oz 10#': 'SEABASS PRTN CHILEAN 7-9Z IQF'}, {'21/25 Shrimp 24#': 'SHRIMP GH SHELL ON 21/25 CT'}, {'26/30 Shrimp 24#': 'SHRIMP GH 26/30 CT YE'}, {'Lobster Tails 4-5oz 10#': 'LOBSTER TAIL CANADN 4-5 OZ'}, {'26/30 Pink Shrimp 50#': 'SHRIMP GH USA DOM 26/30'}, {'JCS coconut shri b/f 12#': 'SHRIMP BRD COCO BFLY 16/20'}, {'snow russian 10/12 oz 20#': 'CRAB SNOW CLUSTER 10/UP CKD'}, {'Snow Crab 5-8 oz 30#': 'CRAB SNOW CLSTR 5-8 OZ JCS'}, {'Lobster Tails 4 oz 10#': 'LOBSTER TAIL N ATL 4 OZ'}, {'Clams Wh ckd 17/22 ct 20#': 'CLAM WHL CKD IN SHELL 17-22'}, {'Fried Mama bl': 'SHRIMP BRD FRIED MAMA BLUES'}, {'Pollock fillet 2-4 25#': 'POLLOCK FIL SKLS IQF 2-4 OZ AK'}, {'ckd': 'MUSSEL WHL BLK CKD 18/30'}, {'16/20 Shrimp 40 lb': 'SHRIMP WHT GH 16/20'}, {'temp 160 ct': 'SHRIMP TEMPURA BTRD 160 CT'}, {'King Crab Red 12/14ct 10 lb': 'CRAB KING RED LEG&CLAW 12/14'}, {'Scallops M u-10 30#': 'SCALLOP IQF DOMSTC U-10'}, {'U-12 Shrimp 24#': 'SHRIMP WHT HDLS S/ON U-12 RAW'}, {'Mahi-Mahi 7-8 oz 10#': 'MAHI MAHI PRTN BLSL 7-8 OZ'}, {'Mortons': 'LOBSTER TAIL F2 7-8Z MRT 20/23'}, {'Flounder (small) 3-5 oz 10#': 'FLOUNDER FILET BL/SL 3-4 OZ'}, {'Squid tube 10 #': 'SQUID TUBE BLOCK'}, {'26/30 Shrimp PDTO 10#': 'SHRIMP WHT P&D RAW T/ON 26/30'}, {'sablefish 10 lb 8 oz': 'COD FIL SABLEFISH PRTN 8 OZ'}, {'Canada': 'LOBSTER TAIL CANADN 5-6OZ RAW'}, {'U-10 Shrimp catch 24#': 'SHRIMP BLK TGR T/ON S/ON U/10'}, {'Tilapia Fillets 3-5 oz 10#': 'TILAPIA FILET SKNLS 3-5OZ'}, {'Squid 5/8 Domestic R&T 50#': 'SQUID RING & TENT'}, {'Dungeness Crab 25#': 'CRAB DUNGENES CLSTR CKD JCS'}]\n",
            "478\n"
          ]
        },
        {
          "output_type": "stream",
          "name": "stderr",
          "text": [
            "Processing Batches: 100%|██████████| 1/1 [00:00<00:00,  3.52it/s]\n"
          ]
        },
        {
          "output_type": "stream",
          "name": "stdout",
          "text": [
            "[{'HADDOCK - FILLET 10/12 oz SKIN ON Wild': 'HADDOCK FIL SK-ON 10-12Z FRESH'}, {'HADDOCK - PF FILLET 8/10 oz SKIN ON': 'HADDOCK FIL SK-ON 8-10OZ PF'}]\n",
            "479\n"
          ]
        },
        {
          "output_type": "stream",
          "name": "stderr",
          "text": [
            "Processing Batches: 100%|██████████| 1/1 [00:00<00:00,  3.29it/s]\n"
          ]
        },
        {
          "output_type": "stream",
          "name": "stdout",
          "text": [
            "[{'Pork Butt Steaks': 'PORK STEAK B/I UNDBRD RAW'}, {'Beef Ribeye Steak': 'STEAK BEEF RIBEYE SEL AM'}]\n",
            "480\n"
          ]
        },
        {
          "output_type": "stream",
          "name": "stderr",
          "text": [
            "Processing Batches: 100%|██████████| 1/1 [00:03<00:00,  3.91s/it]\n"
          ]
        },
        {
          "output_type": "stream",
          "name": "stdout",
          "text": [
            "[{'Pepper Red CRD Jg 4#': 'PEPPER RED CRUSHED JUG'}, {'Cinn & Sugar Lg Btl 28 oz': 'SPICE CINNAMON SUGAR BLEND'}, {'Cumin GRD Lg Btl 16 oz': 'SPICE CUMIN GROUND'}, {'Dill Weed Lg Btl 4 oz': 'SPICE DILL WEED'}, {'Garlic Gran IMP Jg 65#': 'SPICE GARLIC GRANULATED IMPORT'}, {'Onion Gran IMP Jg 5#': 'SPICE ONION GRANULATED IMPORT'}, {'Oregano WHL MED Jg 2#': 'SPICE OREGANO WHOLE'}, {'Pepper WHT GRD Lg Btl': 'SPICE PEPPER WHITE GROUND'}]\n",
            "481\n"
          ]
        },
        {
          "output_type": "stream",
          "name": "stderr",
          "text": [
            "Processing Batches: 100%|██████████| 1/1 [00:02<00:00,  2.03s/it]\n"
          ]
        },
        {
          "output_type": "stream",
          "name": "stdout",
          "text": [
            "[{'SALMON FIL CHILE 3/4LB DTRIM': 'SALMON ATL FIL D-TRIM 3-4# CHL'}, {'SALMON SMOKED SLI SCOTTISH': 'SALMON SMOKED SLI SCOTTISH'}, {'SCALLOP SEA U-8 WILD PORTCOV': 'SCALLOP SEA U-8 USA WILD'}, {'SCALLOP SEA U10 WILD PORTCOV': 'SCALLOP SEA U10 USA WILD'}, {'SALM FIL 2/3 D CHILE 35#': 'SALMON ATL FIL D-TRIM 2-3# CHL'}]\n",
            "482\n"
          ]
        },
        {
          "output_type": "stream",
          "name": "stderr",
          "text": [
            "Processing Batches: 100%|██████████| 1/1 [00:00<00:00,  3.43it/s]\n"
          ]
        },
        {
          "output_type": "stream",
          "name": "stdout",
          "text": [
            "[{'THIN SLICED CHICKEN BULK - 3LB BAGS': 'CHICKEN BRST SLICED'}, {'1 X 1 DICED CHICKEN BULK - 3LB BAGS': 'CHICKEN BRST DICED 1X1'}]\n",
            "483\n"
          ]
        },
        {
          "output_type": "stream",
          "name": "stderr",
          "text": [
            "Processing Batches: 100%|██████████| 1/1 [00:00<00:00,  3.57it/s]\n"
          ]
        },
        {
          "output_type": "stream",
          "name": "stdout",
          "text": [
            "[{'SALMON ATL FLT 2-3# S/L': 'SALMON ATL FLT SKLS 2-3 LB CDN'}, {'SALMON ATL FLT 3-4#S/L': 'SALMON ATL FIL SKLS 3-4 LB CAN'}]\n",
            "484\n"
          ]
        },
        {
          "output_type": "stream",
          "name": "stderr",
          "text": [
            "Processing Batches: 100%|██████████| 1/1 [00:02<00:00,  2.01s/it]\n"
          ]
        },
        {
          "output_type": "stream",
          "name": "stdout",
          "text": [
            "[{'SYSCO 12 WK CHARLESTON SPORTS PUB': 'BOX PIZZA LOGO CHARLESPRTPUB'}, {'SYSCO 10 KK DALS PIZZA': 'BOX PIZZA LOGO D ALLAS 10 KK'}, {'SYSCO 16 KK PIZZA': 'BOX PIZZA LOGO D ALLAS 16 KK'}, {'SYSCO 10X10X5 WK SHUGA BEARS': 'BOX CORR LOGO SHUGABEAR10X10X5'}, {'SYSCO 11X15 WK SHUGA BEARS': 'BOX CORR LOGO SHUGABEAR11X15'}, {'SYS 9X11 WK TONIS PIZZA': 'BOX PIZZA LOGO TONI 9X11 W/K'}]\n",
            "485\n"
          ]
        },
        {
          "output_type": "stream",
          "name": "stderr",
          "text": [
            "Processing Batches: 100%|██████████| 1/1 [00:00<00:00,  2.42it/s]\n"
          ]
        },
        {
          "output_type": "stream",
          "name": "stdout",
          "text": [
            "[{'Slim Chickens Jar-12 ozEmbossed (12pk) 17t / 8hA0012-050C1CSC-136': 'JAR GLASS EMBOSD SLIM CHICKEN'}, {'Massilly Lid-Silver/BuffMetal - (675 ct) 8T/ 5H': 'LID ALMN WHT LINE F/SLCK JAR'}]\n",
            "486\n"
          ]
        },
        {
          "output_type": "stream",
          "name": "stderr",
          "text": [
            "Processing Batches: 100%|██████████| 1/1 [00:00<00:00,  4.17it/s]\n"
          ]
        },
        {
          "output_type": "stream",
          "name": "stdout",
          "text": [
            "[{'HUSHPUPPY': 'HUSHPUPPY MIX W/ONION'}, {'CRACKER': 'CRACKER CHEDDAR CHEEZIT'}]\n",
            "487\n"
          ]
        },
        {
          "output_type": "stream",
          "name": "stderr",
          "text": [
            "Processing Batches: 100%|██████████| 2/2 [00:05<00:00,  2.55s/it]\n"
          ]
        },
        {
          "output_type": "stream",
          "name": "stdout",
          "text": [
            "[{'CLAM PASTANECK': 'CLAM LITTLENECK LIVE FARM'}, {'OYSTER EASTERN': 'OYSTER INSHELL BLUEPOINT'}, {'SALMON ATL FLT': 'SALMON ATL FIL E-TRIM 3-4# CHL'}, {'SALMON ATL FLT': 'SALMON ATL FIL D-TRIM 3-4# CHL'}, {'SALMON ATL FLT': 'SALMON ATL FIL D-TRIM 2-3# CHL'}, {'SALMON ATL FLT': 'SALMON ATL FIL D SKON 3-4# CAN'}, {'SALMON ATL PRTN': 'SALMON ATL PTN SKLS 8 OZ BIAS'}, {'SALMON ATL 12-14#': 'SALMON WHL 12-14 LB'}, {'SOLE DOVER FIL': 'SOLE FIL DOVER 2/4 OZ SKLS FRS'}, {'TUNA AHI #1 C/C': 'TUNA LOIN #1 C/C SKLS BLO'}, {'WAHOO PRTN 8OZ': 'WAHOO FIL PORT 8OZ'}]\n",
            "488\n"
          ]
        },
        {
          "output_type": "stream",
          "name": "stderr",
          "text": [
            "Processing Batches: 100%|██████████| 1/1 [00:04<00:00,  4.28s/it]\n"
          ]
        },
        {
          "output_type": "stream",
          "name": "stdout",
          "text": [
            "[{'SALMON ATL FIL PRTN LAZY DOG': 'SALMON ATL FIL PRTN L\\\\D'}, {'HALIBUT FILET SKIN ON': 'HALIBUT FILET SKIN ON'}, {'SALMON FIL 2/3 CHLE DTRIM': 'SALMON ATL FIL D-TRIM 2-3# CHL'}, {'TUNA LOIN #1 BREADLOAF PERRYS': 'TUNA LOIN #1 BREADLOAF PERRYS'}, {'SALMN FILET PRTN CENTER CUT 5Z': 'SALMON PRTN C\\\\C'}, {'CHILEAN SEABAS FILET PRTN SKLS': 'BASS SEA CHILEAN PRTN SKLS'}, {'HALIBUT FILET SKIN ON': 'HALIBUT FILET SKIN ON'}, {'CLAM TOPNECK FRESH 100CT': 'CLAM TOPNECK FRSH'}]\n",
            "489\n"
          ]
        },
        {
          "output_type": "stream",
          "name": "stderr",
          "text": [
            "Processing Batches: 100%|██████████| 1/1 [00:00<00:00,  2.87it/s]\n"
          ]
        },
        {
          "output_type": "stream",
          "name": "stdout",
          "text": [
            "[{'Saus Egg Cheese Biscuit': 'SANDWICH BISC SAUS EGG CHS'}, {'Egg Red Pep Sandwich': 'SANDWICH BRKFST CHORIZO BISTRO'}]\n",
            "490\n"
          ]
        },
        {
          "output_type": "stream",
          "name": "stderr",
          "text": [
            "Processing Batches: 100%|██████████| 1/1 [00:00<00:00,  3.10it/s]\n"
          ]
        },
        {
          "output_type": "stream",
          "name": "stdout",
          "text": [
            "[{'SAUCE TABASCO HOT': 'SAUCE TABASCO HOT'}, {'SEASONING SEAFOOD': 'SEASONING SEAFOOD'}]\n",
            "491\n"
          ]
        },
        {
          "output_type": "stream",
          "name": "stderr",
          "text": [
            "Processing Batches: 100%|██████████| 46/46 [03:05<00:00,  4.04s/it]\n"
          ]
        },
        {
          "output_type": "stream",
          "name": "stdout",
          "text": [
            "[{'BEEF CHUCK SHORT RIB 12 CUT': 'BEEF CHUCK SHORT RIB 1\\\\2 CUT'}, {'BEEF RIBEYE UP-ON PRIME 13UP': 'BEEF RIBEYE LIPON PR'}, {'BEEF SHORT RIB 3BN 38 GWSA': 'BEEF SHORT RIB 3BN 3\\\\8 GWSA CH'}, {'CAB BEEF SIRLOIN FLAP PLD REBX': 'BEEF SIRLOIN FLAP PLD'}, {'LAMB LOIN BLK RDY DOM 25#': 'LAMB LOIN BLK RDY DOM 2.5#'}, {'PORK CHOP B/IN LNGBN BERK': 'PORK CHOP B\\\\I LNGBN FRCHD BERK'}, {'CAB STK CHUCK FLAT IRON 7OZ': 'STEAK CHUCK FLAT IRON'}, {'STK TENDER FILET CC BCH PRF': 'STEAK FILET C\\\\C BCH PRF'}, {'STK TENDER FILET CC BCH PRF': 'STEAK FILET C\\\\C BCH PRF'}, {'STK RIBEYE RESIDUAL PRM FROZEN': 'STEAK RIBEYE RESIDUAL PR FRZN'}, {'STK SIRL 2/3 5KND AMWAGYU SRF': 'STEAK SIRL 2\\\\3CUT SKND AMWAGYU'}, {'STEAK SKIRT INSIDE': 'STEAK SKIRT INSIDE'}, {'CAB STK STRIP CC 1/2TL ST-OFF': 'STEAK STRIP C\\\\C 1\\\\2TL BSO'}, {'STRIP E-E 1TL BCH PRF BOZ E 8Z': 'STEAK STRIP E\\\\E 1TL BCH PRF'}, {'VEAL SIRLOIN BUTT BNLS TRM RDV': 'VEAL SIRLOIN BUTT BNLS TRMD'}, {'BEEF EYE KALBI AMKOBE BLK FRZ': 'BEEF EYE KALBI AMKOBE BLK FRZ'}, {'STK TENDER FILET CC BCH PRF': 'STEAK FILET C\\\\C BCH PRF'}, {'PORK CHOP FRNCH SING-BN': 'PORK CHOP B\\\\I C\\\\C FRCHD'}, {'BEEF STEAK TACO MEAT ELBURRITO': 'BEEF STEAK TACO MEAT'}, {'BEEF CHUCK SHORT RIB BNLS 10OZ': 'BEEF CHUCK SHORT RIB FLAP BNLS'}, {'TENDER FILET CC BCH PRF': 'STEAK FILET C\\\\C VALUE LINE'}, {'PORK RACK 10BN CHINED FRZ': 'PORK RACK 10BN CHINED DURC FRZ'}, {'CHICKEN THIGH SOUTHWEST MARN': 'CHICKEN THIGH SOUTHWEST MARN'}, {'STKTENDER FILET CC CH 10OZ': 'STEAK FILET C\\\\C CH'}, {'STK STRIP CC 1/2TL CH NVKONH': 'STEAK STRIP C\\\\C 1\\\\2TLK\\\\ON\\\\VCH'}, {'BEEF SHORT RIB BNLS SQ CUT': 'BEEF CHUCK SHORT RIB BNLS M\\\\A'}, {'BEEF SHORT RIB BNLS SQ CUT M/A': 'BEEF CHUCK SHORT RIB BNLS M\\\\A'}, {'CHICKEN THIGH DCD 1 APASTOR': 'CHICKEN THIGH DCD1X1 ALPSTSEAS'}, {'STK TENDER FILET CC CH 5OZ': 'STEAK FILET C\\\\C CH BULK'}, {'STK TENDER FILET CC CH 8OZ': 'STEAK FILET C\\\\C CH BULK'}, {'CAB OUTSIDE SKRTPRTN 10Z': 'STEAK SKIRT OUTSDE RGCC'}, {'CAB STK STRIP CC 1TL ST-OFF': 'STEAK STRIP C\\\\C 1TL BSO'}, {'BEEF TOP BUIT HEART BLACK': 'BEEF SIRL TOP CAP-OFF AM WAGYU'}, {'LAMB RACK FRNCHD AUSSIE': 'LAMB RACK AUSTRALIAN FRSH 6/CS'}, {'PORK CHOP FRNCH DBL-BN WMF': 'PORK CHOP RIB FRNCH CC 2BN FRS'}, {'CAB STK SWISS CUBED SPECIAL 4OZ': 'STEAK SWISS CUBED SPECIAL'}, {'CAB STK TOP BUTT SKND BBALL': 'STEAK SIRL BSBALL 1\\\\4 BULK'}, {'CAB STEAK FILET BRL FOXFIRE': 'STEAK FILET BRL FOXFIRE'}, {'CAB STK TENDER FILET CC 4OZ': 'STEAK FILET C\\\\C'}, {'STEAK RIBEYE SLICED 3/16 FRZN': 'STEAK RIBEYE SLI 3\\\\16 FRZN'}, {'CAB PRM STRIP CC 12TL FXFIRE': 'STEAK STRIP C\\\\C 1\\\\2TL BSO PR'}, {'CAB STK STRIP BNLS EE THICK': 'STEAK STRIP E\\\\E 1\\\\2TL MAGG'}, {'STK T-BONE 1/4TLCH 18OZ': 'STEAK TBONE 1\\\\2TL CH'}, {'PORK SIDE BELLY KUROBOTA SRF': 'PORK SIDE BELLY KUROBUTA PR12'}, {'CAB STK CHUCK FLAT IRON 7OZ': 'STEAK CHUCK FLAT IRON'}, {'CAB STK PORTERHOUSE 1/4TL': 'STEAK PORTER 1\\\\2TL N\\\\V'}, {'CAB SRLN CAP SKND TAV ON': 'STEAK SIRL CAP STRIP SKND TOC'}, {'STK TOP BUTT BASEBALL PRIME': 'STEAK SIRL TOP BSBALL SKND PR'}, {'PORK CHOP CC RIB 80Z': 'PORK CHOP B\\\\I C\\\\C RIB'}, {'BEEF STEW 85% LN 1/2X1/2 FRSH': 'BEEF STEW 85% LEAN ECON 1\\\\2'}, {'STK TENDER FILET CC BCH PRF': 'STEAK FILET C\\\\C BCH PRF BULK'}, {'PORK CHOP FRNCH SING-BN': 'PORK CHOP B\\\\I C\\\\C FRCHD'}, {'BEEF STEAK TACO MEAT ELBURRITO': 'BEEF STEAK TACO MEAT'}, {'CAB BEEF TRI-TIP PEELED': 'BEEF TRI TIP FRSH'}]\n",
            "492\n"
          ]
        },
        {
          "output_type": "stream",
          "name": "stderr",
          "text": [
            "Processing Batches: 100%|██████████| 5/5 [00:15<00:00,  3.10s/it]\n"
          ]
        },
        {
          "output_type": "stream",
          "name": "stdout",
          "text": [
            "[{'CORN 6-CUT YLW THIN PRE-CUT': 'CHIP TORTILLA CORN YEL 6 CUT'}, {'CORN 4-CUT WHITE THIN PRE-CUT': 'CHIP TORTILLA REG THIN 4'}, {'CORN 4IN WHITE CHIQUITA TORTILLA': 'TORTILLA CORN MINI 4 FRSH'}, {'CORN 6-CUT TRI COLOR PRE-CUT': 'TORTILLA CORN TRI COLR RAW 6C'}, {'CORN 45IN WHITE TAQUITO TORTILLA': 'TORTILLA CORN WHT 4.5IN'}, {'CORN 6IN WHITE MESA TORTILLA': 'TORTILLA CORN WHT 6 MESA'}, {'CORN 6IN WHITE THICK TORTILLA': 'TORTILLA CORN WHT 6IN'}, {'CORN 6IN YLW THICK TORTILLA': 'TORTILLA CORN YEL THICK 6IN'}, {'CORN 6IN YLW THIN TORTILLA': 'TORTILLA CORN YEL THIN 6IN'}, {'CORN 6IN WHITE GRUESA TORTILLA': 'TORTILLA CORN 6IN THICK GRUESA'}, {'FLOUR 12IN CHILE TOMATO TORTILLA': 'TORTILLA FLOUR CHILE TOMAT12IN'}, {'FLOUR 12IN CHIPOTLE TORTILLA': 'TORTILLA FLOUR CHIPOTLE 12IN'}, {'FLOUR 6IN TORTILLA': 'TORTILLA FLOUR PRESS 6IN'}, {'FLOUR 10IN BURRITO TORTILLA': 'TORTILLA FLOUR PRSSD 10IN'}, {'FLOUR 12IN GRANDE TORTILLA': 'TORTILLA FLOUR PRSSD 12IN'}, {'FLOUR 14IN GIGANTE TORTILLA': 'TORTILLA FLOUR PRSSD 14IN'}, {'FLOUR 12IN SPINACH TORTILLA': 'TORTILLA FLOUR SPINACH 12'}]\n",
            "493\n"
          ]
        },
        {
          "output_type": "stream",
          "name": "stderr",
          "text": [
            "Processing Batches: 100%|██████████| 1/1 [00:00<00:00,  2.45it/s]\n"
          ]
        },
        {
          "output_type": "stream",
          "name": "stdout",
          "text": [
            "[{'UR CRANBERRY SAUCE (4 - 8 LBS)': 'SAUCE CRANBERRY'}, {'CR CREAMY WILD RICE SOUP (4 - 8 LB': 'SOUP CREAMY W/WILD RICE'}]\n",
            "494\n"
          ]
        },
        {
          "output_type": "stream",
          "name": "stderr",
          "text": [
            "Processing Batches: 100%|██████████| 1/1 [00:00<00:00,  1.32it/s]\n"
          ]
        },
        {
          "output_type": "stream",
          "name": "stdout",
          "text": [
            "[{'Napkin Band White': 'BAND NAPKIN PAPR 1.5X4.25 WHT'}, {'Napkin Band Hunter': 'BAND NAPKIN 1.5X4.25 HTR GREEN'}, {'Napkin Band Burgundy': 'BAND NAPKIN PAPR 1.5X4.25 BURG'}]\n",
            "495\n"
          ]
        },
        {
          "output_type": "stream",
          "name": "stderr",
          "text": [
            "Processing Batches: 100%|██████████| 1/1 [00:02<00:00,  2.74s/it]\n"
          ]
        },
        {
          "output_type": "stream",
          "name": "stdout",
          "text": [
            "[{'SALMON FILLET 3-4#': 'SALMON ATL FIL DTRIM CAN 3-4#'}, {'SALMON SKUNAGOLD RIVER': 'SALMON FIL FRSH 3/4 SKUNA BAY'}, {'SALMON FILLET LARGE': 'SALMON FIL BNLS TRMD 3-4# FRSH'}, {'SEASALAD SESAME 44#': 'SALAD SEAWEED HIYASHI WAKAME'}, {'PEI MUSSELS 10# BAG': 'MUSSEL FRESH BLK PEI'}, {'SALMON FILLET 2-4#': 'SALMON ATL CHILEAN DTRIM 3-4LB'}]\n",
            "496\n"
          ]
        },
        {
          "output_type": "stream",
          "name": "stderr",
          "text": [
            "Processing Batches: 100%|██████████| 1/1 [00:03<00:00,  3.48s/it]\n"
          ]
        },
        {
          "output_type": "stream",
          "name": "stdout",
          "text": [
            "[{'TROUT 7-9OZ PBO HDLS RAINBOW': 'TROUT FILET PBO 8 OZ'}, {'HAMACHI FILLET 7/21 KILO': 'HAMACHI FILET YELLOWTAIL JACK'}, {'CRAB PRIME SOFT SHELL 3DZ/TRAY': 'CRAB SOFT SHELL'}, {'TOBIKO WASABI 12/11# FRZ': 'ROE FLYINGFISH TOBIKO GREEN'}, {'TOBIKO RED 24/11#': 'ROE FLYINGFISH TOBIKO RED'}, {'TOBIKO ORANGE 12/11#': 'CAVIAR TOBIKO FLYING FISH ORG'}, {'IMITATION CRAB MEAT 35': 'CRAB IMIT SURIMI STK'}, {'OYSTER XSM PACIFIC SHUCKED': 'OYSTER SHUCKED WEST COAST'}]\n",
            "497\n"
          ]
        },
        {
          "output_type": "stream",
          "name": "stderr",
          "text": [
            "Processing Batches: 100%|██████████| 1/1 [00:00<00:00,  1.66it/s]\n"
          ]
        },
        {
          "output_type": "stream",
          "name": "stdout",
          "text": [
            "[{'SALMON LRG ATLANTIC FILLET PBO': 'SALMON ATL FIL DTRIM CAN 3-4#'}, {'SALMON FILLET 2-4# D-TRIM': 'SALMON ATL FIL SKLS PBO 2-4 LB'}, {'SALMONSCOTTISHFILLETPBO': 'SALMON FIL PBO 4-5# SCOTTISH'}]\n",
            "498\n"
          ]
        },
        {
          "output_type": "stream",
          "name": "stderr",
          "text": [
            "Processing Batches: 100%|██████████| 1/1 [00:01<00:00,  1.97s/it]\n"
          ]
        },
        {
          "output_type": "stream",
          "name": "stdout",
          "text": [
            "[{'PIZZA PEPPERONI RND5IN WRPD': 'PIZZA PEPPERONI RND 5IN WRPD'}, {'APTZR DUMPLINGPORK VEG': 'APTZR DUMPLING PORK VEG'}, {'PIZZA CHEESE ROUND5IN BULK': 'PIZZA CHEESE ROUND 5IN BULK'}, {'EGGROLL PORK & VEG': 'EGGROLL PORK & VEG 3 OZ BULK'}, {'PIZZA CHEESE CLSCCRUST W/BOX': 'PIZZA CHEESE CLSC CRUST W/BOX'}, {'PIZZA CHEESE DEEPDISH 5IN IW': 'PIZZA CHEESE DEEP DISH 5IN IW'}]\n",
            "499\n"
          ]
        },
        {
          "output_type": "stream",
          "name": "stderr",
          "text": [
            "Processing Batches: 100%|██████████| 1/1 [00:00<00:00,  2.30it/s]\n"
          ]
        },
        {
          "output_type": "stream",
          "name": "stdout",
          "text": [
            "[{'Pepperoni Sliced': 'PEPPERONI SLICED'}, {'Sauce Pizza RTU Thin': 'SAUCE PIZZA RTU THIN'}, {'Sausage Ital Family Recipe Top': 'SAUSAGE ITAL FAMILY RECIPE TOP'}]\n",
            "500\n"
          ]
        },
        {
          "output_type": "stream",
          "name": "stderr",
          "text": [
            "Processing Batches: 100%|██████████| 1/1 [00:00<00:00,  2.42it/s]\n"
          ]
        },
        {
          "output_type": "stream",
          "name": "stdout",
          "text": [
            "[{'Pepperoni Sliced': 'PEPPERONI SLICED'}, {'Sauce Pizza RTU Thin': 'SAUCE PIZZA RTU THIN'}, {'Sausage Ital Family Recipe Top': 'SAUSAGE ITAL FAMILY RECIPE TOP'}]\n",
            "501\n"
          ]
        },
        {
          "output_type": "stream",
          "name": "stderr",
          "text": [
            "Processing Batches: 100%|██████████| 1/1 [00:00<00:00,  2.54it/s]\n"
          ]
        },
        {
          "output_type": "stream",
          "name": "stdout",
          "text": [
            "[{'Pepperoni Sliced': 'PEPPERONI SLICED'}, {'Sauce Pizza RTU Thin': 'SAUCE PIZZA RTU THIN'}, {'Sausage Ital Family Recipe Top': 'SAUSAGE ITAL FAMILY RECIPE TOP'}]\n",
            "502\n"
          ]
        },
        {
          "output_type": "stream",
          "name": "stderr",
          "text": [
            "Processing Batches: 100%|██████████| 1/1 [00:00<00:00,  2.46it/s]\n"
          ]
        },
        {
          "output_type": "stream",
          "name": "stdout",
          "text": [
            "[{'Pepperoni Sliced': 'PEPPERONI SLICED'}, {'Sauce Pizza RTU Thin': 'SAUCE PIZZA RTU THIN'}, {'Sausage Ital Family Recipe Top': 'SAUSAGE ITAL FAMILY RECIPE TOP'}]\n",
            "503\n"
          ]
        },
        {
          "output_type": "stream",
          "name": "stderr",
          "text": [
            "Processing Batches: 100%|██████████| 1/1 [00:01<00:00,  1.21s/it]\n"
          ]
        },
        {
          "output_type": "stream",
          "name": "stdout",
          "text": [
            "[{'All Natural Jumbo Blueberry Bagel': 'DOUGH BAGEL BLUBRY'}, {'Natural Jumbo Plain Bagel': 'DOUGH BAGEL PLAIN'}, {'Jersey Mikes Mini Wheat Sub': 'ROLL MINI WHEAT SUB'}, {'Jersey Mikes Mini White Sub': 'ROLL MINI WHT SUB'}, {'Jersey Mikes Wheat Sub': 'ROLL WHEAT SUB'}, {'Jersey Mikes White Sub': 'ROLL WHITE SUB'}]\n",
            "504\n"
          ]
        },
        {
          "output_type": "stream",
          "name": "stderr",
          "text": [
            "Processing Batches: 100%|██████████| 1/1 [00:02<00:00,  3.00s/it]\n"
          ]
        },
        {
          "output_type": "stream",
          "name": "stdout",
          "text": [
            "[{'Dough Pizza 10in Hnd Tssed Lg': 'DOUGH PIZZA 10IN HND TSSED LG'}, {'Dough Pizza Indiv Famous Thin': 'DOUGH PIZZA INDIV FAMOUS THIN'}, {'Dough Pizza Small Famous Thin': 'DOUGH PIZZA SMALL FAMOUS THIN'}, {'Dough Pizza Thick 14in New': 'DOUGH PIZZA THICK 14IN NEW'}, {'Meatball Beef & Pork Preck Rnd': 'MEATBALL BEEF & PORK PRECK RND'}, {'Pizza Crust Cauliflower 10': 'PIZZA CRUST CAULIFLOWER 10'}, {'-Sausage Ital Family Recipe Top': 'SAUSAGE ITAL FAMILY RECIPE TOP'}]\n",
            "505\n"
          ]
        },
        {
          "output_type": "stream",
          "name": "stderr",
          "text": [
            "Processing Batches: 100%|██████████| 1/1 [00:00<00:00,  2.60it/s]\n"
          ]
        },
        {
          "output_type": "stream",
          "name": "stdout",
          "text": [
            "[{'JERSEY MIKES RED WINE': 'VINEGAR RED WINE'}, {'LA SPAGNOLA BLENDED': 'OIL VEG /PURE OLIVE 90/10 BLND'}]\n",
            "506\n"
          ]
        },
        {
          "output_type": "stream",
          "name": "stderr",
          "text": [
            "Processing Batches: 100%|██████████| 2/2 [00:05<00:00,  2.64s/it]\n"
          ]
        },
        {
          "output_type": "stream",
          "name": "stdout",
          "text": [
            "[{'MANDA SUPREME DRY CAP OFF RB': 'BEEF ROAST TOP RND C\\\\O MR DF'}, {'MANDA 10# 3/1 MILD SKINLESS': 'SAUSAGE PORK LINK MILD 3X1'}, {'MANDA 12# MILD SAUSAGE': 'SAUSAGE PORK ROPE SMKD'}, {'MANDA 10# BR HOT SAUSAGE': 'SAUSAGE PORK SMKD HOT SKLS'}, {'MANDA 10# SCHOOL PORK ROPE': 'SAUSAGE SMOKED ROPE'}, {'MANDA 10# BULK SLICED SMOKED': 'SAUSAGE SMOKED SLICED COIN CUT'}, {'MANDA 10# HRI MILD SAUSAGE': 'SAUSAGE SMOKED'}, {'BABINEAUXS 10# SMOKED': 'SAUSAGE SMOKED BABINEAUX S CAJ'}, {'MANDA NO STYLE COOKED RB': 'BEEF ROAST TOP RND C\\\\O MW SPT'}]\n",
            "507\n"
          ]
        },
        {
          "output_type": "stream",
          "name": "stderr",
          "text": [
            "Processing Batches: 100%|██████████| 1/1 [00:02<00:00,  2.92s/it]\n"
          ]
        },
        {
          "output_type": "stream",
          "name": "stdout",
          "text": [
            "[{'Beef Strip Brdd Raw Low-Sodium': 'BEEF STRIP BRDD RAW LOW-SODIUM'}, {'Chicken Bnls Sknls Thigh Raw': 'CHICKEN BNLS SKNLS THIGH RAW'}, {'Chicken Breast Marn Tndr Raw': 'CHICKEN BREAST MARN TNDR RAW'}, {'Chicken Breast Strip Raw Brd': 'CHICKEN BREAST STRIP RAW BRD'}, {'Chicken Meat Dk Battr Pho-Free': 'CHICKEN MEAT DK BATTR PHO-FREE'}, {'Aptzr Apple Pie Roll': 'APTZR APPLE PIE ROLL'}, {'Eggroll Chicken 3oz': 'EGGROLL CHICKEN 3OZ'}, {'Springroll Vegetable': 'SPRINGROLL VEGETABLE'}]\n",
            "508\n"
          ]
        },
        {
          "output_type": "stream",
          "name": "stderr",
          "text": [
            "Processing Batches: 100%|██████████| 9/9 [00:25<00:00,  2.84s/it]\n"
          ]
        },
        {
          "output_type": "stream",
          "name": "stdout",
          "text": [
            "[{'Cookie Fortune Indv Wrpd': 'COOKIE FORTUNE INDV WRPD'}, {'Peanut Rstd Unsltd': 'PEANUT RSTD UNSLTD'}, {'Rice Long Grain Xlng 4%': 'RICE LONG GRAIN XLNG 4%'}, {'Sauce Basic Cooking': 'SAUCE BASIC COOKING'}, {'Sauce Steak Blk Ppr': 'SAUCE STEAK BLK PPR'}, {'Sauce Sweet & Sour Packets': 'SAUCE SWEET & SOUR PACKETS'}, {'Sauce Sweet and Sour': 'SAUCE SWEET AND SOUR'}, {'Soup Base Veg': 'SOUP BASE VEG'}, {'Starch Modified': 'STARCH MODIFIED'}, {'Sugar Granulated Cane': 'SUGAR GRANULATED CANE'}, {'Vinegar Distilled White': 'VINEGAR DISTILLED WHITE'}, {'Bag Paper 20lb Shorty': 'BAG PAPER 20LB SHORTY'}, {'Bowl Plas Blk Square 20oz': 'BOWL PLAS BLK SQUARE 20OZ'}, {'Container Foam 3comp': 'CONTAINER FOAM 3COMP'}, {'Cutlery Kit Fork & Napkin PX': 'CUTLERY KIT FORK & NAPKIN PX'}, {'Fork Black Hvy Weight': 'FORK BLACK HVY WEIGHT'}, {'Napkin Paper Brn Logo 2ply': 'NAPKIN PAPER BRN LOGO 2PLY'}, {'Pail Food 16z Panda': 'PAIL FOOD 16Z PANDA'}, {'Pail Food 26 Oz': 'PAIL FOOD 26 OZ'}, {'Pail Food 8oz': 'PAIL FOOD 8OZ'}, {'Pail Food Kids Panda Express': 'PAIL FOOD KIDS PANDA EXPRESS'}, {'Paper Register Therm 3x220': 'PAPER REGISTER THERM 3X220'}, {'Straw Wrapped Jmbo 875in Clr': 'STRAW WRAPPED JMBO 8.75IN CLR'}]\n",
            "509\n"
          ]
        },
        {
          "output_type": "stream",
          "name": "stderr",
          "text": [
            "Processing Batches: 100%|██████████| 1/1 [00:03<00:00,  3.22s/it]\n"
          ]
        },
        {
          "output_type": "stream",
          "name": "stdout",
          "text": [
            "[{'Beef Sliced Marinated Raw': 'BEEF SLICED MARINATED RAW'}, {'Beef Strip Brdd Raw Low-Sodium': 'BEEF STRIP BRDD RAW LOW-SODIUM'}, {'Chicken Bnls Sknls Thigh Raw': 'CHICKEN BNLS SKNLS THIGH RAW'}, {'Chicken Breast Strip Raw Brd': 'CHICKEN BREAST STRIP RAW BRD'}, {'Chicken Diced Drk Raw Marinatd': 'CHICKEN DICED DRK RAW MARINATD'}, {'Chicken Meat Dk Battr Pho-Free': 'CHICKEN MEAT DK BATTR PHO-FREE'}, {'Eggroll Chicken 3oz': 'EGGROLL CHICKEN 3OZ'}]\n",
            "510\n"
          ]
        },
        {
          "output_type": "stream",
          "name": "stderr",
          "text": [
            "Processing Batches: 100%|██████████| 1/1 [00:00<00:00,  2.50it/s]\n"
          ]
        },
        {
          "output_type": "stream",
          "name": "stdout",
          "text": [
            "[{'SUBWAY 10% EXTRA VIRGIN OLIVE OIL (6/3': 'OIL OLIVE BLEND 10% S000151'}, {'LA SPAGNOLA BLENDED VEGETABLE AND': 'OIL VEG /PURE OLIVE 90/10 BLND'}]\n",
            "511\n"
          ]
        },
        {
          "output_type": "stream",
          "name": "stderr",
          "text": [
            "Processing Batches: 100%|██████████| 1/1 [00:00<00:00,  2.13it/s]\n"
          ]
        },
        {
          "output_type": "stream",
          "name": "stdout",
          "text": [
            "[{'DUCKD VAN CK DNT MX MB 50#': 'MIX DONUT CAKE VAN'}, {'DAWN BLUBRY FRT BIT 10#': 'FILLING BLUEBERRY BITS'}, {'DAWN SMEAR STKYBN MB 22#': 'GLAZE STICKY SMEAR'}]\n",
            "512\n"
          ]
        },
        {
          "output_type": "stream",
          "name": "stderr",
          "text": [
            "Processing Batches: 100%|██████████| 1/1 [00:00<00:00,  3.74it/s]\n"
          ]
        },
        {
          "output_type": "stream",
          "name": "stdout",
          "text": [
            "[{'DUCKD VAN CK DNT MX MBC 50#': 'MIX DONUT CAKE VAN'}, {'DAWN EXC MED SET DONUT GLAZE': 'GLAZE DONUT PLUS'}]\n",
            "513\n"
          ]
        },
        {
          "output_type": "stream",
          "name": "stderr",
          "text": [
            "Processing Batches: 100%|██████████| 1/1 [00:01<00:00,  1.02s/it]\n"
          ]
        },
        {
          "output_type": "stream",
          "name": "stdout",
          "text": [
            "[{'DAWN EXC MAJ VAN CK DNT MX': 'DONUT MIX CAKE VAN MAJESTIC'}, {'DUCKD VAN CK DNT MX MB 50#': 'MIX DONUT CAKE VAN'}, {'DAWN PRE FRT W/SDS RASPBRYFILL 35#': 'FILLING RASPBERRY W/SEEDS'}, {'DUCKD ICG FON DIP CHOC 24#******** TEMPERED ********': 'ICING CHOC FONDANT DIP'}]\n",
            "514\n"
          ]
        },
        {
          "output_type": "stream",
          "name": "stderr",
          "text": [
            "Processing Batches: 100%|██████████| 1/1 [00:02<00:00,  2.34s/it]\n"
          ]
        },
        {
          "output_type": "stream",
          "name": "stdout",
          "text": [
            "[{'DAWN CORN MUF MX MB 50#': 'MIX MUFFIN CORN'}, {'DUCKD VAN CK DNT MX MB 50#': 'MIX DONUT CAKE VAN'}, {'DAWN EXC R&H PREM FLVMX 6/5#': 'MIX PANCAKE COUNTRY GOLD'}, {'BKYES 42/43 DE CORN SYRP 60#': 'SYRUP CORN 60# CLEAR'}, {'DAWN BLUBRY FRT BIT 10#': 'FILLING BLUEBERRY BITS'}, {'DAWN EXC MED SET DONUTMB 40#': 'GLAZE DONUT PLUS'}, {'DAWN STRWBRY ICING FRT 10#': 'ICING STRAWBERRY FRUIT'}]\n",
            "515\n"
          ]
        },
        {
          "output_type": "stream",
          "name": "stderr",
          "text": [
            "Processing Batches: 100%|██████████| 1/1 [00:00<00:00,  1.22it/s]\n"
          ]
        },
        {
          "output_type": "stream",
          "name": "stdout",
          "text": [
            "[{'Lid Plas F/16-46oz': 'LID PLAS F/16-46OZ SC BOWL'}, {'Lid Plas Flat Trans': 'LID PLAS FLAT TRANS 12-24 OZ'}, {'Sauce Pizza RTU': 'SAUCE PIZZA RTU THIN'}, {'Seasoning Hot': 'SEASONING HOT CHKN'}]\n",
            "516\n"
          ]
        },
        {
          "output_type": "stream",
          "name": "stderr",
          "text": [
            "Processing Batches: 100%|██████████| 1/1 [00:00<00:00,  1.36it/s]\n"
          ]
        },
        {
          "output_type": "stream",
          "name": "stdout",
          "text": [
            "[{'Cheese Provolone Shrd': 'CHEESE PROVOLONE SHRD'}, {'Cheese Romano Oregano Blend': 'CHEESE ROMANO OREGANO BLEND'}, {'Ham Sli Ckd': 'HAM SLI CKD'}, {'Pepperoni Sliced': 'PEPPERONI SLICED'}]\n",
            "517\n"
          ]
        },
        {
          "output_type": "stream",
          "name": "stderr",
          "text": [
            "Processing Batches: 100%|██████████| 3/3 [00:10<00:00,  3.45s/it]\n"
          ]
        },
        {
          "output_type": "stream",
          "name": "stdout",
          "text": [
            "[{'Beef Cooked Topping F/ Pzz': 'BEEF COOKED TOPPING F/ PZZ'}, {'Breadstick Garlic 6-7 In': 'BREADSTICK GARLIC 6-7 IN'}, {'Brownie Choc Fudge Bkd Wrpd 3Z': 'BROWNIE CHOC FUDGE BKD WRPD 3Z'}, {'Chicken Brst Strip Ckd Grl': 'CHICKEN BRST STRIP CKD GRL'}, {'Chicken Wingette Ckd': 'CHICKEN WINGETTE CKD'}, {'Dough Pizza Indiv Famous Thin': 'DOUGH PIZZA INDIV FAMOUS THIN'}, {'Dough Pizza Lrg Thn On Papr': 'DOUGH PIZZA LRG THN ON PAPR'}, {'Dough Pizza Med Thin On Papr': 'DOUGH PIZZA MED THIN ON PAPR'}, {'Dough Pizza Small Famous Thin': 'DOUGH PIZZA SMALL FAMOUS THIN'}, {'Dough Pizza Square 11x11 Thick': 'DOUGH PIZZA SQUARE 11X11 THICK'}, {'Dough Pizza Thick 14in New': 'DOUGH PIZZA THICK 14IN NEW'}, {'Dough Pizza 10in Hnd Tssed Lg': 'DOUGH PIZZA 10IN HND TSSED LG'}, {'Roll Sub White Rustic': 'ROLL SUB WHITE RUSTIC'}]\n",
            "518\n"
          ]
        },
        {
          "output_type": "stream",
          "name": "stderr",
          "text": [
            "Processing Batches: 100%|██████████| 3/3 [00:06<00:00,  2.32s/it]\n"
          ]
        },
        {
          "output_type": "stream",
          "name": "stdout",
          "text": [
            "[{'Bowl Paper Compost 24z Sgrcne': 'BOWL PAPER COMPOST 24Z SGRCNE'}, {'Box Pizza 10 In Global': 'BOX PIZZA 10 IN GLOBAL'}, {'Box Pizza 12 In Global': 'BOX PIZZA 12 IN GLOBAL'}, {'Box Pizza 14 In Global': 'BOX PIZZA 14 IN GLOBAL'}, {'Box Pizza 7 In Global': 'BOX PIZZA 7 IN GLOBAL'}, {'Box Sub Clamshell W/Vents': 'BOX SUB CLAMSHELL W/VENTS'}, {'Cup Paper Cold 22 Oz': 'CUP PAPER COLD 22 OZ'}, {'Dressing Italian House Packet': 'DRESSING ITALIAN HOUSE PACKET'}, {'Dressing Ranch No Msg Added': 'DRESSING RANCH NO MSG ADDED'}, {'Lid Plas F/16-46oz SC Bowl': 'LID PLAS F/16-46OZ SC BOWL'}, {'Plate Paper Pizza Sub 85 Inch': 'PLATE PAPER PIZZA SUB 8.5 INCH'}, {'Sauce Pizza RTU Thin': 'SAUCE PIZZA RTU THIN'}]\n",
            "519\n"
          ]
        },
        {
          "output_type": "stream",
          "name": "stderr",
          "text": [
            "Processing Batches: 100%|██████████| 1/1 [00:01<00:00,  1.84s/it]\n"
          ]
        },
        {
          "output_type": "stream",
          "name": "stdout",
          "text": [
            "[{'Bacon Topping Larger': 'BACON TOPPING LARGER'}, {'Cheese Mariachi Spice Mix': 'CHEESE MARIACHI SPICE MIX'}, {'Cheese Provolone Shrd': 'CHEESE PROVOLONE SHRD'}, {'Cheese Romano Oregano Blend': 'CHEESE ROMANO OREGANO BLEND'}, {'Ham Sli Ckd': 'HAM SLI CKD'}, {'Pepperoni Sliced': 'PEPPERONI SLICED'}, {'-Salami Hard Sli': 'SALAMI HARD SLI'}]\n",
            "520\n"
          ]
        },
        {
          "output_type": "stream",
          "name": "stderr",
          "text": [
            "Processing Batches: 100%|██████████| 1/1 [00:00<00:00,  3.34it/s]\n"
          ]
        },
        {
          "output_type": "stream",
          "name": "stdout",
          "text": [
            "[{'BIGGBY SAUCE COFFEE MELLOW': 'SAUCE COFFEE MELLOW'}, {'KARAT  TOPPING STWBRY POPPING': 'TOPPING STWBRY POPPING PEARLS'}]\n",
            "521\n"
          ]
        },
        {
          "output_type": "stream",
          "name": "stderr",
          "text": [
            "Processing Batches: 100%|██████████| 1/1 [00:01<00:00,  1.30s/it]\n"
          ]
        },
        {
          "output_type": "stream",
          "name": "stdout",
          "text": [
            "[{'CHICKEN BREAST FRENCH 9/loz': 'CHICKEN BRST AIRLINE W/WING'}, {'BEEF TENDERLOIN STK SPLITS TALL': 'STEAK TENDER R/OFF BULK'}, {'BEEF FILET STEAKS AA CC ELLIS': 'STEAK TENDERLOIN CH 7 OZ'}, {'BEEF TENDERLOIN STK SPLIT TALL': 'STEAK TENDERLOIN'}, {'BEEF FILETSTEAKS AA CC @BEN': 'STEAK FILET CC CHOI CHNOFF BLK'}]\n",
            "522\n"
          ]
        },
        {
          "output_type": "stream",
          "name": "stderr",
          "text": [
            "Processing Batches: 100%|██████████| 1/1 [00:00<00:00,  1.39it/s]\n"
          ]
        },
        {
          "output_type": "stream",
          "name": "stdout",
          "text": [
            "[{'BEEF SIRLOIN STRIP STEAK': 'STEAK STRIPLOIN CC CH 1180 A'}, {'BEEF TENDERLOIN STK CHOICE': 'STEAK TENDER P VALLEY R/OFF CC'}, {'VEAL CUTLET 8oz P/P MILK': 'VEAL CUTLET P&P FRESH 8OZ'}]\n",
            "523\n"
          ]
        },
        {
          "output_type": "stream",
          "name": "stderr",
          "text": [
            "Processing Batches: 100%|██████████| 1/1 [00:00<00:00,  3.21it/s]\n"
          ]
        },
        {
          "output_type": "stream",
          "name": "stdout",
          "text": [
            "[{'STEAK FILET TAILS': 'STEAK FILET TAILS'}, {'TURKEY BURGER': 'TURKEY BURGER FRSH 8OZ'}]\n",
            "524\n"
          ]
        },
        {
          "output_type": "stream",
          "name": "stderr",
          "text": [
            "Processing Batches: 100%|██████████| 1/1 [00:00<00:00,  1.59it/s]\n"
          ]
        },
        {
          "output_type": "stream",
          "name": "stdout",
          "text": [
            "[{'20Z PT 24LS COKE': 'SODA COKE CLS CONTOUR TRAY PK'}, {'20Z PT 24LS DT COKE': 'SODA COKE DIET CLS CONT TRAY P'}, {'20Z PT 24LS SMTWTR': 'WATER BTLD SMARTWATER'}]\n",
            "525\n"
          ]
        },
        {
          "output_type": "stream",
          "name": "stderr",
          "text": [
            "Processing Batches: 100%|██████████| 2/2 [00:06<00:00,  3.13s/it]\n"
          ]
        },
        {
          "output_type": "stream",
          "name": "stdout",
          "text": [
            "[{'NR RIBEYE LIPON-1PC': 'BEEF RIBEYE LIPON N\\\\R IMP'}, {'CLASSIC BALL TIP 6 OZ S - Fully T': 'STEAK SIRL BALLTIP HERF'}, {'CLASSIC NY STRIP CC 12 OZ - MN': 'STEAK STRIP C\\\\C 1TL BSO HERF'}, {'CLASSIC SIRLOIN 8 OZ CC - STD': 'STEAK SIRL TOP C\\\\C 1\\\\4 HERF'}, {'RESERVE SIRLOIN TOP 2/3 CUT SKND 24/': 'STEAK SIRL TOP 2\\\\3CUT SKND RSV'}, {'RESERVE SIRLOIN TOP 2/3 CUT SKND 10O': 'STEAK SIRL TOP 2\\\\3CUT SKND RSV'}, {'RESERVE BALL TIP SKND 8 OZ-12#': 'STEAK SIRL BALLTIP SKND RSV'}, {'RESERVE RIBEYE BNLS 1TL 14OZ': 'STEAK RIBEYE BNLS 1TL RSV'}, {'BEEF STK FRESH SLICED INSIDE ROUND': 'BEEF INS RND SLI HERF'}]\n",
            "526\n"
          ]
        },
        {
          "output_type": "stream",
          "name": "stderr",
          "text": [
            "Processing Batches: 100%|██████████| 1/1 [00:00<00:00,  3.77it/s]\n"
          ]
        },
        {
          "output_type": "stream",
          "name": "stdout",
          "text": [
            "[{'BEEF STEAK TRI TIP - FRZ': 'BEEF STEAK TRI-TIP FRZ'}, {'PORK SIRLOIN BNLS': 'PORK SIRLOIN BNLS'}]\n",
            "527\n"
          ]
        },
        {
          "output_type": "stream",
          "name": "stderr",
          "text": [
            "Processing Batches: 100%|██████████| 1/1 [00:00<00:00,  1.93it/s]\n"
          ]
        },
        {
          "output_type": "stream",
          "name": "stdout",
          "text": [
            "[{'STK RIBEYE COMM RND INJECTED': 'STEAK RIBEYE INJECTED RND COMM'}, {'STK RIBEYE COMM RND INJECTED': 'STEAK RIBEYE INJECTED RND COMM'}, {'STK RIBEYE COMM RND INJECTED': 'STEAK RIBEYE INJ RND COMM FRZN'}]\n",
            "528\n"
          ]
        },
        {
          "output_type": "stream",
          "name": "stderr",
          "text": [
            "Processing Batches: 100%|██████████| 1/1 [00:00<00:00,  4.00it/s]\n"
          ]
        },
        {
          "output_type": "stream",
          "name": "stdout",
          "text": [
            "[{'BEEF STEAK TRI TIP - FRZ': 'BEEF STEAK TRI-TIP FRZ'}, {'PORK SIRLOIN BNLS': 'PORK SIRLOIN BNLS'}]\n",
            "529\n"
          ]
        },
        {
          "output_type": "stream",
          "name": "stderr",
          "text": [
            "Processing Batches: 100%|██████████| 1/1 [00:00<00:00,  3.67it/s]\n"
          ]
        },
        {
          "output_type": "stream",
          "name": "stdout",
          "text": [
            "[{'CAB BEEF CORNED BRSKT RAW': 'BEEF CORNED BRSKT RAW'}, {'CAB BEEF TOP RND ENDLESS RARE': 'BEEF TOP ROUND ENDLESS RARE'}]\n",
            "530\n"
          ]
        },
        {
          "output_type": "stream",
          "name": "stderr",
          "text": [
            "Processing Batches: 100%|██████████| 1/1 [00:00<00:00,  4.83it/s]\n"
          ]
        },
        {
          "output_type": "stream",
          "name": "stdout",
          "text": [
            "[{'BEEF TONGUE': 'BEEF TONGUE'}, {'SAUSAGE LINK SMOKEY FC': 'SAUSAGE LINK SMOKEY FC'}]\n",
            "531\n"
          ]
        },
        {
          "output_type": "stream",
          "name": "stderr",
          "text": [
            "Processing Batches: 100%|██████████| 1/1 [00:00<00:00,  3.59it/s]\n"
          ]
        },
        {
          "output_type": "stream",
          "name": "stdout",
          "text": [
            "[{'BRATWURST 3X1 CKD DELUX': 'BRATWURST 3X1 CKD DELUXE'}, {'HAM STEAK BONE IN 7-9 OZ': 'HAM STEAK BONE IN 7-9 OZ'}]\n",
            "532\n"
          ]
        },
        {
          "output_type": "stream",
          "name": "stderr",
          "text": [
            "Processing Batches: 100%|██████████| 1/1 [00:01<00:00,  1.82s/it]\n"
          ]
        },
        {
          "output_type": "stream",
          "name": "stdout",
          "text": [
            "[{'BRATWURST LINK COOKED 3-1 REGULAR': 'BRATWURST LNK CKD 3-1 REG'}, {'PORK BELLY SKINLESS FRESH CRY': 'PORK BELLY SKNLS FRSH CRY'}, {'PORK BELLY SKNLS UNTRMD FRS': 'PORK BELLY SKNLS UNTRMD FRS'}, {'PORK BUTT BNLS': 'PORK BUTT BNLS'}, {'PORK BUTT BONE IN': 'PORK BUTT BONE IN MICH'}, {'PORK LOIN CC BI SMKD': 'PORK LOIN CC BI SMKD'}]\n",
            "533\n"
          ]
        },
        {
          "output_type": "stream",
          "name": "stderr",
          "text": [
            "Processing Batches: 100%|██████████| 1/1 [00:01<00:00,  1.28s/it]\n"
          ]
        },
        {
          "output_type": "stream",
          "name": "stdout",
          "text": [
            "[{'SAUSAGE BBQ SMKD ROPE': 'SAUSAGE BBQ SMKD ROPE'}, {'SAUSAGE CHORIZO BULK': 'SAUSAGE CHORIZO BULK'}, {'SAUSAGE ROPE GARLIC-PEPPER': 'SAUSAGE ROPE GARLIC-PEPPER'}, {'SAUSAGE ROPE VENISON SMKD': 'SAUSAGE ROPE VENISON SMKD'}, {'TACO BEEF MEAT GT': 'TACO BEEF MEAT GT'}]\n",
            "534\n"
          ]
        },
        {
          "output_type": "stream",
          "name": "stderr",
          "text": [
            "Processing Batches: 100%|██████████| 1/1 [00:00<00:00,  1.99it/s]\n"
          ]
        },
        {
          "output_type": "stream",
          "name": "stdout",
          "text": [
            "[{'PF MARKET COD FILLET - WILD CAUGHT': 'COD FIL REFRESHED 12OZ-UP'}, {'HADDOCK - FILLET SCROD SKINLESS Wild': 'HADDOCK FILET SKINLESS FRESH'}, {'HADDOCK - FILLET SCROD SKIN ON Wild': 'HADDOCK FILET SKIN-ON FRESH'}]\n",
            "535\n"
          ]
        },
        {
          "output_type": "stream",
          "name": "stderr",
          "text": [
            "Processing Batches: 100%|██████████| 1/1 [00:00<00:00,  1.02it/s]\n"
          ]
        },
        {
          "output_type": "stream",
          "name": "stdout",
          "text": [
            "[{'OZHVR  DRESSING MIX RANCH ORIG': 'DRESSING MIX RANCH ORIG'}, {'SUPPCLS APRON BIB DISHWASHER': 'APRON BIB DISHWASHER VINYL CLR'}, {'SUPPCLS GRILL BRICK 35 IN THICK': 'GRILL BRICK 3.5IN THICK'}, {'AYDOTS HANDLE BRSH/BRM/SQUGE': 'HANDLE BRSH/BRM/SQUGE BLUE'}]\n",
            "536\n"
          ]
        },
        {
          "output_type": "stream",
          "name": "stderr",
          "text": [
            "Processing Batches: 100%|██████████| 1/1 [00:01<00:00,  1.18s/it]\n"
          ]
        },
        {
          "output_type": "stream",
          "name": "stdout",
          "text": [
            "[{'HC Plus Diet Cranberry Juice Cups 96/4oz': 'JUICE CRANBERRY DIET'}, {'HC Plus Orange Juice Cups 96/4oz': 'JUICE ORANGE STABLE'}, {'AB Prune Juice Aseptic Liters 12/32 oz': 'JUICE PRUNE SHELF STABLE'}, {'HC Plus Apple Juice Cups 96/4oz': 'JUICE APPLE SHELF STABLE'}, {'HC Plus Prune Juice Cups 96/4oz': 'JUICE PRUNE 100% SHELF STABLE'}]\n",
            "537\n"
          ]
        },
        {
          "output_type": "stream",
          "name": "stderr",
          "text": [
            "Processing Batches: 100%|██████████| 1/1 [00:01<00:00,  1.21s/it]\n"
          ]
        },
        {
          "output_type": "stream",
          "name": "stdout",
          "text": [
            "[{'HC Plus Orange Juice Cups 96/4oz': 'JUICE ORANGE STABLE'}, {'HC Plus Grape Juice Cups 96/4oz': 'JUICE GRAPE SHELF STABLE'}, {'HC Plus Apple Juice Cups 96/4oz': 'JUICE APPLE SHELF STABLE'}, {'HC Plus 15% Cranberry Juice Cups 96/4oz': 'JUICE CRANBERRY 15% SS CUP'}, {'HC Plus Prune Juice Cups 96/4oz': 'JUICE PRUNE 100% SHELF STABLE'}]\n",
            "538\n"
          ]
        },
        {
          "output_type": "stream",
          "name": "stderr",
          "text": [
            "Processing Batches: 100%|██████████| 1/1 [00:01<00:00,  1.17s/it]\n"
          ]
        },
        {
          "output_type": "stream",
          "name": "stdout",
          "text": [
            "[{'HC Plus Orange Juice Cups 96/4oz': 'JUICE ORANGE STABLE'}, {'HC Plus Grape Juice Cups 96/4oz': 'JUICE GRAPE SHELF STABLE'}, {'HC Plus Apple Juice Cups 96/4oz': 'JUICE APPLE SHELF STABLE'}, {'HC Plus 15% Cranberry Juice Cups 96/4oz': 'JUICE CRANBERRY 15% SS CUP'}]\n",
            "539\n"
          ]
        },
        {
          "output_type": "stream",
          "name": "stderr",
          "text": [
            "Processing Batches: 100%|██████████| 1/1 [00:02<00:00,  2.29s/it]\n"
          ]
        },
        {
          "output_type": "stream",
          "name": "stdout",
          "text": [
            "[{'BEEF STK FSH TENDERLOIN E/E 8 OZ': 'STEAK FILET E\\\\E UTIL'}, {'BEEF STK FRESH SIRLOIN CUBES- 20': 'STEAK BEEF CUBES 1 135A'}, {'BEEF STK FSH TENDERLOIN WHOLE 1': 'BEEF TENDER PSMO UTILITY'}, {'CLASSIC HANGING TENDER 8 OZ': 'STEAK HANGER TENDER HERF'}, {'CLASSIC SIRLOIN STCC 6 OZ - CUSTOM': 'STEAK SIRL C\\\\C 1.25 SKND HERF'}]\n",
            "540\n"
          ]
        },
        {
          "output_type": "stream",
          "name": "stderr",
          "text": [
            "Processing Batches: 100%|██████████| 1/1 [00:00<00:00,  2.27it/s]\n"
          ]
        },
        {
          "output_type": "stream",
          "name": "stdout",
          "text": [
            "[{'6oz Marinated Beef Steak-Jersey Mikes-1013lbs': 'BEEF STEAK PHILLY 6 OZ'}, {'6oz Marinated Chicken Breast-Jersey Mikes 1013lb': 'CHICKEN PHILLY STEAK 6 OZ FRZN'}]\n",
            "541\n"
          ]
        },
        {
          "output_type": "stream",
          "name": "stderr",
          "text": [
            "Processing Batches: 100%|██████████| 1/1 [00:00<00:00,  2.08it/s]\n"
          ]
        },
        {
          "output_type": "stream",
          "name": "stdout",
          "text": [
            "[{'3 / 8 ct CRAB CAKE SOUTHWEST 65% 3oz IMPERIAL': 'CRAB CAKE SOUTHWEST 65% 3OZ'}, {'3 / 8 ct CRAB CAKE SOUTHWEST 65% 3oz IMPERIAL': 'CRAB CAKE SOUTHWEST 65% 3OZ'}]\n",
            "542\n"
          ]
        },
        {
          "output_type": "stream",
          "name": "stderr",
          "text": [
            "Processing Batches: 100%|██████████| 1/1 [00:00<00:00,  1.36it/s]\n"
          ]
        },
        {
          "output_type": "stream",
          "name": "stdout",
          "text": [
            "[{'MIX CASHEW POM': 'NUT MIX CASHEW POM'}, {'MIX ALM MANGO15OZ': 'NUT MIX ALM MANGO TANGO 1.5OZ'}, {'CANDY FRUIT': 'CANDY FRUIT SKITTLES 4 OZ'}]\n",
            "543\n"
          ]
        },
        {
          "output_type": "stream",
          "name": "stderr",
          "text": [
            "Processing Batches: 100%|██████████| 2/2 [00:06<00:00,  3.09s/it]\n"
          ]
        },
        {
          "output_type": "stream",
          "name": "stdout",
          "text": [
            "[{'HALIBUT FIL 3/8# S/LESS': 'HALIBUT FIL SKLS 3-8LB'}, {'HAMACHI FIL S/ON': 'HAMACHI FILET S/ON YELLOWTAIL'}, {'SALMON ATL FLT 3-4#S/ON': 'SALMON ATL FIL D-TRIM 3-4# CHL'}, {'SALMON ATL FLT 3-4#S/L': 'SALMON ATL FIL E-TRIM 3-4# CHL'}, {'SALMON ATL PRTN SKNLS': 'SALMON ATL PRTN CC SKNLS 8OZ'}, {'SALMON ATL FIL SK-ON': 'SALMON FIL FAROE ISLD 3-4'}, {'SALMON FIL SKON D-TRIM': 'SALMON FIL SKON D-TRIM'}, {'SALMON ATLANTIC': 'SALMON PIECES TRIM'}, {'SEABASS FLT CHILEAN S/L': 'SEABASS FIL CHILEAN SKLS PHF'}, {'SWORDFISH STEAK 6OZ': 'SWORDFISH STEAK 6OZ'}, {'TUNA AHI #1 C/C LOIN': 'TUNA LOIN #1 C/C SKLS BLO'}]\n",
            "544\n"
          ]
        },
        {
          "output_type": "stream",
          "name": "stderr",
          "text": [
            "Processing Batches: 100%|██████████| 1/1 [00:00<00:00,  3.21it/s]\n"
          ]
        },
        {
          "output_type": "stream",
          "name": "stdout",
          "text": [
            "[{'SHRIMP HDON PRAWN U/8': 'SHRIMP HDON PRAWN U/8'}, {'SALMON ATL FIL E-TRIM 2-3# CHL': 'SALMON ATL FIL E-TRIM 2-3# CHL'}]\n",
            "545\n"
          ]
        },
        {
          "output_type": "stream",
          "name": "stderr",
          "text": [
            "Processing Batches: 100%|██████████| 1/1 [00:02<00:00,  2.52s/it]\n"
          ]
        },
        {
          "output_type": "stream",
          "name": "stdout",
          "text": [
            "[{'SYSCO 10 KK KILLER QUEENS': 'BOX PIZZA 10IN K/K KILLER QN'}, {'SYSCO 12 KK MADTREE BREWING': 'BOX PIZZA K/K 12 MADTREE'}, {'SYS CIN 9 Nicks KK': 'BOX PIZZA 9 INCH K/K NICKS'}, {'SYSCO 12 Pizza Stop KK': 'BOX PIZZA K/K 12IN PIZZA STOP'}, {'SYSCO 14 Pizza Stop KK1': 'PIZZA BOX K/K 14IN PIZZA STOP'}, {'SYSCO 16 Pizza Stop KK': 'PIZZA BOX K/K 16IN PIZZA STOP'}, {'SYSCO 10 KK STRONGS PIZZERIA': 'BOX PIZZA K/K 10 STRONGS'}]\n",
            "546\n"
          ]
        },
        {
          "output_type": "stream",
          "name": "stderr",
          "text": [
            "Processing Batches: 100%|██████████| 2/2 [00:03<00:00,  1.53s/it]\n"
          ]
        },
        {
          "output_type": "stream",
          "name": "stdout",
          "text": [
            "[{'SEASONING': 'SEASONING TACO JOHN S PICO'}, {'SEASONING': 'MIX SEASONING CINNAMON SUGAR'}, {'SEASONING': 'SEASONING POTATO OLE'}, {'NTAINER': 'CONTAINER PAPER TJ OLE 8 OZ'}, {'NTAINER': 'CONTAINER PAPER TJ OLE 8 OZ'}, {'NTAINER': 'CONTAINER PAPER TJ OLE 8 OZ'}, {'NTAINER': 'CONTAINER PAPER TJ OLE 8 OZ'}, {'NTAINER': 'CONTAINER PAPER TJ OLE 8 OZ'}, {'NTAINER': 'CONTAINER PAPER TJ OLE 8 OZ'}]\n",
            "547\n"
          ]
        },
        {
          "output_type": "stream",
          "name": "stderr",
          "text": [
            "Processing Batches: 100%|██████████| 1/1 [00:04<00:00,  4.48s/it]\n"
          ]
        },
        {
          "output_type": "stream",
          "name": "stdout",
          "text": [
            "[{'9 OZ SQUAT TMBL SYSCO 20/25 4023073': 'CUP PLAS CLR SQUAT 9 OZ RIGID'}, {'10 OZ TALL TMBL SYSCO 20/25 4023081': 'CUP PLAS CLR TALL 10OZ RGD'}, {'5 OZ SQUAT TUMBLER - 20/50': 'CUP PLAS CLR 5 OZ'}, {'ECOSENSE PSM CUTLERY KIT WHITE': 'KIT CUTLERY F,S,K,N PLANTSTRCH'}, {'Part Descr LID CLEAR 50/10': 'LID PLAS CLR 8-32 OZ'}, {'6 BLACK CW PLATE 10/18 SYSCO': 'PLATE PLAS BLK 6 RGD CLSWR'}, {'6 CLEAR CW PLATE 10/18 SYSCO': 'PLATE PLAS CLR 6 RGD CLSWR'}]\n",
            "548\n"
          ]
        },
        {
          "output_type": "stream",
          "name": "stderr",
          "text": [
            "Processing Batches: 100%|██████████| 1/1 [00:00<00:00,  2.58it/s]\n"
          ]
        },
        {
          "output_type": "stream",
          "name": "stdout",
          "text": [
            "[{'Pure Surf Medium': 'TOWEL CLOTH FDSVC BLUE 13X13'}, {'Bag - 110 GSM -': 'BAG PAPR KRFT 12X9X15.75 HNDLE'}]\n",
            "549\n"
          ]
        },
        {
          "output_type": "stream",
          "name": "stderr",
          "text": [
            "Processing Batches: 100%|██████████| 4/4 [00:10<00:00,  2.60s/it]\n"
          ]
        },
        {
          "output_type": "stream",
          "name": "stdout",
          "text": [
            "[{'SEA BRANZINO': 'BASS SEA BRANZINO SPLIT FILLET'}, {'STL FIL PRTN': 'SALMON ATL FIL PRTN SKOFF BBRG'}, {'FILET PRTN': 'SALMON PRTN SKIN OFF'}, {'RED WHOLE': 'SNAPPER RED WHL DOM'}, {'WHITEFISH': 'WHITEFISH PRTN MEDALLIONS'}, {'HALIBUT FILET SKIN': 'HALIBUT FILET SKIN ON'}, {'SALMON PORTION': 'SALMON PORTION STR CUT 7OZ'}, {'FILET PRTN': 'SALMON PRTN C\\\\C'}, {'SEABAS FILET': 'SALMON ATL FIL D-TRIM 3-4# CHL'}, {'OYSTER INSHELL': 'OYSTER INSHELL BEAUSOLEIL'}, {'PRTN SK/OFF': 'SALMON ATL E\\\\E PRTN SK\\\\OFF'}, {'SALMON PORTION': 'SALMON PORTION STR CUT 7OZ'}, {'SNAPPER WHOLE': 'SNAPPER WHL 1-2#'}, {'MEDALLIONS': 'WHITEFISH PRTN MEDALLIONS'}, {'HALIBUT FILET SKIN': 'HALIBUT FILET SKIN ON'}, {'SALMON FIL CHILE': 'BASS SEA CHILEAN PRTN SKLS'}]\n",
            "550\n"
          ]
        },
        {
          "output_type": "stream",
          "name": "stderr",
          "text": [
            "Processing Batches: 100%|██████████| 1/1 [00:00<00:00,  1.13it/s]\n"
          ]
        },
        {
          "output_type": "stream",
          "name": "stdout",
          "text": [
            "[{'SHRIMP U8-12 TIGER': 'SHRIMP TGR P&D 8/12CT TAIL/ON'}, {'TROUT 7-9OZ PBO HDLSIDAHO': 'TROUT FILET PBO 8 OZ'}, {'BASS STRIPED WHL SCALED': 'BASS STRIPED WHL SCALED 1.5-2#'}]\n",
            "551\n"
          ]
        },
        {
          "output_type": "stream",
          "name": "stderr",
          "text": [
            "Processing Batches: 100%|██████████| 1/1 [00:01<00:00,  1.21s/it]\n"
          ]
        },
        {
          "output_type": "stream",
          "name": "stdout",
          "text": [
            "[{'Spring Roll Philly Cheesesteak': 'APTZR SPRING RLL PHL CH STK 1Z'}, {'HT88805 CHICKEN DARKBTTRD': 'CHICKEN CUBE DARK MEAT BTTRD'}, {'Sauce Asian Lo Mein Frozen': 'SAUCE ASIAN LO MEIN FRZN'}, {'Sauce Thai Pad Frozen': 'SAUCE THAI PAD FZN'}]\n",
            "552\n"
          ]
        },
        {
          "output_type": "stream",
          "name": "stderr",
          "text": [
            "Processing Batches: 100%|██████████| 1/1 [00:00<00:00,  2.55it/s]\n"
          ]
        },
        {
          "output_type": "stream",
          "name": "stdout",
          "text": [
            "[{'DDF DIY CHOCOLATE CHIP COO 1-52 OZ': 'DOUGH COOKIE CHOC CHIP'}, {'IVN JDM TEMPURA BATTERED C 6-2 LB': 'ENTREE CHKN BRST TEMPURA CKD'}]\n",
            "553\n"
          ]
        },
        {
          "output_type": "stream",
          "name": "stderr",
          "text": [
            "Processing Batches: 100%|██████████| 1/1 [00:00<00:00,  2.44it/s]\n"
          ]
        },
        {
          "output_type": "stream",
          "name": "stdout",
          "text": [
            "[{'DDF DIY CHOCOLATE CHIP COO 1-52 OZ': 'DOUGH COOKIE CHOC CHIP'}, {'IVN JDM TEMPURA BATTERED C 6-2 LB': 'ENTREE CHKN BRST TEMPURA CKD'}]\n",
            "554\n"
          ]
        },
        {
          "output_type": "stream",
          "name": "stderr",
          "text": [
            "Processing Batches: 100%|██████████| 1/1 [00:00<00:00,  2.27it/s]\n"
          ]
        },
        {
          "output_type": "stream",
          "name": "stdout",
          "text": [
            "[{'HIK SYS SMOKED PULLED PORK 2-5 LB': 'PORK BBQ SMKD PULLED'}, {'WAY SCL CKN FC HOLD BNLS C 2-5 LB': 'CHICKEN WING BNLS CRISPY PCK'}]\n",
            "555\n"
          ]
        },
        {
          "output_type": "stream",
          "name": "stderr",
          "text": [
            "Processing Batches: 100%|██████████| 1/1 [00:00<00:00,  2.08it/s]\n"
          ]
        },
        {
          "output_type": "stream",
          "name": "stdout",
          "text": [
            "[{'Jersey Mikes Mini White Sub': 'ROLL MINI WHT SUB'}, {'Jersey Mikes Wheat Sub': 'ROLL WHEAT SUB'}, {'Jersey Mikes White Sub': 'ROLL WHITE SUB'}]\n",
            "556\n"
          ]
        },
        {
          "output_type": "stream",
          "name": "stderr",
          "text": [
            "Processing Batches: 100%|██████████| 1/1 [00:00<00:00,  3.58it/s]\n"
          ]
        },
        {
          "output_type": "stream",
          "name": "stdout",
          "text": [
            "[{'Jersey Mikes Wheat': 'ROLL WHEAT SUB'}, {'Jersey Mikes White': 'ROLL WHITE SUB'}]\n",
            "557\n"
          ]
        },
        {
          "output_type": "stream",
          "name": "stderr",
          "text": [
            "Processing Batches: 100%|██████████| 2/2 [00:06<00:00,  3.15s/it]\n"
          ]
        },
        {
          "output_type": "stream",
          "name": "stdout",
          "text": [
            "[{'Pork Ground Raw': 'PORK GROUND RAW'}, {'Pork Shank Osso Bucco': 'PORK SHANK OSSO BUCCO 3IN GAP'}, {'Pork Belly Skin Off': 'PORK BELLY S/O'}, {'Pork Loin Rack 11 Rib Chine-Off': 'PORK LOIN RACK  11RIB CHN-OFF'}, {'Pork Loin Boneless Center Cut': 'PORK LOIN BNLS CC'}, {'Boneless Sirloin': 'PORK SIRLOIN BNLS  ALL NAT'}, {'Pork Loin Boneless Secreto': 'PORK LOIN BONELESS SECRETO'}, {'Pork Loin Rack French 11 Rib': 'PORK LOIN RACK FRNCH 11RIB'}, {'Pork Butt Bone In Boxed 1x4 Inch': 'PORK BUTT BI BXD 1X4'}, {'Pork Butt Boneless 1x4': 'PORK BUTT BNLS 1X4 GAP'}, {'Pork Rib St Louis Competition': 'PORK RIB ST LOUIS COMPETITION'}]\n",
            "558\n"
          ]
        },
        {
          "output_type": "stream",
          "name": "stderr",
          "text": [
            "Processing Batches: 100%|██████████| 1/1 [00:00<00:00,  3.40it/s]\n"
          ]
        },
        {
          "output_type": "stream",
          "name": "stdout",
          "text": [
            "[{'TEQUENO CHEESE (RAW) X 50 UN SYSCO': 'PASTRY CHEESE TEQUENOS JMBO'}, {'MINI TEQUENO CHEESE (RAW) X 100 UN': 'PASTRY CHEESE TEQUENO RAW MINI'}]\n",
            "559\n"
          ]
        },
        {
          "output_type": "stream",
          "name": "stderr",
          "text": [
            "Processing Batches: 100%|██████████| 1/1 [00:00<00:00,  1.93it/s]\n"
          ]
        },
        {
          "output_type": "stream",
          "name": "stdout",
          "text": [
            "[{'AB Apple Juice Aseptic Liters 12/32 oz': 'JUICE APPLE ASEPTIC'}, {'AB Cranberry Juice Aseptic Liters 12/32 oz': 'JUICE CRANBERRY ASEPTIC'}, {'AB Orange Juice Aseptic Liters 12/32 oz': 'JUICE ORANGE ASEPTIC'}]\n",
            "560\n"
          ]
        },
        {
          "output_type": "stream",
          "name": "stderr",
          "text": [
            "Processing Batches: 100%|██████████| 1/1 [00:00<00:00,  1.31it/s]\n"
          ]
        },
        {
          "output_type": "stream",
          "name": "stdout",
          "text": [
            "[{'HC Plus Orange Juice Cups 96/4o': 'JUICE ORANGE STABLE'}, {'HC Plus Apple Juice Cups 96/4oz': 'JUICE APPLE SHELF STABLE'}, {'HC Plus 15% Cranberry Juice Cups': 'JUICE CRANBERRY 15% SS CUP'}, {'HC Plus Prune Juice Cups 96/4oz': 'JUICE PRUNE 100% SHELF STABLE'}]\n",
            "561\n"
          ]
        },
        {
          "output_type": "stream",
          "name": "stderr",
          "text": [
            "Processing Batches: 100%|██████████| 1/1 [00:01<00:00,  1.44s/it]\n"
          ]
        },
        {
          "output_type": "stream",
          "name": "stdout",
          "text": [
            "[{'NOODLE CHOW MEIN 1/10#': 'NOODLE CHOW MEIN'}, {'CLOVER SPROUTS': 'SPROUT ALFALFA FRSH'}, {'BEAN SPROUTS (1 X 5#)': 'SPROUT BEAN FRESH'}, {'FIRM TOFU': 'TOFU FIRM FRSWTR PKD'}, {'ORGANIC FIRM TOFU': 'TOFU ORGANIC FIRM'}, {'SOFT TOFU': 'TOFU SOFT FRSH'}]\n",
            "562\n"
          ]
        },
        {
          "output_type": "stream",
          "name": "stderr",
          "text": [
            "Processing Batches: 100%|██████████| 1/1 [00:00<00:00,  4.34it/s]\n"
          ]
        },
        {
          "output_type": "stream",
          "name": "stdout",
          "text": [
            "[{'HC Plus Orange Juice Cups 96/4oz': 'JUICE ORANGE STABLE'}, {'HC Plus Apple Juice Cups 96/4oz': 'JUICE APPLE SHELF STABLE'}]\n",
            "563\n"
          ]
        },
        {
          "output_type": "stream",
          "name": "stderr",
          "text": [
            "Processing Batches: 100%|██████████| 1/1 [00:00<00:00,  1.99it/s]\n"
          ]
        },
        {
          "output_type": "stream",
          "name": "stdout",
          "text": [
            "[{'QP BLUE CHIPS USA 6CT 11oz': 'CHIP TORTILLA BLUE'}, {'QP WHITE CHIPS USA 6CT 11oz': 'CHIP TORTILLA WHITE'}, {'QP YELLOW CHIPS USA 6CT 11oz': 'CHIP TORTILLA YELLOW'}]\n",
            "564\n"
          ]
        },
        {
          "output_type": "stream",
          "name": "stderr",
          "text": [
            "Processing Batches: 100%|██████████| 1/1 [00:00<00:00,  1.91it/s]\n"
          ]
        },
        {
          "output_type": "stream",
          "name": "stdout",
          "text": [
            "[{'13 CPK PIZZA BOX TILE TAKE AND BAKE': 'BOX PIZZA 13IN DP CPK TAKE/BKE'}, {'11 CPK PIZZA BOX TILE': 'BOX PIZZA 11IN DP CPK TILE'}, {'8 CPK PIZZA BOX TILE': 'BOX PIZZA 8IN CPK TILE'}]\n",
            "565\n"
          ]
        },
        {
          "output_type": "stream",
          "name": "stderr",
          "text": [
            "Processing Batches: 100%|██████████| 1/1 [00:00<00:00,  4.08it/s]\n"
          ]
        },
        {
          "output_type": "stream",
          "name": "stdout",
          "text": [
            "[{'11 CPK PIZZA BOX TILE': 'BOX PIZZA 11IN DP CPK TILE'}, {'8 CPK PIZZA BOX TILE': 'BOX PIZZA 8IN CPK TILE'}]\n",
            "566\n"
          ]
        },
        {
          "output_type": "stream",
          "name": "stderr",
          "text": [
            "Processing Batches: 100%|██████████| 1/1 [00:00<00:00,  3.47it/s]\n"
          ]
        },
        {
          "output_type": "stream",
          "name": "stdout",
          "text": [
            "[{'CONTCUP LID PLAS COLD 32S-44OZ': 'LID PLAS COLD 32S-44OZ'}, {'CTREGAL C TRAY CARRIER 2 CUP 50': 'TRAY CARRIER 2 CUP 50 OZ'}]\n",
            "567\n"
          ]
        },
        {
          "output_type": "stream",
          "name": "stderr",
          "text": [
            "Processing Batches: 100%|██████████| 1/1 [00:04<00:00,  4.08s/it]\n"
          ]
        },
        {
          "output_type": "stream",
          "name": "stdout",
          "text": [
            "[{'HALIBUT FILET SKIN ON': 'HALIBUT FILET SKIN ON'}, {'SCALLOP SEA U/10 DRY PORTICO': 'SCALLOP SEA DRY U/10 CT USA'}, {'MUSSEL BLUE PEI CANADA 23-27CT': 'MUSSEL BLUE PEI CANADA 23-27CT'}, {'POLLOCK FILET FRESH': 'POLLOCK FILET FRSH'}, {'SCALLOP SEA 10/20 FRSH PORTICO': 'SCALLOP SEA DRY 10/20 CT USA'}, {'SCALLOP SEA U10 WILD PORTCOV': 'SCALLOP SEA U10 USA WILD'}, {'COD FIL 16/UP REFRESH': 'COD SCROD FIL 16/UP REFRESH'}, {'CLAM TOPNECK FRESH 100CT': 'CLAM TOPNECK FRSH'}]\n",
            "568\n"
          ]
        },
        {
          "output_type": "stream",
          "name": "stderr",
          "text": [
            "Processing Batches: 100%|██████████| 1/1 [00:00<00:00,  3.37it/s]\n"
          ]
        },
        {
          "output_type": "stream",
          "name": "stdout",
          "text": [
            "[{'FRUIT STRAWBERRY IN': 'FRUIT STRAWBERRY IN DRK CHOC'}, {'BANANA DRIED IN': 'BANANA DRIED IN DARK CHOCOLATE'}]\n",
            "569\n"
          ]
        },
        {
          "output_type": "stream",
          "name": "stderr",
          "text": [
            "Processing Batches: 100%|██████████| 1/1 [00:00<00:00,  3.02it/s]\n"
          ]
        },
        {
          "output_type": "stream",
          "name": "stdout",
          "text": [
            "[{'CANDY BAR SNICKER': 'CANDY BAR SNICKER 1.86 OZ'}, {'SNACK BAR HNY RSTD': 'SNACK BAR HNY RSTD NUT SEA SLT'}]\n",
            "570\n"
          ]
        },
        {
          "output_type": "stream",
          "name": "stderr",
          "text": [
            "Processing Batches: 100%|██████████| 1/1 [00:00<00:00,  2.61it/s]\n"
          ]
        },
        {
          "output_type": "stream",
          "name": "stdout",
          "text": [
            "[{'BAR ENERGY CHOCPEANUT BUTR': 'BAR ENERGY CHOC PEANUT BUTR'}, {'BAR ENERGY BLDRCHOC MINT': 'BAR ENERGY BLDR CHOC MINT'}]\n",
            "571\n"
          ]
        },
        {
          "output_type": "stream",
          "name": "stderr",
          "text": [
            "Processing Batches: 100%|██████████| 1/1 [00:02<00:00,  2.83s/it]\n"
          ]
        },
        {
          "output_type": "stream",
          "name": "stdout",
          "text": [
            "[{'BRANZINO BFLY': 'BASS SEA BFLY BRANZINO 8-10 OZ'}, {'CLAM PASTANECK LIVE': 'CLAM LITTLENECK LIVE FARM'}, {'OYSTER EASTERN': 'OYSTER INSHELL BLUEPOINT'}, {'SALMON ATL FLT': 'SALMON ATL FIL D-TRIM 2-3# CHL'}, {'SALMON ATL PRTN': 'SALMON ATL PRTN CC SKNLS 8OZ'}, {'SALMON ATLANTIC': 'SALMON PIECES TRIM'}, {'TUNA AHI #1': 'TUNA LOIN #1 C/C SKLS BLO'}]\n",
            "572\n"
          ]
        },
        {
          "output_type": "stream",
          "name": "stderr",
          "text": [
            "Processing Batches: 100%|██████████| 1/1 [00:00<00:00,  2.17it/s]\n"
          ]
        },
        {
          "output_type": "stream",
          "name": "stdout",
          "text": [
            "[{'SAUCE HOT ORIG': 'SAUCE HOT ORIG'}, {'SAUCE HOT JALAPENOGREEN': 'SAUCE HOT JALAPENO GREEN'}, {'SUGAR IN THE RAW': 'SUGAR IN THE RAW'}]\n",
            "573\n"
          ]
        },
        {
          "output_type": "stream",
          "name": "stderr",
          "text": [
            "Processing Batches: 100%|██████████| 1/1 [00:00<00:00,  1.70it/s]\n"
          ]
        },
        {
          "output_type": "stream",
          "name": "stdout",
          "text": [
            "[{'Napkin Band Hunter Green 15 x 425- SYSCO': 'BAND NAPKIN 1.5X4.25 HTR GREEN'}, {'Napkin Band White 15 x 425- SYSCO': 'BAND NAPKIN PAPR 1.5X4.25 WHT'}, {'Napkin Band Burgundy 15 x 425- SYSCO': 'BAND NAPKIN PAPR 1.5X4.25 BURG'}]\n",
            "574\n"
          ]
        },
        {
          "output_type": "stream",
          "name": "stderr",
          "text": [
            "Processing Batches: 100%|██████████| 1/1 [00:00<00:00,  1.77it/s]\n"
          ]
        },
        {
          "output_type": "stream",
          "name": "stdout",
          "text": [
            "[{'Napkin Band White 15 x 425- SYSCO': 'BAND NAPKIN PAPR 1.5X4.25 WHT'}, {'Napkin Band Burgundy 15 x 425- SYSCO': 'BAND NAPKIN PAPR 1.5X4.25 BURG'}, {'Napkin Band Hunter Green 15 x 425- SYSCO': 'BAND NAPKIN 1.5X4.25 HTR GREEN'}]\n",
            "575\n"
          ]
        },
        {
          "output_type": "stream",
          "name": "stderr",
          "text": [
            "Processing Batches: 100%|██████████| 1/1 [00:00<00:00,  1.11it/s]\n"
          ]
        },
        {
          "output_type": "stream",
          "name": "stdout",
          "text": [
            "[{'SMKD TROUT DT 8OZ': 'TROUT SMOKED FRESH'}, {'SALMON FILLET 3-4# D-TRIM': 'SALMON ATL FIL DTRIM CAN 3-4#'}, {'SALMON SKUNAGOLD RIVER FILLET': 'SALMON FIL FRSH 3/4 SKUNA BAY'}, {'PEI MUSSELS 10# BAG': 'MUSSEL FRESH BLK PEI'}]\n",
            "576\n"
          ]
        },
        {
          "output_type": "stream",
          "name": "stderr",
          "text": [
            "Processing Batches: 100%|██████████| 1/1 [00:00<00:00,  3.60it/s]\n"
          ]
        },
        {
          "output_type": "stream",
          "name": "stdout",
          "text": [
            "[{'SALMON LRG ATLANTIC FILLET PBO': 'SALMON ATL FIL DTRIM CAN 3-4#'}, {'SALMON FILLET 2-4# D-TRIM': 'SALMON ATL FIL SKLS PBO 2-4 LB'}]\n",
            "577\n"
          ]
        },
        {
          "output_type": "stream",
          "name": "stderr",
          "text": [
            "Processing Batches: 100%|██████████| 1/1 [00:00<00:00,  3.52it/s]\n"
          ]
        },
        {
          "output_type": "stream",
          "name": "stdout",
          "text": [
            "[{'CANDY SKITTLEMASHUPS 9 OZ': 'CANDY SKITTLE MASHUPS 9 OZ'}, {'ENTREE BEEF A RONI': 'ENTREE BEEF A RONI'}]\n",
            "578\n"
          ]
        },
        {
          "output_type": "stream",
          "name": "stderr",
          "text": [
            "Processing Batches: 100%|██████████| 1/1 [00:00<00:00,  1.83it/s]\n"
          ]
        },
        {
          "output_type": "stream",
          "name": "stdout",
          "text": [
            "[{'COCOA MIX ALEGRIA': 'COCOA MIX ALEGRIA'}, {'CANDY SKITTLE FRUITCHEW 217Z': 'CANDY SKITTLE FRUIT CHEW 2.17Z'}, {'CANDY STARBRSTFRUIT CHW 207Z': 'CANDY STARBRST FRUIT CHW 2.07Z'}]\n",
            "579\n"
          ]
        },
        {
          "output_type": "stream",
          "name": "stderr",
          "text": [
            "Processing Batches: 100%|██████████| 1/1 [00:00<00:00,  1.78it/s]\n"
          ]
        },
        {
          "output_type": "stream",
          "name": "stdout",
          "text": [
            "[{'Napkin Band Burgundy 15 x 425- SYSCO': 'BAND NAPKIN PAPR 1.5X4.25 BURG'}, {'Napkin Band Hunter Green 15 x 425- SYSCO': 'BAND NAPKIN 1.5X4.25 HTR GREEN'}, {'Napkin Band White 15 x 425- SYSCO': 'BAND NAPKIN PAPR 1.5X4.25 WHT'}]\n",
            "580\n"
          ]
        },
        {
          "output_type": "stream",
          "name": "stderr",
          "text": [
            "Processing Batches: 100%|██████████| 1/1 [00:00<00:00,  3.00it/s]\n"
          ]
        },
        {
          "output_type": "stream",
          "name": "stdout",
          "text": [
            "[{'Napkin Band Burgundy 15 x 425- SYSCO': 'BAND NAPKIN PAPR 1.5X4.25 BURG'}, {'Napkin_Band White 15 x 425- SYSCO': 'BAND NAPKIN PAPR 1.5X4.25 WHT'}]\n",
            "581\n"
          ]
        },
        {
          "output_type": "stream",
          "name": "stderr",
          "text": [
            "Processing Batches: 100%|██████████| 1/1 [00:00<00:00,  1.19it/s]\n"
          ]
        },
        {
          "output_type": "stream",
          "name": "stdout",
          "text": [
            "[{'OYSTER BLUE POINT EC': 'OYSTER BLUEPOINT FRESH'}, {'OYSTER MID ATLANTIIC 100 CT': 'OYSTER LIVE MID-ATLANTIC 100CT'}, {'SALMON FILLET KING PBI C-TRIM': 'SALMON KING FIL FRSH'}, {'TROUT RANDOM DRESSED': 'TROUT WHL DRSSD RNDM 10-16Z'}]\n",
            "582\n"
          ]
        },
        {
          "output_type": "stream",
          "name": "stderr",
          "text": [
            "Processing Batches: 100%|██████████| 1/1 [00:00<00:00,  2.94it/s]\n"
          ]
        },
        {
          "output_type": "stream",
          "name": "stdout",
          "text": [
            "[{'Jersey Mikes Mini White Sub': 'ROLL MINI WHT SUB'}, {'Jersey Mikes Wheat': 'ROLL WHEAT SUB'}, {'Jersey Mikes White Sub': 'ROLL WHITE SUB'}]\n",
            "583\n"
          ]
        },
        {
          "output_type": "stream",
          "name": "stderr",
          "text": [
            "Processing Batches: 100%|██████████| 1/1 [00:00<00:00,  3.40it/s]\n"
          ]
        },
        {
          "output_type": "stream",
          "name": "stdout",
          "text": [
            "[{'LA SPAGNOLA BLENDED VEGETABLE AND': 'OIL VEG /PURE OLIVE 90/10 BLND'}, {'FRI LITE (35 LB DP)': 'SHORTENING FRY LIQ CLR CANOLA'}]\n",
            "584\n"
          ]
        },
        {
          "output_type": "stream",
          "name": "stderr",
          "text": [
            "Processing Batches: 100%|██████████| 3/3 [00:10<00:00,  3.36s/it]\n"
          ]
        },
        {
          "output_type": "stream",
          "name": "stdout",
          "text": [
            "[{'ICE CREAM GELATO W/ MALT BALLS 3/5LT': 'ICE CREAM GELATO W/MALT BALLS'}, {'ICE CREAM GELATO MACKINAC FDGE 3/5LT': 'ICE CREAM GELATO MACKINAC FDGE'}, {'ICE CREAM SORBETO RED RASP 3/5LT': 'ICE CREAM SORBETO RED RASP'}, {'ICE CREAM GELATO BUTR PECAN 3 / 5LT': 'ICE CREAM GELATO BUTR PECAN'}, {'15127 ICE CREAM CAFE MOCHA GELATO': 'ICE CREAM CAFE MOCHA GELATO'}, {'ICE CREAM GELATO VAN BEAN 3/ 5LT': 'ICE CREAM GELATO VAN BEAN'}, {'ICE CREAM GELATO BLU BUTR CKIE 3/ 5LT': 'ICE CREAM GELATO BLU BUTR CKIE'}, {'ICE CREAM GELATO SWISS CHOC 3/ 5LT': 'ICE CREAM GELATO SWISS CHOC'}, {'ICE CREAM GELATO MALO/CHOC CHK 3/5LT': 'ICE CREAM GELATO MALO/CHOC CHK'}, {'ICE CREAM GELATO TURKSH COFF 3/5LT': 'ICE CREAM GELATO TURKSH COFF'}, {'ICE CREAM GELATO CHOC ND VEGAN 3/5LT': 'ICE CREAM GELATO CHOC ND VEGAN'}, {'ICE CREAM GELATO STRAW FRSH 3/5LT': 'ICE CREAM GELATO STRAW FRSH'}]\n",
            "585\n"
          ]
        },
        {
          "output_type": "stream",
          "name": "stderr",
          "text": [
            "Processing Batches: 100%|██████████| 1/1 [00:00<00:00,  3.66it/s]\n"
          ]
        },
        {
          "output_type": "stream",
          "name": "stdout",
          "text": [
            "[{'OIL (6/1 GALLON)': 'OIL CANOLA/OLIVE BLEND 90/10'}, {'OLIVE OIL (6/1 GALLON)': 'OIL VEG /PURE OLIVE 90/10 BLND'}]\n",
            "586\n"
          ]
        },
        {
          "output_type": "stream",
          "name": "stderr",
          "text": [
            "Processing Batches: 100%|██████████| 1/1 [00:00<00:00,  1.79it/s]\n"
          ]
        },
        {
          "output_type": "stream",
          "name": "stdout",
          "text": [
            "[{'JERSEY MIKES 25% BLEND (6/1': 'OIL OLIVE BLEND'}, {'LA SPAGNOLA BLENDED VEGETABLE': 'OIL VEG /PURE OLIVE 90/10 BLND'}, {'JERSEY MIKES RED WINE VINEGAR': 'VINEGAR RED WINE'}]\n",
            "587\n"
          ]
        },
        {
          "output_type": "stream",
          "name": "stderr",
          "text": [
            "Processing Batches: 100%|██████████| 1/1 [00:00<00:00,  3.94it/s]\n"
          ]
        },
        {
          "output_type": "stream",
          "name": "stdout",
          "text": [
            "[{'CATFISH IQF': 'CATFISH FILET 6-7 OZ'}, {'CATFISH IQF': 'CATFISH FILET IQF 7-9 OZ CHINA'}]\n",
            "588\n"
          ]
        },
        {
          "output_type": "stream",
          "name": "stderr",
          "text": [
            "Processing Batches: 100%|██████████| 1/1 [00:00<00:00,  4.01it/s]\n"
          ]
        },
        {
          "output_type": "stream",
          "name": "stdout",
          "text": [
            "[{'BRUTE CONT 32G/121LGRAY': 'CONTAINER TRASH BRUTE GRY VENT'}, {'BAGS FOR 6140': 'BAG PAPER FOR SANITARY RECEPTL'}]\n",
            "589\n"
          ]
        },
        {
          "output_type": "stream",
          "name": "stderr",
          "text": [
            "Processing Batches: 100%|██████████| 1/1 [00:00<00:00,  4.47it/s]\n"
          ]
        },
        {
          "output_type": "stream",
          "name": "stdout",
          "text": [
            "[{'CATFISH': 'CATFISH FILET 6-7 OZ'}, {'CATFISH': 'CATFISH FILET IQF 7-9 OZ CHINA'}]\n",
            "590\n"
          ]
        },
        {
          "output_type": "stream",
          "name": "stderr",
          "text": [
            "Processing Batches: 100%|██████████| 1/1 [00:00<00:00,  3.53it/s]\n"
          ]
        },
        {
          "output_type": "stream",
          "name": "stdout",
          "text": [
            "[{'COD - FILLET 12/24 oz ICELANDIC': 'COD FIL MKT FRESH'}, {'SALMON - FILLET 3-4 FAROE ISLAND': 'SALMON FIL FAROE ISLD 3-4'}]\n",
            "591\n"
          ]
        },
        {
          "output_type": "stream",
          "name": "stderr",
          "text": [
            "Processing Batches: 100%|██████████| 1/1 [00:00<00:00,  1.82it/s]\n"
          ]
        },
        {
          "output_type": "stream",
          "name": "stdout",
          "text": [
            "[{'SALMON SIDE ORIG SMOKED': 'SALMON SIDE ORIG SMK'}, {'CLAM LITTLENECK FRESH 100CT': 'CLAM LITTLENECK FRSH'}, {'SALMN FIL 3-5 D FRM CHILE': 'SALMON ATL D-TRIM 4-5# CHL'}]\n",
            "592\n"
          ]
        },
        {
          "output_type": "stream",
          "name": "stderr",
          "text": [
            "Processing Batches: 100%|██████████| 1/1 [00:00<00:00,  3.41it/s]\n"
          ]
        },
        {
          "output_type": "stream",
          "name": "stdout",
          "text": [
            "[{'6oz Marinated Beef Steak-Jersey Mikes-1013lbs': 'BEEF STEAK PHILLY 6 OZ'}, {'6oz Marinated Chicken Breast-Jersey Mikes 1013lb': 'CHICKEN PHILLY STEAK 6 OZ FRZN'}]\n",
            "593\n"
          ]
        },
        {
          "output_type": "stream",
          "name": "stderr",
          "text": [
            "Processing Batches: 100%|██████████| 1/1 [00:02<00:00,  2.31s/it]\n"
          ]
        },
        {
          "output_type": "stream",
          "name": "stdout",
          "text": [
            "[{'Roll Sub White Rustic': 'ROLL SUB WHITE RUSTIC'}, {'Dough Pizza 10in Hnd Tssed Lg': 'DOUGH PIZZA 10IN HND TSSED LG'}, {'Sausage Ital Family Recipe Top': 'SAUSAGE ITAL FAMILY RECIPE TOP'}, {'Beef Cooked Topping F/ Pzz': 'BEEF COOKED TOPPING F/ PZZ'}, {'Dough Pizza Small Famous Thin': 'DOUGH PIZZA SMALL FAMOUS THIN'}, {'Dough Pizza Lrg Thn On Papr': 'DOUGH PIZZA LRG THN ON PAPR'}, {'-Dough Pizza Med Thin On Papr': 'DOUGH PIZZA MED THIN ON PAPR'}]\n",
            "594\n"
          ]
        },
        {
          "output_type": "stream",
          "name": "stderr",
          "text": [
            "Processing Batches: 100%|██████████| 1/1 [00:02<00:00,  2.20s/it]\n"
          ]
        },
        {
          "output_type": "stream",
          "name": "stdout",
          "text": [
            "[{'Container Plas Blk Miro 80oz': 'CONTAINER PLAS BLK MIRO 80OZ'}, {'Lid Plas Clr Micro F/Mega Meal': 'LID PLAS CLR MICRO F/MEGA MEAL'}, {'Box Pizza 10 In Global': 'BOX PIZZA 10 IN GLOBAL'}, {'Box Pizza 12 In Global': 'BOX PIZZA 12 IN GLOBAL'}, {'Box Pizza 14 In Global': 'BOX PIZZA 14 IN GLOBAL'}, {'Box Pizza 7 In Global': 'BOX PIZZA 7 IN GLOBAL'}, {'Sauce Pizza RTU Thin': 'SAUCE PIZZA RTU THIN'}]\n",
            "595\n"
          ]
        },
        {
          "output_type": "stream",
          "name": "stderr",
          "text": [
            "Processing Batches: 100%|██████████| 1/1 [00:01<00:00,  1.41s/it]\n"
          ]
        },
        {
          "output_type": "stream",
          "name": "stdout",
          "text": [
            "[{'Pepperoni Sliced': 'PEPPERONI SLICED'}, {'Ham Sli Ckd': 'HAM SLI CKD'}, {'Cheese Romano Oregano Blend': 'CHEESE ROMANO OREGANO BLEND'}, {'Cheese Provolone Shrd': 'CHEESE PROVOLONE SHRD'}, {'Cheese Mariachi Spice Mix': 'CHEESE MARIACHI SPICE MIX'}, {'Salami Hard Sli': 'SALAMI HARD SLI'}]\n",
            "596\n"
          ]
        },
        {
          "output_type": "stream",
          "name": "stderr",
          "text": [
            "Processing Batches: 100%|██████████| 1/1 [00:00<00:00,  1.80it/s]\n"
          ]
        },
        {
          "output_type": "stream",
          "name": "stdout",
          "text": [
            "[{'Cheese Provolone Shrd': 'CHEESE PROVOLONE SHRD'}, {'Ham Sli Ckd': 'HAM SLI CKD'}, {'Pepperoni Sliced': 'PEPPERONI SLICED'}, {'Salami Hard Sli': 'SALAMI HARD SLI'}]\n",
            "597\n"
          ]
        },
        {
          "output_type": "stream",
          "name": "stderr",
          "text": [
            "Processing Batches: 100%|██████████| 1/1 [00:00<00:00,  1.65it/s]\n"
          ]
        },
        {
          "output_type": "stream",
          "name": "stdout",
          "text": [
            "[{'MANDA 10#ANDOUILLE': 'SAUSAGE ANDOUILLE BULK'}, {'SOUTHERN STYLE': 'SAUSAGE SMOKED SOUTHERN STYLE'}, {'MANDA 10# HRI MILD': 'SAUSAGE SMOKED'}]\n",
            "598\n"
          ]
        },
        {
          "output_type": "stream",
          "name": "stderr",
          "text": [
            "Processing Batches: 100%|██████████| 2/2 [00:06<00:00,  3.11s/it]\n"
          ]
        },
        {
          "output_type": "stream",
          "name": "stdout",
          "text": [
            "[{'MANDA NO STYLE COOKED RB': 'BEEF ROAST TOP RND C\\\\O MW SPT'}, {'LA PRIDE DRY PACK RB': 'BEEF ROAST TOP RND C\\\\O MR DF'}, {'MANDA WET PACK CAP OFF RB': 'BEEF ROAST TOP RND C\\\\O MR WHL'}, {'MANDA SUPREME DRY CAP OFF RB': 'BEEF ROAST TOP RND C\\\\O MW DF'}, {'MANDA 240ct BOUDIN BALLS': 'PORK BOUDIN BALLS'}, {'MANDA 10#ANDOUILLE': 'SAUSAGE ANDOUILLE BULK'}, {'MANDA 12# MILD SAUSAGE': 'SAUSAGE PORK ROPE SMKD'}, {'MANDA 10# BR HOT SAUSAGE': 'SAUSAGE PORK SMKD HOT SKLS'}, {'MANDA 10# MILD SAUSAGE': 'SAUSAGE PORK SMK'}, {'MANDA 10# SCHOOL PORK ROPE': 'SAUSAGE SMOKED ROPE'}]\n",
            "599\n"
          ]
        },
        {
          "output_type": "stream",
          "name": "stderr",
          "text": [
            "Processing Batches: 100%|██████████| 3/3 [00:08<00:00,  2.72s/it]\n"
          ]
        },
        {
          "output_type": "stream",
          "name": "stdout",
          "text": [
            "[{'BEEF SHLD CLOD-CASINO ROAST CH': 'BEEF CHUCK CLOD HEART BNLS CH'}, {'LAMB LEG BRT AUSTRALIAN FRZN TY': 'LAMB LEG BRT AUSTRALIAN FRZN'}, {'PORK DICED 1/4X1/4 85 FRSH': 'PORK DICED 1\\\\4X1\\\\4 85% FRSH'}, {'STK TENDER FILET BARREL CH 8OZ OZ': 'STEAK FILET BRL CH'}, {'STK TENDER MEDALLION BCH PRF': 'STEAK FILET MEDLLN BCH PRF'}, {'PORK CHOP FRNCH SING-BN 1TL OZ': 'PORK CHOP B\\\\I C\\\\C FRCHD'}, {'STEAK RIBEYE BNLS 1TL CH 6PC': 'STEAK RIBEYE BNLS 1TL CH'}, {'CAB STK RIBEYE BIN FRCH LNGBN': 'STEAK RIBEYE B\\\\I FRNCH LNGBN'}, {'CAB STK BALL TIP NO-FAT 8OZ': 'STEAK SIRL BALLTIP SKND'}, {'BCH PRF BEEF RIBEYE WHOLE': 'BEEF RIBEYE LIPON N\\\\R IMP'}, {'PORK CHOP CC RIB 8OZ': 'PORK CHOP B\\\\I C\\\\C RIB'}, {'CAB STK BALL TIP 1/4TRM 8OZ': 'STEAK SIRL BALLTIP 1\\\\4'}]\n",
            "600\n"
          ]
        },
        {
          "output_type": "stream",
          "name": "stderr",
          "text": [
            "Processing Batches: 100%|██████████| 1/1 [00:00<00:00,  1.70it/s]\n"
          ]
        },
        {
          "output_type": "stream",
          "name": "stdout",
          "text": [
            "[{'Non Produce Container Food MCA 8oz 50/20 ct': 'CONTAINER PAPER FOOD 8 OZ LOGO'}, {'Non Produce MCAL LRGE C-Out 19 x 375 500 ct': 'BAG PLAS LARGE C OUT 19X3.75'}, {'Non Produce Straw 1025in Giant Red New MCA 4/500 ct': 'STRAW PLAS RED GNT 10.25 WRAPD'}]\n",
            "601\n"
          ]
        },
        {
          "output_type": "stream",
          "name": "stderr",
          "text": [
            "Processing Batches: 100%|██████████| 1/1 [00:00<00:00,  4.94it/s]\n"
          ]
        },
        {
          "output_type": "stream",
          "name": "stdout",
          "text": [
            "[{'Four Seasons Seattle': 'WATER SPRING BOXED'}, {'Fairmont Olympic Seattle': 'WATER SPRING BOXED CUSTOM'}]\n",
            "602\n"
          ]
        },
        {
          "output_type": "stream",
          "name": "stderr",
          "text": [
            "Processing Batches: 100%|██████████| 3/3 [00:10<00:00,  3.38s/it]\n"
          ]
        },
        {
          "output_type": "stream",
          "name": "stdout",
          "text": [
            "[{'BRANZINO BFLY': 'BASS SEA BFLY BRANZINO 8-10 OZ'}, {'CRAB JONAH 5-8': 'CRAB CLAW JONAH 5-8'}, {'HALIBUT FIL 3/8#': 'HALIBUT FIL SKLS 3-8LB'}, {'HALIBUT PORTION': 'HALIBUT PRTN REG SKLS 8 OZ'}, {'HALIBUT PORTION': 'HALIBUT PRTN REG SKLS 6 OZ'}, {'HALIBUT H&G': 'HALIBUT WHL FRSH 10-20#'}, {'HAMACHI FIL': 'HAMACHI FILET S/ON YELLOWTAIL'}, {'LOBSTER LIVE': 'LOBSTER LIVE 1.25-1.5LB (QTRS)'}, {'OYSTER EASTERN': 'OYSTER INSHELL BLUEPOINT'}, {'SALMON ATL FLT': 'SALMON ATL FIL D-TRIM 3-4# CHL'}, {'SALMON ATL': 'SALMON ATL PRTN CC SKNLS 8OZ'}, {'SALMON ATLANTIC': 'SALMON PIECES TRIM'}, {'TUNA AHI #1 C/C': 'TUNA LOIN #1 C/C SKLS BLO'}]\n",
            "603\n"
          ]
        },
        {
          "output_type": "stream",
          "name": "stderr",
          "text": [
            "Processing Batches: 100%|██████████| 1/1 [00:02<00:00,  2.95s/it]\n"
          ]
        },
        {
          "output_type": "stream",
          "name": "stdout",
          "text": [
            "[{'SALMON FIL CHILE': 'SALMON ATL FIL D-TRIM 3-4# CHL'}, {'SEA U-8 WILD': 'SCALLOP SEA U-8 USA WILD'}, {'SEA U10 WILD': 'SCALLOP SEA U10 USA WILD'}, {'TAIL CLD WTR': 'LOBSTER TAIL CLD WTR 14/16OZ'}, {'FIL 2/3 D CHILE': 'SALMON ATL FIL D-TRIM 2-3# CHL'}, {'P&D RAW': 'SHRIMP P&D RAW 6/8CT T/ON'}, {'SALMON FIL CH]LE': 'SALMON ATL FIL D-TRIM 3-4# CHL'}]\n",
            "604\n"
          ]
        },
        {
          "output_type": "stream",
          "name": "stderr",
          "text": [
            "Processing Batches: 100%|██████████| 2/2 [00:04<00:00,  2.27s/it]\n"
          ]
        },
        {
          "output_type": "stream",
          "name": "stdout",
          "text": [
            "[{'6 0Z DESSERT DISH': 'BOWL PLAS CLEAR 6 OZ'}, {'9 OZ SQUAT TMBL SYSCO': 'CUP PLAS CLR SQUAT 9 OZ RIGID'}, {'7 OZ TALL TUMBLER': 'CUP PLAS CLR TALL 7 OZ'}, {'ECOSENSE PSM CUTLERY KIT WHITE': 'KIT CUTLERY F,S,K,N PLANTSTRCH'}, {'SPOON NAP ROLL': 'KIT CUTLERY NPKN ROLL REFLCTN'}, {'7 IN PSM KNIFE WHITE': 'KNIFE PLAS'}, {'12 RND TRAY DOME STD': 'LID DOME PLAS F/ CATER TRAY'}, {'18 RND TRAY DOME STD': 'LID DOME PLAS F/ CATER TRAY'}, {'CHECKMATE 12 PLATTER BLACK': 'TRAY CATER PLAS RND BLK 12'}]\n",
            "605\n"
          ]
        },
        {
          "output_type": "stream",
          "name": "stderr",
          "text": [
            "Processing Batches: 100%|██████████| 2/2 [00:06<00:00,  3.33s/it]\n"
          ]
        },
        {
          "output_type": "stream",
          "name": "stdout",
          "text": [
            "[{'SALMON PORTION': 'SALMON PORTION STR CUT 7OZ'}, {'SALMON FILET PRTN': 'SALMON ATL E\\\\E PRTN SK\\\\OFF'}, {'HAMACHI FILET': 'HAMACHI FILET S/ON YELLOWTAIL'}, {'TUNA LOIN 2+SKON': 'TUNA LOIN 2+ SKIN ON'}, {'SALMON PRTN': 'SALMON PRTN C\\\\C'}, {'SALMON PORTION': 'SALMON PORTION STR CUT 7OZ'}, {'CONCH MEAT': 'CONCH MEAT 5LB PK FRZ'}, {'HALIBUT FILET SKIN': 'HALIBUT FILET SKIN ON'}, {'SALMN FLET CANADIAN': 'SALMON FILET CANADN'}, {'CALAMARI RING': 'CALAMARI RING TENT DUST GF IQF'}, {'SEABASS FILET SK-ON': 'BASS SEA FIL SK\\\\ON'}]\n",
            "606\n"
          ]
        },
        {
          "output_type": "stream",
          "name": "stderr",
          "text": [
            "Processing Batches: 100%|██████████| 1/1 [00:02<00:00,  2.80s/it]\n"
          ]
        },
        {
          "output_type": "stream",
          "name": "stdout",
          "text": [
            "[{'BEEF RIBEYE LIPON SEL 15#DN': 'BEEF RIBEYE LIPON SEL'}, {'PORK GROUND 80/20 FRESH': 'PORK GROUND 80\\\\20 FRSH'}, {'PORK CHOP B/IN LNGBN FRN': 'PORK CHOP LNGBN FRCHD DUROC'}, {'BEEF PECTORAL STRIPS MARN': 'BEEF PECTORAL STRIPS MRNATD'}, {'STK STRIP CC 1TL ST-OFF RSV': 'STEAK STRIP C\\\\C 1TL BSO RSV'}, {'TOP BUTT CC 14 TRM BCH': 'STEAK SIRL TOP C\\\\C 1\\\\4 BCHPRF'}, {'PORK CHOP B/IN LNGBN FRN': 'PORK CHOP LNGBN FRCHD DUROC'}]\n",
            "607\n"
          ]
        },
        {
          "output_type": "stream",
          "name": "stderr",
          "text": [
            "Processing Batches: 100%|██████████| 1/1 [00:00<00:00,  4.00it/s]\n"
          ]
        },
        {
          "output_type": "stream",
          "name": "stdout",
          "text": [
            "[{'CS 75 SLICED SANDWICH ROLL': 'ROLL SANDWICH BKD 7IN'}, {'CS GOURMET BURGER ROLL': 'ROLL HAMBURGER ROLL 3 OZ SLI'}]\n",
            "608\n"
          ]
        },
        {
          "output_type": "stream",
          "name": "stderr",
          "text": [
            "Processing Batches: 100%|██████████| 53/53 [03:28<00:00,  3.93s/it]\n"
          ]
        },
        {
          "output_type": "stream",
          "name": "stdout",
          "text": [
            "[{'BEEFCHUCKSHORTRIBBNLS': 'BEEF CHUCK SHORT RIB BNLS'}, {'BEEF FAT TALLOW KOBE-SH': 'BEEF FAT TALLOW KOBE-SHI'}, {'BEEF RIBM SLICE': 'BEEF RIBEYE SLI 1.4MM FRZN'}, {'CAB BEEF SIRLOIN FLAP PLD': 'BEEF SIRLOIN FLAP PLD'}, {'PORK DICED STEW': 'PORK DICED STEW X-LN 98% .5X.5'}, {'CAB STK CHUCK FLAT IRON': 'STEAK CHUCK FLAT IRON'}, {'CAB STK TENDER FILET CC': 'STEAK FILET C\\\\C'}, {'CAB STK TENDER FILET': 'STEAK FILET E\\\\E'}, {'CAB IAP DRY AGE PORTER 1/2TL': 'STEAK PORTER 1\\\\2TL D\\\\A IAP'}, {'CAB STK RIBEYE1TLBIN': 'STEAK RIBEYE B\\\\I 1TL'}, {'CAB STK BALL TIP NO-FAT': 'STEAK SIRL BALLTIP SKND'}, {'CAB STK TOP BUTT BSBALL': 'STEAK SIRL TOP BSBALL SKND'}, {'STEAK SKIRT OUTSIDE IAP': 'STEAK SKIRT OUTSDE IAP NCC'}, {'CAB IAP STK SKIRT OUTSD SMOQ': 'STEAK SKIRT OUTSIDE IAP SMOQUE'}, {'STK STRIP CC 1/2TL ST-OFF PRM': 'STEAK STRIP C\\\\C 1\\\\2TL BSO PR'}, {'STEAK TBONE': 'STEAK TBONE 1\\\\4TL'}, {'BEEF STEAK TACO MEAT ELBURRITO': 'BEEF STEAK TACO MEAT'}, {'BEEF CHUCK SHORT RIB BNLS': 'BEEF CHUCK SHORT RIB BNLS'}, {'PORK CHOP CC RIB': 'PORK CHOP B\\\\I C\\\\C RIB ONLY'}, {'BEEF STROGANOFF 3/8 X 2 FRES': 'BEEF STROGANOFF 3\\\\8X2IN FRSH'}, {'STK STRIP END-CUT 1 TL': 'STEAK STRIP VEIN CH'}, {'CAB STEAK R[BEYE Bl': 'STEAK RIBEYE B\\\\I 1TL'}, {'CAB STEAK RIBEYE BNLS': 'STEAK RIBEYE BNLS 1TL'}, {'PORK CHOP FRNCH SING-BN 1TL': 'PORK CHOP B\\\\I C\\\\C FRCHD'}, {'CAB TENDERLOIN 6# UP HVY': 'BEEF TENDERLOIN PSMO'}, {'BEEF RIBEYE CAP AMWAGYU': 'BEEF RIBEYE CAP AMWAGYU DMNICS'}, {'BEEF FOR TACO MEAT DICED': 'BEEF FOR TACO MEAT DICED 1/4IN'}, {'CAB RIBEYE BIN FRNCH LNGB': 'STEAK RIBEYE B\\\\I FRNCH LNGBN'}, {'PORK CHOP B/1 C/C RIB WMF': 'PORK CHOP B\\\\I C\\\\C RIB'}, {'CAB STK STRIP VEIN DENUDED': 'STEAK STRIP VEIN DENUDED'}, {'BEEF STRIPLOIN': 'BEEF STRIPLOIN 0X1 AMWAGYU GLD'}, {'STK RIBEYE BNLS 0TAIL CH': 'STEAK RIBEYE BNLS 0TL CH'}, {'CAB BEEF RIBEYE EXPORT': 'BEEF RIBEYE EXPORT'}, {'STK TENDER MEDALLION BCH': 'STEAK FILET MEDLLN BCH PRF'}, {'STEAK RIBEYE SLICED': 'STEAK RIBEYE SLI 3\\\\16 FRZN'}, {'CAB STK STRIP CC 1TL ST-OFF': 'STEAK STRIP C\\\\C 1 TL 1 BSO'}, {'CAB CHUCK ROLL NECK OFF': 'BEEF CHUCK ROLL NECK OFF CH'}, {'BEEF HANGING TENDER NR': 'STEAK HANGER TENDER'}, {'CAB STK STRIP BNLS EE THIC': 'STEAK STRIP E\\\\E 1\\\\2TL MAGG'}, {'STK STRIP CC 1TL ST-OFF RSV': 'STEAK STRIP C\\\\C 1TL BSO RSV'}, {'CAB CULOTTE MUSCLE - J]C V-1 AC': 'BEEF SIRL COULOT JAC VAC1'}, {'BEEF STRIPLOIN': 'BEEF STRIP 0X1 AMWAGYU SILVER'}, {'LAMB CHOP LOIN DOMSTC 1/4TL': 'LAMB CHOP LOIN 1\\\\4TL'}, {'STK RIBEYE BNLS 1TL CH BO': 'STEAK RIBEYE BNLS 1TL CH'}, {'CHUCK SHOULDER CLOD HEART': 'BEEF CHUCK SHLDR CLOD HEART CH'}, {'BEEF STRIPLOIN 0X1 BLACK': 'BEEF STRIPLOIN 0X1 KOBE BLK FZ'}, {'STK CHUCK BISTRO MED VAC': 'STEAK CHUCK BISTRO MEDLLN VAC4'}, {'RIBEYE BNLS 1TL BCH PRF': 'STEAK RIBEYE BNLS 1TL BCH PRF'}, {'CAB SKIRT OUTSDE IAP': 'STEAK SKIRT OUTSDE IAP'}, {'STK T-BONE 1/4TL CH': 'STEAK TBONE 1\\\\2TL CH'}, {'BEEF STEW 85% LN 1/2X1/2 FRSH': 'BEEF STEW 85% LEAN ECON 1\\\\2'}, {'LAMB LEG BRT AUSTRALIAN FRZN': 'LAMB LEG BRT AUSTRALIAN FRZN'}, {'TENDER FILET CC BCH': 'STEAK FILET C\\\\C VALUE LINE'}, {'CAB STK BALL TIP HOGI STYLE': 'STEAK BALL TIP HOGI STYL CAB'}, {'CAB STK CULOTTE CAP FAT-OFF': 'STEAK SIRL CAP STRIP'}, {'BEEF CHUCK SHORT RIB BNLS': 'BEEF CHUCK SHORT RIB FLAP BNLS'}, {'PORK CHOP Bl CC FRCHD HARRA': 'PORK CHOP B\\\\I C\\\\C FRCHD HARRAH'}, {'BEEF FLAT IRON JICCARD RD': 'STEAK CHUCK FLAT IRON'}]\n",
            "609\n"
          ]
        },
        {
          "output_type": "stream",
          "name": "stderr",
          "text": [
            "Processing Batches: 100%|██████████| 1/1 [00:01<00:00,  1.71s/it]\n"
          ]
        },
        {
          "output_type": "stream",
          "name": "stdout",
          "text": [
            "[{'LOBSTER RAW MAINE BODIES': 'LOBSTER BODIES FROZEN'}, {'SALMON FILLET 3-4# D-TRIMHAVE AT LEAST SIX DAYS OF': 'SALMON ATL FIL DTRIM CAN 3-4#'}, {'SALMON SKUNAGOLD RIVERHAVE AT LEAST SIX DAYS': 'SALMON FIL FRSH 3/4 SKUNA BAY'}, {'PEI MUSSELS 10# BAG': 'MUSSEL FRESH BLK PEI'}]\n",
            "610\n"
          ]
        },
        {
          "output_type": "stream",
          "name": "stderr",
          "text": [
            "Processing Batches: 100%|██████████| 1/1 [00:00<00:00,  2.49it/s]\n"
          ]
        },
        {
          "output_type": "stream",
          "name": "stdout",
          "text": [
            "[{'CLAM W/C MANILA': 'CLAM MANILA FRSH'}, {'SABLEFISH 6OZ PORT': 'COD FIL BLACK PRTN 6 OZ SKON'}]\n",
            "611\n"
          ]
        },
        {
          "output_type": "stream",
          "name": "stderr",
          "text": [
            "Processing Batches: 100%|██████████| 1/1 [00:00<00:00,  2.68it/s]\n"
          ]
        },
        {
          "output_type": "stream",
          "name": "stdout",
          "text": [
            "[{'LOBSTER RAW MAINE BODIES': 'LOBSTER BODIES FROZEN'}, {'ATL SALMON D-TRIM': 'SALMON ATL FIL DTRIM CAN 3-4#'}]\n",
            "612\n"
          ]
        },
        {
          "output_type": "stream",
          "name": "stderr",
          "text": [
            "Processing Batches: 100%|██████████| 1/1 [00:00<00:00,  2.42it/s]\n"
          ]
        },
        {
          "output_type": "stream",
          "name": "stdout",
          "text": [
            "[{'SALMON LRG ATLANTIC FILLET PBO': 'SALMON ATL FIL DTRIM CAN 3-4#'}, {'SALMON FILLET 2-4# D-TRIM': 'SALMON ATL FIL SKLS PBO 2-4 LB'}]\n",
            "613\n"
          ]
        },
        {
          "output_type": "stream",
          "name": "stderr",
          "text": [
            "Processing Batches: 100%|██████████| 1/1 [00:00<00:00,  2.27it/s]\n"
          ]
        },
        {
          "output_type": "stream",
          "name": "stdout",
          "text": [
            "[{'ONION RING BRDGOURM 3/4': 'ONION RING BRD GOURM 3/4'}, {'CHEESE STICK MOZZBTRD 275 IN': 'CHEESE STICK MOZZ BTRD 2.75 IN'}]\n",
            "614\n"
          ]
        },
        {
          "output_type": "stream",
          "name": "stderr",
          "text": [
            "Processing Batches: 100%|██████████| 1/1 [00:01<00:00,  1.39s/it]\n"
          ]
        },
        {
          "output_type": "stream",
          "name": "stdout",
          "text": [
            "[{'Horchata Mix 25 LB Custom Culinary /Chefs Kitchen': 'DRINK MIX HORCHATA'}, {'Country Gravy Mix 6 X 20 OZ CustomCulinary / PanRoast': 'MIX GRAVY CNTRY PAN ROAST'}, {'Poblano Flavor Concentrate 6 X 1 LB GFGB/ GFGB': 'SAUCE POBLANO CONC'}, {'Vegetable Base 20 LB Custom Culinary /Chefs Kitchen': 'SOUP BASE VEG'}]\n",
            "615\n"
          ]
        },
        {
          "output_type": "stream",
          "name": "stderr",
          "text": [
            "Processing Batches: 100%|██████████| 1/1 [00:00<00:00,  1.20it/s]\n"
          ]
        },
        {
          "output_type": "stream",
          "name": "stdout",
          "text": [
            "[{'6oz Marinated Beef Steak-Jersey Mikes-1013lbs': 'BEEF STEAK PHILLY 6 OZ'}, {'6oz Marinated Chicken Breast-Jersey Mikes 1013lb': 'CHICKEN PHILLY STEAK 6 OZ FRZN'}, {'5oz Marinated Beef Steak-No Soy-10lbs': 'STEAK BEEF PHIL 5 OZ'}]\n",
            "616\n"
          ]
        },
        {
          "output_type": "stream",
          "name": "stderr",
          "text": [
            "Processing Batches: 100%|██████████| 1/1 [00:00<00:00,  2.73it/s]\n"
          ]
        },
        {
          "output_type": "stream",
          "name": "stdout",
          "text": [
            "[{'Jersey Mikes Mini White Sub': 'ROLL MINI WHT SUB'}, {'Jersey Mikes Wheat Sub': 'ROLL WHEAT SUB'}, {'Jersey Mikes White Sub': 'ROLL WHITE SUB'}]\n",
            "617\n"
          ]
        },
        {
          "output_type": "stream",
          "name": "stderr",
          "text": [
            "Processing Batches: 100%|██████████| 1/1 [00:00<00:00,  1.70it/s]\n"
          ]
        },
        {
          "output_type": "stream",
          "name": "stdout",
          "text": [
            "[{'Jersey Mikes Mini Wheat Sub': 'ROLL MINI WHEAT SUB'}, {'Jersey Mikes Mini White': 'ROLL MINI WHT SUB'}, {'Jersey Mikes Wheat Sub': 'ROLL WHEAT SUB'}, {'Jersey Mikes White Sub': 'ROLL WHITE SUB'}]\n",
            "618\n"
          ]
        },
        {
          "output_type": "stream",
          "name": "stderr",
          "text": [
            "Processing Batches: 100%|██████████| 1/1 [00:02<00:00,  2.48s/it]\n"
          ]
        },
        {
          "output_type": "stream",
          "name": "stdout",
          "text": [
            "[{'12Z CN 24P COKE': 'SODA COCA COLA CLS'}, {'12Z CN 24P DT COKE': 'SODA COKE DIET'}, {'500M GL 24LS COKE MEX': 'SODA COKE MEXICO GLASS NON RET'}, {'20Z PT 24LS DT DR PEP NKO': 'SODA DR PPR DIET'}, {'185Z PT 12LS GLD PK SWT BLK TEA': 'TEA SWEET'}, {'185Z PT 12LS GLD PK UNSWT BLK TEA': 'TEA UNSWEET'}, {'20Z PT 24LS SMTWTR': 'WATER BTLD SMARTWATER'}]\n",
            "619\n"
          ]
        },
        {
          "output_type": "stream",
          "name": "stderr",
          "text": [
            "Processing Batches: 100%|██████████| 1/1 [00:00<00:00,  3.76it/s]\n"
          ]
        },
        {
          "output_type": "stream",
          "name": "stdout",
          "text": [
            "[{'Buc-ees 6 fl oz Chocolate Chip': 'ICE CREAM SNDW CHOC CHIP VAN'}, {'Buc-ees 6 fl oz Sugar w/ Salted': 'ICE CREAM SNDW CRML SUG CKIE'}]\n",
            "620\n"
          ]
        },
        {
          "output_type": "stream",
          "name": "stderr",
          "text": [
            "Processing Batches: 100%|██████████| 1/1 [00:00<00:00,  3.71it/s]\n"
          ]
        },
        {
          "output_type": "stream",
          "name": "stdout",
          "text": [
            "[{'BEEF TENDERLOIN STK CHOICE': 'STEAK TENDER P VALLEY R/OFF CC'}, {'VEAL RIB CHOP CC 14oz FRENCH': 'VEAL CHOP RACK FRCHD FRSH'}]\n",
            "621\n"
          ]
        },
        {
          "output_type": "stream",
          "name": "stderr",
          "text": [
            "Processing Batches: 100%|██████████| 1/1 [00:01<00:00,  1.47s/it]\n"
          ]
        },
        {
          "output_type": "stream",
          "name": "stdout",
          "text": [
            "[{'Box Pizza Med 13 Hme': 'BOX PIZZA MED 13 HME PLATE'}, {'Box Pizza Lg 15 Hme': 'BOX PIZZA LG 15 HME PLATE'}, {'Dough Blend Deep': 'DOUGH BLEND DEEP PAN'}, {'Dough Blend Thin': 'DOUGH BLEND THIN CRUST'}, {'Dressing Salad Chu': 'DRESSING SALAD CHUCKWAGON'}, {'--Cracker Wheat': 'CRACKER WHEAT TWIN'}]\n",
            "622\n"
          ]
        },
        {
          "output_type": "stream",
          "name": "stderr",
          "text": [
            "Processing Batches: 100%|██████████| 1/1 [00:00<00:00,  4.68it/s]\n"
          ]
        },
        {
          "output_type": "stream",
          "name": "stdout",
          "text": [
            "[{'Box Pizza': 'BOX PIZZA LG 15 HME PLATE'}, {'Spice Pizza': 'SPICE PIZZA BAG'}]\n",
            "623\n"
          ]
        },
        {
          "output_type": "stream",
          "name": "stderr",
          "text": [
            "Processing Batches: 100%|██████████| 1/1 [00:01<00:00,  1.40s/it]\n"
          ]
        },
        {
          "output_type": "stream",
          "name": "stdout",
          "text": [
            "[{'7 GOLD FOIL SCALLOPED PAD C 200/CASE LOT#13679': 'PAD CAKE CORR SCALLOPED GOLD'}, {'10 GOLD SC - 200 10 GOLD FOIL SCALLOPED CIRCLES C 200/CASE LOT#15935': 'CIRCLE CORR SCALLOPED GOLD10IN'}, {'1/2 SH WAX - 50 1/2 SHEET WHITE/WAXED PAD RADIUS CORNERS C50/CASE LOT #15101': 'PAD CAKE CORR ROUNDED'}, {'1/4 SHEET 14X10 GOLD FOIL SCALLOPED PAD C 100/CASE LOT#15221': 'CIRCLE CAKE BOARD GOLD SCLPD'}]\n",
            "624\n"
          ]
        },
        {
          "output_type": "stream",
          "name": "stderr",
          "text": [
            "Processing Batches: 100%|██████████| 1/1 [00:00<00:00,  2.07it/s]\n"
          ]
        },
        {
          "output_type": "stream",
          "name": "stdout",
          "text": [
            "[{'POTATO TATERBARREL': 'POTATO TATER BARREL'}, {'POTATO H/BRN DICE': 'POTATO H/BRN DICE SKON'}, {'POTATO FRY KK 1/2': 'POTATO FRY KK 1/2'}]\n",
            "625\n"
          ]
        },
        {
          "output_type": "stream",
          "name": "stderr",
          "text": [
            "Processing Batches: 100%|██████████| 2/2 [00:04<00:00,  2.01s/it]\n"
          ]
        },
        {
          "output_type": "stream",
          "name": "stdout",
          "text": [
            "[{'Popeyes Coleslaw Slurry': 'DRESSING COLESLAW'}, {'POPEYES RANCH 200/9': 'DRESSING RANCH BUTTERMILK RF'}, {'Popeyes Honey Sauce': 'HONEY POUCH'}, {'Popeyes Strawberry Jam': 'JELLY STRAWBERRY PRTN'}, {'Popeyes Ketchup': 'KETCHUP PACKET 9 GRAM'}, {'POPEYES BOLD BBQ': 'SAUCE BBQ BOLD POPEYES'}, {'POPEYES BAYOU': 'SAUCE BUFFALO BAYOU RF'}, {'Popeyes Hot Sauce': 'SAUCE HOT PKT 4GRAM'}, {'POPEYES MARDI GRAS': 'SAUCE MUSTARD MARDI GRAS RF'}]\n",
            "626\n"
          ]
        },
        {
          "output_type": "stream",
          "name": "stderr",
          "text": [
            "Processing Batches: 100%|██████████| 1/1 [00:00<00:00,  2.56it/s]\n"
          ]
        },
        {
          "output_type": "stream",
          "name": "stdout",
          "text": [
            "[{'COD - LOINS ICELANDIC Wild Caught': 'COD LOIN FRSH ICELAND'}, {'HADDOCK - FILLET SCROD SKINLESS': 'HADDOCK FILET FRSH'}]\n",
            "627\n"
          ]
        },
        {
          "output_type": "stream",
          "name": "stderr",
          "text": [
            "Processing Batches: 100%|██████████| 1/1 [00:00<00:00,  1.96it/s]\n"
          ]
        },
        {
          "output_type": "stream",
          "name": "stdout",
          "text": [
            "[{'3/4 SALMON FILLET SCALED - FARMRAISED SKIN ON': 'SALMON ATL FIL E-TRIM 3-4# CHL'}, {'SALMON - FILLET 3/4 SKINLESS FILLET': 'SALMON ATL FIL D-TRIM 3-4# CHL'}]\n",
            "628\n"
          ]
        },
        {
          "output_type": "stream",
          "name": "stderr",
          "text": [
            "Processing Batches: 100%|██████████| 1/1 [00:01<00:00,  1.35s/it]\n"
          ]
        },
        {
          "output_type": "stream",
          "name": "stdout",
          "text": [
            "[{'PF MARKET COD FILLET - WILD CAUGHT': 'COD FIL REFRESHED 12OZ-UP'}, {'COD - FILLET SCROD Wild Caught 8/12 OZ': 'COD SCROD FILET SKINLESS FRESH'}, {'HADDOCK - FILLET SCROD SKINLESS Wild': 'HADDOCK FILET SKINLESS FRESH'}, {'HADDOCK - FILLET SCROD SKIN ON Wild': 'HADDOCK FILET SKIN-ON FRESH'}]\n",
            "629\n"
          ]
        },
        {
          "output_type": "stream",
          "name": "stderr",
          "text": [
            "Processing Batches: 100%|██████████| 1/1 [00:00<00:00,  2.27it/s]\n"
          ]
        },
        {
          "output_type": "stream",
          "name": "stdout",
          "text": [
            "[{'HADDOCK - FILLET 10/12 oz SKIN ONCaught': 'HADDOCK FIL SK-ON 10-12Z FRESH'}, {'HADDOCK - PF FILLET 8/10 oz SKINCaught': 'HADDOCK FIL SK-ON 8-10OZ PF'}]\n",
            "630\n"
          ]
        },
        {
          "output_type": "stream",
          "name": "stderr",
          "text": [
            "Processing Batches: 100%|██████████| 1/1 [00:01<00:00,  1.39s/it]\n"
          ]
        },
        {
          "output_type": "stream",
          "name": "stdout",
          "text": [
            "[{'SALMON ATLANTIC D TRIM PBO - Canada - F': 'SALMON ATLANTIC D TRIM PBO'}, {'SALMON ATL FILLET 3-4 E TRIM - Canada - F': 'SALMON ATL FILLET 3-4 E TRIM'}, {'SALMON FIL SKLS 3-4# PREM - Canada - F': 'SALMON ATL FIL SKLS 3-4# PREM'}, {'SALMON ATL FIL 2-3 E TRIM - Canada - F': 'SALMON ATL FIL 2-3 E TRIM'}]\n",
            "631\n"
          ]
        },
        {
          "output_type": "stream",
          "name": "stderr",
          "text": [
            "Processing Batches: 100%|██████████| 6/6 [00:26<00:00,  4.50s/it]\n"
          ]
        },
        {
          "output_type": "stream",
          "name": "stdout",
          "text": [
            "[{'BASS STRIPED HYBRID USA FIL SKON PBO FRS - USA - F': 'BASS STRIPED FIL SKON 8-10 OZ'}, {'OYSTER SHUCKED STD 1/2 GALLON - USA - F4178010 BEST BY 7/22/24 I Wet Store Date7/1/2024': 'OYSTER SHUCKED STD'}, {'OYSTER LIVE FANNY BAY 120 CT/ MEDIUM - Canada - FLocation 14-15 I Wet Store Date6/23/2024 I Final Ha': 'OYSTER LIVE FANNY BAY'}, {'HALIBUT FIL LOCAL FRSH SKIN ON - USA - W': 'HALIBUT FIL LOCAL FRSH DKIN ON'}, {'OYSTER LIVE MISTY POINT 100 CT - USA - WLocation oCCOHANNOCK Creek VA I Wet Store': 'OYSTER LIVE MISTY POINT'}, {'SALMON ATL COLLAR - Canada - F': 'SALMON ATL COLLARS'}, {'CRAWFISH TAIL MEAT 150-200 CT - China - W': 'CRAWFISH TAIL MEAT 150-200CT'}, {'FISH BONE (HALIBUT) F/STOCK - USA - F': 'FISH BONE (HALIBUT) F/STOCK'}, {'CRAB SOFT SHELL PRIME 14 COUNT - Vietnam - F': 'CRAB SOFT SHELL PR'}, {'SCALLOP SEA DRY 10/20 FRSH - USA - W': 'SCALLOP SEA DRY 10/20 CT'}, {'SALMON ATL ETRIM 3-4 LB (DEEP SKIN PKW) - Chile - F': 'SALMON ATL FIL ETRIM 3-4 LB'}, {'OYSTER LIVE FRSH WEST COAST - USA - FLocation BC 14-8 DEEP BAY I Harvest Date7/4/2024': 'OYSTER LIVE FRSH WEST COAST'}, {'OYSTER LIVE KUMAMOTO 60 CT - USA - FLocation WS6173557 I Wet Store Date6/30/2024': 'OYSTER LIVE KUMAMOTO'}, {'SALMON ATL PRTN 5 OZ SKINON - Canada - F': 'SALMON ATL PRTN 5OZ SKINON'}, {'SALMON ATL PRTN 8OZ SKIN OFF/20 CTN - Canada - F': 'SALMON FIL PRTN 8 OZ FRSH'}, {'SALMON ATL PCS SKIN OFF - Canada - F': 'SALMON ATL PCS SKIN OFF'}, {'CATFISH WHL FRZN - USA - F': 'CATFISH WHL FRZN'}, {'HALIBUT FIL SKIN ON NOR - Norway - W': 'HALIBUT FIL SKIN ON NOR'}]\n",
            "632\n"
          ]
        },
        {
          "output_type": "stream",
          "name": "stderr",
          "text": [
            "Processing Batches: 100%|██████████| 1/1 [00:03<00:00,  3.40s/it]\n"
          ]
        },
        {
          "output_type": "stream",
          "name": "stdout",
          "text": [
            "[{'BASS SEA BRANZINO BTFLY 6-8 OZ PBO - Greece - F': 'BASS SEA BRANZINO BTFLY 6-8 OZ'}, {'HALIBUT FIL LOCAL FRSH 4+ SKINOFF - USA - W': 'HALIBUT FIL LOCAL FRSH SKINOF'}, {'CAVIAR MASAGO ORG - Iceland - W': 'CAVIAR MASAGO ORG'}, {'HAMACHI FILET YELTL FRSH SKON - Japan - F': 'HAMACHI FILET YELTL FRSH SKON'}, {'HALIBUT FILLET SKIN OFF NOR - Norway - W': 'HALIBUT FILLET SKIN OFF NOR'}, {'SALMON ATL PRTN 6oz DEEP SKND - Chile - F': 'SALMON ATL FIL PRTN SKOFF BBRG'}]\n",
            "633\n"
          ]
        },
        {
          "output_type": "stream",
          "name": "stderr",
          "text": [
            "Processing Batches: 100%|██████████| 1/1 [00:00<00:00,  1.18it/s]\n"
          ]
        },
        {
          "output_type": "stream",
          "name": "stdout",
          "text": [
            "[{'SALMON ATLANTIC D TRIM PBO - Canada - F': 'SALMON ATLANTIC D TRIM PBO'}, {'SALMON FIL SKLS 3-4# PREM - Canada - F': 'SALMON ATL FIL SKLS 3-4# PREM'}, {'SALMON ATL FIL 2-3 E TRIM - Canada - F': 'SALMON ATL FIL 2-3 E TRIM'}]\n",
            "634\n"
          ]
        },
        {
          "output_type": "stream",
          "name": "stderr",
          "text": [
            "Processing Batches: 100%|██████████| 1/1 [00:01<00:00,  1.42s/it]\n"
          ]
        },
        {
          "output_type": "stream",
          "name": "stdout",
          "text": [
            "[{'SALMON ATLANTIC D TRIM PBO - Canada - F': 'SALMON ATLANTIC D TRIM PBO'}, {'SALMON ATL FILLET 3-4 E TRIM - Canada - F': 'SALMON ATL FILLET 3-4 E TRIM'}, {'SALMON FIL SKLS 3-4# PREM - Canada - F': 'SALMON ATL FIL SKLS 3-4# PREM'}, {'SALMON ATL FIL 2-3 E TRIM - Canada - F': 'SALMON ATL FIL 2-3 E TRIM'}]\n",
            "635\n"
          ]
        },
        {
          "output_type": "stream",
          "name": "stderr",
          "text": [
            "Processing Batches: 100%|██████████| 1/1 [00:01<00:00,  1.15s/it]\n"
          ]
        },
        {
          "output_type": "stream",
          "name": "stdout",
          "text": [
            "[{'SALMON ATLANTIC D TRIM PBO - Canada - F': 'SALMON ATLANTIC D TRIM PBO'}, {'SALMON ATL FILLET 3-4 E TRIM - Canada - F': 'SALMON ATL FILLET 3-4 E TRIM'}, {'SALMON FIL SKLS 3-4# PREM - Canada - F': 'SALMON ATL FIL SKLS 3-4# PREM'}, {'SALMON ATL FIL 2-3 E TRIM - Canada - F': 'SALMON ATL FIL 2-3 E TRIM'}]\n",
            "636\n"
          ]
        },
        {
          "output_type": "stream",
          "name": "stderr",
          "text": [
            "Processing Batches: 100%|██████████| 4/4 [00:23<00:00,  5.83s/it]\n"
          ]
        },
        {
          "output_type": "stream",
          "name": "stdout",
          "text": [
            "[{'BASS STRIPED HYBRID USA FIL SKON PBO FRS - USA': 'BASS STRIPED FIL SKON 8-10 OZ'}, {'OYSTER SHUCKED STD 1/2 GALLON - USA - F4184015 BEST BY 7/29/24 I Wet Store Date7/8/2024': 'OYSTER SHUCKED STD'}, {'OYSTER LIVE FANNY BAY 120 CT/ MEDIUM - Canada - FLocation 14-8 I Wet Store Date7/4/2024 I Final Harv': 'OYSTER LIVE FANNY BAY'}, {'OYSTER LIVE MISTY POINT 100 CT - USA - WLocation oCCOHANNOCK Creek VA I Wet Store': 'OYSTER LIVE MISTY POINT'}, {'CRAWFISH WHL CKD CAJ 10/15CT - China - W': 'CRAWFISH WHL CKD CAJ 10/15CT'}, {'SALMON ATL FIL SKON 3-4# PREM - Canada - F': 'SALMON ATL FIL SKON 3-4# PREM'}, {'SALMON ATL PBO SKOFF 5# SIDES - Canada - F': 'SALMON ATL PBO SKOF 5# SIDES'}, {'SALMON SMOKED NOR STYLE SLICED FROZEN - USA -': 'SALMON SMOKED NOR STYLE SLICED'}, {'SALMON ATL PRTN 5 OZ SKINON - Canada - F': 'SALMON ATL PRTN 5OZ SKINON'}, {'SALMON FIL E DEEPSKN 2-3 LB - Chile - F': 'SALMON FIL E DEEPSKN 2-3 LB'}, {'OYSTER LIVE FRSH WEST COAST - USA - FLocation BC 14-8 DEEP BAY I Harvest Date7/8/2024': 'OYSTER LIVE FRSH WEST COAST'}, {'OYSTER LIVE KUMAMOTO 60 CT - USA - FLocation WS6173424 I Wet Store Date6/30/2024': 'OYSTER LIVE KUMAMOTO'}, {'SALMON ATL PRTN 6oz DEEP SKND - Chile - F': 'SALMON ATL FIL PRTN SKOFF BBRG'}, {'SALMON TROUT STEELHEAD FIL SKIN ON - USA -': 'SALMON FIL TROUT STEALHEAD SON'}, {'SALMON ATL ETRIM 3-4 LB (DEEP SKIN PKW) - Chile': 'SALMON ATL FIL ETRIM 3-4 LB'}, {'HALIBUT FILLET SKIN OFF NOR - Norway - W': 'HALIBUT FILLET SKIN OFF NOR'}]\n",
            "637\n"
          ]
        },
        {
          "output_type": "stream",
          "name": "stderr",
          "text": [
            "Processing Batches: 100%|██████████| 3/3 [00:11<00:00,  3.78s/it]\n"
          ]
        },
        {
          "output_type": "stream",
          "name": "stdout",
          "text": [
            "[{'BASS STRIPED HYBRID USA FIL SKON PBO FRS - USA -': 'BASS STRIPED FIL SKON 8-10 OZ'}, {'SALMON SMOKED GRAVALOX SLICED - USA - F': 'SALMON SMKD GRAVALOX SLI'}, {'BASS SEA BRANZINO FIL 4-6 SKON PBO - Greece -': 'BASS SEA BRANZINO FIL SKON PBO'}, {'CATFISH WHL FRZN - USA - F': 'CATFISH WHL FRZN'}, {'SALMON PRTN 6OZ SKIN ON ATL/28 CTN - Canada -': 'SALMON PRTN 6OZ SKIN ON ATL'}, {'SALMON ATL ETRIM 3-4 LB (DEEP SKIN PKW) - Chile': 'SALMON ATL FIL ETRIM 3-4 LB'}, {'SALMON SMOKED NORWGN UNSLICED FRESH - USA -': 'SALMON SMK NORWGN UNSLICED'}, {'CRAB SOFT SHELL PRIME 14 COUNT - Vietnam - F': 'CRAB SOFT SHELL PR'}, {'SALMON ATL PCS SKIN OFF - Canada - F': 'SALMON ATL PCS SKIN OFF'}, {'SALMON ATL PRTN 7OZ SKIN OFF/24 CTN - Canada -': 'SALMON ATL PRTN 7OZ SKIN OFF'}, {'HALIBUT BONES COLLARS - USA - F': 'HALIBUT BONES COLLARS'}, {'FISH BONE (HALIBUT) F/STOCK - USA - F': 'FISH BONE (HALIBUT) F/STOCK'}, {'COD FIL BLK SKIN ON FRSH - USA - W': 'COD FIL BLK SKIN ON FRSH'}]\n",
            "638\n"
          ]
        },
        {
          "output_type": "stream",
          "name": "stderr",
          "text": [
            "Processing Batches: 100%|██████████| 4/4 [00:19<00:00,  4.88s/it]\n"
          ]
        },
        {
          "output_type": "stream",
          "name": "stdout",
          "text": [
            "[{'BASS STRIPED HYBRID USA FIL SKON PBO FRS - USA - F': 'BASS STRIPED FIL SKON 8-10 OZ'}, {'OYSTER SHUCKED STD 1/2 GALLON - USA - F4178003 BEST BY 7/22/24 I Wet Store Date7/1/2024 I Final Harv': 'OYSTER SHUCKED STD'}, {'SWORDFISH FIL LOIN SKON FRESH - USA - W': 'SWORDFISH FIL LOIN SKON FRSH'}, {'OYSTER LIVE FANNY BAY 120 CT/ MEDIUM - Canada - FLocation 14-8 I Harvest Date6/30/2024': 'OYSTER LIVE FANNY BAY'}, {'OYSTER LIVE MISTY POINT 100 CT - USA - WLocation oCCOHANNOCK Creek VA I Wet Store Date7/3/2024 I Fin': 'OYSTER LIVE MISTY POINT'}, {'SALMON ATL FIL SKLS 3-4# FRSH - Canada - F': 'SALMON ATL FIL SKLS 3-4# FRSH'}, {'SALMON SMK HOT UNSLICED - USA - F': 'SALMON SMK HOT UNSLICED FRSH'}, {'CAVIAR KALUGA 4OZ - Europe - F': 'CAVIAR KALUGA 4OZ'}, {'OYSTER LIVE FRSH WEST COAST - USA - FLocation BC 14-8 DEEP BAY I Harvest Date7/4/2024': 'OYSTER LIVE FRSH WEST COAST'}, {'OYSTER LIVE KUMAMOTO 60 CT - USA - FLocation WS6173557 I Wet Store Date6/30/2024 I Final Harvest Dat': 'OYSTER LIVE KUMAMOTO'}, {'SALMON ATL PBO SKOFF 5# SIDES - Canada - F': 'SALMON ATL PBO SKOF 5# SIDES'}, {'SALMON ATL PRTN 6 OZ SKIN OFF/28 CTN - Canada - F': 'SALMON ATL PRTN 6 OZ SKIN OFF'}, {'CRAB SOFT SHELL PRIME 14 COUNT - Vietnam - F': 'CRAB SOFT SHELL PR'}, {'OYSTER LIVE EAST COAST FRSH - USA - W': 'OYSTER LIVE FRSH EAST COAST'}]\n",
            "639\n"
          ]
        },
        {
          "output_type": "stream",
          "name": "stderr",
          "text": [
            "Processing Batches: 100%|██████████| 7/7 [00:39<00:00,  5.59s/it]\n"
          ]
        },
        {
          "output_type": "stream",
          "name": "stdout",
          "text": [
            "[{'BASS STRIPED HYBRID USA FIL SKON PBO FRS - USA - F': 'BASS STRIPED FIL SKON 8-10 OZ'}, {'OYSTER SHUCKED STD 1/2 GALLON - USA - F4184015 BEST BY 7/29/24 I Wet Store Date7/8/2024 I Final Harv': 'OYSTER SHUCKED STD'}, {'SWORDFISH FIL LOIN SKON FRESH - USA - W': 'SWORDFISH FIL LOIN SKON FRSH'}, {'OYSTER LIVE FANNY BAY 120 CT/ MEDIUM - Canada - FLocation 14-8 I Wet Store Date7/6/2024 I Final Harv': 'OYSTER LIVE FANNY BAY'}, {'OYSTER LIVE MISTY POINT 100 CT - USA - WLocation HUNGERS CREEK VA I Wet Store Date7/11/2024  Final H': 'OYSTER LIVE MISTY POINT'}, {'CAVIAR MASAGO ORG - Iceland - W': 'CAVIAR MASAGO ORG'}, {'CRAWFISH TAIL MEAT 150-200 CT - China - W': 'CRAWFISH TAIL MEAT 150-200CT'}, {'CRAB SOFT SHELL PRIME 14 COUNT - Vietnam - F': 'CRAB SOFT SHELL PR'}, {'SALMON ATL FIL SKON 3-4# PREM - Canada - F': 'SALMON ATL FIL SKON 3-4# PREM'}, {'HALIBUT FIL FRSH 6OZ FRSH TRAY - USA - W': 'HALIBUT FIL FRSH 6OZ TRAY PACK'}, {'BASS SEA CHILEAN 8OZ FRZN - Argentina - W': 'BASS SEA CHILEAN 8OZ FZN'}, {'SALMON ATL ETRIM 3-4 LB (DEEP SKIN PKW) - Chile - F': 'SALMON ATL FIL ETRIM 3-4 LB'}, {'OYSTER LIVE FRSH WEST COAST - USA - FLocation BC 14-08/278757 I Wet Store Date7/11/2024  Final Harve': 'OYSTER LIVE FRSH WEST COAST'}, {'OYSTER LIVE KUMAMOTO 60 CT - USA - FLocation WS6173791 I Wet Store Date7/1/2024  Final Harvest Date7': 'OYSTER LIVE KUMAMOTO'}, {'SALMON ATL COLLAR - Canada - F': 'SALMON ATL COLLARS'}, {'SALMON ATL PRTN 8OZ SKIN OFF/20 CTN - Canada - F': 'SALMON FIL PRTN 8 OZ FRSH'}, {'SALMON ATL PCS SKIN OFF - Canada - F': 'SALMON ATL PCS SKIN OFF'}, {'CATFISH WHL FRZN - USA - F': 'CATFISH WHL FRZN'}, {'PRAWNS BLUE HEAD-ON 10-12 FROZEN - NEW CALEDONIA -W': 'SHRIMP BLUE CDONIA PRWN 10-12'}, {'BASS SEA BRANZINO GGS 400-600 - Greece - F': 'BASS SEA BRANZINO WHL 400-600'}, {'BASS SEA BRANZINO WHL 600-800 - Greece - F': 'BASS SEA BRANZINO WHL 600-800'}]\n",
            "640\n"
          ]
        },
        {
          "output_type": "stream",
          "name": "stderr",
          "text": [
            "Processing Batches: 100%|██████████| 1/1 [00:00<00:00,  1.13it/s]\n"
          ]
        },
        {
          "output_type": "stream",
          "name": "stdout",
          "text": [
            "[{'SALMON ATLANTIC D TRIM PBO - Canada - F': 'SALMON ATLANTIC D TRIM PBO'}, {'SALMON ATL FILLET 3-4 E TRIM - Canada - F': 'SALMON ATL FILLET 3-4 E TRIM'}, {'SALMON FIL SKLS 3-4# PREM - Canada - F': 'SALMON ATL FIL SKLS 3-4# PREM'}, {'SALMON ATL FIL 2-3 E TRIM - Canada - F': 'SALMON ATL FIL 2-3 E TRIM'}]\n",
            "641\n"
          ]
        },
        {
          "output_type": "stream",
          "name": "stderr",
          "text": [
            "Processing Batches: 100%|██████████| 1/1 [00:00<00:00,  1.15it/s]\n"
          ]
        },
        {
          "output_type": "stream",
          "name": "stdout",
          "text": [
            "[{'SALMON ATLANTIC D TRIM PBO - Canada - F': 'SALMON ATLANTIC D TRIM PBO'}, {'SALMON ATL FILLET 3-4 E TRIM - Canada - F': 'SALMON ATL FILLET 3-4 E TRIM'}, {'SALMON FIL SKLS 3-4# PREM - Canada - F': 'SALMON ATL FIL SKLS 3-4# PREM'}, {'SALMON ATL FIL 2-3 E TRIM - Canada - F': 'SALMON ATL FIL 2-3 E TRIM'}]\n",
            "642\n"
          ]
        },
        {
          "output_type": "stream",
          "name": "stderr",
          "text": [
            "Processing Batches: 100%|██████████| 1/1 [00:06<00:00,  6.54s/it]\n"
          ]
        },
        {
          "output_type": "stream",
          "name": "stdout",
          "text": [
            "[{'IDAHO TROUT RAINBOW BFLY HDOFF 8OZ - USA - F': 'TROUT IDAHO RB BFLY HOFF 8OZ'}, {'TUNA ALBACORE LOIN #1 SUSHIGRD FRESH SKIN ON - Fiji - W': 'TUNA ALBACORE LOIN #1 SUSHIGRD'}, {'CAVIAR MASAGO ORG - Iceland - W': 'CAVIAR MASAGO ORG'}, {'HAMACHI FILET SUSHI GRD FRZN - Japan - F': 'HAMACHI FILET SUSHI GRD FRZN'}, {'SALMON ATL FIL SKON 3-4# PREM - Canada - F': 'SALMON ATL FIL SKON 3-4# PREM'}, {'SALMON ATL PRTN 6oz DEEP SKND - Chile - F': 'SALMON ATL FIL PRTN SKOFF BBRG'}, {'SALMON ATL PRTN 6 OZ SKIN OFF/28 CTN - Canada - F': 'SALMON ATL PRTN 6 OZ SKIN OFF'}, {'BASS SEA CHILEAN 8OZ FRZN - Argentina - W': 'BASS SEA CHILEAN 8OZ FZN'}]\n",
            "643\n"
          ]
        },
        {
          "output_type": "stream",
          "name": "stderr",
          "text": [
            "Processing Batches: 100%|██████████| 6/6 [00:33<00:00,  5.63s/it]\n"
          ]
        },
        {
          "output_type": "stream",
          "name": "stdout",
          "text": [
            "[{'IDAHO TROUT RAINBOW BFLY HDOFF 8OZ - USA - F': 'TROUT IDAHO RB BFLY HOFF 8OZ'}, {'OYSTER SHUCKED STD 1/2 GALLON - USA - F4185015 BEST BY 7/30/24 I Wet Store Date7/9/2024 I Final Harv': 'OYSTER SHUCKED STD'}, {'OYSTER LIVE FANNY BAY 120 CT/ MEDIUM - Canada - FLocation 14-8 I Wet Store Date7/10/2024 I Final Har': 'OYSTER LIVE FANNY BAY'}, {'OYSTER LIVE MISTY POINT 100 CT - USA - WLocation HUNGERS CREEK VA I Wet Store Date7/11/2024  Final H': 'OYSTER LIVE MISTY POINT'}, {'MAHI MAHI FIL SKIN-ON FRESH - USA - W': 'MAHI MAHI FIL SKIN ON'}, {'CRAWFISH TAIL MEAT 150-200 CT - China - W': 'CRAWFISH TAIL MEAT 150-200CT'}, {'CRAB SOFT SHELL PRIME 14 COUNT - Vietnam - F': 'CRAB SOFT SHELL PR'}, {'SALMON ATL PBO SKOFF 5# SIDES - Canada - F': 'SALMON ATL PBO SKOF 5# SIDES'}, {'HAMACHI FILET YELTL FZN SKON - Japan - F': 'HAMACHI FILET YELTL FZN SKON'}, {'SALMON SMK HOT UNSLICED - USA - F': 'SALMON SMK HOT UNSLICED FRSH'}, {'SALMON ATL PRTN 5 OZ SKINON - Canada - F': 'SALMON ATL PRTN 5OZ SKINON'}, {'OYSTER LIVE EAST COAST FRSH - USA - WLocation PE 2C w-11jul2024  Wet Store Date6/27/2024 I Final Har': 'OYSTER LIVE FRSH EAST COAST'}, {'OYSTER LIVE FRSH WEST COAST - USA - FLocation BC 14-08/278757 I Wet Store Date7/11/2024  Final Harve': 'OYSTER LIVE FRSH WEST COAST'}, {'OYSTER LIVE KUMAMOTO 60 CT - USA - FLocation WS6173791 I Wet Store Date7/1/2024  Final Harvest Date7': 'OYSTER LIVE KUMAMOTO'}, {'LOBSTER MAINE LIVE 2-3 LBS - USA - W': 'LOBSTER WHL LIVE 2-3 LB'}, {'SEABASS FIL BRNZNO 6-8 SKON - Turkey - F': 'SEABASS FIL BRNZNO 6-8 SKON'}, {'ROCKFISH FIL SNAP PBO - USA - W': 'ROCKFISH FIL SNAP PBO'}, {'BASS STRIPED HYBRID USA FIL SKON PBO FRS - USA - F': 'BASS STRIPED FIL SKON 8-10 OZ'}, {'BASS SEA CHILEAN SKIN ON 6 OZ BIAS - Chile - W': 'BASS SEA CHILEAN SKIN 6 OZ'}]\n",
            "644\n"
          ]
        },
        {
          "output_type": "stream",
          "name": "stderr",
          "text": [
            "Processing Batches: 100%|██████████| 1/1 [00:00<00:00,  3.30it/s]\n"
          ]
        },
        {
          "output_type": "stream",
          "name": "stdout",
          "text": [
            "[{'SALMON ATLANTIC D TRIM PBO - Canada - F': 'SALMON ATLANTIC D TRIM PBO'}, {'SALMON FIL SKLS 3-4# PREM - Canada - F': 'SALMON ATL FIL SKLS 3-4# PREM'}]\n",
            "645\n"
          ]
        },
        {
          "output_type": "stream",
          "name": "stderr",
          "text": [
            "Processing Batches: 100%|██████████| 1/1 [00:00<00:00,  1.03it/s]\n"
          ]
        },
        {
          "output_type": "stream",
          "name": "stdout",
          "text": [
            "[{'SALMON ATLANTIC D TRIM PBO - Canada - F': 'SALMON ATLANTIC D TRIM PBO'}, {'SALMON ATL FILLET 3-4 E TRIM - Canada - F': 'SALMON ATL FILLET 3-4 E TRIM'}, {'SALMON FIL SKLS 3-4# PREM - Canada - F': 'SALMON ATL FIL SKLS 3-4# PREM'}, {'SALMON ATL FIL 2-3 E TRIM - Canada - F': 'SALMON ATL FIL 2-3 E TRIM'}]\n",
            "646\n"
          ]
        },
        {
          "output_type": "stream",
          "name": "stderr",
          "text": [
            "Processing Batches: 100%|██████████| 2/2 [00:06<00:00,  3.14s/it]\n"
          ]
        },
        {
          "output_type": "stream",
          "name": "stdout",
          "text": [
            "[{'SALMON PRTN 6OZ SKIN ON ATL/28 CTN - Canada - F': 'SALMON PRTN 6OZ SKIN ON ATL'}, {'SALMON SMOKED NOR STYLE SLICED FROZEN - USA - F': 'SALMON SMOKED NOR STYLE SLICED'}, {'FRESH KANPACHI FIL HAW SKON - Panama - F': 'FISH FRESH KAMPACHI HAW SKF'}, {'HALIBUT FIL FRSH 6OZ FRSH TRAY - USA - W': 'HALIBUT FIL FRSH 6OZ TRAY PACK'}, {'SALMON ATL ETRIM 3-4 LB (DEEP SKIN PKW) - Chile - F': 'SALMON ATL FIL ETRIM 3-4 LB'}, {'SALMON SMOKED NORWGN UNSLICED FRESH - USA - F': 'SALMON SMK NORWGN UNSLICED'}, {'HALIBUT FILLET SKIN OFF NOR - Norway - W': 'HALIBUT FILLET SKIN OFF NOR'}, {'LOBSTER TAIL WW 12-14oz - Honduras - W': 'LOBSTER TAIL WARM WTR 12-14OZ'}, {'SALMON ATL PRTN 7OZ SKIN OFF/24 CTN - Canada - F': 'SALMON ATL PRTN 7OZ SKIN OFF'}, {'SALMON STEAK 8 OZ - Canada - F': 'SALMON STEAK 8 OZ'}]\n",
            "647\n"
          ]
        },
        {
          "output_type": "stream",
          "name": "stderr",
          "text": [
            "Processing Batches: 100%|██████████| 1/1 [00:00<00:00,  1.05it/s]\n"
          ]
        },
        {
          "output_type": "stream",
          "name": "stdout",
          "text": [
            "[{'SALMON ATLANTIC D TRIM PBO - Canada - F': 'SALMON ATLANTIC D TRIM PBO'}, {'SALMON ATL FILLET 3-4 E TRIM - Canada - F': 'SALMON ATL FILLET 3-4 E TRIM'}, {'SALMON FIL SKLS 3-4# PREM - Canada - F': 'SALMON ATL FIL SKLS 3-4# PREM'}, {'SALMON ATL FIL 2-3 E TRIM - Canada - F': 'SALMON ATL FIL 2-3 E TRIM'}]\n",
            "648\n"
          ]
        },
        {
          "output_type": "stream",
          "name": "stderr",
          "text": [
            "Processing Batches: 100%|██████████| 4/4 [00:20<00:00,  5.15s/it]\n"
          ]
        },
        {
          "output_type": "stream",
          "name": "stdout",
          "text": [
            "[{'BASS STRIPED HYBRID USA FIL SKON PBO FRS - USA - F': 'BASS STRIPED FIL SKON 8-10 OZ'}, {'OYSTER SHUCKED STD 1/2 GALLON - USA - F4185015 BEST BY 8/1/24 I Wet Store Date7/11/2024 I Final Harv': 'OYSTER SHUCKED STD'}, {'OYSTER LIVE FANNY BAY 120 CT/ MEDIUM - Canada - FLocation 14-8 I Wet Store Date7/10/2024 I Final Har': 'OYSTER LIVE FANNY BAY'}, {'HERRING IN WINE SAUCE FRSH 10# - USA - W': 'HERRING IN WINE SAUCE FRSH'}, {'SALMON ATL FIL SKON 3-4# PREM - Canada - F': 'SALMON ATL FIL SKON 3-4# PREM'}, {'SALMON ATL PBO SKOFF 5# SIDES - Canada - F': 'SALMON ATL PBO SKOF 5# SIDES'}, {'OCTOPUS BABY 16/25 SZ - China - W': 'OCTOPUS BABY 16/25 SZ'}, {'BASS SEA CHILEAN 8OZ FRZN - Argentina - W': 'BASS SEA CHILEAN 8OZ FZN'}, {'SALMON FIL E DEEPSKN 2-3 LB - Chile - F': 'SALMON FIL E DEEPSKN 2-3 LB'}, {'OYSTER LIVE EAST COAST FRSH - USA - WLocation PE 2C w-11jul2024  Wet Store Date6/27/2024 I Final Har': 'OYSTER LIVE FRSH EAST COAST'}, {'OYSTER LIVE KUMAMOTO 60 CT - USA - FLocation WS6173959 I Wet Store Date7/15/2024 I Final Harvest Dat': 'OYSTER LIVE KUMAMOTO'}, {'SALMON ATL PRTN 6oz DEEP SKND - Chile - F': 'SALMON ATL FIL PRTN SKOFF BBRG'}, {'COD FIL LING SKIN ON- USA - W': 'COD FIL LING SKIN ON'}, {'SALMON ATL ETRIM 3-4 LB (DEEP SKIN PKW) - Chile - F': 'SALMON ATL FIL ETRIM 3-4 LB'}, {'SALMON ATL PRTN 6 OZ SKIN OFF/28 CTN - Canada - F': 'SALMON ATL PRTN 6 OZ SKIN OFF'}]\n",
            "649\n"
          ]
        },
        {
          "output_type": "stream",
          "name": "stderr",
          "text": [
            "Processing Batches: 100%|██████████| 7/7 [00:38<00:00,  5.50s/it]\n"
          ]
        },
        {
          "output_type": "stream",
          "name": "stdout",
          "text": [
            "[{'BASS STRIPED HYBRID USA FIL SKON PBO FRS - USA - F': 'BASS STRIPED FIL SKON 8-10 OZ'}, {'OYSTER SHUCKED STD 1/2 GALLON - USA - F4185015 BEST BY 8/1/24 I Wet Store Date7/11/2024 I Final Harv': 'OYSTER SHUCKED STD'}, {'OYSTER LIVE FANNY BAY 120 CT/ MEDIUM - Canada - FLocation 14-8 I Wet Store Date7/10/2024 I Final Har': 'OYSTER LIVE FANNY BAY'}, {'HALIBUT FIL LOCAL FRSH 4+ SKINOFF - USA - W': 'HALIBUT FIL LOCAL FRSH SKINOF'}, {'OYSTER LIVE MISTY POINT 100 CT - USA - WLocation Mattawoman Creek VA I Harvest Date7/18/2024': 'OYSTER LIVE MISTY POINT'}, {'SALMON ATL COLLAR - Canada - F': 'SALMON ATL COLLARS'}, {'SALMON TROUT STEELHEAD FIL SKIN ON - USA - F': 'SALMON FIL TROUT STEALHEAD SON'}, {'CRAWFISH TAIL MEAT 150-200 CT - China - W': 'CRAWFISH TAIL MEAT 150-200CT'}, {'CRAB SOFT SHELL PRIME 14 COUNT - Vietnam - F': 'CRAB SOFT SHELL PR'}, {'SALMON ATL ETRIM 3-4 LB (DEEP SKIN PKW) - Chile - F': 'SALMON ATL FIL ETRIM 3-4 LB'}, {'OYSTER LIVE FRSH WEST COAST - USA - FLocation BC 14-08/278757 I Wet Store Date7/11/2024  Final Harve': 'OYSTER LIVE FRSH WEST COAST'}, {'SALMON PIECES TRIM - Canada - F': 'SALMON PIECES TRIM'}, {'OYSTER LIVE KUMAMOTO 60 CT - USA - FLocation WS6173959 I Wet Store Date7/15/2024 I Final Harvest Dat': 'OYSTER LIVE KUMAMOTO'}, {'CAVIAR MASAGO ORG - Iceland - W': 'CAVIAR MASAGO ORG'}, {'SALMON ATL FIL SKON 3-4# PREM - Canada - F': 'SALMON ATL FIL SKON 3-4# PREM'}, {'CATFISH WHL FRZN - USA - F': 'CATFISH WHL FRZN'}, {'CRAB KING LEG 16/20 SPLIT - USA - W': 'CRAB LEG KNG 16/20 SPLIT'}, {'OCTOPUS BABY 16/25 SZ - China - W': 'OCTOPUS BABY 16/25 SZ'}, {'SALMON ATL PCS SKIN OFF - Canada - F': 'SALMON ATL PCS SKIN OFF'}, {'SALMON ATL 8OZ SKON FRSH TRAY PACK - Canada - F': 'SALMON FIL FRS TRAY PCK SKON 8'}, {'SALMON ATL PRTN 8OZ SKIN OFF/20 CTN - Canada - F': 'SALMON FIL PRTN 8 OZ FRSH'}]\n",
            "650\n"
          ]
        },
        {
          "output_type": "stream",
          "name": "stderr",
          "text": [
            "Processing Batches: 100%|██████████| 1/1 [00:00<00:00,  1.07it/s]\n"
          ]
        },
        {
          "output_type": "stream",
          "name": "stdout",
          "text": [
            "[{'SALMON ATLANTIC D TRIM PBO - Canada - F': 'SALMON ATLANTIC D TRIM PBO'}, {'SALMON ATL FILLET 3-4 E TRIM - Canada - F': 'SALMON ATL FILLET 3-4 E TRIM'}, {'SALMON FIL SKLS 3-4# PREM - Canada - F': 'SALMON ATL FIL SKLS 3-4# PREM'}, {'SALMON ATL FIL 2-3 E TRIM - Canada - F': 'SALMON ATL FIL 2-3 E TRIM'}]\n",
            "651\n"
          ]
        },
        {
          "output_type": "stream",
          "name": "stderr",
          "text": [
            "Processing Batches: 100%|██████████| 1/1 [00:00<00:00,  1.07it/s]\n"
          ]
        },
        {
          "output_type": "stream",
          "name": "stdout",
          "text": [
            "[{'SALMON ATLANTIC D TRIM PBO - Canada - F': 'SALMON ATLANTIC D TRIM PBO'}, {'SALMON ATL FILLET 3-4 E TRIM - Canada - F': 'SALMON ATL FILLET 3-4 E TRIM'}, {'SALMON FIL SKLS 3-4# PREM - Canada - F': 'SALMON ATL FIL SKLS 3-4# PREM'}, {'SALMON ATL FIL 2-3 E TRIM - Canada - F': 'SALMON ATL FIL 2-3 E TRIM'}]\n",
            "652\n"
          ]
        },
        {
          "output_type": "stream",
          "name": "stderr",
          "text": [
            "Processing Batches: 100%|██████████| 2/2 [00:05<00:00,  2.71s/it]\n"
          ]
        },
        {
          "output_type": "stream",
          "name": "stdout",
          "text": [
            "[{'CAVIAR TOBIKKO YUZU FROZEN 11 - USA - W': 'CAVIAR TOBIKKO YUZU FROZEN'}, {'HALIBUT FILET SKIN-ON FRESH - USA - W': 'HALIBUT FILET FRSH'}, {'OCTOPUS BABY RAW WHOLE 12/2 - Asia - W': 'OCTOPUS BABY RAW WHOLE'}, {'SALMON ATL PRTN 6oz DEEP SKND - Chile - F': 'SALMON ATL FIL PRTN SKOFF BBRG'}, {'SALMON FIL SCOTTISH SCALED - Scotland - F': 'SALMON FIL SCOTTISH SCALED'}, {'SAUCE SOY WHT 2405 OZ - USA - F': 'SAUCE SOY WHT'}, {'SEAWEED DRIED KELP DASHI KOMBU 1KG - Asia - F': 'SEAWEED DRIED KELP DASHI KOMBU'}, {'SHRIMP WHT 31/40 HDON RAW - Asia - F': 'SHRIMP WHT 31/40 HDON RAW'}, {'VINEGAR RICE SHIRAGIKU 1X5 GAL - USA - W': 'VINEGAR RICE SHIRAGIKU'}]\n",
            "653\n"
          ]
        },
        {
          "output_type": "stream",
          "name": "stderr",
          "text": [
            "Processing Batches: 100%|██████████| 1/1 [00:00<00:00,  3.28it/s]\n"
          ]
        },
        {
          "output_type": "stream",
          "name": "stdout",
          "text": [
            "[{'HALIBUT FILET SKIN-ON FRESH - USA - W': 'HALIBUT FILET FRSH'}, {'SCALLOP SEA FRSH U/10 DRY - USA - W': 'SCALLOP SEA FRSH U/10 DRY'}]\n",
            "654\n"
          ]
        },
        {
          "output_type": "stream",
          "name": "stderr",
          "text": [
            "Processing Batches: 100%|██████████| 1/1 [00:00<00:00,  1.30it/s]\n"
          ]
        },
        {
          "output_type": "stream",
          "name": "stdout",
          "text": [
            "[{'ONION RED FRY 5 PACKS - Asia - F': 'ONION RED FRIED'}, {'SALMON WHL KING ORA - New': 'SALMON WHL KNG ORA'}, {'SEAWEED NORI PURPLE HALF -': 'SEAWEED NORI PURPLE HALF'}, {'TEA GREEN MATCHA PWDR BULK 22': 'TEA GREEN MATCHA PWDR BULK'}]\n",
            "655\n"
          ]
        },
        {
          "output_type": "stream",
          "name": "stderr",
          "text": [
            "Processing Batches: 100%|██████████| 1/1 [00:02<00:00,  2.32s/it]\n"
          ]
        },
        {
          "output_type": "stream",
          "name": "stdout",
          "text": [
            "[{'CAVIAR TOBIKKO YUZU FROZEN 11 - USA - W': 'CAVIAR TOBIKKO YUZU FROZEN'}, {'HALIBUT FILET SKIN-ON FRESH - USA - W': 'HALIBUT FILET FRSH'}, {'HALIBUT FLETCH SKIN-ON MEIERS FRESH -': 'HALIBUT FLETCH SKON MEIERS'}, {'SALMON FIL SKON 4-5 TIGHT TRIM - Canada - F': 'SALMON FIL SKON 4-5 TIGHT TRIM'}, {'SEAWEED DRIED KELP DASHI KOMBU 1KG - Asia': 'SEAWEED DRIED KELP DASHI KOMBU'}]\n",
            "656\n"
          ]
        },
        {
          "output_type": "stream",
          "name": "stderr",
          "text": [
            "Processing Batches: 100%|██████████| 1/1 [00:01<00:00,  1.47s/it]\n"
          ]
        },
        {
          "output_type": "stream",
          "name": "stdout",
          "text": [
            "[{'ANCHOVY BULK WHT BOQUERONES 22 - Spain - W': 'ANCHOVY BULK WHT BOQUERONES'}, {'SALMON ATL FIL SKIN OFF 3-4 - Canada - F': 'SALMON ATL FIL SKIN OFF 3-4'}, {'SALMON FIL ATL SK/ON 3/4LB FRS - Canada - F': 'SALMON FIL ATL SK/ON 3/4LB FRS'}, {'SALMON FIL SKON 4-5 SUSHI SCALED - Canada - F': 'SALMON FIL SKON 4-5 SUSHI'}]\n",
            "657\n"
          ]
        },
        {
          "output_type": "stream",
          "name": "stderr",
          "text": [
            "Processing Batches: 100%|██████████| 1/1 [00:01<00:00,  1.46s/it]\n"
          ]
        },
        {
          "output_type": "stream",
          "name": "stdout",
          "text": [
            "[{'PINK GROUPER FIL SKIN ON SCALED - Mexico': 'GROUPER FIL 1-3LB'}, {'SALMON ATL WHL 12-14# 1 PCS - Canada -': 'SALMON ATL WHL 12-14# HDON GTD'}, {'SALMON FIL SCOTTISH SCALED - Scotland -': 'SALMON FIL SCOTTISH SCALED'}, {'SWORDFISH LOIN SKIN-ON FRESH - USA -': 'SWORDFISH LOIN FRSH'}]\n",
            "658\n"
          ]
        },
        {
          "output_type": "stream",
          "name": "stderr",
          "text": [
            "Processing Batches: 100%|██████████| 2/2 [00:08<00:00,  4.22s/it]\n"
          ]
        },
        {
          "output_type": "stream",
          "name": "stdout",
          "text": [
            "[{'BASS WHOLE BRANZINO 400-600 FRSH GILLED & GUTTED -Greece - F': 'BASS WHOLE BRANZINO FRSH'}, {'HALIBUT FILET SKIN-ON FRESH - USA - W': 'HALIBUT FILET FRSH'}, {'PASTE MISO WHT SHIRO - Asia - W': 'PASTE MISO WHT SHIRO'}, {'SALMON ATL WHL FRSH 14-16# - Canada - F': 'SALMON ATL WHL FRSH 14-16#'}, {'SALMON FIL SCOTTISH SCALED - Scotland - F': 'SALMON FIL SCOTTISH SCALED'}, {'SALMON KING NAT FRMD SCALED FIL - New Zealand - F': 'SALMON KNG FIL SCALED PBO FARM'}, {'SCALLOP SEA FRSH U/10 DRY - USA - W': 'SCALLOP SEA FRSH U/10 DRY'}, {'SEABASS FILET CHILEAN SKIN OFF - Korea - W': 'SEABASS FILET CHILEAN'}, {'SNAPPER RED FIL 6-8oz FRZN - New Zealand - W': 'SNAPPER RED FIL 6-8OZ FRZN'}, {'TROUT RAINBOW IDAHO 5-7OZ FROZEN - USA - F': 'TROUT RAINBOW IDAHO 7-9OZ'}, {'TROUT STEELHEAD FIL FRSH - USA - F': 'TROUT STEELHEAD FIL FRSH'}]\n",
            "659\n"
          ]
        },
        {
          "output_type": "stream",
          "name": "stderr",
          "text": [
            "Processing Batches: 100%|██████████| 1/1 [00:00<00:00,  3.50it/s]\n"
          ]
        },
        {
          "output_type": "stream",
          "name": "stdout",
          "text": [
            "[{'CRAB LUMP JUMBO FRSH - Indonesia - W': 'CRAB LUMP JMBO FRSH'}, {'HALIBUT FILET SKIN-ON FRESH - USA - W': 'HALIBUT FILET FRSH'}]\n",
            "660\n"
          ]
        },
        {
          "output_type": "stream",
          "name": "stderr",
          "text": [
            "Processing Batches: 100%|██████████| 1/1 [00:00<00:00,  1.65it/s]\n"
          ]
        },
        {
          "output_type": "stream",
          "name": "stdout",
          "text": [
            "[{'SALMON ATL FIL SKIN OFF 3-4 - Canada - F': 'SALMON ATL FIL SKIN OFF 3-4'}, {'SALMON FIL ATL SK/ON 3/4LB FRS - Canada - F': 'SALMON FIL ATL SK/ON 3/4LB FRS'}, {'SALMON FIL SKON 4-5 SUSHI SCALED - Canada - F': 'SALMON FIL SKON 4-5 SUSHI'}]\n",
            "661\n"
          ]
        },
        {
          "output_type": "stream",
          "name": "stderr",
          "text": [
            "Processing Batches: 100%|██████████| 1/1 [00:01<00:00,  1.00s/it]\n"
          ]
        },
        {
          "output_type": "stream",
          "name": "stdout",
          "text": [
            "[{'ANCHOVY BULK WHT BOQUERONES 22 - Spain - W': 'ANCHOVY BULK WHT BOQUERONES'}, {'SALMON FIL ATL SK/ON 2-3#D TR - Canada - F': 'SALMON FIL ATL SK/ON 2-3#D TR'}, {'SALMON FIL SKON 4-5 SUSHI SCALED - Canada - F': 'SALMON FIL SKON 4-5 SUSHI'}, {'TROUT FIL SMK FRSH - USA - F': 'TROUT FIL RNBOW SMK FRSH'}]\n",
            "662\n"
          ]
        },
        {
          "output_type": "stream",
          "name": "stderr",
          "text": [
            "Processing Batches: 100%|██████████| 2/2 [00:06<00:00,  3.42s/it]\n"
          ]
        },
        {
          "output_type": "stream",
          "name": "stdout",
          "text": [
            "[{'BASS SEA BRANZINO SKON BL BUTTERFLY -': 'BASS SEA BRANZINO SKON BL 7-8Z'}, {'HALIBUT FILET SKIN-ON FRESH - USA -': 'HALIBUT FILET FRSH'}, {'OCTOPUS BABY RAW WHOLE 12/2 - Asia -': 'OCTOPUS BABY RAW WHOLE'}, {'OCTOPUS CLND TAKO LEG ONLY ASIA - Asia': 'OCTOPUS CLND TAKO LEG ONLY'}, {'OYSTER INSHELL MINTERSELECT 60 CNT -Location Henderson Bay WA 1 Wet Store': 'OYSTER INSHELL MINTERSELECT'}, {'OYSTER SHELL FRESH WEST COAST 60 CNT -': 'OYSTER SHELL FRSH WEST COAST'}, {'SALMON ATL PRTN 6oz DEEP SKND - Chile -': 'SALMON ATL FIL PRTN SKOFF BBRG'}, {'SALMON FIL SCOTTISH SCALED - Scotland -': 'SALMON FIL SCOTTISH SCALED'}, {'SEABASS FILET CHILEAN SKIN OFF - Korea -': 'SEABASS FILET CHILEAN'}]\n",
            "663\n"
          ]
        },
        {
          "output_type": "stream",
          "name": "stderr",
          "text": [
            "Processing Batches: 100%|██████████| 2/2 [00:04<00:00,  2.32s/it]\n"
          ]
        },
        {
          "output_type": "stream",
          "name": "stdout",
          "text": [
            "[{'BASS WHOLE BRANZINO': 'BASS WHOLE BRANZINO FRSH'}, {'PINK GROUPER FIL SKIN': 'GROUPER FIL 1-3LB'}, {'HALIBUT FILET SKIN-ON': 'HALIBUT FILET FRSH'}, {'HALIBUT FLETCH SKIN-ON': 'HALIBUT FLETCH SKON MEIERS'}, {'JUICE CITRUS YUZU': 'JUICE CITRUS YUZU YAKAMI'}, {'MUSSEL FRESH PEI - USA': 'MUSSEL FRESH PEI'}, {'SALMON ATL WHL FRSH': 'SALMON ATL WHL FRSH 14-16#'}, {'SALMON WHL KING ORA -': 'SALMON WHL KNG ORA'}, {'SEAWEED GOMA FURIKAKE': 'SEASONING RICE FURIKAKE'}, {'SWORDFISH LOIN SKIN-ON': 'SWORDFISH LOIN FRSH'}]\n",
            "664\n"
          ]
        },
        {
          "output_type": "stream",
          "name": "stderr",
          "text": [
            "Processing Batches: 100%|██████████| 1/1 [00:00<00:00,  3.12it/s]\n"
          ]
        },
        {
          "output_type": "stream",
          "name": "stdout",
          "text": [
            "[{'SALMON ATL FIL SKIN OFF 3-4 - Canada - F': 'SALMON ATL FIL SKIN OFF 3-4'}, {'SALMON FIL ATL SK/ON 3/4LB FRS - Canada - F': 'SALMON FIL ATL SK/ON 3/4LB FRS'}]\n",
            "665\n"
          ]
        },
        {
          "output_type": "stream",
          "name": "stderr",
          "text": [
            "Processing Batches: 100%|██████████| 1/1 [00:00<00:00,  2.93it/s]\n"
          ]
        },
        {
          "output_type": "stream",
          "name": "stdout",
          "text": [
            "[{'SEAWEED DRIED KELP DASHI KOMBU 1KG - Asia': 'SEAWEED DRIED KELP DASHI KOMBU'}, {'SEAWEED NORI PURPLE HALF - Korea - F': 'SEAWEED NORI PURPLE HALF'}]\n",
            "666\n"
          ]
        },
        {
          "output_type": "stream",
          "name": "stderr",
          "text": [
            "Processing Batches: 100%|██████████| 1/1 [00:02<00:00,  2.45s/it]\n"
          ]
        },
        {
          "output_type": "stream",
          "name": "stdout",
          "text": [
            "[{'HALIBUT FILET SKIN-ON FRESH': 'HALIBUT FILET FRSH'}, {'SALMON ATL PRTN 6oz DEEP': 'SALMON ATL FIL PRTN SKOFF BBRG'}, {'SALMON FIL SCOTTISH SCALED': 'SALMON FIL SCOTTISH SCALED'}, {'SMOKED SALMON SKIN ON SLICED': 'SALMON SMKD FRSH SLCD SKON'}, {'SAUCE MIRIN WINE 5 GAL - Asia': 'SAUCE MIRIN WINE'}, {'SHRIMP WHT 31/40 HDON RAW': 'SHRIMP WHT 31/40 HDON RAW'}, {'TROUT STEELHEAD FIL FRSH -': 'TROUT STEELHEAD FIL FRSH'}]\n",
            "667\n"
          ]
        },
        {
          "output_type": "stream",
          "name": "stderr",
          "text": [
            "Processing Batches: 100%|██████████| 22/22 [01:31<00:00,  4.15s/it]\n"
          ]
        },
        {
          "output_type": "stream",
          "name": "stdout",
          "text": [
            "[{'CAB BEEF BRISKET 2PC/CS': 'BEEF BRISKET'}, {'BEEF CHUCK SHORT RIB BNLS SQR': 'BEEF CHUCK SHORT RIB BNLS SQR'}, {'BCH PRF STRIPLOIN OXi WHOLE': 'BEEF STRIPLOIN 0X1 IMP'}, {'PORK CHOP CC RIB 8OZ': 'PORK CHOP B\\\\I C\\\\C RIB'}, {'BEEF STROGANOFF 3/8 X 2 FRES H': 'BEEF STROGANOFF 3\\\\8X2IN FRSH'}, {'BEEF STEW 85% LN 1/2X1/2 FRSH H': 'BEEF STEW 85% LEAN ECON 1\\\\2'}, {'TENDER FILET CC BCH PRF': 'STEAK FILET C\\\\C VALUE LINE'}, {'STK STRIP END-CUT 1TI 6OZ FRESH': 'STEAK STRIP VEIN'}, {'CAB STK BALL TIP HOGI STYLE 6OZ': 'STEAK BALL TIP HOGI STYL CAB'}, {'PORK SHOULDER SLICE 19MM FRZ': 'PORK SHOULDER SLI 1.9MM FRZN'}, {'PORK CHOP FRNCH SING-BN 1TL OZ': 'PORK CHOP B\\\\I C\\\\C FRCHD'}, {'CAB SKIRT OUTSDE IAP 10OZ': 'STEAK SKIRT OUTSDE IAP'}, {'STK FILET CC SEL 75Z MAGGIAN': 'STEAK FILET C\\\\C SEL MAGG'}, {'CAB STK TOP BUTT FLAT CUT CC 10OZ': 'STEAK SIRL TOP C\\\\C SKND'}, {'CAB STK TENDER FILET CC BOZ': 'STEAK FILET C\\\\C'}, {'CAB STK CULOTTE CAP FAT-OFF 8OZ': 'STEAK SIRL CAP STRIP'}, {'CS BEEF STW 1/4Xl/4 85% LEAN': 'BEEF STEW 85% 1\\\\4X1\\\\4'}, {'CAB TENDERLOIN 6# UP HW 2PC': 'BEEF TENDER PSMO'}, {'CAB BF HANGING TNDR PLD FSH 8Z CAB': 'STEAK HANGER TENDER PLD'}, {'BEEF TENDER TAIL FRSH CLEAN ANED': 'STEAK FILET TAILS'}, {'BEEF RIBEYE CAP AMWAGYU': 'BEEF RIBEYE CAP AMWAGYU DMNICS'}, {'BEEF FOR TACO MEAT DICED 1/2 H': 'BEEF FOR TACO MEAT DICED 1/2IN'}, {'BEEF FOR TACO MEAT D]CED 1/4 H': 'BEEF FOR TACO MEAT DICED 1/4IN'}, {'CAB STK RIBEYE SPLTBN FRCH MAG NHSF': 'STEAK RIBEYE SPLTBN FRNCH MAGG'}, {'BEEF CHUCK EYE LOG AMWAGYU BLK': 'BEEF CHUCK EYE LOG AMWAGYU BLK'}, {'CAB STEAK FILET BRL FOXFIRE 8OZ': 'STEAK FILET BRL FOXFIRE'}, {'BEEF SLI RST ITAL CH WGRAVY': 'BEEF SLI RST ITAL CH W\\\\GRAVY'}, {'BEEF GRND PTY DRRSRF BLEND': 'BEEF GRND 75\\\\25 RR\\\\AMWAG PTY'}, {'BEEF STEAK TACO MEAT ELBURRITO H': 'BEEF STEAK TACO MEAT'}, {'BEEF TENDER KABOB 2 CUBE': 'BEEF TENDER KABOB 2IN CUBE'}, {'BEEF SKIRT INSIDE CAB FOX': 'BEEF SKIRT INSIDE FOX'}, {'CAB STK BEEF FLAT IRON JICCARD RD 2X': 'STEAK CHUCK FLAT IRON'}, {'STEAK CULOTTE CAP PRIME 10OZ': 'STEAK SIRL CAP PR'}, {'CAB BEEF TRI-TIP PEELED': 'BEEF TRI TIP FRSH'}, {'CAB BEEF HANGING TNDR PLD FRSH': 'STEAK HANGER TENDER'}, {'BEEF CHUCK SHORT RIB BNLS 10OZ': 'BEEF CHUCK SHORT RIB FLAP BNLS'}, {'CAB BEEF TENDERLOIN 5UP 1 PC/CS': 'BEEF TENDERLOIN PSMO'}]\n",
            "668\n"
          ]
        },
        {
          "output_type": "stream",
          "name": "stderr",
          "text": [
            "Processing Batches: 100%|██████████| 1/1 [00:00<00:00,  1.11it/s]\n"
          ]
        },
        {
          "output_type": "stream",
          "name": "stdout",
          "text": [
            "[{'HALIBUT FILET SKIN-ON FRESH - USA - W': 'HALIBUT FILET FRSH'}, {'HALIBUT FLETCH SKIN-ON MEIERS FRESH - USA - W': 'HALIBUT FLETCH SKON MEIERS'}, {'SHRIMP BLUE 10/12 NEW CALEDON - Europe - W': 'SHRIMP BLUE 10/12 NEW CALEDON'}]\n",
            "669\n"
          ]
        },
        {
          "output_type": "stream",
          "name": "stderr",
          "text": [
            "Processing Batches: 100%|██████████| 1/1 [00:01<00:00,  1.79s/it]\n"
          ]
        },
        {
          "output_type": "stream",
          "name": "stdout",
          "text": [
            "[{'ANCHOVY BULK WHT BOQUERONES 22 - Spain - W': 'ANCHOVY BULK WHT BOQUERONES'}, {'SALMON ATL FIL SKIN OFF 3-4 - Canada - F': 'SALMON ATL FIL SKIN OFF 3-4'}, {'SALMON FIL ATL SK/ON 2-3#D TR - Canada - F': 'SALMON FIL ATL SK/ON 2-3#D TR'}, {'SALMON FIL ATL SK/ON 3/4LB FRS - Canada - F': 'SALMON FIL ATL SK/ON 3/4LB FRS'}, {'SALMON FIL SKON 4-5 SUSHI SCALED - Canada - F': 'SALMON FIL SKON 4-5 SUSHI'}]\n",
            "670\n"
          ]
        },
        {
          "output_type": "stream",
          "name": "stderr",
          "text": [
            "Processing Batches: 100%|██████████| 1/1 [00:00<00:00,  3.32it/s]\n"
          ]
        },
        {
          "output_type": "stream",
          "name": "stdout",
          "text": [
            "[{'CRAB LUMP JUMBO FRSH - Indonesia -': 'CRAB LUMP JMBO FRSH'}, {'SWORDFISH LOIN SKIN-ON FRESH - USA': 'SWORDFISH LOIN FRSH'}]\n",
            "671\n"
          ]
        },
        {
          "output_type": "stream",
          "name": "stderr",
          "text": [
            "Processing Batches: 100%|██████████| 1/1 [00:04<00:00,  4.79s/it]\n"
          ]
        },
        {
          "output_type": "stream",
          "name": "stdout",
          "text": [
            "[{'BASS WHOLE BRANZINO 400-600 FRSH GILLED & GUTTED': 'BASS WHOLE BRANZINO FRSH'}, {'CRAB LUMP JUMBO FRSH - Indonesia - W': 'CRAB LUMP JMBO FRSH'}, {'HALIBUT FILET SKIN-ON FRESH - USA - W': 'HALIBUT FILET FRSH'}, {'FRESH PEI - USA - FPE5T I Wet Store Date7/10/2024 I Final Harvest': 'MUSSEL FRESH PEI'}, {'SALMON ATL WHL 12-14# 1 PCS - Canada - F': 'SALMON ATL WHL 12-14# HDON GTD'}, {'SALMON FIL SCOTTISH SCALED - Scotland - F': 'SALMON FIL SCOTTISH SCALED'}, {'SALMON WHL KING ORA - New Zealand - F': 'SALMON WHL KNG ORA'}, {'SEAWEED DRIED KELP DASHI KOMBU 1KG - Asia - F': 'SEAWEED DRIED KELP DASHI KOMBU'}]\n",
            "672\n"
          ]
        },
        {
          "output_type": "stream",
          "name": "stderr",
          "text": [
            "Processing Batches: 100%|██████████| 2/2 [00:08<00:00,  4.36s/it]\n"
          ]
        },
        {
          "output_type": "stream",
          "name": "stdout",
          "text": [
            "[{'HALIBUT FILET SKIN-ON FRESH - USA - W': 'HALIBUT FILET FRSH'}, {'MUSSEL FRESH PEI - USA - FLocation PE5T I Wet Store Date7/10/2024 I Final Harvest Date7/8/2024': 'MUSSEL FRESH PEI'}, {'OCTOPUS WHL SPANISH 2-4 FRZ - Spain - W': 'OCTOPUS WHOLE SPAN 2-4# FZN'}, {'SALMON ATL WHL FRSH 14-16# - Canada - F': 'SALMON ATL WHL FRSH 14-16#'}, {'SALMON KING NAT FRMD SCALED FIL - New Zealand - F': 'SALMON KNG FIL SCALED PBO FARM'}, {'SNAPPER RED FIL 6-8oz FRZN - New Zealand - W': 'SNAPPER RED FIL 6-8OZ FRZN'}, {'TROUT RAINBOW IDAHO 5-7OZ FROZEN - USA - F': 'TROUT RAINBOW IDAHO 7-9OZ'}, {'TROUT STEELHEAD FIL FRSH - USA - F': 'TROUT STEELHEAD FIL FRSH'}, {'TUNA LOIN AHI SK/ON #1 - USA - W': 'TUNA LOIN AHI SK/ON #1'}]\n",
            "673\n"
          ]
        },
        {
          "output_type": "stream",
          "name": "stderr",
          "text": [
            "Processing Batches: 100%|██████████| 1/1 [00:01<00:00,  1.96s/it]\n"
          ]
        },
        {
          "output_type": "stream",
          "name": "stdout",
          "text": [
            "[{'MAHI MAHI PCS 1-3 OZ - Indonesia - W': 'MAHI MAHI PCS 1-3 OZ'}, {'SALAD SEAWEED FRZN WAKAMI JAPAN 44 - Japan - W': 'SALAD SEAWEED FRZN WAKAMI'}, {'SALMON ATL FIL SKIN OFF 3-4 - Canada - F': 'SALMON ATL FIL SKIN OFF 3-4'}, {'SALMON FIL ATL SK/ON 2-3#D TR - Canada - F': 'SALMON FIL ATL SK/ON 2-3#D TR'}, {'SALMON FIL SKON 4-5 SUSHI SCALED - Canada - F': 'SALMON FIL SKON 4-5 SUSHI'}]\n",
            "674\n"
          ]
        },
        {
          "output_type": "stream",
          "name": "stderr",
          "text": [
            "Processing Batches: 100%|██████████| 1/1 [00:00<00:00,  2.89it/s]\n"
          ]
        },
        {
          "output_type": "stream",
          "name": "stdout",
          "text": [
            "[{'HALIBUT FILET SKIN-ON FRESH - USA -': 'HALIBUT FILET FRSH'}, {'SALMON FIL SKON 4-5 TIGHT TRIM - Canada': 'SALMON FIL SKON 4-5 TIGHT TRIM'}]\n",
            "675\n"
          ]
        },
        {
          "output_type": "stream",
          "name": "stderr",
          "text": [
            "Processing Batches: 100%|██████████| 1/1 [00:00<00:00,  1.20it/s]\n"
          ]
        },
        {
          "output_type": "stream",
          "name": "stdout",
          "text": [
            "[{'COOKIE MINI CHIPSAHOY': 'COOKIE MINI CHIPS AHOY'}, {'PEANUT DRY RSTDLTLY SLT': 'PEANUT DRY RSTD LTLY SLT'}, {'ENTREE BEEF A RONI': 'ENTREE BEEF A RONI'}, {'SNACK FRENCH TOASTCINNAMANIA': 'SNACK FRENCH TOAST CINNAMANIA'}]\n",
            "676\n"
          ]
        },
        {
          "output_type": "stream",
          "name": "stderr",
          "text": [
            "Processing Batches: 100%|██████████| 1/1 [00:00<00:00,  3.82it/s]\n"
          ]
        },
        {
          "output_type": "stream",
          "name": "stdout",
          "text": [
            "[{'COFFEE INST REG JAR': 'COFFEE INST REG JAR'}, {'SOAP LIQ DISH ULTRA': 'SOAP LIQ DISH ULTRA GRN'}]\n",
            "677\n"
          ]
        },
        {
          "output_type": "stream",
          "name": "stderr",
          "text": [
            "Processing Batches: 100%|██████████| 1/1 [00:02<00:00,  2.15s/it]\n"
          ]
        },
        {
          "output_type": "stream",
          "name": "stdout",
          "text": [
            "[{'ANCHOVY BULK WHT BOQUERONES 22 - Spain - W': 'ANCHOVY BULK WHT BOQUERONES'}, {'SALMON ATL FIL SKIN OFF 3-4 - Canada - F': 'SALMON ATL FIL SKIN OFF 3-4'}, {'SALMON FIL ATL SK/ON 3/4LB FRS - Canada - F': 'SALMON FIL ATL SK/ON 3/4LB FRS'}, {'SALMON FIL ATL SK/ON 2-3#D TR - Canada - F': 'SALMON FIL ATL SK/ON 2-3#D TR'}, {'SALMON FIL SKON 4-5 SUSHI SCALED - Canada - F': 'SALMON FIL SKON 4-5 SUSHI'}, {'TROUT FIL SMK FRSH - USA - F': 'TROUT FIL RNBOW SMK FRSH'}]\n",
            "678\n"
          ]
        },
        {
          "output_type": "stream",
          "name": "stderr",
          "text": [
            "Processing Batches: 100%|██████████| 1/1 [00:00<00:00,  3.09it/s]\n"
          ]
        },
        {
          "output_type": "stream",
          "name": "stdout",
          "text": [
            "[{'HALIBUT FILET SKIN-ON FRESH - USA - W': 'HALIBUT FILET FRSH'}, {'R FILLET 1-2 SKIN-OFF FROZEN - Mexico - W': 'HALIBUT PIECES IQF 1-2 OZ'}]\n",
            "679\n"
          ]
        },
        {
          "output_type": "stream",
          "name": "stderr",
          "text": [
            "Processing Batches: 100%|██████████| 1/1 [00:04<00:00,  4.18s/it]\n"
          ]
        },
        {
          "output_type": "stream",
          "name": "stdout",
          "text": [
            "[{'BASS SEA BRANZINO SKON BL BUTTERFLY - Greece': 'BASS SEA BRANZINO SKON BL 7-8Z'}, {'BASS WHOLE BRANZINO 400-600 FRSH GILLED &Greece - F': 'BASS WHOLE BRANZINO FRSH'}, {'CAVIAR AMERICAN STURGEON 4 OZ - USA - F': 'CAVIAR AMERICAN STURGEON'}, {'CRAWFISH TAIL MEAT 100/150 CT - USA - W': 'CRAWFISH TAIL MEAT 100/150CT'}, {'HALIBUT FILET SKIN-ON FRESH - USA - W': 'HALIBUT FILET FRSH'}, {'SALMON ATL PRTN 6oz DEEP SKND - Chile - F': 'SALMON ATL FIL PRTN SKOFF BBRG'}, {'TUNA ALBACORE LOIN FRESH SKIN ON - Fiji -': 'TUNA ALBACORE LOIN'}, {'WALLEYE FILET 8-10 IQF - USA - W': 'WALLEYE FILET 8-10 OZ IQF'}]\n",
            "680\n"
          ]
        },
        {
          "output_type": "stream",
          "name": "stderr",
          "text": [
            "Processing Batches: 100%|██████████| 1/1 [00:00<00:00,  3.07it/s]\n"
          ]
        },
        {
          "output_type": "stream",
          "name": "stdout",
          "text": [
            "[{'HALIBUT FLETCH SKIN-ON MEIERS FRESH -': 'HALIBUT FLETCH SKON MEIERS'}, {'SALMON FIL SKON 4-5 TIGHT TRIM - Canada': 'SALMON FIL SKON 4-5 TIGHT TRIM'}]\n",
            "681\n"
          ]
        },
        {
          "output_type": "stream",
          "name": "stderr",
          "text": [
            "Processing Batches: 100%|██████████| 2/2 [00:06<00:00,  3.15s/it]\n"
          ]
        },
        {
          "output_type": "stream",
          "name": "stdout",
          "text": [
            "[{'HALIBUT FILET SKIN-ON': 'HALIBUT FILET FRSH'}, {'HALIBUT FLETCH SKIN-ON': 'HALIBUT FLETCH SKON MEIERS'}, {'HONDASHI SOUP MIX -': 'MIX SOUP HONDASHI'}, {'SALMON ATL WHL FRSH': 'SALMON ATL WHL FRSH 14-16#'}, {'SALMON FIL SCOTTISH': 'SALMON FIL SCOTTISH SCALED'}, {'SALMON WHL KING ORA -': 'SALMON WHL KNG ORA'}, {'SAUCE MIRIN WINE 5 GAL': 'SAUCE MIRIN WINE'}, {'SEAWEED GOMA FURIKAKE': 'SEASONING RICE FURIKAKE'}, {'AR 1 SPICE WASABI PWDR': 'SPICE WASABI PWDR W/WASABITS'}, {'VINEGAR RICE SHIRAGIKU': 'VINEGAR RICE SHIRAGIKU'}]\n",
            "682\n"
          ]
        },
        {
          "output_type": "stream",
          "name": "stderr",
          "text": [
            "Processing Batches: 100%|██████████| 1/1 [00:00<00:00,  1.10it/s]\n"
          ]
        },
        {
          "output_type": "stream",
          "name": "stdout",
          "text": [
            "[{'SALMON ATL FIL SKIN OFF 3-4 - Canada': 'SALMON ATL FIL SKIN OFF 3-4'}, {'SALMON FIL ATL SK/ON 2-3#D TR - Canada': 'SALMON FIL ATL SK/ON 2-3#D TR'}, {'SALMON FIL ATL SK/ON 3/4LB FRS -': 'SALMON FIL ATL SK/ON 3/4LB FRS'}]\n",
            "683\n"
          ]
        },
        {
          "output_type": "stream",
          "name": "stderr",
          "text": [
            "Processing Batches: 100%|██████████| 1/1 [00:01<00:00,  1.02s/it]\n"
          ]
        },
        {
          "output_type": "stream",
          "name": "stdout",
          "text": [
            "[{'SALAD SEAWEED FRZN WAKAMI JAPAN 44 - Japan': 'SALAD SEAWEED FRZN WAKAMI'}, {'SALMON ATL FIL SKIN OFF 3-4 - Canada - F': 'SALMON ATL FIL SKIN OFF 3-4'}, {'SALMON FIL ATL SK/ON 3/4LB FRS - Canada -': 'SALMON FIL ATL SK/ON 3/4LB FRS'}, {'SALMON FIL SKON 4-5 SUSHI SCALED - Canada -': 'SALMON FIL SKON 4-5 SUSHI'}]\n",
            "684\n"
          ]
        },
        {
          "output_type": "stream",
          "name": "stderr",
          "text": [
            "Processing Batches: 100%|██████████| 1/1 [00:00<00:00,  4.01it/s]\n"
          ]
        },
        {
          "output_type": "stream",
          "name": "stdout",
          "text": [
            "[{'CRAB LUMP JUMBO': 'CRAB LUMP JMBO FRSH'}, {'SALMON FIL SCOTTISH': 'SALMON FIL SCOTTISH SCALED'}]\n",
            "685\n"
          ]
        },
        {
          "output_type": "stream",
          "name": "stderr",
          "text": [
            "Processing Batches: 100%|██████████| 1/1 [00:03<00:00,  3.08s/it]\n"
          ]
        },
        {
          "output_type": "stream",
          "name": "stdout",
          "text": [
            "[{'HALIBUT FILET SKIN-ON FRESH - USA - W': 'HALIBUT FILET FRSH'}, {'PASTE MISO WHT SHIRO - Asia - W': 'PASTE MISO WHT SHIRO'}, {'SALMON ATL PRTN 6oz DEEP SKND - Chile - F': 'SALMON ATL FIL PRTN SKOFF BBRG'}, {'SAUCE MIRIN WINE 5 GAL - Asia - W': 'SAUCE MIRIN WINE'}, {'SHRIMP WHT 31/40 HDON RAW - Asia - F': 'SHRIMP WHT 31/40 HDON RAW'}, {'AR 1 SPICE WASABI PWDR W/WASABITS 10/22 - Asia - F': 'SPICE WASABI PWDR W/WASABITS'}, {'VINEGAR RICE SHIRAGIKU 1X5 GAL - USA - W': 'VINEGAR RICE SHIRAGIKU'}]\n",
            "686\n"
          ]
        },
        {
          "output_type": "stream",
          "name": "stderr",
          "text": [
            "Processing Batches: 100%|██████████| 1/1 [00:00<00:00,  3.71it/s]\n"
          ]
        },
        {
          "output_type": "stream",
          "name": "stdout",
          "text": [
            "[{'HALIBUT FILET SKIN-ON FRESH - USA - W': 'HALIBUT FILET FRSH'}, {'TROUT STEELHEAD FIL FRSH - USA - F': 'TROUT STEELHEAD FIL FRSH'}]\n",
            "687\n"
          ]
        },
        {
          "output_type": "stream",
          "name": "stderr",
          "text": [
            "Processing Batches: 100%|██████████| 1/1 [00:00<00:00,  2.85it/s]\n"
          ]
        },
        {
          "output_type": "stream",
          "name": "stdout",
          "text": [
            "[{'HALIBUT FLETCH SKIN-ON MEIERS FRESH - USA': 'HALIBUT FLETCH SKON MEIERS'}, {'SALMON FIL SKON 4-5 TIGHT TRIM - Canada -': 'SALMON FIL SKON 4-5 TIGHT TRIM'}]\n",
            "688\n"
          ]
        },
        {
          "output_type": "stream",
          "name": "stderr",
          "text": [
            "Processing Batches: 100%|██████████| 1/1 [00:00<00:00,  3.93it/s]\n"
          ]
        },
        {
          "output_type": "stream",
          "name": "stdout",
          "text": [
            "[{'DRESSING MIX RANCH': 'DRESSING MIX RANCH ORIG'}, {'BOTTLE PLASTIC': 'BOTTLE PLASTIC SQUEEZE WIDEMTH'}]\n",
            "689\n"
          ]
        },
        {
          "output_type": "stream",
          "name": "stderr",
          "text": [
            "Processing Batches: 100%|██████████| 1/1 [00:00<00:00,  1.88it/s]\n"
          ]
        },
        {
          "output_type": "stream",
          "name": "stdout",
          "text": [
            "[{'Cl Korean BBQ Kalbe 8x840g': 'SAUCE BBQ KOREAN MARINADE'}, {'Rice Stick Noodle Vermicelli 12x16oz': 'NOODLE RICE STICK SALING'}, {'Lucky Lo Mein Thin Egg Noodle 6x5#': 'NOODLE LO MEIN EGG'}]\n",
            "690\n"
          ]
        },
        {
          "output_type": "stream",
          "name": "stderr",
          "text": [
            "Processing Batches: 100%|██████████| 1/1 [00:00<00:00,  1.19it/s]\n"
          ]
        },
        {
          "output_type": "stream",
          "name": "stdout",
          "text": [
            "[{'BEEF JERKY ORIG': 'BEEF JERKY ORIG'}, {'POPCORN ORIGINAL': 'POPCORN ORIGINAL'}, {'POPCORN PLAINBOOMCHICKA': 'POPCORN PLAIN BOOMCHICKA SALT'}, {'POPCORN SWT SLTY': 'POPCORN SWT SLTY BOOMCHICKAP'}]\n",
            "691\n"
          ]
        },
        {
          "output_type": "stream",
          "name": "stderr",
          "text": [
            "Processing Batches: 100%|██████████| 1/1 [00:00<00:00,  3.12it/s]\n"
          ]
        },
        {
          "output_type": "stream",
          "name": "stdout",
          "text": [
            "[{'SALMON ATL FLT 2-3#': 'SALMON ATL FLT SKLS 2-3 LB CDN'}, {'SALMON ATL FLT 3-4#S/L': 'SALMON ATL FIL SKLS 3-4 LB CAN'}]\n",
            "692\n"
          ]
        },
        {
          "output_type": "stream",
          "name": "stderr",
          "text": [
            "Processing Batches: 100%|██████████| 1/1 [00:00<00:00,  1.09it/s]\n"
          ]
        },
        {
          "output_type": "stream",
          "name": "stdout",
          "text": [
            "[{'SALMON ATL FLT 3-4#S/L E': 'SALMON ATL FIL E-TRIM 3-4# CHL'}, {'SALMON ATL PRTN SKNLS': 'SALMON ATL PRTN CC SKNLS 8OZ'}, {'SALMON ATL FIL SK-ON': 'SALMON FIL FAROE ISLD 3-4'}, {'SALMON ATLANTIC': 'SALMON PIECES TRIM'}]\n",
            "693\n"
          ]
        },
        {
          "output_type": "stream",
          "name": "stderr",
          "text": [
            "Processing Batches: 100%|██████████| 1/1 [00:03<00:00,  3.55s/it]\n"
          ]
        },
        {
          "output_type": "stream",
          "name": "stdout",
          "text": [
            "[{'Pork Ground Raw': 'PORK GROUND RAW'}, {'Pork Shank Osso Bucco': 'PORK SHANK OSSO BUCCO 3IN GAP'}, {'Pork Belly Skin Off': 'PORK BELLY S/O'}, {'Pork Loin Rack 11 Rib Chine-Off': 'PORK LOIN RACK  11RIB CHN-OFF'}, {'Pork Loin Boneless Center Cut': 'PORK LOIN BNLS CC'}, {'Pork Butt Bone In Boxed 1x4 Inch': 'PORK BUTT BI BXD 1X4'}, {'Pork Butt Boneless 1x4': 'PORK BUTT BNLS 1X4 GAP'}, {'Pork Rib St Louis Competition': 'PORK RIB ST LOUIS COMPETITION'}]\n",
            "694\n"
          ]
        },
        {
          "output_type": "stream",
          "name": "stderr",
          "text": [
            "Processing Batches: 100%|██████████| 2/2 [00:05<00:00,  2.67s/it]\n"
          ]
        },
        {
          "output_type": "stream",
          "name": "stdout",
          "text": [
            "[{'4 oz Bison Patties (Natural)': 'BUFFALO GRND PTY 80/20 HMSTYLE'}, {'8 oz Bison Patties (Natural)': 'BUFFALO GRND PATTY 80/20 2X1'}, {'Bison Short Rib Stri': 'BUFFALO RIB SHORT'}, {'53 oz Bison/Elk Patties': 'BUFFALO GRND ELK PTY 55/45'}, {'5Elk Ground Burger': 'ELK GROUND'}, {'Bison Top Inside Round': 'BUFFALO ROUND EYE FLAT'}, {'Bison Ribeye Steak': 'BUFFALO STEAK RIBEYE'}, {'53 oz Bison Patties (Natural)': 'BUFFALO GRND PTY HOMESTYLE'}, {'53 oz Bison Patties (Round)': 'BUFFALO GRND PTY RND'}]\n",
            "695\n"
          ]
        },
        {
          "output_type": "stream",
          "name": "stderr",
          "text": [
            "Processing Batches: 100%|██████████| 1/1 [00:00<00:00,  1.22it/s]\n"
          ]
        },
        {
          "output_type": "stream",
          "name": "stdout",
          "text": [
            "[{'HALIBUT FIL PRTN 7OZ': 'HALIBUT FIL PRTN 7OZ'}, {'SALMON SIDE ORIG SMOKED': 'SALMON SIDE ORIG SMK'}, {'SEABASS FILET SKNLS FAS': 'SEABASS FIL SKLS PREV FRZN'}, {'SALMON ATL FIL E-TRIM': 'SALMON ATL FIL E-TRIM 2-3# CHL'}]\n",
            "696\n"
          ]
        },
        {
          "output_type": "stream",
          "name": "stderr",
          "text": [
            "Processing Batches: 100%|██████████| 4/4 [00:12<00:00,  3.03s/it]\n"
          ]
        },
        {
          "output_type": "stream",
          "name": "stdout",
          "text": [
            "[{'SALMON FIL E TRIM 2-3# TMG': 'SALMON FIL E TRIM 2-3#TMG'}, {'SALMON HEADS WHOLE': 'SALMON WHL HEADS'}, {'SCALLOP SEA 10/20 FRSH PORTICO': 'SCALLOP SEA DRY 10/20 CT USA'}, {'SEABASS FILET SK-ON PHF': 'BASS SEA FIL SK\\\\ON'}, {'HALIBUT FILET SKIN ON': 'HALIBUT FILET SKIN ON'}, {'SALMON PRTN DTRM SUPERIOR FRSH': 'SALMON ATL FIL DTRIM WISC'}, {'BASS STRIPED FIL FARM RAISED': 'BASS STRIPED FIL FARM 12OZ'}, {'SALMON FILET PRTN SK-OFF 6OZ': 'SALMON PRTN SKIN OFF'}, {'BASS SEA CHILEAN SKIN ON BNLS': 'BASS SEA CHILEAN SKIN ON BNLS'}, {'SALMN FLET CANADIAN 1/3-4# AVG': 'SALMON FILET CANADN'}, {'BASS SEA BRANZINO SPLT FIL FRZ': 'BASS SEA BRANZINO SPLIT FILLET'}, {'TUNA LOIN #1 BREADLOAF PERRYS': 'TUNA LOIN #1 BREADLOAF PERRYS'}, {'HALIBUT FILET SKIN ON': 'HALIBUT FILET SKIN ON'}, {'SHRIMP HDON PRAWN U/7': 'SHRIMP HDON PRAWN U/7'}, {'BASS SEA BRANZINO SPLT FIL FRZ': 'BASS SEA BRANZINO SPLIT FILLET'}]\n",
            "697\n"
          ]
        },
        {
          "output_type": "stream",
          "name": "stderr",
          "text": [
            "Processing Batches: 100%|██████████| 1/1 [00:01<00:00,  1.89s/it]\n"
          ]
        },
        {
          "output_type": "stream",
          "name": "stdout",
          "text": [
            "[{'CLAMS MANILAS 6384119': 'CLAM MANILA IN SHELL'}, {'OYSTER IN SHELL KUMA': 'OYSTER LIVE IN-SHELL KUMAMOTO'}, {'OYSTERS IN SHELL SM 6359848': 'OYSTER LIVE INSHELL SMALL'}, {'ROCKFISH FILLET RED 6283659': 'SNAPPER RED FIL PAC SKLS FRSH'}, {'WALLEYE PIKE FILLET 1152495': 'WALLEYE PIKE FIL SK/ON 6-8OZ'}]\n",
            "698\n"
          ]
        },
        {
          "output_type": "stream",
          "name": "stderr",
          "text": [
            "Processing Batches: 100%|██████████| 1/1 [00:00<00:00,  2.73it/s]\n"
          ]
        },
        {
          "output_type": "stream",
          "name": "stdout",
          "text": [
            "[{'50# Yellow Popcorn Seed': 'POPCORN KERNEL GOLD'}, {'24ct/8oz G/R/B Popcorn Kit': 'POPCORN KIT ALL IN ONE'}]\n",
            "699\n"
          ]
        },
        {
          "output_type": "stream",
          "name": "stderr",
          "text": [
            "Processing Batches: 100%|██████████| 22/22 [01:27<00:00,  3.96s/it]\n"
          ]
        },
        {
          "output_type": "stream",
          "name": "stdout",
          "text": [
            "[{'CAB BEEF CHUCK SHORT RIB BI': 'BEEF CHUCK SHORT RIB B\\\\I BN\\\\RA'}, {'BEEF STRIPLOIN 0X1 CH RASUSHI': 'BEEF STRIPLOIN CH BN\\\\RA'}, {'BEEF TENDERLO]N PiSMO 6UP CH': 'BEEF TENDER PSMO CH'}, {'PORK RIB COUNTRY STYLE BNLS 5 OZ': 'PORK RIB CNTRY STY BNLS'}, {'CAB STK CHUCK FLAT IRON NORD': 'STEAK CHUCK FLAT IRON NDSTM'}, {'i CAB STK CHUCK PUB FAT-OFF 6Z': 'STEAK CHUCK SHLDR PUB SKND TMG'}, {'CAB STEAK FILET CC IAP V': 'STEAK FILET C\\\\C IAP'}, {'STK TENDER FILET CC PRIME 8OZ Z': 'STEAK FILET C\\\\C PR'}, {'STK TENDER TAIL MEDALLIONS 4OZ': 'STEAK FILET MEDALLION SEL VAC2'}, {'CAB STEAK RIBEYE BNLS 1TLZ': 'STEAK RIBEYE BNLS 1TL'}, {'CAB STEAK SKIRT OUTSIDE NORD': 'STEAK SKIRT OUTSDE NDSTM'}, {'STRIP E-E 1TL ST-ON BCH PRF 10OZ': 'STEAK STRIP E\\\\E 1TL BCH PRF'}, {'PORK CHOP CC RIB 8OZ': 'PORK CHOP B\\\\I C\\\\C RIB'}, {'STK STRIP CC lTL Bso CH 10OZ': 'STEAK STRIP C\\\\C 1TL CH'}, {'PORK CHOP CC RIB CHCGO STYLE 2OZ': 'PORK CHOP CC RIB CHCGO STY'}, {'STKSTRIP CC 1TL BSO CH 10OZ': 'STEAK STRIP C\\\\C 1TL CH'}, {'RIBEYE BNLS 1TLBCH PRF INE': 'STEAK RIBEYE BNLS 1TL BCH PRF'}, {'CAB STK COWBOY SPIJT BONE Z': 'STEAK RIBEYE SPLTBN FRNCH'}, {'STK STRIP CC 1/2TL ST-OFF CH 12Z': 'STEAK STRIP C\\\\C 1\\\\2TL BSO CH'}, {'STK STRIP CC 1/2TL ST-OFF CH 127': 'STEAK STRIP C\\\\C 1\\\\2TL BSO CH'}, {'STK RIBEYE BNLS 1TL CH 8OZ': 'STEAK RIBEYE BNLS 1TL CH'}, {'PORK CHOP CC LOIN 8OZ': 'PORK CHOP B\\\\I C\\\\C LOIN'}, {'CAB CHUCK FLAP MEAT REBOX 10#': 'BEEF CHUCK FLAP MEAT'}, {'BEEF TENDER PTR BCH PRF 2PC G': 'BEEF TENDER PSMO BCH PRF'}, {'STK TENDER FILET CC BCH PRF BV': 'STEAK FILET C\\\\C BCH PRF BULK'}, {'CH STK TENDER FILET CC BV V': 'STEAK FILET C\\\\C CH BULK C\\\\B'}, {'STEAK FILET CC VAC 1 V': 'STEAK FILET C\\\\C CH V1 C\\\\B'}, {'CAB STK BALL TIP NO-FAT BFLY GOZ': 'STEAK SIRL BALLTIP BFLY SKND'}, {'BEEF CHUCK SHORT RIB BNLS BULK': 'BEEF CHUCK SHORT RIB BNLS BULK'}, {'CH SKIRT INSIDE DCD 1/2 X 1/2': 'BEEF SKIRT INS DCD 1\\\\2X1\\\\2 CH'}, {'STK RIBEYE BNLS 1TLCH 12OZ': 'STEAK RIBEYE BNLS 1TL CH'}, {'STK RIBEYE BNLS 1TL CH 6OZ': 'STEAK RIBEYE BNLS 1TL CH'}, {'BEEF CHUCK SHORT RIB BNLS SQR': 'BEEF SHORT RIB BNLS SQUARE CUT'}, {'CAB STK BALL TIP NO-FAT 10OZ': 'STEAK SIRL BALLTIP SKND'}, {'CAB STEAK RIBEYE B] 1TL Z': 'STEAK RIBEYE B\\\\I 1TL'}, {'RIBEYE 0TL BNLS 8OZ BCH PRF': 'STEAK RIBEYE BNLS 0TL BCH PRF'}, {'CAB CHUCK FLAP MEAT REBOX 10#': 'BEEF CHUCK FLAP MEAT'}]\n",
            "700\n"
          ]
        },
        {
          "output_type": "stream",
          "name": "stderr",
          "text": [
            "Processing Batches: 100%|██████████| 1/1 [00:00<00:00,  3.70it/s]\n"
          ]
        },
        {
          "output_type": "stream",
          "name": "stdout",
          "text": [
            "[{'CANDY RED VINELICORC ORIG': 'CANDY RED VINE LICORC ORIG'}, {'SNACK MIX CHEXTRADITIONAL': 'SNACK MIX CHEX TRADITIONAL'}]\n",
            "701\n"
          ]
        },
        {
          "output_type": "stream",
          "name": "stderr",
          "text": [
            "Processing Batches: 100%|██████████| 1/1 [00:00<00:00,  3.15it/s]\n"
          ]
        },
        {
          "output_type": "stream",
          "name": "stdout",
          "text": [
            "[{'COOKIE CHOC WAFELLOW SUGAR': 'COOKIE CHOC WAFEL LOW SUGAR'}, {'COOKIE VAN CARMWAFEL LOW SUG': 'COOKIE VAN CARM WAFEL LOW SUG'}]\n",
            "702\n"
          ]
        },
        {
          "output_type": "stream",
          "name": "stderr",
          "text": [
            "Processing Batches: 100%|██████████| 1/1 [00:00<00:00,  2.20it/s]\n"
          ]
        },
        {
          "output_type": "stream",
          "name": "stdout",
          "text": [
            "[{'POP TART BLUBRY': 'POP TART BLUBRY FRSTD POUCH'}, {'POP TART S MORES': 'POP TART S MORES'}, {'BREAKFAST BAR': 'BREAKFAST BAR CHERRIOS STWBRY'}]\n",
            "703\n"
          ]
        },
        {
          "output_type": "stream",
          "name": "stderr",
          "text": [
            "Processing Batches: 100%|██████████| 1/1 [00:00<00:00,  3.13it/s]\n"
          ]
        },
        {
          "output_type": "stream",
          "name": "stdout",
          "text": [
            "[{'CLEANER FLOORLIQUID': 'CLEANER FLOOR LIQUID'}, {'MEAT ALTERNATEJACKFRUIT NKD': 'MEAT ALTERNATE JACKFRUIT NKD'}]\n",
            "704\n"
          ]
        },
        {
          "output_type": "stream",
          "name": "stderr",
          "text": [
            "Processing Batches: 100%|██████████| 2/2 [00:04<00:00,  2.33s/it]\n"
          ]
        },
        {
          "output_type": "stream",
          "name": "stdout",
          "text": [
            "[{'CORN 5IN WHITE TAQUERIA TORTILLA': 'TORTILLA CORN 5IN'}, {'CORN 6IN WHITE THICK TORTILLA': 'TORTILLA CORN WHT 6IN'}, {'CORN 45IN WHITE TAQUITO TORTILLA': 'TORTILLA CORN WHT 4.5IN'}, {'CORN 5IN WHITE TORTILLA - BF': 'TORTILLA CORN WHITE 5IN'}, {'FLOUR 125IN ESPECIAL TORTILLA - BF': 'TORTILLA FLOUR 12.5 IN'}, {'FLOUR 6IN ESPECIAL TORTILLA': 'TORTILLA FLOUR ESPL 6IN'}, {'CORN 6IN YLW THICK TORTILLA': 'TORTILLA CORN YEL THICK 6IN'}, {'CORN 4-CUT WHITE THIN PRE-CUT': 'CHIP TORTILLA REG THIN 4'}, {'FLOUR 10IN BURRITO TORTILLA': 'TORTILLA FLOUR PRSSD 10IN'}, {'FLOUR 12IN GRANDE TORTILLA': 'TORTILLA FLOUR PRSSD 12IN'}]\n",
            "705\n"
          ]
        },
        {
          "output_type": "stream",
          "name": "stderr",
          "text": [
            "Processing Batches: 100%|██████████| 1/1 [00:00<00:00,  3.28it/s]\n"
          ]
        },
        {
          "output_type": "stream",
          "name": "stdout",
          "text": [
            "[{'COFFEE ICED LATTEVANILLA SNGL': 'COFFEE ICED LATTE VANILLA SNGL'}, {'COFFEE ICED LATTEMOCHA SNGL': 'COFFEE ICED LATTE MOCHA SNGL'}]\n",
            "706\n"
          ]
        },
        {
          "output_type": "stream",
          "name": "stderr",
          "text": [
            "Processing Batches: 100%|██████████| 1/1 [00:01<00:00,  1.16s/it]\n"
          ]
        },
        {
          "output_type": "stream",
          "name": "stdout",
          "text": [
            "[{'WHL WHEAT FLOUR FINE ORG-': 'FLOUR BREAD WHEAT'}, {'UNBL ULTIMATE PERFORMER ORG-': 'FLOUR ORGANIC UNBLCH ULTIMATE'}, {'UNBL 00 FLOUR': 'FLOUR UNBLCH DBLE ZERO'}, {'UNBL KEITHS BEST FLOUR': 'FLOUR UNBLCHD KEITH S BEST'}]\n",
            "707\n"
          ]
        },
        {
          "output_type": "stream",
          "name": "stderr",
          "text": [
            "Processing Batches: 100%|██████████| 1/1 [00:01<00:00,  1.12s/it]\n"
          ]
        },
        {
          "output_type": "stream",
          "name": "stdout",
          "text": [
            "[{'3 lb Spring Mix': 'LETTUCE SPRING MIX'}, {'3 lb Romaine Crunch': 'LETTUCE ROMAINE LEAF CRUNCH'}, {'4 / 3 lb Romaine Crunch': 'LETTUCE ROMAINE LEAF CRUN REV'}, {'12 ct Butterhead Lettuce': 'LETTUCE BIBB HYDRO BULK REVOL'}]\n",
            "708\n"
          ]
        },
        {
          "output_type": "stream",
          "name": "stderr",
          "text": [
            "Processing Batches: 100%|██████████| 1/1 [00:01<00:00,  1.54s/it]\n"
          ]
        },
        {
          "output_type": "stream",
          "name": "stdout",
          "text": [
            "[{'ICHEESECAKE REV CAKES 15x14xHI-D S/W': 'BAG CARRYOUT WAVE 15X14X5 LOGO'}, {'CHEESECAKE REV CAKES21x13x10 AMERITOTE': 'BAG CRRYOT 21X13X10 SFT LP CCF'}, {'LUNA GRILL 2021 21x13x10AMERITOTE': 'BAG PLAS WHT 21X13X10 SML'}, {'WHICH WICH 18x16x 9 HI-D S/W': 'BAG PLAS 18X16X9 SUPER WAVE'}]\n",
            "709\n"
          ]
        },
        {
          "output_type": "stream",
          "name": "stderr",
          "text": [
            "Processing Batches: 100%|██████████| 1/1 [00:00<00:00,  1.33it/s]\n"
          ]
        },
        {
          "output_type": "stream",
          "name": "stdout",
          "text": [
            "[{'SMKD TROUT DT 8OZ': 'TROUT SMOKED FRESH'}, {'SALMON FILLET 3-4# D-TRIM': 'SALMON ATL FIL DTRIM CAN 3-4#'}, {'PEI MUSSELS 10# BAG': 'MUSSEL FRESH BLK PEI'}]\n",
            "710\n"
          ]
        },
        {
          "output_type": "stream",
          "name": "stderr",
          "text": [
            "Processing Batches: 100%|██████████| 1/1 [00:00<00:00,  2.68it/s]\n"
          ]
        },
        {
          "output_type": "stream",
          "name": "stdout",
          "text": [
            "[{'SEASALAD SESAME': 'SALAD SEAWEED HIYASHI WAKAME'}, {'CRAWFISH 16-22': 'CRAWFISH WHL CKD'}]\n",
            "711\n"
          ]
        },
        {
          "output_type": "stream",
          "name": "stderr",
          "text": [
            "Processing Batches: 100%|██████████| 1/1 [00:01<00:00,  1.45s/it]\n"
          ]
        },
        {
          "output_type": "stream",
          "name": "stdout",
          "text": [
            "[{'WONTON SKIN 4X4 THICK': 'WONTON SKIN 4X 4 THICK'}, {'NOODLE YAKISOBA STEAMED FROZEN': 'NOODLE YAKISOBA'}, {'EGGROLL SKIN 7X7': 'EGGROLL SKIN 7X7'}, {'RICE STICK M 3MM': 'RICE STICK 3MM'}, {'SAUCE SOY PACKETS TO GO GLUTEN FREE': 'SAUCE SOY PKT'}]\n",
            "712\n"
          ]
        },
        {
          "output_type": "stream",
          "name": "stderr",
          "text": [
            "Processing Batches: 100%|██████████| 1/1 [00:02<00:00,  2.30s/it]\n"
          ]
        },
        {
          "output_type": "stream",
          "name": "stdout",
          "text": [
            "[{'SPREAD CHOCOLATE HZLNT PC': 'SPREAD CHOCOLATE HZLNT PC'}, {'HEINZKETCHUP BOTTLED FCY': 'KETCHUP BOTTLED FCY'}, {'SPICE PEPPER BLACK 18 MESH': 'SPICE PEPPER BLACK 18 MESH'}, {'BLSMO': 'SPICE ONION GRANULATED IMPORT'}, {'SPICE LEMON PEPPER': 'SPICE LEMON PEPPER'}, {'CHINA RECTANGULAR': 'PLATE CHINA RECTANGULAR'}, {'RAVIOLI CRAB BLUE MRYLND': 'RAVIOLI CRAB BLUE MRYLND'}]\n",
            "713\n"
          ]
        },
        {
          "output_type": "stream",
          "name": "stderr",
          "text": [
            "Processing Batches: 100%|██████████| 1/1 [00:00<00:00,  3.84it/s]\n"
          ]
        },
        {
          "output_type": "stream",
          "name": "stdout",
          "text": [
            "[{'PO3 PIE COCONUT CHESS': 'PIE COCONUT CHESS'}, {'PO2 PIE PECAN CRM CHS': 'PIE PECAN CRM CHS'}]\n",
            "714\n"
          ]
        },
        {
          "output_type": "stream",
          "name": "stderr",
          "text": [
            "Processing Batches: 100%|██████████| 1/1 [00:01<00:00,  1.07s/it]\n"
          ]
        },
        {
          "output_type": "stream",
          "name": "stdout",
          "text": [
            "[{'Bonlander  Munich Malt 10L': 'MALT WHL KERNAL BONLANDER MUNI'}, {'Caramel Malt 60L': 'MALT WHL KERNAL CARAMEL 60L'}, {'Chocolate Malt': 'MALT WHL KERNAL CHOC'}, {'Brewers Malt': 'MALT WHL KERNAL 2-ROW BREWERS'}, {'Wheat Malt White': 'MALT WHL KERNEL WHITE WHEAT'}]\n",
            "715\n"
          ]
        },
        {
          "output_type": "stream",
          "name": "stderr",
          "text": [
            "Processing Batches: 100%|██████████| 1/1 [00:02<00:00,  2.43s/it]\n"
          ]
        },
        {
          "output_type": "stream",
          "name": "stdout",
          "text": [
            "[{'Pork Belly Skin Off': 'PORK BELLY S/O'}, {'Pork Loin Rack 11 Rib Chine-Off': 'PORK LOIN RACK  11RIB CHN-OFF'}, {'Pork Loin Boneless Secreto': 'PORK LOIN BONELESS SECRETO'}, {'Pork Picnic Boneless Cushion IN': 'PORK PICNIC BNLS CUSHION IN'}, {'Pork Butt Bone In Boxed 1x4 Inch': 'PORK BUTT BI BXD 1X4'}, {'Pork Rib St Louis Competition': 'PORK RIB ST LOUIS COMPETITION'}, {'Jowl Guanciale': 'PORK JOWL SKLS'}]\n",
            "716\n"
          ]
        },
        {
          "output_type": "stream",
          "name": "stderr",
          "text": [
            "Processing Batches: 100%|██████████| 2/2 [00:05<00:00,  2.51s/it]\n"
          ]
        },
        {
          "output_type": "stream",
          "name": "stdout",
          "text": [
            "[{'Bacon Fully Cooked Chips - 3/8': 'BACON CHIP EASY FC'}, {'Beef Taco Filling': 'BEEF TACO FILLING CKD'}, {'Franks Beef 6/1 6 in': 'FRANK ALL BEEF 6X1 PREM'}, {'Ham Patties Sliced 20 oz': 'HAM PATTY'}, {'Pork Car-nitas': 'PORK CKD CARNITA MEAT'}, {'Pork Sausage Fully Cooked Crumbles Don': 'SAUSAGE PORK CKD CRUMBLES'}, {'Pork Sausage Fully Cooked Link Lower': 'SAUSAGE PORK LINK LOSOD FCSKLS'}, {'Pork Sausage Don Russell Roll': 'SAUSAGE ROLL DON RUSSELL RAW'}, {'Sausage Coil Signature 2000': 'SAUSAGE ROPE CNTRY STY'}, {'Tangy Summer Sausage Sliced 5 oz': 'SAUSAGE SUMMER TANGY SLCD'}]\n",
            "717\n"
          ]
        },
        {
          "output_type": "stream",
          "name": "stderr",
          "text": [
            "Processing Batches: 100%|██████████| 1/1 [00:02<00:00,  2.13s/it]\n"
          ]
        },
        {
          "output_type": "stream",
          "name": "stdout",
          "text": [
            "[{'6oz Marinated Beef Steak-Jersey Mikes-1013lbs': 'BEEF STEAK PHILLY 6 OZ'}, {'6oz Marinated Chicken Breast-Jersey Mikes 1013lb': 'CHICKEN PHILLY STEAK 6 OZ FRZN'}, {'Bellissimo 5oz Marinated Sirloin- 10lbs': 'BEEF PHILLY STEAK SRLOIN 5OZ'}, {'Beef Steak Philly Gosh-30 lbs': 'BEEF STEAK PHILLY SLI THIN 3OZ'}, {'Chicken Steak Philly Gosh-30 lbs': 'CHICKEN PHILLY STEAK 3 OZ'}]\n",
            "718\n"
          ]
        },
        {
          "output_type": "stream",
          "name": "stderr",
          "text": [
            "Processing Batches: 100%|██████████| 1/1 [00:01<00:00,  1.78s/it]\n"
          ]
        },
        {
          "output_type": "stream",
          "name": "stdout",
          "text": [
            "[{'SF Heavy Cream 9/5 Gal': 'CREAM HEAVY'}, {'8041100029 SF Mi k Homogenized 2/1 Gal': 'MILK HOMOGENIZED'}, {'8041100030 SF Mi k 2% REDUCE FAT 2/1 Gal': 'MILK 2% RDUC FAT'}, {'8041100032 SF Mi k Low Fat Skim 2/1 Gal': 'MILK LOW FAT SKIM'}, {'8041100050 SF Half & Half Quarts': 'CREAMER HALF & HALF'}]\n",
            "719\n"
          ]
        },
        {
          "output_type": "stream",
          "name": "stderr",
          "text": [
            "Processing Batches: 100%|██████████| 1/1 [00:01<00:00,  1.27s/it]\n"
          ]
        },
        {
          "output_type": "stream",
          "name": "stdout",
          "text": [
            "[{'SF Heavy Cream 9/5 Gal': 'CREAM HEAVY'}, {'8041100029 SF Mrk Homogenized 2/1 Gal': 'MILK HOMOGENIZED'}, {'8041100030 SF Mi k 2% REDUCE FAT 2/1 Gal': 'MILK 2% RDUC FAT'}, {'8041100032 SF Mi k Low Fat Skim 2/1 Gal': 'MILK LOW FAT SKIM'}, {'8041100050 SF Half & Half Quarts': 'CREAMER HALF & HALF'}]\n",
            "720\n"
          ]
        },
        {
          "output_type": "stream",
          "name": "stderr",
          "text": [
            "Processing Batches: 100%|██████████| 1/1 [00:01<00:00,  1.76s/it]\n"
          ]
        },
        {
          "output_type": "stream",
          "name": "stdout",
          "text": [
            "[{'SF Heavy Cream 9/5 Gal': 'CREAM HEAVY'}, {'8041100029 SF Mi k Homogenized 2/1 Gal': 'MILK HOMOGENIZED'}, {'8041100030 SF Mi k 2% REDUCE FAT 2/1 Gal': 'MILK 2% RDUC FAT'}, {'8041100032 SF Mi k Low Fat Skim 2/1 Gal': 'MILK LOW FAT SKIM'}, {'8041100050 SF Half & Half Quarts': 'CREAMER HALF & HALF'}, {'Empty Gallon Jug 48/128oz': 'JUG PLAS GALLON'}]\n",
            "721\n"
          ]
        },
        {
          "output_type": "stream",
          "name": "stderr",
          "text": [
            "Processing Batches: 100%|██████████| 1/1 [00:00<00:00,  1.75it/s]\n"
          ]
        },
        {
          "output_type": "stream",
          "name": "stdout",
          "text": [
            "[{'Jersey Mikes Mini Wheat Sub': 'ROLL MINI WHEAT SUB'}, {'Jersey Mikes Mini White Sub': 'ROLL MINI WHT SUB'}, {'Jersey Mikes Wheat Sub': 'ROLL WHEAT SUB'}, {'Jersey Mikes White Sub': 'ROLL WHITE SUB'}]\n",
            "722\n"
          ]
        },
        {
          "output_type": "stream",
          "name": "stderr",
          "text": [
            "Processing Batches: 100%|██████████| 1/1 [00:00<00:00,  1.11it/s]\n"
          ]
        },
        {
          "output_type": "stream",
          "name": "stdout",
          "text": [
            "[{'Large Kaiser Roll': 'DOUGH ROLL KAISER HARD'}, {'Jersey Mikes Mini Wheat Sub': 'ROLL MINI WHEAT SUB'}, {'Jersey Mikes Mini White Sub': 'ROLL MINI WHT SUB'}, {'Jersey Mikes Wheat Sub': 'ROLL WHEAT SUB'}, {'Jersey Mikes White Sub': 'ROLL WHITE SUB'}]\n",
            "723\n"
          ]
        },
        {
          "output_type": "stream",
          "name": "stderr",
          "text": [
            "Processing Batches: 100%|██████████| 1/1 [00:00<00:00,  3.46it/s]\n"
          ]
        },
        {
          "output_type": "stream",
          "name": "stdout",
          "text": [
            "[{'5032000716 SF Homogenized Milk 1/5 Gal': 'MILK HOMOGENIZED'}, {'5032000717 SF 2% Reduced Fat Milk 1/5 Gal': 'MILK 2% RDUC FAT'}]\n",
            "724\n"
          ]
        },
        {
          "output_type": "stream",
          "name": "stderr",
          "text": [
            "Processing Batches: 100%|██████████| 1/1 [00:00<00:00,  2.84it/s]\n"
          ]
        },
        {
          "output_type": "stream",
          "name": "stdout",
          "text": [
            "[{'Jersey Mikes Mini White Sub': 'ROLL MINI WHT SUB'}, {'Jersey Mikes Wheat Sub': 'ROLL WHEAT SUB'}, {'Jersey Mikes White Sub': 'ROLL WHITE SUB'}]\n",
            "725\n"
          ]
        },
        {
          "output_type": "stream",
          "name": "stderr",
          "text": [
            "Processing Batches: 100%|██████████| 1/1 [00:00<00:00,  1.25it/s]\n"
          ]
        },
        {
          "output_type": "stream",
          "name": "stdout",
          "text": [
            "[{'Large Italian Bread': 'DOUGH BREAD ITALIAN'}, {'Jersey Mikes Mini': 'ROLL MINI WHT SUB'}, {'Jersey Mikes Mini': 'ROLL MINI WHEAT SUB'}, {'Jersey Mikes Wheat': 'ROLL WHEAT SUB'}, {'Jersey Mikes White': 'ROLL WHITE SUB'}]\n",
            "726\n"
          ]
        },
        {
          "output_type": "stream",
          "name": "stderr",
          "text": [
            "Processing Batches: 100%|██████████| 1/1 [00:00<00:00,  1.22it/s]\n"
          ]
        },
        {
          "output_type": "stream",
          "name": "stdout",
          "text": [
            "[{'SF Heavy Cream 9/5 Gal': 'CREAM HEAVY'}, {'8041100029 SF Milk Homogenized 2/1 Gal': 'MILK HOMOGENIZED'}, {'8041100030 SF Milk 2% REDUCE FAT 2/1 Gal': 'MILK 2% RDUC FAT'}, {'8041100050 SF Half & Half Quarts': 'CREAMER HALF & HALF'}]\n",
            "727\n"
          ]
        },
        {
          "output_type": "stream",
          "name": "stderr",
          "text": [
            "Processing Batches: 100%|██████████| 1/1 [00:00<00:00,  3.53it/s]\n"
          ]
        },
        {
          "output_type": "stream",
          "name": "stdout",
          "text": [
            "[{'5032000716 SF Homogenized Milk 1/5 Gal': 'MILK HOMOGENIZED'}, {'5032000717 SF 2% Reduced Fat Milk 1/5 Gal': 'MILK 2% RDUC FAT'}]\n",
            "728\n"
          ]
        },
        {
          "output_type": "stream",
          "name": "stderr",
          "text": [
            "Processing Batches: 100%|██████████| 1/1 [00:00<00:00,  1.06it/s]\n"
          ]
        },
        {
          "output_type": "stream",
          "name": "stdout",
          "text": [
            "[{'SF Heavy Cream 9/5 Gal': 'CREAM HEAVY'}, {'8041100029 SF Milk Homogenized': 'MILK HOMOGENIZED'}, {'8041100030 SF Milk 2%': 'MILK 2% RDUC FAT'}, {'8041100032 SF Milk Low': 'MILK LOW FAT SKIM'}, {'8041100050 SF Half & Half': 'CREAMER HALF & HALF'}]\n",
            "729\n"
          ]
        },
        {
          "output_type": "stream",
          "name": "stderr",
          "text": [
            "Processing Batches: 100%|██████████| 1/1 [00:00<00:00,  1.22it/s]\n"
          ]
        },
        {
          "output_type": "stream",
          "name": "stdout",
          "text": [
            "[{'HC Plus Orange Juice Cups 96/4oz': 'JUICE ORANGE STABLE'}, {'HC Plus Grape Juice Cups 96/4oz': 'JUICE GRAPE SHELF STABLE'}, {'HC Plus Apple Juice Cups 96/4oz': 'JUICE APPLE SHELF STABLE'}, {'HC Plus 15% Cranberry Juice Cups 96/4oz': 'JUICE CRANBERRY 15% SS CUP'}]\n",
            "730\n"
          ]
        },
        {
          "output_type": "stream",
          "name": "stderr",
          "text": [
            "Processing Batches: 100%|██████████| 1/1 [00:01<00:00,  1.43s/it]\n"
          ]
        },
        {
          "output_type": "stream",
          "name": "stdout",
          "text": [
            "[{'HC Plus Orange Juice Cups 96/4oz': 'JUICE ORANGE STABLE'}, {'HC Plus Grape Juice Cups 96/4oz': 'JUICE GRAPE SHELF STABLE'}, {'HC Plus Apple Juice Cups 96/4oz': 'JUICE APPLE SHELF STABLE'}, {'HC Plus 15% Cranberry Juice Cups 96/4oz': 'JUICE CRANBERRY 15% SS CUP'}, {'HC Plus Prune Juice Cups 96/4oz': 'JUICE PRUNE 100% SHELF STABLE'}]\n",
            "731\n"
          ]
        },
        {
          "output_type": "stream",
          "name": "stderr",
          "text": [
            "Processing Batches: 100%|██████████| 1/1 [00:01<00:00,  1.56s/it]\n"
          ]
        },
        {
          "output_type": "stream",
          "name": "stdout",
          "text": [
            "[{'HC Plus Apple Juice Cups 96/4oz': 'JUICE APPLE SHELF STABLE'}, {'HC Plus Diet Cranberry Juice Cups': 'JUICE CRANBERRY DIET'}, {'HC Plus 15% Cranberry Juice Cups': 'JUICE CRANBERRY 15% SS CUP'}, {'HC Plus Orange Juice Cups 96/4oz': 'JUICE ORANGE STABLE'}, {'HC Plus Prune Juice Cups 96/4oz': 'JUICE PRUNE 100% SHELF STABLE'}]\n",
            "732\n"
          ]
        },
        {
          "output_type": "stream",
          "name": "stderr",
          "text": [
            "Processing Batches: 100%|██████████| 1/1 [00:01<00:00,  1.12s/it]\n"
          ]
        },
        {
          "output_type": "stream",
          "name": "stdout",
          "text": [
            "[{'HC Plus Orange Juice Cups 96/4oz': 'JUICE ORANGE STABLE'}, {'HC Plus Grape Juice Cups 96/4oz': 'JUICE GRAPE SHELF STABLE'}, {'HC Plus Apple Juice Cups 96/4oz': 'JUICE APPLE SHELF STABLE'}, {'HC Plus 15% Cranberry Juice Cups 96/4oz': 'JUICE CRANBERRY 15% SS CUP'}]\n",
            "733\n"
          ]
        },
        {
          "output_type": "stream",
          "name": "stderr",
          "text": [
            "Processing Batches: 100%|██████████| 1/1 [00:03<00:00,  3.06s/it]\n"
          ]
        },
        {
          "output_type": "stream",
          "name": "stdout",
          "text": [
            "[{'12Z CN 24P COKE': 'SODA COCA COLA CLS'}, {'20Z PT 24LS COKE': 'SODA COKE CLS CONTOUR TRAY PK'}, {'500M GL 24LS COKE MEX': 'SODA COKE MEXICO GLASS NON RET'}, {'355M GL 24P TS COKE MEX': 'SODA MEX COKE GLS NON RET'}, {'12Z CN 24P PB SPRITE': 'SODA SPRITE CANS'}, {'20Z PT 24LS DAS': 'WATER BOTTLED PET LOOSE DASANI'}, {'20Z PT 24LS SMTWTR': 'WATER BTLD SMARTWATER'}]\n",
            "734\n"
          ]
        },
        {
          "output_type": "stream",
          "name": "stderr",
          "text": [
            "Processing Batches: 100%|██████████| 1/1 [00:00<00:00,  4.41it/s]\n"
          ]
        },
        {
          "output_type": "stream",
          "name": "stdout",
          "text": [
            "[{'12Z CN 24P COKE': 'SODA COCA COLA CLS'}, {'12Z CN 24P PB SPRITE': 'SODA SPRITE CANS'}]\n",
            "735\n"
          ]
        },
        {
          "output_type": "stream",
          "name": "stderr",
          "text": [
            "Processing Batches: 100%|██████████| 1/1 [00:02<00:00,  2.90s/it]\n"
          ]
        },
        {
          "output_type": "stream",
          "name": "stdout",
          "text": [
            "[{'Beef Chuck/Arm Roll': 'BEEF CHUCK ARM ROLL'}, {'Chicken Bones': 'CHICKEN BONE'}, {'Whole Fryer Chickens': 'CHICKEN WHL'}, {'Smoked & Cured Pork Ham (Boneless)': 'PORK HAM SMKD BNLS SINGLE MSCL'}, {'Pork Rib Chop': 'PORK RIB CHOP 2 BN DOUBLE'}, {'Pork Shoulder Roast- BNLS': 'PORK SHOULDER BNLS WHL'}, {'Pork Breakfast Links': 'SAUSAGE PORK BREAKFAST LINK FR'}, {'Fairbury Farms Boneless Turkey Breast': 'TURKEY BRST BNLS SKOFF FRZN'}]\n",
            "736\n"
          ]
        },
        {
          "output_type": "stream",
          "name": "stderr",
          "text": [
            "Processing Batches: 100%|██████████| 1/1 [00:00<00:00,  1.86it/s]\n"
          ]
        },
        {
          "output_type": "stream",
          "name": "stdout",
          "text": [
            "[{'8 OZ TALL TMBL SYSCO 20/25 4235099': 'CUP PLAS CLR TALL 8OZ RIGID'}, {'12 OZ TMB SYSCO 20/25 5274972': 'CUP PLAS CLR TALL 12OZ RIGID'}, {'1025 MP PLATE SYSCO BRAND 10/12': 'PLATE PLAS MSTRPCE W/GLD BAND'}]\n",
            "737\n"
          ]
        },
        {
          "output_type": "stream",
          "name": "stderr",
          "text": [
            "Processing Batches: 100%|██████████| 1/1 [00:02<00:00,  2.50s/it]\n"
          ]
        },
        {
          "output_type": "stream",
          "name": "stdout",
          "text": [
            "[{'Box Pizza 12 In Global': 'BOX PIZZA 12 IN GLOBAL'}, {'Box Pizza 14 In Global': 'BOX PIZZA 14 IN GLOBAL'}, {'Box Pizza 7 In Global': 'BOX PIZZA 7 IN GLOBAL'}, {'Dressing Vinaigrette Apple Pkt': 'DRESSING VINAIGRETTE APPLE PKT'}, {'Sauce Pizza RTU Thick': 'SAUCE PIZZA RTU THICK'}, {'Sauce Pizza RTU Thin': 'SAUCE PIZZA RTU THIN'}, {'Seasoning Hot Chkn': 'SEASONING HOT CHKN'}, {'Spice Basil Freeze Dried': 'SPICE BASIL FREEZE DRIED'}]\n",
            "738\n"
          ]
        },
        {
          "output_type": "stream",
          "name": "stderr",
          "text": [
            "Processing Batches: 100%|██████████| 2/2 [00:05<00:00,  2.74s/it]\n"
          ]
        },
        {
          "output_type": "stream",
          "name": "stdout",
          "text": [
            "[{'Beef Cooked Topping F/ Pzz': 'BEEF COOKED TOPPING F/ PZZ'}, {'Breadstick Garlic 6-7 In': 'BREADSTICK GARLIC 6-7 IN'}, {'Brownie Choc Fudge Bkd Wrpd': 'BROWNIE CHOC FUDGE BKD WRPD 3Z'}, {'Cheese String Frz Dmns': 'CHEESE STRING FRZ DMNS'}, {'Chicken Bnls Chunk Frttr': 'CHICKEN BNLS CHUNK FRTTR'}, {'Cookie Chip Trpl Choc Bkd 25z': 'COOKIE CHIP TRPL CHOC BKD 2.5Z'}, {'Cookie White Iced Rnd 15 Oz': 'COOKIE WHITE ICED RND 1.5 OZ'}, {'Dough Pizza 16 In Famous Thin': 'DOUGH PIZZA 16 IN FAMOUS THIN'}, {'Dough Pizza Lrg Thn On Papr': 'DOUGH PIZZA LRG THN ON PAPR'}, {'-Pizza Crust Cauliflower 10': 'PIZZA CRUST CAULIFLOWER 10'}]\n",
            "739\n"
          ]
        },
        {
          "output_type": "stream",
          "name": "stderr",
          "text": [
            "Processing Batches: 100%|██████████| 1/1 [00:00<00:00,  2.01it/s]\n"
          ]
        },
        {
          "output_type": "stream",
          "name": "stdout",
          "text": [
            "[{'Box Pizza Kraft Small 10': 'BOX PIZZA KRAFT SMALL 10'}, {'Dough Blend Deep Pan': 'DOUGH BLEND DEEP PAN'}, {'Dressing Salad Chuckwagon': 'DRESSING SALAD CHUCKWAGON'}]\n",
            "740\n"
          ]
        },
        {
          "output_type": "stream",
          "name": "stderr",
          "text": [
            "Processing Batches: 100%|██████████| 1/1 [00:02<00:00,  2.11s/it]\n"
          ]
        },
        {
          "output_type": "stream",
          "name": "stdout",
          "text": [
            "[{'Cheese Mariachi Spice Mix': 'CHEESE MARIACHI SPICE MIX'}, {'Cheese Provolone Shrd': 'CHEESE PROVOLONE SHRD'}, {'Cheese Romano Oregano Blend': 'CHEESE ROMANO OREGANO BLEND'}, {'Ham Sli Ckd': 'HAM SLI CKD'}, {'Pepperoni Sliced': 'PEPPERONI SLICED'}, {'Salami Hard Sli': 'SALAMI HARD SLI'}]\n",
            "741\n"
          ]
        },
        {
          "output_type": "stream",
          "name": "stderr",
          "text": [
            "Processing Batches: 100%|██████████| 1/1 [00:00<00:00,  2.21it/s]\n"
          ]
        },
        {
          "output_type": "stream",
          "name": "stdout",
          "text": [
            "[{'JERSEY MIKES 25% BLEND (6/1 GALLON)': 'OIL OLIVE BLEND'}, {'LA SPAGNOLA BLENDED VEGETABLE AND': 'OIL VEG /PURE OLIVE 90/10 BLND'}]\n",
            "742\n"
          ]
        },
        {
          "output_type": "stream",
          "name": "stderr",
          "text": [
            "Processing Batches: 100%|██████████| 1/1 [00:01<00:00,  1.18s/it]\n"
          ]
        },
        {
          "output_type": "stream",
          "name": "stdout",
          "text": [
            "[{'SALMON ATL FIL PRTN LAZY DOG': 'SALMON ATL FIL PRTN L\\\\D'}, {'SWORDFISH LOIN REG 10-15#': 'SWORDFISH LOIN REG 10-15LB'}, {'HALIBUT FILET SKIN ON': 'HALIBUT FILET SKIN ON'}, {'TUNA LOIN #1 BREADLOAF PERRYS': 'TUNA LOIN #1 BREADLOAF PERRYS'}]\n",
            "743\n"
          ]
        },
        {
          "output_type": "stream",
          "name": "stderr",
          "text": [
            "Processing Batches: 100%|██████████| 1/1 [00:00<00:00,  4.00it/s]\n"
          ]
        },
        {
          "output_type": "stream",
          "name": "stdout",
          "text": [
            "[{'MUG COFFEE LATTE 16oz EUG': 'MUG COFFEE LATTE'}, {'MUG COFFEE 10oz EUG': 'MUG COFFEE  10OZ  2022'}]\n",
            "744\n"
          ]
        },
        {
          "output_type": "stream",
          "name": "stderr",
          "text": [
            "Processing Batches: 100%|██████████| 1/1 [00:00<00:00,  4.82it/s]\n"
          ]
        },
        {
          "output_type": "stream",
          "name": "stdout",
          "text": [
            "[{'NOODLE ASIAN TOP': 'NOODLE ASIAN TOP RAMEN'}, {'CRACKER CHEEZITS': 'CRACKER CHEEZITS'}]\n",
            "745\n"
          ]
        },
        {
          "output_type": "stream",
          "name": "stderr",
          "text": [
            "Processing Batches: 100%|██████████| 1/1 [00:00<00:00,  1.12it/s]\n"
          ]
        },
        {
          "output_type": "stream",
          "name": "stdout",
          "text": [
            "[{'Gallon Gluten Free Shoyu (4)': 'SAUCE SOY GLUTEN FREE'}, {'Mo Bettahs 5 Gal Pail': 'SAUCE TERIYAKI MO BETTAH S'}, {'Mo Bettahs Marinade 5 Gal Pail': 'SAUCE TERIYAKI MARINADE MO BET'}, {'Mo Bettahs 125oz Cup (180/cs)': 'SAUCE TERIYAKI CUSTOM MOBETTAH'}]\n",
            "746\n"
          ]
        },
        {
          "output_type": "stream",
          "name": "stderr",
          "text": [
            "Processing Batches: 100%|██████████| 1/1 [00:00<00:00,  1.11it/s]\n"
          ]
        },
        {
          "output_type": "stream",
          "name": "stdout",
          "text": [
            "[{'PORK GROUND 80/20 FRESH': 'PORK GROUND 80\\\\20 FRSH'}, {'PORK CHOP B/IN LNGBN FRN': 'PORK CHOP LNGBN FRCHD DUROC'}, {'STK TENDER FILET CC RSV 8OZ': 'STEAK FILET C\\\\C RSV'}, {'TOP BUTT CC 14 TRM BCH': 'STEAK SIRL TOP C\\\\C 1\\\\4 BCHPRF'}]\n",
            "747\n"
          ]
        },
        {
          "output_type": "stream",
          "name": "stderr",
          "text": [
            "Processing Batches: 100%|██████████| 1/1 [00:00<00:00,  4.49it/s]\n"
          ]
        },
        {
          "output_type": "stream",
          "name": "stdout",
          "text": [
            "[{'FRUIT STRAWBERRY': 'FRUIT STRAWBERRY IN DRK CHOC'}, {'BANANA DRIED IN': 'BANANA DRIED IN DARK CHOCOLATE'}]\n",
            "748\n"
          ]
        },
        {
          "output_type": "stream",
          "name": "stderr",
          "text": [
            "Processing Batches: 100%|██████████| 1/1 [00:00<00:00,  3.27it/s]\n"
          ]
        },
        {
          "output_type": "stream",
          "name": "stdout",
          "text": [
            "[{'8 oz Paper Soup Cup Single or Double PE LinedTXB 1000/cs': 'CONTAINER PAPER  ROUND 8OZ'}, {'Chicken Popper Box - Small - 215 GSM - TXB250/cs': 'BOX PAPER SMALL POPPER'}]\n",
            "749\n"
          ]
        },
        {
          "output_type": "stream",
          "name": "stderr",
          "text": [
            "Processing Batches: 100%|██████████| 38/38 [02:38<00:00,  4.17s/it]\n"
          ]
        },
        {
          "output_type": "stream",
          "name": "stdout",
          "text": [
            "[{'BEEF CHUCK SHORT RIB BNLS 12OZ': 'BEEF CHUCK SHORT RIB BNLS'}, {'BEEF SHORT RIB BNLS SQ CUT M/A': 'BEEF CHUCK SHORT RIB BNLS M\\\\A'}, {'BEEF SHORT RIB BNLS SQ CUT M/A': 'BEEF CHUCK SHORT RIB BNLS M\\\\A'}, {'BEEFCHUCK SHORT RIB 12 CUT': 'BEEF CHUCK SHORT RIB 1\\\\2 CUT'}, {'PRIME EXPORT RIB 16 DWN 2 PC S': 'BEEF EXPORT RIBEYE PR'}, {'BEEF SHORT RIB 3BN 38 GWSA': 'BEEF SHORT RIB 3BN 3\\\\8 GWSA CH'}, {'PEELED OUTSIDE SKIRT JACCARD 2 XS': 'BEEF SKIRT OUTSDE PLD JACC'}, {'PORK CHOP CC LOIN 16OZ': 'PORK CHOP B\\\\I C\\\\C LOIN'}, {'PORK GROUND 80/20 COARSE FRZN N': 'PORK GROUND COARSE'}, {'STK CHUCK BISTRO CHATEAU': 'STEAK CHUCK BSTRO CHATEAU'}, {'STEAK FILET CC BCHPRF 14PC': 'STEAK FILET C\\\\C BCH PRF'}, {'STK TENDER FILET CC BCH PRF BV': 'STEAK FILET C\\\\C BCH PRF BULK'}, {'STK TENDER FILET CC CH SOZ BVV': 'STEAK FILET C\\\\C CH BULK'}, {'STK TENDER FILET CC CH 8OZ BV V': 'STEAK FILET C\\\\C CH BULK'}, {'CAB STK BALL TIP NO-FAT 6OZ': 'STEAK SIRL BALLTIP SKND'}, {'CAB STEAK TOP BUTT BASEBALL 10 OZ': 'STEAK SIRL TOP BSBALL SKND'}, {'CAB STK STRIP CC 1TL BIN 8OZ': 'STEAK STRIP C\\\\C B\\\\I 1TL'}, {'CAB STK STRIP CC 1/2TL ST-OFF AB 14': 'STEAK STRIP C\\\\C 1\\\\2TL BSO'}, {'CAB STK STRI P CC 1 /2TL 1 /8TR B 8Z': 'STEAK STRIP C\\\\C 1\\\\8 1\\\\2TLBSO'}, {'CAB STK STRIP CC 1TL ST-OFF 10OZ': 'STEAK STRIP C\\\\C 1TL BSO'}, {'STEAK TBONE 1/4 TL': 'STEAK TBONE 1\\\\4TL'}, {'STEAK RIBEYE BNLS 1TL SEL 10Z Z': 'STEAK RIBEYE BNLS 1TL SEL'}, {'CAB STEAK RIBEYE B[ 1 TL Z': 'STEAK RIBEYE B\\\\I 1TL'}, {'CAB STK COWBOY RIB B-IN 16OZ SPLIT': 'STEAK RIBEYE SPLITBN FRCHD'}, {'STRIP E-E 1TL BCH PRF 8OZ E SZ': 'STEAK STRIP E\\\\E 1TL BCH PRF'}, {'STK TNDR FILET CC BCH PRF BV': 'STEAK FILET C\\\\C BCH PRF BULK'}, {'STK TENDER FILET CC CH 10OZ': 'STEAK FILET C\\\\C CH'}, {'STK STRIP CC 1/2TL CH NVKONH OFF': 'STEAK STRIP C\\\\C 1\\\\2TLK\\\\ON\\\\VCH'}, {'CAB STK CHUCK FLAT IRON 7OZ': 'STEAK CHUCK FLAT IRON'}, {'CAB STEAK FILET BRL FOXFIRE 8OZ': 'STEAK FILET BRL FOXFIRE'}, {'CAB STK TENDER FILET CC 4OZ': 'STEAK FILET C\\\\C'}, {'CAB IAP DRY AGE PORTER 1/2TL ZOZ': 'STEAK PORTER 1\\\\2TL D\\\\A IAP'}, {'CAB BEEF TOP BUTT': 'BEEF TOP BUTT CAB'}, {'LAMB RACK FRNCHD AUSSIE FRSH 2 6-28Z': 'LAMB RACK AUSTRALIAN FRSH 6/CS'}, {'PORK CHOP FRNCH DBL-BN WMF 16Z Z': 'PORK CHOP RIB FRNCH CC 2BN FRS'}, {'STEAK RIBEYE SLICED 3/16 FRZN': 'STEAK RIBEYE SLI 3\\\\16 FRZN'}, {'CAB STK STRIP BNLS EE THICK': 'STEAK STRIP E\\\\E 1\\\\2TL MAGG'}, {'CAB DRY AGE COWBOY B/1 FRN 2OZ': 'STEAK RIBEYE B\\\\I FRNCH D\\\\A'}, {'STK STRIP CC 1/2TL ST-OFF PRM R 12Z': 'STEAK STRIP C\\\\C 1\\\\2TL BSO PR'}, {'PORK CHOP CC BNLS 1TL 6OZ': 'PORK CHOP BNLS C\\\\C'}, {'CAB STK TENDER FILET CC 6OZ': 'STEAK FILET C\\\\C'}, {'CAB STK PORTERHOUSE 1/4TL NV B 20Z': 'STEAK PORTER 1\\\\2TL N\\\\V'}, {'CAB SRLN CAP SKND TAV ON CLARK 8OZ': 'STEAK SIRL CAP STRIP SKND TOC'}, {'STK TOP BUTT BASEBALL PR[ME 8OZ': 'STEAK SIRL TOP BSBALL SKND PR'}, {'CAB STK TOP BUTT 2/3 FAT-OFF 10OZ': 'STEAK SIRL TOP 2\\\\3CUT SKND'}, {'PORK CHOP CC RIB CHCGO STYLE 2OZ': 'PORK CHOP CC RIB CHCGO STY'}, {'CAB STEAK RIBEYE BI 1TL Z': 'STEAK RIBEYE B\\\\I 1TL'}, {'CAB STK COWBOY SPLIT BONE 16Z': 'STEAK RIBEYE SPLTBN FRNCH'}, {'PORK CHOP FRNCH SINGLE-BN WMF 12OZ': 'PORK CHOP FRCHD'}]\n",
            "750\n"
          ]
        },
        {
          "output_type": "stream",
          "name": "stderr",
          "text": [
            "Processing Batches: 100%|██████████| 1/1 [00:00<00:00,  1.40it/s]\n"
          ]
        },
        {
          "output_type": "stream",
          "name": "stdout",
          "text": [
            "[{'CRACKER RITZ ORIG': 'CRACKER RITZ ORIG'}, {'CRACKER RITZ TSTDCHP VED': 'CRACKER RITZ TSTD CHP VED'}, {'COOKIE FIG BAR': 'COOKIE FIG BAR'}]\n",
            "751\n"
          ]
        },
        {
          "output_type": "stream",
          "name": "stderr",
          "text": [
            "Processing Batches: 100%|██████████| 1/1 [00:01<00:00,  1.08s/it]\n"
          ]
        },
        {
          "output_type": "stream",
          "name": "stdout",
          "text": [
            "[{'1400-GRAVY BASE': 'GRAVY BASE SCHNITZEL'}, {'1100-SAUCE CHEESE BEER': 'SAUCE CHEESE BEER BIERGARTEN'}, {'1000- SAUCE CHEESE': 'SAUCE CHEESE BIERGARTEN'}, {'Lolos HAWAIIAN BBQ': 'SAUCE BBQ TERIYAKI'}]\n",
            "752\n"
          ]
        },
        {
          "output_type": "stream",
          "name": "stderr",
          "text": [
            "Processing Batches: 100%|██████████| 1/1 [00:00<00:00,  1.09it/s]\n"
          ]
        },
        {
          "output_type": "stream",
          "name": "stdout",
          "text": [
            "[{'Napkin Band Burgundy 15 x 425- SYSCO': 'BAND NAPKIN PAPR 1.5X4.25 BURG'}, {'Napkin Band Hunter Green 15 x 425- SYSCO': 'BAND NAPKIN 1.5X4.25 HTR GREEN'}, {'Napkin Band White 15 x 425- SYSCO': 'BAND NAPKIN PAPR 1.5X4.25 WHT'}]\n",
            "753\n"
          ]
        },
        {
          "output_type": "stream",
          "name": "stderr",
          "text": [
            "Processing Batches: 100%|██████████| 1/1 [00:00<00:00,  1.22it/s]\n"
          ]
        },
        {
          "output_type": "stream",
          "name": "stdout",
          "text": [
            "[{'Napkin Band White 15 x 425- SYSCO': 'BAND NAPKIN PAPR 1.5X4.25 WHT'}, {'Napkin Band Hunter Green 15 x 425- SYSCO': 'BAND NAPKIN 1.5X4.25 HTR GREEN'}, {'Napkin Band Burgundy 15 x 425- SYSCO': 'BAND NAPKIN PAPR 1.5X4.25 BURG'}]\n",
            "754\n"
          ]
        },
        {
          "output_type": "stream",
          "name": "stderr",
          "text": [
            "Processing Batches: 100%|██████████| 1/1 [00:00<00:00,  2.95it/s]\n"
          ]
        },
        {
          "output_type": "stream",
          "name": "stdout",
          "text": [
            "[{'Napkin Band White 15 x 425- SYSCO': 'BAND NAPKIN PAPR 1.5X4.25 WHT'}, {'Napkin_Band Hunter Green 15 x 425- SYSCO': 'BAND NAPKIN 1.5X4.25 HTR GREEN'}]\n",
            "755\n"
          ]
        },
        {
          "output_type": "stream",
          "name": "stderr",
          "text": [
            "Processing Batches: 100%|██████████| 1/1 [00:00<00:00,  1.76it/s]\n"
          ]
        },
        {
          "output_type": "stream",
          "name": "stdout",
          "text": [
            "[{'SMKD TROUT DT 8OZ': 'TROUT SMOKED FRESH'}, {'SALMON FILLET LARGE': 'SALMON FIL BNLS TRMD 3-4# FRSH'}, {'SALMON FILLET 2-4# D-TRIM': 'SALMON ATL CHILEAN DTRIM 3-4LB'}]\n",
            "756\n"
          ]
        },
        {
          "output_type": "stream",
          "name": "stderr",
          "text": [
            "Processing Batches: 100%|██████████| 1/1 [00:00<00:00,  3.29it/s]\n"
          ]
        },
        {
          "output_type": "stream",
          "name": "stdout",
          "text": [
            "[{'BASS 15-2# COLORADO': 'BASS STRIPED WHL SCALED 1.5-2#'}, {'BASS STRIPED WHL SCALED': 'BASS STRIPED WHL SCALED & GUTD'}]\n",
            "757\n"
          ]
        },
        {
          "output_type": "stream",
          "name": "stderr",
          "text": [
            "Processing Batches: 100%|██████████| 1/1 [00:02<00:00,  2.17s/it]\n"
          ]
        },
        {
          "output_type": "stream",
          "name": "stdout",
          "text": [
            "[{'SHRIMP U8-12 TIGER': 'SHRIMP TGR P&D 8/12CT TAIL/ON'}, {'TROUT 7-9OZ PBO HDLS RAINBOWIDAHO': 'TROUT FILET PBO 8 OZ'}, {'HALIBUT FILLET CHALKY': 'HALIBUT FIL ALSKN CHALKY'}, {'CRAB PRIME SOFT SHELL 3DZ/TRAY': 'CRAB SOFT SHELL'}, {'TUNA AHI GROUND AAA 2/11#CS': 'TUNA AHI GRND FRZ'}, {'ONO LRG WAHOO': 'ONO LOIN SK/ON FRSH'}]\n",
            "758\n"
          ]
        },
        {
          "output_type": "stream",
          "name": "stderr",
          "text": [
            "Processing Batches: 100%|██████████| 1/1 [00:01<00:00,  1.77s/it]\n"
          ]
        },
        {
          "output_type": "stream",
          "name": "stdout",
          "text": [
            "[{'SYSCO 12 KK 3 GUYS': 'BOX PIZZA 12IN K/K'}, {'SYSCO 16 KK 3 GUYS': 'BOX PIZZA 16IN K/K'}, {'SYSCO 15 HOT RODS WK': 'BOX PIZZA 15IN W/K HOT RODS'}, {'SYSCO 18 HOT RODS WK': 'BOX PIZZA 18IN W/K HOT RODS'}, {'SYSCO 7 WK HOT RODS': 'BOX PIZZA 7IN W/K HOT RODS'}, {'SYS 16 KK PT12 PIZZERIA & BBQ': 'BOX PIZZA 16 K/K PT12'}]\n",
            "759\n"
          ]
        },
        {
          "output_type": "stream",
          "name": "stderr",
          "text": [
            "Processing Batches: 100%|██████████| 1/1 [00:00<00:00,  1.04it/s]\n"
          ]
        },
        {
          "output_type": "stream",
          "name": "stdout",
          "text": [
            "[{'SYSCO 16 KK 3 GUYS': 'BOX PIZZA 16IN K/K'}, {'SYSCO 10 KK SUSAN BOBES PIZZA': 'BOX PIZZA 10 K/K SUSAN BOBES'}, {'SYSCO 14 KK SUSAN BOBES PIZZA': 'BOX PIZZA 14 K/K SUSAN BOBES'}, {'SYSCO 7 KK SUSAN BOBES PIZZA': 'BOX PIZZA 7  K/K SUSAN BOBES'}]\n",
            "760\n"
          ]
        },
        {
          "output_type": "stream",
          "name": "stderr",
          "text": [
            "Processing Batches: 100%|██████████| 8/8 [00:22<00:00,  2.85s/it]\n"
          ]
        },
        {
          "output_type": "stream",
          "name": "stdout",
          "text": [
            "[{'Cookie Fortune Indv Wrpd': 'COOKIE FORTUNE INDV WRPD'}, {'Nut Walnut Glzd': 'NUT WALNUT GLZD'}, {'Oil Soybean Sal': 'OIL SOYBEAN SAL'}, {'Rice Long Grain Xlng 4%': 'RICE LONG GRAIN XLNG 4%'}, {'Sauce Basic Cooking': 'SAUCE BASIC COOKING'}, {'Sauce Honey': 'SAUCE HONEY'}, {'Sauce Soy Packets 6ml': 'SAUCE SOY PACKETS 6ML'}, {'Sauce Sweet & Sour Packets': 'SAUCE SWEET & SOUR PACKETS'}, {'Sauce Sweet and Sour': 'SAUCE SWEET AND SOUR'}, {'Sauce Teriyaki Mandarin Pkt': 'SAUCE TERIYAKI MANDARIN PKT'}, {'Spice Chili Crshed Syg': 'SPICE CHILI CRSHED SYG'}, {'Sugar Granulated Cane': 'SUGAR GRANULATED CANE'}, {'Vinegar Distilled White': 'VINEGAR DISTILLED WHITE'}, {'Bag Glassine Panda Expr': 'BAG GLASSINE PANDA EXPR'}, {'Bag Paper Shopper PX': 'BAG PAPER SHOPPER PX'}, {'Bowl Plas Blk Square 20oz': 'BOWL PLAS BLK SQUARE 20OZ'}, {'Container Foam 3comp': 'CONTAINER FOAM 3COMP'}, {'Cup Cold 30oz': 'CUP COLD 30OZ'}, {'Lid Plas Clr Micro F/Mega Meal': 'LID PLAS CLR MICRO F/MEGA MEAL'}, {'Pail Food 26 Oz': 'PAIL FOOD 26 OZ'}, {'Pail Food 8oz': 'PAIL FOOD 8OZ'}, {'Pail Food Kids Panda Express': 'PAIL FOOD KIDS PANDA EXPRESS'}]\n",
            "761\n"
          ]
        },
        {
          "output_type": "stream",
          "name": "stderr",
          "text": [
            "Processing Batches: 100%|██████████| 1/1 [00:03<00:00,  3.84s/it]\n"
          ]
        },
        {
          "output_type": "stream",
          "name": "stdout",
          "text": [
            "[{'Beef Strip Brdd Raw Low-Sodium': 'BEEF STRIP BRDD RAW LOW-SODIUM'}, {'Chicken Bnls Sknls Thigh Raw': 'CHICKEN BNLS SKNLS THIGH RAW'}, {'Chicken Meat Dk Battr Pho-Free': 'CHICKEN MEAT DK BATTR PHO-FREE'}, {'Aptzr Rangoon Crm Chs 8oz': 'APTZR RANGOON CRM CHS .8OZ'}, {'Eggroll Chicken 3oz': 'EGGROLL CHICKEN 3OZ'}, {'Springroll Vegetable': 'SPRINGROLL VEGETABLE'}, {'2-Vegetable Blend Ca rrot & Pea': 'VEGETABLE BLEND CARROT & PEA'}]\n",
            "762\n"
          ]
        },
        {
          "output_type": "stream",
          "name": "stderr",
          "text": [
            "Processing Batches: 100%|██████████| 1/1 [00:00<00:00,  3.05it/s]\n"
          ]
        },
        {
          "output_type": "stream",
          "name": "stdout",
          "text": [
            "[{'CASA MIA ROSA 80% CANOLA 20% OLIVE': 'OIL OLIVE 80%CANOLA 20%POMACE'}, {'SICILIA 75/25 CANOLA/EXTRA VIRGIN OLIVE': 'OIL OLIVE CANOLA EVO 75/25'}]\n",
            "763\n"
          ]
        },
        {
          "output_type": "stream",
          "name": "stderr",
          "text": [
            "Processing Batches: 100%|██████████| 1/1 [00:00<00:00,  2.89it/s]\n"
          ]
        },
        {
          "output_type": "stream",
          "name": "stdout",
          "text": [
            "[{'LA SPAGNOLA BLENDED VEGETABLE AND': 'OIL VEG /PURE OLIVE 90/10 BLND'}, {'SICILIA 90/10 CANOLA/EXTRA VIRGIN OLIVE': 'OIL CANOLA/OLIVE BLEND 90/10'}]\n",
            "764\n"
          ]
        },
        {
          "output_type": "stream",
          "name": "stderr",
          "text": [
            "Processing Batches: 100%|██████████| 1/1 [00:00<00:00,  1.69it/s]\n"
          ]
        },
        {
          "output_type": "stream",
          "name": "stdout",
          "text": [
            "[{'Jersey Mikes Mini Wheat Sub': 'ROLL MINI WHEAT SUB'}, {'Jersey Mikes Mini White Sub': 'ROLL MINI WHT SUB'}, {'Jersey Mikes Wheat Sub': 'ROLL WHEAT SUB'}, {'Jersey Mikes White Sub': 'ROLL WHITE SUB'}]\n",
            "765\n"
          ]
        },
        {
          "output_type": "stream",
          "name": "stderr",
          "text": [
            "Processing Batches: 100%|██████████| 1/1 [00:01<00:00,  1.70s/it]\n"
          ]
        },
        {
          "output_type": "stream",
          "name": "stdout",
          "text": [
            "[{'Medium Italian Bread': 'DOUGH BREAD ITAL MED'}, {'Jersey Mikes Mini Wheat Sub': 'ROLL MINI WHEAT SUB'}, {'Jersey Mikes Mini White Sub': 'ROLL MINI WHT SUB'}, {'All Natural Plain Bagel': 'DOUGH BAGEL PLAIN'}, {'All Natural Cinnamon Raisin Bagel': 'DOUGH BAGEL CINN RSN'}, {'Jersey Mikes Wheat Sub': 'ROLL WHEAT SUB'}, {'Jersey Mikes White Sub': 'ROLL WHITE SUB'}]\n",
            "766\n"
          ]
        },
        {
          "output_type": "stream",
          "name": "stderr",
          "text": [
            "Processing Batches: 100%|██████████| 2/2 [00:03<00:00,  1.79s/it]\n"
          ]
        },
        {
          "output_type": "stream",
          "name": "stdout",
          "text": [
            "[{'12Z CN 24P COKE': 'SODA COCA COLA CLS'}, {'20Z PT 24LS COKE': 'SODA COKE CLS CONTOUR TRAY PK'}, {'20Z PT 24LS DT COKE': 'SODA COKE DIET CLS CONT TRAY P'}, {'12Z CN 24P DT DR PEP NKO': 'SODA DR P DIET SUITECASE CAN'}, {'12Z CN 24P DR PEP NKO': 'SODA DR PEPPER SUITCASE'}, {'20Z PT 24LS BARQS RTBR': 'TEA GREEN'}, {'12Z CN 24P PB SPRITE': 'SODA SPRITE CANS'}, {'185Z PT 12LS GLD PK SWT GRN TEA': 'SODA ROOT BEER  PET LOOSE'}, {'20Z PT 24LS SMTWTR': 'WATER BTLD SMARTWATER'}]\n",
            "767\n"
          ]
        },
        {
          "output_type": "stream",
          "name": "stderr",
          "text": [
            "Processing Batches: 100%|██████████| 1/1 [00:00<00:00,  1.77it/s]\n"
          ]
        },
        {
          "output_type": "stream",
          "name": "stdout",
          "text": [
            "[{'HC Plus Orange Juice Cups 96/4oz': 'JUICE ORANGE STABLE'}, {'HC Plus Apple Juice Cups 96/4oz': 'JUICE APPLE SHELF STABLE'}, {'HC Plus 15% Cranberry Juice Cups 96/4oz': 'JUICE CRANBERRY 15% SS CUP'}]\n",
            "768\n"
          ]
        },
        {
          "output_type": "stream",
          "name": "stderr",
          "text": [
            "Processing Batches: 100%|██████████| 1/1 [00:02<00:00,  2.33s/it]\n"
          ]
        },
        {
          "output_type": "stream",
          "name": "stdout",
          "text": [
            "[{'AB Apple Juice Aseptic Liters 12/32 oz': 'JUICE APPLE ASEPTIC'}, {'HC Plus Apple Juice Cups 96/4oz': 'JUICE APPLE SHELF STABLE'}, {'AB Cranberry Juice Aseptic Liters 12/32 oz': 'JUICE CRANBERRY ASEPTIC'}, {'HC Plus 15% Cranberry Juice Cups 96/4oz': 'JUICE CRANBERRY 15% SS CUP'}, {'HC Plus Grape Juice Cups 96/4oz': 'JUICE GRAPE SHELF STABLE'}, {'AB Orange Juice Aseptic Liters 12/32 oz': 'JUICE ORANGE ASEPTIC'}, {'HC Plus Orange Juice Cups 96/4oz': 'JUICE ORANGE STABLE'}]\n",
            "769\n"
          ]
        },
        {
          "output_type": "stream",
          "name": "stderr",
          "text": [
            "Processing Batches: 100%|██████████| 1/1 [00:01<00:00,  1.03s/it]\n"
          ]
        },
        {
          "output_type": "stream",
          "name": "stdout",
          "text": [
            "[{'HC Plus Orange Juice Cups 96/4oz': 'JUICE ORANGE STABLE'}, {'HC Plus Apple Juice Cups 96/4oz': 'JUICE APPLE SHELF STABLE'}, {'HC Plus 15% Cranberry Juice Cups 96/4oz': 'JUICE CRANBERRY 15% SS CUP'}, {'HC Plus Prune Juice Cups 96/4oz': 'JUICE PRUNE 100% SHELF STABLE'}]\n",
            "770\n"
          ]
        },
        {
          "output_type": "stream",
          "name": "stderr",
          "text": [
            "Processing Batches: 100%|██████████| 1/1 [00:00<00:00,  2.90it/s]\n"
          ]
        },
        {
          "output_type": "stream",
          "name": "stdout",
          "text": [
            "[{'CHICKEN BREAST FRENCH': 'CHICKEN BRST AIRLINE W/WING'}, {'BEEF FILETSTEAKS AA CC': 'STEAK TENDERLOIN CH 7 OZ'}]\n",
            "771\n"
          ]
        },
        {
          "output_type": "stream",
          "name": "stderr",
          "text": [
            "Processing Batches: 100%|██████████| 1/1 [00:01<00:00,  1.82s/it]\n"
          ]
        },
        {
          "output_type": "stream",
          "name": "stdout",
          "text": [
            "[{'Med Hinged Container (8x8)': 'CONTAINER PAPER BIO HNGD'}, {'Lg Hinged Container (9x9)': 'CONTAINER PAPER 9X9X3 COMPOST'}, {'PLA Clear Giant Straw 775 Ind Wrap': 'STRAW JUMBO PLAS WRPD 8 CLR'}, {'PLA Laminated 12oz Hot Cup': 'CUP HOT COMPOSTABLE 12 OZ'}, {'CPLA Lid for 10-20oz Hot Cup': 'LID CUP HOT F/ 12/16/20 OZ'}]\n",
            "772\n"
          ]
        },
        {
          "output_type": "stream",
          "name": "stderr",
          "text": [
            "Processing Batches: 100%|██████████| 1/1 [00:00<00:00,  1.02it/s]\n"
          ]
        },
        {
          "output_type": "stream",
          "name": "stdout",
          "text": [
            "[{'TP VENISON CHILI SEASONING': 'SEASONING CHILI VENISON'}, {'TWIN PEAKS FRY SEASONING': 'SEASONING FRY'}, {'TP RANCH DRESSING MIX': 'SEASONING RANCH DRSSNG'}, {'LEMON PEPPER WING SEASONING': 'SEASONING LEMON PPR WING'}]\n",
            "773\n"
          ]
        },
        {
          "output_type": "stream",
          "name": "stderr",
          "text": [
            "Processing Batches: 100%|██████████| 1/1 [00:01<00:00,  1.02s/it]\n"
          ]
        },
        {
          "output_type": "stream",
          "name": "stdout",
          "text": [
            "[{'HC Plus Diet Cranberry Juice Cups 96/4oz': 'JUICE CRANBERRY DIET'}, {'HC Plus Orange Juice Cups 96/4oz': 'JUICE ORANGE STABLE'}, {'HC Plus Grape Juice Cups 96/4oz': 'JUICE GRAPE SHELF STABLE'}, {'HC Plus Apple Juice Cups 96/4oz': 'JUICE APPLE SHELF STABLE'}]\n",
            "774\n"
          ]
        },
        {
          "output_type": "stream",
          "name": "stderr",
          "text": [
            "Processing Batches: 100%|██████████| 1/1 [00:01<00:00,  1.76s/it]\n"
          ]
        },
        {
          "output_type": "stream",
          "name": "stdout",
          "text": [
            "[{'HC Plus Orange Juice Cups 96/4oz': 'JUICE ORANGE STABLE'}, {'HC Plus Grape Juice Cups 96/4oz': 'JUICE GRAPE SHELF STABLE'}, {'HC Plus Apple Juice Cups 96/4oz': 'JUICE APPLE SHELF STABLE'}, {'HC Plus 15% Cranberry Juice Cups 96/4oz': 'JUICE CRANBERRY 15% SS CUP'}, {'HC Plus Prune Juice Cups 96/4oz': 'JUICE PRUNE 100% SHELF STABLE'}]\n",
            "775\n"
          ]
        },
        {
          "output_type": "stream",
          "name": "stderr",
          "text": [
            "Processing Batches: 100%|██████████| 11/11 [00:35<00:00,  3.26s/it]\n"
          ]
        },
        {
          "output_type": "stream",
          "name": "stdout",
          "text": [
            "[{'Bag Plas Salad Resize Core 22': 'BAG PLAS SALAD RESIZE CORE 22'}, {'Chive Dry Freezed': 'CHIVE DRY FREEZED'}, {'Container Bev Coff Onthemove': 'CONTAINER BEV COFF ONTHEMOVE'}, {'Container Food Plas 66x51': 'CONTAINER FOOD PLAS 6.6X5.1'}, {'Crouton Pkt Cpy PM Blnd5zwndy': 'CROUTON PKT CPY PM BLND.5ZWNDY'}, {'Cup Portion 1oz Clear Pp': 'CUP PORTION 1OZ CLEAR PP'}, {'Cup Portion 2oz Blk Pp': 'CUP PORTION 2OZ BLK PP'}, {'Glove Vinyl Pf Lg': 'GLOVE VINYL PF LG'}, {'Glove Vinyl Pf Med': 'GLOVE VINYL PF MED'}, {'Glove Vinyl Pf Small': 'GLOVE VINYL PF SMALL'}, {'Glove Vinyl Pf X-Large': 'GLOVE VINYL PF X-LARGE'}, {'Glove Vinyl Pwdr Med': 'GLOVE VINYL PWDR MED'}, {'Label Salad Caesar Update 18': 'LABEL SALAD CAESAR UPDATE 18'}, {'Lid Plas Side Item Red': 'LID PLAS SIDE ITEM RED'}, {'Liner Can Roll Clr 37x46': 'LINER CAN ROLL CLR 37X46'}, {'Salt Sea Purified 36lb': 'SALT SEA PURIFIED 36LB'}, {'Straw Wrapped Red': 'STRAW WRAPPED RED'}, {'Sugar Sub Yel': 'SUGAR SUB YEL'}, {'Tissue Toilet JMB Jr 2p 12/1k': 'TISSUE TOILET JMB JR 2P 12/1K'}, {'Towel Multifold Brown 16/250x': 'TOWEL MULTIFOLD BROWN 16/250X'}, {'Towel Roll Brown 6/800': 'TOWEL ROLL BROWN 6/800'}, {'Towel Roll Kitchen JMB 12/250s': 'TOWEL ROLL KITCHEN JMB 12/250S'}, {'Towel Wiper Blue': 'TOWEL WIPER BLUE'}, {'Toy Kid Crayola Kmp & Bag': 'TOY KID CRAYOLA KMP & BAG'}, {'Wrap Foil Alumium Premium Cstm': 'WRAP FOIL ALUMIUM PREMIUM CSTM'}, {'Wrap Wax Value 10x135 2022': 'WRAP WAX VALUE 10X13.5 2022'}]\n",
            "776\n"
          ]
        },
        {
          "output_type": "stream",
          "name": "stderr",
          "text": [
            "Processing Batches: 100%|██████████| 3/3 [00:06<00:00,  2.25s/it]\n"
          ]
        },
        {
          "output_type": "stream",
          "name": "stdout",
          "text": [
            "[{'Creamer Half & Half Pint': 'CREAMER HALF & HALF PINT'}, {'Cream Sour Light Pkt': 'CREAM SOUR LIGHT PKT'}, {'Dressing Caesar 2 Oz': 'DRESSING CAESAR 2 OZ'}, {'Dressing Ranch 2 Oz': 'DRESSING RANCH 2 OZ'}, {'Fork Plas Blk Hvy Pp Wrpd': 'FORK PLAS BLK HVY PP WRPD'}, {'Garlic Chopped': 'GARLIC CHOPPED'}, {'Sauce Buffalo Nugget Toss': 'SAUCE BUFFALO NUGGET TOSS'}, {'Sauce Garlic Parm Nug Toss V2': 'SAUCE GARLIC PARM NUG TOSS V2'}, {'Sauce Honey BBQ Nugget Toss': 'SAUCE HONEY BBQ NUGGET TOSS'}, {'Sauce Ranch Buttermilk': 'SAUCE RANCH BUTTERMILK'}, {'Sauce Strawberry Puree 4': 'SAUCE STRAWBERRY PUREE 4'}, {'Spread Pepper Ghost': 'SPREAD PEPPER GHOST'}]\n",
            "777\n"
          ]
        },
        {
          "output_type": "stream",
          "name": "stderr",
          "text": [
            "Processing Batches: 100%|██████████| 16/16 [00:56<00:00,  3.51s/it]\n"
          ]
        },
        {
          "output_type": "stream",
          "name": "stdout",
          "text": [
            "[{'Bag Paper Bakery Core 22': 'BAG PAPER BAKERY CORE 22'}, {'Bag Plas Chili Frzr Upd 20': 'BAG PLAS CHILI FRZR UPD 20'}, {'Coffee Ground Regular Rac': 'COFFEE GROUND REGULAR RAC'}, {'Container Chili Family Red 2': 'CONTAINER CHILI FAMILY RED 2'}, {'Container Food Plas 66x51': 'CONTAINER FOOD PLAS 6.6X5.1'}, {'Crouton Garlic & Butr': 'CROUTON GARLIC & BUTR'}, {'Crouton Pkt Cpy PM Blnd5zwndy': 'CROUTON PKT CPY PM BLND.5ZWNDY'}, {'Cup Portion 1oz Clear Pp': 'CUP PORTION 1OZ CLEAR PP'}, {'Cup Portion 2oz Blk Pp': 'CUP PORTION 2OZ BLK PP'}, {'Filter Pad Fryr Ee': 'FILTER PAD FRYR EE'}, {'Glove Vinyl Pf Lg': 'GLOVE VINYL PF LG'}, {'Glove Vinyl Pf Med': 'GLOVE VINYL PF MED'}, {'Glove Vinyl Pf X-Large': 'GLOVE VINYL PF X-LARGE'}, {'Glove Vinyl Pwdr Lg': 'GLOVE VINYL PWDR LG'}, {'Glove Vinyl Pwdr X-Large': 'GLOVE VINYL PWDR X-LARGE'}, {'Label Salad Taco Upd18': 'LABEL SALAD TACO UPD18'}, {'Lid Plas Side Item Red': 'LID PLAS SIDE ITEM RED'}, {'Onion French Crispy Pkt 5 Oz': 'ONION FRENCH CRISPY PKT .5 OZ'}, {'Salt Sea Flat Packet': 'SALT SEA FLAT PACKET'}, {'Sauce Cheese Blue Indiv': 'SAUCE CHEESE BLUE INDIV'}, {'Straw Wrapped Red': 'STRAW WRAPPED RED'}, {'Sugar Sub Yel': 'SUGAR SUB YEL'}, {'Tea Iced Fltr Pouch': 'TEA ICED FLTR POUCH'}, {'Tissue Toilet JMB Jr 2p 12/1k': 'TISSUE TOILET JMB JR 2P 12/1K'}, {'Towel Multifold Brown 16/250x': 'TOWEL MULTIFOLD BROWN 16/250X'}, {'Towel Roll Brown 6/800': 'TOWEL ROLL BROWN 6/800'}, {'Towel Wiper Blue': 'TOWEL WIPER BLUE'}, {'Towel Wiper Grl Red 115x1325': 'TOWEL WIPER GRL RED 11.5X13.25'}, {'Towel Wiper Wht': 'TOWEL WIPER WHT'}, {'Toy Kid Crayola Kmp & Bag': 'TOY KID CRAYOLA KMP & BAG'}, {'Urn Tea With Pinch Tube': 'URN TEA WITH PINCH TUBE'}, {'Foil Alumium Premium Cstm': 'WRAP FOIL ALUMIUM PREMIUM CSTM'}]\n",
            "778\n"
          ]
        },
        {
          "output_type": "stream",
          "name": "stderr",
          "text": [
            "Processing Batches: 100%|██████████| 1/1 [00:02<00:00,  2.62s/it]\n"
          ]
        },
        {
          "output_type": "stream",
          "name": "stdout",
          "text": [
            "[{'Butter Maple Honey': 'BUTTER MAPLE HONEY'}, {'Cream Sour Light Pkt': 'CREAM SOUR LIGHT PKT'}, {'Creamer Half & Half Pint': 'CREAMER HALF & HALF PINT'}, {'Salsa Regular Sign Cup 275 Oz': 'SALSA REGULAR SIGN CUP 2.75 OZ'}, {'Sauce Garlic Parm Nug Toss V2': 'SAUCE GARLIC PARM NUG TOSS V2'}, {'Sauce Honey BBQ Nugget Toss': 'SAUCE HONEY BBQ NUGGET TOSS'}, {'Sauce Strawberry Puree 4': 'SAUCE STRAWBERRY PUREE 4'}]\n",
            "779\n"
          ]
        },
        {
          "output_type": "stream",
          "name": "stderr",
          "text": [
            "Processing Batches: 100%|██████████| 1/1 [00:00<00:00,  2.15it/s]\n"
          ]
        },
        {
          "output_type": "stream",
          "name": "stdout",
          "text": [
            "[{'Bread Round Sli 375in': 'BREAD ROUND SLI 3.75IN'}, {'Onion Sli Carmelized': 'ONION SLI CARMELIZED'}, {'Pepper and Onion Fajita Adobo': 'PEPPER AND ONION FAJITA ADOBO'}]\n",
            "780\n"
          ]
        },
        {
          "output_type": "stream",
          "name": "stderr",
          "text": [
            "Processing Batches: 100%|██████████| 1/1 [00:02<00:00,  2.08s/it]\n"
          ]
        },
        {
          "output_type": "stream",
          "name": "stdout",
          "text": [
            "[{'Chicken Wingette Ckd': 'CHICKEN WINGETTE CKD'}, {'Dough Pizza Lrg Thn On': 'DOUGH PIZZA LRG THN ON PAPR'}, {'Dough Pizza Thick 14in': 'DOUGH PIZZA THICK 14IN NEW'}, {'Dough Pizza 10in': 'DOUGH PIZZA 10IN HND TSSED LG'}, {'Meatball Beef & Pork': 'MEATBALL BEEF & PORK PRECK RND'}, {'Roll Sub White Rustic': 'ROLL SUB WHITE RUSTIC'}, {'Sausage Ital Family': 'SAUSAGE ITAL FAMILY RECIPE TOP'}]\n",
            "781\n"
          ]
        },
        {
          "output_type": "stream",
          "name": "stderr",
          "text": [
            "Processing Batches: 100%|██████████| 1/1 [00:00<00:00,  1.87it/s]\n"
          ]
        },
        {
          "output_type": "stream",
          "name": "stdout",
          "text": [
            "[{'STK RIBEYE COMM RND INJECTED': 'STEAK RIBEYE INJECTED RND COMM'}, {'STK RIBEYE COMM RND INJECTED': 'STEAK RIBEYE INJECTED RND COMM'}, {'STK RIBEYE COMM RND INJECTED': 'STEAK RIBEYE INJ RND COMM FRZN'}]\n",
            "782\n"
          ]
        },
        {
          "output_type": "stream",
          "name": "stderr",
          "text": [
            "Processing Batches: 100%|██████████| 3/3 [00:08<00:00,  2.93s/it]\n"
          ]
        },
        {
          "output_type": "stream",
          "name": "stdout",
          "text": [
            "[{'BEEF DICED STEAK FINE FROZEN': 'BEEF DICED STEAK FINE FRZN'}, {'BEEF RIBEYE STK BNLS TEYS 12Z NHSF': 'BEEF RIBEYE STEAK BNLS MARN'}, {'CHICKEN CHNK SOUTHWESTRN STYLE WGT': 'CHICKEN BRST B\\\\S CHUNK S\\\\W'}, {'CHICKEN THIGH DCD 1 APASTOR': 'CHICKEN THIGH DCD1X1 ALPSTSEAS'}, {'THIGH SOUTHWESTERN STY': 'CHICKEN THIGH SOUTHWEST MARN'}, {'PORK CARNITAS CKD SEAS FRZ': 'PORK CARNITAS CKD SEAS FRZ'}, {'STK RIBEYE COMM RND INJECTED 4': 'STEAK RIBEYE INJ RND COMM FRZN'}, {'STK SIRLN TOP BUTT CC MARN FRZ': 'STEAK SIRL TOP C\\\\C SKND MARNFZ'}, {'SIRLN TOP BUTT CC MARN FRZ': 'STEAK SIRL TOP C\\\\C SKND MARNFZ'}, {'STK STRIP EE 1TL BSO MARN FRZ': 'STEAK STRIP E\\\\E 1TL BSO MARNFZ'}, {'STRIP EE 1TL BSO MARN FRZ': 'STEAK STRIP E\\\\E 1TL BSO MARNFZ'}, {'BEEF DICED STEAK FINE FROZEN': 'BEEF DICED STEAK FINE FRZN'}]\n",
            "783\n"
          ]
        },
        {
          "output_type": "stream",
          "name": "stderr",
          "text": [
            "Processing Batches: 100%|██████████| 1/1 [00:00<00:00,  1.10it/s]\n"
          ]
        },
        {
          "output_type": "stream",
          "name": "stdout",
          "text": [
            "[{'COOKIE WAFRCOOKIE/CRM L/SUGAR': 'COOKIE WAFR COOKIE/CRM L/SUGAR'}, {'COOKIE CHOC WAFELLOW SUGAR': 'COOKIE CHOC WAFEL LOW SUGAR'}, {'COOKIESNICKERDOODLE MINI': 'COOKIE SNICKERDOODLE MINI LS'}]\n",
            "784\n"
          ]
        },
        {
          "output_type": "stream",
          "name": "stderr",
          "text": [
            "Processing Batches: 100%|██████████| 1/1 [00:03<00:00,  3.86s/it]\n"
          ]
        },
        {
          "output_type": "stream",
          "name": "stdout",
          "text": [
            "[{'BRATWURST LINK COOKED 3-1 REGULAR': 'BRATWURST LNK CKD 3-1 REG'}, {'PORK BELLY SKINLESS FRESH CRY': 'PORK BELLY SKNLS FRSH CRY'}, {'PORK BUTT BNLS': 'PORK BUTT BNLS'}, {'PORK LOIN CHOP CC BONE IN': 'PORK LOIN CHOP CC BONEIN 12OZ'}, {'BEEF STICKS W/ CHEESE 6 OZ': 'SNACK STIX BEEF/ CHS'}, {'BEEF SNACK STICK W/CUBED CJ CHEESE': 'SNACK STIX BEEF/ CO-JACK CHEES'}, {'JALAPENO SNACK STICKS W/CUBED CJ CHEESE': 'SNACK STIX JAL/COL-JACK CHS'}]\n",
            "785\n"
          ]
        },
        {
          "output_type": "stream",
          "name": "stderr",
          "text": [
            "Processing Batches: 100%|██████████| 11/11 [00:42<00:00,  3.87s/it]\n"
          ]
        },
        {
          "output_type": "stream",
          "name": "stdout",
          "text": [
            "[{'BACON CANADIAN STY WHOLE': 'BACON CANADIAN STY WHOLE'}, {'BACON END & PCS 8/2#': 'BACON END & PCS'}, {'BACON SHINGLE SLI 12/14 PEPPRD': 'BACON SHINGLE SLI 12/14 PEPPRD'}, {'BACON SLICED CNTRY X THICK': 'BACON SLICED CNTRY X THICK'}, {'CAB BEEF BOTTOM ROUND FLAT CORNED': 'BEEF BOTTOM RD FLT CORNED'}, {'CAB BEEF BRISKET PASTRAMI COOKED': 'BEEF BRISKET PASTRAMI CKD'}, {'CAB BEEF CORNED BRSKT RAW': 'BEEF CORNED BRSKT RAW'}, {'BEEF FLANK STEAK FLY CKD RAREBEEF PRIME RIB CKD NR R-G': 'BEEF FLANK STEAK FLY CKD RARE'}, {'BEEF ROAST TOP ROUND ENDLESS RARE': 'BEEF ROAST TOP RND RAR ENDLS'}, {'CAB BEEF TOP ROUND ENDLESS MED': 'BEEF TOP ROUND ENDLESS MED'}, {'CAB BEEF TOP RND ENDLESS RARE': 'BEEF TOP ROUND ENDLESS RARE'}, {'CAB BEEF TOP ROUND ENDLESS W DONE': 'BEEF TOP ROUND ENDLESS W DONE'}, {'CAB BEEF TOP ROUND SPLIT EL RARE': 'BEEF TOP ROUND SPLIT EL RARE'}, {'CHICKEN WING SMKD 1 PK': 'CHICKEN WING SMKD 1 PK'}, {'FRANK ALL BEEF': 'FRANK ALL BEEF'}, {'HAM NAT JUICE WH MUSCLE LEGEND': 'HAM NAT JUICE WH MUSCLE LEGEND'}, {'HAM OLD FASHIONED BONELESS': 'HAM OLD FASH BNLS'}, {'PORK BELLY COOKED': 'PORK BELLY COOKED'}, {'PORK BUTT BONE IN SMOKED': 'PORK BUTT BONE IN SMKD'}, {'PORK GRND COURSE 80/20 4-25#': 'PORK GRND COURSE 80/20 4-2.5#'}, {'SAUSAGE BBQ SMKD ROPE': 'SAUSAGE BBQ SMKD ROPE'}, {'SAU SAGE CHORIZO BULK': 'SAUSAGE CHORIZO BULK'}, {'SAUSAGE ROPE ANDOUILLE CKD': 'SAUSAGE ROPE ANDOUILLE CKD'}, {'SAUSAGE ROPE ELK SMKD': 'SAUSAGE ROPE ELK SMKD'}, {'SAUSAGE ROPE FRSH CURED RAW': 'SAUSAGE ROPE FRSH CURED RAW'}, {'SAUSAGE ROPE VENISON SMKD': 'SAUSAGE ROPE VENISON SMKD'}]\n",
            "786\n"
          ]
        },
        {
          "output_type": "stream",
          "name": "stderr",
          "text": [
            "Processing Batches: 100%|██████████| 1/1 [00:00<00:00,  3.53it/s]\n"
          ]
        },
        {
          "output_type": "stream",
          "name": "stdout",
          "text": [
            "[{'SALMON ATL FLT 2-3# S/L': 'SALMON ATL FLT SKLS 2-3 LB CDN'}, {'SALMON ATL FLT 3-4#S/L': 'SALMON ATL FIL SKLS 3-4 LB CAN'}]\n",
            "787\n"
          ]
        },
        {
          "output_type": "stream",
          "name": "stderr",
          "text": [
            "Processing Batches: 100%|██████████| 1/1 [00:00<00:00,  1.20it/s]\n"
          ]
        },
        {
          "output_type": "stream",
          "name": "stdout",
          "text": [
            "[{'COOKIE PNUT BTR NUTBTR': 'COOKIE PNUT BTR NUT BTR'}, {'CANDY SKITTLEMASHUPS 9 OZ': 'CANDY SKITTLE MASHUPS 9 OZ'}, {'COOKIE PNUT BTR NUTBTR': 'COOKIE PNUT BTR NUT BTR'}, {'CANDY SKITTLEMASHUPS 9 OZ': 'CANDY SKITTLE MASHUPS 9 OZ'}]\n",
            "788\n"
          ]
        },
        {
          "output_type": "stream",
          "name": "stderr",
          "text": [
            "Processing Batches: 100%|██████████| 3/3 [00:10<00:00,  3.35s/it]\n"
          ]
        },
        {
          "output_type": "stream",
          "name": "stdout",
          "text": [
            "[{'BRANZINO BFLY 8-10 OZ': 'BASS SEA BFLY BRANZINO 8-10 OZ'}, {'HALIBUT FIL 3/8# S/LESS': 'HALIBUT FIL SKLS 3-8LB'}, {'HALIBUT PORTION REGULAR': 'HALIBUT PRTN REG SKLS 8 OZ'}, {'HAMACHI FIL S/ON': 'HAMACHI FILET S/ON YELLOWTAIL'}, {'OYSTER EASTERN INSHELL': 'OYSTER INSHELL BLUEPOINT'}, {'SALMON ATL PRTN SKNLS': 'SALMON ATL PRTN CC SKNLS 8OZ'}, {'SALMON ATL PRTN 5OZ': 'SALMON ATL PRTN 5OZ FRESH'}, {'SALMON ATL FIL SK-ON': 'SALMON FIL FAROE ISLD 3-4'}, {'SALMON FIL SKON D-TRIM': 'SALMON FIL SKON D-TRIM'}, {'SALMON ATLANTIC': 'SALMON PIECES TRIM'}, {'SEABASS FLT CHILEAN S/L': 'SEABASS FIL CHILEAN SKLS PHF'}, {'SOLE DOVER FIL 2-4OZ': 'SOLE FIL DOVER 2/4 OZ SKLS FRS'}, {'TUNA AHI #1 C/C LOIN': 'TUNA LOIN #1 C/C SKLS BLO'}]\n",
            "789\n"
          ]
        },
        {
          "output_type": "stream",
          "name": "stderr",
          "text": [
            "Processing Batches: 100%|██████████| 1/1 [00:01<00:00,  1.85s/it]\n"
          ]
        },
        {
          "output_type": "stream",
          "name": "stdout",
          "text": [
            "[{'SALMON STL FIL PRTN SKOFF 6OZ': 'SALMON ATL FIL PRTN SKOFF BBRG'}, {'SALMON FILET PRTN CENTR CUT 7Z': 'SALMON PRTN C\\\\C'}, {'COD FIL 16/UP REFRESH': 'COD SCROD FIL 16/UP REFRESH'}, {'SALMON PORTION REG 7OZ': 'SALMON PORTION STR CUT 7OZ'}, {'CONCH MEAT CLEANED 100%': 'CONCH MEAT 5LB PK FRZ'}, {'SALMON PORTION REG 7OZ': 'SALMON PORTION STR CUT 7OZ'}]\n",
            "790\n"
          ]
        },
        {
          "output_type": "stream",
          "name": "stderr",
          "text": [
            "Processing Batches: 100%|██████████| 9/9 [00:36<00:00,  4.10s/it]\n"
          ]
        },
        {
          "output_type": "stream",
          "name": "stdout",
          "text": [
            "[{'Redfish 6-8 oz 10#': 'REDFISH FIL RAW 6-8 OZ IVP'}, {'POKE TUNA 10#': 'TUNA AHI POKE CUBED IVP'}, {'Lobster Tails 12/14 oz E1 10#': 'LOBSTER TAIL AUST 12-14Z SAE 1'}, {'Breaded Popcorn Shrimp 12#': 'SHRIMP POPCORN BRD 60-80 CT'}, {'Snow Crab 5-8 oz 30#': 'CRAB SNOW CLSTR 5-8 OZ JCS'}, {'Crab King Red L 9/12 ct 20#BG Mussels 18/30 10# in shell': 'CRAB KING RED L&C 9/12'}, {'ckd': 'MUSSEL WHL BLK CKD 18/30'}, {'Snapper fillets 8-10 oz 20#': 'SNAPPER FIL BNLS/SKLS 8-10 OZ'}, {'Salmon 7 oz 10# SG': 'SALMON PRTN 7 OZ 60 SOUTH SG'}, {'16/20 Shrimp 40 lb': 'SHRIMP WHT GH 16/20'}, {'Scallops 10/20 LDY 10#': 'SCALLOP WHL 10/20'}, {'Scallops M u-10 30#': 'SCALLOP IQF DOMSTC U-10'}, {'Squid 5/8 Domestic R&T 50#': 'SQUID RING & TENT'}, {'Chilean Seabass 7-9 oz 10#': 'SEABASS PRTN CHILEAN 7-9Z IQF'}, {'26/30 Shrimp 24#': 'SHRIMP GH 26/30 CT YE'}, {'26/30 Pink Shrimp 50#': 'SHRIMP GH USA DOM 26/30'}, {'JCS coconut shri b/f 12#': 'SHRIMP BRD COCO BFLY 16/20'}, {'Clams Wh ckd 17/22 ct 20#Lobster tails African F-2 7-8 oz': 'CLAM WHL CKD IN SHELL 17-22'}, {'Mortons': 'LOBSTER TAIL F2 7-8Z MRT 20/23'}, {'Flounder (small) 3-5 oz 10#16/20 Coconut Shrimp round': 'FLOUNDER FILET BL/SL 3-4 OZ'}, {'21/25 White Shrimp 40#': 'SHRIMP WHT HDLS S/ON 21/25 RAW'}, {'Tilapia Fillets 3-5 oz 10#': 'TILAPIA FILET SKNLS 3-5OZ'}, {'Dungeness Crab 25#': 'CRAB DUNGENES CLSTR CKD JCS'}, {'26/30 Shrimp BR 50#': 'SHRIMP GH USA DOM 26/30'}]\n",
            "791\n"
          ]
        },
        {
          "output_type": "stream",
          "name": "stderr",
          "text": [
            "Processing Batches: 100%|██████████| 9/9 [00:32<00:00,  3.63s/it]\n"
          ]
        },
        {
          "output_type": "stream",
          "name": "stdout",
          "text": [
            "[{'Clams Wh ckd 17/22 ct 20#': 'CLAM WHL CKD IN SHELL 17-22'}, {'Crawfish Tail Meat 150/200 24#Lobster Tails 5-6 oz 10#': 'CRAWFISH MEAT TAIL 150/200 CHI'}, {'Canada': 'LOBSTER TAIL CANADN 5-6OZ RAW'}, {'Mahi-Mahi 7-8 oz 10#': 'MAHI MAHI PRTN BLSL 7-8 OZ'}, {'Redfish 6-8 oz 10#': 'REDFISH FIL RAW 6-8 OZ IVP'}, {'Scallops M u-10 30#': 'SCALLOP IQF DOMSTC U-10'}, {'JCS coconut shri b/f 12#': 'SHRIMP BRD COCO BFLY 16/20'}, {'26/30 Shrimp 24#': 'SHRIMP GH 26/30 CT YE'}, {'U-12 Shrimp 24#': 'SHRIMP WHT HDLS S/ON U-12 RAW'}, {'Snapper fillets 8-10 oz 20#': 'SNAPPER FIL BNLS/SKLS 8-10 OZ'}, {'Australian': 'LOBSTER TAIL AUST 8-10Z #SAC'}, {'alligator 12 lb': 'ALLIGATOR MEAT FILLET'}, {'Snow Crab 5-8 oz 30#Lobster Meat Claw & Knuckle': 'CRAB SNOW CLSTR 5-8 OZ JCS'}, {'ckl 12#': 'LOBSTER MEAT 12#'}, {'Lobster Tails 4 oz 10#': 'LOBSTER TAIL N ATL 4 OZ'}, {'Pollock fillet 2-4 25#': 'POLLOCK FIL SKLS IQF 2-4 OZ AK'}, {'Salmon 7 oz 10# SG': 'SALMON PRTN 7 OZ 60 SOUTH SG'}, {'Scallops 10/20 LDY 10#': 'SCALLOP WHL 10/20'}, {'16/20 Coconut Shrimp round12#u-12 shrimp Landrys 0419432': 'SHRIMP BRD COCO RND 16/20 CT'}, {'16/20 Shrimp 40 lb': 'SHRIMP WHT GH 16/20'}, {'Squid 5/8 Domestic R&T 50#': 'SQUID RING & TENT'}, {'Tilapia Fillets 3-5 oz 10#': 'TILAPIA FILET SKNLS 3-5OZ'}, {'6/9 ct gh tiger 24#': 'SHRIMP IQF PRAWN FRSHWTR 6-9CT'}]\n",
            "792\n"
          ]
        },
        {
          "output_type": "stream",
          "name": "stderr",
          "text": [
            "Processing Batches: 100%|██████████| 2/2 [00:08<00:00,  4.01s/it]\n"
          ]
        },
        {
          "output_type": "stream",
          "name": "stdout",
          "text": [
            "[{'Lobster Meat Claw & Knuckle': 'LOBSTER MEAT 12#'}, {'Mahi-Mahi 7-8 oz 10#': 'MAHI MAHI PRTN BLSL 7-8 OZ'}, {'BG Mussels 18/30 10# in shell': 'MUSSEL WHL BLK CKD 18/30'}, {'26/30 Shrimp 24#': 'SHRIMP GH 26/30 CT YE'}, {'Crab Red 12/14ct 10 lb': 'CRAB KING RED LEG&CLAW 12/14'}, {'Lobster tails African F-2 7-8 oz': 'LOBSTER TAIL F2 7-8Z MRT 20/23'}, {'King Salmon IVP 19 x 8 oz': 'SALMON FIL ORA KNG IVP'}, {'JCS coconut shri b/f 12#': 'SHRIMP BRD COCO BFLY 16/20'}, {'Pollock fillet 2-4 25#': 'POLLOCK FIL SKLS IQF 2-4 OZ AK'}, {'Tilapia Fillets 3-5 oz 10#': 'TILAPIA FILET SKNLS 3-5OZ'}, {'Squid 5/8 Domestic R&T 50#': 'SQUID RING & TENT'}]\n",
            "793\n"
          ]
        },
        {
          "output_type": "stream",
          "name": "stderr",
          "text": [
            "Processing Batches: 100%|██████████| 6/6 [00:20<00:00,  3.34s/it]\n"
          ]
        },
        {
          "output_type": "stream",
          "name": "stdout",
          "text": [
            "[{'26/30 Shrimp 24#': 'SHRIMP GH 26/30 CT YE'}, {'Squid 5/8 Domestic R&T 50#': 'SQUID RING & TENT'}, {'Tilapia Fillets 5-7 oz 10#': 'TILAPIA FILET BNLS 5-7 OZ'}, {'Snow Crab 5-8 oz 30#': 'CRAB SNOW CLSTR 5-8 OZ JCS'}, {'Lobster Tails 4-5oz 10#Lobster Tails F-1 6-7 oz': 'LOBSTER TAIL CANADN 4-5 OZ'}, {'Charthouse': 'LOBSTER TAIL 6-7Z SRB 23-26 CT'}, {'Salmon 7 oz 10#': 'SALMON FIL PRTN 7-8 OZ RAW IVP'}, {'Chilean Seabass 7-9 oz 10#': 'SEABASS PRTN CHILEAN 7-9Z IQF'}, {'temp 160 ctBG Breaded Shrimp 9/45#': 'SHRIMP TEMPURA BTRD 160 CT'}, {'Fried Mama bl': 'SHRIMP BRD FRIED MAMA BLUES'}, {'21/25 Shrimp 24#': 'SHRIMP GH SHELL ON 21/25 CT'}, {'16/20 Shrimp PDTO 10#': 'SHRIMP WHT P&D TLON 16/20 IQF'}, {'sablefish 10 lb 8 ozLobster Meat Claw & Knuckle': 'COD FIL SABLEFISH PRTN 8 OZ'}, {'ckl 12#Lobster Tails 5-6 oz 10#': 'LOBSTER MEAT 12#'}, {'Canada': 'LOBSTER TAIL CANADN 5-6OZ RAW'}, {'Pollock fillet 2-4 25#': 'POLLOCK FIL SKLS IQF 2-4 OZ AK'}, {'Salmon 5 oz 10# Houlihan': 'SALMON FIL 5 OZ 10#'}, {'16/20 Coconut Shrimp round': 'SHRIMP BRD COCO RND 16/20 CT'}]\n",
            "794\n"
          ]
        },
        {
          "output_type": "stream",
          "name": "stderr",
          "text": [
            "Processing Batches: 100%|██████████| 1/1 [00:02<00:00,  2.56s/it]\n"
          ]
        },
        {
          "output_type": "stream",
          "name": "stdout",
          "text": [
            "[{'cod fillets 45# pacific': 'COD FILLET SKLS'}, {'26/30 Shrimp 24#': 'SHRIMP GH 26/30 CT YE'}, {'Snow Crab 5/8 30#': 'CRAB SNOW CLSTR 5-8 OZ JCS'}, {'Salmon 7 oz 10# SG': 'SALMON PRTN 7 OZ 60 SOUTH SG'}, {'Tilapia Fillets 5-7 oz 10#': 'TILAPIA FILET BNLS 5-7 OZ'}, {'Pollock fillet 2-4 25#16/20 Coconut Shrimp round': 'POLLOCK FIL SKLS IQF 2-4 OZ AK'}, {'temp 160 ct': 'SHRIMP TEMPURA BTRD 160 CT'}]\n",
            "795\n"
          ]
        },
        {
          "output_type": "stream",
          "name": "stderr",
          "text": [
            "Processing Batches: 100%|██████████| 1/1 [00:03<00:00,  3.14s/it]\n"
          ]
        },
        {
          "output_type": "stream",
          "name": "stdout",
          "text": [
            "[{'cod fillets 45# pacific': 'COD FILLET SKLS'}, {'King Salmon IVP 19 x 8 ozCHEESECAKE PLAIN 10IN SLI': 'SALMON FIL ORA KNG IVP'}, {'U-10 Shrimp catch 24#': 'SHRIMP BLK TGR T/ON S/ON U/10'}, {'Squid 5/8 Domestic R&T 50#': 'SQUID RING & TENT'}, {'Chilean Seabass 7-9 oz 10#king crab Clusters 900/over': 'SEABASS PRTN CHILEAN 7-9Z IQF'}, {'Scallops u-10 30#': 'SCALLOP IQF DOMSTC U-10'}, {'Tilapia Fillets 3-5 oz 10#': 'TILAPIA FILET SKNLS 3-5OZ'}]\n",
            "796\n"
          ]
        },
        {
          "output_type": "stream",
          "name": "stderr",
          "text": [
            "Processing Batches: 100%|██████████| 7/7 [00:23<00:00,  3.42s/it]\n"
          ]
        },
        {
          "output_type": "stream",
          "name": "stdout",
          "text": [
            "[{'dungeness 25 lb': 'CRAB DUNGENES CLSTR CKD JCS'}, {'Snow Crab 5/8 30 lb': 'CRAB SNOW CLSTR 5-8 OZ JCS'}, {'Lobster Tails 4-5oz 10#': 'LOBSTER TAIL CANADN 4-5 OZ'}, {'Lobster Tails 8 oz (w/w) 10#': 'LOBSTER TAIL WARM WTR 8-9OZ EA'}, {'Pollock fillet 2-4 25#': 'POLLOCK FIL SKLS IQF 2-4 OZ AK'}, {'21/25 Shrimp 24#': 'SHRIMP GH SHELL ON 21/25 CT'}, {'26/30 Shrimp 24#': 'SHRIMP GH 26/30 CT YE'}, {'Squid 5/8 Domestic R&T 50#': 'SQUID RING & TENT'}, {'King Crab 700- 900g 3968 lb': 'CRAB KING CLSTR 700-900G'}, {'snow russian 10/12 oz 20#': 'CRAB SNOW CLUSTER 10/UP CKD'}, {'Canada': 'LOBSTER TAIL CANADN 5-6OZ RAW'}, {'ckd': 'MUSSEL WHL BLK CKD 18/30'}, {'Scallops 10/20 LDY 10#': 'SCALLOP WHL 10/20'}, {'Chilean Seabass 7-9 oz 10#': 'SEABASS PRTN CHILEAN 7-9Z IQF'}, {'Fried Mama bl': 'SHRIMP BRD FRIED MAMA BLUES'}, {'26/30 Pink Shrimp 50#': 'SHRIMP GH USA DOM 26/30'}, {'16/20 Shrimp 40 lb': 'SHRIMP WHT GH 16/20'}, {'Snapper fillets 8-10 oz 20#': 'SNAPPER FIL BNLS/SKLS 8-10 OZ'}, {'Tilapia Fillets 3-5 oz 10#': 'TILAPIA FILET SKNLS 3-5OZ'}, {'cod fillets 45# pacific': 'COD FILLET SKLS'}]\n",
            "797\n"
          ]
        },
        {
          "output_type": "stream",
          "name": "stderr",
          "text": [
            "Processing Batches: 100%|██████████| 1/1 [00:00<00:00,  1.91it/s]\n"
          ]
        },
        {
          "output_type": "stream",
          "name": "stdout",
          "text": [
            "[{'U-10 Shrimp catch 24#': 'SHRIMP BLK TGR T/ON S/ON U/10'}, {'Squid 5/8 Domestic R&T 50#': 'SQUID RING & TENT'}, {'21/25 Shrimp 24#': 'SHRIMP GH SHELL ON 21/25 CT'}]\n",
            "798\n"
          ]
        },
        {
          "output_type": "stream",
          "name": "stderr",
          "text": [
            "Processing Batches: 100%|██████████| 5/5 [00:16<00:00,  3.36s/it]\n"
          ]
        },
        {
          "output_type": "stream",
          "name": "stdout",
          "text": [
            "[{'king clusters gold over 700lb': 'CRAB KING CLSTR U/700 GM CKD'}, {'Pollock fillet 2-4 25#': 'POLLOCK FIL SKLS IQF 2-4 OZ AK'}, {'16/20 Coconut Shrimp round12#': 'SHRIMP BRD COCO RND 16/20 CT'}, {'Flounder (small) 3-5 oz 10#': 'FLOUNDER FILET BL/SL 3-4 OZ'}, {'Salmon 7 oz 10#': 'SALMON FIL PRTN 7-8 OZ RAW IVP'}, {'31/35 Shrimp White 40#': 'SHRIMP HEADLESS GRN 31/35'}, {'Tilapia Fillets 3-5 oz 10#': 'TILAPIA FILET SKNLS 3-5OZ'}, {'Dungeness Crab 25#': 'CRAB DUNGENES CLSTR CKD JCS'}, {'Snow Crab 5-8 oz 30#': 'CRAB SNOW CLSTR 5-8 OZ JCS'}, {'BG Mussels 18/30 10# inckd': 'MUSSEL WHL BLK CKD 18/30'}, {'JCS coconut shri b/f 12#': 'SHRIMP BRD COCO BFLY 16/20'}, {'BG Breaded Shrimp 9/45#Fried Mama bl': 'SHRIMP BRD FRIED MAMA BLUES'}, {'26/30 Shrimp 24#': 'SHRIMP GH USA DOM 26/30'}, {'Squid 5/8 Domestic R&T': 'SQUID RING & TENT'}, {'Lobster Tails 4 oz 10#': 'LOBSTER TAIL N ATL 4 OZ'}, {'Case104': 'SHRIMP GH 26/30 CT YE'}, {'26/30 Pink Shrimp 50#temp 160 ct': 'SHRIMP TEMPURA BTRD 160 CT'}]\n",
            "799\n"
          ]
        },
        {
          "output_type": "stream",
          "name": "stderr",
          "text": [
            "Processing Batches: 100%|██████████| 6/6 [00:20<00:00,  3.45s/it]\n"
          ]
        },
        {
          "output_type": "stream",
          "name": "stdout",
          "text": [
            "[{'POKE TUNA 10#': 'TUNA AHI POKE CUBED IVP'}, {'21/25 Shrimp 24#': 'SHRIMP GH SHELL ON 21/25 CT'}, {'JCS coconut shri b/f 12#': 'SHRIMP BRD COCO BFLY 16/20'}, {'King Crab 9/12 10 lb': 'CRAB KING LEG & CLAW 9-12 CT'}, {'16/20 Shrimp 40 lb': 'SHRIMP WHT GH 16/20'}, {'Tilapia Fillets 3-5 oz 10#': 'TILAPIA FILET SKNLS 3-5OZ'}, {'Pollock fillet 2-4 25#': 'POLLOCK FIL SKLS IQF 2-4 OZ AK'}, {'Scallops u-10 30#BG Breaded Shrimp 9/45#': 'SCALLOP IQF DOMSTC U-10'}, {'Fried Mama bl': 'SHRIMP BRD FRIED MAMA BLUES'}, {'POKE TUNA 10#': 'TUNA AHI POKE CUBED IVP'}, {'Salmon 7 oz 10#': 'SALMON FIL PRTN 7-8 OZ RAW IVP'}, {'Lobster Tails 12/14 oz E1 10#': 'LOBSTER TAIL AUST 12-14Z SAE 1'}, {'Snow Crab 5-8 oz 30#': 'CRAB SNOW CLSTR 5-8 OZ JCS'}, {'Mortons': 'LOBSTER TAIL F2 7-8Z MRT 20/23'}, {'Flounder (small) 3-5 oz 10#': 'FLOUNDER FILET BL/SL 3-4 OZ'}, {'temp 160 ct': 'SHRIMP TEMPURA BTRD 160 CT'}, {'ablefish 10 lb 8 oz': 'COD FIL SABLEFISH PRTN 8 OZ'}, {'Squid 5/8 Domestic R&T 50#': 'SQUID RING & TENT'}, {'Scallops M u-10 30#': 'SCALLOP IQF DOMSTC U-10'}]\n",
            "800\n"
          ]
        },
        {
          "output_type": "stream",
          "name": "stderr",
          "text": [
            "Processing Batches: 100%|██████████| 6/6 [00:17<00:00,  2.95s/it]\n"
          ]
        },
        {
          "output_type": "stream",
          "name": "stdout",
          "text": [
            "[{'26/30 Pink Shrimp 50#': 'SHRIMP GH USA DOM 26/30'}, {'Snow Crab 5/8 30 lb': 'CRAB SNOW CLSTR 5-8 OZ JCS'}, {'U-12 Shrimp 24#': 'SHRIMP WHT HDLS S/ON U-12 RAW'}, {'Pollock fillet 2-4 25#': 'POLLOCK FIL SKLS IQF 2-4 OZ AK'}, {'Flounder (small) 3-5 oz 10#': 'FLOUNDER FILET BL/SL 3-4 OZ'}, {'16/20 Shrimp 40 lb': 'SHRIMP WHT GH 16/20'}, {'temp 160 ct': 'SHRIMP TEMPURA BTRD 160 CT'}, {'cod fillets 45# pacific': 'COD FILLET SKLS'}, {'Salmon 7 oz 10#': 'SALMON FIL PRTN 7-8 OZ RAW IVP'}, {'21/25 Shrimp 24#': 'SHRIMP GH SHELL ON 21/25 CT'}, {'Redfish 6-8 oz 10#': 'REDFISH FIL RAW 6-8 OZ IVP'}, {'26/30 Shrimp 24#': 'SHRIMP GH 26/30 CT YE'}, {'JCS coconut shri b/f 12#': 'SHRIMP BRD COCO BFLY 16/20'}, {'Lobster Tails 4 oz 10#BG Breaded Shrimp 9/45#': 'LOBSTER TAIL N ATL 4 OZ'}, {'Fried Mama bl': 'SHRIMP BRD FRIED MAMA BLUES'}, {'16/20 Coconut Shrimp round12#': 'SHRIMP BRD COCO RND 16/20 CT'}, {'Tilapia Fillets 3-5 oz 10#': 'TILAPIA FILET SKNLS 3-5OZ'}, {'Squid 5/8 Domestic R&T 50#': 'SQUID RING & TENT'}]\n",
            "801\n"
          ]
        },
        {
          "output_type": "stream",
          "name": "stderr",
          "text": [
            "Processing Batches: 100%|██████████| 4/4 [00:13<00:00,  3.49s/it]\n"
          ]
        },
        {
          "output_type": "stream",
          "name": "stdout",
          "text": [
            "[{'king clusters gold over 700 28': 'CRAB KING CLSTR U/700 GM CKD'}, {'Snow Crab 5/8 30 lb': 'CRAB SNOW CLSTR 5-8 OZ JCS'}, {'Flounder (small) 3-5 oz 10#': 'FLOUNDER FILET BL/SL 3-4 OZ'}, {'Lobster Tails 4 oz 10#': 'LOBSTER TAIL N ATL 4 OZ'}, {'BG Mussels 18/30 10# in shell': 'MUSSEL WHL BLK CKD 18/30'}, {'26/30 Pink Shrimp 50#': 'SHRIMP GH USA DOM 26/30'}, {'Squid 5/8 Domestic R&T 50#': 'SQUID RING & TENT'}, {'snow russian 10/12 oz 20#': 'CRAB SNOW CLUSTER 10/UP CKD'}, {'Clams Wh ckd 17/22 ct 20#': 'CLAM WHL CKD IN SHELL 17-22'}, {'dungeness 25 lb': 'CRAB DUNGENES CLSTR CKD JCS'}, {'King Crab 9/12 10 lb': 'CRAB KING LEG & CLAW 9-12 CT'}, {'Lobster Tails 12/14 oz E1 10#': 'LOBSTER TAIL AUST 12-14Z SAE 1'}, {'Mahi-Mahi 7-8 oz 10#': 'MAHI MAHI PRTN BLSL 7-8 OZ'}, {'Salmon 7 oz 10#': 'SALMON FIL PRTN 7-8 OZ RAW IVP'}, {'31/35 Shrimp White 40#': 'SHRIMP HEADLESS GRN 31/35'}, {'Tilapia Fillets 3-5 oz 10#': 'TILAPIA FILET SKNLS 3-5OZ'}]\n",
            "802\n"
          ]
        },
        {
          "output_type": "stream",
          "name": "stderr",
          "text": [
            "Processing Batches: 100%|██████████| 2/2 [00:05<00:00,  2.79s/it]\n"
          ]
        },
        {
          "output_type": "stream",
          "name": "stdout",
          "text": [
            "[{'Dungeness Crab 25#': 'CRAB DUNGENES CLSTR CKD JCS'}, {'king clusters gold over 700 28': 'CRAB KING CLSTR U/700 GM CKD'}, {'snow russian 10/12 oz 20#': 'CRAB SNOW CLUSTER 10/UP CKD'}, {'Snow Crab 5-8 oz 30#': 'CRAB SNOW CLSTR 5-8 OZ JCS'}, {'Lobster Tails 4 oz 10#': 'LOBSTER TAIL N ATL 4 OZ'}, {'JCS coconut shri b/f 12#': 'SHRIMP BRD COCO BFLY 16/20'}, {'26/30 Pink Shrimp 50#': 'SHRIMP GH USA DOM 26/30'}, {'31/35 Shrimp White 40#': 'SHRIMP HEADLESS GRN 31/35'}, {'21/25 Shrimp 24#': 'SHRIMP WHT HDLS S/ON 21/25 RAW'}, {'21/25 Shrimp 40#': 'SHRIMP GH SHELL ON 21/25 CT'}, {'Salmon 7 oz 10#': 'SALMON FIL PRTN 7-8 OZ RAW IVP'}]\n",
            "803\n"
          ]
        },
        {
          "output_type": "stream",
          "name": "stderr",
          "text": [
            "Processing Batches: 100%|██████████| 2/2 [00:05<00:00,  2.57s/it]\n"
          ]
        },
        {
          "output_type": "stream",
          "name": "stdout",
          "text": [
            "[{'26/30 Shrimp 24#': 'SHRIMP GH 26/30 CT YE'}, {'26/30 Pink Shrimp 50#': 'SHRIMP GH USA DOM 26/30'}, {'10 lb 8 oz': 'COD FIL SABLEFISH PRTN 8 OZ'}, {'Salmon 7 oz 10#': 'SALMON FIL PRTN 7-8 OZ RAW IVP'}, {'21/25 Shrimp 24#': 'SHRIMP GH SHELL ON 21/25 CT'}, {'Charthouse': 'LOBSTER TAIL 6-7Z SRB 23-26 CT'}, {'Snow Crab 5-8 oz 30#': 'CRAB SNOW CLSTR 5-8 OZ JCS'}, {'Fried Mama bl': 'SHRIMP BRD FRIED MAMA BLUES'}, {'16/20 Shrimp 40 lb': 'SHRIMP WHT GH 16/20'}]\n",
            "804\n"
          ]
        },
        {
          "output_type": "stream",
          "name": "stderr",
          "text": [
            "Processing Batches: 100%|██████████| 1/1 [00:01<00:00,  1.77s/it]\n"
          ]
        },
        {
          "output_type": "stream",
          "name": "stdout",
          "text": [
            "[{'Chilean Seabass 7-9 oz 10#': 'SEABASS PRTN CHILEAN 7-9Z IQF'}, {'26/30 Shrimp 24#': 'SHRIMP GH 26/30 CT YE'}, {'Pollock fillet 2-4 25#16/20 Coconut Shrimp round': 'POLLOCK FIL SKLS IQF 2-4 OZ AK'}, {'Lobster Tails 4-5oz 10#': 'LOBSTER TAIL CANADN 4-5 OZ'}, {'Snow Crab 5-8 oz 30#BG Mahi Fillet 3-5 oz 50# skin': 'CRAB SNOW CLSTR 5-8 OZ JCS'}]\n",
            "805\n"
          ]
        },
        {
          "output_type": "stream",
          "name": "stderr",
          "text": [
            "Processing Batches: 100%|██████████| 5/5 [00:15<00:00,  3.07s/it]\n"
          ]
        },
        {
          "output_type": "stream",
          "name": "stdout",
          "text": [
            "[{'dungeness 25 lb': 'CRAB DUNGENES CLSTR CKD JCS'}, {'21/25 Shrimp 24#': 'SHRIMP GH SHELL ON 21/25 CT'}, {'26/30 Pink Shrimp 50#': 'SHRIMP GH USA DOM 26/30'}, {'King Salmon IVP 19 x 8 oz': 'SALMON FIL ORA KNG IVP'}, {'snow russian 10/12 oz 20#': 'CRAB SNOW CLUSTER 10/UP CKD'}, {'Lobster Tails 4 oz 10#': 'LOBSTER TAIL N ATL 4 OZ'}, {'Mahi-Mahi 7-8 oz 10#': 'MAHI MAHI PRTN BLSL 7-8 OZ'}, {'Pollock fillet 2-4 25#': 'POLLOCK FIL SKLS IQF 2-4 OZ AK'}, {'ckd': 'MUSSEL WHL BLK CKD 18/30'}, {'Squid 5/8 Domestic R&T 50#': 'SQUID RING & TENT'}, {'Flounder (small) 3-5 oz 10#': 'FLOUNDER FILET BL/SL 3-4 OZ'}, {'Salmon 7 oz 10#': 'SALMON FIL PRTN 7-8 OZ RAW IVP'}, {'31/35 Shrimp White 40#': 'SHRIMP HEADLESS GRN 31/35'}, {'JCS coconut shri b/f 12#': 'SHRIMP BRD COCO BFLY 16/20'}, {'Snow Crab 5/8 30 lb': 'CRAB SNOW CLSTR 5-8 OZ JCS'}, {'U-12 Shrimp 24#king clusters gold over 700 28': 'SHRIMP WHT HDLS S/ON U-12 RAW'}, {'Tilapia Fillets 3-5 oz 10#': 'TILAPIA FILET SKNLS 3-5OZ'}]\n",
            "806\n"
          ]
        },
        {
          "output_type": "stream",
          "name": "stderr",
          "text": [
            "Processing Batches: 100%|██████████| 2/2 [00:04<00:00,  2.01s/it]\n"
          ]
        },
        {
          "output_type": "stream",
          "name": "stdout",
          "text": [
            "[{'Lobster Tails 4 oz 10#': 'LOBSTER TAIL N ATL 4 OZ'}, {'Redfish 8-10 oz 10#': 'REDFISH FIL T/ON 8-10 OZ FRZN'}, {'Chilean Seabass 7-9 oz 10#': 'SEABASS PRTN CHILEAN 7-9Z IQF'}, {'cod fillets 45# pacific': 'COD FILLET SKLS'}, {'Lobster Tails 8 oz (w/w) 10#': 'LOBSTER TAIL WARM WTR 8-9OZ EA'}, {'Salmon 7 oz 10#': 'SALMON FIL PRTN 7-8 OZ RAW IVP'}, {'21/25 Shrimp 24#': 'SHRIMP GH SHELL ON 21/25 CT'}, {'snapper 8-10 oz 10#': 'SNAPPER FIL IQF T/OFF 8-10 OZ'}, {'Snow Crab 5-8 oz 30#': 'CRAB SNOW CLSTR 5-8 OZ JCS'}]\n",
            "807\n"
          ]
        },
        {
          "output_type": "stream",
          "name": "stderr",
          "text": [
            "Processing Batches: 100%|██████████| 1/1 [00:03<00:00,  3.04s/it]\n"
          ]
        },
        {
          "output_type": "stream",
          "name": "stdout",
          "text": [
            "[{'26/30 Pink Shrimp 50#': 'SHRIMP GH USA DOM 26/30'}, {'Snow Crab 5-8 oz 30#BG Mahi Fillet 3-5 oz 50# skin': 'CRAB SNOW CLSTR 5-8 OZ JCS'}, {'21/25 Shrimp 40#': 'SHRIMP WHT HDLS S/ON 21/25 RAW'}, {'JCS coconut shri b/f 12#': 'SHRIMP BRD COCO BFLY 16/20'}, {'Lobster Tails 4 oz 10#': 'LOBSTER TAIL N ATL 4 OZ'}, {'Mahi-Mahi 7-8 oz 10#': 'MAHI MAHI PRTN BLSL 7-8 OZ'}, {'Tilapia Fillets 3-5 oz 10#': 'TILAPIA FILET SKNLS 3-5OZ'}]\n",
            "808\n"
          ]
        },
        {
          "output_type": "stream",
          "name": "stderr",
          "text": [
            "Processing Batches: 100%|██████████| 1/1 [00:00<00:00,  1.93it/s]\n"
          ]
        },
        {
          "output_type": "stream",
          "name": "stdout",
          "text": [
            "[{'King Crab 700- 900g 3968 lb': 'CRAB KING CLSTR 700-900G'}, {'Salmon 7 oz 10#': 'SALMON FIL PRTN 7-8 OZ RAW IVP'}, {'sablefish 10 lb 8 oz': 'COD FIL SABLEFISH PRTN 8 OZ'}]\n",
            "809\n"
          ]
        },
        {
          "output_type": "stream",
          "name": "stderr",
          "text": [
            "Processing Batches: 100%|██████████| 5/5 [00:16<00:00,  3.39s/it]\n"
          ]
        },
        {
          "output_type": "stream",
          "name": "stdout",
          "text": [
            "[{'cod fillets 45# pacific': 'COD FILLET SKLS'}, {'Lobster tails African F-2 7-8 oz': 'LOBSTER TAIL F2 7-8Z MRT 20/23'}, {'Charthouse': 'LOBSTER TAIL 6-7Z SRB 23-26 CT'}, {'16/20 Coconut Shrimp round': 'SHRIMP BRD COCO RND 16/20 CT'}, {'21/25 Shrimp 24#': 'SHRIMP GH SHELL ON 21/25 CT'}, {'26/30 Shrimp 24#': 'SHRIMP GH 26/30 CT YE'}, {'16/20 Shrimp 40 lb': 'SHRIMP WHT GH 16/20'}, {'Tilapia Fillets 3-5 oz 10#': 'TILAPIA FILET SKNLS 3-5OZ'}, {'sablefish 10 lb 8 oz': 'COD FIL SABLEFISH PRTN 8 OZ'}, {'Fried Mama bl': 'SHRIMP BRD FRIED MAMA BLUES'}, {'temp 160 ct': 'SHRIMP TEMPURA BTRD 160 CT'}, {'U-12 Shrimp 24#': 'SHRIMP WHT HDLS S/ON U-12 RAW'}, {'Squid 5/8 Domestic R&T 50#': 'SQUID RING & TENT'}, {'POKE TUNA 10#': 'TUNA AHI POKE CUBED IVP'}, {'Snow Crab 5-8 oz 30#': 'CRAB SNOW CLSTR 5-8 OZ JCS'}, {'Lobster Tails 4 oz 10#': 'LOBSTER TAIL N ATL 4 OZ'}, {'Mahi-Mahi filets 50 #': 'MAHI FIL FLETCH BL/SL'}]\n",
            "810\n"
          ]
        },
        {
          "output_type": "stream",
          "name": "stderr",
          "text": [
            "Processing Batches: 100%|██████████| 1/1 [00:00<00:00,  1.58it/s]\n"
          ]
        },
        {
          "output_type": "stream",
          "name": "stdout",
          "text": [
            "[{'Snow Crab 5-8 oz 30#': 'CRAB SNOW CLSTR 5-8 OZ JCS'}, {'ckd': 'MUSSEL WHL BLK CKD 18/30'}, {'Dungeness Crab 25#': 'CRAB DUNGENES CLSTR CKD JCS'}]\n",
            "811\n"
          ]
        },
        {
          "output_type": "stream",
          "name": "stderr",
          "text": [
            "Processing Batches: 100%|██████████| 1/1 [00:00<00:00,  2.47it/s]\n"
          ]
        },
        {
          "output_type": "stream",
          "name": "stdout",
          "text": [
            "[{'Spicy Saus Egg Cheese Biscuit24/cs': 'SANDWICH BISC SAUS EGG CHS'}, {'Bacon Egg Gouda 24/cs': 'SANDWICH BRKFST BACON GOUDA'}]\n",
            "812\n"
          ]
        },
        {
          "output_type": "stream",
          "name": "stderr",
          "text": [
            "Processing Batches: 100%|██████████| 1/1 [00:00<00:00,  2.67it/s]\n"
          ]
        },
        {
          "output_type": "stream",
          "name": "stdout",
          "text": [
            "[{'Bacon Egg Gouda 24/cs': 'SANDWICH BRKFST BACON GOUDA'}, {'Chorizo Egg Red Pep Sandwich': 'SANDWICH BRKFST CHORIZO BISTRO'}]\n",
            "813\n"
          ]
        },
        {
          "output_type": "stream",
          "name": "stderr",
          "text": [
            "Processing Batches: 100%|██████████| 4/4 [00:15<00:00,  3.87s/it]\n"
          ]
        },
        {
          "output_type": "stream",
          "name": "stdout",
          "text": [
            "[{'CORN 4-CUT WHITE THIN PRE-CUTLot 1981624C6': 'CHIP TORTILLA REG THIN 4'}, {'CORN 4-CUT YLW THIN PRE-CUTLot 2000024C6': 'CHIP TORTILLA 4 CUT YEL THI'}, {'CORN 4IN WHITE CHIQUITA TORTILLALot 2010024C4': 'TORTILLA CORN MINI 4 FRSH'}, {'CORN 6-CUT TRI COLOR PRE-CUTLot 1690024C62010024C6': 'TORTILLA CORN TRI COLR RAW 6C'}, {'CORN 45IN WHITE TAQUITO TORTILLALot 2000824C5': 'TORTILLA CORN WHT 4.5IN'}, {'CORN 6IN WHITE MESA TORTILLALot 1970024C4': 'TORTILLA CORN WHT 6 MESA'}, {'CORN 6IN YLW THICK TORTILLALot 1991224C52010824C4': 'TORTILLA CORN YEL THICK 6IN'}, {'CORN 6IN YLW THIN TORTILLALot 1920024C2': 'TORTILLA CORN YEL THIN 6IN'}, {'CORN 6IN WHITE GRUESA TORTILLALot 2000024C4': 'TORTILLA CORN 6IN THICK GRUESA'}, {'FLOUR 12IN CHIPOTLE TORTILLALot 1851224M3': 'TORTILLA FLOUR CHIPOTLE 12IN'}, {'FLOUR 6IN TORTILLALot 1980824M4': 'TORTILLA FLOUR PRESS 6IN'}, {'FLOUR 8IN TORTILLALot 1992024M2': 'TORTILLA FLOUR PRESS 8IN'}, {'FLOUR 12IN SPINACH TORTILLALot 1910424M3': 'TORTILLA FLOUR SPINACH 12'}, {'FLOUR 14IN SPINACH TORTILLALot 1910024M3': 'TORTILLA FLOUR SPINACH 14'}]\n",
            "814\n"
          ]
        },
        {
          "output_type": "stream",
          "name": "stderr",
          "text": [
            "Processing Batches: 100%|██████████| 1/1 [00:00<00:00,  3.14it/s]\n"
          ]
        },
        {
          "output_type": "stream",
          "name": "stdout",
          "text": [
            "[{'Napkin Band White 15 x 425- SYSCO': 'BAND NAPKIN PAPR 1.5X4.25 WHT'}, {'Napkin_Band Hunter Green 15 x 425- SYSCO': 'BAND NAPKIN 1.5X4.25 HTR GREEN'}]\n",
            "815\n"
          ]
        },
        {
          "output_type": "stream",
          "name": "stderr",
          "text": [
            "Processing Batches: 100%|██████████| 1/1 [00:00<00:00,  3.44it/s]\n"
          ]
        },
        {
          "output_type": "stream",
          "name": "stdout",
          "text": [
            "[{'CASA MIA ROSA 80% CANOLA 20%': 'OIL OLIVE 80%CANOLA 20%POMACE'}, {'FRI LITE (35 LB': 'SHORTENING FRY LIQ CLR CANOLA'}]\n",
            "816\n"
          ]
        },
        {
          "output_type": "stream",
          "name": "stderr",
          "text": [
            "Processing Batches: 100%|██████████| 1/1 [00:00<00:00,  1.85it/s]\n"
          ]
        },
        {
          "output_type": "stream",
          "name": "stdout",
          "text": [
            "[{'SICILIA 90/10 CANOLA/EXTRA': 'OIL CANOLA/OLIVE BLEND 90/10'}, {'SICILIA 75/25 CANOLA/EXTRA': 'OIL OLIVE CANOLA EVO 75/25'}, {'LA SPAGNOLA BLENDED': 'OIL VEG /PURE OLIVE 90/10 BLND'}]\n",
            "817\n"
          ]
        },
        {
          "output_type": "stream",
          "name": "stderr",
          "text": [
            "Processing Batches: 100%|██████████| 1/1 [00:00<00:00,  1.93it/s]\n"
          ]
        },
        {
          "output_type": "stream",
          "name": "stdout",
          "text": [
            "[{'PIE APPLE FRIED (SYSCO)': 'PIE APPLE FRIED'}, {'PIE CHERRY FRIED (SYSCO)': 'PIE CHERRY FRIED'}, {'PIE PEACH FRIED (SYSCO)': 'PIE PEACH FRIED'}]\n",
            "818\n"
          ]
        },
        {
          "output_type": "stream",
          "name": "stderr",
          "text": [
            "Processing Batches: 100%|██████████| 1/1 [00:00<00:00,  1.86it/s]\n"
          ]
        },
        {
          "output_type": "stream",
          "name": "stdout",
          "text": [
            "[{'Large Italian Bread - CL': 'DOUGH BREAD ITALIAN'}, {'Jersey Mikes Mini White': 'ROLL MINI WHT SUB'}, {'Jersey Mikes Wheat Sub': 'ROLL WHEAT SUB'}, {'Jersey Mikes White Sub': 'ROLL WHITE SUB'}]\n",
            "819\n"
          ]
        },
        {
          "output_type": "stream",
          "name": "stderr",
          "text": [
            "Processing Batches: 100%|██████████| 1/1 [00:00<00:00,  1.69it/s]\n"
          ]
        },
        {
          "output_type": "stream",
          "name": "stdout",
          "text": [
            "[{'Jersey Mikes Mini Wheat Sub': 'ROLL MINI WHEAT SUB'}, {'Jersey Mikes Mini White': 'ROLL MINI WHT SUB'}, {'Jersey Mikes Wheat Sub': 'ROLL WHEAT SUB'}, {'Jersey Mikes White Sub': 'ROLL WHITE SUB'}]\n",
            "820\n"
          ]
        },
        {
          "output_type": "stream",
          "name": "stderr",
          "text": [
            "Processing Batches: 100%|██████████| 1/1 [00:00<00:00,  1.75it/s]\n"
          ]
        },
        {
          "output_type": "stream",
          "name": "stdout",
          "text": [
            "[{'Jersey Mikes Mini Wheat Sub': 'ROLL MINI WHEAT SUB'}, {'Jersey Mikes Mini White Sub': 'ROLL MINI WHT SUB'}, {'Jersey Mikes Wheat Sub': 'ROLL WHEAT SUB'}, {'Jersey Mikes White Sub': 'ROLL WHITE SUB'}]\n",
            "821\n"
          ]
        },
        {
          "output_type": "stream",
          "name": "stderr",
          "text": [
            "Processing Batches: 100%|██████████| 1/1 [00:00<00:00,  1.59it/s]\n"
          ]
        },
        {
          "output_type": "stream",
          "name": "stdout",
          "text": [
            "[{'Jersey Mikes Mini Wheat SubJersey Mikes Wheat Sub': 'ROLL MINI WHEAT SUB'}, {'Jersey Mikes White SubMEGACORPTERMS BY 08/09/2024': 'ROLL WHITE SUB'}, {'Jersey Mikes Wheat Sub': 'ROLL WHEAT SUB'}]\n",
            "822\n"
          ]
        },
        {
          "output_type": "stream",
          "name": "stderr",
          "text": [
            "Processing Batches: 100%|██████████| 1/1 [00:01<00:00,  1.17s/it]\n"
          ]
        },
        {
          "output_type": "stream",
          "name": "stdout",
          "text": [
            "[{'Jersey Mikes Mini Wheat Sub': 'ROLL MINI WHEAT SUB'}, {'Jersey Mikes Mini White Sub': 'ROLL MINI WHT SUB'}, {'All Natural Plain Bagel': 'DOUGH BAGEL PLAIN'}, {'Jersey Mikes Wheat Sub': 'ROLL WHEAT SUB'}, {'Jersey Mikes White Sub': 'ROLL WHITE SUB'}]\n",
            "823\n"
          ]
        },
        {
          "output_type": "stream",
          "name": "stderr",
          "text": [
            "Processing Batches: 100%|██████████| 1/1 [00:00<00:00,  2.30it/s]\n"
          ]
        },
        {
          "output_type": "stream",
          "name": "stdout",
          "text": [
            "[{'LA SPAGNOLA BLENDED VEGETABLE AND': 'OIL VEG /PURE OLIVE 90/10 BLND'}, {'FRI LITE (35 LB DP)': 'SHORTENING FRY LIQ CLR CANOLA'}]\n",
            "824\n"
          ]
        },
        {
          "output_type": "stream",
          "name": "stderr",
          "text": [
            "Processing Batches: 100%|██████████| 1/1 [00:01<00:00,  1.75s/it]\n"
          ]
        },
        {
          "output_type": "stream",
          "name": "stdout",
          "text": [
            "[{'SANDWICH FRESH TURKEY': 'SANDWICH TRKY SWS/TOM/LET ORG'}, {'SALAD FRESH SPRING SAU\\\\D': 'SALAD SPRING W/ VNGRT DRSSNG'}, {'Strawberry Parfait': 'YOGURT STRAWBERRY PARFAIT'}, {'FRUIT MIX': 'FRUIT MIX STRAW/PIN/GRP FRSH'}, {'SANDWICH FRESH TURKEY': 'SANDWICH TRKY SWS/TOM/LET ORG'}]\n",
            "825\n"
          ]
        },
        {
          "output_type": "stream",
          "name": "stderr",
          "text": [
            "Processing Batches: 100%|██████████| 1/1 [00:00<00:00,  3.35it/s]\n"
          ]
        },
        {
          "output_type": "stream",
          "name": "stdout",
          "text": [
            "[{'Frozen': 'CALAMARI RING & TENT FLR DSTD'}, {'Frozen': 'CALAMARI RING &TNT FIRE DSTD'}]\n",
            "826\n"
          ]
        },
        {
          "output_type": "stream",
          "name": "stderr",
          "text": [
            "Processing Batches: 100%|██████████| 1/1 [00:00<00:00,  1.63it/s]\n"
          ]
        },
        {
          "output_type": "stream",
          "name": "stdout",
          "text": [
            "[{'12Z CN 24P DT COKE': 'SODA COKE DIET'}, {'20Z PT 24LS COKE': 'SODA COKE CLS CONTOUR TRAY PK'}, {'20Z PT 24LS DT COKE': 'SODA COKE DIET CLS CONT TRAY P'}]\n",
            "827\n"
          ]
        },
        {
          "output_type": "stream",
          "name": "stderr",
          "text": [
            "Processing Batches: 100%|██████████| 1/1 [00:02<00:00,  2.88s/it]\n"
          ]
        },
        {
          "output_type": "stream",
          "name": "stdout",
          "text": [
            "[{'12Z CN 24P COKE': 'SODA COCA COLA CLS'}, {'12Z CN 24P DT COKE': 'SODA COKE DIET'}, {'12Z CN 24P PB SPRITE': 'SODA SPRITE CANS'}, {'20Z PT 24LS BARQS RTBR': 'SODA ROOT BEER  PET LOOSE'}, {'20Z PT 24LS COKE_CLUB': 'SODA COKE CLS CONTOUR TRAY PK'}, {'20Z PT 24LS DT COKE_CLUB': 'SODA COKE DIET CLS CONT TRAY P'}, {'185Z PT 12LS GLD PK SWT BLK TEA': 'TEA SWEET'}]\n",
            "828\n"
          ]
        },
        {
          "output_type": "stream",
          "name": "stderr",
          "text": [
            "Processing Batches: 100%|██████████| 1/1 [00:00<00:00,  1.62it/s]\n"
          ]
        },
        {
          "output_type": "stream",
          "name": "stdout",
          "text": [
            "[{'SQCT 10LB UNBAKED CHOCOLATE': 'DOUGH COOKIE RUGA CHOC SQR CUT'}, {'SQCT 10LB UNBAKED CINN': 'DOUGH COOKIE RUGA CIN/NUT SQR'}, {'SQCT 10LB UNBAKED RASP RUGALA': 'DOUGH COOKIE RUGA RASP SQR CUT'}]\n",
            "829\n"
          ]
        },
        {
          "output_type": "stream",
          "name": "stderr",
          "text": [
            "Processing Batches: 100%|██████████| 1/1 [00:01<00:00,  1.09s/it]\n"
          ]
        },
        {
          "output_type": "stream",
          "name": "stdout",
          "text": [
            "[{'12Z CN 24P COKE': 'SODA COCA COLA CLS'}, {'12Z CN 24P DT COKE': 'SODA COKE DIET'}, {'20Z PT 24LS BARQS RTBR': 'SODA ROOT BEER  PET LOOSE'}, {'12Z CN 24P PB SPRITE': 'SODA SPRITE CANS'}, {'20Z PT 24LS DAS': 'WATER BOTTLED PET LOOSE DASANI'}]\n",
            "830\n"
          ]
        },
        {
          "output_type": "stream",
          "name": "stderr",
          "text": [
            "Processing Batches: 100%|██████████| 1/1 [00:00<00:00,  3.79it/s]\n"
          ]
        },
        {
          "output_type": "stream",
          "name": "stdout",
          "text": [
            "[{'SPINACH FETA SALMON BURGER': 'SALMON BURGER FETA SPINACH'}, {'SYSCO - TRADITIONAL SMOKED': 'SALMON SMOKED FILLETS'}]\n",
            "831\n"
          ]
        },
        {
          "output_type": "stream",
          "name": "stderr",
          "text": [
            "Processing Batches: 100%|██████████| 1/1 [00:00<00:00,  3.68it/s]\n"
          ]
        },
        {
          "output_type": "stream",
          "name": "stdout",
          "text": [
            "[{'SHORTENING SOY BLEND 35 LB JIB': 'SHORTENING SOY BLEND 35 LB JIB'}, {'SHORTENING FRY 35 LB JIB': 'SHORTENING FRY 35 LB JIB'}]\n",
            "832\n"
          ]
        },
        {
          "output_type": "stream",
          "name": "stderr",
          "text": [
            "Processing Batches: 100%|██████████| 1/1 [00:02<00:00,  2.11s/it]\n"
          ]
        },
        {
          "output_type": "stream",
          "name": "stdout",
          "text": [
            "[{'Panchero Burrito Bag': 'BAG BURRITO'}, {'Pancheros Chip Bag 65x2x8': 'BAG PAPER CHIP'}, {'Pancheros Burrito Foil 14x14': 'FOIL SHEET'}, {'Paper Cup Lid 22oz': 'LID CUP 22 OZ'}, {'Paper Cup Lid 22oz': 'LID CUP 22 OZ'}, {'Die Cut Paperbag 10x6x12': 'BAG PAPER DIECT HNDLE SHPPER'}, {'Die Cut Paperbag 10x6x12': 'BAG PAPER DIECT HNDLE SHPPER'}]\n",
            "833\n"
          ]
        },
        {
          "output_type": "stream",
          "name": "stderr",
          "text": [
            "Processing Batches: 100%|██████████| 5/5 [00:15<00:00,  3.08s/it]\n"
          ]
        },
        {
          "output_type": "stream",
          "name": "stdout",
          "text": [
            "[{'CORN 6-CUT YLW THIN PRE-CUT': 'CHIP TORTILLA CORN YEL 6 CUT'}, {'CORN 4IN WHITE CHIQUITA TORTILLA': 'TORTILLA CORN MINI 4 FRSH'}, {'CORN 6-CUT TRI COLOR PRE-CUT': 'TORTILLA CORN TRI COLR RAW 6C'}, {'CORN 45IN WHITE TAQUITO TORTILLA': 'TORTILLA CORN WHT 4.5IN'}, {'CORN 6IN WHITE MESA TORTILLA': 'TORTILLA CORN WHT 6 MESA'}, {'CORN 6IN WHITE THICK TORTILLA': 'TORTILLA CORN WHT 6IN'}, {'CORN 6IN YLW THICK TORTILLA': 'TORTILLA CORN YEL THICK 6IN'}, {'FLOUR 12IN CHILE TOMATO TORTILLA': 'TORTILLA FLOUR CHILE TOMAT12IN'}, {'FLOUR 8IN TORTILLA': 'TORTILLA FLOUR PRESS 8IN'}, {'FLOUR 10IN BURRITO TORTILLA': 'TORTILLA FLOUR PRSSD 10IN'}, {'FLOUR 12IN GRANDE TORTILLA': 'TORTILLA FLOUR PRSSD 12IN'}, {'FLOUR 14IN GIGANTE TORTILLA': 'TORTILLA FLOUR PRSSD 14IN'}, {'FLOUR 12IN SPINACH TORTILLA': 'TORTILLA FLOUR SPINACH 12'}, {'FLOUR 14IN SPINACH TORTILLA': 'TORTILLA FLOUR SPINACH 14'}, {'FLOUR 10IN WHEAT TORTILLA': 'TORTILLA FLOUR WHEAT 10IN'}, {'FLOUR 6IN TORTILLA': 'TORTILLA FLOUR PRESS 6IN'}, {'FLOUR 12IN WHEAT TORTILLA': 'TORTILLA FLOUR WHEAT 12IN'}]\n",
            "834\n"
          ]
        },
        {
          "output_type": "stream",
          "name": "stderr",
          "text": [
            "Processing Batches: 100%|██████████| 6/6 [00:22<00:00,  3.76s/it]\n"
          ]
        },
        {
          "output_type": "stream",
          "name": "stdout",
          "text": [
            "[{'BEEF STK FRESH SIRLOIN CUBES-': 'STEAK BEEF CUBES 1 135A'}, {'HEREFORD 1881 TENDERLOIN C/C': 'STEAK FILET C\\\\C HERF1881'}, {'1881 TENDERLOIN C/C 10 OZ - 5#': 'STEAK FILET C\\\\C HERF1881'}, {'RESERVE RIBYE BNLS 1TL 12 OZ-12#': 'STEAK RIBEYE BNLS 1TL RSV'}, {'HERF 1881 RIBEYE C\\\\C 16 OZ 0TL': 'STEAK RIBEYE HF1881 OTL 1.50TK'}, {'CLASSIC BALL TIP 6 OZ S - Fully': 'STEAK SIRL BALLTIP HERF'}, {'RESERVE BALL TIP SKND 8 OZ-12#': 'STEAK SIRL BALLTIP SKND RSV'}, {'HEREFORD 1881 SIRLOIN STCC BB': 'STEAK SIRL BSBALL HERF 1881'}, {'CLASSIC SIRLOIN STCC 10 OZ -': 'STEAK SIRL C\\\\C SKND HERF'}, {'CLASSIC SIRLOIN STCC 8 OZ': 'STEAK SIRL C\\\\C SKND HERF'}, {'CLASSIC SIRLOIN STCC 10 OZ-': 'STEAK SIRL C\\\\C 1.25 SKND HERF'}, {'CLASSIC SIRLOIN STCC 6 OZ -': 'STEAK SIRL C\\\\C SKND HERF'}, {'RESERVE SIRLOIN TOP BB SKND': 'STEAK SIRL TOP BSBALL SKND RSV'}, {'RESERVE SIRLOIN TOP C/C 1/4': 'STEAK SIRL TOP C\\\\C 1\\\\4 RSV'}, {'CLASSIC TOP SIRLOIN 6 OZ': 'STEAK SIRL TOP HERF'}, {'RESERVE SIRLOIN TOP 2/3 CUT': 'STEAK SIRL TOP 2\\\\3CUT SKND RSV'}, {'CLASSIC TOP SIRLOIN 10 OZ': 'STEAK SIRLOIN TOP HERF'}, {'1881 HERF NY STRIP CC 14 0Z 0TL': 'STEAK STRIP C\\\\C 0TL H81 1.25TK'}, {'CLASSIC NY STRIP CC 12 OZ': 'STEAK STRIP C\\\\C 1TL HERF'}]\n",
            "835\n"
          ]
        },
        {
          "output_type": "stream",
          "name": "stderr",
          "text": [
            "Processing Batches: 100%|██████████| 1/1 [00:00<00:00,  1.71it/s]\n"
          ]
        },
        {
          "output_type": "stream",
          "name": "stdout",
          "text": [
            "[{'PUREE SAUSAGE SHP': 'PUREE SAUSAGE SHP T&E'}, {'PUREE SAUSAGE SHP': 'PUREE SAUSAGE SHP T&E'}, {'PUREE SAUSAGE SHP': 'PUREE SAUSAGE SHP T&E'}]\n",
            "836\n"
          ]
        },
        {
          "output_type": "stream",
          "name": "stderr",
          "text": [
            "Processing Batches: 100%|██████████| 1/1 [00:00<00:00,  1.57it/s]\n"
          ]
        },
        {
          "output_type": "stream",
          "name": "stdout",
          "text": [
            "[{'W/D Slider Patty - WG CN': 'CHICKEN PTY BRD SLDR WHLGRN'}, {'WM Spicy Fillet - WG': 'CHICKEN BRST FIL 4Z FC SPICY'}, {'W/D Popcorn - WG CN': 'CHICKEN POPCORN BRD WG'}]\n",
            "837\n"
          ]
        },
        {
          "output_type": "stream",
          "name": "stderr",
          "text": [
            "Processing Batches: 100%|██████████| 1/1 [00:00<00:00,  3.53it/s]\n"
          ]
        },
        {
          "output_type": "stream",
          "name": "stdout",
          "text": [
            "[{'SOUP CRAB RIP': 'SOUP CRAB RIP ROARIN'}, {'SAUCE SCAMPI RTU': 'SAUCE SCAMPI RTU'}]\n",
            "838\n"
          ]
        },
        {
          "output_type": "stream",
          "name": "stderr",
          "text": [
            "Processing Batches: 100%|██████████| 1/1 [00:00<00:00,  2.21it/s]\n"
          ]
        },
        {
          "output_type": "stream",
          "name": "stdout",
          "text": [
            "[{'Napkin Band Burgundy 15 x 425- SYSCO': 'BAND NAPKIN PAPR 1.5X4.25 BURG'}, {'Napkin_Band Hunter Green 15 x 425- SYSCO': 'BAND NAPKIN 1.5X4.25 HTR GREEN'}]\n",
            "839\n"
          ]
        },
        {
          "output_type": "stream",
          "name": "stderr",
          "text": [
            "Processing Batches: 100%|██████████| 4/4 [00:14<00:00,  3.73s/it]\n"
          ]
        },
        {
          "output_type": "stream",
          "name": "stdout",
          "text": [
            "[{'CAB STK CHUCK FLAT IRON NORD': 'STEAK CHUCK FLAT IRON NDSTM'}, {'CAB PRM RIBEYE BNLS 1TL H/S Z': 'STEAK RIBEYE BNLS 1TL PR H\\\\S'}, {'CAB STK COWBOY RIB B-IN 16-18Z 8OZ': 'STEAK RIBEYE B\\\\I FRNCH'}, {'VEAL EYE RND MEDALLION': 'VEAL EYE RND MEDALLION BBRG'}, {'BEEF TENDER PTR BCH PRF 2PC G': 'BEEF TENDER PSMO BCH PRF'}, {'BEEF TENDER BCH PRF 4PC REBOX': 'BEEF TENDER PSMO BCH PRF'}, {'BEEF BONE 3 CANOE SPLIT FROZ': 'BEEF BONE MARROW 3SPLT FZ'}, {'STK TENDER FILET CC BCH PRF': 'STEAK FILET C/C BCH PRF'}, {'CAB STEAK SKIRT OUTSIDE NORD': 'STEAK SKIRT OUTSDE NDSTM'}, {'STK FILET CC SEL 75Z MAGGIAN': 'STEAK FILET C\\\\C SEL MAGG'}, {'BEEF DICED STEAK FINE FROZEN': 'BEEF DICED STEAK FINE FRZN'}, {'STK TOP BUTT BASEBALL PRIME 6OZ': 'STEAK SIRL TOP BSBALL SKND PR'}, {'STK HANGER TENDER CAB CAB': 'STEAK HANGER TENDER'}, {'BACON IRISH BRAND': 'BACON IRISH BRAND'}, {'BEEF SIRLOIN TIPS 1/4X1/4 FRSH': 'BEEF SIRLOIN TIP 1\\\\4X1\\\\4'}]\n",
            "840\n"
          ]
        },
        {
          "output_type": "stream",
          "name": "stderr",
          "text": [
            "Processing Batches: 100%|██████████| 1/1 [00:01<00:00,  1.52s/it]\n"
          ]
        },
        {
          "output_type": "stream",
          "name": "stdout",
          "text": [
            "[{'HC Plus Diet Cranberry Juice Cups 96/4oz': 'JUICE CRANBERRY DIET'}, {'HC Plus Orange Juice Cups 96/4oz': 'JUICE ORANGE STABLE'}, {'HC Plus Grape Juice Cups 96/4oz': 'JUICE GRAPE SHELF STABLE'}, {'HC Plus 15% Cranberry Juice Cups 96/4oz': 'JUICE CRANBERRY 15% SS CUP'}, {'HC Plus Prune Juice Cups 96/4oz': 'JUICE PRUNE 100% SHELF STABLE'}]\n",
            "841\n"
          ]
        },
        {
          "output_type": "stream",
          "name": "stderr",
          "text": [
            "Processing Batches: 100%|██████████| 1/1 [00:02<00:00,  2.17s/it]\n"
          ]
        },
        {
          "output_type": "stream",
          "name": "stdout",
          "text": [
            "[{'HC Plus Apple Juice Cups 96/4oz': 'JUICE APPLE SHELF STABLE'}, {'HC Plus Diet Cranberry Juice Cups': 'JUICE CRANBERRY DIET'}, {'HC Plus 15% Cranberry Juice Cups': 'JUICE CRANBERRY 15% SS CUP'}, {'HC Plus Grape Juice Cups 96/4oz': 'JUICE GRAPE SHELF STABLE'}, {'HC Plus Orange Juice Cups 96/4oz': 'JUICE ORANGE STABLE'}, {'HC Plus Prune Juice Cups 96/4oz': 'JUICE PRUNE 100% SHELF STABLE'}]\n",
            "842\n"
          ]
        },
        {
          "output_type": "stream",
          "name": "stderr",
          "text": [
            "Processing Batches: 100%|██████████| 1/1 [00:01<00:00,  1.75s/it]\n"
          ]
        },
        {
          "output_type": "stream",
          "name": "stdout",
          "text": [
            "[{'HC Plus Orange Juice Cups 96/4oz': 'JUICE ORANGE STABLE'}, {'HC Plus Grape Juice Cups 96/4oz': 'JUICE GRAPE SHELF STABLE'}, {'HC Plus Apple Juice Cups 96/4oz': 'JUICE APPLE SHELF STABLE'}, {'HC Plus 15% Cranberry Juice Cups 96/4oz': 'JUICE CRANBERRY 15% SS CUP'}, {'HC Plus Prune Juice Cups 96/4oz': 'JUICE PRUNE 100% SHELF STABLE'}]\n",
            "843\n"
          ]
        },
        {
          "output_type": "stream",
          "name": "stderr",
          "text": [
            "Processing Batches: 100%|██████████| 1/1 [00:00<00:00,  1.90it/s]\n"
          ]
        },
        {
          "output_type": "stream",
          "name": "stdout",
          "text": [
            "[{'IQF Blackberries': 'BLUEBERRY CULT IQF'}, {'IQF Blueberries': 'BLACKBERRY IQF'}, {'IQF Raspberry Crumble': 'RASPBERRY RED CRUMBLES'}]\n",
            "844\n"
          ]
        },
        {
          "output_type": "stream",
          "name": "stderr",
          "text": [
            "Processing Batches: 100%|██████████| 1/1 [00:00<00:00,  2.71it/s]\n"
          ]
        },
        {
          "output_type": "stream",
          "name": "stdout",
          "text": [
            "[{'DDD DIY DIRTY SIX BOX 1-': 'BOX COOKIE 6CT BLUE CSTM'}, {'DDD DIY DIRTY SINGLE BOX 1-': 'BOX COOKIE SINGLE BLUE CSTM'}]\n",
            "845\n"
          ]
        },
        {
          "output_type": "stream",
          "name": "stderr",
          "text": [
            "Processing Batches: 100%|██████████| 1/1 [00:00<00:00,  1.30it/s]\n"
          ]
        },
        {
          "output_type": "stream",
          "name": "stdout",
          "text": [
            "[{'BEEF BONE 3 PIPE CUT FROZENBEEF CHUCK FLAP MEAT': 'BEEF BONE MARROW 3IN CUT FRZN'}, {'STK TENDER FILET CC BCH PRF': 'STEAK FILET C\\\\C BCH PRF LINE'}, {'CAB STEAK RIBEYE B/IN REDS': 'STEAK RIBEYE B\\\\I REDSTKH'}]\n",
            "846\n"
          ]
        },
        {
          "output_type": "stream",
          "name": "stderr",
          "text": [
            "Processing Batches: 100%|██████████| 1/1 [00:00<00:00,  3.08it/s]\n"
          ]
        },
        {
          "output_type": "stream",
          "name": "stdout",
          "text": [
            "[{'Bag - 100 GSM - White Paper Twist Handle': 'BAG PAPER WHT HDL 10X7X12 LOGO'}, {'Flat Straw Slot 12-24 oz Clear PET Lid - 98mm': 'LID FLAT STRW SLOT 12-24OZ CLR'}]\n",
            "847\n"
          ]
        },
        {
          "output_type": "stream",
          "name": "stderr",
          "text": [
            "Processing Batches: 100%|██████████| 1/1 [00:00<00:00,  3.59it/s]\n"
          ]
        },
        {
          "output_type": "stream",
          "name": "stdout",
          "text": [
            "[{'24/6 oz Anas Relleno Chili': 'RELLENO CHILE'}, {'1/50 ct MINI Anas Chili Relleno i': 'RELLENO CHILI MINI'}]\n",
            "848\n"
          ]
        },
        {
          "output_type": "stream",
          "name": "stderr",
          "text": [
            "Processing Batches: 100%|██████████| 1/1 [00:00<00:00,  1.79it/s]\n"
          ]
        },
        {
          "output_type": "stream",
          "name": "stdout",
          "text": [
            "[{'Napkin Band Hunter Green 15 x 425- SYSCO': 'BAND NAPKIN 1.5X4.25 HTR GREEN'}, {'Napkin Band White 15 x 425- SYSCO': 'BAND NAPKIN PAPR 1.5X4.25 WHT'}, {'Napkin Band Burgundy 15 x 425- SYSCO': 'BAND NAPKIN PAPR 1.5X4.25 BURG'}]\n",
            "849\n"
          ]
        },
        {
          "output_type": "stream",
          "name": "stderr",
          "text": [
            "Processing Batches: 100%|██████████| 1/1 [00:00<00:00,  3.44it/s]\n"
          ]
        },
        {
          "output_type": "stream",
          "name": "stdout",
          "text": [
            "[{'Napkin Band Hunter Green 15 x 425- SYSCO': 'BAND NAPKIN 1.5X4.25 HTR GREEN'}, {'Napkin_Band White 15 x 425- SYSCO': 'BAND NAPKIN PAPR 1.5X4.25 WHT'}]\n",
            "850\n"
          ]
        },
        {
          "output_type": "stream",
          "name": "stderr",
          "text": [
            "Processing Batches: 100%|██████████| 1/1 [00:00<00:00,  3.47it/s]\n"
          ]
        },
        {
          "output_type": "stream",
          "name": "stdout",
          "text": [
            "[{'19 OZ GB PATTY NT 3325': 'BEEF GROUND 1.9 OZ PATTY V2'}, {'4 OZ THICK GB PATTY NET 40': 'BEEF GROUND 4 OZ PATTY'}]\n",
            "851\n"
          ]
        },
        {
          "output_type": "stream",
          "name": "stderr",
          "text": [
            "Processing Batches: 100%|██████████| 1/1 [00:00<00:00,  3.66it/s]\n"
          ]
        },
        {
          "output_type": "stream",
          "name": "stdout",
          "text": [
            "[{'SOUTHWEST 65% 3oz': 'CRAB CAKE SOUTHWEST 65% 3OZ'}, {'SOUTHWEST 65% 3oz': 'CRAB CAKE SOUTHWEST 65% 3OZ'}]\n",
            "852\n"
          ]
        },
        {
          "output_type": "stream",
          "name": "stderr",
          "text": [
            "Processing Batches: 100%|██████████| 1/1 [00:01<00:00,  1.89s/it]\n"
          ]
        },
        {
          "output_type": "stream",
          "name": "stdout",
          "text": [
            "[{'SAUCE CHEESE JALAPENO NACHO': 'SAUCE CHEESE JALAPENO NACHO'}, {'SEASONING POPCORN RANCH 1111': 'SEASONING POPCORN RANCH'}, {'COCONUT SHRD FCY SWEETENED': 'COCONUT SHRD FCY SWEETENED'}, {'GOLDMDL FLOUR WONDRA': 'FLOUR WONDRA'}, {'BREAD FLAT OVAL 13 X 5': 'BREAD FLAT OVAL 13 X 5'}, {'EMPANADA DOUGH DISC 7': 'EMPANADA DOUGH DISC 7'}]\n",
            "853\n"
          ]
        },
        {
          "output_type": "stream",
          "name": "stderr",
          "text": [
            "Processing Batches: 100%|██████████| 1/1 [00:00<00:00,  1.34it/s]\n"
          ]
        },
        {
          "output_type": "stream",
          "name": "stdout",
          "text": [
            "[{'PIE APPLE FRIED (SYSCO)': 'PIE APPLE FRIED'}, {'PIE PEACH FRIED (SYSCO)': 'PIE PEACH FRIED'}, {'PIE CHERRY FRIED (SYSCO)': 'PIE CHERRY FRIED'}, {'PIE CHOCOLATE FRIED (SYSCO)': 'PIE CHOCOLATE FRIED'}]\n",
            "854\n"
          ]
        },
        {
          "output_type": "stream",
          "name": "stderr",
          "text": [
            "Processing Batches: 100%|██████████| 7/7 [00:19<00:00,  2.80s/it]\n"
          ]
        },
        {
          "output_type": "stream",
          "name": "stdout",
          "text": [
            "[{'PRETZEL BITE SOFTVEGAN': 'PRETZEL BITE SOFT VEGAN'}, {'PUREE BLOODORANGE NO': 'PUREE BLOOD ORANGE NO SGR ADD'}, {'PUREE PASSION FRTFRZN': 'PUREE PASSION FRT FRZN'}, {'CAKE ALMONDTOASTED CREAM': 'CAKE ALMOND TOASTED CREAM'}, {'BREAD LOAFMULTIGRN': 'BREAD LOAF MULTIGRN CLASSIC'}, {'SYRUP BLACKBERRYPET': 'SYRUP BLACKBERRY PET'}, {'BAG PASTRY 18 KEE': 'BAG PASTRY 18 KEE'}, {'TOMATO CHERRYRSTD': 'TOMATO CHERRY RED RSTD'}, {'SAUCE HOT SRIRACHA28OZ': 'SAUCE HOT SRIRACHA 28OZ'}, {'CHERRY BING BADA': 'CHERRY BING BADA'}, {'CROISSANT BUTTERSML PREPROOF': 'CROISSANT BUTTER SML PREPROOF'}, {'CROISSANT HAM STFD': 'CROISSANT HAM STFD'}, {'DIP HUMMUS CHEFPCH CLS RECIPE': 'DIP HUMMUS CHEF PCH CLS RECIPE'}, {'CHEESE GOATCRUMBLES': 'CHEESE GOAT CRUMBLES'}, {'OIL POMACE OLD STYBLEND': 'OIL POMACE OLD STY BLEND'}, {'PALM HEART WHL': 'PALM HEART WHL'}, {'PASTA BUCATINI': 'PASTA BUCATINI'}, {'PASTA PAPPARDELLEEGG': 'PASTA PAPPARDELLE EGG'}, {'GRAIN SPECIALTYQUINOA': 'GRAIN SPECIALTY QUINOA'}, {'NECTAR PEACH': 'NECTAR PEACH'}]\n",
            "855\n"
          ]
        },
        {
          "output_type": "stream",
          "name": "stderr",
          "text": [
            "Processing Batches: 100%|██████████| 1/1 [00:00<00:00,  1.90it/s]\n"
          ]
        },
        {
          "output_type": "stream",
          "name": "stdout",
          "text": [
            "[{'BROCCOLI FZN US GRA': 'BROCCOLI FLORET FZ USA  GRD A'}, {'CAULIFLOWER FZN US GRA': 'CAULIFLOWER FRZN USA  GRDE A'}, {'BRUSSELS SPROUTS US GR A': 'BRUSSEL SPROUT FROZEN'}]\n",
            "856\n"
          ]
        },
        {
          "output_type": "stream",
          "name": "stderr",
          "text": [
            "Processing Batches: 100%|██████████| 1/1 [00:00<00:00,  3.65it/s]\n"
          ]
        },
        {
          "output_type": "stream",
          "name": "stdout",
          "text": [
            "[{'HT88805 CHICKEN DARK MEAT': 'CHICKEN CUBE DARK MEAT BTTRD'}, {'Sauce Asian Lo Mein Frozen': 'SAUCE ASIAN LO MEIN FRZN'}]\n",
            "857\n"
          ]
        },
        {
          "output_type": "stream",
          "name": "stderr",
          "text": [
            "Processing Batches: 100%|██████████| 1/1 [00:00<00:00,  4.18it/s]\n"
          ]
        },
        {
          "output_type": "stream",
          "name": "stdout",
          "text": [
            "[{'CLEANER FLOOR': 'CLEANER FLOOR ALKLNE NO RINSE'}, {'CLEANER FLOOR': 'CLEANER FLOOR ALKLNE NO RINSE'}]\n",
            "858\n"
          ]
        },
        {
          "output_type": "stream",
          "name": "stderr",
          "text": [
            "Processing Batches: 100%|██████████| 1/1 [00:00<00:00,  2.16it/s]\n"
          ]
        },
        {
          "output_type": "stream",
          "name": "stdout",
          "text": [
            "[{'TP VENISON CHILI SEASONING': 'SEASONING CHILI VENISON'}, {'TWIN PEAKS FRY SEASONING': 'SEASONING FRY'}, {'LEMON PEPPER WING SEASONING': 'SEASONING LEMON PPR WING'}]\n",
            "859\n"
          ]
        },
        {
          "output_type": "stream",
          "name": "stderr",
          "text": [
            "Processing Batches: 100%|██████████| 1/1 [00:00<00:00,  2.48it/s]\n"
          ]
        },
        {
          "output_type": "stream",
          "name": "stdout",
          "text": [
            "[{'GROUND CHICKEN 50/50 W/D20#cs': 'CHICKEN GROUND BULK'}, {'HALF EURO CHICKEN W/WING 1/VAC': 'CHICKEN HALF SEMI BNLS'}]\n",
            "860\n"
          ]
        },
        {
          "output_type": "stream",
          "name": "stderr",
          "text": [
            "Processing Batches: 100%|██████████| 1/1 [00:00<00:00,  2.38it/s]\n"
          ]
        },
        {
          "output_type": "stream",
          "name": "stdout",
          "text": [
            "[{'HADDOCK - FILLET 10/12 oz SKIN ON Wild': 'HADDOCK FIL SK-ON 10-12Z FRESH'}, {'HADDOCK - PF FILLET 8/10 oz SKIN ON': 'HADDOCK FIL SK-ON 8-10OZ PF'}]\n",
            "861\n"
          ]
        },
        {
          "output_type": "stream",
          "name": "stderr",
          "text": [
            "Processing Batches: 100%|██████████| 1/1 [00:01<00:00,  1.16s/it]\n"
          ]
        },
        {
          "output_type": "stream",
          "name": "stdout",
          "text": [
            "[{'28 Pizza Bar WK C 1 7/8 1': 'BOX PIZZA 28 W/K B-FLT 2'}, {'16 COAST TO COAST WK7/11': 'BOX PIZZA B FLT W/K LOGO'}, {'15 x 10 COAST TO COAST7/17': 'BOX PIZZA B FLT K/K LOGO'}, {'16 FIALKOFFS PIZZA WK': 'BOX PIZZA B FLT W/K LOGO'}]\n",
            "862\n"
          ]
        },
        {
          "output_type": "stream",
          "name": "stderr",
          "text": [
            "Processing Batches: 100%|██████████| 1/1 [00:00<00:00,  2.62it/s]\n"
          ]
        },
        {
          "output_type": "stream",
          "name": "stdout",
          "text": [
            "[{'COD - FILLET 12/24 oz ICELANDIC W': 'COD FIL MKT FRESH'}, {'SALMON - FILLET 3-4 FAROE ISLAND': 'SALMON FIL FAROE ISLD 3-4'}]\n",
            "863\n"
          ]
        },
        {
          "output_type": "stream",
          "name": "stderr",
          "text": [
            "Processing Batches: 100%|██████████| 1/1 [00:01<00:00,  1.18s/it]\n"
          ]
        },
        {
          "output_type": "stream",
          "name": "stdout",
          "text": [
            "[{'PF MARKET COD FILLET - WILD CAUGHT': 'COD FIL REFRESHED 12OZ-UP'}, {'COD - FILLET SCROD Wild Caught': 'COD SCROD FILET SKINLESS FRESH'}, {'25 LB PLASTIC BASE': 'CONTAINER FOOD FISH TUBS'}, {'HADDOCK - FILLET SCROD SKINLESS Wild': 'HADDOCK FILET SKINLESS FRESH'}]\n",
            "864\n"
          ]
        },
        {
          "output_type": "stream",
          "name": "stderr",
          "text": [
            "Processing Batches: 100%|██████████| 1/1 [00:01<00:00,  1.20s/it]\n"
          ]
        },
        {
          "output_type": "stream",
          "name": "stdout",
          "text": [
            "[{'HC Plus Orange Juice Cups 96/4oz': 'JUICE ORANGE STABLE'}, {'HC Plus Grape Juice Cups 96/4oz': 'JUICE GRAPE SHELF STABLE'}, {'HC Plus Apple Juice Cups 96/4oz': 'JUICE APPLE SHELF STABLE'}, {'HC Plus 15% Cranberry Juice Cups 96/4oz': 'JUICE CRANBERRY 15% SS CUP'}]\n",
            "865\n"
          ]
        },
        {
          "output_type": "stream",
          "name": "stderr",
          "text": [
            "Processing Batches: 100%|██████████| 5/5 [00:19<00:00,  3.91s/it]\n"
          ]
        },
        {
          "output_type": "stream",
          "name": "stdout",
          "text": [
            "[{'BEEF RIBEYE EXPORT CH 16UP': 'BEEF RIBEYE EXPORT CH'}, {'BEEF SHOULDER TERES MAJOR': 'BEEF SHOULDER TERES MAJOR'}, {'BEEF SIRLN BALLTIP V4 GRNDRND': 'BEEF SIRL BALLTIP FAJMN GRR'}, {'BEEF SIRLN TIPS 15 X 15 FR': 'BEEF SIRLOIN TIPS GR\\\\RN'}, {'CAB BEEF STRIPLOIN 0X1 STK RDY': 'BEEF STRIP LOIN BNLS 0X1 CAB'}, {'BEEF TENDERLOIN 190 SILVER': 'BEEF TENDERLOIN KOBE SLV 190'}, {'STK TENDER FILET BARREL CH 8OZ OZ': 'STEAK FILET BRL CH'}, {'STK RIBEYE BNLS 1TL CH 12OZ': 'STEAK RIBEYE BNLS 1TL CH'}, {'CAB PRM RIBEYE BNLS 1TL H/S Z': 'STEAK RIBEYE BNLS 1TL PR H\\\\S'}, {'TOP BUTT BBC FAT-OFF BCH PRF 8OZ': 'STEAK SIRL TOP BSBALL BCH PRF'}, {'STEAK RIBEYE BNLS 1TL CH 6PC': 'STEAK RIBEYE BNLS 1TL CH'}, {'STEAK CULOTTE CAP PRIME 10OZ': 'STEAK SIRL CAP PR'}, {'PORK DICED 1/4X1/4 85 FRSH': 'PORK DICED 1\\\\4X1\\\\4 85% FRSH'}, {'PORK RIB COUNTRY STYLE BNLS 5 OZ': 'PORK RIB CNTRY STY BNLS'}, {'STK STRIP CC 1TL ST-OFF SEL 14OZ': 'STEAK STRIP C\\\\C 1TL BSO SEL'}, {'BEEF RIBEYE LIP-ON 2X2 CH 13UP 1PC': 'BEEF RIBEYE LIPON CH'}, {'CAB STEAK STRIP CC 1TL ST-ON 12OZ': 'STEAK STRIP C\\\\C 1TL'}]\n",
            "866\n"
          ]
        },
        {
          "output_type": "stream",
          "name": "stderr",
          "text": [
            "Processing Batches: 100%|██████████| 1/1 [00:01<00:00,  1.02s/it]\n"
          ]
        },
        {
          "output_type": "stream",
          "name": "stdout",
          "text": [
            "[{'PRM BEEF RIBEYE BI 2X2 ELITE': 'BEEF RIBEYE B\\\\I 2X2 PRIME'}, {'PRM BEEF RIBEYE LIPON ELITE': 'BEEF RIBEYE LIPON 2X2 PR'}, {'PRM STRIPLOIN BNLS CC ELITE': 'BEEF STRIP BNLS C/C 0X1/2 PR'}, {'PRM BEEF TENDERLOIN PLD ELITE': 'BEEF TENDERLOIN PLD PR'}]\n",
            "867\n"
          ]
        },
        {
          "output_type": "stream",
          "name": "stderr",
          "text": [
            "Processing Batches: 100%|██████████| 1/1 [00:00<00:00,  3.45it/s]\n"
          ]
        },
        {
          "output_type": "stream",
          "name": "stdout",
          "text": [
            "[{'DRESSING RANCH FAT FREE': 'DRESSING RANCH FAT FREE'}, {'KIT CUTLERY FKS/SP/NP HW': 'KIT CUTLERY FKS/SP/NP HW PP BK'}]\n",
            "868\n"
          ]
        },
        {
          "output_type": "stream",
          "name": "stderr",
          "text": [
            "Processing Batches: 100%|██████████| 1/1 [00:00<00:00,  1.07it/s]\n"
          ]
        },
        {
          "output_type": "stream",
          "name": "stdout",
          "text": [
            "[{'275#AVBLIMPIE HAM CAPICOLA HOT': 'HAM CAPICOLA HOT WHL'}, {'211#AVGBLIMPIE HAM COOKED WHL': 'HAM COOKED WHL'}, {'255#AVKAHALA HAM PROSCUITTINI': 'HAM PROSCUITTINI PPRD WHL'}, {'213#AVGKAHALA TURKEY BRST SLI': 'TURKEY BRST SLI LOG OVN BRWND'}]\n",
            "869\n"
          ]
        },
        {
          "output_type": "stream",
          "name": "stderr",
          "text": [
            "Processing Batches: 100%|██████████| 1/1 [00:01<00:00,  1.52s/it]\n"
          ]
        },
        {
          "output_type": "stream",
          "name": "stdout",
          "text": [
            "[{'ROOT BEER': 'SODA ROOT BEER CAN'}, {'VANILLAGROUP': 'SODA VANILLA CREME AGAVE CAN'}, {'FOAM 44OZ': 'CUP FOAM 44OZ FIXXOLOGY'}, {'FOAM 20OZGROUPBEVERAGE': 'CUP FOAM 20OZ FIXXOLOGY'}, {'AGAVE VAN': 'SYRUP AGAVE VAN CREME'}, {'SODA ROOT': 'SYRUP SODA ROOT BEER'}]\n",
            "870\n"
          ]
        },
        {
          "output_type": "stream",
          "name": "stderr",
          "text": [
            "Processing Batches: 100%|██████████| 1/1 [00:00<00:00,  3.28it/s]\n"
          ]
        },
        {
          "output_type": "stream",
          "name": "stdout",
          "text": [
            "[{'Non Produce MCAL LRGE C-Out 19 x 375 500 ct': 'BAG PLAS LARGE C OUT 19X3.75'}, {'Non Produce Straw 1025in Giant Red New MCA 4/500 ct': 'STRAW PLAS RED GNT 10.25 WRAPD'}]\n",
            "871\n"
          ]
        },
        {
          "output_type": "stream",
          "name": "stderr",
          "text": [
            "Processing Batches: 100%|██████████| 1/1 [00:00<00:00,  3.19it/s]\n"
          ]
        },
        {
          "output_type": "stream",
          "name": "stdout",
          "text": [
            "[{'SALMON ATL FLT 2-3# S/L': 'SALMON ATL FLT SKLS 2-3 LB CDN'}, {'SALMON ATL FLT 3-4#S/L': 'SALMON ATL FIL SKLS 3-4 LB CAN'}]\n",
            "872\n"
          ]
        },
        {
          "output_type": "stream",
          "name": "stderr",
          "text": [
            "Processing Batches: 100%|██████████| 2/2 [00:06<00:00,  3.01s/it]\n"
          ]
        },
        {
          "output_type": "stream",
          "name": "stdout",
          "text": [
            "[{'BRANZINO BFLY 8-10 OZ': 'BASS SEA BFLY BRANZINO 8-10 OZ'}, {'CLAM PASTANECK LIVE': 'CLAM LITTLENECK LIVE FARM'}, {'HALIBUT FIL 3/8# S/LESS': 'HALIBUT FIL SKLS 3-8LB'}, {'HALIBUT PORTION REGULAR': 'HALIBUT PRTN REG SKLS 8 OZ'}, {'HAMACHI FIL S/ON': 'HAMACHI FILET S/ON YELLOWTAIL'}, {'LOBSTER LIVE 125-15#': 'LOBSTER LIVE 1.25-1.5LB (QTRS)'}, {'OYSTER EASTERN INSHELL': 'OYSTER INSHELL BLUEPOINT'}, {'SALMON ATL FLT 3-4#S/L': 'SALMON ATL FIL E-TRIM 3-4# CHL'}, {'SALMON ATL PRTN SKNLS': 'SALMON ATL PRTN CC SKNLS 8OZ'}, {'TUNA AHI #1 C/C LOIN': 'TUNA LOIN #1 C/C SKLS BLO'}]\n",
            "873\n"
          ]
        },
        {
          "output_type": "stream",
          "name": "stderr",
          "text": [
            "Processing Batches: 100%|██████████| 1/1 [00:00<00:00,  2.84it/s]\n"
          ]
        },
        {
          "output_type": "stream",
          "name": "stdout",
          "text": [
            "[{'SUGAR BEET CONFECTIONER': 'SUGAR BEET CONFECTIONER 10X'}, {'SUGAR GRANULATED XFINE': 'SUGAR GRANULATED XFINE BEET'}]\n",
            "874\n"
          ]
        },
        {
          "output_type": "stream",
          "name": "stderr",
          "text": [
            "Processing Batches: 100%|██████████| 1/1 [00:01<00:00,  1.34s/it]\n"
          ]
        },
        {
          "output_type": "stream",
          "name": "stdout",
          "text": [
            "[{'BEEF RIBEYE LIPON SEL 15#DN': 'BEEF RIBEYE LIPON SEL'}, {'PORK CHOP B/IN LNGBN FRN': 'PORK CHOP LNGBN FRCHD DUROC'}, {'BEEF PECTORAL STRIPS MARN': 'BEEF PECTORAL STRIPS MRNATD'}, {'STK TENDER FILET CC RSV 8OZ': 'STEAK FILET C\\\\C RSV'}]\n",
            "875\n"
          ]
        },
        {
          "output_type": "stream",
          "name": "stderr",
          "text": [
            "Processing Batches: 100%|██████████| 1/1 [00:00<00:00,  2.75it/s]\n"
          ]
        },
        {
          "output_type": "stream",
          "name": "stdout",
          "text": [
            "[{'PALLET COOLER JIMMY JOHN': 'PALLET COOLER JIMMY JOHN'}, {'PALLET FROZEN JIMMY JOHN': 'PALLET FROZEN JIMMY JOHN'}]\n",
            "876\n"
          ]
        },
        {
          "output_type": "stream",
          "name": "stderr",
          "text": [
            "Processing Batches: 100%|██████████| 1/1 [00:03<00:00,  3.11s/it]\n"
          ]
        },
        {
          "output_type": "stream",
          "name": "stdout",
          "text": [
            "[{'BAG PAPER 1/7 KRAFTBBL': 'BAG PAPER 1/7 KRAFT BBL'}, {'BAG PAPER KRAFTRCL 12# LOGO': 'BAG PAPER KRAFT RCL 12# LOGO'}, {'BAG PAPER KRAFT DIECUT LOGO': 'BAG PAPER KRAFT DIE CUT LOGO'}, {'BAG PAPER LG HNDLJERSEY MIKE': 'BAG PAPER LG HNDL JERSEY MIKE'}, {'BAG PAPER SM HNDLJERSEY MIKE': 'BAG PAPER SM HNDL JERSEY MIKE'}, {'BAG PAPER SM HNDLJERSEY MIKE': 'BAG PAPER SM HNDL JERSEY MIKE'}, {'BAG PAPER LG HNDLJERSEY MIKE': 'BAG PAPER LG HNDL JERSEY MIKE'}]\n",
            "877\n"
          ]
        },
        {
          "output_type": "stream",
          "name": "stderr",
          "text": [
            "Processing Batches: 100%|██████████| 4/4 [00:10<00:00,  2.60s/it]\n"
          ]
        },
        {
          "output_type": "stream",
          "name": "stdout",
          "text": [
            "[{'CAP FRUIT PUREE MANGO': 'PUREE MANGO FRZN'}, {'SAUSAGE MILD ITAL GROUND BULK': 'SAUSAGE GROUND ITAL MILD FRZ'}, {'SAUSAGE ITALIAN LINKS BULK': 'SAUSAGE LINK ITAL 4 OZ'}, {'CHAT ROYL SAUS ELK APPLES': 'SAUSAGE ELK W/ APPLE AND PEAR'}, {'BERTAGNI RAV PORCINI & TRUFFL': 'RAVIOLI MUSHROOM PRCINI TRUFFL'}, {'CUCINA VIVA RSTD RED TOM SEGME': 'TOMATO RED RSTD SEGMENTS'}, {'BEURREMONT BUTTER SHEET': 'BUTTER BULK SHEET 82% 12 X 8.5'}, {'NATS VEGAN CAKE MANGO LIME': 'DESSERT FROZEN VEGAN LM MANGO'}, {'NATS VEGAN CAKE TIRAMISU': 'DESSERT FROZEN VEGAN TIRAMISU'}, {'LE CHIC MINI DUTCH PANCAKES': 'PANCAKE PLAIN MINI DUTCH'}, {'SUPC 7214739': 'BACON PEPPERED BULK'}, {'PRETZILLA SOFT PRETZEL BITES': 'PRETZEL BITE SOFT VEGAN'}, {'PRETZILLA SLIDER MINI BUN': 'PRETZEL SOFT MNI SLDR BN VEGAN'}, {'PRETZILLA SOFT BURGER BUN': 'PRETZEL SOFT BURGER BUN VEGAN'}]\n",
            "878\n"
          ]
        },
        {
          "output_type": "stream",
          "name": "stderr",
          "text": [
            "Processing Batches: 100%|██████████| 1/1 [00:05<00:00,  5.24s/it]\n"
          ]
        },
        {
          "output_type": "stream",
          "name": "stdout",
          "text": [
            "[{'FONTINA FONTAL 1/2 WHEEL': 'CHEESE FONTINA FONTAL'}, {'KEWPIE DRSG YUZU KOSHO FOODSE': 'DRESSING JAPNSE YUZU & KOSHO'}, {'LA GRUTA MANCHEGO 12 MONTH': 'CHEESE MANCHEGO 12 MONTH'}, {'BONNE LEMON TARTLETS': 'TARTLET LEMON'}, {'BONNE CHOC CARAMEL TARTLETS': 'TARTLET CHOCOLATE CARAMEL'}, {'DOK DALLAVA SAN DANIELE HAM': 'HAM BONELESS SAN DANIELE'}, {'DIVINA MUFFULETTA OLIVE SALAD': 'OLIVE SALAD MUFFULETTA'}, {'HARIBO MEGA-ROULETTE': 'CANDY GUMMY MEGA-ROULETTE'}]\n",
            "879\n"
          ]
        },
        {
          "output_type": "stream",
          "name": "stderr",
          "text": [
            "Processing Batches: 100%|██████████| 1/1 [00:02<00:00,  2.01s/it]\n"
          ]
        },
        {
          "output_type": "stream",
          "name": "stdout",
          "text": [
            "[{'LOBSTER RAW MAINE BODIES NO': 'LOBSTER BODIES FROZEN'}, {'SALMON FILLET 3-4# D-TRIM': 'SALMON ATL FIL DTRIM CAN 3-4#'}, {'SALMON SKUNAGOLD RIVER FILLET': 'SALMON FIL FRSH 3/4 SKUNA BAY'}, {'SALMON FILLET LARGE': 'SALMON FIL BNLS TRMD 3-4# FRSH'}, {'PEI MUSSELS 10# BAG': 'MUSSEL FRESH BLK PEI'}, {'SALMON FILLET 2-4# D-TRIM': 'SALMON ATL CHILEAN DTRIM 3-4LB'}]\n",
            "880\n"
          ]
        },
        {
          "output_type": "stream",
          "name": "stderr",
          "text": [
            "Processing Batches: 100%|██████████| 1/1 [00:00<00:00,  1.83it/s]\n"
          ]
        },
        {
          "output_type": "stream",
          "name": "stdout",
          "text": [
            "[{'CLAM W/C MANILA': 'CLAM MANILA FRSH'}, {'TROUT 7-9OZ PBO HDLS RAINBOW': 'TROUT FILET PBO 8 OZ'}, {'MUSSELS BANGS ISLAND MAINE': 'MUSSEL FRESH BANG ISLD 217'}]\n",
            "881\n"
          ]
        },
        {
          "output_type": "stream",
          "name": "stderr",
          "text": [
            "Processing Batches: 100%|██████████| 1/1 [00:00<00:00,  3.18it/s]\n"
          ]
        },
        {
          "output_type": "stream",
          "name": "stdout",
          "text": [
            "[{'HAMACHI FILLET 7/21 KILO': 'HAMACHI FILET YELLOWTAIL JACK'}, {'CRAB LEG KING RED 9-12 20# CS': 'CRAB LEG KNG RED SPLIT 9-12CT'}]\n",
            "882\n"
          ]
        },
        {
          "output_type": "stream",
          "name": "stderr",
          "text": [
            "Processing Batches: 100%|██████████| 1/1 [00:00<00:00,  1.28it/s]\n"
          ]
        },
        {
          "output_type": "stream",
          "name": "stdout",
          "text": [
            "[{'COD FILLET REFRESHED': 'COD FIL SKLS RFRSH 6-8 OZ'}, {'SCALLOP U-10 SEA NATURAL': 'SCALLOP SEA FRSH U/10 DRY'}, {'SEA BASS CHILEAN PORT': 'SEABASS FIL CHILEAN SKLS 8 OZ'}, {'BASS SEA CHILEAN FILLET': 'SEABASS FILET CHILEAN'}]\n",
            "883\n"
          ]
        },
        {
          "output_type": "stream",
          "name": "stderr",
          "text": [
            "Processing Batches: 100%|██████████| 1/1 [00:00<00:00,  1.09it/s]\n"
          ]
        },
        {
          "output_type": "stream",
          "name": "stdout",
          "text": [
            "[{'STEAK FILET C\\\\C IMPBULK': 'STEAK FILET C\\\\C IMP BULK'}, {'STEAK FILET C\\\\C IMPBULK': 'STEAK FILET C\\\\C IMP BULK'}, {'PORK CHOP B\\\\I C\\\\CFRCHD': 'PORK CHOP B\\\\I C\\\\C FRCHD'}, {'BEEF CHUCK CLODDICED 5X5': 'BEEF CHUCK CLOD DICED .5X.5'}]\n",
            "884\n"
          ]
        },
        {
          "output_type": "stream",
          "name": "stderr",
          "text": [
            "Processing Batches: 100%|██████████| 1/1 [00:00<00:00,  1.90it/s]\n"
          ]
        },
        {
          "output_type": "stream",
          "name": "stdout",
          "text": [
            "[{'Coffee Bean Espresso Vitto 4/2#': 'COFFEE BEAN ESPRESO VITTORIA'}, {'Coffee Grnd Med Cosecha Supr 42/25': 'COFFEE GRND MED COSECHA SUPR'}, {'Coffee Grnd Big Island Blend 24/3 oz': 'COFFEE GRND BIG ISLAND BLEND'}]\n",
            "885\n"
          ]
        },
        {
          "output_type": "stream",
          "name": "stderr",
          "text": [
            "Processing Batches: 100%|██████████| 1/1 [00:03<00:00,  3.17s/it]\n"
          ]
        },
        {
          "output_type": "stream",
          "name": "stdout",
          "text": [
            "[{'Pork Sausage Fully Cooked Link LowerSodium 1 oz': 'SAUSAGE PORK LINK LOSOD FCSKLS'}, {'Pork Sausage Link 1 oz': 'SAUSAGE LINK BRKFST 1 OZLINK'}, {'Beef Shredded': 'BEEF SHREDDED FULLY COOKED'}, {'Tangy Summer Sausage Chub': 'SAUSAGE SUMMER TANGY CHUB'}, {'Franks Beef 3/1 8 in': 'FRANK ALL BEEF 3 X 1 8'}, {'Franks Beef 4/1 6 in': 'FRANK BEEF 4/1 6 INCH'}, {'Ham Patties Sliced 20 oz': 'HAM PATTY'}, {'Sausage Coil Signature': 'SAUSAGE ROPE CNTRY STY'}]\n",
            "886\n"
          ]
        },
        {
          "output_type": "stream",
          "name": "stderr",
          "text": [
            "Processing Batches: 100%|██████████| 1/1 [00:00<00:00,  1.65it/s]\n"
          ]
        },
        {
          "output_type": "stream",
          "name": "stdout",
          "text": [
            "[{'Jersey Mikes Mini Wheat Sub': 'ROLL MINI WHEAT SUB'}, {'Jersey Mikes Mini White Sub': 'ROLL MINI WHT SUB'}, {'Jersey Mikes Wheat Sub': 'ROLL WHEAT SUB'}, {'Jersey Mikes White Sub': 'ROLL WHITE SUB'}]\n",
            "887\n"
          ]
        },
        {
          "output_type": "stream",
          "name": "stderr",
          "text": [
            "Processing Batches: 100%|██████████| 1/1 [00:02<00:00,  2.15s/it]\n"
          ]
        },
        {
          "output_type": "stream",
          "name": "stdout",
          "text": [
            "[{'SF Heavy Cream 9/5 Gal': 'CREAM HEAVY'}, {'8041100029 SF Mill Homogenized 2/1 Gal': 'MILK HOMOGENIZED'}, {'8041100030 SF Milk 2% REDUCE FAT Ul Gal': 'MILK 2% RDUC FAT'}, {'8041100032 SF Milk Low Fat Skim Ul Gal': 'MILK LOW FAT SKIM'}, {'8041100050 SF Half & Half Quarts': 'CREAMER HALF & HALF'}, {'Empty Gal[on Jug 48/128oz': 'JUG PLAS GALLON'}]\n",
            "888\n"
          ]
        },
        {
          "output_type": "stream",
          "name": "stderr",
          "text": [
            "Processing Batches: 100%|██████████| 1/1 [00:01<00:00,  1.23s/it]\n"
          ]
        },
        {
          "output_type": "stream",
          "name": "stdout",
          "text": [
            "[{'SF Heavy Cream 9/5 Gal': 'CREAM HEAVY'}, {'8041100029 SF Milk Homogenized 2/1 Gal': 'MILK HOMOGENIZED'}, {'8041100030 SF Milk 2% REDUCE FAT 2/1 Gal': 'MILK 2% RDUC FAT'}, {'8041100050 SF Half & Half Quarts': 'CREAMER HALF & HALF'}]\n",
            "889\n"
          ]
        },
        {
          "output_type": "stream",
          "name": "stderr",
          "text": [
            "Processing Batches: 100%|██████████| 1/1 [00:00<00:00,  2.62it/s]\n"
          ]
        },
        {
          "output_type": "stream",
          "name": "stdout",
          "text": [
            "[{'COD - FILLET 12/24 oz ICELANDIC Wild': 'COD FIL MKT FRESH'}, {'SALMON - FILLET 3-4 FAROE ISLAND': 'SALMON FIL FAROE ISLD 3-4'}]\n",
            "890\n"
          ]
        },
        {
          "output_type": "stream",
          "name": "stderr",
          "text": [
            "Processing Batches: 100%|██████████| 1/1 [00:00<00:00,  2.69it/s]\n"
          ]
        },
        {
          "output_type": "stream",
          "name": "stdout",
          "text": [
            "[{'DETERGENT DISHWASH CLOSED': 'DETERGENT DISHWASH CLOSED LOOP'}, {'DETERGENT HAND LIQ DISHWASHING': 'DETERGENT HAND LIQ DISHWASHING'}]\n",
            "891\n"
          ]
        },
        {
          "output_type": "stream",
          "name": "stderr",
          "text": [
            "Processing Batches: 100%|██████████| 1/1 [00:00<00:00,  2.43it/s]\n"
          ]
        },
        {
          "output_type": "stream",
          "name": "stdout",
          "text": [
            "[{'CANDY STARBRSTFRUIT CHW 207Z': 'CANDY STARBRST FRUIT CHW 2.07Z'}, {'COOKIE SNDW OREOMINI': 'COOKIE SNDW OREO MINI'}]\n",
            "892\n"
          ]
        },
        {
          "output_type": "stream",
          "name": "stderr",
          "text": [
            "Processing Batches: 100%|██████████| 1/1 [00:00<00:00,  2.69it/s]\n"
          ]
        },
        {
          "output_type": "stream",
          "name": "stdout",
          "text": [
            "[{'SNACK BAR PRO SPCLK DBL CHOC': 'SNACK BAR PRO SPCL K DBL CHOC'}, {'POPCORN ORIGINAL': 'POPCORN ORIGINAL'}]\n",
            "893\n"
          ]
        },
        {
          "output_type": "stream",
          "name": "stderr",
          "text": [
            "Processing Batches: 100%|██████████| 1/1 [00:00<00:00,  1.61it/s]\n"
          ]
        },
        {
          "output_type": "stream",
          "name": "stdout",
          "text": [
            "[{'MVM 5x1 Hot Links': 'SAUSAGE HOT LINK 5X1'}, {'MVM 1 lb Red Hot Links': 'SAUSAGE HOT LINK 5X1 FC'}, {'MVM 1 lb Mild': 'SAUSAGE LINK MILD 5X1 FC'}]\n",
            "894\n"
          ]
        },
        {
          "output_type": "stream",
          "name": "stderr",
          "text": [
            "Processing Batches: 100%|██████████| 1/1 [00:03<00:00,  3.82s/it]\n"
          ]
        },
        {
          "output_type": "stream",
          "name": "stdout",
          "text": [
            "[{'AZ FRESH PORK CHORIZO BULK': 'SAUSAGE CHORIZO PORK'}, {'AZ FRESH 4/1 BRATWURST': 'BRATWURST 4X1 KL BEER'}, {'AZ FRESH MILD ITALIAN BULK': 'SAUSAGE PORK MLD ITAL BULK'}, {'AZ FRESH HOT ITALIAN BULK': 'SAUSAGE PORK HOT ITAL BULK'}, {'FRESH C/S BREAKFAST BULK -': 'SAUSAGE BKFST CNTRY STYLE BULK'}, {'AZ FRESH 8/1 C/S BREAKFAST': 'SAUSAGE LINK BREAKFAST PORK'}, {'AZ FRESH BRAT 4/1 KILTLIFTER': 'BRATWURST 4X1'}, {'THIN SLICED CHICKEN BULK -': 'CHICKEN BRST SLICED'}]\n",
            "895\n"
          ]
        },
        {
          "output_type": "stream",
          "name": "stderr",
          "text": [
            "Processing Batches: 100%|██████████| 1/1 [00:00<00:00,  1.77it/s]\n"
          ]
        },
        {
          "output_type": "stream",
          "name": "stdout",
          "text": [
            "[{'Napkin Band Hunter Green 15 x 425- SYSCO': 'BAND NAPKIN 1.5X4.25 HTR GREEN'}, {'Napkin Band White 15 x 425- SYSCO': 'BAND NAPKIN PAPR 1.5X4.25 WHT'}, {'Napkin Band Burgundy 15 x 425- SYSCO': 'BAND NAPKIN PAPR 1.5X4.25 BURG'}]\n",
            "896\n"
          ]
        },
        {
          "output_type": "stream",
          "name": "stderr",
          "text": [
            "Processing Batches: 100%|██████████| 3/3 [00:09<00:00,  3.05s/it]\n"
          ]
        },
        {
          "output_type": "stream",
          "name": "stdout",
          "text": [
            "[{'1/10 8oz Marinated Rib Eye Sand Slices': 'BEEF PHILLY MARN RIB'}, {'1/10 5oz Marinated Rib Eye Sand Slices': 'BEEF PHILLY MARN RIB'}, {'Bellissimo 6oz Marinated Sirloin- 10lbs': 'BEEF PHILLY MARN 6OZ'}, {'1/10 7oz Savory Beef Sand Slices': 'BEEF SANDWICH SLICES MARIN FZ'}, {'1/10 8oz Boardwalk 10% Steak': 'BEEF STEAK BOARDWALK 8OZ'}, {'5oz-Hand molded ribeye non marinated-10lbs': 'BEEF STEAK PHILLY RIBEYE HM'}, {'SLICED RIBEYE STACK PACK-ANGELOS': 'BEEF STEAK RIBEYE ANGELOS'}, {'SLICED RIBEYE STACK PACK': 'BEEF STEAK RIBEYE SAND'}, {'1/10 8oz Savory Beef Sand Slices': 'BEEF STEAK SANDWICH 8OZ'}, {'2/5 Bulk 25% B-O-P Chick Stk': 'CHICKEN STEAK SANDWICH BULK'}, {'1/10 5oz 25% B-O-P Chick Stk': 'CHICKEN STEAK SANDWICH 5OZ'}, {'1/10 8oz 25% B-O-P Chick Stk': 'CHICKEN STEAK SANDWICH 8OZ'}, {'Mastrocolas Ital Slcd Roast Pork w/Aujus-4/3lbs': 'PORK LOIN RST SLI PHILLY STYLE'}]\n",
            "897\n"
          ]
        },
        {
          "output_type": "stream",
          "name": "stderr",
          "text": [
            "Processing Batches: 100%|██████████| 4/4 [00:11<00:00,  2.86s/it]\n"
          ]
        },
        {
          "output_type": "stream",
          "name": "stdout",
          "text": [
            "[{'Roll Sub White Rustic': 'ROLL SUB WHITE RUSTIC'}, {'Dough Pizza 10in Hnd Tssed Lg': 'DOUGH PIZZA 10IN HND TSSED LG'}, {'Chicken Wingette Ckd': 'CHICKEN WINGETTE CKD'}, {'Chicken Bnls Chunk Frttr': 'CHICKEN BNLS CHUNK FRTTR'}, {'Sausage Ital Family Recipe Top': 'SAUSAGE ITAL FAMILY RECIPE TOP'}, {'Cookie Chip Trpl Choc Bkd 25z': 'COOKIE CHIP TRPL CHOC BKD 2.5Z'}, {'Beef Cooked Topping F/ Pzz': 'BEEF COOKED TOPPING F/ PZZ'}, {'Dough Pizza Small Famous Thin': 'DOUGH PIZZA SMALL FAMOUS THIN'}, {'Pizza Crust Cauliflower 10': 'PIZZA CRUST CAULIFLOWER 10'}, {'Meatball Beef & Pork Preck Rnd': 'MEATBALL BEEF & PORK PRECK RND'}, {'Breadstick Garlic 6-7 In': 'BREADSTICK GARLIC 6-7 IN'}, {'Dough Pizza 16 In Famous Thin': 'DOUGH PIZZA 16 IN FAMOUS THIN'}, {'Dough Pizza Lrg Thn On Papr': 'DOUGH PIZZA LRG THN ON PAPR'}, {'Dough Pizza Med Thin On Papr': 'DOUGH PIZZA MED THIN ON PAPR'}]\n",
            "898\n"
          ]
        },
        {
          "output_type": "stream",
          "name": "stderr",
          "text": [
            "Processing Batches: 100%|██████████| 1/1 [00:00<00:00,  1.54it/s]\n"
          ]
        },
        {
          "output_type": "stream",
          "name": "stdout",
          "text": [
            "[{'Dressing Creamy Ital': 'DRESSING CREAMY ITAL'}, {'Box Pizza Lg 15 Hme Plate': 'BOX PIZZA LG 15 HME PLATE'}, {'Dough Blend Deep Pan': 'DOUGH BLEND DEEP PAN'}, {'Dressing Salad Chuckwagon': 'DRESSING SALAD CHUCKWAGON'}]\n",
            "899\n"
          ]
        },
        {
          "output_type": "stream",
          "name": "stderr",
          "text": [
            "Processing Batches: 100%|██████████| 1/1 [00:02<00:00,  2.68s/it]\n"
          ]
        },
        {
          "output_type": "stream",
          "name": "stdout",
          "text": [
            "[{'Beef Strip Brdd Raw Low-Sodium': 'BEEF STRIP BRDD RAW LOW-SODIUM'}, {'Chicken Bnls Sknls Thigh Raw': 'CHICKEN BNLS SKNLS THIGH RAW'}, {'Chicken Diced Drk Raw Marinatd': 'CHICKEN DICED DRK RAW MARINATD'}, {'Chicken Meat Dk Battr Pho-Free': 'CHICKEN MEAT DK BATTR PHO-FREE'}, {'Aptzr Rangoon Crm Chs 8oz': 'APTZR RANGOON CRM CHS .8OZ'}, {'Eggroll Chicken 3oz': 'EGGROLL CHICKEN 3OZ'}, {'_Shrimp Battered Tempurai': 'SHRIMP BATTERED TEMPURA'}]\n",
            "900\n"
          ]
        },
        {
          "output_type": "stream",
          "name": "stderr",
          "text": [
            "Processing Batches: 100%|██████████| 1/1 [00:00<00:00,  4.05it/s]\n"
          ]
        },
        {
          "output_type": "stream",
          "name": "stdout",
          "text": [
            "[{'Egg Liquid Cage-Free Panda Exp': 'EGG LIQUID CAGE-FREE PANDA EXP'}, {'Garlic Chopped': 'GARLIC CHOPPED'}]\n",
            "901\n"
          ]
        },
        {
          "output_type": "stream",
          "name": "stderr",
          "text": [
            "Processing Batches: 100%|██████████| 1/1 [00:04<00:00,  4.18s/it]\n"
          ]
        },
        {
          "output_type": "stream",
          "name": "stdout",
          "text": [
            "[{'BASS STRIPED HYBRID USA FIL SKON PBO FRS - USA -': 'BASS STRIPED FIL SKON 8-10 OZ'}, {'SWORDFISH FIL LOIN SKON FRESH - USA - W': 'SWORDFISH FIL LOIN SKON FRSH'}, {'HALIBUT FIL LOCAL FRSH 4+ SKINOFF - USA - W': 'HALIBUT FIL LOCAL FRSH SKINOF'}, {'CAVIAR MASAGO ORG - Iceland - W': 'CAVIAR MASAGO ORG'}, {'SALMON FIL PRTN 4 OZ TRAY PACK - Canada - F': 'SALMON FIL  PRTN 4 OZ'}, {'SALMON ATL PRTN 6oz DEEP SKND - Chile - F': 'SALMON ATL FIL PRTN SKOFF BBRG'}, {'SALMON ATL PRTN 6 OZ SKIN OFF/28 CTN - Canada -': 'SALMON ATL PRTN 6 OZ SKIN OFF'}]\n",
            "902\n"
          ]
        },
        {
          "output_type": "stream",
          "name": "stderr",
          "text": [
            "Processing Batches: 100%|██████████| 4/4 [00:16<00:00,  4.13s/it]\n"
          ]
        },
        {
          "output_type": "stream",
          "name": "stdout",
          "text": [
            "[{'OYSTER SHUCKED STD 1/2 GALLON - USA - F': 'OYSTER SHUCKED STD'}, {'OYSTER LIVE FANNY BAY 120 CT/ MEDIUM - Canada': 'OYSTER LIVE FANNY BAY'}, {'ORANGE ROUGHY FIL 6-8 IQF FRZN - New Zealand -': 'ORANGE ROUGHY FIL 6-8 IQF FRZN'}, {'HALIBUT FIL LOCAL FRSH 4+ SKINOFF - USA -': 'HALIBUT FIL LOCAL FRSH SKINOF'}, {'OYSTER LIVE MISTY POINT 100 CT - USA - W': 'OYSTER LIVE MISTY POINT'}, {'CRAB SOFT SHELL PRIME 14 COUNT - Vietnam - F': 'CRAB SOFT SHELL PR'}, {'SALMON ATL PBO SKOFF 5# SIDES - Canada - F': 'SALMON ATL PBO SKOF 5# SIDES'}, {'SALMON ATL 6OZ SKON FRSH TRAY PACK - Canada -': 'SALMON FIL FRS TRAY PCK SKON 6'}, {'SALMON ATL PRTN 5 OZ SKINON - Canada - F': 'SALMON ATL PRTN 5OZ SKINON'}, {'OYSTER LIVE FRSH WEST COAST - USA - F': 'OYSTER LIVE FRSH WEST COAST'}, {'OYSTER LIVE KUMAMOTO 60 CT - USA - F': 'OYSTER LIVE KUMAMOTO'}, {'HALIBUT BONES COLLARS - USA - F': 'HALIBUT BONES COLLARS'}, {'FISH BONE (HALIBUT) F/STOCK - USA - F': 'FISH BONE (HALIBUT) F/STOCK'}, {'ROCKFISH FIL SNAP PBO - USA - W': 'ROCKFISH FIL SNAP PBO'}, {'CRAWFISH WHL CKD CAJ 10/15CT - China - W': 'CRAWFISH WHL CKD CAJ 10/15CT'}, {'SALMON FIL CHILEAN SKIN ON - Chile - F': 'SALMON FIL CHILEAN SKIN ON'}]\n",
            "903\n"
          ]
        },
        {
          "output_type": "stream",
          "name": "stderr",
          "text": [
            "Processing Batches: 100%|██████████| 1/1 [00:03<00:00,  3.00s/it]\n"
          ]
        },
        {
          "output_type": "stream",
          "name": "stdout",
          "text": [
            "[{'SALMON ATLANTIC D TRIM PBO - Canada - F': 'SALMON ATLANTIC D TRIM PBO'}, {'SALMON ATL FILLET 3-4 E TRIM - Canada - F': 'SALMON ATL FILLET 3-4 E TRIM'}, {'SALMON FIL SKLS 3-4# PREM - Canada - F': 'SALMON ATL FIL SKLS 3-4# PREM'}, {'SALMON ATL FIL 2-3 E TRIM - Canada - F': 'SALMON ATL FIL 2-3 E TRIM'}, {'Branzino Sea Bass 800-1000 Fresh Fillet 7-9oz (NET) Skin-On -Europe - F': 'BASS SEA BRANZINO FIL SKON 800'}, {'Branzino Sea Bass 600-800 Fresh Butterflied Head-On 12-16oz': 'BASS SEA BRANZINO H/ON 600-800'}]\n",
            "904\n"
          ]
        },
        {
          "output_type": "stream",
          "name": "stderr",
          "text": [
            "Processing Batches: 100%|██████████| 3/3 [00:09<00:00,  3.10s/it]\n"
          ]
        },
        {
          "output_type": "stream",
          "name": "stdout",
          "text": [
            "[{'BASS STRIPED HYBRID USA FIL SKON PBO FRS - USA - F': 'BASS STRIPED FIL SKON 8-10 OZ'}, {'SALMON SMOKED NORWGN UNSLICED FRESH - USA - F': 'SALMON SMK NORWGN UNSLICED'}, {'FISH FILET YELLOWTAIL SKINON - USA - W': 'FISH FILET YELLOWTAIL SKINON'}, {'SALMON PRTN 6OZ SKIN ON ATL/28 CTN - Canada - F': 'SALMON PRTN 6OZ SKIN ON ATL'}, {'FRESH KANPACHI FIL HAW SKON - Panama - F': 'FISH FRESH KAMPACHI HAW SKF'}, {'SALMON SMK HOT UNSLICED - USA - F': 'SALMON SMK HOT UNSLICED FRSH'}, {'SALMON ATL ETRIM 3-4 LB (DEEP SKIN PKW) - Chile - F': 'SALMON ATL FIL ETRIM 3-4 LB'}, {'SALMON FIL E DEEPSKN 2-3 LB - Chile - F': 'SALMON FIL E DEEPSKN 2-3 LB'}, {'SALMON PIECES TRIM - Canada - F': 'SALMON PIECES TRIM'}, {'SALMON ATL PRTN 8OZ SKIN OFF/20 CTN - Canada - F': 'SALMON FIL PRTN 8 OZ FRSH'}, {'SALMON ATL PRTN 7OZ SKIN OFF/24 CTN - Canada - F': 'SALMON ATL PRTN 7OZ SKIN OFF'}, {'SHRIMP TGR GH 6/8 ASIA HDOFF - China - F': 'SHRIMP TGR GH 6/8 ASIA'}]\n",
            "905\n"
          ]
        },
        {
          "output_type": "stream",
          "name": "stderr",
          "text": [
            "Processing Batches: 100%|██████████| 1/1 [00:00<00:00,  1.38it/s]\n"
          ]
        },
        {
          "output_type": "stream",
          "name": "stdout",
          "text": [
            "[{'SUBWAY RED WINE VINEGAR (4/1': 'VINEGAR RED WINE  SO0771'}, {'LA SPAGNOLA BLENDED VEGETABLE': 'OIL VEG /PURE OLIVE 90/10 BLND'}, {'SUBWAY 10% EXTRA VIRGIN OLIVE': 'OIL OLIVE BLEND 10% S000151'}]\n",
            "906\n"
          ]
        },
        {
          "output_type": "stream",
          "name": "stderr",
          "text": [
            "Processing Batches: 100%|██████████| 5/5 [00:25<00:00,  5.10s/it]\n"
          ]
        },
        {
          "output_type": "stream",
          "name": "stdout",
          "text": [
            "[{'CRAB MEAT SNOW - Korea - W': 'CRAB MEAT SNOW'}, {'OYSTER SHUCKED STD 1/2 GALLON - USA - FLocation 4195001 8/7/2024 I Harvest Date7/17/2024': 'OYSTER SHUCKED STD'}, {'OYSTER LIVE FANNY BAY 120 CT/ MEDIUM - Canada - FLocation 14-8 I Harvest Date7/17/2024': 'OYSTER LIVE FANNY BAY'}, {'MAHI MAHI FIL SKIN-ON FRESH - USA - W': 'MAHI MAHI FIL SKIN ON'}, {'SALMON ATL PCS SKNLS/BNLS - Canada - F': 'SALMON ATL PCS SKNLS/BNLS'}, {'CRAWFISH TAIL MEAT 150-200 CT - China - W': 'CRAWFISH TAIL MEAT 150-200CT'}, {'TROUT FILET SMK - USA - F': 'TROUT FILET SMK'}, {'CRAB SOFT SHELL PRIME 14 COUNT - Vietnam - F': 'CRAB SOFT SHELL PR'}, {'SALMON ATL PBO SKOFF 5# SIDES - Canada - F': 'SALMON ATL PBO SKOF 5# SIDES'}, {'SALMON ATL PRTN 6oz DEEP SKND - Chile - F': 'SALMON ATL FIL PRTN SKOFF BBRG'}, {'OYSTER LIVE FRSH WEST COAST - USA - FLocation BC 14-08/278757 I Wet Store Date7/15/2024 I Final Harv': 'OYSTER LIVE FRSH WEST COAST'}, {'OYSTER LIVE KUMAMOTO 60 CT - USA - FLocation WS6174280 I Wet Store Date7/13/2024 I Final Harvest Dat': 'OYSTER LIVE KUMAMOTO'}, {'OYSTER LIVE EAST COAST FRSH - USA - WLocation PE 8 B 1 Harvest Date7/18/2024': 'OYSTER LIVE FRSH EAST COAST'}, {'TUNA ALBACORE LOIN FRESH SKON - Fiji - W': 'TUNA AHI ALBACORE LOIN SKON'}, {'SALMON TROUT STEELHEAD FIL SKIN ON - USA - F': 'SALMON FIL TROUT STEALHEAD SON'}, {'SALMON ATL ETRIM 3-4 LB (DEEP SKIN PKW) - Chile - F': 'SALMON ATL FIL ETRIM 3-4 LB'}, {'SALMON PIECES TRIM - Canada - F': 'SALMON PIECES TRIM'}]\n",
            "907\n"
          ]
        },
        {
          "output_type": "stream",
          "name": "stderr",
          "text": [
            "Processing Batches: 100%|██████████| 1/1 [00:00<00:00,  1.07it/s]\n"
          ]
        },
        {
          "output_type": "stream",
          "name": "stdout",
          "text": [
            "[{'SALMON ATLANTIC D TRIM PBO - Canada - F': 'SALMON ATLANTIC D TRIM PBO'}, {'SALMON ATL FILLET 3-4 E TRIM - Canada - F': 'SALMON ATL FILLET 3-4 E TRIM'}, {'SALMON FIL SKLS 3-4# PREM - Canada - F': 'SALMON ATL FIL SKLS 3-4# PREM'}, {'SALMON ATL FIL 2-3 E TRIM - Canada - F': 'SALMON ATL FIL 2-3 E TRIM'}]\n",
            "908\n"
          ]
        },
        {
          "output_type": "stream",
          "name": "stderr",
          "text": [
            "Processing Batches: 100%|██████████| 6/6 [00:24<00:00,  4.05s/it]\n"
          ]
        },
        {
          "output_type": "stream",
          "name": "stdout",
          "text": [
            "[{'SALMON ATL PCS SKIN OFF - Canada - F': 'SALMON ATL PCS SKIN OFF'}, {'BASS STRIPED HYBRID USA FIL SKON PBO FRS - USA - F': 'BASS STRIPED FIL SKON 8-10 OZ'}, {'BASS SEA CHILEAN SKINON THAWED - Argentina - W': 'BASS SEA CHILEAN SKINON THAWED'}, {'OYSTER LIVE KUMIAI 120 CT Mexico F': 'OYSTER LIVE KUMIAI'}, {'OYSTER LIVE MISTY POINT 100 CT - USA - W': 'OYSTER LIVE MISTY POINT'}, {'OYSTER LIVE KUSSHI FRSH 120 CT - Canada -': 'OYSTER LIVE KUSSHI FRSH'}, {'SALMON ATL COLLAR - Canada - F': 'SALMON ATL COLLARS'}, {'CRAWFISH TAIL MEAT 150-200 CT - China - W': 'CRAWFISH TAIL MEAT 150-200CT'}, {'CRAB SOFT SHELL PRIME 14 COUNT - Vietnam - F': 'CRAB SOFT SHELL PR'}, {'HAMACHI FILET YELTL FZN SKON - Japan - F': 'HAMACHI FILET YELTL FZN SKON'}, {'SALMON ATL PRTN 5 OZ SKINON - Canada - F': 'SALMON ATL PRTN 5OZ SKINON'}, {'SALMON ATL ETRIM 3-4 LB (DEEP SKIN PKW) - Chile - F': 'SALMON ATL FIL ETRIM 3-4 LB'}, {'OYSTER LIVE KUMAMOTO 60 CT - USA - F': 'OYSTER LIVE KUMAMOTO'}, {'MUSSEL FRESH BLK - USA - F': 'MUSSEL FRESH BLK'}, {'SALMON ATL FIL SKLS 3-4# FRSH - Canada - F': 'SALMON ATL FIL SKLS 3-4# FRSH'}, {'SALMON ATL PRTN 8OZ SKIN OFF/20 CTN - Canada - F': 'SALMON FIL PRTN 8 OZ FRSH'}, {'SALMON ATL 8OZ SKON FRSH TRAY PACK - Canada - F': 'SALMON FIL FRS TRAY PCK SKON 8'}, {'HALIBUT FILLET SKIN OFF NOR - Norway - W': 'HALIBUT FILLET SKIN OFF NOR'}]\n",
            "909\n"
          ]
        },
        {
          "output_type": "stream",
          "name": "stderr",
          "text": [
            "Processing Batches: 100%|██████████| 1/1 [00:01<00:00,  1.31s/it]\n"
          ]
        },
        {
          "output_type": "stream",
          "name": "stdout",
          "text": [
            "[{'SALMON ATLANTIC D TRIM PBO - Canada': 'SALMON ATLANTIC D TRIM PBO'}, {'SALMON ATL FILLET 3-4 E TRIM - Canada -': 'SALMON ATL FILLET 3-4 E TRIM'}, {'SALMON FIL SKLS 3-4# PREM - Canada -': 'SALMON ATL FIL SKLS 3-4# PREM'}, {'SALMON ATL FIL 2-3 E TRIM - Canada -': 'SALMON ATL FIL 2-3 E TRIM'}]\n",
            "910\n"
          ]
        },
        {
          "output_type": "stream",
          "name": "stderr",
          "text": [
            "Processing Batches: 100%|██████████| 1/1 [00:00<00:00,  2.13it/s]\n"
          ]
        },
        {
          "output_type": "stream",
          "name": "stdout",
          "text": [
            "[{'SALMON ATL FIL SKIN OFF 3-4 - Canada - F': 'SALMON ATL FIL SKIN OFF 3-4'}, {'SALMON FIL SKON 4-5 SUSHI SCALED - Canada - F': 'SALMON FIL SKON 4-5 SUSHI'}]\n",
            "911\n"
          ]
        },
        {
          "output_type": "stream",
          "name": "stderr",
          "text": [
            "Processing Batches: 100%|██████████| 1/1 [00:01<00:00,  1.00s/it]\n"
          ]
        },
        {
          "output_type": "stream",
          "name": "stdout",
          "text": [
            "[{'HALIBUT FILET SKIN-ON FRESH - USA - W': 'HALIBUT FILET FRSH'}, {'SALMON ATL WHL 12-14# 1 PCS - Canada - F': 'SALMON ATL WHL 12-14# HDON GTD'}, {'SPICE BLEND NANAMI TOGARASHI (7 SPICE BLEND) 10 PA -': 'SPICE BLEND NANAMI TOGARASHI'}]\n",
            "912\n"
          ]
        },
        {
          "output_type": "stream",
          "name": "stderr",
          "text": [
            "Processing Batches: 100%|██████████| 1/1 [00:02<00:00,  2.53s/it]\n"
          ]
        },
        {
          "output_type": "stream",
          "name": "stdout",
          "text": [
            "[{'HALIBUT FILET SKIN-ON FRESH - USA - W': 'HALIBUT FILET FRSH'}, {'MUSSEL FRESH PEI USA -': 'MUSSEL FRESH PEI'}, {'SALMON FIL SCOTTISH SCALED - Scotland - F': 'SALMON FIL SCOTTISH SCALED'}, {'SMOKED SALMON SKIN ON SLICED FRSH - USA - F': 'SALMON SMKD FRSH SLCD SKON'}, {'SALMON WHL KING ORA - New Zealand - F': 'SALMON WHL KNG ORA'}, {'SCALLOP SEA FRSH U/10 DRY - USA - W': 'SCALLOP SEA FRSH U/10 DRY'}]\n",
            "913\n"
          ]
        },
        {
          "output_type": "stream",
          "name": "stderr",
          "text": [
            "Processing Batches: 100%|██████████| 1/1 [00:00<00:00,  3.19it/s]\n"
          ]
        },
        {
          "output_type": "stream",
          "name": "stdout",
          "text": [
            "[{'SEAWEED GOMA FURIKAKE 1/22 LB - Asia - W': 'SEASONING RICE FURIKAKE'}, {'SWORDFISH LOIN SKIN-ON FRESH - USA - W': 'SWORDFISH LOIN FRSH'}]\n",
            "914\n"
          ]
        },
        {
          "output_type": "stream",
          "name": "stderr",
          "text": [
            "Processing Batches: 100%|██████████| 3/3 [00:08<00:00,  2.92s/it]\n"
          ]
        },
        {
          "output_type": "stream",
          "name": "stdout",
          "text": [
            "[{'BASS SEA BLUENOSE FIL - New Zealand': 'BASS SEA BLUENOSE FIL'}, {'BASS WHOLE BRANZINO 400-600 FRSHGreece - F': 'BASS WHOLE BRANZINO FRSH'}, {'HALIBUT FILET SKIN-ON FRESH - USA -': 'HALIBUT FILET FRSH'}, {'MUSSEL FRESH PEI - USA - FLocation PE 4 C I Wet Store': 'MUSSEL FRESH PEI'}, {'OCTOPUS WHL SPANISH 2-4 FRZ - Spain': 'OCTOPUS WHOLE SPAN 2-4# FZN'}, {'SALMON ATL WHL FRSH 14-16# - Canada': 'SALMON ATL WHL FRSH 14-16#'}, {'SALMON FIL SCOTTISH SCALED - Scotland': 'SALMON FIL SCOTTISH SCALED'}, {'SALMON KING NAT FRMD SCALED FIL -': 'SALMON KNG FIL SCALED PBO FARM'}, {'SEABASS FILET CHILEAN SK-OFF - Korea': 'SEABASS FILET FRSH'}, {'SEAWEED NORI PURPLE HALF - Korea -': 'SEAWEED NORI PURPLE HALF'}, {'TROUT RAINBOW IDAHO 5-7OZ FROZEN': 'TROUT RAINBOW IDAHO 7-9OZ'}, {'SNAPPER RED FIL 6-8oz FRZN - New': 'SNAPPER RED FIL 6-8OZ FRZN'}]\n",
            "915\n"
          ]
        },
        {
          "output_type": "stream",
          "name": "stderr",
          "text": [
            "Processing Batches: 100%|██████████| 1/1 [00:00<00:00,  1.28it/s]\n"
          ]
        },
        {
          "output_type": "stream",
          "name": "stdout",
          "text": [
            "[{'PASTE MISO WHT SHIRO - Asia - W': 'PASTE MISO WHT SHIRO'}, {'SWORDFISH LOIN CC SK/OFF FRESH - USA - W': 'SWORDFISH LOIN CC SK/OFF'}, {'TROUT STEELHEAD FIL FRSH - USA - F': 'TROUT STEELHEAD FIL FRSH'}]\n",
            "916\n"
          ]
        },
        {
          "output_type": "stream",
          "name": "stderr",
          "text": [
            "Processing Batches: 100%|██████████| 1/1 [00:00<00:00,  1.11it/s]\n"
          ]
        },
        {
          "output_type": "stream",
          "name": "stdout",
          "text": [
            "[{'SALMON ATL FIL SKIN OFF 3-4 - Canada - F': 'SALMON ATL FIL SKIN OFF 3-4'}, {'SALMON FIL ATL SK/ON 3/4LB FRS - Canada - F': 'SALMON FIL ATL SK/ON 3/4LB FRS'}, {'SALMON FIL SKON 4-5 SUSHI SCALED - Canada - F': 'SALMON FIL SKON 4-5 SUSHI'}]\n",
            "917\n"
          ]
        },
        {
          "output_type": "stream",
          "name": "stderr",
          "text": [
            "Processing Batches: 100%|██████████| 3/3 [00:10<00:00,  3.61s/it]\n"
          ]
        },
        {
          "output_type": "stream",
          "name": "stdout",
          "text": [
            "[{'BASS SEA BRANZINO SKON BL BUTTERFLY - Greece - F': 'BASS SEA BRANZINO SKON BL 7-8Z'}, {'CAVIAR TOBIKKO YUZU FROZEN 11 - USA - W': 'CAVIAR TOBIKKO YUZU FROZEN'}, {'CRAB CLUSTER SNOW OPILIO 5-8 OZ - Canada - W': 'CRAB CLUSTER SNOW OPILIO 5-8Z'}, {'HALIBUT FILET SKIN-ON FRESH - USA - W': 'HALIBUT FILET FRSH'}, {'R FILLET 1-2 SKIN-OFF FROZEN - Mexico - W': 'HALIBUT PIECES IQF 1-2 OZ'}, {'LOBSTER TAIL WW 16-20 OZ - Honduras - W': 'LOBSTER TAIL WW 16-20 OZ'}, {'HONDASHI SOUP MIX - Asia - F': 'MIX SOUP HONDASHI'}, {'OCTOPUS BABY RAW WHOLE 12/2 - Asia - W': 'OCTOPUS BABY RAW WHOLE'}, {'PASTE YUZU KOSHO CONT (GREEN) 1 PACK - Asia - W': 'PASTE CHILI YUZU KOSHO CONDIMT'}, {'SALMON ATL PRTN 6oz DEEP SKND - Chile - F': 'SALMON ATL FIL PRTN SKOFF BBRG'}, {'TROUT STEELHEAD FIL FRSH - USA - F': 'TROUT STEELHEAD FIL FRSH'}, {'WALLEYE FILET 8-10 IQF - USA - W': 'WALLEYE FILET 8-10 OZ IQF'}]\n",
            "918\n"
          ]
        },
        {
          "output_type": "stream",
          "name": "stderr",
          "text": [
            "Processing Batches: 100%|██████████| 1/1 [00:00<00:00,  1.01it/s]\n"
          ]
        },
        {
          "output_type": "stream",
          "name": "stdout",
          "text": [
            "[{'HALIBUT FILET SKIN-ON FRESH - USA - W': 'HALIBUT FILET FRSH'}, {'HALIBUT FLETCH SKIN-ON MEIERS FRESH -': 'HALIBUT FLETCH SKON MEIERS'}, {'MUSSEL FRESH PEI - USA - FLocation PE 4 C I Wet Store': 'MUSSEL FRESH PEI'}, {'SALMON FIL SKON 4-5 TIGHT TRIM - Canada': 'SALMON FIL SKON 4-5 TIGHT TRIM'}]\n",
            "919\n"
          ]
        },
        {
          "output_type": "stream",
          "name": "stderr",
          "text": [
            "Processing Batches: 100%|██████████| 1/1 [00:00<00:00,  1.51it/s]\n"
          ]
        },
        {
          "output_type": "stream",
          "name": "stdout",
          "text": [
            "[{'CRAB CLUSTER SNOW OPILIO 5-8 OZ - Canada - W': 'CRAB CLUSTER SNOW OPILIO 5-8Z'}, {'HALIBUT FILET SKIN-ON FRESH - USA - W': 'HALIBUT FILET FRSH'}, {'SALMON TRIMMING FRSH - Canada - F': 'SALMON TRIMMING FRSH'}]\n",
            "920\n"
          ]
        },
        {
          "output_type": "stream",
          "name": "stderr",
          "text": [
            "Processing Batches: 100%|██████████| 1/1 [00:00<00:00,  3.10it/s]\n"
          ]
        },
        {
          "output_type": "stream",
          "name": "stdout",
          "text": [
            "[{'LA SPAGNOLA BLENDED VEGETABLE AND': 'OIL VEG /PURE OLIVE 90/10 BLND'}, {'FRI LITE (35 LB DP)': 'SHORTENING FRY LIQ CLR CANOLA'}]\n",
            "921\n"
          ]
        },
        {
          "output_type": "stream",
          "name": "stderr",
          "text": [
            "Processing Batches: 100%|██████████| 1/1 [00:03<00:00,  3.33s/it]\n"
          ]
        },
        {
          "output_type": "stream",
          "name": "stdout",
          "text": [
            "[{'ANCHOVY BULK WHT BOQUERONES 22 - Spain -': 'ANCHOVY BULK WHT BOQUERONES'}, {'CATFISH FILET 5-7 OZ - USA - F': 'CATFISH FILET 5-7 OZ'}, {'MAHI MAHI PCS 1-3 OZ - Indonesia - W': 'MAHI MAHI PCS 1-3 OZ'}, {'SALMON ATL FIL SKIN OFF 3-4 - Canada - F': 'SALMON ATL FIL SKIN OFF 3-4'}, {'SALMON FIL ATL SK/ON 2-3#D TR - Canada - F': 'SALMON FIL ATL SK/ON 2-3#D TR'}, {'SALMON FIL ATL SK/ON 3/4LB FRS - Canada - F': 'SALMON FIL ATL SK/ON 3/4LB FRS'}, {'SALMON FIL SKON 4-5 SUSHI SCALED - Canada -': 'SALMON FIL SKON 4-5 SUSHI'}]\n",
            "922\n"
          ]
        },
        {
          "output_type": "stream",
          "name": "stderr",
          "text": [
            "Processing Batches: 100%|██████████| 1/1 [00:00<00:00,  1.15it/s]\n"
          ]
        },
        {
          "output_type": "stream",
          "name": "stdout",
          "text": [
            "[{'HALIBUT FILET SKIN-ON FRESH - USA - W': 'HALIBUT FILET FRSH'}, {'MUSSEL FRESH PEI - USA - F': 'MUSSEL FRESH PEI'}, {'SALMON FIL SCOTTISH SCALED - Scotland - F': 'SALMON FIL SCOTTISH SCALED'}]\n",
            "923\n"
          ]
        },
        {
          "output_type": "stream",
          "name": "stderr",
          "text": [
            "Processing Batches: 100%|██████████| 1/1 [00:00<00:00,  1.12it/s]\n"
          ]
        },
        {
          "output_type": "stream",
          "name": "stdout",
          "text": [
            "[{'ANCHOVY BULK WHT BOQUERONES 22 - Spain': 'ANCHOVY BULK WHT BOQUERONES'}, {'SALMON ATL FIL SKIN OFF 3-4 - Canada -': 'SALMON ATL FIL SKIN OFF 3-4'}, {'SALMON FIL ATL SK/ON 3/4LB FRS - Canada -': 'SALMON FIL ATL SK/ON 3/4LB FRS'}]\n",
            "924\n"
          ]
        },
        {
          "output_type": "stream",
          "name": "stderr",
          "text": [
            "Processing Batches: 100%|██████████| 2/2 [00:05<00:00,  2.90s/it]\n"
          ]
        },
        {
          "output_type": "stream",
          "name": "stdout",
          "text": [
            "[{'BASS SEA BRANZINO SKON BL BUTTERFLY - Greece': 'BASS SEA BRANZINO SKON BL 7-8Z'}, {'HALIBUT FIL REFRESHED SKIN OFF - USA - W': 'HALIBUT FIL REFRESHED SKIN OFF'}, {'HALIBUT FILET SKIN-ON FRESH - USA - W': 'HALIBUT FILET FRSH'}, {'LOBSTER TAIL WW 16-20 OZ - Honduras - W': 'LOBSTER TAIL WW 16-20 OZ'}, {'SALMON ATL PRTN 6oz DEEP SKND - Chile - F': 'SALMON ATL FIL PRTN SKOFF BBRG'}, {'SALMON ATL WHL 12-14# 1 PCS - Canada - F': 'SALMON ATL WHL 12-14# HDON GTD'}, {'SAUCE MIRIN WINE 5 GAL - Asia - W': 'SAUCE MIRIN WINE'}, {'SHRIMP WHT 31/40 HDON RAW - Asia - F': 'SHRIMP WHT 31/40 HDON RAW'}, {'VINEGAR RICE SHIRAGIKU 1X5 GAL - USA - W': 'VINEGAR RICE SHIRAGIKU'}]\n",
            "925\n"
          ]
        },
        {
          "output_type": "stream",
          "name": "stderr",
          "text": [
            "Processing Batches: 100%|██████████| 1/1 [00:00<00:00,  1.75it/s]\n"
          ]
        },
        {
          "output_type": "stream",
          "name": "stdout",
          "text": [
            "[{'SALMON ATL FLT 2-3#S/ON D': 'SALMON ATL FIL D-TRIM 2-3# CHL'}, {'SALMON ATL FLT 3-4#S/L E': 'SALMON ATL FIL E-TRIM 3-4# CHL'}, {'SALMON ATLANTIC H/ON': 'SALMON ATL WHL BNLS'}]\n",
            "926\n"
          ]
        },
        {
          "output_type": "stream",
          "name": "stderr",
          "text": [
            "Processing Batches: 100%|██████████| 6/6 [00:18<00:00,  3.16s/it]\n"
          ]
        },
        {
          "output_type": "stream",
          "name": "stdout",
          "text": [
            "[{'STEAK FILET C\\\\C B\\\\W': 'STEAK FILET C\\\\C B\\\\W'}, {'PORK CHOP BNLS C\\\\C': 'PORK CHOP BNLS C\\\\C'}, {'STEAK BEEF CUBED': 'STEAK BEEF CUBED SPCL TRIM VP4'}, {'BEEF SKIRT OUTSDE': 'BEEF SKIRT OUTSDE FAJ'}, {'STEAK BEEF X-CUBED': 'STEAK BEEF X-CUBED SP'}, {'STEAK CHUCK PEC': 'STEAK CHUCK PEC CUBED'}, {'STEAK RIBEYE BNLS': 'STEAK RIBEYE BNLS 0TL'}, {'STEAK BEEF CUBED': 'STEAK BEEF CUBED SPCL TRIM VP4'}, {'BEEF KABOB SIRLOIN': 'BEEF KABOB SIRLOIN 2X2 CH'}, {'STEAK RIBEYE SPLTBN': 'STEAK RIBEYE SPLTBN FRNCH'}, {'BEEF SIRLOIN KABOB': 'BEEF SIRLOIN KABOB'}, {'STEAK SIRL TOP C\\\\C': 'STEAK SIRL TOP C\\\\C 1\\\\4'}, {'STEAK FILET E\\\\E CH': 'STEAK FILET E\\\\E CH'}, {'STEAK TBONE 1\\\\2TL': 'STEAK TBONE 1\\\\2TL'}, {'PORK CHOP B\\\\I C\\\\C': 'PORK CHOP B\\\\I C\\\\C FRCHD'}, {'STEAK CUBED BEEF SP': 'STEAK CUBED BEEF SP CAB COV/4'}, {'STEAK BEEF CUBED': 'STEAK BEEF CUBED SPCL TRIM VP4'}, {'STEAK SIRL FLAP': 'STEAK SIRL FLAP BAVETTE'}, {'STEAK BEEF CUBED': 'STEAK BEEF CUBED SPCL TRIM VP3'}]\n",
            "927\n"
          ]
        },
        {
          "output_type": "stream",
          "name": "stderr",
          "text": [
            "Processing Batches: 100%|██████████| 7/7 [00:32<00:00,  4.57s/it]\n"
          ]
        },
        {
          "output_type": "stream",
          "name": "stdout",
          "text": [
            "[{'LBTACOJON MIX SEASONING CINNAMON SUGAR T-1170': 'MIX SEASONING CINNAMON SUGAR'}, {'OZ TACOJON SAUCE FIESTA': 'SAUCE FIESTA'}, {'OZ TACOJON DRESSING RANCH SARATOGA': 'DRESSING RANCH SARATOGA'}, {'LB TACOJON CREAM CHEESE ICING': 'CREAM CHEESE ICING'}, {'LB TACOJON CREAM CHEESE ICING': 'CREAM CHEESE ICING'}, {'LB TACOJON SEASONING TACO JOHN S PICO 1 T-4488': 'SEASONING TACO JOHN S PICO'}, {'KEYSTON LABEL ROLL SHLF LFE DISS 2X 90061141': 'LABEL ROLL SHLF LFE DISS 2X3'}, {'TSUPPCLS LABEL ROLL SUNDAY 1 BLK   90061036': 'LABEL ROLL SUNDAY 1 BLK'}, {'CT SYS CLS FILTER POD FRYR OIL EXTEN FFPOD21SYS': 'FILTER POD FRYR OIL EXTENDER'}, {'CTGRPHC P LID CLEAR 5 FLAT LID  305603002': 'LID CLEAR  5 FLAT LID'}, {'CTIFPACK BAG CARRYOUT LARGE BONCH 347-307-004': 'BAG CARRYOUT LARGE BONCHON'}, {'TTACOJON BAG PAPER CHIP NACHO': 'BAG PAPER CHIP NACHO'}, {'CT TACOJON CONTAINER PAPER OLE 5 OZ  105811037': 'CONTAINER PAPER OLE 5 OZ'}, {'CTTACOJON CUP TACO JOHN S 19 OZ I 1729982': 'CUP TACO JOHN S 19 OZ'}, {'CTTACOJON LID PLASTIC TJ S 40 OZ  1729987': 'LID PLASTIC TJ S 40 OZ'}, {'CTTACOJON LID PLASTIC TACO JOHN S 27 O 1729985': 'LID PLASTIC TACO JOHN S 27 OZ'}, {'TTACOJON SLEEVE DISPOSABLE QUESADILLA 5900550': 'SLEEVE DISPOSABLE QUESADILLA'}, {'TTACOJON BAG PAPER BURRITO/ CHURRO': 'BAG PAPER  BURRITO/ CHURRO'}, {'PAIR SUPPCLS MITT OVEN PYROTEX BEIGE 17IN 40-1603': 'MITT OVEN PYROTEX BEIGE 17IN'}, {'SUPPCLS FORK DINNER DOMINION MED WGT 4525069': 'FORK DINNER DOMINION MED WGT'}, {'IN SUPPCLS GRILL BRICK 35IN THICK': 'GRILL BRICK 3.5IN THICK'}]\n",
            "928\n"
          ]
        },
        {
          "output_type": "stream",
          "name": "stderr",
          "text": [
            "Processing Batches: 100%|██████████| 3/3 [00:07<00:00,  2.55s/it]\n"
          ]
        },
        {
          "output_type": "stream",
          "name": "stdout",
          "text": [
            "[{'SALMON FIL E TRIM 2-3# TMG': 'SALMON FIL E TRIM 2-3#TMG'}, {'SALMN FILET PRTN CENTER CUT 5Z': 'SALMON PRTN C\\\\C'}, {'SWORDFISH LOIN FRESH': 'SWORD LOIN FRSH'}, {'SWORDFISH LOIN REG 10-15#': 'SWORDFISH LOIN REG 10-15LB'}, {'MAHI MAHI FILSK-ON': 'MAHI MAHI FIL SKON'}, {'SALMON FIL 3/4# DTRIM CAN PORT': 'SALMON ATL FIL D SKON 3-4# CAN'}, {'BASS SEA BRANZINO SPLT FIL FRZ': 'BASS SEA BRANZINO SPLIT FILLET'}, {'SALMON PORTION REG 7OZ': 'SALMON PORTION STR CUT 7OZ'}, {'SALMON FILET PRTN SK-OFF 4OZ': 'SALMON PRTN SKIN OFF'}, {'SWORDFISH STEAK 8OZ': 'SWORDFISH LOIN FRSH'}, {'BASS SEA BRANZINO SPLT FIL FRZ': 'BASS SEA BRANZINO SPLIT FILLET'}, {'SWORDFISH LOIN REG 10-15#': 'SWORDFISH LOIN REG 10-15LB'}]\n",
            "929\n"
          ]
        },
        {
          "output_type": "stream",
          "name": "stderr",
          "text": [
            "Processing Batches: 100%|██████████| 1/1 [00:00<00:00,  2.90it/s]\n"
          ]
        },
        {
          "output_type": "stream",
          "name": "stdout",
          "text": [
            "[{'HALIBUT FILET SKIN ON': 'HALIBUT FILET SKIN ON'}, {'SALMON FLET PRTN SQUARE CUT 4Z': 'SALMON PRTN SQUARE CUT'}]\n",
            "930\n"
          ]
        },
        {
          "output_type": "stream",
          "name": "stderr",
          "text": [
            "Processing Batches: 100%|██████████| 2/2 [00:06<00:00,  3.19s/it]\n"
          ]
        },
        {
          "output_type": "stream",
          "name": "stdout",
          "text": [
            "[{'MANDA 4/5# SLICED RB': 'BEEF ROAST SLI FRSH'}, {'MANDA NO STYLE COOKED RB': 'BEEF ROAST TOP RND C\\\\O MW SPT'}, {'MANDA WET PACK CAP OFF RB': 'BEEF ROAST TOP RND C\\\\O MR WHL'}, {'MANDA 10# ANDOUILLE': 'SAUSAGE ANDOUILLE BULK'}, {'MANDA 10# 3/1 MILD SKINLESS': 'SAUSAGE PORK LINK MILD 3X1'}, {'MANDA 10# MILD SAUSAGE': 'SAUSAGE PORK SMK'}, {'MR T 10# MILD SAUSAGE': 'SAUSAGE ROPE MILD'}, {'MANDA 10# SCHOOL PORK ROPE': 'SAUSAGE SMOKED ROPE'}, {'MR T 10# HOT SAUSAGE': 'SAUSAGE SMOKED MR. T'}, {'MANDA 10# HRI MILD SAUSAGE': 'SAUSAGE SMOKED'}]\n",
            "931\n"
          ]
        },
        {
          "output_type": "stream",
          "name": "stderr",
          "text": [
            "Processing Batches: 100%|██████████| 4/4 [00:16<00:00,  4.15s/it]\n"
          ]
        },
        {
          "output_type": "stream",
          "name": "stdout",
          "text": [
            "[{'PRIME TENDERLOIN 5UP 2PC/CS': 'BEEF TENDERLOIN PSMO PR'}, {'STEAK PORTERHOUSE 1/4TL CH 18 OZ': 'STEAK PORTER 1\\\\2TL CH'}, {'STK TENDER FILET CC COM 6OZ': 'STEAK FILET C\\\\C COM'}, {'PORK GROUND 80/20 FRESH': 'PORK GROUND 80\\\\20 FRSH'}, {'STEAK RIBEYE BNLS 1TL RSV Z': 'STEAK RIBEYE BNLS 1TL RSV'}, {'BEEF SHORT RIB 3-BONE REG CH 4 OZ': 'BEEF SHORT RIB PRTN'}, {'STK TENDER FILET CC COM 8OZ': 'STEAK FILET C\\\\C COM'}, {'CAB BEEF CHUCK SHORT RIB BI': 'BEEF CHUCK SHORT RIB B\\\\I BN\\\\RA'}, {'STEAK CHUCK PEC CUBED RSV': 'STEAK CHUCK PEC CUBED RSV'}, {'STEAK SKIRT INSIDE RSV1': 'STEAK SKIRT INSIDE RSV'}, {'CHICKEN THIGH DCD 1 APASTOR': 'CHICKEN THIGH DCD1X1 ALPSTSEAS'}, {'BEEF CHUCK SHORT RIB BNLS 8OZ': 'BEEF CHUCK SHORT RIB BNLS'}, {'BEEF RIBEYE LIPON SEL 15#DN': 'BEEF RIBEYE LIPON SEL'}, {'STEAK SIRL FLAP BAVETTE RSV': 'STEAK SIRL FLAP BAVETTE RSV'}, {'BEEF TENDER TAILS SEL 4Z VAC TRADA': 'STEAK FILET TAILS'}, {'CH STK RIBEYE BNLS 1 TL LANDR NHSF': 'STEAK RIBEYE BNLS 1TL CH LRG'}]\n",
            "932\n"
          ]
        },
        {
          "output_type": "stream",
          "name": "stderr",
          "text": [
            "Processing Batches: 100%|██████████| 36/36 [02:01<00:00,  3.36s/it]\n"
          ]
        },
        {
          "output_type": "stream",
          "name": "stdout",
          "text": [
            "[{'BEEF SHORT RIB BNLS': 'BEEF CHUCK SHORT RIB BNLS BULK'}, {'BEEF CHUCK SHORT': 'BEEF CHUCK SHORT RIB B\\\\I BN\\\\RA'}, {'CAB BF SIRLOIN CULOTTE': 'BEEF SIRLOIN CULOTTE MUSCL CAB'}, {'BEEF STRIPLOIN 0X1': 'BEEF STRIPLOIN CH BN\\\\RA'}, {'BEEFTENDER 189A CH': 'BEEF TENDER 189A CH BN\\\\RA'}, {'CASINGS MEDIUM 1': 'CASING SAUSAGE HOG MED'}, {'LAMB LEG BRT AUSTRALIAN': 'LAMB LEG BRT AUSTRALIAN FRZN'}, {'PORK CHOP FRNCH': 'PORK CHOP C\\\\C FRCHD'}, {'PORK GRND 80/20 FRZ': 'PORK GROUND 80\\\\20 1\\\\8 FINE'}, {'CAB STK CHUCK FLAT': 'STEAK CHUCK FLAT IRON'}, {'CAB STK CHUCK PUB': 'STEAK CHUCK SHLDR PUB SKND TMG'}, {'STK TENDER FILET CC': 'STEAK FILET C\\\\C CH'}, {'STK TENDER FILET CC': 'STEAK FILET C\\\\C CH BULK'}, {'STK RIBEYE BNLS 1TL': 'STEAK RIBEYE BNLS 1TL CH'}, {'CAB STK COWBOY RIN': 'STEAK RIBEYE SPLTBN FRNCH'}, {'CAB STK CULOTTE CAP': 'STEAK SIRL CAP STRIP'}, {'CAB STEAK SIRL FLAP': 'STEAK SIRL FLAP BAVETTE'}, {'CAB STK STRIP CC 1/2TL': 'STEAK STRIP C\\\\C 1\\\\8 1\\\\2TLBSO'}, {'STK STRIP END-CUT': 'STEAK STRIP VEIN DND CH'}, {'BEEF TENDERLOIN CH': 'BEEF TENDER PSMO CH'}, {'CAB BEEF SHORT RIB': 'BEEF SHORT RIB 3BN IAP'}, {'STEAK SKIRT OUTSIDE': 'STEAK SKIRT OUTSDE IAP'}, {'CAB BF HANGING TNDR': 'STEAK HANGER TENDER'}, {'PORK SIRLO]N ROAST': 'PORK SIRLOIN BNLS ROAST'}, {'STK RIBEYE BNLS 1TLCH': 'STEAK RIBEYE BNLS 1TL CH'}, {'BEEF CHUCK SHORT': 'BEEF CHUCK SHORT RIB B\\\\I BN\\\\RA'}, {'PORK CHOP CC LOIN': 'PORK CHOP B\\\\I C\\\\C LOIN'}, {'PORK CHOP CC LOIN': 'PORK CHOP B\\\\I C\\\\C LOIN'}, {'PORK CHOP CC LOIN': 'PORK CHOP B\\\\I C\\\\C LOIN'}, {'CAB STK TENDER FILET': 'STEAK FILET E\\\\E'}, {'CAB STK TENDER FILET': 'STEAK FILET E\\\\E'}, {'BEEF SHRTLN CH CTO': 'BEEF CHUCK SHORT RIB BNLS M\\\\A'}, {'BEEF CHUCK SHORT': 'STEAK SHORTLOIN CH S\\\\A CRUSIN'}, {'BEEF TENDER PTR BCH': 'BEEF TENDER PSMO BCH PRF'}, {'PORK CHOP B/1 C/C RIB': 'PORK CHOP B\\\\I C\\\\C RIB ONLY'}, {'STK TENDER FILET CC': 'STEAK FILET C\\\\C BCH PRF BULK'}, {'STK TNDR FILET CC BCH': 'STEAK FILET C\\\\C BCH PRF BULK'}, {'STEAK STRIP CC 1TL': 'STEAK STRIP C\\\\C 1TL CH'}, {'CAB TOP ROUND DND': 'BEEF TOP RND DND CAP OFF'}, {'CH STK TENDER FILET': 'STEAK FILET C\\\\C CH BULK C\\\\B'}, {'CAB STEAK FLANK SQR': 'STEAK FLANK SQR CUT'}, {'CAB STK CULOTTE CAP': 'STEAK SIRL CAP STRIP'}, {'CAB BEEF SIRLOIN FLAP': 'BEEF SIRLOIN FLAP'}, {'CAB STK BALL TIP NO-FAT': 'STEAK SIRL BALLTIP SKND'}, {'CAB STK TOP BUTT': 'STEAK SIRL TOP BSBALL SKND'}, {'CAB STK COWBOY SPLIT': 'STEAK RIBEYE SPLTBN FRNCH'}, {'PRIME EXPORT RIB 16': 'BEEF EXPORT RIBEYE PR'}, {'STK RIBEYE COMM RND': 'STEAK RIBEYE INJECTED RND COMM'}]\n",
            "933\n"
          ]
        },
        {
          "output_type": "stream",
          "name": "stderr",
          "text": [
            "Processing Batches: 100%|██████████| 3/3 [00:10<00:00,  3.34s/it]\n"
          ]
        },
        {
          "output_type": "stream",
          "name": "stdout",
          "text": [
            "[{'Lobster Tails 4-5oz 10#': 'LOBSTER TAIL CANADN 4-5 OZ'}, {'Breaded Popcorn Shrimp 12#': 'SHRIMP POPCORN BRD 60-80 CT'}, {'JCS coconut shri b/f 12#': 'SHRIMP BRD COCO BFLY 16/20'}, {'Pollock fillet 2-4 25#': 'POLLOCK FIL SKLS IQF 2-4 OZ AK'}, {'21/25 Shrimp 40#': 'SHRIMP WHT HDLS S/ON 21/25 RAW'}, {'Squid 5/8 Domestic R&T 50#': 'SQUID RING & TENT'}, {'Crab King Red L 9/12 ct 20#King Crab UNDER 700 gram 28': 'CRAB KING RED L&C 9/12'}, {'snow russian 10/12 oz 20#': 'CRAB SNOW CLUSTER 10/UP CKD'}, {'Dungeness Crab 25#': 'CRAB DUNGENES CLSTR CKD JCS'}, {'POKE TUNA 10#': 'TUNA AHI POKE CUBED IVP'}, {'Lobster Tails 12/14 oz E1 10#': 'LOBSTER TAIL AUST 12-14Z SAE 1'}, {'mahi fletches 40#': 'MAHI MAHI FLETCH BL/SL'}]\n",
            "934\n"
          ]
        },
        {
          "output_type": "stream",
          "name": "stderr",
          "text": [
            "Processing Batches: 100%|██████████| 2/2 [00:05<00:00,  2.81s/it]\n"
          ]
        },
        {
          "output_type": "stream",
          "name": "stdout",
          "text": [
            "[{'Chilean Seabass 7-9 oz 10#': 'SEABASS PRTN CHILEAN 7-9Z IQF'}, {'26/30 Shrimp 24#': 'SHRIMP GH 26/30 CT YE'}, {'King Salmon IVP 19 x 8 oz': 'SALMON FIL ORA KNG IVP'}, {'Mahi-Mahi 7-8 oz 10#': 'MAHI MAHI PRTN BLSL 7-8 OZ'}, {'Salmon 7 oz 10# SG': 'SALMON PRTN 7 OZ 60 SOUTH SG'}, {'Squid 5/8 Domestic R&T 50#': 'SQUID RING & TENT'}, {'cod fillets 45# pacific': 'COD FILLET SKLS'}, {'Lobster Tails 4-5oz 10#': 'LOBSTER TAIL CANADN 4-5 OZ'}, {'Crab Shells 3 oz': 'CRAB SHELL 800 CT 3 OZ'}, {'Pollock fillet 2-4 25#': 'POLLOCK FIL SKLS IQF 2-4 OZ AK'}, {'21/25 White Shrimp 40#': 'SHRIMP WHT HDLS S/ON 21/25 RAW'}]\n",
            "935\n"
          ]
        },
        {
          "output_type": "stream",
          "name": "stderr",
          "text": [
            "Processing Batches: 100%|██████████| 1/1 [00:01<00:00,  1.21s/it]\n"
          ]
        },
        {
          "output_type": "stream",
          "name": "stdout",
          "text": [
            "[{'Snow Crab 5-8 oz 30#': 'CRAB SNOW CLSTR 5-8 OZ JCS'}, {'Mahi-Mahi 7-8 oz 10#': 'MAHI MAHI PRTN BLSL 7-8 OZ'}, {'Salmon 5oz nor oz': 'SALMON FIL 5 OZ 10#'}, {'21/25 Shrimp 24#': 'SHRIMP GH SHELL ON 21/25 CT'}, {'Salmon 7 oz 10# SG': 'SALMON PRTN 7 OZ 60 SOUTH SG'}]\n",
            "936\n"
          ]
        },
        {
          "output_type": "stream",
          "name": "stderr",
          "text": [
            "Processing Batches: 100%|██████████| 1/1 [00:04<00:00,  4.64s/it]\n"
          ]
        },
        {
          "output_type": "stream",
          "name": "stdout",
          "text": [
            "[{'snapper 6-8 oz 10#': 'SNAPPER FIL 6-8 OZ IVP SURNAME'}, {'21/25 Shrimp 24#': 'SHRIMP GH SHELL ON 21/25 CT'}, {'fillets 45# pacific': 'COD FILLET SKLS'}, {'King Salmon IVP 19 x 8 oz': 'SALMON FIL ORA KNG IVP'}, {'Clams Wh ckd 17/22 ct 20#': 'CLAM WHL CKD IN SHELL 17-22'}, {'Mahi-Mahi 7-8 oz 10#': 'MAHI MAHI PRTN BLSL 7-8 OZ'}, {'Flounder (small) 3-5 oz 10#': 'FLOUNDER FILET BL/SL 3-4 OZ'}, {'snow russian 10/12 oz 20#': 'CRAB SNOW CLUSTER 10/UP CKD'}]\n",
            "937\n"
          ]
        },
        {
          "output_type": "stream",
          "name": "stderr",
          "text": [
            "Processing Batches: 100%|██████████| 2/2 [00:05<00:00,  2.90s/it]\n"
          ]
        },
        {
          "output_type": "stream",
          "name": "stdout",
          "text": [
            "[{'Lobster Tails 4-5oz 10#': 'LOBSTER TAIL CANADN 4-5 OZ'}, {'U-12 Shrimp 24#': 'SHRIMP WHT HDLS S/ON U-12 RAW'}, {'Cod loins 16/32 oz ATL 44 #': 'COD LOIN ATL BL/SL 16-32 OZ'}, {'Canada': 'LOBSTER TAIL CANADN 5-6OZ RAW'}, {'26/30 Shrimp 24#': 'SHRIMP GH 26/30 CT YE'}, {'snapper 6-8 oz 10#': 'SNAPPER FIL 6-8 OZ IVP SURNAME'}, {'JCS coconut shri b/f 12#': 'SHRIMP BRD COCO BFLY 16/20'}, {'Flounder (small) 3-5 oz 10#': 'FLOUNDER FILET BL/SL 3-4 OZ'}, {'King Crab 700- 900g 3968 lb': 'CRAB KING CLSTR 700-900G'}, {'Tilapia Fillets 3-5 oz 10#': 'TILAPIA FILET SKNLS 3-5OZ'}]\n",
            "938\n"
          ]
        },
        {
          "output_type": "stream",
          "name": "stderr",
          "text": [
            "Processing Batches: 100%|██████████| 1/1 [00:01<00:00,  1.28s/it]\n"
          ]
        },
        {
          "output_type": "stream",
          "name": "stdout",
          "text": [
            "[{'Salmon 7 oz 10#': 'SALMON FIL PRTN 7-8 OZ RAW IVP'}, {'21/25 Shrimp 24#': 'SHRIMP GH SHELL ON 21/25 CT'}, {'Pollock fillet 2-4 25#': 'POLLOCK FIL SKLS IQF 2-4 OZ AK'}, {'JCS coconut shri b/f 12#': 'SHRIMP BRD COCO BFLY 16/20'}, {'Squid 5/8 Domestic R&T 50#': 'SQUID RING & TENT'}]\n",
            "939\n"
          ]
        },
        {
          "output_type": "stream",
          "name": "stderr",
          "text": [
            "Processing Batches: 100%|██████████| 1/1 [00:01<00:00,  1.24s/it]\n"
          ]
        },
        {
          "output_type": "stream",
          "name": "stdout",
          "text": [
            "[{'26/30 Shrimp 24#': 'SHRIMP GH 26/30 CT YE'}, {'Mahi-Mahi 7-8 oz 10#': 'MAHI MAHI PRTN BLSL 7-8 OZ'}, {'21/25 Shrimp 24#': 'SHRIMP GH SHELL ON 21/25 CT'}, {'Salmon 7 oz 10#': 'SALMON FIL PRTN 7-8 OZ RAW IVP'}, {'Snow Crab 5/8 30 lb': 'CRAB SNOW CLSTR 5-8 OZ JCS'}]\n",
            "940\n"
          ]
        },
        {
          "output_type": "stream",
          "name": "stderr",
          "text": [
            "Processing Batches: 100%|██████████| 1/1 [00:00<00:00,  1.99it/s]\n"
          ]
        },
        {
          "output_type": "stream",
          "name": "stdout",
          "text": [
            "[{'Lobster Tails 4-5oz 10#': 'LOBSTER TAIL CANADN 4-5 OZ'}, {'cod fillets 45# pacific': 'COD FILLET SKLS'}, {'Squid 5/8 Domestic R&T 50#': 'SQUID RING & TENT'}]\n",
            "941\n"
          ]
        },
        {
          "output_type": "stream",
          "name": "stderr",
          "text": [
            "Processing Batches: 100%|██████████| 1/1 [00:03<00:00,  3.57s/it]\n"
          ]
        },
        {
          "output_type": "stream",
          "name": "stdout",
          "text": [
            "[{'Snow Crab 5-8 oz 30#': 'CRAB SNOW CLSTR 5-8 OZ JCS'}, {'Snow Crab 5-8 oz 30#': 'CRAB SNOW CLSTR 5-8 OZ JCS'}, {'26/30 Pink Shrimp 50#': 'SHRIMP GH USA DOM 26/30'}, {'Flounder (small) 3-5 oz 10#': 'FLOUNDER FILET BL/SL 3-4 OZ'}, {'Tilapia Fillets 3-5 oz 10#': 'TILAPIA FILET SKNLS 3-5OZ'}, {'Dungeness Crab 25#': 'CRAB DUNGENES CLSTR CKD JCS'}, {'snow russian 10/12 oz 20#': 'CRAB SNOW CLUSTER 10/UP CKD'}, {'Squid 5/8 Domestic R&T 50#': 'SQUID RING & TENT'}]\n",
            "942\n"
          ]
        },
        {
          "output_type": "stream",
          "name": "stderr",
          "text": [
            "Processing Batches: 100%|██████████| 2/2 [00:06<00:00,  3.08s/it]\n"
          ]
        },
        {
          "output_type": "stream",
          "name": "stdout",
          "text": [
            "[{'Snow Crab 5-8 oz 30#': 'CRAB SNOW CLSTR 5-8 OZ JCS'}, {'Charthouse': 'LOBSTER TAIL 6-7Z SRB 23-26 CT'}, {'Scallops u-10 30#': 'SCALLOP IQF DOMSTC U-10'}, {'Squid 5/8 Domestic R&T 50#': 'SQUID RING & TENT'}, {'sablefish 10 lb 8 oz': 'COD FIL SABLEFISH PRTN 8 OZ'}, {'21/25 Shrimp 24#': 'SHRIMP GH SHELL ON 21/25 CT'}, {'Tilapia Fillets 3-5 oz 10#': 'TILAPIA FILET SKNLS 3-5OZ'}, {'ckl 12#': 'LOBSTER MEAT 12#'}, {'Salmon 7 oz 10#': 'SALMON FIL PRTN 7-8 OZ RAW IVP'}]\n",
            "943\n"
          ]
        },
        {
          "output_type": "stream",
          "name": "stderr",
          "text": [
            "Processing Batches: 100%|██████████| 2/2 [00:06<00:00,  3.33s/it]\n"
          ]
        },
        {
          "output_type": "stream",
          "name": "stdout",
          "text": [
            "[{'Pork Ground Raw': 'PORK GROUND RAW'}, {'Pork Shank Osso Bucco': 'PORK SHANK OSSO BUCCO 3IN GAP'}, {'Pork Belly Skin Off': 'PORK BELLY S/O'}, {'Pork Loin Rack 11 Rib Chine-Off': 'PORK LOIN RACK  11RIB CHN-OFF'}, {'Pork Loin Boneless Center Cut': 'PORK LOIN BNLS CC'}, {'Boneless Sirloin': 'PORK SIRLOIN BNLS  ALL NAT'}, {'Pork Loin Boneless Secreto': 'PORK LOIN BONELESS SECRETO'}, {'Pork Loin Rack French 11 Rib': 'PORK LOIN RACK FRNCH 11RIB'}, {'Pork Butt Bone In Boxed 1x4 Inch': 'PORK BUTT BI BXD 1X4'}, {'Pork Butt Boneless 1x4': 'PORK BUTT BNLS 1X4 GAP'}, {'Pork Rib St Louis Competition': 'PORK RIB ST LOUIS COMPETITION'}]\n",
            "944\n"
          ]
        },
        {
          "output_type": "stream",
          "name": "stderr",
          "text": [
            "Processing Batches: 100%|██████████| 1/1 [00:00<00:00,  4.05it/s]\n"
          ]
        },
        {
          "output_type": "stream",
          "name": "stdout",
          "text": [
            "[{'BAG FOOD LINER BU': 'BAG FOOD LINER BUN SHEET'}, {'BAG FOOD LINER': 'BAG FOOD LINER HOTEL PAN 6IN'}]\n",
            "945\n"
          ]
        },
        {
          "output_type": "stream",
          "name": "stderr",
          "text": [
            "Processing Batches: 100%|██████████| 1/1 [00:00<00:00,  3.13it/s]"
          ]
        },
        {
          "output_type": "stream",
          "name": "stdout",
          "text": [
            "[{'Napkin Band Burgundy 15 x 425- SYSCO': 'BAND NAPKIN PAPR 1.5X4.25 BURG'}, {'Napkin_Band White 15 x 425- SYSCO': 'BAND NAPKIN PAPR 1.5X4.25 WHT'}]\n",
            "Model output saved to: /content/drive/MyDrive/Invoice_PO_Match/mapped_invoices_po_output.csv\n"
          ]
        },
        {
          "output_type": "stream",
          "name": "stderr",
          "text": [
            "\n"
          ]
        }
      ]
    },
    {
      "cell_type": "code",
      "source": [
        "fin_df = pd.read_csv(\"/content/drive/MyDrive/Invoice_PO_Match/mapped_invoices_po_output.csv\")\n",
        "fin_df.head()"
      ],
      "metadata": {
        "colab": {
          "base_uri": "https://localhost:8080/",
          "height": 293
        },
        "id": "WfAQOllF39tI",
        "outputId": "ec795dad-be94-4ad9-8a43-dc33eecbb24d"
      },
      "execution_count": 100,
      "outputs": [
        {
          "output_type": "execute_result",
          "data": {
            "text/plain": [
              "     invoice_id                                       invoice_desc  \\\n",
              "0  INV-49266647  ['25103 ICE CREAM MANGO SORBETTO TRAY', 'ICE C...   \n",
              "1  INV-49266660  ['ICE CREAM GELATO MACKINAC FDGE 3/5LT', 'ICE ...   \n",
              "2  INV-49266724  ['Scotch-Brite Quick Clean Griddle Liquid 700-...   \n",
              "3  INV-49267382  ['Jersey Mikes Mini Wheat Sub', 'Jersey Mikes'...   \n",
              "4  INV-49267510  ['CASES BEEF GRND CHUCK PATTY 4oz', '14 CASES ...   \n",
              "\n",
              "                                        PO_line_desc  \\\n",
              "0  ['ICE CREAM MANGO SORBETTO TRAY', 'ICE CREAM G...   \n",
              "1  ['ICE CREAM GELATO MACKINAC FDGE', 'ICE CREAM ...   \n",
              "2  ['CLEANER GRL QUICKCLEAN PCKT', 'PAD SCOUR COM...   \n",
              "3  ['ROLL MINI WHEAT SUB', 'ROLL MINI WHT SUB', '...   \n",
              "4  ['BEEF GRND CHUCK PATTY 4OZ', 'BEEF GRND THICK...   \n",
              "\n",
              "                                        true_mapping  \\\n",
              "0  [{'25103 ICE CREAM MANGO SORBETTO TRAY': 'ICE ...   \n",
              "1  [{'ICE CREAM GELATO MACKINAC FDGE 3/5LT': 'ICE...   \n",
              "2  [{'Scotch-Brite Quick Clean Griddle Liquid 700...   \n",
              "3  [{'Jersey Mikes Mini Wheat Sub': 'ROLL MINI WH...   \n",
              "4  [{'CASES BEEF GRND CHUCK PATTY 4oz': 'BEEF GRN...   \n",
              "\n",
              "                                        model_output  \n",
              "0  [{'25103 ICE CREAM MANGO SORBETTO TRAY': 'ICE ...  \n",
              "1  [{'ICE CREAM GELATO MACKINAC FDGE 3/5LT': 'ICE...  \n",
              "2  [{'Scotch-Brite Quick Clean Griddle Liquid 700...  \n",
              "3  [{'Jersey Mikes Mini Wheat Sub': 'ROLL MINI WH...  \n",
              "4  [{'CASES BEEF GRND CHUCK PATTY 4oz': 'BEEF GRN...  "
            ],
            "text/html": [
              "\n",
              "  <div id=\"df-4348726f-1535-4120-954d-248baa86b4b7\" class=\"colab-df-container\">\n",
              "    <div>\n",
              "<style scoped>\n",
              "    .dataframe tbody tr th:only-of-type {\n",
              "        vertical-align: middle;\n",
              "    }\n",
              "\n",
              "    .dataframe tbody tr th {\n",
              "        vertical-align: top;\n",
              "    }\n",
              "\n",
              "    .dataframe thead th {\n",
              "        text-align: right;\n",
              "    }\n",
              "</style>\n",
              "<table border=\"1\" class=\"dataframe\">\n",
              "  <thead>\n",
              "    <tr style=\"text-align: right;\">\n",
              "      <th></th>\n",
              "      <th>invoice_id</th>\n",
              "      <th>invoice_desc</th>\n",
              "      <th>PO_line_desc</th>\n",
              "      <th>true_mapping</th>\n",
              "      <th>model_output</th>\n",
              "    </tr>\n",
              "  </thead>\n",
              "  <tbody>\n",
              "    <tr>\n",
              "      <th>0</th>\n",
              "      <td>INV-49266647</td>\n",
              "      <td>['25103 ICE CREAM MANGO SORBETTO TRAY', 'ICE C...</td>\n",
              "      <td>['ICE CREAM MANGO SORBETTO TRAY', 'ICE CREAM G...</td>\n",
              "      <td>[{'25103 ICE CREAM MANGO SORBETTO TRAY': 'ICE ...</td>\n",
              "      <td>[{'25103 ICE CREAM MANGO SORBETTO TRAY': 'ICE ...</td>\n",
              "    </tr>\n",
              "    <tr>\n",
              "      <th>1</th>\n",
              "      <td>INV-49266660</td>\n",
              "      <td>['ICE CREAM GELATO MACKINAC FDGE 3/5LT', 'ICE ...</td>\n",
              "      <td>['ICE CREAM GELATO MACKINAC FDGE', 'ICE CREAM ...</td>\n",
              "      <td>[{'ICE CREAM GELATO MACKINAC FDGE 3/5LT': 'ICE...</td>\n",
              "      <td>[{'ICE CREAM GELATO MACKINAC FDGE 3/5LT': 'ICE...</td>\n",
              "    </tr>\n",
              "    <tr>\n",
              "      <th>2</th>\n",
              "      <td>INV-49266724</td>\n",
              "      <td>['Scotch-Brite Quick Clean Griddle Liquid 700-...</td>\n",
              "      <td>['CLEANER GRL QUICKCLEAN PCKT', 'PAD SCOUR COM...</td>\n",
              "      <td>[{'Scotch-Brite Quick Clean Griddle Liquid 700...</td>\n",
              "      <td>[{'Scotch-Brite Quick Clean Griddle Liquid 700...</td>\n",
              "    </tr>\n",
              "    <tr>\n",
              "      <th>3</th>\n",
              "      <td>INV-49267382</td>\n",
              "      <td>['Jersey Mikes Mini Wheat Sub', 'Jersey Mikes'...</td>\n",
              "      <td>['ROLL MINI WHEAT SUB', 'ROLL MINI WHT SUB', '...</td>\n",
              "      <td>[{'Jersey Mikes Mini Wheat Sub': 'ROLL MINI WH...</td>\n",
              "      <td>[{'Jersey Mikes Mini Wheat Sub': 'ROLL MINI WH...</td>\n",
              "    </tr>\n",
              "    <tr>\n",
              "      <th>4</th>\n",
              "      <td>INV-49267510</td>\n",
              "      <td>['CASES BEEF GRND CHUCK PATTY 4oz', '14 CASES ...</td>\n",
              "      <td>['BEEF GRND CHUCK PATTY 4OZ', 'BEEF GRND THICK...</td>\n",
              "      <td>[{'CASES BEEF GRND CHUCK PATTY 4oz': 'BEEF GRN...</td>\n",
              "      <td>[{'CASES BEEF GRND CHUCK PATTY 4oz': 'BEEF GRN...</td>\n",
              "    </tr>\n",
              "  </tbody>\n",
              "</table>\n",
              "</div>\n",
              "    <div class=\"colab-df-buttons\">\n",
              "\n",
              "  <div class=\"colab-df-container\">\n",
              "    <button class=\"colab-df-convert\" onclick=\"convertToInteractive('df-4348726f-1535-4120-954d-248baa86b4b7')\"\n",
              "            title=\"Convert this dataframe to an interactive table.\"\n",
              "            style=\"display:none;\">\n",
              "\n",
              "  <svg xmlns=\"http://www.w3.org/2000/svg\" height=\"24px\" viewBox=\"0 -960 960 960\">\n",
              "    <path d=\"M120-120v-720h720v720H120Zm60-500h600v-160H180v160Zm220 220h160v-160H400v160Zm0 220h160v-160H400v160ZM180-400h160v-160H180v160Zm440 0h160v-160H620v160ZM180-180h160v-160H180v160Zm440 0h160v-160H620v160Z\"/>\n",
              "  </svg>\n",
              "    </button>\n",
              "\n",
              "  <style>\n",
              "    .colab-df-container {\n",
              "      display:flex;\n",
              "      gap: 12px;\n",
              "    }\n",
              "\n",
              "    .colab-df-convert {\n",
              "      background-color: #E8F0FE;\n",
              "      border: none;\n",
              "      border-radius: 50%;\n",
              "      cursor: pointer;\n",
              "      display: none;\n",
              "      fill: #1967D2;\n",
              "      height: 32px;\n",
              "      padding: 0 0 0 0;\n",
              "      width: 32px;\n",
              "    }\n",
              "\n",
              "    .colab-df-convert:hover {\n",
              "      background-color: #E2EBFA;\n",
              "      box-shadow: 0px 1px 2px rgba(60, 64, 67, 0.3), 0px 1px 3px 1px rgba(60, 64, 67, 0.15);\n",
              "      fill: #174EA6;\n",
              "    }\n",
              "\n",
              "    .colab-df-buttons div {\n",
              "      margin-bottom: 4px;\n",
              "    }\n",
              "\n",
              "    [theme=dark] .colab-df-convert {\n",
              "      background-color: #3B4455;\n",
              "      fill: #D2E3FC;\n",
              "    }\n",
              "\n",
              "    [theme=dark] .colab-df-convert:hover {\n",
              "      background-color: #434B5C;\n",
              "      box-shadow: 0px 1px 3px 1px rgba(0, 0, 0, 0.15);\n",
              "      filter: drop-shadow(0px 1px 2px rgba(0, 0, 0, 0.3));\n",
              "      fill: #FFFFFF;\n",
              "    }\n",
              "  </style>\n",
              "\n",
              "    <script>\n",
              "      const buttonEl =\n",
              "        document.querySelector('#df-4348726f-1535-4120-954d-248baa86b4b7 button.colab-df-convert');\n",
              "      buttonEl.style.display =\n",
              "        google.colab.kernel.accessAllowed ? 'block' : 'none';\n",
              "\n",
              "      async function convertToInteractive(key) {\n",
              "        const element = document.querySelector('#df-4348726f-1535-4120-954d-248baa86b4b7');\n",
              "        const dataTable =\n",
              "          await google.colab.kernel.invokeFunction('convertToInteractive',\n",
              "                                                    [key], {});\n",
              "        if (!dataTable) return;\n",
              "\n",
              "        const docLinkHtml = 'Like what you see? Visit the ' +\n",
              "          '<a target=\"_blank\" href=https://colab.research.google.com/notebooks/data_table.ipynb>data table notebook</a>'\n",
              "          + ' to learn more about interactive tables.';\n",
              "        element.innerHTML = '';\n",
              "        dataTable['output_type'] = 'display_data';\n",
              "        await google.colab.output.renderOutput(dataTable, element);\n",
              "        const docLink = document.createElement('div');\n",
              "        docLink.innerHTML = docLinkHtml;\n",
              "        element.appendChild(docLink);\n",
              "      }\n",
              "    </script>\n",
              "  </div>\n",
              "\n",
              "\n",
              "<div id=\"df-85ee5880-d69c-4ef9-93cb-9b2571d096d5\">\n",
              "  <button class=\"colab-df-quickchart\" onclick=\"quickchart('df-85ee5880-d69c-4ef9-93cb-9b2571d096d5')\"\n",
              "            title=\"Suggest charts\"\n",
              "            style=\"display:none;\">\n",
              "\n",
              "<svg xmlns=\"http://www.w3.org/2000/svg\" height=\"24px\"viewBox=\"0 0 24 24\"\n",
              "     width=\"24px\">\n",
              "    <g>\n",
              "        <path d=\"M19 3H5c-1.1 0-2 .9-2 2v14c0 1.1.9 2 2 2h14c1.1 0 2-.9 2-2V5c0-1.1-.9-2-2-2zM9 17H7v-7h2v7zm4 0h-2V7h2v10zm4 0h-2v-4h2v4z\"/>\n",
              "    </g>\n",
              "</svg>\n",
              "  </button>\n",
              "\n",
              "<style>\n",
              "  .colab-df-quickchart {\n",
              "      --bg-color: #E8F0FE;\n",
              "      --fill-color: #1967D2;\n",
              "      --hover-bg-color: #E2EBFA;\n",
              "      --hover-fill-color: #174EA6;\n",
              "      --disabled-fill-color: #AAA;\n",
              "      --disabled-bg-color: #DDD;\n",
              "  }\n",
              "\n",
              "  [theme=dark] .colab-df-quickchart {\n",
              "      --bg-color: #3B4455;\n",
              "      --fill-color: #D2E3FC;\n",
              "      --hover-bg-color: #434B5C;\n",
              "      --hover-fill-color: #FFFFFF;\n",
              "      --disabled-bg-color: #3B4455;\n",
              "      --disabled-fill-color: #666;\n",
              "  }\n",
              "\n",
              "  .colab-df-quickchart {\n",
              "    background-color: var(--bg-color);\n",
              "    border: none;\n",
              "    border-radius: 50%;\n",
              "    cursor: pointer;\n",
              "    display: none;\n",
              "    fill: var(--fill-color);\n",
              "    height: 32px;\n",
              "    padding: 0;\n",
              "    width: 32px;\n",
              "  }\n",
              "\n",
              "  .colab-df-quickchart:hover {\n",
              "    background-color: var(--hover-bg-color);\n",
              "    box-shadow: 0 1px 2px rgba(60, 64, 67, 0.3), 0 1px 3px 1px rgba(60, 64, 67, 0.15);\n",
              "    fill: var(--button-hover-fill-color);\n",
              "  }\n",
              "\n",
              "  .colab-df-quickchart-complete:disabled,\n",
              "  .colab-df-quickchart-complete:disabled:hover {\n",
              "    background-color: var(--disabled-bg-color);\n",
              "    fill: var(--disabled-fill-color);\n",
              "    box-shadow: none;\n",
              "  }\n",
              "\n",
              "  .colab-df-spinner {\n",
              "    border: 2px solid var(--fill-color);\n",
              "    border-color: transparent;\n",
              "    border-bottom-color: var(--fill-color);\n",
              "    animation:\n",
              "      spin 1s steps(1) infinite;\n",
              "  }\n",
              "\n",
              "  @keyframes spin {\n",
              "    0% {\n",
              "      border-color: transparent;\n",
              "      border-bottom-color: var(--fill-color);\n",
              "      border-left-color: var(--fill-color);\n",
              "    }\n",
              "    20% {\n",
              "      border-color: transparent;\n",
              "      border-left-color: var(--fill-color);\n",
              "      border-top-color: var(--fill-color);\n",
              "    }\n",
              "    30% {\n",
              "      border-color: transparent;\n",
              "      border-left-color: var(--fill-color);\n",
              "      border-top-color: var(--fill-color);\n",
              "      border-right-color: var(--fill-color);\n",
              "    }\n",
              "    40% {\n",
              "      border-color: transparent;\n",
              "      border-right-color: var(--fill-color);\n",
              "      border-top-color: var(--fill-color);\n",
              "    }\n",
              "    60% {\n",
              "      border-color: transparent;\n",
              "      border-right-color: var(--fill-color);\n",
              "    }\n",
              "    80% {\n",
              "      border-color: transparent;\n",
              "      border-right-color: var(--fill-color);\n",
              "      border-bottom-color: var(--fill-color);\n",
              "    }\n",
              "    90% {\n",
              "      border-color: transparent;\n",
              "      border-bottom-color: var(--fill-color);\n",
              "    }\n",
              "  }\n",
              "</style>\n",
              "\n",
              "  <script>\n",
              "    async function quickchart(key) {\n",
              "      const quickchartButtonEl =\n",
              "        document.querySelector('#' + key + ' button');\n",
              "      quickchartButtonEl.disabled = true;  // To prevent multiple clicks.\n",
              "      quickchartButtonEl.classList.add('colab-df-spinner');\n",
              "      try {\n",
              "        const charts = await google.colab.kernel.invokeFunction(\n",
              "            'suggestCharts', [key], {});\n",
              "      } catch (error) {\n",
              "        console.error('Error during call to suggestCharts:', error);\n",
              "      }\n",
              "      quickchartButtonEl.classList.remove('colab-df-spinner');\n",
              "      quickchartButtonEl.classList.add('colab-df-quickchart-complete');\n",
              "    }\n",
              "    (() => {\n",
              "      let quickchartButtonEl =\n",
              "        document.querySelector('#df-85ee5880-d69c-4ef9-93cb-9b2571d096d5 button');\n",
              "      quickchartButtonEl.style.display =\n",
              "        google.colab.kernel.accessAllowed ? 'block' : 'none';\n",
              "    })();\n",
              "  </script>\n",
              "</div>\n",
              "\n",
              "    </div>\n",
              "  </div>\n"
            ],
            "application/vnd.google.colaboratory.intrinsic+json": {
              "type": "dataframe",
              "variable_name": "fin_df",
              "summary": "{\n  \"name\": \"fin_df\",\n  \"rows\": 946,\n  \"fields\": [\n    {\n      \"column\": \"invoice_id\",\n      \"properties\": {\n        \"dtype\": \"string\",\n        \"num_unique_values\": 946,\n        \"samples\": [\n          \"INV-49789628\",\n          \"INV-49281661\",\n          \"INV-50227628\"\n        ],\n        \"semantic_type\": \"\",\n        \"description\": \"\"\n      }\n    },\n    {\n      \"column\": \"invoice_desc\",\n      \"properties\": {\n        \"dtype\": \"string\",\n        \"num_unique_values\": 830,\n        \"samples\": [\n          \"['HALIBUT FLETCH SKIN-ON MEIERS FRESH -', 'SALMON FIL SKON 4-5 TIGHT TRIM - Canada']\",\n          \"['Dough Pizza 10in Hnd Tssed Lg', 'Dough Pizza Indiv Famous Thin', 'Dough Pizza Small Famous Thin', 'Dough Pizza Thick 14in New', 'Meatball Beef & Pork Preck Rnd', 'Pizza Crust Cauliflower 10', '-Sausage Ital Family Recipe Top']\",\n          \"['BRANZINO BFLY 8-10 OZ', 'HALIBUT H&G 10-20#', 'HAMACHI FIL S/ON', 'OYSTER IN SHELL BBQ', 'OYSTER EASTERN INSHELL', 'SALMON ATL FLT 3-4#S/ON', 'SALMON ATL FLT 3-4#S/L', 'SALMON ATL PRTN 5OZ', 'SALMON FIL SKON D-TRIM', 'TUNA AHI #1 C/C LOIN']\"\n        ],\n        \"semantic_type\": \"\",\n        \"description\": \"\"\n      }\n    },\n    {\n      \"column\": \"PO_line_desc\",\n      \"properties\": {\n        \"dtype\": \"string\",\n        \"num_unique_values\": 777,\n        \"samples\": [\n          \"['HALIBUT FILET FRSH', 'HALIBUT FLETCH SKON MEIERS', 'MIX SOUP HONDASHI', 'SALMON ATL WHL FRSH 14-16#', 'SALMON FIL SCOTTISH SCALED', 'SALMON WHL KNG ORA', 'SAUCE MIRIN WINE', 'SEASONING RICE FURIKAKE', 'SPICE WASABI PWDR W/WASABITS', 'VINEGAR RICE SHIRAGIKU']\",\n          \"['SALMON ATLANTIC D TRIM PBO', 'SALMON ATL FIL SKLS 3-4# PREM', 'SALMON ATL FIL 2-3 E TRIM']\",\n          \"['CHEESE MARIACHI SPICE MIX', 'CHEESE PROVOLONE SHRD', 'CHEESE ROMANO OREGANO BLEND', 'HAM SLI CKD', 'PEPPERONI SLICED', 'SALAMI HARD SLI']\"\n        ],\n        \"semantic_type\": \"\",\n        \"description\": \"\"\n      }\n    },\n    {\n      \"column\": \"true_mapping\",\n      \"properties\": {\n        \"dtype\": \"string\",\n        \"num_unique_values\": 830,\n        \"samples\": [\n          \"[{'HALIBUT FLETCH SKIN-ON MEIERS FRESH -': 'HALIBUT FLETCH SKON MEIERS'}, {'SALMON FIL SKON 4-5 TIGHT TRIM - Canada': 'SALMON FIL SKON 4-5 TIGHT TRIM'}]\",\n          \"[{'Dough Pizza 10in Hnd Tssed Lg': 'DOUGH PIZZA 10IN HND TSSED LG'}, {'Dough Pizza Indiv Famous Thin': 'DOUGH PIZZA INDIV FAMOUS THIN'}, {'Dough Pizza Small Famous Thin': 'DOUGH PIZZA SMALL FAMOUS THIN'}, {'Dough Pizza Thick 14in New': 'DOUGH PIZZA THICK 14IN NEW'}, {'Meatball Beef & Pork Preck Rnd': 'MEATBALL BEEF & PORK PRECK RND'}, {'Pizza Crust Cauliflower 10': 'PIZZA CRUST CAULIFLOWER 10'}, {'-Sausage Ital Family Recipe Top': 'SAUSAGE ITAL FAMILY RECIPE TOP'}]\",\n          \"[{'BRANZINO BFLY 8-10 OZ': 'BASS SEA BFLY BRANZINO 8-10 OZ'}, {'HALIBUT H&G 10-20#': 'HALIBUT WHL FRSH 10-20#'}, {'HAMACHI FIL S/ON': 'HAMACHI FILET S/ON YELLOWTAIL'}, {'OYSTER IN SHELL BBQ': 'OYSTER INSHELL BBQ SHELL XLG'}, {'OYSTER EASTERN INSHELL': 'OYSTER INSHELL BLUEPOINT'}, {'SALMON ATL FLT 3-4#S/ON': 'SALMON ATL FIL D-TRIM 3-4# CHL'}, {'SALMON ATL FLT 3-4#S/L': 'SALMON ATL FIL E-TRIM 3-4# CHL'}, {'SALMON ATL PRTN 5OZ': 'SALMON ATL PRTN 5OZ FRESH'}, {'SALMON FIL SKON D-TRIM': 'SALMON FIL SKON D-TRIM'}, {'TUNA AHI #1 C/C LOIN': 'TUNA LOIN #1 C/C SKLS BLO'}]\"\n        ],\n        \"semantic_type\": \"\",\n        \"description\": \"\"\n      }\n    },\n    {\n      \"column\": \"model_output\",\n      \"properties\": {\n        \"dtype\": \"string\",\n        \"num_unique_values\": 830,\n        \"samples\": [\n          \"[{'HALIBUT FLETCH SKIN-ON MEIERS FRESH -': 'HALIBUT FLETCH SKON MEIERS'}, {'SALMON FIL SKON 4-5 TIGHT TRIM - Canada': 'SALMON FIL SKON 4-5 TIGHT TRIM'}]\",\n          \"[{'Dough Pizza 10in Hnd Tssed Lg': 'DOUGH PIZZA 10IN HND TSSED LG'}, {'Dough Pizza Indiv Famous Thin': 'DOUGH PIZZA INDIV FAMOUS THIN'}, {'Dough Pizza Small Famous Thin': 'DOUGH PIZZA SMALL FAMOUS THIN'}, {'Dough Pizza Thick 14in New': 'DOUGH PIZZA THICK 14IN NEW'}, {'Meatball Beef & Pork Preck Rnd': 'MEATBALL BEEF & PORK PRECK RND'}, {'Pizza Crust Cauliflower 10': 'PIZZA CRUST CAULIFLOWER 10'}, {'-Sausage Ital Family Recipe Top': 'SAUSAGE ITAL FAMILY RECIPE TOP'}]\",\n          \"[{'BRANZINO BFLY 8-10 OZ': 'BASS SEA BFLY BRANZINO 8-10 OZ'}, {'HALIBUT H&G 10-20#': 'HALIBUT WHL FRSH 10-20#'}, {'HAMACHI FIL S/ON': 'HAMACHI FILET S/ON YELLOWTAIL'}, {'OYSTER IN SHELL BBQ': 'OYSTER INSHELL BBQ SHELL XLG'}, {'OYSTER EASTERN INSHELL': 'OYSTER INSHELL BLUEPOINT'}, {'SALMON ATL FLT 3-4#S/ON': 'SALMON ATL FIL D-TRIM 3-4# CHL'}, {'SALMON ATL FLT 3-4#S/L': 'SALMON ATL FIL E-TRIM 3-4# CHL'}, {'SALMON ATL PRTN 5OZ': 'SALMON ATL PRTN 5OZ FRESH'}, {'SALMON FIL SKON D-TRIM': 'SALMON FIL SKON D-TRIM'}, {'TUNA AHI #1 C/C LOIN': 'TUNA LOIN #1 C/C SKLS BLO'}]\"\n        ],\n        \"semantic_type\": \"\",\n        \"description\": \"\"\n      }\n    }\n  ]\n}"
            }
          },
          "metadata": {},
          "execution_count": 100
        }
      ]
    },
    {
      "cell_type": "code",
      "source": [
        "df[\"model_output\"][74]"
      ],
      "metadata": {
        "colab": {
          "base_uri": "https://localhost:8080/"
        },
        "id": "H9DVKNP4Wti8",
        "outputId": "41cb26f6-a8a2-4604-b878-a70a32151efd"
      },
      "execution_count": 124,
      "outputs": [
        {
          "output_type": "execute_result",
          "data": {
            "text/plain": [
              "[{'BEEF': 'BEEF TACO FLLNG RED PPR'},\n",
              " {'BEEF': 'BEEF PATTY 3-1 BEST EVER'},\n",
              " {'PATTIE': 'BEEF PIZZA PATTIES 3.5OZ'},\n",
              " {'BRD': 'BEEF BURGER TNDRBT 81/19 3-1'},\n",
              " {'BEEF': 'BEEF GRND PTY 81\\\\19 SILVER IQF'},\n",
              " {'BEEF': 'BEEF PATTY SEASONED BIG BITE'},\n",
              " {'MEATBALL': 'MEATBALL BEEF PRCKD 1 OZ'},\n",
              " {'BEEF': 'BEEF ROAST POT CKD FRZ'},\n",
              " {'STEAK': 'STEAK SIRL RESD FRZN'},\n",
              " {'BEEF': 'CHICKEN TENDER BRD FRITT DIXIE'},\n",
              " {'BRD': 'CHICKEN BNLS BRD WINGS'}]"
            ]
          },
          "metadata": {},
          "execution_count": 124
        }
      ]
    },
    {
      "cell_type": "code",
      "source": [
        "df[\"true_mapping\"][74]"
      ],
      "metadata": {
        "colab": {
          "base_uri": "https://localhost:8080/"
        },
        "id": "mrC81_n5Wx9I",
        "outputId": "2973291a-7533-44da-c6d7-0057f4c21e0a"
      },
      "execution_count": 125,
      "outputs": [
        {
          "output_type": "execute_result",
          "data": {
            "text/plain": [
              "[{'BEEF': 'BEEF PATTY SEASONED BIG BITE'},\n",
              " {'BEEF': 'BEEF PATTY 3-1 BEST EVER'},\n",
              " {'PATTIE': 'BEEF PIZZA PATTIES 3.5OZ'},\n",
              " {'BRD': 'CHICKEN TENDER BRD FRITT DIXIE'},\n",
              " {'BEEF': 'BEEF BURGER TNDRBT 81/19 3-1'},\n",
              " {'BEEF': 'BEEF GRND PTY 81\\\\19 SILVER IQF'},\n",
              " {'MEATBALL': 'MEATBALL BEEF PRCKD 1 OZ'},\n",
              " {'BEEF': 'BEEF ROAST POT CKD FRZ'},\n",
              " {'STEAK': 'STEAK SIRL RESD FRZN'},\n",
              " {'BEEF': 'BEEF TACO FLLNG RED PPR'},\n",
              " {'BRD': 'CHICKEN BNLS BRD WINGS'}]"
            ]
          },
          "metadata": {},
          "execution_count": 125
        }
      ]
    },
    {
      "cell_type": "code",
      "source": [
        "def compare_lists_of_dicts(list1, list2):\n",
        "    # Convert each dict to a sorted tuple of key-value pairs\n",
        "    list1_normalized = sorted([sorted(d.items()) for d in list1])\n",
        "    list2_normalized = sorted([sorted(d.items()) for d in list2])\n",
        "\n",
        "    # Compare the normalized lists\n",
        "    return list1_normalized == list2_normalized"
      ],
      "metadata": {
        "id": "MVXjZ9cMa6zJ"
      },
      "execution_count": 117,
      "outputs": []
    },
    {
      "cell_type": "code",
      "source": [
        "compare_lists_of_dicts(df[\"model_output\"][30],df[\"true_mapping\"][30])"
      ],
      "metadata": {
        "colab": {
          "base_uri": "https://localhost:8080/"
        },
        "id": "ZR7iXp9obJ7V",
        "outputId": "5a6ddc03-f183-4217-d121-bacc70c18d03"
      },
      "execution_count": 121,
      "outputs": [
        {
          "output_type": "execute_result",
          "data": {
            "text/plain": [
              "False"
            ]
          },
          "metadata": {},
          "execution_count": 121
        }
      ]
    },
    {
      "cell_type": "code",
      "source": [
        "correct = 0\n",
        "for i in range(len(df)):\n",
        "  if compare_lists_of_dicts(df[\"model_output\"][i],df[\"true_mapping\"][i]):\n",
        "    correct = correct + 1\n",
        "  else:\n",
        "    print(i)\n",
        "acc = correct/len(df)"
      ],
      "metadata": {
        "colab": {
          "base_uri": "https://localhost:8080/"
        },
        "id": "498DRglRWTyU",
        "outputId": "15b26c2a-5baa-42f1-a967-09e18d2c21d7"
      },
      "execution_count": 127,
      "outputs": [
        {
          "output_type": "stream",
          "name": "stdout",
          "text": [
            "30\n",
            "74\n",
            "75\n",
            "94\n",
            "106\n",
            "130\n",
            "156\n",
            "164\n",
            "244\n",
            "288\n",
            "317\n",
            "422\n",
            "521\n",
            "549\n",
            "598\n",
            "605\n",
            "608\n",
            "623\n",
            "627\n",
            "667\n",
            "756\n",
            "766\n",
            "798\n",
            "802\n",
            "834\n",
            "843\n",
            "861\n",
            "894\n",
            "932\n"
          ]
        }
      ]
    },
    {
      "cell_type": "code",
      "source": [
        "acc = acc*100\n",
        "acc"
      ],
      "metadata": {
        "colab": {
          "base_uri": "https://localhost:8080/"
        },
        "id": "hlcy5a63Zi4S",
        "outputId": "b9cc633c-20a4-4f73-c39c-03e3095f805e"
      },
      "execution_count": 128,
      "outputs": [
        {
          "output_type": "execute_result",
          "data": {
            "text/plain": [
              "96.93446088794926"
            ]
          },
          "metadata": {},
          "execution_count": 128
        }
      ]
    },
    {
      "cell_type": "code",
      "source": [],
      "metadata": {
        "id": "fDJ0HnEOZk1w"
      },
      "execution_count": null,
      "outputs": []
    }
  ]
}