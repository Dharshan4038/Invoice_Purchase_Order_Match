{
  "nbformat": 4,
  "nbformat_minor": 0,
  "metadata": {
    "colab": {
      "provenance": [],
      "gpuType": "T4",
      "mount_file_id": "1EAr7cpMQMiESSPROrp4Cwem7tprygmpG",
      "authorship_tag": "ABX9TyPYgzXGHk50WMCkx/BYrt7B",
      "include_colab_link": true
    },
    "kernelspec": {
      "name": "python3",
      "display_name": "Python 3"
    },
    "language_info": {
      "name": "python"
    },
    "accelerator": "GPU"
  },
  "cells": [
    {
      "cell_type": "markdown",
      "metadata": {
        "id": "view-in-github",
        "colab_type": "text"
      },
      "source": [
        "<a href=\"https://colab.research.google.com/github/Dharshan4038/Invoice_Purchase_Order_Match/blob/main/INVOICE_PO.ipynb\" target=\"_parent\"><img src=\"https://colab.research.google.com/assets/colab-badge.svg\" alt=\"Open In Colab\"/></a>"
      ]
    },
    {
      "cell_type": "code",
      "execution_count": 19,
      "metadata": {
        "id": "BmcHmk9P5XvE"
      },
      "outputs": [],
      "source": [
        "import pandas as pd\n",
        "import torch\n",
        "import numpy as np\n",
        "from torch.utils.data import DataLoader\n",
        "from sklearn.metrics import accuracy_score\n",
        "from sentence_transformers import CrossEncoder, InputExample\n",
        "from transformers import AutoTokenizer\n",
        "from sklearn.model_selection import train_test_split\n",
        "from torch.optim import AdamW\n",
        "from transformers import Trainer, TrainingArguments"
      ]
    },
    {
      "cell_type": "code",
      "source": [
        "df = pd.read_csv('/content/drive/MyDrive/Invoice_PO_Match/validation_formatted 1.csv')\n",
        "df.head()"
      ],
      "metadata": {
        "colab": {
          "base_uri": "https://localhost:8080/",
          "height": 293
        },
        "id": "JWNwHlJq5qmX",
        "outputId": "dea3f135-de51-4a0d-9b9a-bd1effbbb654"
      },
      "execution_count": 20,
      "outputs": [
        {
          "output_type": "execute_result",
          "data": {
            "text/plain": [
              "     invoice_id                                       invoice_desc  \\\n",
              "0  INV-49266647  ['25103 ICE CREAM MANGO SORBETTO TRAY', 'ICE C...   \n",
              "1  INV-49266660  ['ICE CREAM GELATO MACKINAC FDGE 3/5LT', 'ICE ...   \n",
              "2  INV-49266724  ['Scotch-Brite Quick Clean Griddle Liquid 700-...   \n",
              "3  INV-49267382  ['Jersey Mikes Mini Wheat Sub', 'Jersey Mikes'...   \n",
              "4  INV-49267510  ['CASES BEEF GRND CHUCK PATTY 4oz', '14 CASES ...   \n",
              "\n",
              "                                        PO_line_desc  \\\n",
              "0  ['ICE CREAM MANGO SORBETTO TRAY', 'ICE CREAM G...   \n",
              "1  ['ICE CREAM GELATO MACKINAC FDGE', 'ICE CREAM ...   \n",
              "2  ['CLEANER GRL QUICKCLEAN PCKT', 'PAD SCOUR COM...   \n",
              "3  ['ROLL MINI WHEAT SUB', 'ROLL MINI WHT SUB', '...   \n",
              "4  ['BEEF GRND CHUCK PATTY 4OZ', 'BEEF GRND THICK...   \n",
              "\n",
              "                                        true_mapping  \n",
              "0  [{'25103 ICE CREAM MANGO SORBETTO TRAY': 'ICE ...  \n",
              "1  [{'ICE CREAM GELATO MACKINAC FDGE 3/5LT': 'ICE...  \n",
              "2  [{'Scotch-Brite Quick Clean Griddle Liquid 700...  \n",
              "3  [{'Jersey Mikes Mini Wheat Sub': 'ROLL MINI WH...  \n",
              "4  [{'CASES BEEF GRND CHUCK PATTY 4oz': 'BEEF GRN...  "
            ],
            "text/html": [
              "\n",
              "  <div id=\"df-3191bf6f-3452-4c35-93cc-bdc259420525\" class=\"colab-df-container\">\n",
              "    <div>\n",
              "<style scoped>\n",
              "    .dataframe tbody tr th:only-of-type {\n",
              "        vertical-align: middle;\n",
              "    }\n",
              "\n",
              "    .dataframe tbody tr th {\n",
              "        vertical-align: top;\n",
              "    }\n",
              "\n",
              "    .dataframe thead th {\n",
              "        text-align: right;\n",
              "    }\n",
              "</style>\n",
              "<table border=\"1\" class=\"dataframe\">\n",
              "  <thead>\n",
              "    <tr style=\"text-align: right;\">\n",
              "      <th></th>\n",
              "      <th>invoice_id</th>\n",
              "      <th>invoice_desc</th>\n",
              "      <th>PO_line_desc</th>\n",
              "      <th>true_mapping</th>\n",
              "    </tr>\n",
              "  </thead>\n",
              "  <tbody>\n",
              "    <tr>\n",
              "      <th>0</th>\n",
              "      <td>INV-49266647</td>\n",
              "      <td>['25103 ICE CREAM MANGO SORBETTO TRAY', 'ICE C...</td>\n",
              "      <td>['ICE CREAM MANGO SORBETTO TRAY', 'ICE CREAM G...</td>\n",
              "      <td>[{'25103 ICE CREAM MANGO SORBETTO TRAY': 'ICE ...</td>\n",
              "    </tr>\n",
              "    <tr>\n",
              "      <th>1</th>\n",
              "      <td>INV-49266660</td>\n",
              "      <td>['ICE CREAM GELATO MACKINAC FDGE 3/5LT', 'ICE ...</td>\n",
              "      <td>['ICE CREAM GELATO MACKINAC FDGE', 'ICE CREAM ...</td>\n",
              "      <td>[{'ICE CREAM GELATO MACKINAC FDGE 3/5LT': 'ICE...</td>\n",
              "    </tr>\n",
              "    <tr>\n",
              "      <th>2</th>\n",
              "      <td>INV-49266724</td>\n",
              "      <td>['Scotch-Brite Quick Clean Griddle Liquid 700-...</td>\n",
              "      <td>['CLEANER GRL QUICKCLEAN PCKT', 'PAD SCOUR COM...</td>\n",
              "      <td>[{'Scotch-Brite Quick Clean Griddle Liquid 700...</td>\n",
              "    </tr>\n",
              "    <tr>\n",
              "      <th>3</th>\n",
              "      <td>INV-49267382</td>\n",
              "      <td>['Jersey Mikes Mini Wheat Sub', 'Jersey Mikes'...</td>\n",
              "      <td>['ROLL MINI WHEAT SUB', 'ROLL MINI WHT SUB', '...</td>\n",
              "      <td>[{'Jersey Mikes Mini Wheat Sub': 'ROLL MINI WH...</td>\n",
              "    </tr>\n",
              "    <tr>\n",
              "      <th>4</th>\n",
              "      <td>INV-49267510</td>\n",
              "      <td>['CASES BEEF GRND CHUCK PATTY 4oz', '14 CASES ...</td>\n",
              "      <td>['BEEF GRND CHUCK PATTY 4OZ', 'BEEF GRND THICK...</td>\n",
              "      <td>[{'CASES BEEF GRND CHUCK PATTY 4oz': 'BEEF GRN...</td>\n",
              "    </tr>\n",
              "  </tbody>\n",
              "</table>\n",
              "</div>\n",
              "    <div class=\"colab-df-buttons\">\n",
              "\n",
              "  <div class=\"colab-df-container\">\n",
              "    <button class=\"colab-df-convert\" onclick=\"convertToInteractive('df-3191bf6f-3452-4c35-93cc-bdc259420525')\"\n",
              "            title=\"Convert this dataframe to an interactive table.\"\n",
              "            style=\"display:none;\">\n",
              "\n",
              "  <svg xmlns=\"http://www.w3.org/2000/svg\" height=\"24px\" viewBox=\"0 -960 960 960\">\n",
              "    <path d=\"M120-120v-720h720v720H120Zm60-500h600v-160H180v160Zm220 220h160v-160H400v160Zm0 220h160v-160H400v160ZM180-400h160v-160H180v160Zm440 0h160v-160H620v160ZM180-180h160v-160H180v160Zm440 0h160v-160H620v160Z\"/>\n",
              "  </svg>\n",
              "    </button>\n",
              "\n",
              "  <style>\n",
              "    .colab-df-container {\n",
              "      display:flex;\n",
              "      gap: 12px;\n",
              "    }\n",
              "\n",
              "    .colab-df-convert {\n",
              "      background-color: #E8F0FE;\n",
              "      border: none;\n",
              "      border-radius: 50%;\n",
              "      cursor: pointer;\n",
              "      display: none;\n",
              "      fill: #1967D2;\n",
              "      height: 32px;\n",
              "      padding: 0 0 0 0;\n",
              "      width: 32px;\n",
              "    }\n",
              "\n",
              "    .colab-df-convert:hover {\n",
              "      background-color: #E2EBFA;\n",
              "      box-shadow: 0px 1px 2px rgba(60, 64, 67, 0.3), 0px 1px 3px 1px rgba(60, 64, 67, 0.15);\n",
              "      fill: #174EA6;\n",
              "    }\n",
              "\n",
              "    .colab-df-buttons div {\n",
              "      margin-bottom: 4px;\n",
              "    }\n",
              "\n",
              "    [theme=dark] .colab-df-convert {\n",
              "      background-color: #3B4455;\n",
              "      fill: #D2E3FC;\n",
              "    }\n",
              "\n",
              "    [theme=dark] .colab-df-convert:hover {\n",
              "      background-color: #434B5C;\n",
              "      box-shadow: 0px 1px 3px 1px rgba(0, 0, 0, 0.15);\n",
              "      filter: drop-shadow(0px 1px 2px rgba(0, 0, 0, 0.3));\n",
              "      fill: #FFFFFF;\n",
              "    }\n",
              "  </style>\n",
              "\n",
              "    <script>\n",
              "      const buttonEl =\n",
              "        document.querySelector('#df-3191bf6f-3452-4c35-93cc-bdc259420525 button.colab-df-convert');\n",
              "      buttonEl.style.display =\n",
              "        google.colab.kernel.accessAllowed ? 'block' : 'none';\n",
              "\n",
              "      async function convertToInteractive(key) {\n",
              "        const element = document.querySelector('#df-3191bf6f-3452-4c35-93cc-bdc259420525');\n",
              "        const dataTable =\n",
              "          await google.colab.kernel.invokeFunction('convertToInteractive',\n",
              "                                                    [key], {});\n",
              "        if (!dataTable) return;\n",
              "\n",
              "        const docLinkHtml = 'Like what you see? Visit the ' +\n",
              "          '<a target=\"_blank\" href=https://colab.research.google.com/notebooks/data_table.ipynb>data table notebook</a>'\n",
              "          + ' to learn more about interactive tables.';\n",
              "        element.innerHTML = '';\n",
              "        dataTable['output_type'] = 'display_data';\n",
              "        await google.colab.output.renderOutput(dataTable, element);\n",
              "        const docLink = document.createElement('div');\n",
              "        docLink.innerHTML = docLinkHtml;\n",
              "        element.appendChild(docLink);\n",
              "      }\n",
              "    </script>\n",
              "  </div>\n",
              "\n",
              "\n",
              "<div id=\"df-9e40dde8-5768-4def-9f1c-50f78df3305c\">\n",
              "  <button class=\"colab-df-quickchart\" onclick=\"quickchart('df-9e40dde8-5768-4def-9f1c-50f78df3305c')\"\n",
              "            title=\"Suggest charts\"\n",
              "            style=\"display:none;\">\n",
              "\n",
              "<svg xmlns=\"http://www.w3.org/2000/svg\" height=\"24px\"viewBox=\"0 0 24 24\"\n",
              "     width=\"24px\">\n",
              "    <g>\n",
              "        <path d=\"M19 3H5c-1.1 0-2 .9-2 2v14c0 1.1.9 2 2 2h14c1.1 0 2-.9 2-2V5c0-1.1-.9-2-2-2zM9 17H7v-7h2v7zm4 0h-2V7h2v10zm4 0h-2v-4h2v4z\"/>\n",
              "    </g>\n",
              "</svg>\n",
              "  </button>\n",
              "\n",
              "<style>\n",
              "  .colab-df-quickchart {\n",
              "      --bg-color: #E8F0FE;\n",
              "      --fill-color: #1967D2;\n",
              "      --hover-bg-color: #E2EBFA;\n",
              "      --hover-fill-color: #174EA6;\n",
              "      --disabled-fill-color: #AAA;\n",
              "      --disabled-bg-color: #DDD;\n",
              "  }\n",
              "\n",
              "  [theme=dark] .colab-df-quickchart {\n",
              "      --bg-color: #3B4455;\n",
              "      --fill-color: #D2E3FC;\n",
              "      --hover-bg-color: #434B5C;\n",
              "      --hover-fill-color: #FFFFFF;\n",
              "      --disabled-bg-color: #3B4455;\n",
              "      --disabled-fill-color: #666;\n",
              "  }\n",
              "\n",
              "  .colab-df-quickchart {\n",
              "    background-color: var(--bg-color);\n",
              "    border: none;\n",
              "    border-radius: 50%;\n",
              "    cursor: pointer;\n",
              "    display: none;\n",
              "    fill: var(--fill-color);\n",
              "    height: 32px;\n",
              "    padding: 0;\n",
              "    width: 32px;\n",
              "  }\n",
              "\n",
              "  .colab-df-quickchart:hover {\n",
              "    background-color: var(--hover-bg-color);\n",
              "    box-shadow: 0 1px 2px rgba(60, 64, 67, 0.3), 0 1px 3px 1px rgba(60, 64, 67, 0.15);\n",
              "    fill: var(--button-hover-fill-color);\n",
              "  }\n",
              "\n",
              "  .colab-df-quickchart-complete:disabled,\n",
              "  .colab-df-quickchart-complete:disabled:hover {\n",
              "    background-color: var(--disabled-bg-color);\n",
              "    fill: var(--disabled-fill-color);\n",
              "    box-shadow: none;\n",
              "  }\n",
              "\n",
              "  .colab-df-spinner {\n",
              "    border: 2px solid var(--fill-color);\n",
              "    border-color: transparent;\n",
              "    border-bottom-color: var(--fill-color);\n",
              "    animation:\n",
              "      spin 1s steps(1) infinite;\n",
              "  }\n",
              "\n",
              "  @keyframes spin {\n",
              "    0% {\n",
              "      border-color: transparent;\n",
              "      border-bottom-color: var(--fill-color);\n",
              "      border-left-color: var(--fill-color);\n",
              "    }\n",
              "    20% {\n",
              "      border-color: transparent;\n",
              "      border-left-color: var(--fill-color);\n",
              "      border-top-color: var(--fill-color);\n",
              "    }\n",
              "    30% {\n",
              "      border-color: transparent;\n",
              "      border-left-color: var(--fill-color);\n",
              "      border-top-color: var(--fill-color);\n",
              "      border-right-color: var(--fill-color);\n",
              "    }\n",
              "    40% {\n",
              "      border-color: transparent;\n",
              "      border-right-color: var(--fill-color);\n",
              "      border-top-color: var(--fill-color);\n",
              "    }\n",
              "    60% {\n",
              "      border-color: transparent;\n",
              "      border-right-color: var(--fill-color);\n",
              "    }\n",
              "    80% {\n",
              "      border-color: transparent;\n",
              "      border-right-color: var(--fill-color);\n",
              "      border-bottom-color: var(--fill-color);\n",
              "    }\n",
              "    90% {\n",
              "      border-color: transparent;\n",
              "      border-bottom-color: var(--fill-color);\n",
              "    }\n",
              "  }\n",
              "</style>\n",
              "\n",
              "  <script>\n",
              "    async function quickchart(key) {\n",
              "      const quickchartButtonEl =\n",
              "        document.querySelector('#' + key + ' button');\n",
              "      quickchartButtonEl.disabled = true;  // To prevent multiple clicks.\n",
              "      quickchartButtonEl.classList.add('colab-df-spinner');\n",
              "      try {\n",
              "        const charts = await google.colab.kernel.invokeFunction(\n",
              "            'suggestCharts', [key], {});\n",
              "      } catch (error) {\n",
              "        console.error('Error during call to suggestCharts:', error);\n",
              "      }\n",
              "      quickchartButtonEl.classList.remove('colab-df-spinner');\n",
              "      quickchartButtonEl.classList.add('colab-df-quickchart-complete');\n",
              "    }\n",
              "    (() => {\n",
              "      let quickchartButtonEl =\n",
              "        document.querySelector('#df-9e40dde8-5768-4def-9f1c-50f78df3305c button');\n",
              "      quickchartButtonEl.style.display =\n",
              "        google.colab.kernel.accessAllowed ? 'block' : 'none';\n",
              "    })();\n",
              "  </script>\n",
              "</div>\n",
              "\n",
              "    </div>\n",
              "  </div>\n"
            ],
            "application/vnd.google.colaboratory.intrinsic+json": {
              "type": "dataframe",
              "variable_name": "df",
              "summary": "{\n  \"name\": \"df\",\n  \"rows\": 946,\n  \"fields\": [\n    {\n      \"column\": \"invoice_id\",\n      \"properties\": {\n        \"dtype\": \"string\",\n        \"num_unique_values\": 946,\n        \"samples\": [\n          \"INV-49789628\",\n          \"INV-49281661\",\n          \"INV-50227628\"\n        ],\n        \"semantic_type\": \"\",\n        \"description\": \"\"\n      }\n    },\n    {\n      \"column\": \"invoice_desc\",\n      \"properties\": {\n        \"dtype\": \"string\",\n        \"num_unique_values\": 830,\n        \"samples\": [\n          \"['HALIBUT FLETCH SKIN-ON MEIERS FRESH -', 'SALMON FIL SKON 4-5 TIGHT TRIM - Canada']\",\n          \"['Dough Pizza 10in Hnd Tssed Lg', 'Dough Pizza Indiv Famous Thin', 'Dough Pizza Small Famous Thin', 'Dough Pizza Thick 14in New', 'Meatball Beef & Pork Preck Rnd', 'Pizza Crust Cauliflower 10', '-Sausage Ital Family Recipe Top']\",\n          \"['BRANZINO BFLY 8-10 OZ', 'HALIBUT H&G 10-20#', 'HAMACHI FIL S/ON', 'OYSTER IN SHELL BBQ', 'OYSTER EASTERN INSHELL', 'SALMON ATL FLT 3-4#S/ON', 'SALMON ATL FLT 3-4#S/L', 'SALMON ATL PRTN 5OZ', 'SALMON FIL SKON D-TRIM', 'TUNA AHI #1 C/C LOIN']\"\n        ],\n        \"semantic_type\": \"\",\n        \"description\": \"\"\n      }\n    },\n    {\n      \"column\": \"PO_line_desc\",\n      \"properties\": {\n        \"dtype\": \"string\",\n        \"num_unique_values\": 777,\n        \"samples\": [\n          \"['HALIBUT FILET FRSH', 'HALIBUT FLETCH SKON MEIERS', 'MIX SOUP HONDASHI', 'SALMON ATL WHL FRSH 14-16#', 'SALMON FIL SCOTTISH SCALED', 'SALMON WHL KNG ORA', 'SAUCE MIRIN WINE', 'SEASONING RICE FURIKAKE', 'SPICE WASABI PWDR W/WASABITS', 'VINEGAR RICE SHIRAGIKU']\",\n          \"['SALMON ATLANTIC D TRIM PBO', 'SALMON ATL FIL SKLS 3-4# PREM', 'SALMON ATL FIL 2-3 E TRIM']\",\n          \"['CHEESE MARIACHI SPICE MIX', 'CHEESE PROVOLONE SHRD', 'CHEESE ROMANO OREGANO BLEND', 'HAM SLI CKD', 'PEPPERONI SLICED', 'SALAMI HARD SLI']\"\n        ],\n        \"semantic_type\": \"\",\n        \"description\": \"\"\n      }\n    },\n    {\n      \"column\": \"true_mapping\",\n      \"properties\": {\n        \"dtype\": \"string\",\n        \"num_unique_values\": 830,\n        \"samples\": [\n          \"[{'HALIBUT FLETCH SKIN-ON MEIERS FRESH -': 'HALIBUT FLETCH SKON MEIERS'}, {'SALMON FIL SKON 4-5 TIGHT TRIM - Canada': 'SALMON FIL SKON 4-5 TIGHT TRIM'}]\",\n          \"[{'Dough Pizza 10in Hnd Tssed Lg': 'DOUGH PIZZA 10IN HND TSSED LG'}, {'Dough Pizza Indiv Famous Thin': 'DOUGH PIZZA INDIV FAMOUS THIN'}, {'Dough Pizza Small Famous Thin': 'DOUGH PIZZA SMALL FAMOUS THIN'}, {'Dough Pizza Thick 14in New': 'DOUGH PIZZA THICK 14IN NEW'}, {'Meatball Beef & Pork Preck Rnd': 'MEATBALL BEEF & PORK PRECK RND'}, {'Pizza Crust Cauliflower 10': 'PIZZA CRUST CAULIFLOWER 10'}, {'-Sausage Ital Family Recipe Top': 'SAUSAGE ITAL FAMILY RECIPE TOP'}]\",\n          \"[{'BRANZINO BFLY 8-10 OZ': 'BASS SEA BFLY BRANZINO 8-10 OZ'}, {'HALIBUT H&G 10-20#': 'HALIBUT WHL FRSH 10-20#'}, {'HAMACHI FIL S/ON': 'HAMACHI FILET S/ON YELLOWTAIL'}, {'OYSTER IN SHELL BBQ': 'OYSTER INSHELL BBQ SHELL XLG'}, {'OYSTER EASTERN INSHELL': 'OYSTER INSHELL BLUEPOINT'}, {'SALMON ATL FLT 3-4#S/ON': 'SALMON ATL FIL D-TRIM 3-4# CHL'}, {'SALMON ATL FLT 3-4#S/L': 'SALMON ATL FIL E-TRIM 3-4# CHL'}, {'SALMON ATL PRTN 5OZ': 'SALMON ATL PRTN 5OZ FRESH'}, {'SALMON FIL SKON D-TRIM': 'SALMON FIL SKON D-TRIM'}, {'TUNA AHI #1 C/C LOIN': 'TUNA LOIN #1 C/C SKLS BLO'}]\"\n        ],\n        \"semantic_type\": \"\",\n        \"description\": \"\"\n      }\n    }\n  ]\n}"
            }
          },
          "metadata": {},
          "execution_count": 20
        }
      ]
    },
    {
      "cell_type": "code",
      "source": [
        "invoice = df[\"invoice_desc\"]\n",
        "purchase_order = df[\"PO_line_desc\"]\n",
        "true_mapping = df[\"true_mapping\"]"
      ],
      "metadata": {
        "id": "CM4ztV8m5qhb"
      },
      "execution_count": 21,
      "outputs": []
    },
    {
      "cell_type": "code",
      "source": [
        "import ast\n",
        "for i in range(len(invoice)):\n",
        "    invoice[i] = ast.literal_eval(invoice[i])\n",
        "    purchase_order[i] = ast.literal_eval(purchase_order[i])\n",
        "    true_mapping[i] = eval(true_mapping[i])"
      ],
      "metadata": {
        "id": "BU-4H_115qej"
      },
      "execution_count": 22,
      "outputs": []
    },
    {
      "cell_type": "code",
      "source": [
        "final_data = []\n",
        "for invoice_list, po_list, mapping in zip(invoice, purchase_order, true_mapping):\n",
        "    mapping_dict = {list(d.keys())[0]: list(d.values())[0] for d in mapping}\n",
        "    for invoice in invoice_list:\n",
        "        for po in po_list:\n",
        "            label = 1 if mapping_dict.get(invoice) == po else 0\n",
        "            final_data.append([invoice, po, label])"
      ],
      "metadata": {
        "id": "tehm0-xp5qbH"
      },
      "execution_count": 23,
      "outputs": []
    },
    {
      "cell_type": "code",
      "source": [
        "df = pd.DataFrame(final_data, columns=['Invoice', 'Purchase Order', 'Label'])"
      ],
      "metadata": {
        "id": "KBM-xAUy5qZX"
      },
      "execution_count": 24,
      "outputs": []
    },
    {
      "cell_type": "code",
      "source": [
        "# Assuming your dataset's labels are in a column called 'labels'\n",
        "\n",
        "# Count the occurrences of each class\n",
        "class_distribution = df['Label'].value_counts()\n",
        "\n",
        "# Print the number of positive and negative samples\n",
        "print(\"Class Distribution:\")\n",
        "print(class_distribution)\n",
        "\n",
        "# Separate counts for positives and negatives\n",
        "neg_samples = class_distribution[0]  # Count of negatives (0s)\n",
        "pos_samples = class_distribution[1]  # Count of positives (1s)\n",
        "\n",
        "print(f\"Number of negative samples (0): {neg_samples}\")\n",
        "print(f\"Number of positive samples (1): {pos_samples}\")"
      ],
      "metadata": {
        "colab": {
          "base_uri": "https://localhost:8080/"
        },
        "id": "W1Wd_TocOZOW",
        "outputId": "d3d94ff3-0bcb-4b61-8ba9-77dbdfef0380"
      },
      "execution_count": 53,
      "outputs": [
        {
          "output_type": "stream",
          "name": "stdout",
          "text": [
            "Class Distribution:\n",
            "Label\n",
            "0    72867\n",
            "1     6156\n",
            "Name: count, dtype: int64\n",
            "Number of negative samples (0): 72867\n",
            "Number of positive samples (1): 6156\n"
          ]
        }
      ]
    },
    {
      "cell_type": "code",
      "source": [
        "train_df, val_df = train_test_split(df, test_size=0.2, random_state=42)"
      ],
      "metadata": {
        "id": "tOFiXRKb5thL"
      },
      "execution_count": 26,
      "outputs": []
    },
    {
      "cell_type": "code",
      "source": [
        "# Load the saved CrossEncoder model\n",
        "model_name = \"cross-encoder/stsb-roberta-base\"\n",
        "cross_encoder = CrossEncoder(model_name, num_labels=1)"
      ],
      "metadata": {
        "colab": {
          "base_uri": "https://localhost:8080/"
        },
        "id": "3yhnlfFw5-lc",
        "outputId": "49009a95-8e9b-4de6-a3af-0987d21161f4"
      },
      "execution_count": 27,
      "outputs": [
        {
          "output_type": "stream",
          "name": "stderr",
          "text": [
            "/usr/local/lib/python3.10/dist-packages/transformers/tokenization_utils_base.py:1601: FutureWarning: `clean_up_tokenization_spaces` was not set. It will be set to `True` by default. This behavior will be depracted in transformers v4.45, and will be then set to `False` by default. For more details check this issue: https://github.com/huggingface/transformers/issues/31884\n",
            "  warnings.warn(\n"
          ]
        }
      ]
    },
    {
      "cell_type": "code",
      "source": [
        "tokenizer = AutoTokenizer.from_pretrained(model_name)"
      ],
      "metadata": {
        "id": "V-HkLHzf6SH1"
      },
      "execution_count": 28,
      "outputs": []
    },
    {
      "cell_type": "code",
      "source": [
        "train_examples = [InputExample(texts=[row['Invoice'], row['Purchase Order']], label=row['Label']) for _, row in train_df.iterrows()]\n",
        "val_examples = [InputExample(texts=[row['Invoice'], row['Purchase Order']], label=row['Label']) for _, row in val_df.iterrows()]"
      ],
      "metadata": {
        "id": "SCFaQHMt6U4r"
      },
      "execution_count": 29,
      "outputs": []
    },
    {
      "cell_type": "code",
      "source": [
        "def custom_collate_fn(features):\n",
        "    # Extract texts and labels\n",
        "    texts = [feature.texts for feature in features]\n",
        "    labels = [feature.label for feature in features]\n",
        "\n",
        "    # Tokenize texts (pair-wise)\n",
        "    tokenized_texts = tokenizer(\n",
        "        [f\"{pair[0]} {pair[1]}\" for pair in texts],  # Combine the invoice and purchase order as one input\n",
        "        padding=True,\n",
        "        truncation=True,\n",
        "        return_tensors=\"pt\"\n",
        "    )\n",
        "\n",
        "    return {\n",
        "        \"input_ids\": tokenized_texts['input_ids'],\n",
        "        \"attention_mask\": tokenized_texts['attention_mask'],\n",
        "        \"labels\": torch.tensor(labels, dtype=torch.float)\n",
        "    }"
      ],
      "metadata": {
        "id": "0HfXlpOK6Xte"
      },
      "execution_count": 35,
      "outputs": []
    },
    {
      "cell_type": "code",
      "source": [
        "# Set up the Trainer and TrainingArguments\n",
        "training_args = TrainingArguments(\n",
        "    output_dir='./results',\n",
        "    evaluation_strategy=\"epoch\",\n",
        "    learning_rate=2e-5,\n",
        "    per_device_train_batch_size=16,\n",
        "    per_device_eval_batch_size=16,\n",
        "    num_train_epochs=4,\n",
        "    weight_decay=0.01\n",
        ")\n",
        "\n",
        "# Create a Trainer instance\n",
        "trainer = Trainer(\n",
        "    model=cross_encoder.model,\n",
        "    args=training_args,\n",
        "    train_dataset=train_examples,\n",
        "    eval_dataset=val_examples,\n",
        "    data_collator=custom_collate_fn\n",
        ")"
      ],
      "metadata": {
        "colab": {
          "base_uri": "https://localhost:8080/"
        },
        "id": "7bRwhDWv6bn4",
        "outputId": "d74ca088-2ffd-485c-ce03-ac91d9bc2bd5"
      },
      "execution_count": 36,
      "outputs": [
        {
          "output_type": "stream",
          "name": "stderr",
          "text": [
            "/usr/local/lib/python3.10/dist-packages/transformers/training_args.py:1525: FutureWarning: `evaluation_strategy` is deprecated and will be removed in version 4.46 of 🤗 Transformers. Use `eval_strategy` instead\n",
            "  warnings.warn(\n"
          ]
        }
      ]
    },
    {
      "cell_type": "code",
      "source": [
        "# Train the model\n",
        "trainer.train()"
      ],
      "metadata": {
        "colab": {
          "base_uri": "https://localhost:8080/",
          "height": 235
        },
        "id": "7KKaxaJY6f9S",
        "outputId": "98177c7a-94ac-4b19-819e-7db61fa029d7"
      },
      "execution_count": 37,
      "outputs": [
        {
          "output_type": "display_data",
          "data": {
            "text/plain": [
              "<IPython.core.display.HTML object>"
            ],
            "text/html": [
              "\n",
              "    <div>\n",
              "      \n",
              "      <progress value='15808' max='15808' style='width:300px; height:20px; vertical-align: middle;'></progress>\n",
              "      [15808/15808 45:32, Epoch 4/4]\n",
              "    </div>\n",
              "    <table border=\"1\" class=\"dataframe\">\n",
              "  <thead>\n",
              " <tr style=\"text-align: left;\">\n",
              "      <th>Epoch</th>\n",
              "      <th>Training Loss</th>\n",
              "      <th>Validation Loss</th>\n",
              "    </tr>\n",
              "  </thead>\n",
              "  <tbody>\n",
              "    <tr>\n",
              "      <td>1</td>\n",
              "      <td>0.024000</td>\n",
              "      <td>0.020787</td>\n",
              "    </tr>\n",
              "    <tr>\n",
              "      <td>2</td>\n",
              "      <td>0.017300</td>\n",
              "      <td>0.017808</td>\n",
              "    </tr>\n",
              "    <tr>\n",
              "      <td>3</td>\n",
              "      <td>0.011600</td>\n",
              "      <td>0.014721</td>\n",
              "    </tr>\n",
              "    <tr>\n",
              "      <td>4</td>\n",
              "      <td>0.008600</td>\n",
              "      <td>0.013624</td>\n",
              "    </tr>\n",
              "  </tbody>\n",
              "</table><p>"
            ]
          },
          "metadata": {}
        },
        {
          "output_type": "execute_result",
          "data": {
            "text/plain": [
              "TrainOutput(global_step=15808, training_loss=0.016993596229837975, metrics={'train_runtime': 2734.8381, 'train_samples_per_second': 92.463, 'train_steps_per_second': 5.78, 'total_flos': 4593496477589148.0, 'train_loss': 0.016993596229837975, 'epoch': 4.0})"
            ]
          },
          "metadata": {},
          "execution_count": 37
        }
      ]
    },
    {
      "cell_type": "code",
      "source": [
        "# Save the trained model\n",
        "output_dir = \"/content/drive/MyDrive/Invoice_PO_Match/inv_purchase_model\"\n",
        "cross_encoder.model.save_pretrained(output_dir)\n",
        "tokenizer.save_pretrained(output_dir)\n",
        "\n",
        "print(f\"Model saved to {output_dir}\")"
      ],
      "metadata": {
        "colab": {
          "base_uri": "https://localhost:8080/"
        },
        "id": "5BrNf4Jo7wRG",
        "outputId": "36e2c6db-fe47-443e-8679-c83ee529e946"
      },
      "execution_count": 38,
      "outputs": [
        {
          "output_type": "stream",
          "name": "stdout",
          "text": [
            "Model saved to /content/drive/MyDrive/Invoice_PO_Match/inv_purchase_model\n"
          ]
        }
      ]
    },
    {
      "cell_type": "code",
      "source": [
        "# Evaluate the model\n",
        "eval_results = trainer.evaluate()\n",
        "print(\"Evaluation results:\", eval_results)"
      ],
      "metadata": {
        "colab": {
          "base_uri": "https://localhost:8080/",
          "height": 74
        },
        "id": "pDErt3h76h6c",
        "outputId": "6542336e-352c-4ee1-dad8-cafb31dc34e0"
      },
      "execution_count": 39,
      "outputs": [
        {
          "output_type": "display_data",
          "data": {
            "text/plain": [
              "<IPython.core.display.HTML object>"
            ],
            "text/html": [
              "\n",
              "    <div>\n",
              "      \n",
              "      <progress value='988' max='988' style='width:300px; height:20px; vertical-align: middle;'></progress>\n",
              "      [988/988 00:37]\n",
              "    </div>\n",
              "    "
            ]
          },
          "metadata": {}
        },
        {
          "output_type": "stream",
          "name": "stdout",
          "text": [
            "Evaluation results: {'eval_loss': 0.013623595237731934, 'eval_runtime': 37.5998, 'eval_samples_per_second': 420.348, 'eval_steps_per_second': 26.277, 'epoch': 4.0}\n"
          ]
        }
      ]
    },
    {
      "cell_type": "code",
      "source": [
        "val_dataloader = DataLoader(val_examples, batch_size=8, shuffle=False, collate_fn=custom_collate_fn)"
      ],
      "metadata": {
        "id": "xencRcXh7EAs"
      },
      "execution_count": 40,
      "outputs": []
    },
    {
      "cell_type": "code",
      "source": [
        "# Set the model to evaluation mode\n",
        "cross_encoder.model.eval()"
      ],
      "metadata": {
        "colab": {
          "base_uri": "https://localhost:8080/"
        },
        "id": "hoEArhdR7D91",
        "outputId": "531138a5-ce64-435c-d71b-d0f3ae0bad0f"
      },
      "execution_count": 41,
      "outputs": [
        {
          "output_type": "execute_result",
          "data": {
            "text/plain": [
              "RobertaForSequenceClassification(\n",
              "  (roberta): RobertaModel(\n",
              "    (embeddings): RobertaEmbeddings(\n",
              "      (word_embeddings): Embedding(50265, 768, padding_idx=1)\n",
              "      (position_embeddings): Embedding(514, 768, padding_idx=1)\n",
              "      (token_type_embeddings): Embedding(1, 768)\n",
              "      (LayerNorm): LayerNorm((768,), eps=1e-05, elementwise_affine=True)\n",
              "      (dropout): Dropout(p=0.1, inplace=False)\n",
              "    )\n",
              "    (encoder): RobertaEncoder(\n",
              "      (layer): ModuleList(\n",
              "        (0-11): 12 x RobertaLayer(\n",
              "          (attention): RobertaAttention(\n",
              "            (self): RobertaSelfAttention(\n",
              "              (query): Linear(in_features=768, out_features=768, bias=True)\n",
              "              (key): Linear(in_features=768, out_features=768, bias=True)\n",
              "              (value): Linear(in_features=768, out_features=768, bias=True)\n",
              "              (dropout): Dropout(p=0.1, inplace=False)\n",
              "            )\n",
              "            (output): RobertaSelfOutput(\n",
              "              (dense): Linear(in_features=768, out_features=768, bias=True)\n",
              "              (LayerNorm): LayerNorm((768,), eps=1e-05, elementwise_affine=True)\n",
              "              (dropout): Dropout(p=0.1, inplace=False)\n",
              "            )\n",
              "          )\n",
              "          (intermediate): RobertaIntermediate(\n",
              "            (dense): Linear(in_features=768, out_features=3072, bias=True)\n",
              "            (intermediate_act_fn): GELUActivation()\n",
              "          )\n",
              "          (output): RobertaOutput(\n",
              "            (dense): Linear(in_features=3072, out_features=768, bias=True)\n",
              "            (LayerNorm): LayerNorm((768,), eps=1e-05, elementwise_affine=True)\n",
              "            (dropout): Dropout(p=0.1, inplace=False)\n",
              "          )\n",
              "        )\n",
              "      )\n",
              "    )\n",
              "  )\n",
              "  (classifier): RobertaClassificationHead(\n",
              "    (dense): Linear(in_features=768, out_features=768, bias=True)\n",
              "    (dropout): Dropout(p=0.1, inplace=False)\n",
              "    (out_proj): Linear(in_features=768, out_features=1, bias=True)\n",
              "  )\n",
              ")"
            ]
          },
          "metadata": {},
          "execution_count": 41
        }
      ]
    },
    {
      "cell_type": "code",
      "source": [
        "# Make predictions on the validation set\n",
        "val_predictions = []\n",
        "val_labels = []\n",
        "\n",
        "# Use a threshold to classify predictions\n",
        "threshold = 0.5\n",
        "\n",
        "# Evaluate predictions\n",
        "with torch.no_grad():\n",
        "    for batch in val_dataloader:\n",
        "        input_ids = batch[\"input_ids\"].to(cross_encoder.model.device)\n",
        "        attention_mask = batch[\"attention_mask\"].to(cross_encoder.model.device)\n",
        "        labels = batch[\"labels\"].to(cross_encoder.model.device)\n",
        "\n",
        "        # Forward pass\n",
        "        outputs = cross_encoder.model(input_ids=input_ids, attention_mask=attention_mask)\n",
        "        logits = outputs.logits.squeeze().cpu().numpy()\n",
        "\n",
        "        # Apply threshold to logits for binary classification\n",
        "        predictions = (logits >= threshold).astype(int)\n",
        "        val_predictions.extend(predictions)\n",
        "        val_labels.extend(labels.cpu().numpy())\n",
        "\n",
        "# Calculate accuracy\n",
        "accuracy = accuracy_score(val_labels, val_predictions)\n",
        "print(f\"Validation Accuracy: {accuracy:.4f}\")"
      ],
      "metadata": {
        "colab": {
          "base_uri": "https://localhost:8080/"
        },
        "id": "U3-6rrCf7D6G",
        "outputId": "4afbadb9-b29f-458c-a102-29a3b3c61a8a"
      },
      "execution_count": 42,
      "outputs": [
        {
          "output_type": "stream",
          "name": "stdout",
          "text": [
            "Validation Accuracy: 0.9860\n"
          ]
        }
      ]
    },
    {
      "cell_type": "code",
      "source": [
        "from sklearn.metrics import precision_score, recall_score, f1_score\n",
        "\n",
        "# Precision\n",
        "precision = precision_score(val_labels, val_predictions)\n",
        "print(f\"Precision: {precision:.4f}\")"
      ],
      "metadata": {
        "colab": {
          "base_uri": "https://localhost:8080/"
        },
        "id": "u5Uc0nDB7D46",
        "outputId": "b07a9d90-0c3f-4ccc-dc26-572c0408da35"
      },
      "execution_count": 43,
      "outputs": [
        {
          "output_type": "stream",
          "name": "stdout",
          "text": [
            "Precision: 0.9279\n"
          ]
        }
      ]
    },
    {
      "cell_type": "code",
      "source": [
        "# Recall\n",
        "recall = recall_score(val_labels, val_predictions)\n",
        "print(f\"Recall: {recall:.4f}\")"
      ],
      "metadata": {
        "colab": {
          "base_uri": "https://localhost:8080/"
        },
        "id": "UOnwQNh6KPRS",
        "outputId": "a9362b2b-a8fd-4cd4-ba98-0bb60663e2a4"
      },
      "execution_count": 44,
      "outputs": [
        {
          "output_type": "stream",
          "name": "stdout",
          "text": [
            "Recall: 0.8906\n"
          ]
        }
      ]
    },
    {
      "cell_type": "code",
      "source": [
        "# F1 Score\n",
        "f1 = f1_score(val_labels, val_predictions)\n",
        "print(f\"F1 Score: {f1:.4f}\")"
      ],
      "metadata": {
        "colab": {
          "base_uri": "https://localhost:8080/"
        },
        "id": "2_tTlZfMKSSN",
        "outputId": "fafb5cc4-d314-4628-edb0-6e89f406d5e7"
      },
      "execution_count": 45,
      "outputs": [
        {
          "output_type": "stream",
          "name": "stdout",
          "text": [
            "F1 Score: 0.9089\n"
          ]
        }
      ]
    },
    {
      "cell_type": "code",
      "source": [
        "print(f\"Validation Metrics:\")\n",
        "print(f\"Precision: {precision:.4f}\")\n",
        "print(f\"Recall: {recall:.4f}\")\n",
        "print(f\"F1 Score: {f1:.4f}\")\n",
        "print(f\"ROC-AUC: {roc_auc:.4f}\")"
      ],
      "metadata": {
        "colab": {
          "base_uri": "https://localhost:8080/"
        },
        "id": "Dqae_3PjMLEt",
        "outputId": "27787e0d-643b-44f4-ff97-2097b199ff6a"
      },
      "execution_count": 51,
      "outputs": [
        {
          "output_type": "stream",
          "name": "stdout",
          "text": [
            "Validation Metrics:\n",
            "Precision: 0.9279\n",
            "Recall: 0.8906\n",
            "F1 Score: 0.9089\n",
            "ROC-AUC: 0.9911\n"
          ]
        }
      ]
    },
    {
      "cell_type": "code",
      "source": [
        "# Check label distribution\n",
        "import numpy as np\n",
        "\n",
        "unique, counts = np.unique(val_labels, return_counts=True)\n",
        "print(dict(zip(unique, counts)))"
      ],
      "metadata": {
        "colab": {
          "base_uri": "https://localhost:8080/"
        },
        "id": "fnAY7VgvL2cp",
        "outputId": "9ace8b5f-5963-4bee-e4d2-d81479f6b678"
      },
      "execution_count": 50,
      "outputs": [
        {
          "output_type": "stream",
          "name": "stdout",
          "text": [
            "{0.0: 14562, 1.0: 1243}\n"
          ]
        }
      ]
    },
    {
      "cell_type": "code",
      "source": [
        "from sklearn.metrics import confusion_matrix\n",
        "import seaborn as sns\n",
        "import matplotlib.pyplot as plt\n",
        "\n",
        "# Confusion Matrix\n",
        "conf_matrix = confusion_matrix(val_labels, val_predictions)\n",
        "print(\"Confusion Matrix:\")\n",
        "print(conf_matrix)\n",
        "\n",
        "# Optionally, plot the confusion matrix\n",
        "sns.heatmap(conf_matrix, annot=True, fmt='d', cmap='Blues')\n",
        "plt.ylabel('Actual')\n",
        "plt.xlabel('Predicted')\n",
        "plt.title('Confusion Matrix')\n",
        "plt.show()"
      ],
      "metadata": {
        "colab": {
          "base_uri": "https://localhost:8080/",
          "height": 524
        },
        "id": "lwrsDcOiKUwK",
        "outputId": "321a7ec7-0ced-4cd2-91e9-5d4e2c06dba9"
      },
      "execution_count": 46,
      "outputs": [
        {
          "output_type": "stream",
          "name": "stdout",
          "text": [
            "Confusion Matrix:\n",
            "[[14476    86]\n",
            " [  136  1107]]\n"
          ]
        },
        {
          "output_type": "display_data",
          "data": {
            "text/plain": [
              "<Figure size 640x480 with 2 Axes>"
            ],
            "image/png": "[encoded data removed]"
          },
          "metadata": {}
        }
      ]
    },
    {
      "cell_type": "code",
      "source": [
        "# Make predictions on the validation set\n",
        "val_predictions = []\n",
        "val_labels = []\n",
        "val_logits = []  # Store logits for ROC-AUC calculation\n",
        "\n",
        "# Use a threshold to classify predictions\n",
        "threshold = 0.5\n",
        "\n",
        "# Evaluate predictions\n",
        "with torch.no_grad():\n",
        "    for batch in val_dataloader:\n",
        "        input_ids = batch[\"input_ids\"].to(cross_encoder.model.device)\n",
        "        attention_mask = batch[\"attention_mask\"].to(cross_encoder.model.device)\n",
        "        labels = batch[\"labels\"].to(cross_encoder.model.device)\n",
        "\n",
        "        # Forward pass\n",
        "        outputs = cross_encoder.model(input_ids=input_ids, attention_mask=attention_mask)\n",
        "        logits = outputs.logits.squeeze().cpu().numpy()\n",
        "\n",
        "        # Save logits for ROC-AUC\n",
        "        val_logits.extend(logits)  # Ensure logits are appended correctly\n",
        "\n",
        "        # Apply threshold to logits for binary classification\n",
        "        predictions = (logits >= threshold).astype(int)\n",
        "        val_predictions.extend(predictions)\n",
        "        val_labels.extend(labels.cpu().numpy())\n",
        "\n",
        "# Check the lengths of val_labels and val_logits\n",
        "print(f\"Number of labels: {len(val_labels)}, Number of logits: {len(val_logits)}\")"
      ],
      "metadata": {
        "colab": {
          "base_uri": "https://localhost:8080/"
        },
        "id": "jjJETRFZKX5c",
        "outputId": "4c1082b2-fcb5-4c7f-8f54-7c774ff2d3a1"
      },
      "execution_count": 48,
      "outputs": [
        {
          "output_type": "stream",
          "name": "stdout",
          "text": [
            "Number of labels: 15805, Number of logits: 15805\n"
          ]
        }
      ]
    },
    {
      "cell_type": "code",
      "source": [
        "from sklearn.metrics import roc_auc_score\n",
        "\n",
        "# Calculate ROC-AUC\n",
        "roc_auc = roc_auc_score(val_labels, val_logits)\n",
        "print(f\"ROC-AUC: {roc_auc:.4f}\")"
      ],
      "metadata": {
        "colab": {
          "base_uri": "https://localhost:8080/"
        },
        "id": "U6afRj_KKnG4",
        "outputId": "bbb3470e-04da-436b-db90-b3a1dfe8b08c"
      },
      "execution_count": 49,
      "outputs": [
        {
          "output_type": "stream",
          "name": "stdout",
          "text": [
            "ROC-AUC: 0.9911\n"
          ]
        }
      ]
    },
    {
      "cell_type": "code",
      "source": [],
      "metadata": {
        "id": "YxayOoYlLA8J"
      },
      "execution_count": null,
      "outputs": []
    }
  ]
}