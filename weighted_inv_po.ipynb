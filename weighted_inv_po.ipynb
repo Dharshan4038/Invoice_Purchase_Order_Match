{
  "cells": [
    {
      "cell_type": "markdown",
      "metadata": {
        "id": "view-in-github",
        "colab_type": "text"
      },
      "source": [
        "<a href=\"https://colab.research.google.com/github/Dharshan4038/Invoice_Purchase_Order_Match/blob/main/weighted_inv_po.ipynb\" target=\"_parent\"><img src=\"https://colab.research.google.com/assets/colab-badge.svg\" alt=\"Open In Colab\"/></a>"
      ]
    },
    {
      "cell_type": "code",
      "execution_count": null,
      "metadata": {
        "id": "8TsWf0Naz06c"
      },
      "outputs": [],
      "source": [
        "!pip install sentence_transformers transformers datasets"
      ]
    },
    {
      "cell_type": "code",
      "execution_count": null,
      "metadata": {
        "colab": {
          "base_uri": "https://localhost:8080/"
        },
        "id": "a13RZlCO1L5d",
        "outputId": "1e87e936-50f1-42cd-c6a8-f7ce6bd83213"
      },
      "outputs": [
        {
          "name": "stderr",
          "output_type": "stream",
          "text": [
            "/usr/local/lib/python3.10/dist-packages/sentence_transformers/cross_encoder/CrossEncoder.py:13: TqdmExperimentalWarning: Using `tqdm.autonotebook.tqdm` in notebook mode. Use `tqdm.tqdm` instead to force console mode (e.g. in jupyter console)\n",
            "  from tqdm.autonotebook import tqdm, trange\n"
          ]
        }
      ],
      "source": [
        "import pandas as pd\n",
        "import torch\n",
        "import numpy as np\n",
        "from torch.utils.data import DataLoader\n",
        "from sklearn.metrics import accuracy_score, precision_score, recall_score, f1_score, roc_auc_score\n",
        "from sentence_transformers import CrossEncoder, InputExample\n",
        "from transformers import AutoTokenizer\n",
        "from sklearn.model_selection import train_test_split\n",
        "from torch.optim import AdamW\n",
        "from transformers import Trainer, TrainingArguments\n",
        "from torch import nn"
      ]
    },
    {
      "cell_type": "code",
      "execution_count": null,
      "metadata": {
        "id": "sKKbSDcP2apj"
      },
      "outputs": [],
      "source": [
        "df = pd.read_csv('/content/drive/MyDrive/Invoice_PO_Match/validation_formatted 1.csv')\n",
        "df.head()"
      ]
    },
    {
      "cell_type": "code",
      "execution_count": null,
      "metadata": {
        "id": "d_RhBM7S2k-p"
      },
      "outputs": [],
      "source": [
        "invoice = df[\"invoice_desc\"]\n",
        "purchase_order = df[\"PO_line_desc\"]\n",
        "true_mapping = df[\"true_mapping\"]"
      ]
    },
    {
      "cell_type": "code",
      "execution_count": null,
      "metadata": {
        "id": "B8uq6Q8O2pyp"
      },
      "outputs": [],
      "source": [
        "import ast\n",
        "for i in range(len(invoice)):\n",
        "    invoice[i] = ast.literal_eval(invoice[i])\n",
        "    purchase_order[i] = ast.literal_eval(purchase_order[i])\n",
        "    true_mapping[i] = eval(true_mapping[i])"
      ]
    },
    {
      "cell_type": "code",
      "execution_count": null,
      "metadata": {
        "id": "5LBG27e52r2a"
      },
      "outputs": [],
      "source": [
        "# Create a DataFrame with all possible invoice/purchase order pairs\n",
        "final_data = []\n",
        "for invoice_list, po_list, mapping in zip(invoice, purchase_order, true_mapping):\n",
        "    mapping_dict = {list(d.keys())[0]: list(d.values())[0] for d in mapping}\n",
        "    for invoice in invoice_list:\n",
        "        for po in po_list:\n",
        "            label = 1 if mapping_dict.get(invoice) == po else 0\n",
        "            final_data.append([invoice, po, label])"
      ]
    },
    {
      "cell_type": "code",
      "execution_count": null,
      "metadata": {
        "id": "gTNP0vRZ2tQb"
      },
      "outputs": [],
      "source": [
        "df = pd.DataFrame(final_data, columns=['Invoice', 'Purchase Order', 'Label'])"
      ]
    },
    {
      "cell_type": "code",
      "execution_count": null,
      "metadata": {
        "colab": {
          "base_uri": "https://localhost:8080/",
          "height": 206
        },
        "id": "aPEgqXy1lyfq",
        "outputId": "4832b0b3-218f-4e07-c52f-9b0662c873cb",
        "collapsed": true
      },
      "outputs": [
        {
          "data": {
            "application/vnd.google.colaboratory.intrinsic+json": {
              "summary": "{\n  \"name\": \"df\",\n  \"rows\": 79023,\n  \"fields\": [\n    {\n      \"column\": \"Invoice\",\n      \"properties\": {\n        \"dtype\": \"category\",\n        \"num_unique_values\": 3115,\n        \"samples\": [\n          \"BEEF TACO MEAT COOKED\",\n          \"BEEFSHORT RIB 3-BONE X-LN CH 16OZ\",\n          \"(CSO) 12x12x1625 Pizza Boxe White/Kraft - PINKY G - 2 co\"\n        ],\n        \"semantic_type\": \"\",\n        \"description\": \"\"\n      }\n    },\n    {\n      \"column\": \"Purchase Order\",\n      \"properties\": {\n        \"dtype\": \"category\",\n        \"num_unique_values\": 2215,\n        \"samples\": [\n          \"SHRIMP WHT GH 16/20\",\n          \"SCALLOP BLOCK DOMESTIC 10/20\",\n          \"SALMON ATL PRTN 5OZ SKINON\"\n        ],\n        \"semantic_type\": \"\",\n        \"description\": \"\"\n      }\n    },\n    {\n      \"column\": \"Label\",\n      \"properties\": {\n        \"dtype\": \"number\",\n        \"std\": 0,\n        \"min\": 0,\n        \"max\": 1,\n        \"num_unique_values\": 2,\n        \"samples\": [\n          0,\n          1\n        ],\n        \"semantic_type\": \"\",\n        \"description\": \"\"\n      }\n    }\n  ]\n}",
              "type": "dataframe",
              "variable_name": "df"
            },
            "text/html": [
              "\n",
              "  <div id=\"df-3b381a6f-226c-4256-af08-c467abab4746\" class=\"colab-df-container\">\n",
              "    <div>\n",
              "<style scoped>\n",
              "    .dataframe tbody tr th:only-of-type {\n",
              "        vertical-align: middle;\n",
              "    }\n",
              "\n",
              "    .dataframe tbody tr th {\n",
              "        vertical-align: top;\n",
              "    }\n",
              "\n",
              "    .dataframe thead th {\n",
              "        text-align: right;\n",
              "    }\n",
              "</style>\n",
              "<table border=\"1\" class=\"dataframe\">\n",
              "  <thead>\n",
              "    <tr style=\"text-align: right;\">\n",
              "      <th></th>\n",
              "      <th>Invoice</th>\n",
              "      <th>Purchase Order</th>\n",
              "      <th>Label</th>\n",
              "    </tr>\n",
              "  </thead>\n",
              "  <tbody>\n",
              "    <tr>\n",
              "      <th>0</th>\n",
              "      <td>25103 ICE CREAM MANGO SORBETTO TRAY</td>\n",
              "      <td>ICE CREAM MANGO SORBETTO TRAY</td>\n",
              "      <td>1</td>\n",
              "    </tr>\n",
              "    <tr>\n",
              "      <th>1</th>\n",
              "      <td>25103 ICE CREAM MANGO SORBETTO TRAY</td>\n",
              "      <td>ICE CREAM GELATO MACKINAC FDGE</td>\n",
              "      <td>0</td>\n",
              "    </tr>\n",
              "    <tr>\n",
              "      <th>2</th>\n",
              "      <td>25103 ICE CREAM MANGO SORBETTO TRAY</td>\n",
              "      <td>ICE CREAM COOKIE%CRM DUTCH FUD</td>\n",
              "      <td>0</td>\n",
              "    </tr>\n",
              "    <tr>\n",
              "      <th>3</th>\n",
              "      <td>25103 ICE CREAM MANGO SORBETTO TRAY</td>\n",
              "      <td>ICE CREAM GELATO BUTR PECAN</td>\n",
              "      <td>0</td>\n",
              "    </tr>\n",
              "    <tr>\n",
              "      <th>4</th>\n",
              "      <td>25103 ICE CREAM MANGO SORBETTO TRAY</td>\n",
              "      <td>ICE CREAM SORBET LEMONCELLO</td>\n",
              "      <td>0</td>\n",
              "    </tr>\n",
              "  </tbody>\n",
              "</table>\n",
              "</div>\n",
              "    <div class=\"colab-df-buttons\">\n",
              "\n",
              "  <div class=\"colab-df-container\">\n",
              "    <button class=\"colab-df-convert\" onclick=\"convertToInteractive('df-3b381a6f-226c-4256-af08-c467abab4746')\"\n",
              "            title=\"Convert this dataframe to an interactive table.\"\n",
              "            style=\"display:none;\">\n",
              "\n",
              "  <svg xmlns=\"http://www.w3.org/2000/svg\" height=\"24px\" viewBox=\"0 -960 960 960\">\n",
              "    <path d=\"M120-120v-720h720v720H120Zm60-500h600v-160H180v160Zm220 220h160v-160H400v160Zm0 220h160v-160H400v160ZM180-400h160v-160H180v160Zm440 0h160v-160H620v160ZM180-180h160v-160H180v160Zm440 0h160v-160H620v160Z\"/>\n",
              "  </svg>\n",
              "    </button>\n",
              "\n",
              "  <style>\n",
              "    .colab-df-container {\n",
              "      display:flex;\n",
              "      gap: 12px;\n",
              "    }\n",
              "\n",
              "    .colab-df-convert {\n",
              "      background-color: #E8F0FE;\n",
              "      border: none;\n",
              "      border-radius: 50%;\n",
              "      cursor: pointer;\n",
              "      display: none;\n",
              "      fill: #1967D2;\n",
              "      height: 32px;\n",
              "      padding: 0 0 0 0;\n",
              "      width: 32px;\n",
              "    }\n",
              "\n",
              "    .colab-df-convert:hover {\n",
              "      background-color: #E2EBFA;\n",
              "      box-shadow: 0px 1px 2px rgba(60, 64, 67, 0.3), 0px 1px 3px 1px rgba(60, 64, 67, 0.15);\n",
              "      fill: #174EA6;\n",
              "    }\n",
              "\n",
              "    .colab-df-buttons div {\n",
              "      margin-bottom: 4px;\n",
              "    }\n",
              "\n",
              "    [theme=dark] .colab-df-convert {\n",
              "      background-color: #3B4455;\n",
              "      fill: #D2E3FC;\n",
              "    }\n",
              "\n",
              "    [theme=dark] .colab-df-convert:hover {\n",
              "      background-color: #434B5C;\n",
              "      box-shadow: 0px 1px 3px 1px rgba(0, 0, 0, 0.15);\n",
              "      filter: drop-shadow(0px 1px 2px rgba(0, 0, 0, 0.3));\n",
              "      fill: #FFFFFF;\n",
              "    }\n",
              "  </style>\n",
              "\n",
              "    <script>\n",
              "      const buttonEl =\n",
              "        document.querySelector('#df-3b381a6f-226c-4256-af08-c467abab4746 button.colab-df-convert');\n",
              "      buttonEl.style.display =\n",
              "        google.colab.kernel.accessAllowed ? 'block' : 'none';\n",
              "\n",
              "      async function convertToInteractive(key) {\n",
              "        const element = document.querySelector('#df-3b381a6f-226c-4256-af08-c467abab4746');\n",
              "        const dataTable =\n",
              "          await google.colab.kernel.invokeFunction('convertToInteractive',\n",
              "                                                    [key], {});\n",
              "        if (!dataTable) return;\n",
              "\n",
              "        const docLinkHtml = 'Like what you see? Visit the ' +\n",
              "          '<a target=\"_blank\" href=https://colab.research.google.com/notebooks/data_table.ipynb>data table notebook</a>'\n",
              "          + ' to learn more about interactive tables.';\n",
              "        element.innerHTML = '';\n",
              "        dataTable['output_type'] = 'display_data';\n",
              "        await google.colab.output.renderOutput(dataTable, element);\n",
              "        const docLink = document.createElement('div');\n",
              "        docLink.innerHTML = docLinkHtml;\n",
              "        element.appendChild(docLink);\n",
              "      }\n",
              "    </script>\n",
              "  </div>\n",
              "\n",
              "\n",
              "<div id=\"df-b6c28874-d87e-4e99-abcd-d9653734e2d5\">\n",
              "  <button class=\"colab-df-quickchart\" onclick=\"quickchart('df-b6c28874-d87e-4e99-abcd-d9653734e2d5')\"\n",
              "            title=\"Suggest charts\"\n",
              "            style=\"display:none;\">\n",
              "\n",
              "<svg xmlns=\"http://www.w3.org/2000/svg\" height=\"24px\"viewBox=\"0 0 24 24\"\n",
              "     width=\"24px\">\n",
              "    <g>\n",
              "        <path d=\"M19 3H5c-1.1 0-2 .9-2 2v14c0 1.1.9 2 2 2h14c1.1 0 2-.9 2-2V5c0-1.1-.9-2-2-2zM9 17H7v-7h2v7zm4 0h-2V7h2v10zm4 0h-2v-4h2v4z\"/>\n",
              "    </g>\n",
              "</svg>\n",
              "  </button>\n",
              "\n",
              "<style>\n",
              "  .colab-df-quickchart {\n",
              "      --bg-color: #E8F0FE;\n",
              "      --fill-color: #1967D2;\n",
              "      --hover-bg-color: #E2EBFA;\n",
              "      --hover-fill-color: #174EA6;\n",
              "      --disabled-fill-color: #AAA;\n",
              "      --disabled-bg-color: #DDD;\n",
              "  }\n",
              "\n",
              "  [theme=dark] .colab-df-quickchart {\n",
              "      --bg-color: #3B4455;\n",
              "      --fill-color: #D2E3FC;\n",
              "      --hover-bg-color: #434B5C;\n",
              "      --hover-fill-color: #FFFFFF;\n",
              "      --disabled-bg-color: #3B4455;\n",
              "      --disabled-fill-color: #666;\n",
              "  }\n",
              "\n",
              "  .colab-df-quickchart {\n",
              "    background-color: var(--bg-color);\n",
              "    border: none;\n",
              "    border-radius: 50%;\n",
              "    cursor: pointer;\n",
              "    display: none;\n",
              "    fill: var(--fill-color);\n",
              "    height: 32px;\n",
              "    padding: 0;\n",
              "    width: 32px;\n",
              "  }\n",
              "\n",
              "  .colab-df-quickchart:hover {\n",
              "    background-color: var(--hover-bg-color);\n",
              "    box-shadow: 0 1px 2px rgba(60, 64, 67, 0.3), 0 1px 3px 1px rgba(60, 64, 67, 0.15);\n",
              "    fill: var(--button-hover-fill-color);\n",
              "  }\n",
              "\n",
              "  .colab-df-quickchart-complete:disabled,\n",
              "  .colab-df-quickchart-complete:disabled:hover {\n",
              "    background-color: var(--disabled-bg-color);\n",
              "    fill: var(--disabled-fill-color);\n",
              "    box-shadow: none;\n",
              "  }\n",
              "\n",
              "  .colab-df-spinner {\n",
              "    border: 2px solid var(--fill-color);\n",
              "    border-color: transparent;\n",
              "    border-bottom-color: var(--fill-color);\n",
              "    animation:\n",
              "      spin 1s steps(1) infinite;\n",
              "  }\n",
              "\n",
              "  @keyframes spin {\n",
              "    0% {\n",
              "      border-color: transparent;\n",
              "      border-bottom-color: var(--fill-color);\n",
              "      border-left-color: var(--fill-color);\n",
              "    }\n",
              "    20% {\n",
              "      border-color: transparent;\n",
              "      border-left-color: var(--fill-color);\n",
              "      border-top-color: var(--fill-color);\n",
              "    }\n",
              "    30% {\n",
              "      border-color: transparent;\n",
              "      border-left-color: var(--fill-color);\n",
              "      border-top-color: var(--fill-color);\n",
              "      border-right-color: var(--fill-color);\n",
              "    }\n",
              "    40% {\n",
              "      border-color: transparent;\n",
              "      border-right-color: var(--fill-color);\n",
              "      border-top-color: var(--fill-color);\n",
              "    }\n",
              "    60% {\n",
              "      border-color: transparent;\n",
              "      border-right-color: var(--fill-color);\n",
              "    }\n",
              "    80% {\n",
              "      border-color: transparent;\n",
              "      border-right-color: var(--fill-color);\n",
              "      border-bottom-color: var(--fill-color);\n",
              "    }\n",
              "    90% {\n",
              "      border-color: transparent;\n",
              "      border-bottom-color: var(--fill-color);\n",
              "    }\n",
              "  }\n",
              "</style>\n",
              "\n",
              "  <script>\n",
              "    async function quickchart(key) {\n",
              "      const quickchartButtonEl =\n",
              "        document.querySelector('#' + key + ' button');\n",
              "      quickchartButtonEl.disabled = true;  // To prevent multiple clicks.\n",
              "      quickchartButtonEl.classList.add('colab-df-spinner');\n",
              "      try {\n",
              "        const charts = await google.colab.kernel.invokeFunction(\n",
              "            'suggestCharts', [key], {});\n",
              "      } catch (error) {\n",
              "        console.error('Error during call to suggestCharts:', error);\n",
              "      }\n",
              "      quickchartButtonEl.classList.remove('colab-df-spinner');\n",
              "      quickchartButtonEl.classList.add('colab-df-quickchart-complete');\n",
              "    }\n",
              "    (() => {\n",
              "      let quickchartButtonEl =\n",
              "        document.querySelector('#df-b6c28874-d87e-4e99-abcd-d9653734e2d5 button');\n",
              "      quickchartButtonEl.style.display =\n",
              "        google.colab.kernel.accessAllowed ? 'block' : 'none';\n",
              "    })();\n",
              "  </script>\n",
              "</div>\n",
              "\n",
              "    </div>\n",
              "  </div>\n"
            ],
            "text/plain": [
              "                               Invoice                  Purchase Order  Label\n",
              "0  25103 ICE CREAM MANGO SORBETTO TRAY   ICE CREAM MANGO SORBETTO TRAY      1\n",
              "1  25103 ICE CREAM MANGO SORBETTO TRAY  ICE CREAM GELATO MACKINAC FDGE      0\n",
              "2  25103 ICE CREAM MANGO SORBETTO TRAY  ICE CREAM COOKIE%CRM DUTCH FUD      0\n",
              "3  25103 ICE CREAM MANGO SORBETTO TRAY     ICE CREAM GELATO BUTR PECAN      0\n",
              "4  25103 ICE CREAM MANGO SORBETTO TRAY     ICE CREAM SORBET LEMONCELLO      0"
            ]
          },
          "execution_count": 89,
          "metadata": {},
          "output_type": "execute_result"
        }
      ],
      "source": [
        "df.head()"
      ]
    },
    {
      "cell_type": "code",
      "execution_count": null,
      "metadata": {
        "id": "eYneLBCE2vO5"
      },
      "outputs": [],
      "source": [
        "train_df, val_df = train_test_split(df, test_size=0.2, random_state=42)"
      ]
    },
    {
      "cell_type": "code",
      "execution_count": null,
      "metadata": {
        "id": "HbDV1Xwt2wwa"
      },
      "outputs": [],
      "source": [
        "model_name = \"cross-encoder/stsb-roberta-base\"\n",
        "cross_encoder = CrossEncoder(model_name, num_labels=1)"
      ]
    },
    {
      "cell_type": "code",
      "execution_count": null,
      "metadata": {
        "id": "d4uJnseU27Uk"
      },
      "outputs": [],
      "source": [
        "# Tokenizer for the CrossEncoder model\n",
        "tokenizer = AutoTokenizer.from_pretrained(model_name)\n",
        "\n",
        "# Prepare the data for InputExample format\n",
        "train_examples = [InputExample(texts=[row['Invoice'], row['Purchase Order']], label=row['Label']) for _, row in train_df.iterrows()]\n",
        "val_examples = [InputExample(texts=[row['Invoice'], row['Purchase Order']], label=row['Label']) for _, row in val_df.iterrows()]"
      ]
    },
    {
      "cell_type": "code",
      "execution_count": null,
      "metadata": {
        "id": "luqBH6GE2-Sz"
      },
      "outputs": [],
      "source": [
        "# Define a custom data collator\n",
        "from torch.nn.utils.rnn import pad_sequence\n",
        "\n",
        "# Custom collate function to handle padding in the DataLoader\n",
        "def custom_collate_fn(batch):\n",
        "    input_ids = [item['input_ids'] for item in batch]\n",
        "    attention_mask = [item['attention_mask'] for item in batch]\n",
        "\n",
        "    # Pad the input_ids and attention_mask sequences to the longest sequence in the batch\n",
        "    padded_input_ids = pad_sequence(input_ids, batch_first=True, padding_value=tokenizer.pad_token_id)\n",
        "    padded_attention_mask = pad_sequence(attention_mask, batch_first=True, padding_value=0)\n",
        "\n",
        "    invoice_idxs = torch.tensor([item['invoice_idx'] for item in batch])\n",
        "    po_idxs = torch.tensor([item['po_idx'] for item in batch])\n",
        "\n",
        "    return {\n",
        "        \"input_ids\": padded_input_ids,\n",
        "        \"attention_mask\": padded_attention_mask,\n",
        "        \"invoice_idx\": invoice_idxs,\n",
        "        \"po_idx\": po_idxs\n",
        "    }"
      ]
    },
    {
      "cell_type": "code",
      "execution_count": null,
      "metadata": {
        "id": "wC49JIyd3ARv"
      },
      "outputs": [],
      "source": [
        "# Define class weights (adjust for class imbalance)\n",
        "class_counts = df['Label'].value_counts()\n",
        "total_samples = len(df)\n",
        "class_weights = [total_samples / class_counts[0], total_samples / class_counts[1]]\n",
        "class_weights = torch.tensor(class_weights).to(cross_encoder.model.device)"
      ]
    },
    {
      "cell_type": "code",
      "execution_count": null,
      "metadata": {
        "colab": {
          "base_uri": "https://localhost:8080/"
        },
        "id": "QCSwYzi23COe",
        "outputId": "5a435078-dc9f-4201-e56c-f5d8a9cff963"
      },
      "outputs": [
        {
          "data": {
            "text/plain": [
              "tensor([ 1.0845, 12.8367], dtype=torch.float64)"
            ]
          },
          "execution_count": 95,
          "metadata": {},
          "output_type": "execute_result"
        }
      ],
      "source": [
        "class_weights"
      ]
    },
    {
      "cell_type": "code",
      "execution_count": null,
      "metadata": {
        "id": "5dwF3wrr3D8L"
      },
      "outputs": [],
      "source": [
        "class WeightedLossCrossEncoder(CrossEncoder):\n",
        "    def __init__(self, *args, **kwargs):\n",
        "        super(WeightedLossCrossEncoder, self).__init__(*args, **kwargs)\n",
        "        self.loss_fn = nn.BCEWithLogitsLoss(pos_weight=class_weights[1])\n",
        "\n",
        "    def forward(self, input_ids, attention_mask, labels):\n",
        "        outputs = self.model(input_ids=input_ids, attention_mask=attention_mask)\n",
        "        logits = outputs.logits.squeeze()\n",
        "        loss = self.loss_fn(logits, labels)\n",
        "        return loss, logits"
      ]
    },
    {
      "cell_type": "code",
      "execution_count": null,
      "metadata": {
        "id": "vsQ9dsw03FQV"
      },
      "outputs": [],
      "source": [
        "cross_encoder = WeightedLossCrossEncoder(model_name, num_labels=1)"
      ]
    },
    {
      "cell_type": "code",
      "execution_count": null,
      "metadata": {
        "colab": {
          "base_uri": "https://localhost:8080/"
        },
        "id": "7YK7MepF3HK6",
        "outputId": "c8d763a0-9b99-4de3-9589-50b9725a7b62"
      },
      "outputs": [
        {
          "name": "stderr",
          "output_type": "stream",
          "text": [
            "/usr/local/lib/python3.10/dist-packages/transformers/training_args.py:1525: FutureWarning: `evaluation_strategy` is deprecated and will be removed in version 4.46 of 🤗 Transformers. Use `eval_strategy` instead\n",
            "  warnings.warn(\n"
          ]
        }
      ],
      "source": [
        "training_args = TrainingArguments(\n",
        "    output_dir='./results',\n",
        "    evaluation_strategy=\"epoch\",\n",
        "    learning_rate=2e-5,\n",
        "    per_device_train_batch_size=16,\n",
        "    per_device_eval_batch_size=16,\n",
        "    num_train_epochs=4,\n",
        "    weight_decay=0.01\n",
        ")\n",
        "\n",
        "# Create a Trainer instance\n",
        "trainer = Trainer(\n",
        "    model=cross_encoder.model,\n",
        "    args=training_args,\n",
        "    train_dataset=train_examples,\n",
        "    eval_dataset=val_examples,\n",
        "    data_collator=custom_collate_fn\n",
        ")"
      ]
    },
    {
      "cell_type": "code",
      "execution_count": null,
      "metadata": {
        "id": "tExfm1xl3JAT"
      },
      "outputs": [],
      "source": [
        "# trainer.train()"
      ]
    },
    {
      "cell_type": "code",
      "execution_count": null,
      "metadata": {
        "id": "RjfAOOiq3K3f"
      },
      "outputs": [],
      "source": [
        "# output_dir = \"/content/drive/MyDrive/Invoice_PO_Match/saved_model\"\n",
        "# cross_encoder.model.save_pretrained(output_dir)\n",
        "# tokenizer.save_pretrained(output_dir)\n",
        "\n",
        "# print(f\"Model saved to {output_dir}\")"
      ]
    },
    {
      "cell_type": "code",
      "execution_count": null,
      "metadata": {
        "id": "0EL_ymRp3NWZ"
      },
      "outputs": [],
      "source": [
        "model_name = \"/content/drive/MyDrive/Invoice_PO_Match/saved_model\"\n",
        "cross_encoder = CrossEncoder(model_name, num_labels=1)\n",
        "tokenizer = AutoTokenizer.from_pretrained(model_name)"
      ]
    },
    {
      "cell_type": "code",
      "execution_count": null,
      "metadata": {
        "id": "MlHyjtnP3Psb"
      },
      "outputs": [],
      "source": [
        "val_dataloader = DataLoader(val_examples, batch_size=8, shuffle=False, collate_fn=custom_collate_fn)"
      ]
    },
    {
      "cell_type": "code",
      "execution_count": null,
      "metadata": {
        "id": "r3323aaw3R1v"
      },
      "outputs": [],
      "source": [
        "# Set the model to evaluation mode\n",
        "cross_encoder.model.eval()"
      ]
    },
    {
      "cell_type": "code",
      "execution_count": null,
      "metadata": {
        "id": "X1gaxwi83T02"
      },
      "outputs": [],
      "source": [
        "# # Make predictions on the validation set\n",
        "# val_predictions = []\n",
        "# val_labels = []\n",
        "# val_logits = []  # Store logits for ROC-AUC calculation\n",
        "\n",
        "# # Use a threshold to classify predictions\n",
        "# threshold = 0.5\n",
        "\n",
        "# # Evaluate predictions\n",
        "# with torch.no_grad():\n",
        "#     for batch in val_dataloader:\n",
        "#         input_ids = batch[\"input_ids\"].to(cross_encoder.model.device)\n",
        "#         attention_mask = batch[\"attention_mask\"].to(cross_encoder.model.device)\n",
        "#         labels = batch[\"labels\"].to(cross_encoder.model.device)\n",
        "\n",
        "#         # Forward pass\n",
        "#         outputs = cross_encoder.model(input_ids=input_ids, attention_mask=attention_mask)\n",
        "#         logits = outputs.logits.squeeze().cpu().numpy()\n",
        "\n",
        "#         # Save logits for ROC-AUC\n",
        "#         val_logits.extend(logits)  # Ensure logits are appended correctly\n",
        "\n",
        "#         # Apply threshold to logits for binary classification\n",
        "#         predictions = (logits >= threshold).astype(int)\n",
        "#         val_predictions.extend(predictions)\n",
        "#         val_labels.extend(labels.cpu().numpy())\n",
        "\n",
        "# # Check the lengths of val_labels and val_logits\n",
        "# print(f\"Number of labels: {len(val_labels)}, Number of logits: {len(val_logits)}\")"
      ]
    },
    {
      "cell_type": "code",
      "execution_count": null,
      "metadata": {
        "id": "u9DNgCyl3X__"
      },
      "outputs": [],
      "source": [
        "# # Calculate metrics\n",
        "# accuracy = accuracy_score(val_labels, val_predictions)\n",
        "# precision = precision_score(val_labels, val_predictions)\n",
        "# recall = recall_score(val_labels, val_predictions)\n",
        "# f1 = f1_score(val_labels, val_predictions)\n",
        "# roc_auc = roc_auc_score(val_labels, val_logits)"
      ]
    },
    {
      "cell_type": "code",
      "execution_count": null,
      "metadata": {
        "id": "bYAUsBPM3X8E"
      },
      "outputs": [],
      "source": [
        "# print(f\"Validation Accuracy: {accuracy:.4f}\")\n",
        "# print(f\"Validation Precision: {precision:.4f}\")\n",
        "# print(f\"Validation Recall: {recall:.4f}\")\n",
        "# print(f\"Validation F1 Score: {f1:.4f}\")\n",
        "# print(f\"Validation ROC-AUC: {roc_auc:.4f}\")"
      ]
    },
    {
      "cell_type": "code",
      "execution_count": null,
      "metadata": {
        "id": "YsOK_mI63X6X"
      },
      "outputs": [],
      "source": [
        "# from sklearn.metrics import confusion_matrix\n",
        "# import seaborn as sns\n",
        "# import matplotlib.pyplot as plt\n",
        "\n",
        "# # Confusion Matrix\n",
        "# conf_matrix = confusion_matrix(val_labels, val_predictions)\n",
        "# print(\"Confusion Matrix:\")\n",
        "# print(conf_matrix)\n",
        "\n",
        "# # Optionally, plot the confusion matrix\n",
        "# sns.heatmap(conf_matrix, annot=True, fmt='d', cmap='Blues')\n",
        "# plt.ylabel('Actual')\n",
        "# plt.xlabel('Predicted')\n",
        "# plt.title('Confusion Matrix')\n",
        "# plt.show()"
      ]
    },
    {
      "cell_type": "code",
      "execution_count": null,
      "metadata": {
        "id": "dKXJYCNK99X6"
      },
      "outputs": [],
      "source": [
        "import numpy as np\n",
        "import pandas as pd\n",
        "import torch\n",
        "from torch.utils.data import DataLoader, Dataset\n",
        "from tqdm import tqdm\n",
        "from scipy.optimize import linear_sum_assignment\n",
        "import concurrent.futures\n",
        "\n",
        "# Create a custom dataset to handle pairs of invoices and purchase orders\n",
        "class InvoicePurchaseOrderDataset(Dataset):\n",
        "    def __init__(self, invoices, purchase_orders, tokenizer):\n",
        "        self.invoices = invoices\n",
        "        self.purchase_orders = purchase_orders\n",
        "        self.tokenizer = tokenizer\n",
        "\n",
        "    def __len__(self):\n",
        "        return len(self.invoices) * len(self.purchase_orders)\n",
        "\n",
        "    def __getitem__(self, idx):\n",
        "        # Calculate the correct invoice and purchase order index\n",
        "        invoice_idx = idx // len(self.purchase_orders)\n",
        "        po_idx = idx % len(self.purchase_orders)\n",
        "\n",
        "        invoice = self.invoices[invoice_idx]\n",
        "        purchase_order = self.purchase_orders[po_idx]\n",
        "\n",
        "        # Tokenize the input pair\n",
        "        tokenized_pair = self.tokenizer(invoice, purchase_order, padding=True, truncation=True, return_tensors=\"pt\")\n",
        "\n",
        "        return {\n",
        "            \"invoice\": invoice,\n",
        "            \"purchase_order\": purchase_order,\n",
        "            \"input_ids\": tokenized_pair['input_ids'].squeeze(0),\n",
        "            \"attention_mask\": tokenized_pair['attention_mask'].squeeze(0),\n",
        "            \"invoice_idx\": invoice_idx,\n",
        "            \"po_idx\": po_idx\n",
        "        }"
      ]
    },
    {
      "cell_type": "code",
      "execution_count": null,
      "metadata": {
        "id": "c-CxOldK3fHs"
      },
      "outputs": [],
      "source": [
        "def map_invoices_to_purchase_orders(invoices, purchase_orders, cross_encoder, tokenizer, batch_size=64):\n",
        "    # Initialize the dataset and DataLoader\n",
        "    dataset = InvoicePurchaseOrderDataset(invoices, purchase_orders, tokenizer)\n",
        "    dataloader = DataLoader(dataset, batch_size=batch_size, shuffle=False, collate_fn=custom_collate_fn)\n",
        "\n",
        "    num_invoices = len(invoices)\n",
        "    num_pos = len(purchase_orders)\n",
        "\n",
        "    # Pre-allocate space for similarity matrix\n",
        "    similarity_matrix = np.zeros((num_invoices, num_pos))\n",
        "\n",
        "    # Process the dataset in parallel batches\n",
        "    def process_batch(batch):\n",
        "        with torch.no_grad():\n",
        "            input_ids = batch['input_ids'].to(cross_encoder.model.device)\n",
        "            attention_mask = batch['attention_mask'].to(cross_encoder.model.device)\n",
        "            invoice_idxs = batch['invoice_idx'].numpy()\n",
        "            po_idxs = batch['po_idx'].numpy()\n",
        "\n",
        "            # Forward pass through the model\n",
        "            logits = cross_encoder.model(input_ids=input_ids, attention_mask=attention_mask)\n",
        "\n",
        "            # Ensure that logits are squeezed to handle potential extra dimensions\n",
        "            scores = logits.logits.squeeze().cpu().numpy()\n",
        "\n",
        "            # Handle case where scores might be scalar or single values for each batch item\n",
        "            if scores.ndim == 0:  # If it's a scalar, convert to array\n",
        "                scores = np.array([scores])\n",
        "\n",
        "            # Fill in the similarity matrix\n",
        "            for i, (invoice_idx, po_idx) in enumerate(zip(invoice_idxs, po_idxs)):\n",
        "                similarity_matrix[invoice_idx, po_idx] = scores[i]\n",
        "\n",
        "    # Process all batches in parallel using ThreadPoolExecutor\n",
        "    with concurrent.futures.ThreadPoolExecutor() as executor:\n",
        "        list(tqdm(executor.map(process_batch, dataloader), total=len(dataloader), desc=\"Processing Batches\"))\n",
        "\n",
        "    # Use the Hungarian algorithm (linear sum assignment) for optimal one-to-one matching\n",
        "    cost_matrix = -similarity_matrix  # Convert to cost matrix for minimization\n",
        "    row_idx, col_idx = linear_sum_assignment(cost_matrix)\n",
        "\n",
        "    # Create the final result with one-to-one mappings\n",
        "    results = [{invoices[i]: purchase_orders[j]} for i, j in zip(row_idx, col_idx)]\n",
        "\n",
        "    return results"
      ]
    },
    {
      "cell_type": "code",
      "execution_count": null,
      "metadata": {
        "id": "U2HHfCVl3tkE"
      },
      "outputs": [],
      "source": [
        "import pandas as pd\n",
        "import ast\n",
        "import torch\n",
        "\n",
        "# Load the original CSV containing the invoice and purchase order data\n",
        "df = pd.read_csv('/content/drive/MyDrive/Invoice_PO_Match/validation_formatted 1.csv')\n",
        "\n",
        "# Extract the necessary columns: 'invoice_id', 'invoice_desc', 'PO_line_desc', 'true_mapping'\n",
        "df = df[['invoice_id', 'invoice_desc', 'PO_line_desc', 'true_mapping']]\n",
        "\n",
        "# Parse the 'invoice_desc', 'PO_line_desc', and 'true_mapping' columns from strings to lists/dictionaries\n",
        "for i in range(len(df)):\n",
        "    df.at[i, 'invoice_desc'] = ast.literal_eval(df.at[i, 'invoice_desc'])\n",
        "    df.at[i, 'PO_line_desc'] = ast.literal_eval(df.at[i, 'PO_line_desc'])\n",
        "    df.at[i, 'true_mapping'] = ast.literal_eval(df.at[i, 'true_mapping'])"
      ]
    },
    {
      "cell_type": "code",
      "execution_count": null,
      "metadata": {
        "id": "2Ay85PdR3v4O"
      },
      "outputs": [],
      "source": [
        "# Function to compute and add the 'model_output' for each row\n",
        "def compute_model_output(df, cross_encoder, tokenizer):\n",
        "    model_output = []\n",
        "\n",
        "    for i, row in df.iterrows():\n",
        "        invoices = row['invoice_desc']\n",
        "        purchase_orders = row['PO_line_desc']\n",
        "        print(i)\n",
        "        # Use the map_invoices_to_purchase_orders function to get the mapping\n",
        "        mapping_result = map_invoices_to_purchase_orders(invoices, purchase_orders, cross_encoder, tokenizer)\n",
        "        print(mapping_result)\n",
        "        # Append the mapping result to the list\n",
        "        model_output.append(mapping_result)\n",
        "\n",
        "    # Add the 'model_output' column to the dataframe\n",
        "    df['model_output'] = model_output\n",
        "\n",
        "    return df"
      ]
    },
    {
      "cell_type": "code",
      "execution_count": null,
      "metadata": {
        "colab": {
          "base_uri": "https://localhost:8080/"
        },
        "id": "8iot34Xi4J2-",
        "outputId": "24e44555-bc0a-48b2-90e3-19822d6fb943"
      },
      "outputs": [
        {
          "name": "stdout",
          "output_type": "stream",
          "text": [
            "946\n"
          ]
        }
      ],
      "source": [
        "c = 0\n",
        "for i in range(946):\n",
        "  if len(df[\"invoice_desc\"][i]) == len(df[\"PO_line_desc\"][i]):\n",
        "    c += 1\n",
        "print(c)"
      ]
    },
    {
      "cell_type": "code",
      "execution_count": null,
      "metadata": {
        "id": "s4bdBqYH37Kg"
      },
      "outputs": [],
      "source": [
        "# Compute the model output for the dataframe\n",
        "df_with_model_output = compute_model_output(df, cross_encoder, tokenizer)\n",
        "\n",
        "# Save the dataframe to a CSV file\n",
        "output_csv_path = '/content/drive/MyDrive/Invoice_PO_Match/mapped_invoices_po_output.csv'\n",
        "df_with_model_output.to_csv(output_csv_path, index=False)\n",
        "\n",
        "print(f\"Model output saved to: {output_csv_path}\")"
      ]
    },
    {
      "cell_type": "code",
      "execution_count": null,
      "metadata": {
        "id": "WfAQOllF39tI"
      },
      "outputs": [],
      "source": [
        "fin_df = pd.read_csv(\"/content/drive/MyDrive/Invoice_PO_Match/mapped_invoices_po_output.csv\")\n",
        "fin_df.head()"
      ]
    },
    {
      "cell_type": "code",
      "execution_count": null,
      "metadata": {
        "colab": {
          "base_uri": "https://localhost:8080/"
        },
        "id": "H9DVKNP4Wti8",
        "outputId": "5147f284-e620-4000-b423-f0b458128561"
      },
      "outputs": [
        {
          "data": {
            "text/plain": [
              "[{'BEEF': 'BEEF TACO FLLNG RED PPR'},\n",
              " {'BEEF': 'BEEF PATTY 3-1 BEST EVER'},\n",
              " {'PATTIE': 'BEEF PIZZA PATTIES 3.5OZ'},\n",
              " {'BRD': 'BEEF BURGER TNDRBT 81/19 3-1'},\n",
              " {'BEEF': 'BEEF GRND PTY 81\\\\19 SILVER IQF'},\n",
              " {'BEEF': 'BEEF PATTY SEASONED BIG BITE'},\n",
              " {'MEATBALL': 'MEATBALL BEEF PRCKD 1 OZ'},\n",
              " {'BEEF': 'BEEF ROAST POT CKD FRZ'},\n",
              " {'STEAK': 'STEAK SIRL RESD FRZN'},\n",
              " {'BEEF': 'CHICKEN TENDER BRD FRITT DIXIE'},\n",
              " {'BRD': 'CHICKEN BNLS BRD WINGS'}]"
            ]
          },
          "execution_count": 32,
          "metadata": {},
          "output_type": "execute_result"
        }
      ],
      "source": [
        "df[\"model_output\"][74]"
      ]
    },
    {
      "cell_type": "code",
      "execution_count": null,
      "metadata": {
        "colab": {
          "base_uri": "https://localhost:8080/"
        },
        "id": "mrC81_n5Wx9I",
        "outputId": "3722582e-b1e0-4c35-fc28-d3b5208f40cb"
      },
      "outputs": [
        {
          "data": {
            "text/plain": [
              "[{'BEEF': 'BEEF PATTY SEASONED BIG BITE'},\n",
              " {'BEEF': 'BEEF PATTY 3-1 BEST EVER'},\n",
              " {'PATTIE': 'BEEF PIZZA PATTIES 3.5OZ'},\n",
              " {'BRD': 'CHICKEN TENDER BRD FRITT DIXIE'},\n",
              " {'BEEF': 'BEEF BURGER TNDRBT 81/19 3-1'},\n",
              " {'BEEF': 'BEEF GRND PTY 81\\\\19 SILVER IQF'},\n",
              " {'MEATBALL': 'MEATBALL BEEF PRCKD 1 OZ'},\n",
              " {'BEEF': 'BEEF ROAST POT CKD FRZ'},\n",
              " {'STEAK': 'STEAK SIRL RESD FRZN'},\n",
              " {'BEEF': 'BEEF TACO FLLNG RED PPR'},\n",
              " {'BRD': 'CHICKEN BNLS BRD WINGS'}]"
            ]
          },
          "execution_count": 33,
          "metadata": {},
          "output_type": "execute_result"
        }
      ],
      "source": [
        "df[\"true_mapping\"][74]"
      ]
    },
    {
      "cell_type": "code",
      "execution_count": null,
      "metadata": {
        "id": "MVXjZ9cMa6zJ"
      },
      "outputs": [],
      "source": [
        "def compare_lists_of_dicts(list1, list2):\n",
        "    # Convert each dict to a sorted tuple of key-value pairs\n",
        "    list1_normalized = sorted([sorted(d.items()) for d in list1])\n",
        "    list2_normalized = sorted([sorted(d.items()) for d in list2])\n",
        "\n",
        "    # Compare the normalized lists\n",
        "    return list1_normalized == list2_normalized"
      ]
    },
    {
      "cell_type": "code",
      "execution_count": null,
      "metadata": {
        "colab": {
          "base_uri": "https://localhost:8080/"
        },
        "id": "ZR7iXp9obJ7V",
        "outputId": "c52f7b86-a7e9-4825-c824-1365de80f2a5"
      },
      "outputs": [
        {
          "data": {
            "text/plain": [
              "False"
            ]
          },
          "execution_count": 35,
          "metadata": {},
          "output_type": "execute_result"
        }
      ],
      "source": [
        "compare_lists_of_dicts(df[\"model_output\"][30],df[\"true_mapping\"][30])"
      ]
    },
    {
      "cell_type": "code",
      "execution_count": null,
      "metadata": {
        "id": "498DRglRWTyU"
      },
      "outputs": [],
      "source": [
        "correct = 0\n",
        "for i in range(len(df)):\n",
        "  if compare_lists_of_dicts(df[\"model_output\"][i],df[\"true_mapping\"][i]):\n",
        "    correct = correct + 1\n",
        "  else:\n",
        "    print(i)\n",
        "acc = correct/len(df)"
      ]
    },
    {
      "cell_type": "code",
      "execution_count": null,
      "metadata": {
        "colab": {
          "base_uri": "https://localhost:8080/"
        },
        "id": "hlcy5a63Zi4S",
        "outputId": "fe3d2f1c-2cac-4c28-ee50-7b9dff36efab"
      },
      "outputs": [
        {
          "data": {
            "text/plain": [
              "96.93446088794926"
            ]
          },
          "execution_count": 37,
          "metadata": {},
          "output_type": "execute_result"
        }
      ],
      "source": [
        "acc = acc*100\n",
        "acc"
      ]
    },
    {
      "cell_type": "code",
      "execution_count": null,
      "metadata": {
        "id": "fDJ0HnEOZk1w"
      },
      "outputs": [],
      "source": [
        "# Function to calculate precision, recall, and f1 score for a single sample\n",
        "def calculate_f1_for_sample(predicted, actual):\n",
        "    # Flatten the list of dicts to get a set of (key, value) tuples\n",
        "    predicted_set = set((k, v) for d in predicted for k, v in d.items())\n",
        "    actual_set = set((k, v) for d in actual for k, v in d.items())\n",
        "\n",
        "    # True Positives (TP): Correct matches found\n",
        "    tp = len(predicted_set & actual_set)\n",
        "\n",
        "    # False Positives (FP): Incorrect matches predicted\n",
        "    fp = len(predicted_set - actual_set)\n",
        "\n",
        "    # False Negatives (FN): Correct matches that were missed\n",
        "    fn = len(actual_set - predicted_set)\n",
        "\n",
        "    # Precision, Recall, F1 Score\n",
        "    precision = tp / (tp + fp) if (tp + fp) > 0 else 0\n",
        "    recall = tp / (tp + fn) if (tp + fn) > 0 else 0\n",
        "    f1 = 2 * (precision * recall) / (precision + recall) if (precision + recall) > 0 else 0\n",
        "\n",
        "    return precision, recall, f1"
      ]
    },
    {
      "cell_type": "code",
      "execution_count": null,
      "metadata": {
        "colab": {
          "base_uri": "https://localhost:8080/"
        },
        "id": "4p58GMrBw9Wb",
        "outputId": "bca7e89d-7e10-4e16-ed99-8773624a4997"
      },
      "outputs": [
        {
          "name": "stdout",
          "output_type": "stream",
          "text": [
            "Average Precision: 0.9898\n",
            "Average Recall: 0.9898\n",
            "Average F1 Score: 0.9898\n"
          ]
        }
      ],
      "source": [
        "# Initialize lists to store precision, recall, and f1 scores for all samples\n",
        "precisions = []\n",
        "recalls = []\n",
        "f1_scores = []\n",
        "\n",
        "# Iterate over the dataset to calculate precision, recall, and F1 for each sample\n",
        "for i in range(len(df)):\n",
        "    predicted_mapping = df[\"model_output\"][i]\n",
        "    actual_mapping = df[\"true_mapping\"][i]\n",
        "\n",
        "    # Calculate precision, recall, and F1 for the current sample\n",
        "    precision, recall, f1 = calculate_f1_for_sample(predicted_mapping, actual_mapping)\n",
        "\n",
        "    # Append the results to the respective lists\n",
        "    precisions.append(precision)\n",
        "    recalls.append(recall)\n",
        "    f1_scores.append(f1)\n",
        "\n",
        "# Calculate average precision, recall, and F1 score across all samples\n",
        "average_precision = sum(precisions) / len(precisions)\n",
        "average_recall = sum(recalls) / len(recalls)\n",
        "average_f1_score = sum(f1_scores) / len(f1_scores)\n",
        "\n",
        "# Output the results\n",
        "print(f\"Average Precision: {average_precision:.4f}\")\n",
        "print(f\"Average Recall: {average_recall:.4f}\")\n",
        "print(f\"Average F1 Score: {average_f1_score:.4f}\")"
      ]
    },
    {
      "cell_type": "markdown",
      "metadata": {
        "id": "WHaZtBMkquKl"
      },
      "source": [
        "# Human val data"
      ]
    },
    {
      "cell_type": "code",
      "execution_count": null,
      "metadata": {
        "id": "3V_QZTeXCMuc"
      },
      "outputs": [],
      "source": [
        "def compute_similarity_cross_encoder(invoices, pos, cross_encoder, tokenizer):\n",
        "    # Generate all possible combinations of (invoice, po) pairs\n",
        "    sentence_pairs = [(invoice, po) for invoice in invoices for po in pos]\n",
        "\n",
        "    # Use the cross-encoder to get similarity scores for each pair\n",
        "    inputs = tokenizer(sentence_pairs, padding=True, truncation=True, return_tensors=\"pt\")\n",
        "\n",
        "    # Predict similarity scores for the pairs\n",
        "    similarity_scores = cross_encoder.predict(sentence_pairs)\n",
        "\n",
        "    # Reshape the similarity scores into a matrix (len(invoices) x len(pos))\n",
        "    similarity_matrix = np.array(similarity_scores).reshape(len(invoices), len(pos))\n",
        "\n",
        "    return similarity_matrix"
      ]
    },
    {
      "cell_type": "code",
      "execution_count": null,
      "metadata": {
        "id": "rRLeofMWCMrh"
      },
      "outputs": [],
      "source": [
        "# Refined function to map invoices to POs based on the similarity scores\n",
        "def map_invoices_to_pos(invoices, pos, cross_encoder, tokenizer, threshold=0.5):\n",
        "    similarity_matrix = compute_similarity_cross_encoder(invoices, pos, cross_encoder, tokenizer)\n",
        "\n",
        "    # To store the final mapping result\n",
        "    mapping_result = []\n",
        "    invoice_used = set()\n",
        "    po_used = set()\n",
        "\n",
        "    # Sort similarity matrix values to find best matches\n",
        "    sorted_matches = []\n",
        "    for i in range(len(invoices)):\n",
        "        for j in range(len(pos)):\n",
        "            sorted_matches.append((i, j, similarity_matrix[i, j]))  # (invoice index, PO index, similarity score)\n",
        "\n",
        "    # Sort based on similarity score in descending order\n",
        "    sorted_matches = sorted(sorted_matches, key=lambda x: x[2], reverse=True)\n",
        "\n",
        "    # Map the best matches first\n",
        "    for i, j, similarity in sorted_matches:\n",
        "        if i not in invoice_used and j not in po_used:\n",
        "            if similarity >= threshold:\n",
        "                mapping_result.append({invoices[i]: pos[j]})\n",
        "                invoice_used.add(i)\n",
        "                po_used.add(j)\n",
        "            else:\n",
        "                mapping_result.append({invoices[i]: 'NA'})\n",
        "                invoice_used.add(i)\n",
        "\n",
        "    # For any remaining invoices or POs that haven't been matched, map to 'NA'\n",
        "    for i, invoice in enumerate(invoices):\n",
        "        if i not in invoice_used:\n",
        "            mapping_result.append({invoice: 'NA'})\n",
        "\n",
        "    for j, po in enumerate(pos):\n",
        "        if j not in po_used:\n",
        "            mapping_result.append({'NA': po})\n",
        "\n",
        "    return mapping_result"
      ]
    },
    {
      "cell_type": "code",
      "execution_count": null,
      "metadata": {
        "id": "ayY95eZg9ocM"
      },
      "outputs": [],
      "source": [
        "def compare_lists_of_dicts(list1, list2):\n",
        "    # Convert each dict to a sorted tuple of key-value pairs\n",
        "    list1_normalized = sorted([sorted(d.items()) for d in list1])\n",
        "    list2_normalized = sorted([sorted(d.items()) for d in list2])\n",
        "\n",
        "    # Compare the normalized lists\n",
        "    return list1_normalized == list2_normalized"
      ]
    },
    {
      "cell_type": "code",
      "execution_count": null,
      "metadata": {
        "colab": {
          "base_uri": "https://localhost:8080/",
          "height": 147
        },
        "id": "Z7o1-g6DCjcE",
        "outputId": "e608df4d-258b-43e7-e442-4e2565ffc8fa"
      },
      "outputs": [
        {
          "output_type": "execute_result",
          "data": {
            "text/plain": [
              "     invoice_id                                       invoice_desc  \\\n",
              "0  INV-49266647  ['25103 ICE CREAM MANGO SORBETTO TRAY', 'ICE C...   \n",
              "1  INV-49266660  ['ICE CREAM GELATO MACKINAC FDGE 3/5LT', 'ICE ...   \n",
              "\n",
              "                                        PO_line_desc  \\\n",
              "0  ['ICE CREAM MANGO SORBETTO TRAY', 'ICE CREAM G...   \n",
              "1  ['ICE CREAM GELATO MACKINAC FDGE', 'ICE CREAM ...   \n",
              "\n",
              "                                        true_mapping  \n",
              "0  [{'25103 ICE CREAM MANGO SORBETTO TRAY': 'ICE ...  \n",
              "1  [{'ICE CREAM GELATO MACKINAC FDGE 3/5LT': 'ICE...  "
            ],
            "text/html": [
              "\n",
              "  <div id=\"df-d0f8d9ed-a927-4a6b-88a6-6ba24dbee00e\" class=\"colab-df-container\">\n",
              "    <div>\n",
              "<style scoped>\n",
              "    .dataframe tbody tr th:only-of-type {\n",
              "        vertical-align: middle;\n",
              "    }\n",
              "\n",
              "    .dataframe tbody tr th {\n",
              "        vertical-align: top;\n",
              "    }\n",
              "\n",
              "    .dataframe thead th {\n",
              "        text-align: right;\n",
              "    }\n",
              "</style>\n",
              "<table border=\"1\" class=\"dataframe\">\n",
              "  <thead>\n",
              "    <tr style=\"text-align: right;\">\n",
              "      <th></th>\n",
              "      <th>invoice_id</th>\n",
              "      <th>invoice_desc</th>\n",
              "      <th>PO_line_desc</th>\n",
              "      <th>true_mapping</th>\n",
              "    </tr>\n",
              "  </thead>\n",
              "  <tbody>\n",
              "    <tr>\n",
              "      <th>0</th>\n",
              "      <td>INV-49266647</td>\n",
              "      <td>['25103 ICE CREAM MANGO SORBETTO TRAY', 'ICE C...</td>\n",
              "      <td>['ICE CREAM MANGO SORBETTO TRAY', 'ICE CREAM G...</td>\n",
              "      <td>[{'25103 ICE CREAM MANGO SORBETTO TRAY': 'ICE ...</td>\n",
              "    </tr>\n",
              "    <tr>\n",
              "      <th>1</th>\n",
              "      <td>INV-49266660</td>\n",
              "      <td>['ICE CREAM GELATO MACKINAC FDGE 3/5LT', 'ICE ...</td>\n",
              "      <td>['ICE CREAM GELATO MACKINAC FDGE', 'ICE CREAM ...</td>\n",
              "      <td>[{'ICE CREAM GELATO MACKINAC FDGE 3/5LT': 'ICE...</td>\n",
              "    </tr>\n",
              "  </tbody>\n",
              "</table>\n",
              "</div>\n",
              "    <div class=\"colab-df-buttons\">\n",
              "\n",
              "  <div class=\"colab-df-container\">\n",
              "    <button class=\"colab-df-convert\" onclick=\"convertToInteractive('df-d0f8d9ed-a927-4a6b-88a6-6ba24dbee00e')\"\n",
              "            title=\"Convert this dataframe to an interactive table.\"\n",
              "            style=\"display:none;\">\n",
              "\n",
              "  <svg xmlns=\"http://www.w3.org/2000/svg\" height=\"24px\" viewBox=\"0 -960 960 960\">\n",
              "    <path d=\"M120-120v-720h720v720H120Zm60-500h600v-160H180v160Zm220 220h160v-160H400v160Zm0 220h160v-160H400v160ZM180-400h160v-160H180v160Zm440 0h160v-160H620v160ZM180-180h160v-160H180v160Zm440 0h160v-160H620v160Z\"/>\n",
              "  </svg>\n",
              "    </button>\n",
              "\n",
              "  <style>\n",
              "    .colab-df-container {\n",
              "      display:flex;\n",
              "      gap: 12px;\n",
              "    }\n",
              "\n",
              "    .colab-df-convert {\n",
              "      background-color: #E8F0FE;\n",
              "      border: none;\n",
              "      border-radius: 50%;\n",
              "      cursor: pointer;\n",
              "      display: none;\n",
              "      fill: #1967D2;\n",
              "      height: 32px;\n",
              "      padding: 0 0 0 0;\n",
              "      width: 32px;\n",
              "    }\n",
              "\n",
              "    .colab-df-convert:hover {\n",
              "      background-color: #E2EBFA;\n",
              "      box-shadow: 0px 1px 2px rgba(60, 64, 67, 0.3), 0px 1px 3px 1px rgba(60, 64, 67, 0.15);\n",
              "      fill: #174EA6;\n",
              "    }\n",
              "\n",
              "    .colab-df-buttons div {\n",
              "      margin-bottom: 4px;\n",
              "    }\n",
              "\n",
              "    [theme=dark] .colab-df-convert {\n",
              "      background-color: #3B4455;\n",
              "      fill: #D2E3FC;\n",
              "    }\n",
              "\n",
              "    [theme=dark] .colab-df-convert:hover {\n",
              "      background-color: #434B5C;\n",
              "      box-shadow: 0px 1px 3px 1px rgba(0, 0, 0, 0.15);\n",
              "      filter: drop-shadow(0px 1px 2px rgba(0, 0, 0, 0.3));\n",
              "      fill: #FFFFFF;\n",
              "    }\n",
              "  </style>\n",
              "\n",
              "    <script>\n",
              "      const buttonEl =\n",
              "        document.querySelector('#df-d0f8d9ed-a927-4a6b-88a6-6ba24dbee00e button.colab-df-convert');\n",
              "      buttonEl.style.display =\n",
              "        google.colab.kernel.accessAllowed ? 'block' : 'none';\n",
              "\n",
              "      async function convertToInteractive(key) {\n",
              "        const element = document.querySelector('#df-d0f8d9ed-a927-4a6b-88a6-6ba24dbee00e');\n",
              "        const dataTable =\n",
              "          await google.colab.kernel.invokeFunction('convertToInteractive',\n",
              "                                                    [key], {});\n",
              "        if (!dataTable) return;\n",
              "\n",
              "        const docLinkHtml = 'Like what you see? Visit the ' +\n",
              "          '<a target=\"_blank\" href=https://colab.research.google.com/notebooks/data_table.ipynb>data table notebook</a>'\n",
              "          + ' to learn more about interactive tables.';\n",
              "        element.innerHTML = '';\n",
              "        dataTable['output_type'] = 'display_data';\n",
              "        await google.colab.output.renderOutput(dataTable, element);\n",
              "        const docLink = document.createElement('div');\n",
              "        docLink.innerHTML = docLinkHtml;\n",
              "        element.appendChild(docLink);\n",
              "      }\n",
              "    </script>\n",
              "  </div>\n",
              "\n",
              "\n",
              "<div id=\"df-17751e70-dc51-4707-85e8-dfcbe47578e8\">\n",
              "  <button class=\"colab-df-quickchart\" onclick=\"quickchart('df-17751e70-dc51-4707-85e8-dfcbe47578e8')\"\n",
              "            title=\"Suggest charts\"\n",
              "            style=\"display:none;\">\n",
              "\n",
              "<svg xmlns=\"http://www.w3.org/2000/svg\" height=\"24px\"viewBox=\"0 0 24 24\"\n",
              "     width=\"24px\">\n",
              "    <g>\n",
              "        <path d=\"M19 3H5c-1.1 0-2 .9-2 2v14c0 1.1.9 2 2 2h14c1.1 0 2-.9 2-2V5c0-1.1-.9-2-2-2zM9 17H7v-7h2v7zm4 0h-2V7h2v10zm4 0h-2v-4h2v4z\"/>\n",
              "    </g>\n",
              "</svg>\n",
              "  </button>\n",
              "\n",
              "<style>\n",
              "  .colab-df-quickchart {\n",
              "      --bg-color: #E8F0FE;\n",
              "      --fill-color: #1967D2;\n",
              "      --hover-bg-color: #E2EBFA;\n",
              "      --hover-fill-color: #174EA6;\n",
              "      --disabled-fill-color: #AAA;\n",
              "      --disabled-bg-color: #DDD;\n",
              "  }\n",
              "\n",
              "  [theme=dark] .colab-df-quickchart {\n",
              "      --bg-color: #3B4455;\n",
              "      --fill-color: #D2E3FC;\n",
              "      --hover-bg-color: #434B5C;\n",
              "      --hover-fill-color: #FFFFFF;\n",
              "      --disabled-bg-color: #3B4455;\n",
              "      --disabled-fill-color: #666;\n",
              "  }\n",
              "\n",
              "  .colab-df-quickchart {\n",
              "    background-color: var(--bg-color);\n",
              "    border: none;\n",
              "    border-radius: 50%;\n",
              "    cursor: pointer;\n",
              "    display: none;\n",
              "    fill: var(--fill-color);\n",
              "    height: 32px;\n",
              "    padding: 0;\n",
              "    width: 32px;\n",
              "  }\n",
              "\n",
              "  .colab-df-quickchart:hover {\n",
              "    background-color: var(--hover-bg-color);\n",
              "    box-shadow: 0 1px 2px rgba(60, 64, 67, 0.3), 0 1px 3px 1px rgba(60, 64, 67, 0.15);\n",
              "    fill: var(--button-hover-fill-color);\n",
              "  }\n",
              "\n",
              "  .colab-df-quickchart-complete:disabled,\n",
              "  .colab-df-quickchart-complete:disabled:hover {\n",
              "    background-color: var(--disabled-bg-color);\n",
              "    fill: var(--disabled-fill-color);\n",
              "    box-shadow: none;\n",
              "  }\n",
              "\n",
              "  .colab-df-spinner {\n",
              "    border: 2px solid var(--fill-color);\n",
              "    border-color: transparent;\n",
              "    border-bottom-color: var(--fill-color);\n",
              "    animation:\n",
              "      spin 1s steps(1) infinite;\n",
              "  }\n",
              "\n",
              "  @keyframes spin {\n",
              "    0% {\n",
              "      border-color: transparent;\n",
              "      border-bottom-color: var(--fill-color);\n",
              "      border-left-color: var(--fill-color);\n",
              "    }\n",
              "    20% {\n",
              "      border-color: transparent;\n",
              "      border-left-color: var(--fill-color);\n",
              "      border-top-color: var(--fill-color);\n",
              "    }\n",
              "    30% {\n",
              "      border-color: transparent;\n",
              "      border-left-color: var(--fill-color);\n",
              "      border-top-color: var(--fill-color);\n",
              "      border-right-color: var(--fill-color);\n",
              "    }\n",
              "    40% {\n",
              "      border-color: transparent;\n",
              "      border-right-color: var(--fill-color);\n",
              "      border-top-color: var(--fill-color);\n",
              "    }\n",
              "    60% {\n",
              "      border-color: transparent;\n",
              "      border-right-color: var(--fill-color);\n",
              "    }\n",
              "    80% {\n",
              "      border-color: transparent;\n",
              "      border-right-color: var(--fill-color);\n",
              "      border-bottom-color: var(--fill-color);\n",
              "    }\n",
              "    90% {\n",
              "      border-color: transparent;\n",
              "      border-bottom-color: var(--fill-color);\n",
              "    }\n",
              "  }\n",
              "</style>\n",
              "\n",
              "  <script>\n",
              "    async function quickchart(key) {\n",
              "      const quickchartButtonEl =\n",
              "        document.querySelector('#' + key + ' button');\n",
              "      quickchartButtonEl.disabled = true;  // To prevent multiple clicks.\n",
              "      quickchartButtonEl.classList.add('colab-df-spinner');\n",
              "      try {\n",
              "        const charts = await google.colab.kernel.invokeFunction(\n",
              "            'suggestCharts', [key], {});\n",
              "      } catch (error) {\n",
              "        console.error('Error during call to suggestCharts:', error);\n",
              "      }\n",
              "      quickchartButtonEl.classList.remove('colab-df-spinner');\n",
              "      quickchartButtonEl.classList.add('colab-df-quickchart-complete');\n",
              "    }\n",
              "    (() => {\n",
              "      let quickchartButtonEl =\n",
              "        document.querySelector('#df-17751e70-dc51-4707-85e8-dfcbe47578e8 button');\n",
              "      quickchartButtonEl.style.display =\n",
              "        google.colab.kernel.accessAllowed ? 'block' : 'none';\n",
              "    })();\n",
              "  </script>\n",
              "</div>\n",
              "\n",
              "    </div>\n",
              "  </div>\n"
            ],
            "application/vnd.google.colaboratory.intrinsic+json": {
              "type": "dataframe",
              "variable_name": "val_df",
              "summary": "{\n  \"name\": \"val_df\",\n  \"rows\": 946,\n  \"fields\": [\n    {\n      \"column\": \"invoice_id\",\n      \"properties\": {\n        \"dtype\": \"string\",\n        \"num_unique_values\": 946,\n        \"samples\": [\n          \"INV-49789628\",\n          \"INV-49281661\",\n          \"INV-50227628\"\n        ],\n        \"semantic_type\": \"\",\n        \"description\": \"\"\n      }\n    },\n    {\n      \"column\": \"invoice_desc\",\n      \"properties\": {\n        \"dtype\": \"string\",\n        \"num_unique_values\": 830,\n        \"samples\": [\n          \"['HALIBUT FLETCH SKIN-ON MEIERS FRESH -', 'SALMON FIL SKON 4-5 TIGHT TRIM - Canada']\",\n          \"['Dough Pizza 10in Hnd Tssed Lg', 'Dough Pizza Indiv Famous Thin', 'Dough Pizza Small Famous Thin', 'Dough Pizza Thick 14in New', 'Meatball Beef & Pork Preck Rnd', 'Pizza Crust Cauliflower 10', '-Sausage Ital Family Recipe Top']\",\n          \"['BRANZINO BFLY 8-10 OZ', 'HALIBUT H&G 10-20#', 'HAMACHI FIL S/ON', 'OYSTER IN SHELL BBQ', 'OYSTER EASTERN INSHELL', 'SALMON ATL FLT 3-4#S/ON', 'SALMON ATL FLT 3-4#S/L', 'SALMON ATL PRTN 5OZ', 'SALMON FIL SKON D-TRIM', 'TUNA AHI #1 C/C LOIN']\"\n        ],\n        \"semantic_type\": \"\",\n        \"description\": \"\"\n      }\n    },\n    {\n      \"column\": \"PO_line_desc\",\n      \"properties\": {\n        \"dtype\": \"string\",\n        \"num_unique_values\": 777,\n        \"samples\": [\n          \"['HALIBUT FILET FRSH', 'HALIBUT FLETCH SKON MEIERS', 'MIX SOUP HONDASHI', 'SALMON ATL WHL FRSH 14-16#', 'SALMON FIL SCOTTISH SCALED', 'SALMON WHL KNG ORA', 'SAUCE MIRIN WINE', 'SEASONING RICE FURIKAKE', 'SPICE WASABI PWDR W/WASABITS', 'VINEGAR RICE SHIRAGIKU']\",\n          \"['SALMON ATLANTIC D TRIM PBO', 'SALMON ATL FIL SKLS 3-4# PREM', 'SALMON ATL FIL 2-3 E TRIM']\",\n          \"['CHEESE MARIACHI SPICE MIX', 'CHEESE PROVOLONE SHRD', 'CHEESE ROMANO OREGANO BLEND', 'HAM SLI CKD', 'PEPPERONI SLICED', 'SALAMI HARD SLI']\"\n        ],\n        \"semantic_type\": \"\",\n        \"description\": \"\"\n      }\n    },\n    {\n      \"column\": \"true_mapping\",\n      \"properties\": {\n        \"dtype\": \"string\",\n        \"num_unique_values\": 830,\n        \"samples\": [\n          \"[{'HALIBUT FLETCH SKIN-ON MEIERS FRESH -': 'HALIBUT FLETCH SKON MEIERS'}, {'SALMON FIL SKON 4-5 TIGHT TRIM - Canada': 'SALMON FIL SKON 4-5 TIGHT TRIM'}]\",\n          \"[{'Dough Pizza 10in Hnd Tssed Lg': 'DOUGH PIZZA 10IN HND TSSED LG'}, {'Dough Pizza Indiv Famous Thin': 'DOUGH PIZZA INDIV FAMOUS THIN'}, {'Dough Pizza Small Famous Thin': 'DOUGH PIZZA SMALL FAMOUS THIN'}, {'Dough Pizza Thick 14in New': 'DOUGH PIZZA THICK 14IN NEW'}, {'Meatball Beef & Pork Preck Rnd': 'MEATBALL BEEF & PORK PRECK RND'}, {'Pizza Crust Cauliflower 10': 'PIZZA CRUST CAULIFLOWER 10'}, {'-Sausage Ital Family Recipe Top': 'SAUSAGE ITAL FAMILY RECIPE TOP'}]\",\n          \"[{'BRANZINO BFLY 8-10 OZ': 'BASS SEA BFLY BRANZINO 8-10 OZ'}, {'HALIBUT H&G 10-20#': 'HALIBUT WHL FRSH 10-20#'}, {'HAMACHI FIL S/ON': 'HAMACHI FILET S/ON YELLOWTAIL'}, {'OYSTER IN SHELL BBQ': 'OYSTER INSHELL BBQ SHELL XLG'}, {'OYSTER EASTERN INSHELL': 'OYSTER INSHELL BLUEPOINT'}, {'SALMON ATL FLT 3-4#S/ON': 'SALMON ATL FIL D-TRIM 3-4# CHL'}, {'SALMON ATL FLT 3-4#S/L': 'SALMON ATL FIL E-TRIM 3-4# CHL'}, {'SALMON ATL PRTN 5OZ': 'SALMON ATL PRTN 5OZ FRESH'}, {'SALMON FIL SKON D-TRIM': 'SALMON FIL SKON D-TRIM'}, {'TUNA AHI #1 C/C LOIN': 'TUNA LOIN #1 C/C SKLS BLO'}]\"\n        ],\n        \"semantic_type\": \"\",\n        \"description\": \"\"\n      }\n    }\n  ]\n}"
            }
          },
          "metadata": {},
          "execution_count": 225
        }
      ],
      "source": [
        "val_df = pd.read_csv(\"/content/drive/MyDrive/Invoice_PO_Match/validation_formatted 1.csv\")\n",
        "val_df.head(2)"
      ]
    },
    {
      "cell_type": "code",
      "source": [
        "hval = pd.read_csv(\"/content/drive/MyDrive/Invoice_PO_Match/Test-Data_red_prompt.csv\")\n",
        "hval.head(2)"
      ],
      "metadata": {
        "colab": {
          "base_uri": "https://localhost:8080/",
          "height": 181
        },
        "id": "7T8bcbCOJG3L",
        "outputId": "1e2d4996-8776-43fb-ed26-5c9591f749dd"
      },
      "execution_count": null,
      "outputs": [
        {
          "output_type": "execute_result",
          "data": {
            "text/plain": [
              "   Cora_Case_Id                    Inv_Product_Service_Description  \\\n",
              "0  INV-49272221                            ['DMQ-21 DQ BLIZ 2023']   \n",
              "1  INV-50292392  ['SMR-10 COMPASS STAND-', 'DMR-22 BURGERFI 202...   \n",
              "\n",
              "                 PO_Line_Product_Service_Description  \\\n",
              "0                    ['CUP PAPER CLD 21 OZ DQ 2023']   \n",
              "1  ['CUP HOT PAPER 10OZ', 'CUP PAPER CLD 22 OZ BU...   \n",
              "\n",
              "                                          True_Value  \\\n",
              "0  [{'DMQ-21 DQ BLIZ 2023': 'CUP PAPER CLD 21 OZ ...   \n",
              "1  [{'DMR-22 JIMMY JOHNS21': 'CUP POLY CLD JMYJ 2...   \n",
              "\n",
              "                                              Output  \n",
              "0  [{'DMQ-21 DQ BLIZ 2023': 'CUP PAPER CLD 21 OZ ...  \n",
              "1  [{'SMR-10 COMPASS STAND-': 'CUP PAPER HOT SMR-...  "
            ],
            "text/html": [
              "\n",
              "  <div id=\"df-14a49ff7-bfc3-4f38-9757-07aa24f8a9e4\" class=\"colab-df-container\">\n",
              "    <div>\n",
              "<style scoped>\n",
              "    .dataframe tbody tr th:only-of-type {\n",
              "        vertical-align: middle;\n",
              "    }\n",
              "\n",
              "    .dataframe tbody tr th {\n",
              "        vertical-align: top;\n",
              "    }\n",
              "\n",
              "    .dataframe thead th {\n",
              "        text-align: right;\n",
              "    }\n",
              "</style>\n",
              "<table border=\"1\" class=\"dataframe\">\n",
              "  <thead>\n",
              "    <tr style=\"text-align: right;\">\n",
              "      <th></th>\n",
              "      <th>Cora_Case_Id</th>\n",
              "      <th>Inv_Product_Service_Description</th>\n",
              "      <th>PO_Line_Product_Service_Description</th>\n",
              "      <th>True_Value</th>\n",
              "      <th>Output</th>\n",
              "    </tr>\n",
              "  </thead>\n",
              "  <tbody>\n",
              "    <tr>\n",
              "      <th>0</th>\n",
              "      <td>INV-49272221</td>\n",
              "      <td>['DMQ-21 DQ BLIZ 2023']</td>\n",
              "      <td>['CUP PAPER CLD 21 OZ DQ 2023']</td>\n",
              "      <td>[{'DMQ-21 DQ BLIZ 2023': 'CUP PAPER CLD 21 OZ ...</td>\n",
              "      <td>[{'DMQ-21 DQ BLIZ 2023': 'CUP PAPER CLD 21 OZ ...</td>\n",
              "    </tr>\n",
              "    <tr>\n",
              "      <th>1</th>\n",
              "      <td>INV-50292392</td>\n",
              "      <td>['SMR-10 COMPASS STAND-', 'DMR-22 BURGERFI 202...</td>\n",
              "      <td>['CUP HOT PAPER 10OZ', 'CUP PAPER CLD 22 OZ BU...</td>\n",
              "      <td>[{'DMR-22 JIMMY JOHNS21': 'CUP POLY CLD JMYJ 2...</td>\n",
              "      <td>[{'SMR-10 COMPASS STAND-': 'CUP PAPER HOT SMR-...</td>\n",
              "    </tr>\n",
              "  </tbody>\n",
              "</table>\n",
              "</div>\n",
              "    <div class=\"colab-df-buttons\">\n",
              "\n",
              "  <div class=\"colab-df-container\">\n",
              "    <button class=\"colab-df-convert\" onclick=\"convertToInteractive('df-14a49ff7-bfc3-4f38-9757-07aa24f8a9e4')\"\n",
              "            title=\"Convert this dataframe to an interactive table.\"\n",
              "            style=\"display:none;\">\n",
              "\n",
              "  <svg xmlns=\"http://www.w3.org/2000/svg\" height=\"24px\" viewBox=\"0 -960 960 960\">\n",
              "    <path d=\"M120-120v-720h720v720H120Zm60-500h600v-160H180v160Zm220 220h160v-160H400v160Zm0 220h160v-160H400v160ZM180-400h160v-160H180v160Zm440 0h160v-160H620v160ZM180-180h160v-160H180v160Zm440 0h160v-160H620v160Z\"/>\n",
              "  </svg>\n",
              "    </button>\n",
              "\n",
              "  <style>\n",
              "    .colab-df-container {\n",
              "      display:flex;\n",
              "      gap: 12px;\n",
              "    }\n",
              "\n",
              "    .colab-df-convert {\n",
              "      background-color: #E8F0FE;\n",
              "      border: none;\n",
              "      border-radius: 50%;\n",
              "      cursor: pointer;\n",
              "      display: none;\n",
              "      fill: #1967D2;\n",
              "      height: 32px;\n",
              "      padding: 0 0 0 0;\n",
              "      width: 32px;\n",
              "    }\n",
              "\n",
              "    .colab-df-convert:hover {\n",
              "      background-color: #E2EBFA;\n",
              "      box-shadow: 0px 1px 2px rgba(60, 64, 67, 0.3), 0px 1px 3px 1px rgba(60, 64, 67, 0.15);\n",
              "      fill: #174EA6;\n",
              "    }\n",
              "\n",
              "    .colab-df-buttons div {\n",
              "      margin-bottom: 4px;\n",
              "    }\n",
              "\n",
              "    [theme=dark] .colab-df-convert {\n",
              "      background-color: #3B4455;\n",
              "      fill: #D2E3FC;\n",
              "    }\n",
              "\n",
              "    [theme=dark] .colab-df-convert:hover {\n",
              "      background-color: #434B5C;\n",
              "      box-shadow: 0px 1px 3px 1px rgba(0, 0, 0, 0.15);\n",
              "      filter: drop-shadow(0px 1px 2px rgba(0, 0, 0, 0.3));\n",
              "      fill: #FFFFFF;\n",
              "    }\n",
              "  </style>\n",
              "\n",
              "    <script>\n",
              "      const buttonEl =\n",
              "        document.querySelector('#df-14a49ff7-bfc3-4f38-9757-07aa24f8a9e4 button.colab-df-convert');\n",
              "      buttonEl.style.display =\n",
              "        google.colab.kernel.accessAllowed ? 'block' : 'none';\n",
              "\n",
              "      async function convertToInteractive(key) {\n",
              "        const element = document.querySelector('#df-14a49ff7-bfc3-4f38-9757-07aa24f8a9e4');\n",
              "        const dataTable =\n",
              "          await google.colab.kernel.invokeFunction('convertToInteractive',\n",
              "                                                    [key], {});\n",
              "        if (!dataTable) return;\n",
              "\n",
              "        const docLinkHtml = 'Like what you see? Visit the ' +\n",
              "          '<a target=\"_blank\" href=https://colab.research.google.com/notebooks/data_table.ipynb>data table notebook</a>'\n",
              "          + ' to learn more about interactive tables.';\n",
              "        element.innerHTML = '';\n",
              "        dataTable['output_type'] = 'display_data';\n",
              "        await google.colab.output.renderOutput(dataTable, element);\n",
              "        const docLink = document.createElement('div');\n",
              "        docLink.innerHTML = docLinkHtml;\n",
              "        element.appendChild(docLink);\n",
              "      }\n",
              "    </script>\n",
              "  </div>\n",
              "\n",
              "\n",
              "<div id=\"df-ba667c81-e8a4-4bbc-98df-cbd136878e13\">\n",
              "  <button class=\"colab-df-quickchart\" onclick=\"quickchart('df-ba667c81-e8a4-4bbc-98df-cbd136878e13')\"\n",
              "            title=\"Suggest charts\"\n",
              "            style=\"display:none;\">\n",
              "\n",
              "<svg xmlns=\"http://www.w3.org/2000/svg\" height=\"24px\"viewBox=\"0 0 24 24\"\n",
              "     width=\"24px\">\n",
              "    <g>\n",
              "        <path d=\"M19 3H5c-1.1 0-2 .9-2 2v14c0 1.1.9 2 2 2h14c1.1 0 2-.9 2-2V5c0-1.1-.9-2-2-2zM9 17H7v-7h2v7zm4 0h-2V7h2v10zm4 0h-2v-4h2v4z\"/>\n",
              "    </g>\n",
              "</svg>\n",
              "  </button>\n",
              "\n",
              "<style>\n",
              "  .colab-df-quickchart {\n",
              "      --bg-color: #E8F0FE;\n",
              "      --fill-color: #1967D2;\n",
              "      --hover-bg-color: #E2EBFA;\n",
              "      --hover-fill-color: #174EA6;\n",
              "      --disabled-fill-color: #AAA;\n",
              "      --disabled-bg-color: #DDD;\n",
              "  }\n",
              "\n",
              "  [theme=dark] .colab-df-quickchart {\n",
              "      --bg-color: #3B4455;\n",
              "      --fill-color: #D2E3FC;\n",
              "      --hover-bg-color: #434B5C;\n",
              "      --hover-fill-color: #FFFFFF;\n",
              "      --disabled-bg-color: #3B4455;\n",
              "      --disabled-fill-color: #666;\n",
              "  }\n",
              "\n",
              "  .colab-df-quickchart {\n",
              "    background-color: var(--bg-color);\n",
              "    border: none;\n",
              "    border-radius: 50%;\n",
              "    cursor: pointer;\n",
              "    display: none;\n",
              "    fill: var(--fill-color);\n",
              "    height: 32px;\n",
              "    padding: 0;\n",
              "    width: 32px;\n",
              "  }\n",
              "\n",
              "  .colab-df-quickchart:hover {\n",
              "    background-color: var(--hover-bg-color);\n",
              "    box-shadow: 0 1px 2px rgba(60, 64, 67, 0.3), 0 1px 3px 1px rgba(60, 64, 67, 0.15);\n",
              "    fill: var(--button-hover-fill-color);\n",
              "  }\n",
              "\n",
              "  .colab-df-quickchart-complete:disabled,\n",
              "  .colab-df-quickchart-complete:disabled:hover {\n",
              "    background-color: var(--disabled-bg-color);\n",
              "    fill: var(--disabled-fill-color);\n",
              "    box-shadow: none;\n",
              "  }\n",
              "\n",
              "  .colab-df-spinner {\n",
              "    border: 2px solid var(--fill-color);\n",
              "    border-color: transparent;\n",
              "    border-bottom-color: var(--fill-color);\n",
              "    animation:\n",
              "      spin 1s steps(1) infinite;\n",
              "  }\n",
              "\n",
              "  @keyframes spin {\n",
              "    0% {\n",
              "      border-color: transparent;\n",
              "      border-bottom-color: var(--fill-color);\n",
              "      border-left-color: var(--fill-color);\n",
              "    }\n",
              "    20% {\n",
              "      border-color: transparent;\n",
              "      border-left-color: var(--fill-color);\n",
              "      border-top-color: var(--fill-color);\n",
              "    }\n",
              "    30% {\n",
              "      border-color: transparent;\n",
              "      border-left-color: var(--fill-color);\n",
              "      border-top-color: var(--fill-color);\n",
              "      border-right-color: var(--fill-color);\n",
              "    }\n",
              "    40% {\n",
              "      border-color: transparent;\n",
              "      border-right-color: var(--fill-color);\n",
              "      border-top-color: var(--fill-color);\n",
              "    }\n",
              "    60% {\n",
              "      border-color: transparent;\n",
              "      border-right-color: var(--fill-color);\n",
              "    }\n",
              "    80% {\n",
              "      border-color: transparent;\n",
              "      border-right-color: var(--fill-color);\n",
              "      border-bottom-color: var(--fill-color);\n",
              "    }\n",
              "    90% {\n",
              "      border-color: transparent;\n",
              "      border-bottom-color: var(--fill-color);\n",
              "    }\n",
              "  }\n",
              "</style>\n",
              "\n",
              "  <script>\n",
              "    async function quickchart(key) {\n",
              "      const quickchartButtonEl =\n",
              "        document.querySelector('#' + key + ' button');\n",
              "      quickchartButtonEl.disabled = true;  // To prevent multiple clicks.\n",
              "      quickchartButtonEl.classList.add('colab-df-spinner');\n",
              "      try {\n",
              "        const charts = await google.colab.kernel.invokeFunction(\n",
              "            'suggestCharts', [key], {});\n",
              "      } catch (error) {\n",
              "        console.error('Error during call to suggestCharts:', error);\n",
              "      }\n",
              "      quickchartButtonEl.classList.remove('colab-df-spinner');\n",
              "      quickchartButtonEl.classList.add('colab-df-quickchart-complete');\n",
              "    }\n",
              "    (() => {\n",
              "      let quickchartButtonEl =\n",
              "        document.querySelector('#df-ba667c81-e8a4-4bbc-98df-cbd136878e13 button');\n",
              "      quickchartButtonEl.style.display =\n",
              "        google.colab.kernel.accessAllowed ? 'block' : 'none';\n",
              "    })();\n",
              "  </script>\n",
              "</div>\n",
              "\n",
              "    </div>\n",
              "  </div>\n"
            ],
            "application/vnd.google.colaboratory.intrinsic+json": {
              "type": "dataframe",
              "variable_name": "hval",
              "summary": "{\n  \"name\": \"hval\",\n  \"rows\": 105,\n  \"fields\": [\n    {\n      \"column\": \"Cora_Case_Id\",\n      \"properties\": {\n        \"dtype\": \"string\",\n        \"num_unique_values\": 105,\n        \"samples\": [\n          \"INV-49455752\",\n          \"INV-50028275\",\n          \"INV-50021583\"\n        ],\n        \"semantic_type\": \"\",\n        \"description\": \"\"\n      }\n    },\n    {\n      \"column\": \"Inv_Product_Service_Description\",\n      \"properties\": {\n        \"dtype\": \"string\",\n        \"num_unique_values\": 99,\n        \"samples\": [\n          \"['Liquid Whole Egg w/ CA 15/2 LB 10 Weeks Deb El Master', 'Liquid Whole Egg w/ CA 15/2 LB 10 Weeks Deb El-Cage', 'Liquid Whole with CA Cage Free Bag-N-Box 2/20 LB', 'Hard Cook Eggs 12/12 144 Ct', 'Hard Cook Eggs 12/12144 CL - Cage Free']\",\n          \"['Playa Acai Sysco', 'Playa Coconut Sysco', 'Playa Pitaya Sysco', '3 gallon mango sorbet']\",\n          \"['GRD B PATTI WOLV', '8z THK CAB STKBRG', 'PUCK 80/20 GRD BF 4219673', 'THK CAB CHU FRSH WLV', 'PUCK 75/25 GRD BF PTY', 'Puck 75/25 GRD BF PTY', 'PUCKIE 35D 75/25 GRD BF', '80/20 GR BF-FRSH', 'PUCK 75/25 GRD BF PTY', '4Z THK ANG CHU & BRISKET BLEND']\"\n        ],\n        \"semantic_type\": \"\",\n        \"description\": \"\"\n      }\n    },\n    {\n      \"column\": \"PO_Line_Product_Service_Description\",\n      \"properties\": {\n        \"dtype\": \"string\",\n        \"num_unique_values\": 97,\n        \"samples\": [\n          \"['EGG WHL LIQ CRTN', 'EGG HARDCOOKED & PLD PLLW PK', 'EGG WHL CG F LIQ W/CITRIC ACID', 'EGG HARDCOOKED & PLD CGE FREE', 'EGG LIQ WHL CAGE FREE W/CITRIC']\",\n          \"['SORBET ACAIA', 'SORBET COCONUT BLEND', 'SORBET FRUIT PITAYA PLAYA', 'SORBET MANGO PLAYA']\",\n          \"['BEEF GRND PTY ANG 4/1 THK FRSH', 'BEEF PATTY 80/20 WIDE 8/1', 'BEEF GRND PTY 75/25 8Z PK FRSH', 'BEEF GROUND BULK FRSH', 'BEEF PATTY CHUCK FRSH', 'BEEF PATTY GRND PUCK FRSH', 'BEEF PATTY GRND PUCK', 'BEEF PATTY GROUND LMREST', 'BEEF PATTY GROUND LM', 'BEEF PATTY STKBRG THICK FRSH']\"\n        ],\n        \"semantic_type\": \"\",\n        \"description\": \"\"\n      }\n    },\n    {\n      \"column\": \"True_Value\",\n      \"properties\": {\n        \"dtype\": \"string\",\n        \"num_unique_values\": 99,\n        \"samples\": [\n          \"[{'Hard Cook Eggs 12/12144 CL - Cage Free': 'EGG HARDCOOKED & PLD CGE FREE'}, {'Liquid Whole Egg w/ CA 15/2 LB 10 Weeks Deb El Master': 'EGG WHL LIQ CRTN'}, {'Hard Cook Eggs 12/12 144 Ct': 'EGG HARDCOOKED & PLD PLLW PK'}, {'Liquid Whole with CA Cage Free Bag-N-Box 2/20 LB': 'EGG LIQ WHL CAGE FREE W/CITRIC'}, {'Liquid Whole Egg w/ CA 15/2 LB 10 Weeks Deb El-Cage': 'EGG WHL CG F LIQ W/CITRIC ACID'}]\",\n          \"[{'Playa Coconut Sysco': 'SORBET COCONUT BLEND'}, {'Playa Pitaya Sysco': 'SORBET FRUIT PITAYA PLAYA'}, {'3 gallon mango sorbet': 'SORBET MANGO PLAYA'}, {'Playa Acai Sysco': 'SORBET ACAIA'}]\",\n          \"[{'80/20 GR BF-FRSH': 'BEEF GROUND BULK FRSH'}, {'GRD B PATTI WOLV': 'BEEF PATTY 80/20 WIDE 8/1'}, {'THK CAB CHU FRSH WLV': 'BEEF PATTY CHUCK FRSH'}, {'Puck 75/25 GRD BF PTY': 'BEEF PATTY GRND PUCK'}, {'PUCK 75/25 GRD BF PTY': 'BEEF PATTY GROUND LMREST'}, {'4Z THK ANG CHU & BRISKET BLEND': 'BEEF GRND PTY ANG 4/1 THK FRSH'}, {'PUCKIE 35D 75/25 GRD BF': 'BEEF PATTY GROUND LM'}, {'PUCK 75/25 GRD BF PTY': 'BEEF GRND PTY 75/25 8Z PK FRSH'}, {'PUCK 80/20 GRD BF 4219673': 'BEEF PATTY GRND PUCK FRSH'}, {'8z THK CAB STKBRG': 'BEEF PATTY STKBRG THICK FRSH'}]\"\n        ],\n        \"semantic_type\": \"\",\n        \"description\": \"\"\n      }\n    },\n    {\n      \"column\": \"Output\",\n      \"properties\": {\n        \"dtype\": \"string\",\n        \"num_unique_values\": 99,\n        \"samples\": [\n          \"[{'Liquid Whole Egg w/ CA 15/2 LB 10 Weeks Deb El Master': 'EGG WHL LIQ CRTN'}, {'Liquid Whole Egg w/ CA 15/2 LB 10 Weeks Deb El-Cage': 'EGG WHL LIQ CRTN'}, {'Liquid Whole with CA Cage Free Bag-N-Box 2/20 LB': 'EGG WHL CG F LIQ W/CITRIC ACID'}, {'Hard Cook Eggs 12/12 144 Ct': 'EGG HARDCOOKED & PLD PLLW PK'}, {'Hard Cook Eggs 12/12144 CL - Cage Free': 'EGG HARDCOOKED & PLD CGE FREE'}]\",\n          \"[{'Playa Acai Sysco': 'SORBET ACAIA'}, {'Playa Coconut Sysco': 'SORBET COCONUT BLEND'}, {'Playa Pitaya Sysco': 'SORBET FRUIT PITAYA PLAYA'}, {'3 gallon mango sorbet': 'SORBET MANGO PLAYA'}]\",\n          \"[{'GRD B PATTI WOLV': 'BEEF PATTY GROUND LM'}, {'8z THK CAB STKBRG': 'BEEF PATTY STKBRG THICK FRSH'}, {'PUCK 80/20 GRD BF 4219673': 'BEEF PATTY 80/20 WIDE 8/1'}, {'THK CAB CHU FRSH WLV': 'BEEF PATTY CHUCK FRSH'}, {'PUCK 75/25 GRD BF PTY': 'BEEF GRND PTY 75/25 8Z PK FRSH'}, {'Puck 75/25 GRD BF PTY': 'BEEF GRND PTY 75/25 8Z PK FRSH'}, {'PUCKIE 35D 75/25 GRD BF': 'BEEF PATTY GRND PUCK'}, {'80/20 GR BF-FRSH': 'BEEF GROUND BULK FRSH'}, {'4Z THK ANG CHU & BRISKET BLEND': 'BEEF PATTY GRND PUCK FRSH'}]\"\n        ],\n        \"semantic_type\": \"\",\n        \"description\": \"\"\n      }\n    }\n  ]\n}"
            }
          },
          "metadata": {},
          "execution_count": 219
        }
      ]
    },
    {
      "cell_type": "code",
      "source": [
        "# val_df = hval"
      ],
      "metadata": {
        "id": "7GHnSHcpJSXj"
      },
      "execution_count": null,
      "outputs": []
    },
    {
      "cell_type": "code",
      "execution_count": null,
      "metadata": {
        "id": "PtF8B5Rp-xLb"
      },
      "outputs": [],
      "source": [
        "result = []\n",
        "\n",
        "for i in range(len(val_df)):\n",
        "    # print(i)\n",
        "    invoice = ast.literal_eval(val_df[\"invoice_desc\"][i])\n",
        "    po = ast.literal_eval(val_df[\"PO_line_desc\"][i])\n",
        "    res = map_invoices_to_pos(invoice, po, cross_encoder, tokenizer, threshold=0.5)\n",
        "    result.append(res)"
      ]
    },
    {
      "cell_type": "code",
      "source": [
        "val_df[\"new_output\"] = result"
      ],
      "metadata": {
        "id": "iWqPOWUuFvcg"
      },
      "execution_count": null,
      "outputs": []
    },
    {
      "cell_type": "code",
      "execution_count": null,
      "metadata": {
        "colab": {
          "base_uri": "https://localhost:8080/"
        },
        "id": "PgNxT29y-Mcr",
        "outputId": "5810f56b-d561-4d64-fbf4-e11ff115d21e",
        "collapsed": true
      },
      "outputs": [
        {
          "output_type": "stream",
          "name": "stdout",
          "text": [
            "30\n",
            "45\n",
            "52\n",
            "60\n",
            "74\n",
            "75\n",
            "81\n",
            "94\n",
            "106\n",
            "124\n",
            "129\n",
            "130\n",
            "156\n",
            "164\n",
            "221\n",
            "237\n",
            "244\n",
            "288\n",
            "312\n",
            "317\n",
            "423\n",
            "455\n",
            "467\n",
            "473\n",
            "477\n",
            "489\n",
            "506\n",
            "521\n",
            "543\n",
            "549\n",
            "598\n",
            "601\n",
            "605\n",
            "608\n",
            "623\n",
            "627\n",
            "667\n",
            "694\n",
            "749\n",
            "766\n",
            "777\n",
            "790\n",
            "796\n",
            "798\n",
            "800\n",
            "803\n",
            "834\n",
            "843\n",
            "861\n",
            "928\n",
            "930\n",
            "932\n"
          ]
        }
      ],
      "source": [
        "correct = 0\n",
        "for i in range(len(val_df)):\n",
        "  if compare_lists_of_dicts(eval(val_df[\"true_mapping\"][i]),result[i]):\n",
        "    correct = correct + 1\n",
        "  else:\n",
        "    print(i)"
      ]
    },
    {
      "cell_type": "code",
      "execution_count": null,
      "metadata": {
        "colab": {
          "base_uri": "https://localhost:8080/"
        },
        "id": "Bjkqj6Dy_jb6",
        "outputId": "2ea69cd2-afa4-48c8-c7e0-5bc9181e9222"
      },
      "outputs": [
        {
          "output_type": "execute_result",
          "data": {
            "text/plain": [
              "0.945031712473573"
            ]
          },
          "metadata": {},
          "execution_count": 231
        }
      ],
      "source": [
        "acc = correct/len(val_df)\n",
        "acc"
      ]
    },
    {
      "cell_type": "code",
      "execution_count": null,
      "metadata": {
        "id": "VDBlavr1_leQ"
      },
      "outputs": [],
      "source": [
        "# Function to calculate precision, recall, and f1 score for a single sample\n",
        "def calculate_f1_for_sample(predicted, actual):\n",
        "    # Flatten the list of dicts to get a set of (key, value) tuples\n",
        "    predicted_set = set((k, v) for d in predicted for k, v in d.items())\n",
        "    actual_set = set((k, v) for d in actual for k, v in d.items())\n",
        "\n",
        "    # True Positives (TP): Correct matches found\n",
        "    tp = len(predicted_set & actual_set)\n",
        "\n",
        "    # False Positives (FP): Incorrect matches predicted\n",
        "    fp = len(predicted_set - actual_set)\n",
        "\n",
        "    # False Negatives (FN): Correct matches that were missed\n",
        "    fn = len(actual_set - predicted_set)\n",
        "\n",
        "    # Precision, Recall, F1 Score\n",
        "    precision = tp / (tp + fp) if (tp + fp) > 0 else 0\n",
        "    recall = tp / (tp + fn) if (tp + fn) > 0 else 0\n",
        "    f1 = 2 * (precision * recall) / (precision + recall) if (precision + recall) > 0 else 0\n",
        "\n",
        "    return precision, recall, f1"
      ]
    },
    {
      "cell_type": "code",
      "source": [
        "# Initialize lists to store precision, recall, and f1 scores for all samples\n",
        "precisions = []\n",
        "recalls = []\n",
        "f1_scores = []\n",
        "\n",
        "# Iterate over the dataset to calculate precision, recall, and F1 for each sample\n",
        "for i in range(len(val_df)):\n",
        "    predicted_mapping = val_df[\"new_output\"][i]\n",
        "    actual_mapping = ast.literal_eval(val_df[\"true_mapping\"][i])\n",
        "\n",
        "    # Calculate precision, recall, and F1 for the current sample\n",
        "    precision, recall, f1 = calculate_f1_for_sample(predicted_mapping, actual_mapping)\n",
        "\n",
        "    # Append the results to the respective lists\n",
        "    precisions.append(precision)\n",
        "    recalls.append(recall)\n",
        "    f1_scores.append(f1)"
      ],
      "metadata": {
        "id": "pg0nijV-E8Jp"
      },
      "execution_count": null,
      "outputs": []
    },
    {
      "cell_type": "code",
      "source": [
        "# Calculate average precision, recall, and F1 score across all samples\n",
        "average_precision = sum(precisions) / len(precisions)\n",
        "average_recall = sum(recalls) / len(recalls)\n",
        "average_f1_score = sum(f1_scores) / len(f1_scores)"
      ],
      "metadata": {
        "id": "HXNvFPa8FZX9"
      },
      "execution_count": null,
      "outputs": []
    },
    {
      "cell_type": "code",
      "source": [
        "# Output the results\n",
        "print(f\"Average Precision: {average_precision:.4f}\")\n",
        "print(f\"Average Recall: {average_recall:.4f}\")\n",
        "print(f\"Average F1 Score: {average_f1_score:.4f}\")"
      ],
      "metadata": {
        "colab": {
          "base_uri": "https://localhost:8080/"
        },
        "id": "WapAdC4dFbP1",
        "outputId": "905cd381-9920-4ee8-a6da-1e95b2f427a1"
      },
      "execution_count": null,
      "outputs": [
        {
          "output_type": "stream",
          "name": "stdout",
          "text": [
            "Average Precision: 0.9824\n",
            "Average Recall: 0.9830\n",
            "Average F1 Score: 0.9826\n"
          ]
        }
      ]
    },
    {
      "cell_type": "code",
      "source": [],
      "metadata": {
        "id": "KHNdZw_YOtXh"
      },
      "execution_count": null,
      "outputs": []
    }
  ],
  "metadata": {
    "accelerator": "GPU",
    "colab": {
      "gpuType": "T4",
      "provenance": [],
      "mount_file_id": "1kCmhfXeexNMMbOCCVYMp5UI7wWvPLBdz",
      "authorship_tag": "ABX9TyPoO1c8thrp335nBuue/LSx",
      "include_colab_link": true
    },
    "kernelspec": {
      "display_name": "Python 3",
      "name": "python3"
    },
    "language_info": {
      "name": "python"
    }
  },
  "nbformat": 4,
  "nbformat_minor": 0
}